{
 "cells": [
  {
   "cell_type": "code",
   "execution_count": 1,
   "metadata": {},
   "outputs": [],
   "source": [
    "import chart_studio, emoji, emot, os, re, stylecloud\n",
    "\n",
    "import chart_studio.plotly as py\n",
    "import pandas as pd\n",
    "import plotly.graph_objs as go\n",
    "\n",
    "from bertopic import BERTopic\n",
    "from collections import Counter\n",
    "from datetime import timedelta\n",
    "from emosent import get_emoji_sentiment_rank\n",
    "from nltk.sentiment.vader import SentimentIntensityAnalyzer\n",
    "from plotly.subplots import make_subplots\n",
    "from umap import UMAP\n",
    "from whatstk import WhatsAppChat, FigureBuilder\n"
   ]
  },
  {
   "cell_type": "code",
   "execution_count": 2,
   "metadata": {},
   "outputs": [],
   "source": [
    "chart_studio.tools.set_credentials_file(username=os.getenv('CHART_STUDIO_USERNAME'),\n",
    "                                        api_key=os.getenv('CHART_STUDIO_API_KEY'))"
   ]
  },
  {
   "attachments": {},
   "cell_type": "markdown",
   "metadata": {},
   "source": [
    "# Data preparation"
   ]
  },
  {
   "cell_type": "code",
   "execution_count": 3,
   "metadata": {},
   "outputs": [
    {
     "data": {
      "text/html": [
       "<div>\n",
       "<style scoped>\n",
       "    .dataframe tbody tr th:only-of-type {\n",
       "        vertical-align: middle;\n",
       "    }\n",
       "\n",
       "    .dataframe tbody tr th {\n",
       "        vertical-align: top;\n",
       "    }\n",
       "\n",
       "    .dataframe thead th {\n",
       "        text-align: right;\n",
       "    }\n",
       "</style>\n",
       "<table border=\"1\" class=\"dataframe\">\n",
       "  <thead>\n",
       "    <tr style=\"text-align: right;\">\n",
       "      <th></th>\n",
       "      <th>date</th>\n",
       "      <th>username</th>\n",
       "      <th>message</th>\n",
       "    </tr>\n",
       "  </thead>\n",
       "  <tbody>\n",
       "    <tr>\n",
       "      <th>0</th>\n",
       "      <td>2023-01-06 15:38:00</td>\n",
       "      <td>kajal</td>\n",
       "      <td>Haii semua, selamat datang ke team 6 section p...</td>\n",
       "    </tr>\n",
       "    <tr>\n",
       "      <th>1</th>\n",
       "      <td>2023-01-06 15:39:00</td>\n",
       "      <td>kajal</td>\n",
       "      <td>Ini linkedin aku yaa feel free to add and tany...</td>\n",
       "    </tr>\n",
       "    <tr>\n",
       "      <th>2</th>\n",
       "      <td>2023-01-06 15:39:00</td>\n",
       "      <td>kajal</td>\n",
       "      <td>https://www.linkedin.com/in/jalita-sendiko</td>\n",
       "    </tr>\n",
       "    <tr>\n",
       "      <th>3</th>\n",
       "      <td>2023-01-06 15:39:00</td>\n",
       "      <td>valeri</td>\n",
       "      <td>Hai haii!!! Terima kasih kak 🥰🥰🥰\n",
       "\n",
       "Perkenalin a...</td>\n",
       "    </tr>\n",
       "    <tr>\n",
       "      <th>4</th>\n",
       "      <td>2023-01-06 15:40:00</td>\n",
       "      <td>ely</td>\n",
       "      <td>Hai, Kak Jelita!! ☺️</td>\n",
       "    </tr>\n",
       "    <tr>\n",
       "      <th>...</th>\n",
       "      <td>...</td>\n",
       "      <td>...</td>\n",
       "      <td>...</td>\n",
       "    </tr>\n",
       "    <tr>\n",
       "      <th>2124</th>\n",
       "      <td>2023-04-15 17:20:00</td>\n",
       "      <td>valeri</td>\n",
       "      <td>Jangan lupa si double khalid</td>\n",
       "    </tr>\n",
       "    <tr>\n",
       "      <th>2125</th>\n",
       "      <td>2023-04-15 17:20:00</td>\n",
       "      <td>kajal</td>\n",
       "      <td>and duo alit!!</td>\n",
       "    </tr>\n",
       "    <tr>\n",
       "      <th>2126</th>\n",
       "      <td>2023-04-15 17:20:00</td>\n",
       "      <td>valeri</td>\n",
       "      <td>Thank youuuu</td>\n",
       "    </tr>\n",
       "    <tr>\n",
       "      <th>2127</th>\n",
       "      <td>2023-04-16 21:40:00</td>\n",
       "      <td>aris</td>\n",
       "      <td>Congratsss Vale dan duo alitt \n",
       "Mantabbb menang...</td>\n",
       "    </tr>\n",
       "    <tr>\n",
       "      <th>2128</th>\n",
       "      <td>2023-04-17 23:43:00</td>\n",
       "      <td>valeri</td>\n",
       "      <td>Thank you @aris !</td>\n",
       "    </tr>\n",
       "  </tbody>\n",
       "</table>\n",
       "<p>2129 rows × 3 columns</p>\n",
       "</div>"
      ],
      "text/plain": [
       "                    date username  \\\n",
       "0    2023-01-06 15:38:00    kajal   \n",
       "1    2023-01-06 15:39:00    kajal   \n",
       "2    2023-01-06 15:39:00    kajal   \n",
       "3    2023-01-06 15:39:00   valeri   \n",
       "4    2023-01-06 15:40:00      ely   \n",
       "...                  ...      ...   \n",
       "2124 2023-04-15 17:20:00   valeri   \n",
       "2125 2023-04-15 17:20:00    kajal   \n",
       "2126 2023-04-15 17:20:00   valeri   \n",
       "2127 2023-04-16 21:40:00     aris   \n",
       "2128 2023-04-17 23:43:00   valeri   \n",
       "\n",
       "                                                message  \n",
       "0     Haii semua, selamat datang ke team 6 section p...  \n",
       "1     Ini linkedin aku yaa feel free to add and tany...  \n",
       "2            https://www.linkedin.com/in/jalita-sendiko  \n",
       "3     Hai haii!!! Terima kasih kak 🥰🥰🥰\n",
       "\n",
       "Perkenalin a...  \n",
       "4                                  Hai, Kak Jelita!! ☺️  \n",
       "...                                                 ...  \n",
       "2124                       Jangan lupa si double khalid  \n",
       "2125                                     and duo alit!!  \n",
       "2126                                       Thank youuuu  \n",
       "2127  Congratsss Vale dan duo alitt \n",
       "Mantabbb menang...  \n",
       "2128                                  Thank you @aris !  \n",
       "\n",
       "[2129 rows x 3 columns]"
      ]
     },
     "execution_count": 3,
     "metadata": {},
     "output_type": "execute_result"
    }
   ],
   "source": [
    "chat = WhatsAppChat.from_source(filepath='whatsapp_chat.txt', hformat='%d/%m/%Y, %I:%M %p - %name:').df\n",
    "chat"
   ]
  },
  {
   "attachments": {},
   "cell_type": "markdown",
   "metadata": {},
   "source": [
    "Text cleaning"
   ]
  },
  {
   "cell_type": "code",
   "execution_count": 4,
   "metadata": {},
   "outputs": [
    {
     "data": {
      "text/html": [
       "<div>\n",
       "<style scoped>\n",
       "    .dataframe tbody tr th:only-of-type {\n",
       "        vertical-align: middle;\n",
       "    }\n",
       "\n",
       "    .dataframe tbody tr th {\n",
       "        vertical-align: top;\n",
       "    }\n",
       "\n",
       "    .dataframe thead th {\n",
       "        text-align: right;\n",
       "    }\n",
       "</style>\n",
       "<table border=\"1\" class=\"dataframe\">\n",
       "  <thead>\n",
       "    <tr style=\"text-align: right;\">\n",
       "      <th></th>\n",
       "      <th>date</th>\n",
       "      <th>username</th>\n",
       "      <th>message</th>\n",
       "      <th>clean_msg</th>\n",
       "    </tr>\n",
       "  </thead>\n",
       "  <tbody>\n",
       "    <tr>\n",
       "      <th>737</th>\n",
       "      <td>2023-02-16 22:10:00</td>\n",
       "      <td>kajal</td>\n",
       "      <td>isi dengan baik dan seperti masyarakat teladan...</td>\n",
       "      <td>isi masyarakat teladan kasar</td>\n",
       "    </tr>\n",
       "    <tr>\n",
       "      <th>1573</th>\n",
       "      <td>2023-04-11 13:14:00</td>\n",
       "      <td>kajal</td>\n",
       "      <td>disuruh apa jg ngeles mulu wkwkw</td>\n",
       "      <td>disuruh ngeles mulu wkwkw</td>\n",
       "    </tr>\n",
       "    <tr>\n",
       "      <th>625</th>\n",
       "      <td>2023-02-13 21:26:00</td>\n",
       "      <td>kajal</td>\n",
       "      <td>@mirza @alit_gor ga masuk kahh?</td>\n",
       "      <td>mirza alitgor masuk kahh</td>\n",
       "    </tr>\n",
       "    <tr>\n",
       "      <th>2051</th>\n",
       "      <td>2023-04-11 22:02:00</td>\n",
       "      <td>adhit</td>\n",
       "      <td>Udah boleh leave tidur ka jal?</td>\n",
       "      <td>leave tidur kak jal</td>\n",
       "    </tr>\n",
       "    <tr>\n",
       "      <th>1887</th>\n",
       "      <td>2023-04-03 21:15:00</td>\n",
       "      <td>alit_jak</td>\n",
       "      <td>udh gue benerin tuh</td>\n",
       "      <td>gue benerin tuh</td>\n",
       "    </tr>\n",
       "  </tbody>\n",
       "</table>\n",
       "</div>"
      ],
      "text/plain": [
       "                    date  username  \\\n",
       "737  2023-02-16 22:10:00     kajal   \n",
       "1573 2023-04-11 13:14:00     kajal   \n",
       "625  2023-02-13 21:26:00     kajal   \n",
       "2051 2023-04-11 22:02:00     adhit   \n",
       "1887 2023-04-03 21:15:00  alit_jak   \n",
       "\n",
       "                                                message  \\\n",
       "737   isi dengan baik dan seperti masyarakat teladan...   \n",
       "1573                   disuruh apa jg ngeles mulu wkwkw   \n",
       "625                     @mirza @alit_gor ga masuk kahh?   \n",
       "2051                     Udah boleh leave tidur ka jal?   \n",
       "1887                                udh gue benerin tuh   \n",
       "\n",
       "                         clean_msg  \n",
       "737   isi masyarakat teladan kasar  \n",
       "1573     disuruh ngeles mulu wkwkw  \n",
       "625       mirza alitgor masuk kahh  \n",
       "2051           leave tidur kak jal  \n",
       "1887               gue benerin tuh  "
      ]
     },
     "execution_count": 4,
     "metadata": {},
     "output_type": "execute_result"
    }
   ],
   "source": [
    "def clean_text(text):\n",
    "    text = text.replace('<Media omitted>', '').replace('This message was deleted', '').replace('\\n', ' ').strip()\n",
    "    text = re.sub(r'http\\S+', '', text)\n",
    "    text = re.sub(r'[0-9]+','', text)\n",
    "    text = re.sub(r'\\s+',' ', text)\n",
    "    text = re.sub(r'[^\\w\\s]|_', '', text)\n",
    "    text = re.sub(r'([a-zA-Z])\\1\\1','\\\\1', text)\n",
    "    return text.lower()\n",
    "\n",
    "chat['clean_msg'] = chat['message'].apply(clean_text)\n",
    "\n",
    "# replace slang words with their formal equivalents\n",
    "lexicon_df = pd.read_csv('lexicon/kamus-alay/colloquial-indonesian-lexicon.csv')\n",
    "lexicon_dict = dict(zip(lexicon_df.slang, lexicon_df.formal))\n",
    "chat['clean_msg'] = chat['clean_msg'].apply(lambda x: ' '.join([lexicon_dict.get(word, word) for word in x.split()]))\n",
    "\n",
    "# remove stop words\n",
    "with open('lexicon/ID-Stopwords/id.stopwords.02.01.2016.txt', 'r') as f:\n",
    "    stop_words = f.read().splitlines()\n",
    "chat['clean_msg'] = chat['clean_msg'].apply(lambda x: ' '.join([word for word in x.split() if word not in stop_words]))\n",
    "\n",
    "chat.sample(5)"
   ]
  },
  {
   "attachments": {},
   "cell_type": "markdown",
   "metadata": {},
   "source": [
    "Handling emoticon"
   ]
  },
  {
   "cell_type": "code",
   "execution_count": 5,
   "metadata": {},
   "outputs": [
    {
     "data": {
      "text/html": [
       "<div>\n",
       "<style scoped>\n",
       "    .dataframe tbody tr th:only-of-type {\n",
       "        vertical-align: middle;\n",
       "    }\n",
       "\n",
       "    .dataframe tbody tr th {\n",
       "        vertical-align: top;\n",
       "    }\n",
       "\n",
       "    .dataframe thead th {\n",
       "        text-align: right;\n",
       "    }\n",
       "</style>\n",
       "<table border=\"1\" class=\"dataframe\">\n",
       "  <thead>\n",
       "    <tr style=\"text-align: right;\">\n",
       "      <th></th>\n",
       "      <th>emoticon</th>\n",
       "    </tr>\n",
       "  </thead>\n",
       "  <tbody>\n",
       "    <tr>\n",
       "      <th>1</th>\n",
       "      <td>:(</td>\n",
       "    </tr>\n",
       "    <tr>\n",
       "      <th>2</th>\n",
       "      <td>&gt;:(</td>\n",
       "    </tr>\n",
       "    <tr>\n",
       "      <th>3</th>\n",
       "      <td>:)</td>\n",
       "    </tr>\n",
       "    <tr>\n",
       "      <th>4</th>\n",
       "      <td>:D</td>\n",
       "    </tr>\n",
       "  </tbody>\n",
       "</table>\n",
       "</div>"
      ],
      "text/plain": [
       "  emoticon\n",
       "1       :(\n",
       "2      >:(\n",
       "3       :)\n",
       "4       :D"
      ]
     },
     "execution_count": 5,
     "metadata": {},
     "output_type": "execute_result"
    }
   ],
   "source": [
    "emot_obj = emot.emot()\n",
    "\n",
    "chat['message'].apply(lambda x: '' if re.compile(r'http\\S+').search(x) else ''.join(emot_obj.emoticons(x)['value'])\n",
    "                      ).value_counts().rename_axis('emoticon').reset_index(name='count').query(\"emoticon != ''\")[['emoticon']]"
   ]
  },
  {
   "cell_type": "code",
   "execution_count": 6,
   "metadata": {},
   "outputs": [],
   "source": [
    "chat['message'] = chat['message'].replace({':\\(': '☹️', '>:\\(': '😠',\n",
    "                                           ':\\)': '🙂', ':D': '😃'\n",
    "                                           }, regex=True)"
   ]
  },
  {
   "attachments": {},
   "cell_type": "markdown",
   "metadata": {},
   "source": [
    "Feature engineering"
   ]
  },
  {
   "cell_type": "code",
   "execution_count": 7,
   "metadata": {},
   "outputs": [
    {
     "data": {
      "text/html": [
       "<div>\n",
       "<style scoped>\n",
       "    .dataframe tbody tr th:only-of-type {\n",
       "        vertical-align: middle;\n",
       "    }\n",
       "\n",
       "    .dataframe tbody tr th {\n",
       "        vertical-align: top;\n",
       "    }\n",
       "\n",
       "    .dataframe thead th {\n",
       "        text-align: right;\n",
       "    }\n",
       "</style>\n",
       "<table border=\"1\" class=\"dataframe\">\n",
       "  <thead>\n",
       "    <tr style=\"text-align: right;\">\n",
       "      <th></th>\n",
       "      <th>date</th>\n",
       "      <th>username</th>\n",
       "      <th>message</th>\n",
       "      <th>clean_msg</th>\n",
       "      <th>emoji</th>\n",
       "      <th>hour</th>\n",
       "      <th>day_name</th>\n",
       "      <th>week</th>\n",
       "      <th>module_name</th>\n",
       "    </tr>\n",
       "  </thead>\n",
       "  <tbody>\n",
       "    <tr>\n",
       "      <th>1596</th>\n",
       "      <td>2023-04-11 12:17:00</td>\n",
       "      <td>aris</td>\n",
       "      <td>keknya sih itu</td>\n",
       "      <td>kayaknya sih</td>\n",
       "      <td></td>\n",
       "      <td>12</td>\n",
       "      <td>Tuesday</td>\n",
       "      <td>13</td>\n",
       "      <td>Pitching Week</td>\n",
       "    </tr>\n",
       "    <tr>\n",
       "      <th>1278</th>\n",
       "      <td>2023-03-06 21:27:00</td>\n",
       "      <td>aris</td>\n",
       "      <td>Besoookk aja abis kelas</td>\n",
       "      <td>besokk habis kelas</td>\n",
       "      <td></td>\n",
       "      <td>21</td>\n",
       "      <td>Monday</td>\n",
       "      <td>8</td>\n",
       "      <td>Python</td>\n",
       "    </tr>\n",
       "    <tr>\n",
       "      <th>1228</th>\n",
       "      <td>2023-03-03 10:32:00</td>\n",
       "      <td>kajal</td>\n",
       "      <td>Gak ad yg mau join dah</td>\n",
       "      <td>join deh</td>\n",
       "      <td></td>\n",
       "      <td>10</td>\n",
       "      <td>Friday</td>\n",
       "      <td>7</td>\n",
       "      <td>Python</td>\n",
       "    </tr>\n",
       "    <tr>\n",
       "      <th>1039</th>\n",
       "      <td>2023-02-23 16:17:00</td>\n",
       "      <td>kajal</td>\n",
       "      <td>Wkwkkw eek</td>\n",
       "      <td>wkwkkw eek</td>\n",
       "      <td></td>\n",
       "      <td>16</td>\n",
       "      <td>Thursday</td>\n",
       "      <td>6</td>\n",
       "      <td>Python</td>\n",
       "    </tr>\n",
       "    <tr>\n",
       "      <th>23</th>\n",
       "      <td>2023-01-07 09:25:00</td>\n",
       "      <td>ely</td>\n",
       "      <td>&lt;Media omitted&gt;</td>\n",
       "      <td></td>\n",
       "      <td></td>\n",
       "      <td>9</td>\n",
       "      <td>Saturday</td>\n",
       "      <td>-1</td>\n",
       "      <td></td>\n",
       "    </tr>\n",
       "  </tbody>\n",
       "</table>\n",
       "</div>"
      ],
      "text/plain": [
       "                    date username                  message  \\\n",
       "1596 2023-04-11 12:17:00     aris           keknya sih itu   \n",
       "1278 2023-03-06 21:27:00     aris  Besoookk aja abis kelas   \n",
       "1228 2023-03-03 10:32:00    kajal   Gak ad yg mau join dah   \n",
       "1039 2023-02-23 16:17:00    kajal               Wkwkkw eek   \n",
       "23   2023-01-07 09:25:00      ely          <Media omitted>   \n",
       "\n",
       "               clean_msg emoji  hour  day_name  week    module_name  \n",
       "1596        kayaknya sih          12   Tuesday    13  Pitching Week  \n",
       "1278  besokk habis kelas          21    Monday     8         Python  \n",
       "1228            join deh          10    Friday     7         Python  \n",
       "1039          wkwkkw eek          16  Thursday     6         Python  \n",
       "23                                 9  Saturday    -1                 "
      ]
     },
     "execution_count": 7,
     "metadata": {},
     "output_type": "execute_result"
    }
   ],
   "source": [
    "# emoji extraction\n",
    "chat['emoji'] = chat['message'].apply(lambda x: ''.join(c for c in x if c in emoji.EMOJI_DATA))\n",
    "\n",
    "# shift all dates back by one hour (UTC+7)\n",
    "chat['date'] = chat['date'] - timedelta(hours=1)\n",
    "\n",
    "# date extraction\n",
    "chat['hour'] = chat['date'].dt.hour\n",
    "chat['day_name'] = chat['date'].dt.day_name()\n",
    "chat['week'] = (chat['date'] - pd.Timestamp('2023-01-09')).dt.days // 7\n",
    "\n",
    "# module creation\n",
    "chat['module_name'] = chat.week.map({0: 'Introduction & Orientation',\n",
    "                                     1: 'Understanding Business Problems',\n",
    "                                     2: 'Spreadsheet & Statistics', 3: 'Spreadsheet & Statistics',\n",
    "                                     4: 'SQL', 5: 'SQL',\n",
    "                                     6: 'Python', 7: 'Python', 8: 'Python',\n",
    "                                     9: 'Group Final Project Preparation Week',\n",
    "                                     10: 'Data Visualization', 11: 'Data Visualization',\n",
    "                                     12: 'Data Communication',\n",
    "                                     13: 'Pitching Week'\n",
    "                                     }).fillna('')\n",
    "\n",
    "chat.sample(5)"
   ]
  },
  {
   "attachments": {},
   "cell_type": "markdown",
   "metadata": {},
   "source": [
    "# Exploratory data analysis"
   ]
  },
  {
   "attachments": {},
   "cell_type": "markdown",
   "metadata": {},
   "source": [
    "## Total messages"
   ]
  },
  {
   "cell_type": "code",
   "execution_count": 8,
   "metadata": {},
   "outputs": [
    {
     "data": {
      "text/html": [
       "<div>\n",
       "<style scoped>\n",
       "    .dataframe tbody tr th:only-of-type {\n",
       "        vertical-align: middle;\n",
       "    }\n",
       "\n",
       "    .dataframe tbody tr th {\n",
       "        vertical-align: top;\n",
       "    }\n",
       "\n",
       "    .dataframe thead th {\n",
       "        text-align: right;\n",
       "    }\n",
       "</style>\n",
       "<table border=\"1\" class=\"dataframe\">\n",
       "  <thead>\n",
       "    <tr style=\"text-align: right;\">\n",
       "      <th></th>\n",
       "      <th>message</th>\n",
       "      <th>emoji</th>\n",
       "    </tr>\n",
       "    <tr>\n",
       "      <th>username</th>\n",
       "      <th></th>\n",
       "      <th></th>\n",
       "    </tr>\n",
       "  </thead>\n",
       "  <tbody>\n",
       "    <tr>\n",
       "      <th>kajal</th>\n",
       "      <td>626</td>\n",
       "      <td>😈 🥰 ☹ 😃 ❤ 🫶 🥹 😆 🥳</td>\n",
       "    </tr>\n",
       "    <tr>\n",
       "      <th>valeri</th>\n",
       "      <td>459</td>\n",
       "      <td>😒 😡 😊 👋 🔥 👌 🦨 😆 😝 😌 😂 ❤ 🤩 🙃 😘 🙏 👍 ☹ 👀 🤪 🤡 🥳 😭 🥰 🤨</td>\n",
       "    </tr>\n",
       "    <tr>\n",
       "      <th>erland</th>\n",
       "      <td>229</td>\n",
       "      <td></td>\n",
       "    </tr>\n",
       "    <tr>\n",
       "      <th>aris</th>\n",
       "      <td>228</td>\n",
       "      <td>🏻 🙏 👍 👀 💪 🤣 😅 🤔 😁 🎉 🥳</td>\n",
       "    </tr>\n",
       "    <tr>\n",
       "      <th>ely</th>\n",
       "      <td>165</td>\n",
       "      <td>🫥 🤣 👽 💨 😂 😌 🫠 🤭 🥲 🤧 🙂 😅 🫶 ☺ ☹ 👀 🥹 🥳 😫 🛵</td>\n",
       "    </tr>\n",
       "    <tr>\n",
       "      <th>alit_jak</th>\n",
       "      <td>126</td>\n",
       "      <td>☹</td>\n",
       "    </tr>\n",
       "    <tr>\n",
       "      <th>adhit</th>\n",
       "      <td>80</td>\n",
       "      <td>🍌 🙏 👍 😅 🥊 🤩 🤸 💄 🥲 ☄ 🤣 😄 😁 🤲 😆</td>\n",
       "    </tr>\n",
       "    <tr>\n",
       "      <th>ichsan</th>\n",
       "      <td>54</td>\n",
       "      <td>🏻 🙏 👍 😌 🔥 😃 🥲 😅 🥹 😁</td>\n",
       "    </tr>\n",
       "    <tr>\n",
       "      <th>rika</th>\n",
       "      <td>47</td>\n",
       "      <td>👍 🥰 😂</td>\n",
       "    </tr>\n",
       "    <tr>\n",
       "      <th>alex</th>\n",
       "      <td>35</td>\n",
       "      <td>🙏 😊 😂 😬 🥲 🥳</td>\n",
       "    </tr>\n",
       "    <tr>\n",
       "      <th>alit_gor</th>\n",
       "      <td>33</td>\n",
       "      <td>😂</td>\n",
       "    </tr>\n",
       "    <tr>\n",
       "      <th>mirza</th>\n",
       "      <td>28</td>\n",
       "      <td>🙂 ☹</td>\n",
       "    </tr>\n",
       "    <tr>\n",
       "      <th>fawaz</th>\n",
       "      <td>19</td>\n",
       "      <td></td>\n",
       "    </tr>\n",
       "  </tbody>\n",
       "</table>\n",
       "</div>"
      ],
      "text/plain": [
       "          message                                              emoji\n",
       "username                                                            \n",
       "kajal         626                                  😈 🥰 ☹ 😃 ❤ 🫶 🥹 😆 🥳\n",
       "valeri        459  😒 😡 😊 👋 🔥 👌 🦨 😆 😝 😌 😂 ❤ 🤩 🙃 😘 🙏 👍 ☹ 👀 🤪 🤡 🥳 😭 🥰 🤨\n",
       "erland        229                                                   \n",
       "aris          228                              🏻 🙏 👍 👀 💪 🤣 😅 🤔 😁 🎉 🥳\n",
       "ely           165            🫥 🤣 👽 💨 😂 😌 🫠 🤭 🥲 🤧 🙂 😅 🫶 ☺ ☹ 👀 🥹 🥳 😫 🛵\n",
       "alit_jak      126                                                  ☹\n",
       "adhit          80                      🍌 🙏 👍 😅 🥊 🤩 🤸 💄 🥲 ☄ 🤣 😄 😁 🤲 😆\n",
       "ichsan         54                                🏻 🙏 👍 😌 🔥 😃 🥲 😅 🥹 😁\n",
       "rika           47                                              👍 🥰 😂\n",
       "alex           35                                        🙏 😊 😂 😬 🥲 🥳\n",
       "alit_gor       33                                                  😂\n",
       "mirza          28                                                🙂 ☹\n",
       "fawaz          19                                                   "
      ]
     },
     "execution_count": 8,
     "metadata": {},
     "output_type": "execute_result"
    }
   ],
   "source": [
    "chat.groupby('username').agg({'message': 'count',\n",
    "                              'emoji': lambda x: ' '.join(set(emoji for emojis in x.dropna() for emoji in emojis))\n",
    "                              }).sort_values(by='message', ascending=False)"
   ]
  },
  {
   "attachments": {},
   "cell_type": "markdown",
   "metadata": {},
   "source": [
    "Emoji frequency in chats"
   ]
  },
  {
   "cell_type": "code",
   "execution_count": 9,
   "metadata": {},
   "outputs": [
    {
     "data": {
      "application/vnd.plotly.v1+json": {
       "config": {
        "plotlyServerURL": "https://plotly.com"
       },
       "data": [
        {
         "hole": 0.4,
         "hoverinfo": "label+value",
         "labels": [
          "Chats without emoji",
          "Chats with emoji"
         ],
         "marker": {
          "colors": [
           "#25D366",
           "#075E54"
          ]
         },
         "type": "pie",
         "values": [
          1846,
          283
         ]
        }
       ],
       "layout": {
        "template": {
         "data": {
          "bar": [
           {
            "error_x": {
             "color": "#2a3f5f"
            },
            "error_y": {
             "color": "#2a3f5f"
            },
            "marker": {
             "line": {
              "color": "white",
              "width": 0.5
             }
            },
            "type": "bar"
           }
          ],
          "barpolar": [
           {
            "marker": {
             "line": {
              "color": "white",
              "width": 0.5
             }
            },
            "type": "barpolar"
           }
          ],
          "carpet": [
           {
            "aaxis": {
             "endlinecolor": "#2a3f5f",
             "gridcolor": "#C8D4E3",
             "linecolor": "#C8D4E3",
             "minorgridcolor": "#C8D4E3",
             "startlinecolor": "#2a3f5f"
            },
            "baxis": {
             "endlinecolor": "#2a3f5f",
             "gridcolor": "#C8D4E3",
             "linecolor": "#C8D4E3",
             "minorgridcolor": "#C8D4E3",
             "startlinecolor": "#2a3f5f"
            },
            "type": "carpet"
           }
          ],
          "choropleth": [
           {
            "colorbar": {
             "outlinewidth": 0,
             "ticks": ""
            },
            "type": "choropleth"
           }
          ],
          "contour": [
           {
            "colorbar": {
             "outlinewidth": 0,
             "ticks": ""
            },
            "colorscale": [
             [
              0,
              "#0d0887"
             ],
             [
              0.1111111111111111,
              "#46039f"
             ],
             [
              0.2222222222222222,
              "#7201a8"
             ],
             [
              0.3333333333333333,
              "#9c179e"
             ],
             [
              0.4444444444444444,
              "#bd3786"
             ],
             [
              0.5555555555555556,
              "#d8576b"
             ],
             [
              0.6666666666666666,
              "#ed7953"
             ],
             [
              0.7777777777777778,
              "#fb9f3a"
             ],
             [
              0.8888888888888888,
              "#fdca26"
             ],
             [
              1,
              "#f0f921"
             ]
            ],
            "type": "contour"
           }
          ],
          "contourcarpet": [
           {
            "colorbar": {
             "outlinewidth": 0,
             "ticks": ""
            },
            "type": "contourcarpet"
           }
          ],
          "heatmap": [
           {
            "colorbar": {
             "outlinewidth": 0,
             "ticks": ""
            },
            "colorscale": [
             [
              0,
              "#0d0887"
             ],
             [
              0.1111111111111111,
              "#46039f"
             ],
             [
              0.2222222222222222,
              "#7201a8"
             ],
             [
              0.3333333333333333,
              "#9c179e"
             ],
             [
              0.4444444444444444,
              "#bd3786"
             ],
             [
              0.5555555555555556,
              "#d8576b"
             ],
             [
              0.6666666666666666,
              "#ed7953"
             ],
             [
              0.7777777777777778,
              "#fb9f3a"
             ],
             [
              0.8888888888888888,
              "#fdca26"
             ],
             [
              1,
              "#f0f921"
             ]
            ],
            "type": "heatmap"
           }
          ],
          "heatmapgl": [
           {
            "colorbar": {
             "outlinewidth": 0,
             "ticks": ""
            },
            "colorscale": [
             [
              0,
              "#0d0887"
             ],
             [
              0.1111111111111111,
              "#46039f"
             ],
             [
              0.2222222222222222,
              "#7201a8"
             ],
             [
              0.3333333333333333,
              "#9c179e"
             ],
             [
              0.4444444444444444,
              "#bd3786"
             ],
             [
              0.5555555555555556,
              "#d8576b"
             ],
             [
              0.6666666666666666,
              "#ed7953"
             ],
             [
              0.7777777777777778,
              "#fb9f3a"
             ],
             [
              0.8888888888888888,
              "#fdca26"
             ],
             [
              1,
              "#f0f921"
             ]
            ],
            "type": "heatmapgl"
           }
          ],
          "histogram": [
           {
            "marker": {
             "colorbar": {
              "outlinewidth": 0,
              "ticks": ""
             }
            },
            "type": "histogram"
           }
          ],
          "histogram2d": [
           {
            "colorbar": {
             "outlinewidth": 0,
             "ticks": ""
            },
            "colorscale": [
             [
              0,
              "#0d0887"
             ],
             [
              0.1111111111111111,
              "#46039f"
             ],
             [
              0.2222222222222222,
              "#7201a8"
             ],
             [
              0.3333333333333333,
              "#9c179e"
             ],
             [
              0.4444444444444444,
              "#bd3786"
             ],
             [
              0.5555555555555556,
              "#d8576b"
             ],
             [
              0.6666666666666666,
              "#ed7953"
             ],
             [
              0.7777777777777778,
              "#fb9f3a"
             ],
             [
              0.8888888888888888,
              "#fdca26"
             ],
             [
              1,
              "#f0f921"
             ]
            ],
            "type": "histogram2d"
           }
          ],
          "histogram2dcontour": [
           {
            "colorbar": {
             "outlinewidth": 0,
             "ticks": ""
            },
            "colorscale": [
             [
              0,
              "#0d0887"
             ],
             [
              0.1111111111111111,
              "#46039f"
             ],
             [
              0.2222222222222222,
              "#7201a8"
             ],
             [
              0.3333333333333333,
              "#9c179e"
             ],
             [
              0.4444444444444444,
              "#bd3786"
             ],
             [
              0.5555555555555556,
              "#d8576b"
             ],
             [
              0.6666666666666666,
              "#ed7953"
             ],
             [
              0.7777777777777778,
              "#fb9f3a"
             ],
             [
              0.8888888888888888,
              "#fdca26"
             ],
             [
              1,
              "#f0f921"
             ]
            ],
            "type": "histogram2dcontour"
           }
          ],
          "mesh3d": [
           {
            "colorbar": {
             "outlinewidth": 0,
             "ticks": ""
            },
            "type": "mesh3d"
           }
          ],
          "parcoords": [
           {
            "line": {
             "colorbar": {
              "outlinewidth": 0,
              "ticks": ""
             }
            },
            "type": "parcoords"
           }
          ],
          "pie": [
           {
            "automargin": true,
            "type": "pie"
           }
          ],
          "scatter": [
           {
            "marker": {
             "colorbar": {
              "outlinewidth": 0,
              "ticks": ""
             }
            },
            "type": "scatter"
           }
          ],
          "scatter3d": [
           {
            "line": {
             "colorbar": {
              "outlinewidth": 0,
              "ticks": ""
             }
            },
            "marker": {
             "colorbar": {
              "outlinewidth": 0,
              "ticks": ""
             }
            },
            "type": "scatter3d"
           }
          ],
          "scattercarpet": [
           {
            "marker": {
             "colorbar": {
              "outlinewidth": 0,
              "ticks": ""
             }
            },
            "type": "scattercarpet"
           }
          ],
          "scattergeo": [
           {
            "marker": {
             "colorbar": {
              "outlinewidth": 0,
              "ticks": ""
             }
            },
            "type": "scattergeo"
           }
          ],
          "scattergl": [
           {
            "marker": {
             "colorbar": {
              "outlinewidth": 0,
              "ticks": ""
             }
            },
            "type": "scattergl"
           }
          ],
          "scattermapbox": [
           {
            "marker": {
             "colorbar": {
              "outlinewidth": 0,
              "ticks": ""
             }
            },
            "type": "scattermapbox"
           }
          ],
          "scatterpolar": [
           {
            "marker": {
             "colorbar": {
              "outlinewidth": 0,
              "ticks": ""
             }
            },
            "type": "scatterpolar"
           }
          ],
          "scatterpolargl": [
           {
            "marker": {
             "colorbar": {
              "outlinewidth": 0,
              "ticks": ""
             }
            },
            "type": "scatterpolargl"
           }
          ],
          "scatterternary": [
           {
            "marker": {
             "colorbar": {
              "outlinewidth": 0,
              "ticks": ""
             }
            },
            "type": "scatterternary"
           }
          ],
          "surface": [
           {
            "colorbar": {
             "outlinewidth": 0,
             "ticks": ""
            },
            "colorscale": [
             [
              0,
              "#0d0887"
             ],
             [
              0.1111111111111111,
              "#46039f"
             ],
             [
              0.2222222222222222,
              "#7201a8"
             ],
             [
              0.3333333333333333,
              "#9c179e"
             ],
             [
              0.4444444444444444,
              "#bd3786"
             ],
             [
              0.5555555555555556,
              "#d8576b"
             ],
             [
              0.6666666666666666,
              "#ed7953"
             ],
             [
              0.7777777777777778,
              "#fb9f3a"
             ],
             [
              0.8888888888888888,
              "#fdca26"
             ],
             [
              1,
              "#f0f921"
             ]
            ],
            "type": "surface"
           }
          ],
          "table": [
           {
            "cells": {
             "fill": {
              "color": "#EBF0F8"
             },
             "line": {
              "color": "white"
             }
            },
            "header": {
             "fill": {
              "color": "#C8D4E3"
             },
             "line": {
              "color": "white"
             }
            },
            "type": "table"
           }
          ]
         },
         "layout": {
          "annotationdefaults": {
           "arrowcolor": "#2a3f5f",
           "arrowhead": 0,
           "arrowwidth": 1
          },
          "autotypenumbers": "strict",
          "coloraxis": {
           "colorbar": {
            "outlinewidth": 0,
            "ticks": ""
           }
          },
          "colorscale": {
           "diverging": [
            [
             0,
             "#8e0152"
            ],
            [
             0.1,
             "#c51b7d"
            ],
            [
             0.2,
             "#de77ae"
            ],
            [
             0.3,
             "#f1b6da"
            ],
            [
             0.4,
             "#fde0ef"
            ],
            [
             0.5,
             "#f7f7f7"
            ],
            [
             0.6,
             "#e6f5d0"
            ],
            [
             0.7,
             "#b8e186"
            ],
            [
             0.8,
             "#7fbc41"
            ],
            [
             0.9,
             "#4d9221"
            ],
            [
             1,
             "#276419"
            ]
           ],
           "sequential": [
            [
             0,
             "#0d0887"
            ],
            [
             0.1111111111111111,
             "#46039f"
            ],
            [
             0.2222222222222222,
             "#7201a8"
            ],
            [
             0.3333333333333333,
             "#9c179e"
            ],
            [
             0.4444444444444444,
             "#bd3786"
            ],
            [
             0.5555555555555556,
             "#d8576b"
            ],
            [
             0.6666666666666666,
             "#ed7953"
            ],
            [
             0.7777777777777778,
             "#fb9f3a"
            ],
            [
             0.8888888888888888,
             "#fdca26"
            ],
            [
             1,
             "#f0f921"
            ]
           ],
           "sequentialminus": [
            [
             0,
             "#0d0887"
            ],
            [
             0.1111111111111111,
             "#46039f"
            ],
            [
             0.2222222222222222,
             "#7201a8"
            ],
            [
             0.3333333333333333,
             "#9c179e"
            ],
            [
             0.4444444444444444,
             "#bd3786"
            ],
            [
             0.5555555555555556,
             "#d8576b"
            ],
            [
             0.6666666666666666,
             "#ed7953"
            ],
            [
             0.7777777777777778,
             "#fb9f3a"
            ],
            [
             0.8888888888888888,
             "#fdca26"
            ],
            [
             1,
             "#f0f921"
            ]
           ]
          },
          "colorway": [
           "#636efa",
           "#EF553B",
           "#00cc96",
           "#ab63fa",
           "#FFA15A",
           "#19d3f3",
           "#FF6692",
           "#B6E880",
           "#FF97FF",
           "#FECB52"
          ],
          "font": {
           "color": "#2a3f5f"
          },
          "geo": {
           "bgcolor": "white",
           "lakecolor": "white",
           "landcolor": "white",
           "showlakes": true,
           "showland": true,
           "subunitcolor": "#C8D4E3"
          },
          "hoverlabel": {
           "align": "left"
          },
          "hovermode": "closest",
          "mapbox": {
           "style": "light"
          },
          "paper_bgcolor": "white",
          "plot_bgcolor": "white",
          "polar": {
           "angularaxis": {
            "gridcolor": "#EBF0F8",
            "linecolor": "#EBF0F8",
            "ticks": ""
           },
           "bgcolor": "white",
           "radialaxis": {
            "gridcolor": "#EBF0F8",
            "linecolor": "#EBF0F8",
            "ticks": ""
           }
          },
          "scene": {
           "xaxis": {
            "backgroundcolor": "white",
            "gridcolor": "#DFE8F3",
            "gridwidth": 2,
            "linecolor": "#EBF0F8",
            "showbackground": true,
            "ticks": "",
            "zerolinecolor": "#EBF0F8"
           },
           "yaxis": {
            "backgroundcolor": "white",
            "gridcolor": "#DFE8F3",
            "gridwidth": 2,
            "linecolor": "#EBF0F8",
            "showbackground": true,
            "ticks": "",
            "zerolinecolor": "#EBF0F8"
           },
           "zaxis": {
            "backgroundcolor": "white",
            "gridcolor": "#DFE8F3",
            "gridwidth": 2,
            "linecolor": "#EBF0F8",
            "showbackground": true,
            "ticks": "",
            "zerolinecolor": "#EBF0F8"
           }
          },
          "shapedefaults": {
           "line": {
            "color": "#2a3f5f"
           }
          },
          "ternary": {
           "aaxis": {
            "gridcolor": "#DFE8F3",
            "linecolor": "#A2B1C6",
            "ticks": ""
           },
           "baxis": {
            "gridcolor": "#DFE8F3",
            "linecolor": "#A2B1C6",
            "ticks": ""
           },
           "bgcolor": "white",
           "caxis": {
            "gridcolor": "#DFE8F3",
            "linecolor": "#A2B1C6",
            "ticks": ""
           }
          },
          "title": {
           "x": 0.05
          },
          "xaxis": {
           "automargin": true,
           "gridcolor": "#EBF0F8",
           "linecolor": "#EBF0F8",
           "ticks": "",
           "title": {
            "standoff": 15
           },
           "zerolinecolor": "#EBF0F8",
           "zerolinewidth": 2
          },
          "yaxis": {
           "automargin": true,
           "gridcolor": "#EBF0F8",
           "linecolor": "#EBF0F8",
           "ticks": "",
           "title": {
            "standoff": 15
           },
           "zerolinecolor": "#EBF0F8",
           "zerolinewidth": 2
          }
         }
        }
       }
      }
     },
     "metadata": {},
     "output_type": "display_data"
    }
   ],
   "source": [
    "fig = go.Figure(data=go.Pie(labels=['Chats without emoji', 'Chats with emoji'],\n",
    "                            values=chat.assign(is_emoji=chat['emoji'].apply(lambda x: True if x != '' else False)).groupby('is_emoji').count()[['message']].reset_index()['message'],\n",
    "                            hole=.4, marker=dict(colors=[ '#25D366', '#075E54',])))\n",
    "fig.update_traces(hoverinfo='label+value')\n",
    "py.plot(fig, filename='Emoji frequency in chats', auto_open=False)\n",
    "fig"
   ]
  },
  {
   "cell_type": "code",
   "execution_count": 10,
   "metadata": {},
   "outputs": [
    {
     "data": {
      "text/html": [
       "<div>\n",
       "<style scoped>\n",
       "    .dataframe tbody tr th:only-of-type {\n",
       "        vertical-align: middle;\n",
       "    }\n",
       "\n",
       "    .dataframe tbody tr th {\n",
       "        vertical-align: top;\n",
       "    }\n",
       "\n",
       "    .dataframe thead th {\n",
       "        text-align: right;\n",
       "    }\n",
       "</style>\n",
       "<table border=\"1\" class=\"dataframe\">\n",
       "  <thead>\n",
       "    <tr style=\"text-align: right;\">\n",
       "      <th></th>\n",
       "      <th>emoji</th>\n",
       "      <th>count</th>\n",
       "    </tr>\n",
       "  </thead>\n",
       "  <tbody>\n",
       "    <tr>\n",
       "      <th>1</th>\n",
       "      <td>😂</td>\n",
       "      <td>69</td>\n",
       "    </tr>\n",
       "    <tr>\n",
       "      <th>2</th>\n",
       "      <td>👍</td>\n",
       "      <td>37</td>\n",
       "    </tr>\n",
       "    <tr>\n",
       "      <th>3</th>\n",
       "      <td>🙏</td>\n",
       "      <td>34</td>\n",
       "    </tr>\n",
       "    <tr>\n",
       "      <th>4</th>\n",
       "      <td>🥰</td>\n",
       "      <td>33</td>\n",
       "    </tr>\n",
       "    <tr>\n",
       "      <th>5</th>\n",
       "      <td>🥳</td>\n",
       "      <td>31</td>\n",
       "    </tr>\n",
       "  </tbody>\n",
       "</table>\n",
       "</div>"
      ],
      "text/plain": [
       "  emoji  count\n",
       "1     😂     69\n",
       "2     👍     37\n",
       "3     🙏     34\n",
       "4     🥰     33\n",
       "5     🥳     31"
      ]
     },
     "execution_count": 10,
     "metadata": {},
     "output_type": "execute_result"
    }
   ],
   "source": [
    "pd.DataFrame(Counter([emoji for message in chat.emoji for emoji in message]).most_common(),\n",
    "             columns=['emoji', 'count'],\n",
    "             index=range(1, len(Counter([emoji for message in chat.emoji for emoji in message]).most_common())+1)\n",
    "             ).head()"
   ]
  },
  {
   "attachments": {},
   "cell_type": "markdown",
   "metadata": {},
   "source": [
    "Message length boxplot"
   ]
  },
  {
   "cell_type": "code",
   "execution_count": 11,
   "metadata": {},
   "outputs": [
    {
     "data": {
      "application/vnd.plotly.v1+json": {
       "config": {
        "plotlyServerURL": "https://plotly.com"
       },
       "data": [
        {
         "boxpoints": "outliers",
         "marker": {
          "color": "#5778DB"
         },
         "name": "ichsan",
         "showlegend": true,
         "type": "box",
         "y": [
          15,
          11,
          0,
          39,
          2,
          7,
          2,
          14,
          9,
          1,
          15,
          27,
          7,
          13,
          17,
          17,
          11,
          12,
          2,
          102,
          7,
          5,
          11,
          11,
          1,
          26,
          15,
          6,
          4,
          3,
          14,
          28,
          7,
          1,
          12,
          4,
          6,
          10,
          17,
          6,
          3,
          2,
          1,
          10,
          5,
          12,
          16,
          3,
          26,
          11,
          11,
          19,
          22,
          2
         ]
        },
        {
         "boxpoints": "outliers",
         "marker": {
          "color": "#DB9C57"
         },
         "name": "alex",
         "showlegend": true,
         "type": "box",
         "y": [
          29,
          7,
          9,
          13,
          10,
          4,
          7,
          5,
          6,
          2,
          1,
          3,
          6,
          5,
          3,
          8,
          4,
          5,
          6,
          9,
          5,
          2,
          1,
          9,
          8,
          18,
          5,
          3,
          8,
          2,
          3,
          6,
          4,
          1,
          2
         ]
        },
        {
         "boxpoints": "outliers",
         "marker": {
          "color": "#DB578C"
         },
         "name": "valeri",
         "showlegend": true,
         "type": "box",
         "y": [
          28,
          0,
          11,
          15,
          10,
          8,
          0,
          0,
          5,
          0,
          24,
          12,
          6,
          2,
          5,
          0,
          2,
          11,
          11,
          65,
          9,
          1,
          6,
          25,
          10,
          21,
          7,
          16,
          12,
          12,
          1,
          10,
          2,
          5,
          11,
          5,
          10,
          9,
          7,
          3,
          3,
          4,
          16,
          11,
          3,
          4,
          7,
          1,
          1,
          4,
          5,
          7,
          3,
          4,
          1,
          1,
          3,
          4,
          6,
          4,
          6,
          4,
          0,
          12,
          6,
          5,
          5,
          5,
          10,
          5,
          15,
          9,
          32,
          4,
          8,
          5,
          7,
          4,
          9,
          11,
          3,
          4,
          7,
          13,
          12,
          10,
          7,
          8,
          3,
          3,
          2,
          3,
          0,
          0,
          5,
          2,
          18,
          4,
          1,
          3,
          5,
          2,
          7,
          11,
          3,
          3,
          3,
          3,
          4,
          11,
          7,
          1,
          5,
          6,
          7,
          5,
          3,
          3,
          1,
          3,
          4,
          6,
          1,
          8,
          4,
          6,
          3,
          8,
          12,
          1,
          9,
          10,
          11,
          9,
          2,
          2,
          2,
          6,
          7,
          10,
          10,
          7,
          7,
          4,
          0,
          4,
          3,
          8,
          2,
          9,
          9,
          10,
          3,
          3,
          7,
          7,
          10,
          5,
          0,
          6,
          5,
          1,
          5,
          6,
          10,
          4,
          4,
          4,
          9,
          12,
          7,
          1,
          7,
          4,
          4,
          5,
          3,
          0,
          2,
          1,
          0,
          4,
          6,
          11,
          7,
          4,
          11,
          1,
          3,
          2,
          6,
          16,
          14,
          8,
          10,
          14,
          3,
          14,
          5,
          11,
          10,
          9,
          8,
          21,
          4,
          9,
          2,
          3,
          10,
          1,
          5,
          5,
          7,
          3,
          6,
          1,
          10,
          10,
          3,
          10,
          13,
          7,
          3,
          7,
          8,
          3,
          11,
          1,
          4,
          7,
          4,
          6,
          3,
          2,
          7,
          6,
          4,
          5,
          5,
          3,
          13,
          3,
          4,
          3,
          4,
          0,
          3,
          12,
          6,
          5,
          6,
          5,
          1,
          4,
          0,
          3,
          0,
          12,
          5,
          0,
          5,
          3,
          10,
          7,
          2,
          2,
          3,
          5,
          3,
          4,
          4,
          0,
          12,
          7,
          6,
          3,
          4,
          1,
          1,
          5,
          9,
          4,
          11,
          3,
          4,
          6,
          11,
          7,
          6,
          3,
          11,
          11,
          11,
          10,
          10,
          5,
          1,
          4,
          10,
          1,
          0,
          1,
          3,
          5,
          4,
          4,
          1,
          5,
          1,
          1,
          8,
          1,
          3,
          9,
          1,
          15,
          5,
          4,
          15,
          3,
          3,
          6,
          5,
          3,
          2,
          15,
          1,
          2,
          3,
          3,
          2,
          1,
          4,
          3,
          6,
          6,
          3,
          6,
          4,
          1,
          1,
          3,
          3,
          3,
          1,
          2,
          1,
          3,
          6,
          4,
          5,
          9,
          3,
          6,
          2,
          4,
          11,
          3,
          3,
          1,
          7,
          5,
          6,
          5,
          2,
          4,
          2,
          9,
          1,
          4,
          7,
          6,
          4,
          6,
          4,
          25,
          14,
          15,
          3,
          8,
          13,
          6,
          7,
          15,
          1,
          2,
          7,
          6,
          6,
          7,
          13,
          8,
          18,
          9,
          5,
          8,
          2,
          1,
          3,
          2,
          1,
          6,
          4,
          4,
          7,
          9,
          1,
          3,
          2,
          1,
          2,
          5,
          2,
          5,
          6,
          1,
          3,
          3,
          1,
          4,
          2,
          1,
          1,
          7,
          3,
          2,
          2,
          1,
          4,
          6,
          15,
          2,
          14,
          1,
          4,
          6,
          3,
          10,
          3,
          5,
          6,
          3,
          5,
          8,
          3,
          3,
          7,
          5,
          9,
          4,
          3,
          10,
          6,
          1,
          5,
          5,
          5,
          2,
          4
         ]
        },
        {
         "boxpoints": "outliers",
         "marker": {
          "color": "#DBD957"
         },
         "name": "alit_gor",
         "showlegend": true,
         "type": "box",
         "y": [
          4,
          2,
          6,
          2,
          7,
          4,
          4,
          1,
          1,
          2,
          12,
          6,
          0,
          3,
          5,
          4,
          6,
          4,
          6,
          1,
          5,
          1,
          3,
          1,
          1,
          5,
          4,
          0,
          1,
          1,
          2,
          4,
          4
         ]
        },
        {
         "boxpoints": "outliers",
         "marker": {
          "color": "#57DB87"
         },
         "name": "ely",
         "showlegend": true,
         "type": "box",
         "y": [
          4,
          20,
          1,
          0,
          4,
          3,
          5,
          7,
          7,
          3,
          0,
          1,
          0,
          13,
          18,
          0,
          3,
          8,
          3,
          4,
          7,
          3,
          4,
          2,
          13,
          5,
          3,
          7,
          1,
          2,
          1,
          1,
          7,
          1,
          0,
          10,
          4,
          11,
          3,
          6,
          13,
          6,
          9,
          3,
          3,
          7,
          17,
          6,
          6,
          2,
          4,
          0,
          6,
          4,
          3,
          1,
          10,
          2,
          4,
          6,
          8,
          1,
          2,
          5,
          3,
          6,
          1,
          4,
          4,
          7,
          4,
          1,
          3,
          3,
          3,
          0,
          3,
          8,
          4,
          2,
          3,
          11,
          2,
          3,
          6,
          10,
          13,
          10,
          1,
          4,
          3,
          2,
          15,
          5,
          5,
          0,
          8,
          5,
          1,
          25,
          1,
          1,
          1,
          0,
          2,
          6,
          0,
          48,
          2,
          7,
          3,
          5,
          9,
          5,
          1,
          1,
          1,
          4,
          11,
          2,
          1,
          3,
          1,
          5,
          1,
          9,
          9,
          6,
          7,
          2,
          8,
          13,
          6,
          6,
          6,
          1,
          1,
          7,
          10,
          0,
          1,
          1,
          4,
          8,
          0,
          6,
          3,
          11,
          7,
          3,
          30,
          3,
          8,
          6,
          2,
          4,
          7,
          5,
          3,
          6,
          4,
          0,
          13,
          4,
          5
         ]
        },
        {
         "boxpoints": "outliers",
         "marker": {
          "color": "#57DBC5"
         },
         "name": "erland",
         "showlegend": true,
         "type": "box",
         "y": [
          5,
          8,
          8,
          2,
          4,
          7,
          9,
          4,
          4,
          3,
          1,
          6,
          3,
          4,
          3,
          1,
          2,
          2,
          3,
          1,
          3,
          4,
          3,
          4,
          4,
          4,
          10,
          3,
          0,
          6,
          3,
          5,
          1,
          3,
          4,
          2,
          3,
          4,
          2,
          6,
          1,
          7,
          12,
          6,
          5,
          3,
          9,
          2,
          9,
          4,
          4,
          3,
          2,
          5,
          6,
          5,
          1,
          5,
          2,
          1,
          3,
          2,
          4,
          1,
          4,
          4,
          8,
          4,
          8,
          6,
          1,
          2,
          6,
          1,
          4,
          7,
          11,
          2,
          9,
          2,
          6,
          1,
          3,
          6,
          1,
          9,
          4,
          5,
          1,
          4,
          8,
          2,
          13,
          2,
          4,
          4,
          7,
          8,
          10,
          5,
          1,
          7,
          9,
          1,
          6,
          8,
          8,
          2,
          3,
          4,
          8,
          5,
          5,
          5,
          8,
          12,
          1,
          5,
          4,
          1,
          5,
          2,
          2,
          10,
          5,
          4,
          1,
          4,
          7,
          13,
          3,
          3,
          6,
          3,
          5,
          3,
          2,
          0,
          0,
          3,
          8,
          8,
          8,
          2,
          4,
          13,
          4,
          1,
          4,
          4,
          10,
          4,
          1,
          1,
          8,
          0,
          1,
          1,
          1,
          4,
          8,
          11,
          1,
          5,
          5,
          2,
          3,
          4,
          4,
          7,
          0,
          4,
          3,
          3,
          1,
          5,
          3,
          4,
          4,
          4,
          2,
          3,
          8,
          3,
          1,
          3,
          1,
          8,
          5,
          3,
          1,
          1,
          1,
          1,
          7,
          2,
          13,
          3,
          5,
          3,
          8,
          2,
          3,
          6,
          18,
          7,
          5,
          3,
          13,
          1,
          2,
          3,
          5,
          11,
          0,
          8,
          6,
          21,
          13,
          17,
          3,
          3,
          2,
          6,
          4,
          6,
          8,
          1,
          4
         ]
        },
        {
         "boxpoints": "outliers",
         "marker": {
          "color": "#57B5DB"
         },
         "name": "fawaz",
         "showlegend": true,
         "type": "box",
         "y": [
          25,
          4,
          1,
          0,
          4,
          2,
          5,
          1,
          7,
          11,
          11,
          1,
          3,
          8,
          8,
          4,
          4,
          1,
          1
         ]
        },
        {
         "boxpoints": "outliers",
         "marker": {
          "color": "#7357DB"
         },
         "name": "kajal",
         "showlegend": true,
         "type": "box",
         "y": [
          22,
          11,
          1,
          13,
          17,
          21,
          24,
          4,
          3,
          13,
          3,
          5,
          13,
          19,
          9,
          3,
          10,
          4,
          10,
          10,
          6,
          0,
          15,
          20,
          0,
          15,
          1,
          1,
          4,
          2,
          1,
          8,
          7,
          0,
          6,
          4,
          1,
          3,
          7,
          12,
          4,
          9,
          3,
          11,
          4,
          5,
          18,
          4,
          3,
          11,
          0,
          9,
          6,
          7,
          6,
          18,
          26,
          3,
          15,
          3,
          12,
          6,
          7,
          8,
          29,
          8,
          8,
          6,
          8,
          7,
          5,
          2,
          3,
          1,
          3,
          9,
          6,
          5,
          9,
          8,
          5,
          1,
          6,
          7,
          6,
          5,
          4,
          3,
          13,
          6,
          11,
          5,
          3,
          2,
          15,
          6,
          3,
          3,
          4,
          1,
          3,
          5,
          4,
          3,
          3,
          8,
          7,
          6,
          5,
          3,
          3,
          2,
          11,
          4,
          2,
          4,
          1,
          3,
          1,
          9,
          9,
          5,
          1,
          8,
          12,
          1,
          3,
          16,
          3,
          2,
          5,
          38,
          4,
          7,
          15,
          13,
          15,
          2,
          1,
          1,
          6,
          2,
          11,
          7,
          2,
          1,
          11,
          2,
          5,
          12,
          6,
          4,
          1,
          8,
          8,
          8,
          2,
          14,
          8,
          2,
          20,
          2,
          12,
          2,
          4,
          8,
          15,
          7,
          1,
          10,
          2,
          2,
          1,
          4,
          6,
          1,
          5,
          4,
          5,
          4,
          0,
          9,
          87,
          1,
          2,
          2,
          5,
          1,
          5,
          5,
          22,
          7,
          6,
          6,
          3,
          1,
          1,
          6,
          5,
          10,
          5,
          8,
          1,
          33,
          50,
          0,
          5,
          2,
          1,
          4,
          5,
          7,
          2,
          9,
          6,
          3,
          8,
          3,
          1,
          7,
          4,
          3,
          0,
          5,
          8,
          10,
          9,
          4,
          8,
          2,
          10,
          4,
          24,
          7,
          12,
          10,
          4,
          2,
          40,
          4,
          1,
          4,
          4,
          4,
          30,
          3,
          14,
          4,
          2,
          12,
          3,
          1,
          4,
          6,
          1,
          3,
          13,
          1,
          1,
          1,
          5,
          6,
          2,
          3,
          3,
          8,
          10,
          3,
          10,
          1,
          2,
          7,
          1,
          3,
          8,
          1,
          3,
          6,
          1,
          18,
          4,
          10,
          6,
          11,
          5,
          3,
          1,
          3,
          6,
          2,
          3,
          3,
          3,
          7,
          1,
          2,
          6,
          1,
          2,
          3,
          7,
          4,
          4,
          10,
          1,
          3,
          3,
          3,
          5,
          1,
          9,
          12,
          8,
          2,
          8,
          6,
          6,
          3,
          4,
          5,
          1,
          6,
          5,
          3,
          1,
          3,
          4,
          1,
          9,
          3,
          5,
          4,
          1,
          7,
          7,
          5,
          7,
          1,
          2,
          6,
          5,
          2,
          5,
          2,
          3,
          5,
          5,
          3,
          5,
          6,
          1,
          6,
          4,
          4,
          2,
          7,
          1,
          3,
          1,
          5,
          3,
          3,
          6,
          2,
          2,
          1,
          3,
          2,
          2,
          3,
          1,
          3,
          4,
          9,
          5,
          5,
          7,
          7,
          8,
          0,
          4,
          2,
          5,
          7,
          1,
          7,
          1,
          5,
          6,
          1,
          2,
          3,
          6,
          7,
          6,
          10,
          1,
          2,
          1,
          4,
          5,
          3,
          4,
          3,
          4,
          9,
          5,
          3,
          2,
          1,
          5,
          6,
          9,
          3,
          4,
          6,
          2,
          1,
          2,
          3,
          1,
          6,
          4,
          4,
          2,
          4,
          4,
          1,
          8,
          1,
          8,
          1,
          2,
          5,
          5,
          1,
          6,
          4,
          2,
          3,
          7,
          4,
          10,
          8,
          2,
          17,
          4,
          13,
          4,
          2,
          6,
          2,
          1,
          4,
          5,
          9,
          1,
          10,
          4,
          1,
          2,
          5,
          3,
          2,
          1,
          4,
          1,
          2,
          3,
          12,
          2,
          1,
          2,
          4,
          1,
          2,
          1,
          3,
          1,
          11,
          2,
          5,
          6,
          6,
          2,
          10,
          7,
          6,
          4,
          6,
          3,
          7,
          7,
          4,
          8,
          4,
          2,
          9,
          5,
          4,
          1,
          5,
          13,
          4,
          2,
          3,
          1,
          3,
          3,
          4,
          6,
          3,
          6,
          6,
          4,
          2,
          6,
          6,
          6,
          7,
          5,
          4,
          6,
          6,
          5,
          11,
          12,
          11,
          5,
          5,
          6,
          2,
          4,
          5,
          1,
          4,
          3,
          1,
          1,
          7,
          3,
          7,
          0,
          0,
          0,
          7,
          6,
          7,
          2,
          2,
          1,
          5,
          3,
          3,
          2,
          1,
          1,
          1,
          2,
          2,
          9,
          6,
          3,
          7,
          3,
          12,
          12,
          4,
          6,
          1,
          4,
          8,
          2,
          5,
          1,
          2,
          5,
          3,
          2,
          4,
          6,
          2,
          2,
          1,
          1,
          1,
          4,
          1,
          4,
          1,
          1,
          6,
          6,
          1,
          6,
          1,
          4,
          10,
          2,
          4,
          6,
          1,
          1,
          2,
          5,
          1,
          1,
          3,
          2,
          1,
          1,
          3,
          3,
          3,
          4,
          2,
          3,
          2,
          6,
          1,
          4,
          2,
          5,
          4,
          3,
          3
         ]
        },
        {
         "boxpoints": "outliers",
         "marker": {
          "color": "#DB5F57"
         },
         "name": "adhit",
         "showlegend": true,
         "type": "box",
         "y": [
          4,
          1,
          1,
          9,
          7,
          2,
          4,
          3,
          1,
          1,
          1,
          5,
          1,
          4,
          12,
          7,
          1,
          2,
          1,
          2,
          1,
          3,
          1,
          6,
          3,
          3,
          1,
          2,
          2,
          5,
          4,
          2,
          5,
          1,
          8,
          8,
          5,
          4,
          1,
          1,
          3,
          5,
          6,
          3,
          1,
          1,
          5,
          4,
          1,
          1,
          3,
          6,
          1,
          2,
          6,
          3,
          4,
          1,
          5,
          4,
          6,
          4,
          2,
          2,
          3,
          3,
          1,
          5,
          2,
          6,
          10,
          2,
          5,
          5,
          4,
          1,
          2,
          5,
          8,
          3
         ]
        },
        {
         "boxpoints": "outliers",
         "marker": {
          "color": "#A0DB57"
         },
         "name": "alit_jak",
         "showlegend": true,
         "type": "box",
         "y": [
          23,
          4,
          4,
          9,
          0,
          0,
          0,
          0,
          0,
          0,
          0,
          0,
          3,
          14,
          9,
          4,
          1,
          2,
          4,
          7,
          9,
          1,
          11,
          9,
          1,
          1,
          10,
          3,
          4,
          7,
          1,
          4,
          11,
          4,
          3,
          3,
          1,
          1,
          16,
          6,
          1,
          4,
          6,
          3,
          2,
          4,
          5,
          3,
          2,
          5,
          1,
          2,
          1,
          2,
          1,
          4,
          4,
          2,
          1,
          4,
          3,
          1,
          4,
          4,
          5,
          5,
          5,
          6,
          3,
          1,
          1,
          6,
          6,
          2,
          3,
          5,
          3,
          1,
          3,
          2,
          3,
          2,
          1,
          3,
          6,
          9,
          3,
          3,
          1,
          3,
          5,
          7,
          4,
          9,
          5,
          0,
          1,
          5,
          1,
          2,
          2,
          3,
          2,
          4,
          5,
          5,
          13,
          2,
          2,
          3,
          9,
          1,
          1,
          7,
          1,
          2,
          1,
          2,
          6,
          4,
          1,
          3,
          7,
          1,
          4,
          1
         ]
        },
        {
         "boxpoints": "outliers",
         "marker": {
          "color": "#63DB57"
         },
         "name": "aris",
         "showlegend": true,
         "type": "box",
         "y": [
          13,
          2,
          4,
          2,
          4,
          4,
          7,
          1,
          2,
          10,
          8,
          4,
          4,
          4,
          4,
          11,
          8,
          1,
          1,
          5,
          3,
          1,
          2,
          1,
          5,
          8,
          6,
          2,
          5,
          1,
          5,
          4,
          6,
          6,
          0,
          4,
          3,
          2,
          5,
          4,
          1,
          4,
          2,
          1,
          6,
          10,
          10,
          1,
          1,
          2,
          1,
          5,
          2,
          4,
          5,
          4,
          2,
          4,
          3,
          4,
          7,
          3,
          1,
          4,
          2,
          4,
          7,
          7,
          3,
          11,
          1,
          7,
          3,
          2,
          6,
          2,
          7,
          9,
          1,
          4,
          67,
          1,
          0,
          0,
          15,
          14,
          12,
          2,
          2,
          4,
          4,
          1,
          4,
          2,
          2,
          1,
          3,
          4,
          1,
          6,
          4,
          9,
          6,
          6,
          4,
          6,
          8,
          13,
          7,
          7,
          4,
          5,
          2,
          1,
          3,
          4,
          4,
          1,
          1,
          2,
          7,
          3,
          7,
          1,
          2,
          1,
          2,
          2,
          2,
          1,
          1,
          2,
          6,
          4,
          4,
          2,
          1,
          2,
          2,
          1,
          1,
          3,
          9,
          1,
          2,
          1,
          2,
          3,
          3,
          4,
          3,
          5,
          1,
          3,
          3,
          1,
          3,
          7,
          3,
          1,
          2,
          6,
          1,
          3,
          2,
          5,
          3,
          9,
          12,
          8,
          1,
          2,
          2,
          3,
          7,
          5,
          2,
          3,
          7,
          3,
          1,
          8,
          2,
          4,
          13,
          3,
          4,
          0,
          12,
          3,
          5,
          1,
          5,
          0,
          1,
          4,
          7,
          4,
          7,
          2,
          1,
          14,
          1,
          1,
          7,
          4,
          1,
          3,
          0,
          0,
          0,
          8,
          1,
          7,
          1,
          4,
          5,
          5,
          2,
          3,
          1,
          2,
          1,
          5,
          1,
          5,
          2,
          12
         ]
        },
        {
         "boxpoints": "outliers",
         "marker": {
          "color": "#B057DB"
         },
         "name": "mirza",
         "showlegend": true,
         "type": "box",
         "y": [
          2,
          1,
          6,
          8,
          5,
          3,
          4,
          2,
          2,
          2,
          2,
          4,
          3,
          7,
          1,
          2,
          1,
          5,
          4,
          5,
          3,
          2,
          3,
          4,
          1,
          5,
          0,
          2
         ]
        },
        {
         "boxpoints": "outliers",
         "marker": {
          "color": "#DB57C9"
         },
         "name": "rika",
         "showlegend": true,
         "type": "box",
         "y": [
          18,
          7,
          1,
          10,
          1,
          4,
          1,
          1,
          2,
          4,
          6,
          1,
          2,
          7,
          3,
          8,
          3,
          9,
          0,
          4,
          1,
          1,
          6,
          11,
          6,
          5,
          8,
          4,
          9,
          4,
          1,
          1,
          5,
          0,
          4,
          1,
          3,
          5,
          2,
          1,
          1,
          2,
          3,
          3,
          6,
          1,
          0
         ]
        }
       ],
       "layout": {
        "template": {
         "data": {
          "bar": [
           {
            "error_x": {
             "color": "#2a3f5f"
            },
            "error_y": {
             "color": "#2a3f5f"
            },
            "marker": {
             "line": {
              "color": "white",
              "width": 0.5
             }
            },
            "type": "bar"
           }
          ],
          "barpolar": [
           {
            "marker": {
             "line": {
              "color": "white",
              "width": 0.5
             }
            },
            "type": "barpolar"
           }
          ],
          "carpet": [
           {
            "aaxis": {
             "endlinecolor": "#2a3f5f",
             "gridcolor": "#C8D4E3",
             "linecolor": "#C8D4E3",
             "minorgridcolor": "#C8D4E3",
             "startlinecolor": "#2a3f5f"
            },
            "baxis": {
             "endlinecolor": "#2a3f5f",
             "gridcolor": "#C8D4E3",
             "linecolor": "#C8D4E3",
             "minorgridcolor": "#C8D4E3",
             "startlinecolor": "#2a3f5f"
            },
            "type": "carpet"
           }
          ],
          "choropleth": [
           {
            "colorbar": {
             "outlinewidth": 0,
             "ticks": ""
            },
            "type": "choropleth"
           }
          ],
          "contour": [
           {
            "colorbar": {
             "outlinewidth": 0,
             "ticks": ""
            },
            "colorscale": [
             [
              0,
              "#0d0887"
             ],
             [
              0.1111111111111111,
              "#46039f"
             ],
             [
              0.2222222222222222,
              "#7201a8"
             ],
             [
              0.3333333333333333,
              "#9c179e"
             ],
             [
              0.4444444444444444,
              "#bd3786"
             ],
             [
              0.5555555555555556,
              "#d8576b"
             ],
             [
              0.6666666666666666,
              "#ed7953"
             ],
             [
              0.7777777777777778,
              "#fb9f3a"
             ],
             [
              0.8888888888888888,
              "#fdca26"
             ],
             [
              1,
              "#f0f921"
             ]
            ],
            "type": "contour"
           }
          ],
          "contourcarpet": [
           {
            "colorbar": {
             "outlinewidth": 0,
             "ticks": ""
            },
            "type": "contourcarpet"
           }
          ],
          "heatmap": [
           {
            "colorbar": {
             "outlinewidth": 0,
             "ticks": ""
            },
            "colorscale": [
             [
              0,
              "#0d0887"
             ],
             [
              0.1111111111111111,
              "#46039f"
             ],
             [
              0.2222222222222222,
              "#7201a8"
             ],
             [
              0.3333333333333333,
              "#9c179e"
             ],
             [
              0.4444444444444444,
              "#bd3786"
             ],
             [
              0.5555555555555556,
              "#d8576b"
             ],
             [
              0.6666666666666666,
              "#ed7953"
             ],
             [
              0.7777777777777778,
              "#fb9f3a"
             ],
             [
              0.8888888888888888,
              "#fdca26"
             ],
             [
              1,
              "#f0f921"
             ]
            ],
            "type": "heatmap"
           }
          ],
          "heatmapgl": [
           {
            "colorbar": {
             "outlinewidth": 0,
             "ticks": ""
            },
            "colorscale": [
             [
              0,
              "#0d0887"
             ],
             [
              0.1111111111111111,
              "#46039f"
             ],
             [
              0.2222222222222222,
              "#7201a8"
             ],
             [
              0.3333333333333333,
              "#9c179e"
             ],
             [
              0.4444444444444444,
              "#bd3786"
             ],
             [
              0.5555555555555556,
              "#d8576b"
             ],
             [
              0.6666666666666666,
              "#ed7953"
             ],
             [
              0.7777777777777778,
              "#fb9f3a"
             ],
             [
              0.8888888888888888,
              "#fdca26"
             ],
             [
              1,
              "#f0f921"
             ]
            ],
            "type": "heatmapgl"
           }
          ],
          "histogram": [
           {
            "marker": {
             "colorbar": {
              "outlinewidth": 0,
              "ticks": ""
             }
            },
            "type": "histogram"
           }
          ],
          "histogram2d": [
           {
            "colorbar": {
             "outlinewidth": 0,
             "ticks": ""
            },
            "colorscale": [
             [
              0,
              "#0d0887"
             ],
             [
              0.1111111111111111,
              "#46039f"
             ],
             [
              0.2222222222222222,
              "#7201a8"
             ],
             [
              0.3333333333333333,
              "#9c179e"
             ],
             [
              0.4444444444444444,
              "#bd3786"
             ],
             [
              0.5555555555555556,
              "#d8576b"
             ],
             [
              0.6666666666666666,
              "#ed7953"
             ],
             [
              0.7777777777777778,
              "#fb9f3a"
             ],
             [
              0.8888888888888888,
              "#fdca26"
             ],
             [
              1,
              "#f0f921"
             ]
            ],
            "type": "histogram2d"
           }
          ],
          "histogram2dcontour": [
           {
            "colorbar": {
             "outlinewidth": 0,
             "ticks": ""
            },
            "colorscale": [
             [
              0,
              "#0d0887"
             ],
             [
              0.1111111111111111,
              "#46039f"
             ],
             [
              0.2222222222222222,
              "#7201a8"
             ],
             [
              0.3333333333333333,
              "#9c179e"
             ],
             [
              0.4444444444444444,
              "#bd3786"
             ],
             [
              0.5555555555555556,
              "#d8576b"
             ],
             [
              0.6666666666666666,
              "#ed7953"
             ],
             [
              0.7777777777777778,
              "#fb9f3a"
             ],
             [
              0.8888888888888888,
              "#fdca26"
             ],
             [
              1,
              "#f0f921"
             ]
            ],
            "type": "histogram2dcontour"
           }
          ],
          "mesh3d": [
           {
            "colorbar": {
             "outlinewidth": 0,
             "ticks": ""
            },
            "type": "mesh3d"
           }
          ],
          "parcoords": [
           {
            "line": {
             "colorbar": {
              "outlinewidth": 0,
              "ticks": ""
             }
            },
            "type": "parcoords"
           }
          ],
          "pie": [
           {
            "automargin": true,
            "type": "pie"
           }
          ],
          "scatter": [
           {
            "marker": {
             "colorbar": {
              "outlinewidth": 0,
              "ticks": ""
             }
            },
            "type": "scatter"
           }
          ],
          "scatter3d": [
           {
            "line": {
             "colorbar": {
              "outlinewidth": 0,
              "ticks": ""
             }
            },
            "marker": {
             "colorbar": {
              "outlinewidth": 0,
              "ticks": ""
             }
            },
            "type": "scatter3d"
           }
          ],
          "scattercarpet": [
           {
            "marker": {
             "colorbar": {
              "outlinewidth": 0,
              "ticks": ""
             }
            },
            "type": "scattercarpet"
           }
          ],
          "scattergeo": [
           {
            "marker": {
             "colorbar": {
              "outlinewidth": 0,
              "ticks": ""
             }
            },
            "type": "scattergeo"
           }
          ],
          "scattergl": [
           {
            "marker": {
             "colorbar": {
              "outlinewidth": 0,
              "ticks": ""
             }
            },
            "type": "scattergl"
           }
          ],
          "scattermapbox": [
           {
            "marker": {
             "colorbar": {
              "outlinewidth": 0,
              "ticks": ""
             }
            },
            "type": "scattermapbox"
           }
          ],
          "scatterpolar": [
           {
            "marker": {
             "colorbar": {
              "outlinewidth": 0,
              "ticks": ""
             }
            },
            "type": "scatterpolar"
           }
          ],
          "scatterpolargl": [
           {
            "marker": {
             "colorbar": {
              "outlinewidth": 0,
              "ticks": ""
             }
            },
            "type": "scatterpolargl"
           }
          ],
          "scatterternary": [
           {
            "marker": {
             "colorbar": {
              "outlinewidth": 0,
              "ticks": ""
             }
            },
            "type": "scatterternary"
           }
          ],
          "surface": [
           {
            "colorbar": {
             "outlinewidth": 0,
             "ticks": ""
            },
            "colorscale": [
             [
              0,
              "#0d0887"
             ],
             [
              0.1111111111111111,
              "#46039f"
             ],
             [
              0.2222222222222222,
              "#7201a8"
             ],
             [
              0.3333333333333333,
              "#9c179e"
             ],
             [
              0.4444444444444444,
              "#bd3786"
             ],
             [
              0.5555555555555556,
              "#d8576b"
             ],
             [
              0.6666666666666666,
              "#ed7953"
             ],
             [
              0.7777777777777778,
              "#fb9f3a"
             ],
             [
              0.8888888888888888,
              "#fdca26"
             ],
             [
              1,
              "#f0f921"
             ]
            ],
            "type": "surface"
           }
          ],
          "table": [
           {
            "cells": {
             "fill": {
              "color": "#EBF0F8"
             },
             "line": {
              "color": "white"
             }
            },
            "header": {
             "fill": {
              "color": "#C8D4E3"
             },
             "line": {
              "color": "white"
             }
            },
            "type": "table"
           }
          ]
         },
         "layout": {
          "annotationdefaults": {
           "arrowcolor": "#2a3f5f",
           "arrowhead": 0,
           "arrowwidth": 1
          },
          "autotypenumbers": "strict",
          "coloraxis": {
           "colorbar": {
            "outlinewidth": 0,
            "ticks": ""
           }
          },
          "colorscale": {
           "diverging": [
            [
             0,
             "#8e0152"
            ],
            [
             0.1,
             "#c51b7d"
            ],
            [
             0.2,
             "#de77ae"
            ],
            [
             0.3,
             "#f1b6da"
            ],
            [
             0.4,
             "#fde0ef"
            ],
            [
             0.5,
             "#f7f7f7"
            ],
            [
             0.6,
             "#e6f5d0"
            ],
            [
             0.7,
             "#b8e186"
            ],
            [
             0.8,
             "#7fbc41"
            ],
            [
             0.9,
             "#4d9221"
            ],
            [
             1,
             "#276419"
            ]
           ],
           "sequential": [
            [
             0,
             "#0d0887"
            ],
            [
             0.1111111111111111,
             "#46039f"
            ],
            [
             0.2222222222222222,
             "#7201a8"
            ],
            [
             0.3333333333333333,
             "#9c179e"
            ],
            [
             0.4444444444444444,
             "#bd3786"
            ],
            [
             0.5555555555555556,
             "#d8576b"
            ],
            [
             0.6666666666666666,
             "#ed7953"
            ],
            [
             0.7777777777777778,
             "#fb9f3a"
            ],
            [
             0.8888888888888888,
             "#fdca26"
            ],
            [
             1,
             "#f0f921"
            ]
           ],
           "sequentialminus": [
            [
             0,
             "#0d0887"
            ],
            [
             0.1111111111111111,
             "#46039f"
            ],
            [
             0.2222222222222222,
             "#7201a8"
            ],
            [
             0.3333333333333333,
             "#9c179e"
            ],
            [
             0.4444444444444444,
             "#bd3786"
            ],
            [
             0.5555555555555556,
             "#d8576b"
            ],
            [
             0.6666666666666666,
             "#ed7953"
            ],
            [
             0.7777777777777778,
             "#fb9f3a"
            ],
            [
             0.8888888888888888,
             "#fdca26"
            ],
            [
             1,
             "#f0f921"
            ]
           ]
          },
          "colorway": [
           "#636efa",
           "#EF553B",
           "#00cc96",
           "#ab63fa",
           "#FFA15A",
           "#19d3f3",
           "#FF6692",
           "#B6E880",
           "#FF97FF",
           "#FECB52"
          ],
          "font": {
           "color": "#2a3f5f"
          },
          "geo": {
           "bgcolor": "white",
           "lakecolor": "white",
           "landcolor": "white",
           "showlakes": true,
           "showland": true,
           "subunitcolor": "#C8D4E3"
          },
          "hoverlabel": {
           "align": "left"
          },
          "hovermode": "closest",
          "mapbox": {
           "style": "light"
          },
          "paper_bgcolor": "white",
          "plot_bgcolor": "white",
          "polar": {
           "angularaxis": {
            "gridcolor": "#EBF0F8",
            "linecolor": "#EBF0F8",
            "ticks": ""
           },
           "bgcolor": "white",
           "radialaxis": {
            "gridcolor": "#EBF0F8",
            "linecolor": "#EBF0F8",
            "ticks": ""
           }
          },
          "scene": {
           "xaxis": {
            "backgroundcolor": "white",
            "gridcolor": "#DFE8F3",
            "gridwidth": 2,
            "linecolor": "#EBF0F8",
            "showbackground": true,
            "ticks": "",
            "zerolinecolor": "#EBF0F8"
           },
           "yaxis": {
            "backgroundcolor": "white",
            "gridcolor": "#DFE8F3",
            "gridwidth": 2,
            "linecolor": "#EBF0F8",
            "showbackground": true,
            "ticks": "",
            "zerolinecolor": "#EBF0F8"
           },
           "zaxis": {
            "backgroundcolor": "white",
            "gridcolor": "#DFE8F3",
            "gridwidth": 2,
            "linecolor": "#EBF0F8",
            "showbackground": true,
            "ticks": "",
            "zerolinecolor": "#EBF0F8"
           }
          },
          "shapedefaults": {
           "line": {
            "color": "#2a3f5f"
           }
          },
          "ternary": {
           "aaxis": {
            "gridcolor": "#DFE8F3",
            "linecolor": "#A2B1C6",
            "ticks": ""
           },
           "baxis": {
            "gridcolor": "#DFE8F3",
            "linecolor": "#A2B1C6",
            "ticks": ""
           },
           "bgcolor": "white",
           "caxis": {
            "gridcolor": "#DFE8F3",
            "linecolor": "#A2B1C6",
            "ticks": ""
           }
          },
          "title": {
           "x": 0.05
          },
          "xaxis": {
           "automargin": true,
           "gridcolor": "#EBF0F8",
           "linecolor": "#EBF0F8",
           "ticks": "",
           "title": {
            "standoff": 15
           },
           "zerolinecolor": "#EBF0F8",
           "zerolinewidth": 2
          },
          "yaxis": {
           "automargin": true,
           "gridcolor": "#EBF0F8",
           "linecolor": "#EBF0F8",
           "ticks": "",
           "title": {
            "standoff": 15
           },
           "zerolinecolor": "#EBF0F8",
           "zerolinewidth": 2
          }
         }
        }
       }
      }
     },
     "metadata": {},
     "output_type": "display_data"
    }
   ],
   "source": [
    "fig = FigureBuilder(chat.assign(message=chat['message'].apply(lambda x: ''.join([' ' for i in range(len(x.split())) if x != '<Media omitted>'])))\n",
    "                    ).user_msg_length_boxplot(title=None, xlabel=None)\n",
    "py.plot(fig, filename='Message length boxplot', auto_open=False)\n",
    "fig"
   ]
  },
  {
   "attachments": {},
   "cell_type": "markdown",
   "metadata": {},
   "source": [
    "### Word cloud"
   ]
  },
  {
   "cell_type": "code",
   "execution_count": 12,
   "metadata": {},
   "outputs": [],
   "source": [
    "stylecloud.gen_stylecloud(' '.join(chat['clean_msg']),\n",
    "                          icon_name= 'fab fa-whatsapp',\n",
    "                          colors= ['#25D366', '#128C7E', '#075E54'],\n",
    "                          random_state= 13\n",
    "                          )"
   ]
  },
  {
   "attachments": {},
   "cell_type": "markdown",
   "metadata": {},
   "source": [
    "*stylecloud.png*<br>\n",
    "![stylecloud.png](stylecloud.png)"
   ]
  },
  {
   "attachments": {},
   "cell_type": "markdown",
   "metadata": {},
   "source": [
    "## Message activity"
   ]
  },
  {
   "attachments": {},
   "cell_type": "markdown",
   "metadata": {},
   "source": [
    "All users interventions count"
   ]
  },
  {
   "cell_type": "code",
   "execution_count": 13,
   "metadata": {},
   "outputs": [
    {
     "data": {
      "application/vnd.plotly.v1+json": {
       "config": {
        "plotlyServerURL": "https://plotly.com"
       },
       "data": [
        {
         "name": "interventions count",
         "showlegend": true,
         "text": [
          "2023-01-06T00:00:00",
          "2023-01-07T00:00:00",
          "2023-01-09T00:00:00",
          "2023-01-10T00:00:00",
          "2023-01-11T00:00:00",
          "2023-01-13T00:00:00",
          "2023-01-14T00:00:00",
          "2023-01-16T00:00:00",
          "2023-01-17T00:00:00",
          "2023-01-18T00:00:00",
          "2023-01-19T00:00:00",
          "2023-01-20T00:00:00",
          "2023-01-21T00:00:00",
          "2023-01-23T00:00:00",
          "2023-01-24T00:00:00",
          "2023-01-25T00:00:00",
          "2023-01-26T00:00:00",
          "2023-01-27T00:00:00",
          "2023-01-28T00:00:00",
          "2023-01-30T00:00:00",
          "2023-01-31T00:00:00",
          "2023-02-01T00:00:00",
          "2023-02-02T00:00:00",
          "2023-02-03T00:00:00",
          "2023-02-04T00:00:00",
          "2023-02-06T00:00:00",
          "2023-02-09T00:00:00",
          "2023-02-11T00:00:00",
          "2023-02-13T00:00:00",
          "2023-02-14T00:00:00",
          "2023-02-15T00:00:00",
          "2023-02-16T00:00:00",
          "2023-02-17T00:00:00",
          "2023-02-18T00:00:00",
          "2023-02-19T00:00:00",
          "2023-02-20T00:00:00",
          "2023-02-21T00:00:00",
          "2023-02-22T00:00:00",
          "2023-02-23T00:00:00",
          "2023-02-24T00:00:00",
          "2023-02-25T00:00:00",
          "2023-02-27T00:00:00",
          "2023-02-28T00:00:00",
          "2023-03-01T00:00:00",
          "2023-03-02T00:00:00",
          "2023-03-03T00:00:00",
          "2023-03-04T00:00:00",
          "2023-03-05T00:00:00",
          "2023-03-06T00:00:00",
          "2023-03-07T00:00:00",
          "2023-03-08T00:00:00",
          "2023-03-09T00:00:00",
          "2023-03-10T00:00:00",
          "2023-03-11T00:00:00",
          "2023-03-13T00:00:00",
          "2023-03-14T00:00:00",
          "2023-03-16T00:00:00",
          "2023-03-17T00:00:00",
          "2023-03-18T00:00:00",
          "2023-03-20T00:00:00",
          "2023-03-21T00:00:00",
          "2023-03-22T00:00:00",
          "2023-03-24T00:00:00",
          "2023-03-25T00:00:00",
          "2023-03-27T00:00:00",
          "2023-03-29T00:00:00",
          "2023-04-01T00:00:00",
          "2023-04-03T00:00:00",
          "2023-04-05T00:00:00",
          "2023-04-06T00:00:00",
          "2023-04-08T00:00:00",
          "2023-04-10T00:00:00",
          "2023-04-11T00:00:00",
          "2023-04-12T00:00:00",
          "2023-04-13T00:00:00",
          "2023-04-15T00:00:00",
          "2023-04-16T00:00:00",
          "2023-04-17T00:00:00"
         ],
         "type": "scatter",
         "x": [
          "2023-01-06T00:00:00",
          "2023-01-07T00:00:00",
          "2023-01-09T00:00:00",
          "2023-01-10T00:00:00",
          "2023-01-11T00:00:00",
          "2023-01-13T00:00:00",
          "2023-01-14T00:00:00",
          "2023-01-16T00:00:00",
          "2023-01-17T00:00:00",
          "2023-01-18T00:00:00",
          "2023-01-19T00:00:00",
          "2023-01-20T00:00:00",
          "2023-01-21T00:00:00",
          "2023-01-23T00:00:00",
          "2023-01-24T00:00:00",
          "2023-01-25T00:00:00",
          "2023-01-26T00:00:00",
          "2023-01-27T00:00:00",
          "2023-01-28T00:00:00",
          "2023-01-30T00:00:00",
          "2023-01-31T00:00:00",
          "2023-02-01T00:00:00",
          "2023-02-02T00:00:00",
          "2023-02-03T00:00:00",
          "2023-02-04T00:00:00",
          "2023-02-06T00:00:00",
          "2023-02-09T00:00:00",
          "2023-02-11T00:00:00",
          "2023-02-13T00:00:00",
          "2023-02-14T00:00:00",
          "2023-02-15T00:00:00",
          "2023-02-16T00:00:00",
          "2023-02-17T00:00:00",
          "2023-02-18T00:00:00",
          "2023-02-19T00:00:00",
          "2023-02-20T00:00:00",
          "2023-02-21T00:00:00",
          "2023-02-22T00:00:00",
          "2023-02-23T00:00:00",
          "2023-02-24T00:00:00",
          "2023-02-25T00:00:00",
          "2023-02-27T00:00:00",
          "2023-02-28T00:00:00",
          "2023-03-01T00:00:00",
          "2023-03-02T00:00:00",
          "2023-03-03T00:00:00",
          "2023-03-04T00:00:00",
          "2023-03-05T00:00:00",
          "2023-03-06T00:00:00",
          "2023-03-07T00:00:00",
          "2023-03-08T00:00:00",
          "2023-03-09T00:00:00",
          "2023-03-10T00:00:00",
          "2023-03-11T00:00:00",
          "2023-03-13T00:00:00",
          "2023-03-14T00:00:00",
          "2023-03-16T00:00:00",
          "2023-03-17T00:00:00",
          "2023-03-18T00:00:00",
          "2023-03-20T00:00:00",
          "2023-03-21T00:00:00",
          "2023-03-22T00:00:00",
          "2023-03-24T00:00:00",
          "2023-03-25T00:00:00",
          "2023-03-27T00:00:00",
          "2023-03-29T00:00:00",
          "2023-04-01T00:00:00",
          "2023-04-03T00:00:00",
          "2023-04-05T00:00:00",
          "2023-04-06T00:00:00",
          "2023-04-08T00:00:00",
          "2023-04-10T00:00:00",
          "2023-04-11T00:00:00",
          "2023-04-12T00:00:00",
          "2023-04-13T00:00:00",
          "2023-04-15T00:00:00",
          "2023-04-16T00:00:00",
          "2023-04-17T00:00:00"
         ],
         "y": [
          19,
          46,
          21,
          6,
          41,
          2,
          4,
          112,
          11,
          17,
          23,
          2,
          8,
          2,
          42,
          54,
          29,
          15,
          25,
          21,
          13,
          22,
          17,
          1,
          9,
          10,
          47,
          6,
          24,
          35,
          42,
          19,
          1,
          46,
          2,
          38,
          62,
          56,
          128,
          35,
          23,
          51,
          3,
          30,
          18,
          37,
          29,
          7,
          11,
          55,
          86,
          16,
          5,
          9,
          8,
          8,
          25,
          1,
          14,
          6,
          13,
          2,
          7,
          8,
          9,
          38,
          14,
          48,
          22,
          17,
          2,
          45,
          267,
          5,
          58,
          7,
          1,
          11
         ]
        }
       ],
       "layout": {
        "template": {
         "data": {
          "bar": [
           {
            "error_x": {
             "color": "#2a3f5f"
            },
            "error_y": {
             "color": "#2a3f5f"
            },
            "marker": {
             "line": {
              "color": "white",
              "width": 0.5
             }
            },
            "type": "bar"
           }
          ],
          "barpolar": [
           {
            "marker": {
             "line": {
              "color": "white",
              "width": 0.5
             }
            },
            "type": "barpolar"
           }
          ],
          "carpet": [
           {
            "aaxis": {
             "endlinecolor": "#2a3f5f",
             "gridcolor": "#C8D4E3",
             "linecolor": "#C8D4E3",
             "minorgridcolor": "#C8D4E3",
             "startlinecolor": "#2a3f5f"
            },
            "baxis": {
             "endlinecolor": "#2a3f5f",
             "gridcolor": "#C8D4E3",
             "linecolor": "#C8D4E3",
             "minorgridcolor": "#C8D4E3",
             "startlinecolor": "#2a3f5f"
            },
            "type": "carpet"
           }
          ],
          "choropleth": [
           {
            "colorbar": {
             "outlinewidth": 0,
             "ticks": ""
            },
            "type": "choropleth"
           }
          ],
          "contour": [
           {
            "colorbar": {
             "outlinewidth": 0,
             "ticks": ""
            },
            "colorscale": [
             [
              0,
              "#0d0887"
             ],
             [
              0.1111111111111111,
              "#46039f"
             ],
             [
              0.2222222222222222,
              "#7201a8"
             ],
             [
              0.3333333333333333,
              "#9c179e"
             ],
             [
              0.4444444444444444,
              "#bd3786"
             ],
             [
              0.5555555555555556,
              "#d8576b"
             ],
             [
              0.6666666666666666,
              "#ed7953"
             ],
             [
              0.7777777777777778,
              "#fb9f3a"
             ],
             [
              0.8888888888888888,
              "#fdca26"
             ],
             [
              1,
              "#f0f921"
             ]
            ],
            "type": "contour"
           }
          ],
          "contourcarpet": [
           {
            "colorbar": {
             "outlinewidth": 0,
             "ticks": ""
            },
            "type": "contourcarpet"
           }
          ],
          "heatmap": [
           {
            "colorbar": {
             "outlinewidth": 0,
             "ticks": ""
            },
            "colorscale": [
             [
              0,
              "#0d0887"
             ],
             [
              0.1111111111111111,
              "#46039f"
             ],
             [
              0.2222222222222222,
              "#7201a8"
             ],
             [
              0.3333333333333333,
              "#9c179e"
             ],
             [
              0.4444444444444444,
              "#bd3786"
             ],
             [
              0.5555555555555556,
              "#d8576b"
             ],
             [
              0.6666666666666666,
              "#ed7953"
             ],
             [
              0.7777777777777778,
              "#fb9f3a"
             ],
             [
              0.8888888888888888,
              "#fdca26"
             ],
             [
              1,
              "#f0f921"
             ]
            ],
            "type": "heatmap"
           }
          ],
          "heatmapgl": [
           {
            "colorbar": {
             "outlinewidth": 0,
             "ticks": ""
            },
            "colorscale": [
             [
              0,
              "#0d0887"
             ],
             [
              0.1111111111111111,
              "#46039f"
             ],
             [
              0.2222222222222222,
              "#7201a8"
             ],
             [
              0.3333333333333333,
              "#9c179e"
             ],
             [
              0.4444444444444444,
              "#bd3786"
             ],
             [
              0.5555555555555556,
              "#d8576b"
             ],
             [
              0.6666666666666666,
              "#ed7953"
             ],
             [
              0.7777777777777778,
              "#fb9f3a"
             ],
             [
              0.8888888888888888,
              "#fdca26"
             ],
             [
              1,
              "#f0f921"
             ]
            ],
            "type": "heatmapgl"
           }
          ],
          "histogram": [
           {
            "marker": {
             "colorbar": {
              "outlinewidth": 0,
              "ticks": ""
             }
            },
            "type": "histogram"
           }
          ],
          "histogram2d": [
           {
            "colorbar": {
             "outlinewidth": 0,
             "ticks": ""
            },
            "colorscale": [
             [
              0,
              "#0d0887"
             ],
             [
              0.1111111111111111,
              "#46039f"
             ],
             [
              0.2222222222222222,
              "#7201a8"
             ],
             [
              0.3333333333333333,
              "#9c179e"
             ],
             [
              0.4444444444444444,
              "#bd3786"
             ],
             [
              0.5555555555555556,
              "#d8576b"
             ],
             [
              0.6666666666666666,
              "#ed7953"
             ],
             [
              0.7777777777777778,
              "#fb9f3a"
             ],
             [
              0.8888888888888888,
              "#fdca26"
             ],
             [
              1,
              "#f0f921"
             ]
            ],
            "type": "histogram2d"
           }
          ],
          "histogram2dcontour": [
           {
            "colorbar": {
             "outlinewidth": 0,
             "ticks": ""
            },
            "colorscale": [
             [
              0,
              "#0d0887"
             ],
             [
              0.1111111111111111,
              "#46039f"
             ],
             [
              0.2222222222222222,
              "#7201a8"
             ],
             [
              0.3333333333333333,
              "#9c179e"
             ],
             [
              0.4444444444444444,
              "#bd3786"
             ],
             [
              0.5555555555555556,
              "#d8576b"
             ],
             [
              0.6666666666666666,
              "#ed7953"
             ],
             [
              0.7777777777777778,
              "#fb9f3a"
             ],
             [
              0.8888888888888888,
              "#fdca26"
             ],
             [
              1,
              "#f0f921"
             ]
            ],
            "type": "histogram2dcontour"
           }
          ],
          "mesh3d": [
           {
            "colorbar": {
             "outlinewidth": 0,
             "ticks": ""
            },
            "type": "mesh3d"
           }
          ],
          "parcoords": [
           {
            "line": {
             "colorbar": {
              "outlinewidth": 0,
              "ticks": ""
             }
            },
            "type": "parcoords"
           }
          ],
          "pie": [
           {
            "automargin": true,
            "type": "pie"
           }
          ],
          "scatter": [
           {
            "marker": {
             "colorbar": {
              "outlinewidth": 0,
              "ticks": ""
             }
            },
            "type": "scatter"
           }
          ],
          "scatter3d": [
           {
            "line": {
             "colorbar": {
              "outlinewidth": 0,
              "ticks": ""
             }
            },
            "marker": {
             "colorbar": {
              "outlinewidth": 0,
              "ticks": ""
             }
            },
            "type": "scatter3d"
           }
          ],
          "scattercarpet": [
           {
            "marker": {
             "colorbar": {
              "outlinewidth": 0,
              "ticks": ""
             }
            },
            "type": "scattercarpet"
           }
          ],
          "scattergeo": [
           {
            "marker": {
             "colorbar": {
              "outlinewidth": 0,
              "ticks": ""
             }
            },
            "type": "scattergeo"
           }
          ],
          "scattergl": [
           {
            "marker": {
             "colorbar": {
              "outlinewidth": 0,
              "ticks": ""
             }
            },
            "type": "scattergl"
           }
          ],
          "scattermapbox": [
           {
            "marker": {
             "colorbar": {
              "outlinewidth": 0,
              "ticks": ""
             }
            },
            "type": "scattermapbox"
           }
          ],
          "scatterpolar": [
           {
            "marker": {
             "colorbar": {
              "outlinewidth": 0,
              "ticks": ""
             }
            },
            "type": "scatterpolar"
           }
          ],
          "scatterpolargl": [
           {
            "marker": {
             "colorbar": {
              "outlinewidth": 0,
              "ticks": ""
             }
            },
            "type": "scatterpolargl"
           }
          ],
          "scatterternary": [
           {
            "marker": {
             "colorbar": {
              "outlinewidth": 0,
              "ticks": ""
             }
            },
            "type": "scatterternary"
           }
          ],
          "surface": [
           {
            "colorbar": {
             "outlinewidth": 0,
             "ticks": ""
            },
            "colorscale": [
             [
              0,
              "#0d0887"
             ],
             [
              0.1111111111111111,
              "#46039f"
             ],
             [
              0.2222222222222222,
              "#7201a8"
             ],
             [
              0.3333333333333333,
              "#9c179e"
             ],
             [
              0.4444444444444444,
              "#bd3786"
             ],
             [
              0.5555555555555556,
              "#d8576b"
             ],
             [
              0.6666666666666666,
              "#ed7953"
             ],
             [
              0.7777777777777778,
              "#fb9f3a"
             ],
             [
              0.8888888888888888,
              "#fdca26"
             ],
             [
              1,
              "#f0f921"
             ]
            ],
            "type": "surface"
           }
          ],
          "table": [
           {
            "cells": {
             "fill": {
              "color": "#EBF0F8"
             },
             "line": {
              "color": "white"
             }
            },
            "header": {
             "fill": {
              "color": "#C8D4E3"
             },
             "line": {
              "color": "white"
             }
            },
            "type": "table"
           }
          ]
         },
         "layout": {
          "annotationdefaults": {
           "arrowcolor": "#2a3f5f",
           "arrowhead": 0,
           "arrowwidth": 1
          },
          "autotypenumbers": "strict",
          "coloraxis": {
           "colorbar": {
            "outlinewidth": 0,
            "ticks": ""
           }
          },
          "colorscale": {
           "diverging": [
            [
             0,
             "#8e0152"
            ],
            [
             0.1,
             "#c51b7d"
            ],
            [
             0.2,
             "#de77ae"
            ],
            [
             0.3,
             "#f1b6da"
            ],
            [
             0.4,
             "#fde0ef"
            ],
            [
             0.5,
             "#f7f7f7"
            ],
            [
             0.6,
             "#e6f5d0"
            ],
            [
             0.7,
             "#b8e186"
            ],
            [
             0.8,
             "#7fbc41"
            ],
            [
             0.9,
             "#4d9221"
            ],
            [
             1,
             "#276419"
            ]
           ],
           "sequential": [
            [
             0,
             "#0d0887"
            ],
            [
             0.1111111111111111,
             "#46039f"
            ],
            [
             0.2222222222222222,
             "#7201a8"
            ],
            [
             0.3333333333333333,
             "#9c179e"
            ],
            [
             0.4444444444444444,
             "#bd3786"
            ],
            [
             0.5555555555555556,
             "#d8576b"
            ],
            [
             0.6666666666666666,
             "#ed7953"
            ],
            [
             0.7777777777777778,
             "#fb9f3a"
            ],
            [
             0.8888888888888888,
             "#fdca26"
            ],
            [
             1,
             "#f0f921"
            ]
           ],
           "sequentialminus": [
            [
             0,
             "#0d0887"
            ],
            [
             0.1111111111111111,
             "#46039f"
            ],
            [
             0.2222222222222222,
             "#7201a8"
            ],
            [
             0.3333333333333333,
             "#9c179e"
            ],
            [
             0.4444444444444444,
             "#bd3786"
            ],
            [
             0.5555555555555556,
             "#d8576b"
            ],
            [
             0.6666666666666666,
             "#ed7953"
            ],
            [
             0.7777777777777778,
             "#fb9f3a"
            ],
            [
             0.8888888888888888,
             "#fdca26"
            ],
            [
             1,
             "#f0f921"
            ]
           ]
          },
          "colorway": [
           "#636efa",
           "#EF553B",
           "#00cc96",
           "#ab63fa",
           "#FFA15A",
           "#19d3f3",
           "#FF6692",
           "#B6E880",
           "#FF97FF",
           "#FECB52"
          ],
          "font": {
           "color": "#2a3f5f"
          },
          "geo": {
           "bgcolor": "white",
           "lakecolor": "white",
           "landcolor": "white",
           "showlakes": true,
           "showland": true,
           "subunitcolor": "#C8D4E3"
          },
          "hoverlabel": {
           "align": "left"
          },
          "hovermode": "closest",
          "mapbox": {
           "style": "light"
          },
          "paper_bgcolor": "white",
          "plot_bgcolor": "white",
          "polar": {
           "angularaxis": {
            "gridcolor": "#EBF0F8",
            "linecolor": "#EBF0F8",
            "ticks": ""
           },
           "bgcolor": "white",
           "radialaxis": {
            "gridcolor": "#EBF0F8",
            "linecolor": "#EBF0F8",
            "ticks": ""
           }
          },
          "scene": {
           "xaxis": {
            "backgroundcolor": "white",
            "gridcolor": "#DFE8F3",
            "gridwidth": 2,
            "linecolor": "#EBF0F8",
            "showbackground": true,
            "ticks": "",
            "zerolinecolor": "#EBF0F8"
           },
           "yaxis": {
            "backgroundcolor": "white",
            "gridcolor": "#DFE8F3",
            "gridwidth": 2,
            "linecolor": "#EBF0F8",
            "showbackground": true,
            "ticks": "",
            "zerolinecolor": "#EBF0F8"
           },
           "zaxis": {
            "backgroundcolor": "white",
            "gridcolor": "#DFE8F3",
            "gridwidth": 2,
            "linecolor": "#EBF0F8",
            "showbackground": true,
            "ticks": "",
            "zerolinecolor": "#EBF0F8"
           }
          },
          "shapedefaults": {
           "line": {
            "color": "#2a3f5f"
           }
          },
          "ternary": {
           "aaxis": {
            "gridcolor": "#DFE8F3",
            "linecolor": "#A2B1C6",
            "ticks": ""
           },
           "baxis": {
            "gridcolor": "#DFE8F3",
            "linecolor": "#A2B1C6",
            "ticks": ""
           },
           "bgcolor": "white",
           "caxis": {
            "gridcolor": "#DFE8F3",
            "linecolor": "#A2B1C6",
            "ticks": ""
           }
          },
          "title": {
           "x": 0.05
          },
          "xaxis": {
           "automargin": true,
           "gridcolor": "#EBF0F8",
           "linecolor": "#EBF0F8",
           "ticks": "",
           "title": {
            "standoff": 15
           },
           "zerolinecolor": "#EBF0F8",
           "zerolinewidth": 2
          },
          "yaxis": {
           "automargin": true,
           "gridcolor": "#EBF0F8",
           "linecolor": "#EBF0F8",
           "ticks": "",
           "title": {
            "standoff": 15
           },
           "zerolinecolor": "#EBF0F8",
           "zerolinewidth": 2
          }
         }
        }
       }
      }
     },
     "metadata": {},
     "output_type": "display_data"
    }
   ],
   "source": [
    "fig = FigureBuilder(chat).user_interventions_count_linechart(title=None, xlabel=None, all_users=True)\n",
    "py.plot(fig, filename='All users interventions count', auto_open=False)\n",
    "fig"
   ]
  },
  {
   "attachments": {},
   "cell_type": "markdown",
   "metadata": {},
   "source": [
    "Cumulative interventions count"
   ]
  },
  {
   "cell_type": "code",
   "execution_count": 14,
   "metadata": {},
   "outputs": [
    {
     "data": {
      "application/vnd.plotly.v1+json": {
       "config": {
        "plotlyServerURL": "https://plotly.com"
       },
       "data": [
        {
         "line": {
          "color": "#DB5F57"
         },
         "name": "adhit",
         "showlegend": true,
         "text": [
          "2023-01-06T00:00:00",
          "2023-01-07T00:00:00",
          "2023-01-09T00:00:00",
          "2023-01-10T00:00:00",
          "2023-01-11T00:00:00",
          "2023-01-13T00:00:00",
          "2023-01-14T00:00:00",
          "2023-01-16T00:00:00",
          "2023-01-17T00:00:00",
          "2023-01-18T00:00:00",
          "2023-01-19T00:00:00",
          "2023-01-20T00:00:00",
          "2023-01-21T00:00:00",
          "2023-01-23T00:00:00",
          "2023-01-24T00:00:00",
          "2023-01-25T00:00:00",
          "2023-01-26T00:00:00",
          "2023-01-27T00:00:00",
          "2023-01-28T00:00:00",
          "2023-01-30T00:00:00",
          "2023-01-31T00:00:00",
          "2023-02-01T00:00:00",
          "2023-02-02T00:00:00",
          "2023-02-03T00:00:00",
          "2023-02-04T00:00:00",
          "2023-02-06T00:00:00",
          "2023-02-09T00:00:00",
          "2023-02-11T00:00:00",
          "2023-02-13T00:00:00",
          "2023-02-14T00:00:00",
          "2023-02-15T00:00:00",
          "2023-02-16T00:00:00",
          "2023-02-17T00:00:00",
          "2023-02-18T00:00:00",
          "2023-02-19T00:00:00",
          "2023-02-20T00:00:00",
          "2023-02-21T00:00:00",
          "2023-02-22T00:00:00",
          "2023-02-23T00:00:00",
          "2023-02-24T00:00:00",
          "2023-02-25T00:00:00",
          "2023-02-27T00:00:00",
          "2023-02-28T00:00:00",
          "2023-03-01T00:00:00",
          "2023-03-02T00:00:00",
          "2023-03-03T00:00:00",
          "2023-03-04T00:00:00",
          "2023-03-05T00:00:00",
          "2023-03-06T00:00:00",
          "2023-03-07T00:00:00",
          "2023-03-08T00:00:00",
          "2023-03-09T00:00:00",
          "2023-03-10T00:00:00",
          "2023-03-11T00:00:00",
          "2023-03-13T00:00:00",
          "2023-03-14T00:00:00",
          "2023-03-16T00:00:00",
          "2023-03-17T00:00:00",
          "2023-03-18T00:00:00",
          "2023-03-20T00:00:00",
          "2023-03-21T00:00:00",
          "2023-03-22T00:00:00",
          "2023-03-24T00:00:00",
          "2023-03-25T00:00:00",
          "2023-03-27T00:00:00",
          "2023-03-29T00:00:00",
          "2023-04-01T00:00:00",
          "2023-04-03T00:00:00",
          "2023-04-05T00:00:00",
          "2023-04-06T00:00:00",
          "2023-04-08T00:00:00",
          "2023-04-10T00:00:00",
          "2023-04-11T00:00:00",
          "2023-04-12T00:00:00",
          "2023-04-13T00:00:00",
          "2023-04-15T00:00:00",
          "2023-04-16T00:00:00",
          "2023-04-17T00:00:00"
         ],
         "type": "scatter",
         "x": [
          "2023-01-06T00:00:00",
          "2023-01-07T00:00:00",
          "2023-01-09T00:00:00",
          "2023-01-10T00:00:00",
          "2023-01-11T00:00:00",
          "2023-01-13T00:00:00",
          "2023-01-14T00:00:00",
          "2023-01-16T00:00:00",
          "2023-01-17T00:00:00",
          "2023-01-18T00:00:00",
          "2023-01-19T00:00:00",
          "2023-01-20T00:00:00",
          "2023-01-21T00:00:00",
          "2023-01-23T00:00:00",
          "2023-01-24T00:00:00",
          "2023-01-25T00:00:00",
          "2023-01-26T00:00:00",
          "2023-01-27T00:00:00",
          "2023-01-28T00:00:00",
          "2023-01-30T00:00:00",
          "2023-01-31T00:00:00",
          "2023-02-01T00:00:00",
          "2023-02-02T00:00:00",
          "2023-02-03T00:00:00",
          "2023-02-04T00:00:00",
          "2023-02-06T00:00:00",
          "2023-02-09T00:00:00",
          "2023-02-11T00:00:00",
          "2023-02-13T00:00:00",
          "2023-02-14T00:00:00",
          "2023-02-15T00:00:00",
          "2023-02-16T00:00:00",
          "2023-02-17T00:00:00",
          "2023-02-18T00:00:00",
          "2023-02-19T00:00:00",
          "2023-02-20T00:00:00",
          "2023-02-21T00:00:00",
          "2023-02-22T00:00:00",
          "2023-02-23T00:00:00",
          "2023-02-24T00:00:00",
          "2023-02-25T00:00:00",
          "2023-02-27T00:00:00",
          "2023-02-28T00:00:00",
          "2023-03-01T00:00:00",
          "2023-03-02T00:00:00",
          "2023-03-03T00:00:00",
          "2023-03-04T00:00:00",
          "2023-03-05T00:00:00",
          "2023-03-06T00:00:00",
          "2023-03-07T00:00:00",
          "2023-03-08T00:00:00",
          "2023-03-09T00:00:00",
          "2023-03-10T00:00:00",
          "2023-03-11T00:00:00",
          "2023-03-13T00:00:00",
          "2023-03-14T00:00:00",
          "2023-03-16T00:00:00",
          "2023-03-17T00:00:00",
          "2023-03-18T00:00:00",
          "2023-03-20T00:00:00",
          "2023-03-21T00:00:00",
          "2023-03-22T00:00:00",
          "2023-03-24T00:00:00",
          "2023-03-25T00:00:00",
          "2023-03-27T00:00:00",
          "2023-03-29T00:00:00",
          "2023-04-01T00:00:00",
          "2023-04-03T00:00:00",
          "2023-04-05T00:00:00",
          "2023-04-06T00:00:00",
          "2023-04-08T00:00:00",
          "2023-04-10T00:00:00",
          "2023-04-11T00:00:00",
          "2023-04-12T00:00:00",
          "2023-04-13T00:00:00",
          "2023-04-15T00:00:00",
          "2023-04-16T00:00:00",
          "2023-04-17T00:00:00"
         ],
         "y": [
          0,
          1,
          2,
          3,
          4,
          4,
          4,
          5,
          6,
          7,
          7,
          7,
          7,
          7,
          12,
          13,
          14,
          15,
          18,
          18,
          19,
          19,
          21,
          21,
          21,
          22,
          33,
          33,
          33,
          33,
          37,
          37,
          37,
          39,
          39,
          39,
          39,
          39,
          43,
          43,
          43,
          44,
          44,
          46,
          46,
          47,
          49,
          49,
          51,
          52,
          52,
          52,
          53,
          53,
          53,
          53,
          53,
          53,
          54,
          54,
          56,
          56,
          56,
          56,
          56,
          59,
          59,
          60,
          61,
          63,
          63,
          63,
          72,
          72,
          80,
          80,
          80,
          80
         ]
        },
        {
         "line": {
          "color": "#DB9C57"
         },
         "name": "alex",
         "showlegend": true,
         "text": [
          "2023-01-06T00:00:00",
          "2023-01-07T00:00:00",
          "2023-01-09T00:00:00",
          "2023-01-10T00:00:00",
          "2023-01-11T00:00:00",
          "2023-01-13T00:00:00",
          "2023-01-14T00:00:00",
          "2023-01-16T00:00:00",
          "2023-01-17T00:00:00",
          "2023-01-18T00:00:00",
          "2023-01-19T00:00:00",
          "2023-01-20T00:00:00",
          "2023-01-21T00:00:00",
          "2023-01-23T00:00:00",
          "2023-01-24T00:00:00",
          "2023-01-25T00:00:00",
          "2023-01-26T00:00:00",
          "2023-01-27T00:00:00",
          "2023-01-28T00:00:00",
          "2023-01-30T00:00:00",
          "2023-01-31T00:00:00",
          "2023-02-01T00:00:00",
          "2023-02-02T00:00:00",
          "2023-02-03T00:00:00",
          "2023-02-04T00:00:00",
          "2023-02-06T00:00:00",
          "2023-02-09T00:00:00",
          "2023-02-11T00:00:00",
          "2023-02-13T00:00:00",
          "2023-02-14T00:00:00",
          "2023-02-15T00:00:00",
          "2023-02-16T00:00:00",
          "2023-02-17T00:00:00",
          "2023-02-18T00:00:00",
          "2023-02-19T00:00:00",
          "2023-02-20T00:00:00",
          "2023-02-21T00:00:00",
          "2023-02-22T00:00:00",
          "2023-02-23T00:00:00",
          "2023-02-24T00:00:00",
          "2023-02-25T00:00:00",
          "2023-02-27T00:00:00",
          "2023-02-28T00:00:00",
          "2023-03-01T00:00:00",
          "2023-03-02T00:00:00",
          "2023-03-03T00:00:00",
          "2023-03-04T00:00:00",
          "2023-03-05T00:00:00",
          "2023-03-06T00:00:00",
          "2023-03-07T00:00:00",
          "2023-03-08T00:00:00",
          "2023-03-09T00:00:00",
          "2023-03-10T00:00:00",
          "2023-03-11T00:00:00",
          "2023-03-13T00:00:00",
          "2023-03-14T00:00:00",
          "2023-03-16T00:00:00",
          "2023-03-17T00:00:00",
          "2023-03-18T00:00:00",
          "2023-03-20T00:00:00",
          "2023-03-21T00:00:00",
          "2023-03-22T00:00:00",
          "2023-03-24T00:00:00",
          "2023-03-25T00:00:00",
          "2023-03-27T00:00:00",
          "2023-03-29T00:00:00",
          "2023-04-01T00:00:00",
          "2023-04-03T00:00:00",
          "2023-04-05T00:00:00",
          "2023-04-06T00:00:00",
          "2023-04-08T00:00:00",
          "2023-04-10T00:00:00",
          "2023-04-11T00:00:00",
          "2023-04-12T00:00:00",
          "2023-04-13T00:00:00",
          "2023-04-15T00:00:00",
          "2023-04-16T00:00:00",
          "2023-04-17T00:00:00"
         ],
         "type": "scatter",
         "x": [
          "2023-01-06T00:00:00",
          "2023-01-07T00:00:00",
          "2023-01-09T00:00:00",
          "2023-01-10T00:00:00",
          "2023-01-11T00:00:00",
          "2023-01-13T00:00:00",
          "2023-01-14T00:00:00",
          "2023-01-16T00:00:00",
          "2023-01-17T00:00:00",
          "2023-01-18T00:00:00",
          "2023-01-19T00:00:00",
          "2023-01-20T00:00:00",
          "2023-01-21T00:00:00",
          "2023-01-23T00:00:00",
          "2023-01-24T00:00:00",
          "2023-01-25T00:00:00",
          "2023-01-26T00:00:00",
          "2023-01-27T00:00:00",
          "2023-01-28T00:00:00",
          "2023-01-30T00:00:00",
          "2023-01-31T00:00:00",
          "2023-02-01T00:00:00",
          "2023-02-02T00:00:00",
          "2023-02-03T00:00:00",
          "2023-02-04T00:00:00",
          "2023-02-06T00:00:00",
          "2023-02-09T00:00:00",
          "2023-02-11T00:00:00",
          "2023-02-13T00:00:00",
          "2023-02-14T00:00:00",
          "2023-02-15T00:00:00",
          "2023-02-16T00:00:00",
          "2023-02-17T00:00:00",
          "2023-02-18T00:00:00",
          "2023-02-19T00:00:00",
          "2023-02-20T00:00:00",
          "2023-02-21T00:00:00",
          "2023-02-22T00:00:00",
          "2023-02-23T00:00:00",
          "2023-02-24T00:00:00",
          "2023-02-25T00:00:00",
          "2023-02-27T00:00:00",
          "2023-02-28T00:00:00",
          "2023-03-01T00:00:00",
          "2023-03-02T00:00:00",
          "2023-03-03T00:00:00",
          "2023-03-04T00:00:00",
          "2023-03-05T00:00:00",
          "2023-03-06T00:00:00",
          "2023-03-07T00:00:00",
          "2023-03-08T00:00:00",
          "2023-03-09T00:00:00",
          "2023-03-10T00:00:00",
          "2023-03-11T00:00:00",
          "2023-03-13T00:00:00",
          "2023-03-14T00:00:00",
          "2023-03-16T00:00:00",
          "2023-03-17T00:00:00",
          "2023-03-18T00:00:00",
          "2023-03-20T00:00:00",
          "2023-03-21T00:00:00",
          "2023-03-22T00:00:00",
          "2023-03-24T00:00:00",
          "2023-03-25T00:00:00",
          "2023-03-27T00:00:00",
          "2023-03-29T00:00:00",
          "2023-04-01T00:00:00",
          "2023-04-03T00:00:00",
          "2023-04-05T00:00:00",
          "2023-04-06T00:00:00",
          "2023-04-08T00:00:00",
          "2023-04-10T00:00:00",
          "2023-04-11T00:00:00",
          "2023-04-12T00:00:00",
          "2023-04-13T00:00:00",
          "2023-04-15T00:00:00",
          "2023-04-16T00:00:00",
          "2023-04-17T00:00:00"
         ],
         "y": [
          1,
          2,
          2,
          2,
          2,
          2,
          2,
          2,
          2,
          2,
          2,
          2,
          2,
          2,
          3,
          3,
          5,
          6,
          7,
          7,
          8,
          8,
          8,
          8,
          8,
          11,
          11,
          11,
          11,
          11,
          12,
          12,
          12,
          16,
          16,
          17,
          17,
          17,
          17,
          17,
          17,
          17,
          17,
          17,
          17,
          17,
          17,
          17,
          17,
          19,
          20,
          20,
          20,
          20,
          20,
          20,
          20,
          20,
          20,
          20,
          21,
          21,
          21,
          21,
          25,
          25,
          25,
          28,
          29,
          30,
          30,
          30,
          31,
          31,
          34,
          34,
          34,
          35
         ]
        },
        {
         "line": {
          "color": "#DBD957"
         },
         "name": "alit_gor",
         "showlegend": true,
         "text": [
          "2023-01-06T00:00:00",
          "2023-01-07T00:00:00",
          "2023-01-09T00:00:00",
          "2023-01-10T00:00:00",
          "2023-01-11T00:00:00",
          "2023-01-13T00:00:00",
          "2023-01-14T00:00:00",
          "2023-01-16T00:00:00",
          "2023-01-17T00:00:00",
          "2023-01-18T00:00:00",
          "2023-01-19T00:00:00",
          "2023-01-20T00:00:00",
          "2023-01-21T00:00:00",
          "2023-01-23T00:00:00",
          "2023-01-24T00:00:00",
          "2023-01-25T00:00:00",
          "2023-01-26T00:00:00",
          "2023-01-27T00:00:00",
          "2023-01-28T00:00:00",
          "2023-01-30T00:00:00",
          "2023-01-31T00:00:00",
          "2023-02-01T00:00:00",
          "2023-02-02T00:00:00",
          "2023-02-03T00:00:00",
          "2023-02-04T00:00:00",
          "2023-02-06T00:00:00",
          "2023-02-09T00:00:00",
          "2023-02-11T00:00:00",
          "2023-02-13T00:00:00",
          "2023-02-14T00:00:00",
          "2023-02-15T00:00:00",
          "2023-02-16T00:00:00",
          "2023-02-17T00:00:00",
          "2023-02-18T00:00:00",
          "2023-02-19T00:00:00",
          "2023-02-20T00:00:00",
          "2023-02-21T00:00:00",
          "2023-02-22T00:00:00",
          "2023-02-23T00:00:00",
          "2023-02-24T00:00:00",
          "2023-02-25T00:00:00",
          "2023-02-27T00:00:00",
          "2023-02-28T00:00:00",
          "2023-03-01T00:00:00",
          "2023-03-02T00:00:00",
          "2023-03-03T00:00:00",
          "2023-03-04T00:00:00",
          "2023-03-05T00:00:00",
          "2023-03-06T00:00:00",
          "2023-03-07T00:00:00",
          "2023-03-08T00:00:00",
          "2023-03-09T00:00:00",
          "2023-03-10T00:00:00",
          "2023-03-11T00:00:00",
          "2023-03-13T00:00:00",
          "2023-03-14T00:00:00",
          "2023-03-16T00:00:00",
          "2023-03-17T00:00:00",
          "2023-03-18T00:00:00",
          "2023-03-20T00:00:00",
          "2023-03-21T00:00:00",
          "2023-03-22T00:00:00",
          "2023-03-24T00:00:00",
          "2023-03-25T00:00:00",
          "2023-03-27T00:00:00",
          "2023-03-29T00:00:00",
          "2023-04-01T00:00:00",
          "2023-04-03T00:00:00",
          "2023-04-05T00:00:00",
          "2023-04-06T00:00:00",
          "2023-04-08T00:00:00",
          "2023-04-10T00:00:00",
          "2023-04-11T00:00:00",
          "2023-04-12T00:00:00",
          "2023-04-13T00:00:00",
          "2023-04-15T00:00:00",
          "2023-04-16T00:00:00",
          "2023-04-17T00:00:00"
         ],
         "type": "scatter",
         "x": [
          "2023-01-06T00:00:00",
          "2023-01-07T00:00:00",
          "2023-01-09T00:00:00",
          "2023-01-10T00:00:00",
          "2023-01-11T00:00:00",
          "2023-01-13T00:00:00",
          "2023-01-14T00:00:00",
          "2023-01-16T00:00:00",
          "2023-01-17T00:00:00",
          "2023-01-18T00:00:00",
          "2023-01-19T00:00:00",
          "2023-01-20T00:00:00",
          "2023-01-21T00:00:00",
          "2023-01-23T00:00:00",
          "2023-01-24T00:00:00",
          "2023-01-25T00:00:00",
          "2023-01-26T00:00:00",
          "2023-01-27T00:00:00",
          "2023-01-28T00:00:00",
          "2023-01-30T00:00:00",
          "2023-01-31T00:00:00",
          "2023-02-01T00:00:00",
          "2023-02-02T00:00:00",
          "2023-02-03T00:00:00",
          "2023-02-04T00:00:00",
          "2023-02-06T00:00:00",
          "2023-02-09T00:00:00",
          "2023-02-11T00:00:00",
          "2023-02-13T00:00:00",
          "2023-02-14T00:00:00",
          "2023-02-15T00:00:00",
          "2023-02-16T00:00:00",
          "2023-02-17T00:00:00",
          "2023-02-18T00:00:00",
          "2023-02-19T00:00:00",
          "2023-02-20T00:00:00",
          "2023-02-21T00:00:00",
          "2023-02-22T00:00:00",
          "2023-02-23T00:00:00",
          "2023-02-24T00:00:00",
          "2023-02-25T00:00:00",
          "2023-02-27T00:00:00",
          "2023-02-28T00:00:00",
          "2023-03-01T00:00:00",
          "2023-03-02T00:00:00",
          "2023-03-03T00:00:00",
          "2023-03-04T00:00:00",
          "2023-03-05T00:00:00",
          "2023-03-06T00:00:00",
          "2023-03-07T00:00:00",
          "2023-03-08T00:00:00",
          "2023-03-09T00:00:00",
          "2023-03-10T00:00:00",
          "2023-03-11T00:00:00",
          "2023-03-13T00:00:00",
          "2023-03-14T00:00:00",
          "2023-03-16T00:00:00",
          "2023-03-17T00:00:00",
          "2023-03-18T00:00:00",
          "2023-03-20T00:00:00",
          "2023-03-21T00:00:00",
          "2023-03-22T00:00:00",
          "2023-03-24T00:00:00",
          "2023-03-25T00:00:00",
          "2023-03-27T00:00:00",
          "2023-03-29T00:00:00",
          "2023-04-01T00:00:00",
          "2023-04-03T00:00:00",
          "2023-04-05T00:00:00",
          "2023-04-06T00:00:00",
          "2023-04-08T00:00:00",
          "2023-04-10T00:00:00",
          "2023-04-11T00:00:00",
          "2023-04-12T00:00:00",
          "2023-04-13T00:00:00",
          "2023-04-15T00:00:00",
          "2023-04-16T00:00:00",
          "2023-04-17T00:00:00"
         ],
         "y": [
          0,
          0,
          3,
          3,
          5,
          5,
          6,
          6,
          6,
          6,
          6,
          6,
          6,
          6,
          7,
          8,
          8,
          8,
          8,
          9,
          9,
          9,
          9,
          9,
          9,
          10,
          10,
          10,
          11,
          14,
          14,
          15,
          15,
          16,
          16,
          16,
          16,
          17,
          17,
          17,
          18,
          18,
          18,
          18,
          18,
          18,
          18,
          18,
          18,
          19,
          24,
          24,
          24,
          24,
          24,
          24,
          24,
          24,
          24,
          24,
          24,
          24,
          24,
          24,
          24,
          24,
          24,
          25,
          26,
          26,
          26,
          28,
          33,
          33,
          33,
          33,
          33,
          33
         ]
        },
        {
         "line": {
          "color": "#A0DB57"
         },
         "name": "alit_jak",
         "showlegend": true,
         "text": [
          "2023-01-06T00:00:00",
          "2023-01-07T00:00:00",
          "2023-01-09T00:00:00",
          "2023-01-10T00:00:00",
          "2023-01-11T00:00:00",
          "2023-01-13T00:00:00",
          "2023-01-14T00:00:00",
          "2023-01-16T00:00:00",
          "2023-01-17T00:00:00",
          "2023-01-18T00:00:00",
          "2023-01-19T00:00:00",
          "2023-01-20T00:00:00",
          "2023-01-21T00:00:00",
          "2023-01-23T00:00:00",
          "2023-01-24T00:00:00",
          "2023-01-25T00:00:00",
          "2023-01-26T00:00:00",
          "2023-01-27T00:00:00",
          "2023-01-28T00:00:00",
          "2023-01-30T00:00:00",
          "2023-01-31T00:00:00",
          "2023-02-01T00:00:00",
          "2023-02-02T00:00:00",
          "2023-02-03T00:00:00",
          "2023-02-04T00:00:00",
          "2023-02-06T00:00:00",
          "2023-02-09T00:00:00",
          "2023-02-11T00:00:00",
          "2023-02-13T00:00:00",
          "2023-02-14T00:00:00",
          "2023-02-15T00:00:00",
          "2023-02-16T00:00:00",
          "2023-02-17T00:00:00",
          "2023-02-18T00:00:00",
          "2023-02-19T00:00:00",
          "2023-02-20T00:00:00",
          "2023-02-21T00:00:00",
          "2023-02-22T00:00:00",
          "2023-02-23T00:00:00",
          "2023-02-24T00:00:00",
          "2023-02-25T00:00:00",
          "2023-02-27T00:00:00",
          "2023-02-28T00:00:00",
          "2023-03-01T00:00:00",
          "2023-03-02T00:00:00",
          "2023-03-03T00:00:00",
          "2023-03-04T00:00:00",
          "2023-03-05T00:00:00",
          "2023-03-06T00:00:00",
          "2023-03-07T00:00:00",
          "2023-03-08T00:00:00",
          "2023-03-09T00:00:00",
          "2023-03-10T00:00:00",
          "2023-03-11T00:00:00",
          "2023-03-13T00:00:00",
          "2023-03-14T00:00:00",
          "2023-03-16T00:00:00",
          "2023-03-17T00:00:00",
          "2023-03-18T00:00:00",
          "2023-03-20T00:00:00",
          "2023-03-21T00:00:00",
          "2023-03-22T00:00:00",
          "2023-03-24T00:00:00",
          "2023-03-25T00:00:00",
          "2023-03-27T00:00:00",
          "2023-03-29T00:00:00",
          "2023-04-01T00:00:00",
          "2023-04-03T00:00:00",
          "2023-04-05T00:00:00",
          "2023-04-06T00:00:00",
          "2023-04-08T00:00:00",
          "2023-04-10T00:00:00",
          "2023-04-11T00:00:00",
          "2023-04-12T00:00:00",
          "2023-04-13T00:00:00",
          "2023-04-15T00:00:00",
          "2023-04-16T00:00:00",
          "2023-04-17T00:00:00"
         ],
         "type": "scatter",
         "x": [
          "2023-01-06T00:00:00",
          "2023-01-07T00:00:00",
          "2023-01-09T00:00:00",
          "2023-01-10T00:00:00",
          "2023-01-11T00:00:00",
          "2023-01-13T00:00:00",
          "2023-01-14T00:00:00",
          "2023-01-16T00:00:00",
          "2023-01-17T00:00:00",
          "2023-01-18T00:00:00",
          "2023-01-19T00:00:00",
          "2023-01-20T00:00:00",
          "2023-01-21T00:00:00",
          "2023-01-23T00:00:00",
          "2023-01-24T00:00:00",
          "2023-01-25T00:00:00",
          "2023-01-26T00:00:00",
          "2023-01-27T00:00:00",
          "2023-01-28T00:00:00",
          "2023-01-30T00:00:00",
          "2023-01-31T00:00:00",
          "2023-02-01T00:00:00",
          "2023-02-02T00:00:00",
          "2023-02-03T00:00:00",
          "2023-02-04T00:00:00",
          "2023-02-06T00:00:00",
          "2023-02-09T00:00:00",
          "2023-02-11T00:00:00",
          "2023-02-13T00:00:00",
          "2023-02-14T00:00:00",
          "2023-02-15T00:00:00",
          "2023-02-16T00:00:00",
          "2023-02-17T00:00:00",
          "2023-02-18T00:00:00",
          "2023-02-19T00:00:00",
          "2023-02-20T00:00:00",
          "2023-02-21T00:00:00",
          "2023-02-22T00:00:00",
          "2023-02-23T00:00:00",
          "2023-02-24T00:00:00",
          "2023-02-25T00:00:00",
          "2023-02-27T00:00:00",
          "2023-02-28T00:00:00",
          "2023-03-01T00:00:00",
          "2023-03-02T00:00:00",
          "2023-03-03T00:00:00",
          "2023-03-04T00:00:00",
          "2023-03-05T00:00:00",
          "2023-03-06T00:00:00",
          "2023-03-07T00:00:00",
          "2023-03-08T00:00:00",
          "2023-03-09T00:00:00",
          "2023-03-10T00:00:00",
          "2023-03-11T00:00:00",
          "2023-03-13T00:00:00",
          "2023-03-14T00:00:00",
          "2023-03-16T00:00:00",
          "2023-03-17T00:00:00",
          "2023-03-18T00:00:00",
          "2023-03-20T00:00:00",
          "2023-03-21T00:00:00",
          "2023-03-22T00:00:00",
          "2023-03-24T00:00:00",
          "2023-03-25T00:00:00",
          "2023-03-27T00:00:00",
          "2023-03-29T00:00:00",
          "2023-04-01T00:00:00",
          "2023-04-03T00:00:00",
          "2023-04-05T00:00:00",
          "2023-04-06T00:00:00",
          "2023-04-08T00:00:00",
          "2023-04-10T00:00:00",
          "2023-04-11T00:00:00",
          "2023-04-12T00:00:00",
          "2023-04-13T00:00:00",
          "2023-04-15T00:00:00",
          "2023-04-16T00:00:00",
          "2023-04-17T00:00:00"
         ],
         "y": [
          3,
          3,
          4,
          4,
          4,
          4,
          4,
          4,
          4,
          13,
          18,
          18,
          18,
          18,
          19,
          22,
          22,
          23,
          24,
          27,
          28,
          28,
          28,
          28,
          28,
          29,
          29,
          29,
          29,
          31,
          31,
          31,
          31,
          33,
          33,
          33,
          33,
          36,
          37,
          37,
          37,
          37,
          37,
          38,
          41,
          46,
          53,
          54,
          54,
          67,
          68,
          70,
          70,
          70,
          72,
          72,
          73,
          73,
          78,
          81,
          81,
          81,
          82,
          84,
          84,
          84,
          85,
          97,
          97,
          99,
          99,
          108,
          126,
          126,
          126,
          126,
          126,
          126
         ]
        },
        {
         "line": {
          "color": "#63DB57"
         },
         "name": "aris",
         "showlegend": true,
         "text": [
          "2023-01-06T00:00:00",
          "2023-01-07T00:00:00",
          "2023-01-09T00:00:00",
          "2023-01-10T00:00:00",
          "2023-01-11T00:00:00",
          "2023-01-13T00:00:00",
          "2023-01-14T00:00:00",
          "2023-01-16T00:00:00",
          "2023-01-17T00:00:00",
          "2023-01-18T00:00:00",
          "2023-01-19T00:00:00",
          "2023-01-20T00:00:00",
          "2023-01-21T00:00:00",
          "2023-01-23T00:00:00",
          "2023-01-24T00:00:00",
          "2023-01-25T00:00:00",
          "2023-01-26T00:00:00",
          "2023-01-27T00:00:00",
          "2023-01-28T00:00:00",
          "2023-01-30T00:00:00",
          "2023-01-31T00:00:00",
          "2023-02-01T00:00:00",
          "2023-02-02T00:00:00",
          "2023-02-03T00:00:00",
          "2023-02-04T00:00:00",
          "2023-02-06T00:00:00",
          "2023-02-09T00:00:00",
          "2023-02-11T00:00:00",
          "2023-02-13T00:00:00",
          "2023-02-14T00:00:00",
          "2023-02-15T00:00:00",
          "2023-02-16T00:00:00",
          "2023-02-17T00:00:00",
          "2023-02-18T00:00:00",
          "2023-02-19T00:00:00",
          "2023-02-20T00:00:00",
          "2023-02-21T00:00:00",
          "2023-02-22T00:00:00",
          "2023-02-23T00:00:00",
          "2023-02-24T00:00:00",
          "2023-02-25T00:00:00",
          "2023-02-27T00:00:00",
          "2023-02-28T00:00:00",
          "2023-03-01T00:00:00",
          "2023-03-02T00:00:00",
          "2023-03-03T00:00:00",
          "2023-03-04T00:00:00",
          "2023-03-05T00:00:00",
          "2023-03-06T00:00:00",
          "2023-03-07T00:00:00",
          "2023-03-08T00:00:00",
          "2023-03-09T00:00:00",
          "2023-03-10T00:00:00",
          "2023-03-11T00:00:00",
          "2023-03-13T00:00:00",
          "2023-03-14T00:00:00",
          "2023-03-16T00:00:00",
          "2023-03-17T00:00:00",
          "2023-03-18T00:00:00",
          "2023-03-20T00:00:00",
          "2023-03-21T00:00:00",
          "2023-03-22T00:00:00",
          "2023-03-24T00:00:00",
          "2023-03-25T00:00:00",
          "2023-03-27T00:00:00",
          "2023-03-29T00:00:00",
          "2023-04-01T00:00:00",
          "2023-04-03T00:00:00",
          "2023-04-05T00:00:00",
          "2023-04-06T00:00:00",
          "2023-04-08T00:00:00",
          "2023-04-10T00:00:00",
          "2023-04-11T00:00:00",
          "2023-04-12T00:00:00",
          "2023-04-13T00:00:00",
          "2023-04-15T00:00:00",
          "2023-04-16T00:00:00",
          "2023-04-17T00:00:00"
         ],
         "type": "scatter",
         "x": [
          "2023-01-06T00:00:00",
          "2023-01-07T00:00:00",
          "2023-01-09T00:00:00",
          "2023-01-10T00:00:00",
          "2023-01-11T00:00:00",
          "2023-01-13T00:00:00",
          "2023-01-14T00:00:00",
          "2023-01-16T00:00:00",
          "2023-01-17T00:00:00",
          "2023-01-18T00:00:00",
          "2023-01-19T00:00:00",
          "2023-01-20T00:00:00",
          "2023-01-21T00:00:00",
          "2023-01-23T00:00:00",
          "2023-01-24T00:00:00",
          "2023-01-25T00:00:00",
          "2023-01-26T00:00:00",
          "2023-01-27T00:00:00",
          "2023-01-28T00:00:00",
          "2023-01-30T00:00:00",
          "2023-01-31T00:00:00",
          "2023-02-01T00:00:00",
          "2023-02-02T00:00:00",
          "2023-02-03T00:00:00",
          "2023-02-04T00:00:00",
          "2023-02-06T00:00:00",
          "2023-02-09T00:00:00",
          "2023-02-11T00:00:00",
          "2023-02-13T00:00:00",
          "2023-02-14T00:00:00",
          "2023-02-15T00:00:00",
          "2023-02-16T00:00:00",
          "2023-02-17T00:00:00",
          "2023-02-18T00:00:00",
          "2023-02-19T00:00:00",
          "2023-02-20T00:00:00",
          "2023-02-21T00:00:00",
          "2023-02-22T00:00:00",
          "2023-02-23T00:00:00",
          "2023-02-24T00:00:00",
          "2023-02-25T00:00:00",
          "2023-02-27T00:00:00",
          "2023-02-28T00:00:00",
          "2023-03-01T00:00:00",
          "2023-03-02T00:00:00",
          "2023-03-03T00:00:00",
          "2023-03-04T00:00:00",
          "2023-03-05T00:00:00",
          "2023-03-06T00:00:00",
          "2023-03-07T00:00:00",
          "2023-03-08T00:00:00",
          "2023-03-09T00:00:00",
          "2023-03-10T00:00:00",
          "2023-03-11T00:00:00",
          "2023-03-13T00:00:00",
          "2023-03-14T00:00:00",
          "2023-03-16T00:00:00",
          "2023-03-17T00:00:00",
          "2023-03-18T00:00:00",
          "2023-03-20T00:00:00",
          "2023-03-21T00:00:00",
          "2023-03-22T00:00:00",
          "2023-03-24T00:00:00",
          "2023-03-25T00:00:00",
          "2023-03-27T00:00:00",
          "2023-03-29T00:00:00",
          "2023-04-01T00:00:00",
          "2023-04-03T00:00:00",
          "2023-04-05T00:00:00",
          "2023-04-06T00:00:00",
          "2023-04-08T00:00:00",
          "2023-04-10T00:00:00",
          "2023-04-11T00:00:00",
          "2023-04-12T00:00:00",
          "2023-04-13T00:00:00",
          "2023-04-15T00:00:00",
          "2023-04-16T00:00:00",
          "2023-04-17T00:00:00"
         ],
         "y": [
          1,
          3,
          3,
          4,
          8,
          8,
          8,
          29,
          29,
          29,
          29,
          29,
          30,
          30,
          34,
          43,
          43,
          46,
          47,
          52,
          54,
          58,
          58,
          58,
          59,
          59,
          60,
          60,
          61,
          62,
          63,
          63,
          63,
          65,
          65,
          66,
          70,
          70,
          75,
          75,
          76,
          76,
          76,
          84,
          87,
          94,
          95,
          98,
          100,
          104,
          109,
          113,
          116,
          118,
          118,
          121,
          128,
          128,
          131,
          131,
          133,
          133,
          135,
          136,
          138,
          145,
          149,
          158,
          162,
          167,
          167,
          168,
          218,
          220,
          225,
          225,
          226,
          228
         ]
        },
        {
         "line": {
          "color": "#57DB87"
         },
         "name": "ely",
         "showlegend": true,
         "text": [
          "2023-01-06T00:00:00",
          "2023-01-07T00:00:00",
          "2023-01-09T00:00:00",
          "2023-01-10T00:00:00",
          "2023-01-11T00:00:00",
          "2023-01-13T00:00:00",
          "2023-01-14T00:00:00",
          "2023-01-16T00:00:00",
          "2023-01-17T00:00:00",
          "2023-01-18T00:00:00",
          "2023-01-19T00:00:00",
          "2023-01-20T00:00:00",
          "2023-01-21T00:00:00",
          "2023-01-23T00:00:00",
          "2023-01-24T00:00:00",
          "2023-01-25T00:00:00",
          "2023-01-26T00:00:00",
          "2023-01-27T00:00:00",
          "2023-01-28T00:00:00",
          "2023-01-30T00:00:00",
          "2023-01-31T00:00:00",
          "2023-02-01T00:00:00",
          "2023-02-02T00:00:00",
          "2023-02-03T00:00:00",
          "2023-02-04T00:00:00",
          "2023-02-06T00:00:00",
          "2023-02-09T00:00:00",
          "2023-02-11T00:00:00",
          "2023-02-13T00:00:00",
          "2023-02-14T00:00:00",
          "2023-02-15T00:00:00",
          "2023-02-16T00:00:00",
          "2023-02-17T00:00:00",
          "2023-02-18T00:00:00",
          "2023-02-19T00:00:00",
          "2023-02-20T00:00:00",
          "2023-02-21T00:00:00",
          "2023-02-22T00:00:00",
          "2023-02-23T00:00:00",
          "2023-02-24T00:00:00",
          "2023-02-25T00:00:00",
          "2023-02-27T00:00:00",
          "2023-02-28T00:00:00",
          "2023-03-01T00:00:00",
          "2023-03-02T00:00:00",
          "2023-03-03T00:00:00",
          "2023-03-04T00:00:00",
          "2023-03-05T00:00:00",
          "2023-03-06T00:00:00",
          "2023-03-07T00:00:00",
          "2023-03-08T00:00:00",
          "2023-03-09T00:00:00",
          "2023-03-10T00:00:00",
          "2023-03-11T00:00:00",
          "2023-03-13T00:00:00",
          "2023-03-14T00:00:00",
          "2023-03-16T00:00:00",
          "2023-03-17T00:00:00",
          "2023-03-18T00:00:00",
          "2023-03-20T00:00:00",
          "2023-03-21T00:00:00",
          "2023-03-22T00:00:00",
          "2023-03-24T00:00:00",
          "2023-03-25T00:00:00",
          "2023-03-27T00:00:00",
          "2023-03-29T00:00:00",
          "2023-04-01T00:00:00",
          "2023-04-03T00:00:00",
          "2023-04-05T00:00:00",
          "2023-04-06T00:00:00",
          "2023-04-08T00:00:00",
          "2023-04-10T00:00:00",
          "2023-04-11T00:00:00",
          "2023-04-12T00:00:00",
          "2023-04-13T00:00:00",
          "2023-04-15T00:00:00",
          "2023-04-16T00:00:00",
          "2023-04-17T00:00:00"
         ],
         "type": "scatter",
         "x": [
          "2023-01-06T00:00:00",
          "2023-01-07T00:00:00",
          "2023-01-09T00:00:00",
          "2023-01-10T00:00:00",
          "2023-01-11T00:00:00",
          "2023-01-13T00:00:00",
          "2023-01-14T00:00:00",
          "2023-01-16T00:00:00",
          "2023-01-17T00:00:00",
          "2023-01-18T00:00:00",
          "2023-01-19T00:00:00",
          "2023-01-20T00:00:00",
          "2023-01-21T00:00:00",
          "2023-01-23T00:00:00",
          "2023-01-24T00:00:00",
          "2023-01-25T00:00:00",
          "2023-01-26T00:00:00",
          "2023-01-27T00:00:00",
          "2023-01-28T00:00:00",
          "2023-01-30T00:00:00",
          "2023-01-31T00:00:00",
          "2023-02-01T00:00:00",
          "2023-02-02T00:00:00",
          "2023-02-03T00:00:00",
          "2023-02-04T00:00:00",
          "2023-02-06T00:00:00",
          "2023-02-09T00:00:00",
          "2023-02-11T00:00:00",
          "2023-02-13T00:00:00",
          "2023-02-14T00:00:00",
          "2023-02-15T00:00:00",
          "2023-02-16T00:00:00",
          "2023-02-17T00:00:00",
          "2023-02-18T00:00:00",
          "2023-02-19T00:00:00",
          "2023-02-20T00:00:00",
          "2023-02-21T00:00:00",
          "2023-02-22T00:00:00",
          "2023-02-23T00:00:00",
          "2023-02-24T00:00:00",
          "2023-02-25T00:00:00",
          "2023-02-27T00:00:00",
          "2023-02-28T00:00:00",
          "2023-03-01T00:00:00",
          "2023-03-02T00:00:00",
          "2023-03-03T00:00:00",
          "2023-03-04T00:00:00",
          "2023-03-05T00:00:00",
          "2023-03-06T00:00:00",
          "2023-03-07T00:00:00",
          "2023-03-08T00:00:00",
          "2023-03-09T00:00:00",
          "2023-03-10T00:00:00",
          "2023-03-11T00:00:00",
          "2023-03-13T00:00:00",
          "2023-03-14T00:00:00",
          "2023-03-16T00:00:00",
          "2023-03-17T00:00:00",
          "2023-03-18T00:00:00",
          "2023-03-20T00:00:00",
          "2023-03-21T00:00:00",
          "2023-03-22T00:00:00",
          "2023-03-24T00:00:00",
          "2023-03-25T00:00:00",
          "2023-03-27T00:00:00",
          "2023-03-29T00:00:00",
          "2023-04-01T00:00:00",
          "2023-04-03T00:00:00",
          "2023-04-05T00:00:00",
          "2023-04-06T00:00:00",
          "2023-04-08T00:00:00",
          "2023-04-10T00:00:00",
          "2023-04-11T00:00:00",
          "2023-04-12T00:00:00",
          "2023-04-13T00:00:00",
          "2023-04-15T00:00:00",
          "2023-04-16T00:00:00",
          "2023-04-17T00:00:00"
         ],
         "y": [
          1,
          11,
          13,
          13,
          17,
          17,
          17,
          31,
          31,
          32,
          37,
          37,
          38,
          38,
          43,
          47,
          49,
          50,
          54,
          57,
          58,
          61,
          63,
          63,
          63,
          63,
          65,
          65,
          65,
          75,
          75,
          77,
          77,
          80,
          80,
          83,
          88,
          89,
          98,
          98,
          99,
          102,
          103,
          104,
          106,
          107,
          111,
          111,
          111,
          112,
          117,
          118,
          118,
          121,
          125,
          126,
          129,
          129,
          131,
          131,
          131,
          131,
          131,
          131,
          131,
          134,
          134,
          140,
          140,
          142,
          142,
          144,
          164,
          164,
          165,
          165,
          165,
          165
         ]
        },
        {
         "line": {
          "color": "#57DBC5"
         },
         "name": "erland",
         "showlegend": true,
         "text": [
          "2023-01-06T00:00:00",
          "2023-01-07T00:00:00",
          "2023-01-09T00:00:00",
          "2023-01-10T00:00:00",
          "2023-01-11T00:00:00",
          "2023-01-13T00:00:00",
          "2023-01-14T00:00:00",
          "2023-01-16T00:00:00",
          "2023-01-17T00:00:00",
          "2023-01-18T00:00:00",
          "2023-01-19T00:00:00",
          "2023-01-20T00:00:00",
          "2023-01-21T00:00:00",
          "2023-01-23T00:00:00",
          "2023-01-24T00:00:00",
          "2023-01-25T00:00:00",
          "2023-01-26T00:00:00",
          "2023-01-27T00:00:00",
          "2023-01-28T00:00:00",
          "2023-01-30T00:00:00",
          "2023-01-31T00:00:00",
          "2023-02-01T00:00:00",
          "2023-02-02T00:00:00",
          "2023-02-03T00:00:00",
          "2023-02-04T00:00:00",
          "2023-02-06T00:00:00",
          "2023-02-09T00:00:00",
          "2023-02-11T00:00:00",
          "2023-02-13T00:00:00",
          "2023-02-14T00:00:00",
          "2023-02-15T00:00:00",
          "2023-02-16T00:00:00",
          "2023-02-17T00:00:00",
          "2023-02-18T00:00:00",
          "2023-02-19T00:00:00",
          "2023-02-20T00:00:00",
          "2023-02-21T00:00:00",
          "2023-02-22T00:00:00",
          "2023-02-23T00:00:00",
          "2023-02-24T00:00:00",
          "2023-02-25T00:00:00",
          "2023-02-27T00:00:00",
          "2023-02-28T00:00:00",
          "2023-03-01T00:00:00",
          "2023-03-02T00:00:00",
          "2023-03-03T00:00:00",
          "2023-03-04T00:00:00",
          "2023-03-05T00:00:00",
          "2023-03-06T00:00:00",
          "2023-03-07T00:00:00",
          "2023-03-08T00:00:00",
          "2023-03-09T00:00:00",
          "2023-03-10T00:00:00",
          "2023-03-11T00:00:00",
          "2023-03-13T00:00:00",
          "2023-03-14T00:00:00",
          "2023-03-16T00:00:00",
          "2023-03-17T00:00:00",
          "2023-03-18T00:00:00",
          "2023-03-20T00:00:00",
          "2023-03-21T00:00:00",
          "2023-03-22T00:00:00",
          "2023-03-24T00:00:00",
          "2023-03-25T00:00:00",
          "2023-03-27T00:00:00",
          "2023-03-29T00:00:00",
          "2023-04-01T00:00:00",
          "2023-04-03T00:00:00",
          "2023-04-05T00:00:00",
          "2023-04-06T00:00:00",
          "2023-04-08T00:00:00",
          "2023-04-10T00:00:00",
          "2023-04-11T00:00:00",
          "2023-04-12T00:00:00",
          "2023-04-13T00:00:00",
          "2023-04-15T00:00:00",
          "2023-04-16T00:00:00",
          "2023-04-17T00:00:00"
         ],
         "type": "scatter",
         "x": [
          "2023-01-06T00:00:00",
          "2023-01-07T00:00:00",
          "2023-01-09T00:00:00",
          "2023-01-10T00:00:00",
          "2023-01-11T00:00:00",
          "2023-01-13T00:00:00",
          "2023-01-14T00:00:00",
          "2023-01-16T00:00:00",
          "2023-01-17T00:00:00",
          "2023-01-18T00:00:00",
          "2023-01-19T00:00:00",
          "2023-01-20T00:00:00",
          "2023-01-21T00:00:00",
          "2023-01-23T00:00:00",
          "2023-01-24T00:00:00",
          "2023-01-25T00:00:00",
          "2023-01-26T00:00:00",
          "2023-01-27T00:00:00",
          "2023-01-28T00:00:00",
          "2023-01-30T00:00:00",
          "2023-01-31T00:00:00",
          "2023-02-01T00:00:00",
          "2023-02-02T00:00:00",
          "2023-02-03T00:00:00",
          "2023-02-04T00:00:00",
          "2023-02-06T00:00:00",
          "2023-02-09T00:00:00",
          "2023-02-11T00:00:00",
          "2023-02-13T00:00:00",
          "2023-02-14T00:00:00",
          "2023-02-15T00:00:00",
          "2023-02-16T00:00:00",
          "2023-02-17T00:00:00",
          "2023-02-18T00:00:00",
          "2023-02-19T00:00:00",
          "2023-02-20T00:00:00",
          "2023-02-21T00:00:00",
          "2023-02-22T00:00:00",
          "2023-02-23T00:00:00",
          "2023-02-24T00:00:00",
          "2023-02-25T00:00:00",
          "2023-02-27T00:00:00",
          "2023-02-28T00:00:00",
          "2023-03-01T00:00:00",
          "2023-03-02T00:00:00",
          "2023-03-03T00:00:00",
          "2023-03-04T00:00:00",
          "2023-03-05T00:00:00",
          "2023-03-06T00:00:00",
          "2023-03-07T00:00:00",
          "2023-03-08T00:00:00",
          "2023-03-09T00:00:00",
          "2023-03-10T00:00:00",
          "2023-03-11T00:00:00",
          "2023-03-13T00:00:00",
          "2023-03-14T00:00:00",
          "2023-03-16T00:00:00",
          "2023-03-17T00:00:00",
          "2023-03-18T00:00:00",
          "2023-03-20T00:00:00",
          "2023-03-21T00:00:00",
          "2023-03-22T00:00:00",
          "2023-03-24T00:00:00",
          "2023-03-25T00:00:00",
          "2023-03-27T00:00:00",
          "2023-03-29T00:00:00",
          "2023-04-01T00:00:00",
          "2023-04-03T00:00:00",
          "2023-04-05T00:00:00",
          "2023-04-06T00:00:00",
          "2023-04-08T00:00:00",
          "2023-04-10T00:00:00",
          "2023-04-11T00:00:00",
          "2023-04-12T00:00:00",
          "2023-04-13T00:00:00",
          "2023-04-15T00:00:00",
          "2023-04-16T00:00:00",
          "2023-04-17T00:00:00"
         ],
         "y": [
          0,
          0,
          0,
          0,
          3,
          3,
          3,
          19,
          19,
          20,
          20,
          21,
          22,
          22,
          27,
          33,
          38,
          40,
          41,
          41,
          42,
          43,
          43,
          43,
          45,
          45,
          50,
          50,
          58,
          61,
          69,
          72,
          73,
          76,
          76,
          82,
          90,
          107,
          134,
          136,
          136,
          151,
          151,
          159,
          160,
          173,
          175,
          175,
          177,
          190,
          212,
          214,
          214,
          215,
          216,
          218,
          218,
          218,
          218,
          218,
          219,
          219,
          222,
          222,
          222,
          222,
          222,
          223,
          225,
          226,
          226,
          226,
          226,
          226,
          229,
          229,
          229,
          229
         ]
        },
        {
         "line": {
          "color": "#57B5DB"
         },
         "name": "fawaz",
         "showlegend": true,
         "text": [
          "2023-01-06T00:00:00",
          "2023-01-07T00:00:00",
          "2023-01-09T00:00:00",
          "2023-01-10T00:00:00",
          "2023-01-11T00:00:00",
          "2023-01-13T00:00:00",
          "2023-01-14T00:00:00",
          "2023-01-16T00:00:00",
          "2023-01-17T00:00:00",
          "2023-01-18T00:00:00",
          "2023-01-19T00:00:00",
          "2023-01-20T00:00:00",
          "2023-01-21T00:00:00",
          "2023-01-23T00:00:00",
          "2023-01-24T00:00:00",
          "2023-01-25T00:00:00",
          "2023-01-26T00:00:00",
          "2023-01-27T00:00:00",
          "2023-01-28T00:00:00",
          "2023-01-30T00:00:00",
          "2023-01-31T00:00:00",
          "2023-02-01T00:00:00",
          "2023-02-02T00:00:00",
          "2023-02-03T00:00:00",
          "2023-02-04T00:00:00",
          "2023-02-06T00:00:00",
          "2023-02-09T00:00:00",
          "2023-02-11T00:00:00",
          "2023-02-13T00:00:00",
          "2023-02-14T00:00:00",
          "2023-02-15T00:00:00",
          "2023-02-16T00:00:00",
          "2023-02-17T00:00:00",
          "2023-02-18T00:00:00",
          "2023-02-19T00:00:00",
          "2023-02-20T00:00:00",
          "2023-02-21T00:00:00",
          "2023-02-22T00:00:00",
          "2023-02-23T00:00:00",
          "2023-02-24T00:00:00",
          "2023-02-25T00:00:00",
          "2023-02-27T00:00:00",
          "2023-02-28T00:00:00",
          "2023-03-01T00:00:00",
          "2023-03-02T00:00:00",
          "2023-03-03T00:00:00",
          "2023-03-04T00:00:00",
          "2023-03-05T00:00:00",
          "2023-03-06T00:00:00",
          "2023-03-07T00:00:00",
          "2023-03-08T00:00:00",
          "2023-03-09T00:00:00",
          "2023-03-10T00:00:00",
          "2023-03-11T00:00:00",
          "2023-03-13T00:00:00",
          "2023-03-14T00:00:00",
          "2023-03-16T00:00:00",
          "2023-03-17T00:00:00",
          "2023-03-18T00:00:00",
          "2023-03-20T00:00:00",
          "2023-03-21T00:00:00",
          "2023-03-22T00:00:00",
          "2023-03-24T00:00:00",
          "2023-03-25T00:00:00",
          "2023-03-27T00:00:00",
          "2023-03-29T00:00:00",
          "2023-04-01T00:00:00",
          "2023-04-03T00:00:00",
          "2023-04-05T00:00:00",
          "2023-04-06T00:00:00",
          "2023-04-08T00:00:00",
          "2023-04-10T00:00:00",
          "2023-04-11T00:00:00",
          "2023-04-12T00:00:00",
          "2023-04-13T00:00:00",
          "2023-04-15T00:00:00",
          "2023-04-16T00:00:00",
          "2023-04-17T00:00:00"
         ],
         "type": "scatter",
         "x": [
          "2023-01-06T00:00:00",
          "2023-01-07T00:00:00",
          "2023-01-09T00:00:00",
          "2023-01-10T00:00:00",
          "2023-01-11T00:00:00",
          "2023-01-13T00:00:00",
          "2023-01-14T00:00:00",
          "2023-01-16T00:00:00",
          "2023-01-17T00:00:00",
          "2023-01-18T00:00:00",
          "2023-01-19T00:00:00",
          "2023-01-20T00:00:00",
          "2023-01-21T00:00:00",
          "2023-01-23T00:00:00",
          "2023-01-24T00:00:00",
          "2023-01-25T00:00:00",
          "2023-01-26T00:00:00",
          "2023-01-27T00:00:00",
          "2023-01-28T00:00:00",
          "2023-01-30T00:00:00",
          "2023-01-31T00:00:00",
          "2023-02-01T00:00:00",
          "2023-02-02T00:00:00",
          "2023-02-03T00:00:00",
          "2023-02-04T00:00:00",
          "2023-02-06T00:00:00",
          "2023-02-09T00:00:00",
          "2023-02-11T00:00:00",
          "2023-02-13T00:00:00",
          "2023-02-14T00:00:00",
          "2023-02-15T00:00:00",
          "2023-02-16T00:00:00",
          "2023-02-17T00:00:00",
          "2023-02-18T00:00:00",
          "2023-02-19T00:00:00",
          "2023-02-20T00:00:00",
          "2023-02-21T00:00:00",
          "2023-02-22T00:00:00",
          "2023-02-23T00:00:00",
          "2023-02-24T00:00:00",
          "2023-02-25T00:00:00",
          "2023-02-27T00:00:00",
          "2023-02-28T00:00:00",
          "2023-03-01T00:00:00",
          "2023-03-02T00:00:00",
          "2023-03-03T00:00:00",
          "2023-03-04T00:00:00",
          "2023-03-05T00:00:00",
          "2023-03-06T00:00:00",
          "2023-03-07T00:00:00",
          "2023-03-08T00:00:00",
          "2023-03-09T00:00:00",
          "2023-03-10T00:00:00",
          "2023-03-11T00:00:00",
          "2023-03-13T00:00:00",
          "2023-03-14T00:00:00",
          "2023-03-16T00:00:00",
          "2023-03-17T00:00:00",
          "2023-03-18T00:00:00",
          "2023-03-20T00:00:00",
          "2023-03-21T00:00:00",
          "2023-03-22T00:00:00",
          "2023-03-24T00:00:00",
          "2023-03-25T00:00:00",
          "2023-03-27T00:00:00",
          "2023-03-29T00:00:00",
          "2023-04-01T00:00:00",
          "2023-04-03T00:00:00",
          "2023-04-05T00:00:00",
          "2023-04-06T00:00:00",
          "2023-04-08T00:00:00",
          "2023-04-10T00:00:00",
          "2023-04-11T00:00:00",
          "2023-04-12T00:00:00",
          "2023-04-13T00:00:00",
          "2023-04-15T00:00:00",
          "2023-04-16T00:00:00",
          "2023-04-17T00:00:00"
         ],
         "y": [
          1,
          4,
          5,
          5,
          8,
          8,
          8,
          8,
          8,
          8,
          8,
          8,
          8,
          8,
          8,
          12,
          12,
          12,
          12,
          12,
          13,
          14,
          14,
          14,
          14,
          14,
          14,
          14,
          14,
          14,
          14,
          14,
          14,
          14,
          14,
          14,
          14,
          14,
          15,
          15,
          17,
          18,
          18,
          18,
          18,
          18,
          18,
          18,
          18,
          18,
          18,
          18,
          18,
          18,
          18,
          18,
          18,
          18,
          18,
          18,
          18,
          18,
          18,
          18,
          18,
          18,
          18,
          18,
          19,
          19,
          19,
          19,
          19,
          19,
          19,
          19,
          19,
          19
         ]
        },
        {
         "line": {
          "color": "#5778DB"
         },
         "name": "ichsan",
         "showlegend": true,
         "text": [
          "2023-01-06T00:00:00",
          "2023-01-07T00:00:00",
          "2023-01-09T00:00:00",
          "2023-01-10T00:00:00",
          "2023-01-11T00:00:00",
          "2023-01-13T00:00:00",
          "2023-01-14T00:00:00",
          "2023-01-16T00:00:00",
          "2023-01-17T00:00:00",
          "2023-01-18T00:00:00",
          "2023-01-19T00:00:00",
          "2023-01-20T00:00:00",
          "2023-01-21T00:00:00",
          "2023-01-23T00:00:00",
          "2023-01-24T00:00:00",
          "2023-01-25T00:00:00",
          "2023-01-26T00:00:00",
          "2023-01-27T00:00:00",
          "2023-01-28T00:00:00",
          "2023-01-30T00:00:00",
          "2023-01-31T00:00:00",
          "2023-02-01T00:00:00",
          "2023-02-02T00:00:00",
          "2023-02-03T00:00:00",
          "2023-02-04T00:00:00",
          "2023-02-06T00:00:00",
          "2023-02-09T00:00:00",
          "2023-02-11T00:00:00",
          "2023-02-13T00:00:00",
          "2023-02-14T00:00:00",
          "2023-02-15T00:00:00",
          "2023-02-16T00:00:00",
          "2023-02-17T00:00:00",
          "2023-02-18T00:00:00",
          "2023-02-19T00:00:00",
          "2023-02-20T00:00:00",
          "2023-02-21T00:00:00",
          "2023-02-22T00:00:00",
          "2023-02-23T00:00:00",
          "2023-02-24T00:00:00",
          "2023-02-25T00:00:00",
          "2023-02-27T00:00:00",
          "2023-02-28T00:00:00",
          "2023-03-01T00:00:00",
          "2023-03-02T00:00:00",
          "2023-03-03T00:00:00",
          "2023-03-04T00:00:00",
          "2023-03-05T00:00:00",
          "2023-03-06T00:00:00",
          "2023-03-07T00:00:00",
          "2023-03-08T00:00:00",
          "2023-03-09T00:00:00",
          "2023-03-10T00:00:00",
          "2023-03-11T00:00:00",
          "2023-03-13T00:00:00",
          "2023-03-14T00:00:00",
          "2023-03-16T00:00:00",
          "2023-03-17T00:00:00",
          "2023-03-18T00:00:00",
          "2023-03-20T00:00:00",
          "2023-03-21T00:00:00",
          "2023-03-22T00:00:00",
          "2023-03-24T00:00:00",
          "2023-03-25T00:00:00",
          "2023-03-27T00:00:00",
          "2023-03-29T00:00:00",
          "2023-04-01T00:00:00",
          "2023-04-03T00:00:00",
          "2023-04-05T00:00:00",
          "2023-04-06T00:00:00",
          "2023-04-08T00:00:00",
          "2023-04-10T00:00:00",
          "2023-04-11T00:00:00",
          "2023-04-12T00:00:00",
          "2023-04-13T00:00:00",
          "2023-04-15T00:00:00",
          "2023-04-16T00:00:00",
          "2023-04-17T00:00:00"
         ],
         "type": "scatter",
         "x": [
          "2023-01-06T00:00:00",
          "2023-01-07T00:00:00",
          "2023-01-09T00:00:00",
          "2023-01-10T00:00:00",
          "2023-01-11T00:00:00",
          "2023-01-13T00:00:00",
          "2023-01-14T00:00:00",
          "2023-01-16T00:00:00",
          "2023-01-17T00:00:00",
          "2023-01-18T00:00:00",
          "2023-01-19T00:00:00",
          "2023-01-20T00:00:00",
          "2023-01-21T00:00:00",
          "2023-01-23T00:00:00",
          "2023-01-24T00:00:00",
          "2023-01-25T00:00:00",
          "2023-01-26T00:00:00",
          "2023-01-27T00:00:00",
          "2023-01-28T00:00:00",
          "2023-01-30T00:00:00",
          "2023-01-31T00:00:00",
          "2023-02-01T00:00:00",
          "2023-02-02T00:00:00",
          "2023-02-03T00:00:00",
          "2023-02-04T00:00:00",
          "2023-02-06T00:00:00",
          "2023-02-09T00:00:00",
          "2023-02-11T00:00:00",
          "2023-02-13T00:00:00",
          "2023-02-14T00:00:00",
          "2023-02-15T00:00:00",
          "2023-02-16T00:00:00",
          "2023-02-17T00:00:00",
          "2023-02-18T00:00:00",
          "2023-02-19T00:00:00",
          "2023-02-20T00:00:00",
          "2023-02-21T00:00:00",
          "2023-02-22T00:00:00",
          "2023-02-23T00:00:00",
          "2023-02-24T00:00:00",
          "2023-02-25T00:00:00",
          "2023-02-27T00:00:00",
          "2023-02-28T00:00:00",
          "2023-03-01T00:00:00",
          "2023-03-02T00:00:00",
          "2023-03-03T00:00:00",
          "2023-03-04T00:00:00",
          "2023-03-05T00:00:00",
          "2023-03-06T00:00:00",
          "2023-03-07T00:00:00",
          "2023-03-08T00:00:00",
          "2023-03-09T00:00:00",
          "2023-03-10T00:00:00",
          "2023-03-11T00:00:00",
          "2023-03-13T00:00:00",
          "2023-03-14T00:00:00",
          "2023-03-16T00:00:00",
          "2023-03-17T00:00:00",
          "2023-03-18T00:00:00",
          "2023-03-20T00:00:00",
          "2023-03-21T00:00:00",
          "2023-03-22T00:00:00",
          "2023-03-24T00:00:00",
          "2023-03-25T00:00:00",
          "2023-03-27T00:00:00",
          "2023-03-29T00:00:00",
          "2023-04-01T00:00:00",
          "2023-04-03T00:00:00",
          "2023-04-05T00:00:00",
          "2023-04-06T00:00:00",
          "2023-04-08T00:00:00",
          "2023-04-10T00:00:00",
          "2023-04-11T00:00:00",
          "2023-04-12T00:00:00",
          "2023-04-13T00:00:00",
          "2023-04-15T00:00:00",
          "2023-04-16T00:00:00",
          "2023-04-17T00:00:00"
         ],
         "y": [
          0,
          0,
          0,
          0,
          0,
          0,
          0,
          0,
          0,
          0,
          0,
          0,
          0,
          0,
          0,
          0,
          0,
          0,
          0,
          0,
          0,
          0,
          0,
          0,
          0,
          0,
          0,
          0,
          0,
          0,
          0,
          0,
          0,
          0,
          0,
          0,
          0,
          0,
          0,
          0,
          1,
          1,
          2,
          2,
          2,
          5,
          7,
          7,
          7,
          8,
          8,
          10,
          11,
          12,
          12,
          13,
          19,
          19,
          19,
          19,
          20,
          20,
          20,
          22,
          22,
          25,
          27,
          28,
          30,
          34,
          36,
          43,
          48,
          49,
          52,
          54,
          54,
          54
         ]
        },
        {
         "line": {
          "color": "#7357DB"
         },
         "name": "kajal",
         "showlegend": true,
         "text": [
          "2023-01-06T00:00:00",
          "2023-01-07T00:00:00",
          "2023-01-09T00:00:00",
          "2023-01-10T00:00:00",
          "2023-01-11T00:00:00",
          "2023-01-13T00:00:00",
          "2023-01-14T00:00:00",
          "2023-01-16T00:00:00",
          "2023-01-17T00:00:00",
          "2023-01-18T00:00:00",
          "2023-01-19T00:00:00",
          "2023-01-20T00:00:00",
          "2023-01-21T00:00:00",
          "2023-01-23T00:00:00",
          "2023-01-24T00:00:00",
          "2023-01-25T00:00:00",
          "2023-01-26T00:00:00",
          "2023-01-27T00:00:00",
          "2023-01-28T00:00:00",
          "2023-01-30T00:00:00",
          "2023-01-31T00:00:00",
          "2023-02-01T00:00:00",
          "2023-02-02T00:00:00",
          "2023-02-03T00:00:00",
          "2023-02-04T00:00:00",
          "2023-02-06T00:00:00",
          "2023-02-09T00:00:00",
          "2023-02-11T00:00:00",
          "2023-02-13T00:00:00",
          "2023-02-14T00:00:00",
          "2023-02-15T00:00:00",
          "2023-02-16T00:00:00",
          "2023-02-17T00:00:00",
          "2023-02-18T00:00:00",
          "2023-02-19T00:00:00",
          "2023-02-20T00:00:00",
          "2023-02-21T00:00:00",
          "2023-02-22T00:00:00",
          "2023-02-23T00:00:00",
          "2023-02-24T00:00:00",
          "2023-02-25T00:00:00",
          "2023-02-27T00:00:00",
          "2023-02-28T00:00:00",
          "2023-03-01T00:00:00",
          "2023-03-02T00:00:00",
          "2023-03-03T00:00:00",
          "2023-03-04T00:00:00",
          "2023-03-05T00:00:00",
          "2023-03-06T00:00:00",
          "2023-03-07T00:00:00",
          "2023-03-08T00:00:00",
          "2023-03-09T00:00:00",
          "2023-03-10T00:00:00",
          "2023-03-11T00:00:00",
          "2023-03-13T00:00:00",
          "2023-03-14T00:00:00",
          "2023-03-16T00:00:00",
          "2023-03-17T00:00:00",
          "2023-03-18T00:00:00",
          "2023-03-20T00:00:00",
          "2023-03-21T00:00:00",
          "2023-03-22T00:00:00",
          "2023-03-24T00:00:00",
          "2023-03-25T00:00:00",
          "2023-03-27T00:00:00",
          "2023-03-29T00:00:00",
          "2023-04-01T00:00:00",
          "2023-04-03T00:00:00",
          "2023-04-05T00:00:00",
          "2023-04-06T00:00:00",
          "2023-04-08T00:00:00",
          "2023-04-10T00:00:00",
          "2023-04-11T00:00:00",
          "2023-04-12T00:00:00",
          "2023-04-13T00:00:00",
          "2023-04-15T00:00:00",
          "2023-04-16T00:00:00",
          "2023-04-17T00:00:00"
         ],
         "type": "scatter",
         "x": [
          "2023-01-06T00:00:00",
          "2023-01-07T00:00:00",
          "2023-01-09T00:00:00",
          "2023-01-10T00:00:00",
          "2023-01-11T00:00:00",
          "2023-01-13T00:00:00",
          "2023-01-14T00:00:00",
          "2023-01-16T00:00:00",
          "2023-01-17T00:00:00",
          "2023-01-18T00:00:00",
          "2023-01-19T00:00:00",
          "2023-01-20T00:00:00",
          "2023-01-21T00:00:00",
          "2023-01-23T00:00:00",
          "2023-01-24T00:00:00",
          "2023-01-25T00:00:00",
          "2023-01-26T00:00:00",
          "2023-01-27T00:00:00",
          "2023-01-28T00:00:00",
          "2023-01-30T00:00:00",
          "2023-01-31T00:00:00",
          "2023-02-01T00:00:00",
          "2023-02-02T00:00:00",
          "2023-02-03T00:00:00",
          "2023-02-04T00:00:00",
          "2023-02-06T00:00:00",
          "2023-02-09T00:00:00",
          "2023-02-11T00:00:00",
          "2023-02-13T00:00:00",
          "2023-02-14T00:00:00",
          "2023-02-15T00:00:00",
          "2023-02-16T00:00:00",
          "2023-02-17T00:00:00",
          "2023-02-18T00:00:00",
          "2023-02-19T00:00:00",
          "2023-02-20T00:00:00",
          "2023-02-21T00:00:00",
          "2023-02-22T00:00:00",
          "2023-02-23T00:00:00",
          "2023-02-24T00:00:00",
          "2023-02-25T00:00:00",
          "2023-02-27T00:00:00",
          "2023-02-28T00:00:00",
          "2023-03-01T00:00:00",
          "2023-03-02T00:00:00",
          "2023-03-03T00:00:00",
          "2023-03-04T00:00:00",
          "2023-03-05T00:00:00",
          "2023-03-06T00:00:00",
          "2023-03-07T00:00:00",
          "2023-03-08T00:00:00",
          "2023-03-09T00:00:00",
          "2023-03-10T00:00:00",
          "2023-03-11T00:00:00",
          "2023-03-13T00:00:00",
          "2023-03-14T00:00:00",
          "2023-03-16T00:00:00",
          "2023-03-17T00:00:00",
          "2023-03-18T00:00:00",
          "2023-03-20T00:00:00",
          "2023-03-21T00:00:00",
          "2023-03-22T00:00:00",
          "2023-03-24T00:00:00",
          "2023-03-25T00:00:00",
          "2023-03-27T00:00:00",
          "2023-03-29T00:00:00",
          "2023-04-01T00:00:00",
          "2023-04-03T00:00:00",
          "2023-04-05T00:00:00",
          "2023-04-06T00:00:00",
          "2023-04-08T00:00:00",
          "2023-04-10T00:00:00",
          "2023-04-11T00:00:00",
          "2023-04-12T00:00:00",
          "2023-04-13T00:00:00",
          "2023-04-15T00:00:00",
          "2023-04-16T00:00:00",
          "2023-04-17T00:00:00"
         ],
         "y": [
          10,
          25,
          34,
          36,
          51,
          52,
          55,
          77,
          81,
          85,
          92,
          93,
          94,
          95,
          101,
          117,
          130,
          135,
          143,
          143,
          147,
          152,
          157,
          158,
          163,
          165,
          182,
          186,
          195,
          203,
          220,
          229,
          229,
          242,
          244,
          262,
          285,
          307,
          351,
          370,
          382,
          403,
          404,
          413,
          421,
          427,
          434,
          437,
          437,
          447,
          472,
          475,
          475,
          475,
          475,
          476,
          479,
          479,
          482,
          484,
          484,
          484,
          484,
          484,
          484,
          494,
          497,
          500,
          500,
          500,
          500,
          515,
          592,
          593,
          618,
          620,
          620,
          626
         ]
        },
        {
         "line": {
          "color": "#B057DB"
         },
         "name": "mirza",
         "showlegend": true,
         "text": [
          "2023-01-06T00:00:00",
          "2023-01-07T00:00:00",
          "2023-01-09T00:00:00",
          "2023-01-10T00:00:00",
          "2023-01-11T00:00:00",
          "2023-01-13T00:00:00",
          "2023-01-14T00:00:00",
          "2023-01-16T00:00:00",
          "2023-01-17T00:00:00",
          "2023-01-18T00:00:00",
          "2023-01-19T00:00:00",
          "2023-01-20T00:00:00",
          "2023-01-21T00:00:00",
          "2023-01-23T00:00:00",
          "2023-01-24T00:00:00",
          "2023-01-25T00:00:00",
          "2023-01-26T00:00:00",
          "2023-01-27T00:00:00",
          "2023-01-28T00:00:00",
          "2023-01-30T00:00:00",
          "2023-01-31T00:00:00",
          "2023-02-01T00:00:00",
          "2023-02-02T00:00:00",
          "2023-02-03T00:00:00",
          "2023-02-04T00:00:00",
          "2023-02-06T00:00:00",
          "2023-02-09T00:00:00",
          "2023-02-11T00:00:00",
          "2023-02-13T00:00:00",
          "2023-02-14T00:00:00",
          "2023-02-15T00:00:00",
          "2023-02-16T00:00:00",
          "2023-02-17T00:00:00",
          "2023-02-18T00:00:00",
          "2023-02-19T00:00:00",
          "2023-02-20T00:00:00",
          "2023-02-21T00:00:00",
          "2023-02-22T00:00:00",
          "2023-02-23T00:00:00",
          "2023-02-24T00:00:00",
          "2023-02-25T00:00:00",
          "2023-02-27T00:00:00",
          "2023-02-28T00:00:00",
          "2023-03-01T00:00:00",
          "2023-03-02T00:00:00",
          "2023-03-03T00:00:00",
          "2023-03-04T00:00:00",
          "2023-03-05T00:00:00",
          "2023-03-06T00:00:00",
          "2023-03-07T00:00:00",
          "2023-03-08T00:00:00",
          "2023-03-09T00:00:00",
          "2023-03-10T00:00:00",
          "2023-03-11T00:00:00",
          "2023-03-13T00:00:00",
          "2023-03-14T00:00:00",
          "2023-03-16T00:00:00",
          "2023-03-17T00:00:00",
          "2023-03-18T00:00:00",
          "2023-03-20T00:00:00",
          "2023-03-21T00:00:00",
          "2023-03-22T00:00:00",
          "2023-03-24T00:00:00",
          "2023-03-25T00:00:00",
          "2023-03-27T00:00:00",
          "2023-03-29T00:00:00",
          "2023-04-01T00:00:00",
          "2023-04-03T00:00:00",
          "2023-04-05T00:00:00",
          "2023-04-06T00:00:00",
          "2023-04-08T00:00:00",
          "2023-04-10T00:00:00",
          "2023-04-11T00:00:00",
          "2023-04-12T00:00:00",
          "2023-04-13T00:00:00",
          "2023-04-15T00:00:00",
          "2023-04-16T00:00:00",
          "2023-04-17T00:00:00"
         ],
         "type": "scatter",
         "x": [
          "2023-01-06T00:00:00",
          "2023-01-07T00:00:00",
          "2023-01-09T00:00:00",
          "2023-01-10T00:00:00",
          "2023-01-11T00:00:00",
          "2023-01-13T00:00:00",
          "2023-01-14T00:00:00",
          "2023-01-16T00:00:00",
          "2023-01-17T00:00:00",
          "2023-01-18T00:00:00",
          "2023-01-19T00:00:00",
          "2023-01-20T00:00:00",
          "2023-01-21T00:00:00",
          "2023-01-23T00:00:00",
          "2023-01-24T00:00:00",
          "2023-01-25T00:00:00",
          "2023-01-26T00:00:00",
          "2023-01-27T00:00:00",
          "2023-01-28T00:00:00",
          "2023-01-30T00:00:00",
          "2023-01-31T00:00:00",
          "2023-02-01T00:00:00",
          "2023-02-02T00:00:00",
          "2023-02-03T00:00:00",
          "2023-02-04T00:00:00",
          "2023-02-06T00:00:00",
          "2023-02-09T00:00:00",
          "2023-02-11T00:00:00",
          "2023-02-13T00:00:00",
          "2023-02-14T00:00:00",
          "2023-02-15T00:00:00",
          "2023-02-16T00:00:00",
          "2023-02-17T00:00:00",
          "2023-02-18T00:00:00",
          "2023-02-19T00:00:00",
          "2023-02-20T00:00:00",
          "2023-02-21T00:00:00",
          "2023-02-22T00:00:00",
          "2023-02-23T00:00:00",
          "2023-02-24T00:00:00",
          "2023-02-25T00:00:00",
          "2023-02-27T00:00:00",
          "2023-02-28T00:00:00",
          "2023-03-01T00:00:00",
          "2023-03-02T00:00:00",
          "2023-03-03T00:00:00",
          "2023-03-04T00:00:00",
          "2023-03-05T00:00:00",
          "2023-03-06T00:00:00",
          "2023-03-07T00:00:00",
          "2023-03-08T00:00:00",
          "2023-03-09T00:00:00",
          "2023-03-10T00:00:00",
          "2023-03-11T00:00:00",
          "2023-03-13T00:00:00",
          "2023-03-14T00:00:00",
          "2023-03-16T00:00:00",
          "2023-03-17T00:00:00",
          "2023-03-18T00:00:00",
          "2023-03-20T00:00:00",
          "2023-03-21T00:00:00",
          "2023-03-22T00:00:00",
          "2023-03-24T00:00:00",
          "2023-03-25T00:00:00",
          "2023-03-27T00:00:00",
          "2023-03-29T00:00:00",
          "2023-04-01T00:00:00",
          "2023-04-03T00:00:00",
          "2023-04-05T00:00:00",
          "2023-04-06T00:00:00",
          "2023-04-08T00:00:00",
          "2023-04-10T00:00:00",
          "2023-04-11T00:00:00",
          "2023-04-12T00:00:00",
          "2023-04-13T00:00:00",
          "2023-04-15T00:00:00",
          "2023-04-16T00:00:00",
          "2023-04-17T00:00:00"
         ],
         "y": [
          0,
          1,
          1,
          1,
          7,
          8,
          8,
          8,
          8,
          8,
          8,
          8,
          8,
          8,
          8,
          10,
          10,
          10,
          11,
          13,
          13,
          13,
          20,
          20,
          21,
          21,
          21,
          21,
          21,
          21,
          22,
          22,
          22,
          22,
          22,
          24,
          24,
          24,
          24,
          24,
          24,
          24,
          24,
          24,
          25,
          25,
          25,
          25,
          25,
          25,
          25,
          25,
          25,
          25,
          25,
          25,
          28,
          28,
          28,
          28,
          28,
          28,
          28,
          28,
          28,
          28,
          28,
          28,
          28,
          28,
          28,
          28,
          28,
          28,
          28,
          28,
          28,
          28
         ]
        },
        {
         "line": {
          "color": "#DB57C9"
         },
         "name": "rika",
         "showlegend": true,
         "text": [
          "2023-01-06T00:00:00",
          "2023-01-07T00:00:00",
          "2023-01-09T00:00:00",
          "2023-01-10T00:00:00",
          "2023-01-11T00:00:00",
          "2023-01-13T00:00:00",
          "2023-01-14T00:00:00",
          "2023-01-16T00:00:00",
          "2023-01-17T00:00:00",
          "2023-01-18T00:00:00",
          "2023-01-19T00:00:00",
          "2023-01-20T00:00:00",
          "2023-01-21T00:00:00",
          "2023-01-23T00:00:00",
          "2023-01-24T00:00:00",
          "2023-01-25T00:00:00",
          "2023-01-26T00:00:00",
          "2023-01-27T00:00:00",
          "2023-01-28T00:00:00",
          "2023-01-30T00:00:00",
          "2023-01-31T00:00:00",
          "2023-02-01T00:00:00",
          "2023-02-02T00:00:00",
          "2023-02-03T00:00:00",
          "2023-02-04T00:00:00",
          "2023-02-06T00:00:00",
          "2023-02-09T00:00:00",
          "2023-02-11T00:00:00",
          "2023-02-13T00:00:00",
          "2023-02-14T00:00:00",
          "2023-02-15T00:00:00",
          "2023-02-16T00:00:00",
          "2023-02-17T00:00:00",
          "2023-02-18T00:00:00",
          "2023-02-19T00:00:00",
          "2023-02-20T00:00:00",
          "2023-02-21T00:00:00",
          "2023-02-22T00:00:00",
          "2023-02-23T00:00:00",
          "2023-02-24T00:00:00",
          "2023-02-25T00:00:00",
          "2023-02-27T00:00:00",
          "2023-02-28T00:00:00",
          "2023-03-01T00:00:00",
          "2023-03-02T00:00:00",
          "2023-03-03T00:00:00",
          "2023-03-04T00:00:00",
          "2023-03-05T00:00:00",
          "2023-03-06T00:00:00",
          "2023-03-07T00:00:00",
          "2023-03-08T00:00:00",
          "2023-03-09T00:00:00",
          "2023-03-10T00:00:00",
          "2023-03-11T00:00:00",
          "2023-03-13T00:00:00",
          "2023-03-14T00:00:00",
          "2023-03-16T00:00:00",
          "2023-03-17T00:00:00",
          "2023-03-18T00:00:00",
          "2023-03-20T00:00:00",
          "2023-03-21T00:00:00",
          "2023-03-22T00:00:00",
          "2023-03-24T00:00:00",
          "2023-03-25T00:00:00",
          "2023-03-27T00:00:00",
          "2023-03-29T00:00:00",
          "2023-04-01T00:00:00",
          "2023-04-03T00:00:00",
          "2023-04-05T00:00:00",
          "2023-04-06T00:00:00",
          "2023-04-08T00:00:00",
          "2023-04-10T00:00:00",
          "2023-04-11T00:00:00",
          "2023-04-12T00:00:00",
          "2023-04-13T00:00:00",
          "2023-04-15T00:00:00",
          "2023-04-16T00:00:00",
          "2023-04-17T00:00:00"
         ],
         "type": "scatter",
         "x": [
          "2023-01-06T00:00:00",
          "2023-01-07T00:00:00",
          "2023-01-09T00:00:00",
          "2023-01-10T00:00:00",
          "2023-01-11T00:00:00",
          "2023-01-13T00:00:00",
          "2023-01-14T00:00:00",
          "2023-01-16T00:00:00",
          "2023-01-17T00:00:00",
          "2023-01-18T00:00:00",
          "2023-01-19T00:00:00",
          "2023-01-20T00:00:00",
          "2023-01-21T00:00:00",
          "2023-01-23T00:00:00",
          "2023-01-24T00:00:00",
          "2023-01-25T00:00:00",
          "2023-01-26T00:00:00",
          "2023-01-27T00:00:00",
          "2023-01-28T00:00:00",
          "2023-01-30T00:00:00",
          "2023-01-31T00:00:00",
          "2023-02-01T00:00:00",
          "2023-02-02T00:00:00",
          "2023-02-03T00:00:00",
          "2023-02-04T00:00:00",
          "2023-02-06T00:00:00",
          "2023-02-09T00:00:00",
          "2023-02-11T00:00:00",
          "2023-02-13T00:00:00",
          "2023-02-14T00:00:00",
          "2023-02-15T00:00:00",
          "2023-02-16T00:00:00",
          "2023-02-17T00:00:00",
          "2023-02-18T00:00:00",
          "2023-02-19T00:00:00",
          "2023-02-20T00:00:00",
          "2023-02-21T00:00:00",
          "2023-02-22T00:00:00",
          "2023-02-23T00:00:00",
          "2023-02-24T00:00:00",
          "2023-02-25T00:00:00",
          "2023-02-27T00:00:00",
          "2023-02-28T00:00:00",
          "2023-03-01T00:00:00",
          "2023-03-02T00:00:00",
          "2023-03-03T00:00:00",
          "2023-03-04T00:00:00",
          "2023-03-05T00:00:00",
          "2023-03-06T00:00:00",
          "2023-03-07T00:00:00",
          "2023-03-08T00:00:00",
          "2023-03-09T00:00:00",
          "2023-03-10T00:00:00",
          "2023-03-11T00:00:00",
          "2023-03-13T00:00:00",
          "2023-03-14T00:00:00",
          "2023-03-16T00:00:00",
          "2023-03-17T00:00:00",
          "2023-03-18T00:00:00",
          "2023-03-20T00:00:00",
          "2023-03-21T00:00:00",
          "2023-03-22T00:00:00",
          "2023-03-24T00:00:00",
          "2023-03-25T00:00:00",
          "2023-03-27T00:00:00",
          "2023-03-29T00:00:00",
          "2023-04-01T00:00:00",
          "2023-04-03T00:00:00",
          "2023-04-05T00:00:00",
          "2023-04-06T00:00:00",
          "2023-04-08T00:00:00",
          "2023-04-10T00:00:00",
          "2023-04-11T00:00:00",
          "2023-04-12T00:00:00",
          "2023-04-13T00:00:00",
          "2023-04-15T00:00:00",
          "2023-04-16T00:00:00",
          "2023-04-17T00:00:00"
         ],
         "y": [
          1,
          1,
          1,
          1,
          1,
          1,
          1,
          3,
          3,
          3,
          3,
          3,
          5,
          5,
          8,
          8,
          8,
          8,
          9,
          9,
          9,
          11,
          11,
          11,
          11,
          11,
          11,
          11,
          11,
          11,
          11,
          11,
          11,
          17,
          17,
          18,
          24,
          24,
          28,
          28,
          28,
          28,
          28,
          28,
          28,
          28,
          28,
          28,
          31,
          31,
          32,
          32,
          32,
          32,
          32,
          32,
          33,
          33,
          33,
          33,
          35,
          37,
          37,
          37,
          37,
          38,
          39,
          39,
          40,
          40,
          40,
          40,
          47,
          47,
          47,
          47,
          47,
          47
         ]
        },
        {
         "line": {
          "color": "#DB578C"
         },
         "name": "valeri",
         "showlegend": true,
         "text": [
          "2023-01-06T00:00:00",
          "2023-01-07T00:00:00",
          "2023-01-09T00:00:00",
          "2023-01-10T00:00:00",
          "2023-01-11T00:00:00",
          "2023-01-13T00:00:00",
          "2023-01-14T00:00:00",
          "2023-01-16T00:00:00",
          "2023-01-17T00:00:00",
          "2023-01-18T00:00:00",
          "2023-01-19T00:00:00",
          "2023-01-20T00:00:00",
          "2023-01-21T00:00:00",
          "2023-01-23T00:00:00",
          "2023-01-24T00:00:00",
          "2023-01-25T00:00:00",
          "2023-01-26T00:00:00",
          "2023-01-27T00:00:00",
          "2023-01-28T00:00:00",
          "2023-01-30T00:00:00",
          "2023-01-31T00:00:00",
          "2023-02-01T00:00:00",
          "2023-02-02T00:00:00",
          "2023-02-03T00:00:00",
          "2023-02-04T00:00:00",
          "2023-02-06T00:00:00",
          "2023-02-09T00:00:00",
          "2023-02-11T00:00:00",
          "2023-02-13T00:00:00",
          "2023-02-14T00:00:00",
          "2023-02-15T00:00:00",
          "2023-02-16T00:00:00",
          "2023-02-17T00:00:00",
          "2023-02-18T00:00:00",
          "2023-02-19T00:00:00",
          "2023-02-20T00:00:00",
          "2023-02-21T00:00:00",
          "2023-02-22T00:00:00",
          "2023-02-23T00:00:00",
          "2023-02-24T00:00:00",
          "2023-02-25T00:00:00",
          "2023-02-27T00:00:00",
          "2023-02-28T00:00:00",
          "2023-03-01T00:00:00",
          "2023-03-02T00:00:00",
          "2023-03-03T00:00:00",
          "2023-03-04T00:00:00",
          "2023-03-05T00:00:00",
          "2023-03-06T00:00:00",
          "2023-03-07T00:00:00",
          "2023-03-08T00:00:00",
          "2023-03-09T00:00:00",
          "2023-03-10T00:00:00",
          "2023-03-11T00:00:00",
          "2023-03-13T00:00:00",
          "2023-03-14T00:00:00",
          "2023-03-16T00:00:00",
          "2023-03-17T00:00:00",
          "2023-03-18T00:00:00",
          "2023-03-20T00:00:00",
          "2023-03-21T00:00:00",
          "2023-03-22T00:00:00",
          "2023-03-24T00:00:00",
          "2023-03-25T00:00:00",
          "2023-03-27T00:00:00",
          "2023-03-29T00:00:00",
          "2023-04-01T00:00:00",
          "2023-04-03T00:00:00",
          "2023-04-05T00:00:00",
          "2023-04-06T00:00:00",
          "2023-04-08T00:00:00",
          "2023-04-10T00:00:00",
          "2023-04-11T00:00:00",
          "2023-04-12T00:00:00",
          "2023-04-13T00:00:00",
          "2023-04-15T00:00:00",
          "2023-04-16T00:00:00",
          "2023-04-17T00:00:00"
         ],
         "type": "scatter",
         "x": [
          "2023-01-06T00:00:00",
          "2023-01-07T00:00:00",
          "2023-01-09T00:00:00",
          "2023-01-10T00:00:00",
          "2023-01-11T00:00:00",
          "2023-01-13T00:00:00",
          "2023-01-14T00:00:00",
          "2023-01-16T00:00:00",
          "2023-01-17T00:00:00",
          "2023-01-18T00:00:00",
          "2023-01-19T00:00:00",
          "2023-01-20T00:00:00",
          "2023-01-21T00:00:00",
          "2023-01-23T00:00:00",
          "2023-01-24T00:00:00",
          "2023-01-25T00:00:00",
          "2023-01-26T00:00:00",
          "2023-01-27T00:00:00",
          "2023-01-28T00:00:00",
          "2023-01-30T00:00:00",
          "2023-01-31T00:00:00",
          "2023-02-01T00:00:00",
          "2023-02-02T00:00:00",
          "2023-02-03T00:00:00",
          "2023-02-04T00:00:00",
          "2023-02-06T00:00:00",
          "2023-02-09T00:00:00",
          "2023-02-11T00:00:00",
          "2023-02-13T00:00:00",
          "2023-02-14T00:00:00",
          "2023-02-15T00:00:00",
          "2023-02-16T00:00:00",
          "2023-02-17T00:00:00",
          "2023-02-18T00:00:00",
          "2023-02-19T00:00:00",
          "2023-02-20T00:00:00",
          "2023-02-21T00:00:00",
          "2023-02-22T00:00:00",
          "2023-02-23T00:00:00",
          "2023-02-24T00:00:00",
          "2023-02-25T00:00:00",
          "2023-02-27T00:00:00",
          "2023-02-28T00:00:00",
          "2023-03-01T00:00:00",
          "2023-03-02T00:00:00",
          "2023-03-03T00:00:00",
          "2023-03-04T00:00:00",
          "2023-03-05T00:00:00",
          "2023-03-06T00:00:00",
          "2023-03-07T00:00:00",
          "2023-03-08T00:00:00",
          "2023-03-09T00:00:00",
          "2023-03-10T00:00:00",
          "2023-03-11T00:00:00",
          "2023-03-13T00:00:00",
          "2023-03-14T00:00:00",
          "2023-03-16T00:00:00",
          "2023-03-17T00:00:00",
          "2023-03-18T00:00:00",
          "2023-03-20T00:00:00",
          "2023-03-21T00:00:00",
          "2023-03-22T00:00:00",
          "2023-03-24T00:00:00",
          "2023-03-25T00:00:00",
          "2023-03-27T00:00:00",
          "2023-03-29T00:00:00",
          "2023-04-01T00:00:00",
          "2023-04-03T00:00:00",
          "2023-04-05T00:00:00",
          "2023-04-06T00:00:00",
          "2023-04-08T00:00:00",
          "2023-04-10T00:00:00",
          "2023-04-11T00:00:00",
          "2023-04-12T00:00:00",
          "2023-04-13T00:00:00",
          "2023-04-15T00:00:00",
          "2023-04-16T00:00:00",
          "2023-04-17T00:00:00"
         ],
         "y": [
          1,
          14,
          18,
          20,
          23,
          23,
          23,
          59,
          65,
          66,
          72,
          72,
          74,
          75,
          86,
          94,
          100,
          101,
          105,
          112,
          113,
          119,
          120,
          120,
          120,
          122,
          133,
          135,
          140,
          148,
          158,
          162,
          162,
          172,
          172,
          178,
          194,
          206,
          239,
          253,
          258,
          268,
          268,
          269,
          269,
          270,
          274,
          274,
          276,
          285,
          306,
          308,
          308,
          310,
          311,
          311,
          312,
          313,
          313,
          314,
          318,
          318,
          319,
          322,
          325,
          336,
          339,
          350,
          359,
          359,
          359,
          368,
          443,
          444,
          454,
          457,
          457,
          459
         ]
        }
       ],
       "layout": {
        "template": {
         "data": {
          "bar": [
           {
            "error_x": {
             "color": "#2a3f5f"
            },
            "error_y": {
             "color": "#2a3f5f"
            },
            "marker": {
             "line": {
              "color": "white",
              "width": 0.5
             }
            },
            "type": "bar"
           }
          ],
          "barpolar": [
           {
            "marker": {
             "line": {
              "color": "white",
              "width": 0.5
             }
            },
            "type": "barpolar"
           }
          ],
          "carpet": [
           {
            "aaxis": {
             "endlinecolor": "#2a3f5f",
             "gridcolor": "#C8D4E3",
             "linecolor": "#C8D4E3",
             "minorgridcolor": "#C8D4E3",
             "startlinecolor": "#2a3f5f"
            },
            "baxis": {
             "endlinecolor": "#2a3f5f",
             "gridcolor": "#C8D4E3",
             "linecolor": "#C8D4E3",
             "minorgridcolor": "#C8D4E3",
             "startlinecolor": "#2a3f5f"
            },
            "type": "carpet"
           }
          ],
          "choropleth": [
           {
            "colorbar": {
             "outlinewidth": 0,
             "ticks": ""
            },
            "type": "choropleth"
           }
          ],
          "contour": [
           {
            "colorbar": {
             "outlinewidth": 0,
             "ticks": ""
            },
            "colorscale": [
             [
              0,
              "#0d0887"
             ],
             [
              0.1111111111111111,
              "#46039f"
             ],
             [
              0.2222222222222222,
              "#7201a8"
             ],
             [
              0.3333333333333333,
              "#9c179e"
             ],
             [
              0.4444444444444444,
              "#bd3786"
             ],
             [
              0.5555555555555556,
              "#d8576b"
             ],
             [
              0.6666666666666666,
              "#ed7953"
             ],
             [
              0.7777777777777778,
              "#fb9f3a"
             ],
             [
              0.8888888888888888,
              "#fdca26"
             ],
             [
              1,
              "#f0f921"
             ]
            ],
            "type": "contour"
           }
          ],
          "contourcarpet": [
           {
            "colorbar": {
             "outlinewidth": 0,
             "ticks": ""
            },
            "type": "contourcarpet"
           }
          ],
          "heatmap": [
           {
            "colorbar": {
             "outlinewidth": 0,
             "ticks": ""
            },
            "colorscale": [
             [
              0,
              "#0d0887"
             ],
             [
              0.1111111111111111,
              "#46039f"
             ],
             [
              0.2222222222222222,
              "#7201a8"
             ],
             [
              0.3333333333333333,
              "#9c179e"
             ],
             [
              0.4444444444444444,
              "#bd3786"
             ],
             [
              0.5555555555555556,
              "#d8576b"
             ],
             [
              0.6666666666666666,
              "#ed7953"
             ],
             [
              0.7777777777777778,
              "#fb9f3a"
             ],
             [
              0.8888888888888888,
              "#fdca26"
             ],
             [
              1,
              "#f0f921"
             ]
            ],
            "type": "heatmap"
           }
          ],
          "heatmapgl": [
           {
            "colorbar": {
             "outlinewidth": 0,
             "ticks": ""
            },
            "colorscale": [
             [
              0,
              "#0d0887"
             ],
             [
              0.1111111111111111,
              "#46039f"
             ],
             [
              0.2222222222222222,
              "#7201a8"
             ],
             [
              0.3333333333333333,
              "#9c179e"
             ],
             [
              0.4444444444444444,
              "#bd3786"
             ],
             [
              0.5555555555555556,
              "#d8576b"
             ],
             [
              0.6666666666666666,
              "#ed7953"
             ],
             [
              0.7777777777777778,
              "#fb9f3a"
             ],
             [
              0.8888888888888888,
              "#fdca26"
             ],
             [
              1,
              "#f0f921"
             ]
            ],
            "type": "heatmapgl"
           }
          ],
          "histogram": [
           {
            "marker": {
             "colorbar": {
              "outlinewidth": 0,
              "ticks": ""
             }
            },
            "type": "histogram"
           }
          ],
          "histogram2d": [
           {
            "colorbar": {
             "outlinewidth": 0,
             "ticks": ""
            },
            "colorscale": [
             [
              0,
              "#0d0887"
             ],
             [
              0.1111111111111111,
              "#46039f"
             ],
             [
              0.2222222222222222,
              "#7201a8"
             ],
             [
              0.3333333333333333,
              "#9c179e"
             ],
             [
              0.4444444444444444,
              "#bd3786"
             ],
             [
              0.5555555555555556,
              "#d8576b"
             ],
             [
              0.6666666666666666,
              "#ed7953"
             ],
             [
              0.7777777777777778,
              "#fb9f3a"
             ],
             [
              0.8888888888888888,
              "#fdca26"
             ],
             [
              1,
              "#f0f921"
             ]
            ],
            "type": "histogram2d"
           }
          ],
          "histogram2dcontour": [
           {
            "colorbar": {
             "outlinewidth": 0,
             "ticks": ""
            },
            "colorscale": [
             [
              0,
              "#0d0887"
             ],
             [
              0.1111111111111111,
              "#46039f"
             ],
             [
              0.2222222222222222,
              "#7201a8"
             ],
             [
              0.3333333333333333,
              "#9c179e"
             ],
             [
              0.4444444444444444,
              "#bd3786"
             ],
             [
              0.5555555555555556,
              "#d8576b"
             ],
             [
              0.6666666666666666,
              "#ed7953"
             ],
             [
              0.7777777777777778,
              "#fb9f3a"
             ],
             [
              0.8888888888888888,
              "#fdca26"
             ],
             [
              1,
              "#f0f921"
             ]
            ],
            "type": "histogram2dcontour"
           }
          ],
          "mesh3d": [
           {
            "colorbar": {
             "outlinewidth": 0,
             "ticks": ""
            },
            "type": "mesh3d"
           }
          ],
          "parcoords": [
           {
            "line": {
             "colorbar": {
              "outlinewidth": 0,
              "ticks": ""
             }
            },
            "type": "parcoords"
           }
          ],
          "pie": [
           {
            "automargin": true,
            "type": "pie"
           }
          ],
          "scatter": [
           {
            "marker": {
             "colorbar": {
              "outlinewidth": 0,
              "ticks": ""
             }
            },
            "type": "scatter"
           }
          ],
          "scatter3d": [
           {
            "line": {
             "colorbar": {
              "outlinewidth": 0,
              "ticks": ""
             }
            },
            "marker": {
             "colorbar": {
              "outlinewidth": 0,
              "ticks": ""
             }
            },
            "type": "scatter3d"
           }
          ],
          "scattercarpet": [
           {
            "marker": {
             "colorbar": {
              "outlinewidth": 0,
              "ticks": ""
             }
            },
            "type": "scattercarpet"
           }
          ],
          "scattergeo": [
           {
            "marker": {
             "colorbar": {
              "outlinewidth": 0,
              "ticks": ""
             }
            },
            "type": "scattergeo"
           }
          ],
          "scattergl": [
           {
            "marker": {
             "colorbar": {
              "outlinewidth": 0,
              "ticks": ""
             }
            },
            "type": "scattergl"
           }
          ],
          "scattermapbox": [
           {
            "marker": {
             "colorbar": {
              "outlinewidth": 0,
              "ticks": ""
             }
            },
            "type": "scattermapbox"
           }
          ],
          "scatterpolar": [
           {
            "marker": {
             "colorbar": {
              "outlinewidth": 0,
              "ticks": ""
             }
            },
            "type": "scatterpolar"
           }
          ],
          "scatterpolargl": [
           {
            "marker": {
             "colorbar": {
              "outlinewidth": 0,
              "ticks": ""
             }
            },
            "type": "scatterpolargl"
           }
          ],
          "scatterternary": [
           {
            "marker": {
             "colorbar": {
              "outlinewidth": 0,
              "ticks": ""
             }
            },
            "type": "scatterternary"
           }
          ],
          "surface": [
           {
            "colorbar": {
             "outlinewidth": 0,
             "ticks": ""
            },
            "colorscale": [
             [
              0,
              "#0d0887"
             ],
             [
              0.1111111111111111,
              "#46039f"
             ],
             [
              0.2222222222222222,
              "#7201a8"
             ],
             [
              0.3333333333333333,
              "#9c179e"
             ],
             [
              0.4444444444444444,
              "#bd3786"
             ],
             [
              0.5555555555555556,
              "#d8576b"
             ],
             [
              0.6666666666666666,
              "#ed7953"
             ],
             [
              0.7777777777777778,
              "#fb9f3a"
             ],
             [
              0.8888888888888888,
              "#fdca26"
             ],
             [
              1,
              "#f0f921"
             ]
            ],
            "type": "surface"
           }
          ],
          "table": [
           {
            "cells": {
             "fill": {
              "color": "#EBF0F8"
             },
             "line": {
              "color": "white"
             }
            },
            "header": {
             "fill": {
              "color": "#C8D4E3"
             },
             "line": {
              "color": "white"
             }
            },
            "type": "table"
           }
          ]
         },
         "layout": {
          "annotationdefaults": {
           "arrowcolor": "#2a3f5f",
           "arrowhead": 0,
           "arrowwidth": 1
          },
          "autotypenumbers": "strict",
          "coloraxis": {
           "colorbar": {
            "outlinewidth": 0,
            "ticks": ""
           }
          },
          "colorscale": {
           "diverging": [
            [
             0,
             "#8e0152"
            ],
            [
             0.1,
             "#c51b7d"
            ],
            [
             0.2,
             "#de77ae"
            ],
            [
             0.3,
             "#f1b6da"
            ],
            [
             0.4,
             "#fde0ef"
            ],
            [
             0.5,
             "#f7f7f7"
            ],
            [
             0.6,
             "#e6f5d0"
            ],
            [
             0.7,
             "#b8e186"
            ],
            [
             0.8,
             "#7fbc41"
            ],
            [
             0.9,
             "#4d9221"
            ],
            [
             1,
             "#276419"
            ]
           ],
           "sequential": [
            [
             0,
             "#0d0887"
            ],
            [
             0.1111111111111111,
             "#46039f"
            ],
            [
             0.2222222222222222,
             "#7201a8"
            ],
            [
             0.3333333333333333,
             "#9c179e"
            ],
            [
             0.4444444444444444,
             "#bd3786"
            ],
            [
             0.5555555555555556,
             "#d8576b"
            ],
            [
             0.6666666666666666,
             "#ed7953"
            ],
            [
             0.7777777777777778,
             "#fb9f3a"
            ],
            [
             0.8888888888888888,
             "#fdca26"
            ],
            [
             1,
             "#f0f921"
            ]
           ],
           "sequentialminus": [
            [
             0,
             "#0d0887"
            ],
            [
             0.1111111111111111,
             "#46039f"
            ],
            [
             0.2222222222222222,
             "#7201a8"
            ],
            [
             0.3333333333333333,
             "#9c179e"
            ],
            [
             0.4444444444444444,
             "#bd3786"
            ],
            [
             0.5555555555555556,
             "#d8576b"
            ],
            [
             0.6666666666666666,
             "#ed7953"
            ],
            [
             0.7777777777777778,
             "#fb9f3a"
            ],
            [
             0.8888888888888888,
             "#fdca26"
            ],
            [
             1,
             "#f0f921"
            ]
           ]
          },
          "colorway": [
           "#636efa",
           "#EF553B",
           "#00cc96",
           "#ab63fa",
           "#FFA15A",
           "#19d3f3",
           "#FF6692",
           "#B6E880",
           "#FF97FF",
           "#FECB52"
          ],
          "font": {
           "color": "#2a3f5f"
          },
          "geo": {
           "bgcolor": "white",
           "lakecolor": "white",
           "landcolor": "white",
           "showlakes": true,
           "showland": true,
           "subunitcolor": "#C8D4E3"
          },
          "hoverlabel": {
           "align": "left"
          },
          "hovermode": "closest",
          "mapbox": {
           "style": "light"
          },
          "paper_bgcolor": "white",
          "plot_bgcolor": "white",
          "polar": {
           "angularaxis": {
            "gridcolor": "#EBF0F8",
            "linecolor": "#EBF0F8",
            "ticks": ""
           },
           "bgcolor": "white",
           "radialaxis": {
            "gridcolor": "#EBF0F8",
            "linecolor": "#EBF0F8",
            "ticks": ""
           }
          },
          "scene": {
           "xaxis": {
            "backgroundcolor": "white",
            "gridcolor": "#DFE8F3",
            "gridwidth": 2,
            "linecolor": "#EBF0F8",
            "showbackground": true,
            "ticks": "",
            "zerolinecolor": "#EBF0F8"
           },
           "yaxis": {
            "backgroundcolor": "white",
            "gridcolor": "#DFE8F3",
            "gridwidth": 2,
            "linecolor": "#EBF0F8",
            "showbackground": true,
            "ticks": "",
            "zerolinecolor": "#EBF0F8"
           },
           "zaxis": {
            "backgroundcolor": "white",
            "gridcolor": "#DFE8F3",
            "gridwidth": 2,
            "linecolor": "#EBF0F8",
            "showbackground": true,
            "ticks": "",
            "zerolinecolor": "#EBF0F8"
           }
          },
          "shapedefaults": {
           "line": {
            "color": "#2a3f5f"
           }
          },
          "ternary": {
           "aaxis": {
            "gridcolor": "#DFE8F3",
            "linecolor": "#A2B1C6",
            "ticks": ""
           },
           "baxis": {
            "gridcolor": "#DFE8F3",
            "linecolor": "#A2B1C6",
            "ticks": ""
           },
           "bgcolor": "white",
           "caxis": {
            "gridcolor": "#DFE8F3",
            "linecolor": "#A2B1C6",
            "ticks": ""
           }
          },
          "title": {
           "x": 0.05
          },
          "xaxis": {
           "automargin": true,
           "gridcolor": "#EBF0F8",
           "linecolor": "#EBF0F8",
           "ticks": "",
           "title": {
            "standoff": 15
           },
           "zerolinecolor": "#EBF0F8",
           "zerolinewidth": 2
          },
          "yaxis": {
           "automargin": true,
           "gridcolor": "#EBF0F8",
           "linecolor": "#EBF0F8",
           "ticks": "",
           "title": {
            "standoff": 15
           },
           "zerolinecolor": "#EBF0F8",
           "zerolinewidth": 2
          }
         }
        }
       }
      }
     },
     "metadata": {},
     "output_type": "display_data"
    }
   ],
   "source": [
    "fig = FigureBuilder(chat).user_interventions_count_linechart(cumulative=True, title=None, xlabel=None)\n",
    "py.plot(fig, filename='Cumulative interventions count', auto_open=False)\n",
    "fig"
   ]
  },
  {
   "attachments": {},
   "cell_type": "markdown",
   "metadata": {},
   "source": [
    "Interventions heatmap by module"
   ]
  },
  {
   "cell_type": "code",
   "execution_count": 15,
   "metadata": {},
   "outputs": [
    {
     "data": {
      "application/vnd.plotly.v1+json": {
       "config": {
        "plotlyServerURL": "https://plotly.com"
       },
       "data": [
        {
         "colorscale": [
          [
           0,
           "rgb(247,252,245)"
          ],
          [
           0.125,
           "rgb(229,245,224)"
          ],
          [
           0.25,
           "rgb(199,233,192)"
          ],
          [
           0.375,
           "rgb(161,217,155)"
          ],
          [
           0.5,
           "rgb(116,196,118)"
          ],
          [
           0.625,
           "rgb(65,171,93)"
          ],
          [
           0.75,
           "rgb(35,139,69)"
          ],
          [
           0.875,
           "rgb(0,109,44)"
          ],
          [
           1,
           "rgb(0,68,27)"
          ]
         ],
         "hovertemplate": "Interventions<extra>%{z:.2%}</extra>",
         "type": "heatmap",
         "x": [
          "adhit",
          "alex",
          "alit_gor",
          "alit_jak",
          "aris",
          "ely",
          "erland",
          "fawaz",
          "ichsan",
          "kajal",
          "mirza",
          "rika",
          "valeri"
         ],
         "y": [
          "Data Communication",
          "Data Visualization",
          "Group Final Project Preparation Week",
          "Introduction & Orientation",
          "Pitching Week",
          "Python",
          "SQL",
          "Spreadsheet & Statistics",
          "Understanding Business Problems"
         ],
         "z": [
          [
           0.05063291139240506,
           0.15625,
           0.06060606060606061,
           0.11382113821138211,
           0.08071748878923767,
           0.05194805194805195,
           0.017467248908296942,
           0.06666666666666667,
           0.16666666666666666,
           0.005042016806722689,
           0,
           0.021739130434782608,
           0.045146726862302484
          ],
          [
           0.06329113924050633,
           0.15625,
           0,
           0.056910569105691054,
           0.08071748878923767,
           0.01948051948051948,
           0.017467248908296942,
           0,
           0.14814814814814814,
           0.025210084033613446,
           0,
           0.13043478260869565,
           0.05869074492099323
          ],
          [
           0.012658227848101266,
           0,
           0,
           0.06504065040650407,
           0.05829596412556054,
           0.06493506493506493,
           0.013100436681222707,
           0,
           0.12962962962962962,
           0.011764705882352941,
           0.1111111111111111,
           0.021739130434782608,
           0.006772009029345372
          ],
          [
           0.0379746835443038,
           0,
           0.18181818181818182,
           0.008130081300813009,
           0.02242152466367713,
           0.03896103896103896,
           0.013100436681222707,
           0.26666666666666666,
           0,
           0.05042016806722689,
           0.25925925925925924,
           0,
           0.020316027088036117
          ],
          [
           0.21518987341772153,
           0.125,
           0.21212121212121213,
           0.21951219512195122,
           0.2645739910313901,
           0.14935064935064934,
           0.013100436681222707,
           0,
           0.3333333333333333,
           0.20168067226890757,
           0,
           0.15217391304347827,
           0.22121896162528218
          ],
          [
           0.17721518987341772,
           0.125,
           0.24242424242424243,
           0.3008130081300813,
           0.23766816143497757,
           0.2662337662337662,
           0.6069868995633187,
           0.26666666666666666,
           0.2222222222222222,
           0.38823529411764707,
           0.1111111111111111,
           0.32608695652173914,
           0.3115124153498871
          ],
          [
           0.22784810126582278,
           0.25,
           0.21212121212121213,
           0.04065040650406504,
           0.026905829596412557,
           0.11038961038961038,
           0.13537117903930132,
           0,
           0,
           0.1361344537815126,
           0.037037037037037035,
           0.13043478260869565,
           0.11738148984198646
          ],
          [
           0.17721518987341772,
           0.1875,
           0.09090909090909091,
           0.08130081300813008,
           0.13004484304932734,
           0.16233766233766234,
           0.10043668122270742,
           0.4,
           0,
           0.11596638655462185,
           0.48148148148148145,
           0.13043478260869565,
           0.1038374717832957
          ],
          [
           0.0379746835443038,
           0,
           0,
           0.11382113821138211,
           0.09865470852017937,
           0.13636363636363635,
           0.08296943231441048,
           0,
           0,
           0.06554621848739496,
           0,
           0.08695652173913043,
           0.11512415349887133
          ]
         ]
        }
       ],
       "layout": {
        "template": {
         "data": {
          "bar": [
           {
            "error_x": {
             "color": "#2a3f5f"
            },
            "error_y": {
             "color": "#2a3f5f"
            },
            "marker": {
             "line": {
              "color": "white",
              "width": 0.5
             }
            },
            "type": "bar"
           }
          ],
          "barpolar": [
           {
            "marker": {
             "line": {
              "color": "white",
              "width": 0.5
             }
            },
            "type": "barpolar"
           }
          ],
          "carpet": [
           {
            "aaxis": {
             "endlinecolor": "#2a3f5f",
             "gridcolor": "#C8D4E3",
             "linecolor": "#C8D4E3",
             "minorgridcolor": "#C8D4E3",
             "startlinecolor": "#2a3f5f"
            },
            "baxis": {
             "endlinecolor": "#2a3f5f",
             "gridcolor": "#C8D4E3",
             "linecolor": "#C8D4E3",
             "minorgridcolor": "#C8D4E3",
             "startlinecolor": "#2a3f5f"
            },
            "type": "carpet"
           }
          ],
          "choropleth": [
           {
            "colorbar": {
             "outlinewidth": 0,
             "ticks": ""
            },
            "type": "choropleth"
           }
          ],
          "contour": [
           {
            "colorbar": {
             "outlinewidth": 0,
             "ticks": ""
            },
            "colorscale": [
             [
              0,
              "#0d0887"
             ],
             [
              0.1111111111111111,
              "#46039f"
             ],
             [
              0.2222222222222222,
              "#7201a8"
             ],
             [
              0.3333333333333333,
              "#9c179e"
             ],
             [
              0.4444444444444444,
              "#bd3786"
             ],
             [
              0.5555555555555556,
              "#d8576b"
             ],
             [
              0.6666666666666666,
              "#ed7953"
             ],
             [
              0.7777777777777778,
              "#fb9f3a"
             ],
             [
              0.8888888888888888,
              "#fdca26"
             ],
             [
              1,
              "#f0f921"
             ]
            ],
            "type": "contour"
           }
          ],
          "contourcarpet": [
           {
            "colorbar": {
             "outlinewidth": 0,
             "ticks": ""
            },
            "type": "contourcarpet"
           }
          ],
          "heatmap": [
           {
            "colorbar": {
             "outlinewidth": 0,
             "ticks": ""
            },
            "colorscale": [
             [
              0,
              "#0d0887"
             ],
             [
              0.1111111111111111,
              "#46039f"
             ],
             [
              0.2222222222222222,
              "#7201a8"
             ],
             [
              0.3333333333333333,
              "#9c179e"
             ],
             [
              0.4444444444444444,
              "#bd3786"
             ],
             [
              0.5555555555555556,
              "#d8576b"
             ],
             [
              0.6666666666666666,
              "#ed7953"
             ],
             [
              0.7777777777777778,
              "#fb9f3a"
             ],
             [
              0.8888888888888888,
              "#fdca26"
             ],
             [
              1,
              "#f0f921"
             ]
            ],
            "type": "heatmap"
           }
          ],
          "heatmapgl": [
           {
            "colorbar": {
             "outlinewidth": 0,
             "ticks": ""
            },
            "colorscale": [
             [
              0,
              "#0d0887"
             ],
             [
              0.1111111111111111,
              "#46039f"
             ],
             [
              0.2222222222222222,
              "#7201a8"
             ],
             [
              0.3333333333333333,
              "#9c179e"
             ],
             [
              0.4444444444444444,
              "#bd3786"
             ],
             [
              0.5555555555555556,
              "#d8576b"
             ],
             [
              0.6666666666666666,
              "#ed7953"
             ],
             [
              0.7777777777777778,
              "#fb9f3a"
             ],
             [
              0.8888888888888888,
              "#fdca26"
             ],
             [
              1,
              "#f0f921"
             ]
            ],
            "type": "heatmapgl"
           }
          ],
          "histogram": [
           {
            "marker": {
             "colorbar": {
              "outlinewidth": 0,
              "ticks": ""
             }
            },
            "type": "histogram"
           }
          ],
          "histogram2d": [
           {
            "colorbar": {
             "outlinewidth": 0,
             "ticks": ""
            },
            "colorscale": [
             [
              0,
              "#0d0887"
             ],
             [
              0.1111111111111111,
              "#46039f"
             ],
             [
              0.2222222222222222,
              "#7201a8"
             ],
             [
              0.3333333333333333,
              "#9c179e"
             ],
             [
              0.4444444444444444,
              "#bd3786"
             ],
             [
              0.5555555555555556,
              "#d8576b"
             ],
             [
              0.6666666666666666,
              "#ed7953"
             ],
             [
              0.7777777777777778,
              "#fb9f3a"
             ],
             [
              0.8888888888888888,
              "#fdca26"
             ],
             [
              1,
              "#f0f921"
             ]
            ],
            "type": "histogram2d"
           }
          ],
          "histogram2dcontour": [
           {
            "colorbar": {
             "outlinewidth": 0,
             "ticks": ""
            },
            "colorscale": [
             [
              0,
              "#0d0887"
             ],
             [
              0.1111111111111111,
              "#46039f"
             ],
             [
              0.2222222222222222,
              "#7201a8"
             ],
             [
              0.3333333333333333,
              "#9c179e"
             ],
             [
              0.4444444444444444,
              "#bd3786"
             ],
             [
              0.5555555555555556,
              "#d8576b"
             ],
             [
              0.6666666666666666,
              "#ed7953"
             ],
             [
              0.7777777777777778,
              "#fb9f3a"
             ],
             [
              0.8888888888888888,
              "#fdca26"
             ],
             [
              1,
              "#f0f921"
             ]
            ],
            "type": "histogram2dcontour"
           }
          ],
          "mesh3d": [
           {
            "colorbar": {
             "outlinewidth": 0,
             "ticks": ""
            },
            "type": "mesh3d"
           }
          ],
          "parcoords": [
           {
            "line": {
             "colorbar": {
              "outlinewidth": 0,
              "ticks": ""
             }
            },
            "type": "parcoords"
           }
          ],
          "pie": [
           {
            "automargin": true,
            "type": "pie"
           }
          ],
          "scatter": [
           {
            "marker": {
             "colorbar": {
              "outlinewidth": 0,
              "ticks": ""
             }
            },
            "type": "scatter"
           }
          ],
          "scatter3d": [
           {
            "line": {
             "colorbar": {
              "outlinewidth": 0,
              "ticks": ""
             }
            },
            "marker": {
             "colorbar": {
              "outlinewidth": 0,
              "ticks": ""
             }
            },
            "type": "scatter3d"
           }
          ],
          "scattercarpet": [
           {
            "marker": {
             "colorbar": {
              "outlinewidth": 0,
              "ticks": ""
             }
            },
            "type": "scattercarpet"
           }
          ],
          "scattergeo": [
           {
            "marker": {
             "colorbar": {
              "outlinewidth": 0,
              "ticks": ""
             }
            },
            "type": "scattergeo"
           }
          ],
          "scattergl": [
           {
            "marker": {
             "colorbar": {
              "outlinewidth": 0,
              "ticks": ""
             }
            },
            "type": "scattergl"
           }
          ],
          "scattermapbox": [
           {
            "marker": {
             "colorbar": {
              "outlinewidth": 0,
              "ticks": ""
             }
            },
            "type": "scattermapbox"
           }
          ],
          "scatterpolar": [
           {
            "marker": {
             "colorbar": {
              "outlinewidth": 0,
              "ticks": ""
             }
            },
            "type": "scatterpolar"
           }
          ],
          "scatterpolargl": [
           {
            "marker": {
             "colorbar": {
              "outlinewidth": 0,
              "ticks": ""
             }
            },
            "type": "scatterpolargl"
           }
          ],
          "scatterternary": [
           {
            "marker": {
             "colorbar": {
              "outlinewidth": 0,
              "ticks": ""
             }
            },
            "type": "scatterternary"
           }
          ],
          "surface": [
           {
            "colorbar": {
             "outlinewidth": 0,
             "ticks": ""
            },
            "colorscale": [
             [
              0,
              "#0d0887"
             ],
             [
              0.1111111111111111,
              "#46039f"
             ],
             [
              0.2222222222222222,
              "#7201a8"
             ],
             [
              0.3333333333333333,
              "#9c179e"
             ],
             [
              0.4444444444444444,
              "#bd3786"
             ],
             [
              0.5555555555555556,
              "#d8576b"
             ],
             [
              0.6666666666666666,
              "#ed7953"
             ],
             [
              0.7777777777777778,
              "#fb9f3a"
             ],
             [
              0.8888888888888888,
              "#fdca26"
             ],
             [
              1,
              "#f0f921"
             ]
            ],
            "type": "surface"
           }
          ],
          "table": [
           {
            "cells": {
             "fill": {
              "color": "#EBF0F8"
             },
             "line": {
              "color": "white"
             }
            },
            "header": {
             "fill": {
              "color": "#C8D4E3"
             },
             "line": {
              "color": "white"
             }
            },
            "type": "table"
           }
          ]
         },
         "layout": {
          "annotationdefaults": {
           "arrowcolor": "#2a3f5f",
           "arrowhead": 0,
           "arrowwidth": 1
          },
          "autotypenumbers": "strict",
          "coloraxis": {
           "colorbar": {
            "outlinewidth": 0,
            "ticks": ""
           }
          },
          "colorscale": {
           "diverging": [
            [
             0,
             "#8e0152"
            ],
            [
             0.1,
             "#c51b7d"
            ],
            [
             0.2,
             "#de77ae"
            ],
            [
             0.3,
             "#f1b6da"
            ],
            [
             0.4,
             "#fde0ef"
            ],
            [
             0.5,
             "#f7f7f7"
            ],
            [
             0.6,
             "#e6f5d0"
            ],
            [
             0.7,
             "#b8e186"
            ],
            [
             0.8,
             "#7fbc41"
            ],
            [
             0.9,
             "#4d9221"
            ],
            [
             1,
             "#276419"
            ]
           ],
           "sequential": [
            [
             0,
             "#0d0887"
            ],
            [
             0.1111111111111111,
             "#46039f"
            ],
            [
             0.2222222222222222,
             "#7201a8"
            ],
            [
             0.3333333333333333,
             "#9c179e"
            ],
            [
             0.4444444444444444,
             "#bd3786"
            ],
            [
             0.5555555555555556,
             "#d8576b"
            ],
            [
             0.6666666666666666,
             "#ed7953"
            ],
            [
             0.7777777777777778,
             "#fb9f3a"
            ],
            [
             0.8888888888888888,
             "#fdca26"
            ],
            [
             1,
             "#f0f921"
            ]
           ],
           "sequentialminus": [
            [
             0,
             "#0d0887"
            ],
            [
             0.1111111111111111,
             "#46039f"
            ],
            [
             0.2222222222222222,
             "#7201a8"
            ],
            [
             0.3333333333333333,
             "#9c179e"
            ],
            [
             0.4444444444444444,
             "#bd3786"
            ],
            [
             0.5555555555555556,
             "#d8576b"
            ],
            [
             0.6666666666666666,
             "#ed7953"
            ],
            [
             0.7777777777777778,
             "#fb9f3a"
            ],
            [
             0.8888888888888888,
             "#fdca26"
            ],
            [
             1,
             "#f0f921"
            ]
           ]
          },
          "colorway": [
           "#636efa",
           "#EF553B",
           "#00cc96",
           "#ab63fa",
           "#FFA15A",
           "#19d3f3",
           "#FF6692",
           "#B6E880",
           "#FF97FF",
           "#FECB52"
          ],
          "font": {
           "color": "#2a3f5f"
          },
          "geo": {
           "bgcolor": "white",
           "lakecolor": "white",
           "landcolor": "white",
           "showlakes": true,
           "showland": true,
           "subunitcolor": "#C8D4E3"
          },
          "hoverlabel": {
           "align": "left"
          },
          "hovermode": "closest",
          "mapbox": {
           "style": "light"
          },
          "paper_bgcolor": "white",
          "plot_bgcolor": "white",
          "polar": {
           "angularaxis": {
            "gridcolor": "#EBF0F8",
            "linecolor": "#EBF0F8",
            "ticks": ""
           },
           "bgcolor": "white",
           "radialaxis": {
            "gridcolor": "#EBF0F8",
            "linecolor": "#EBF0F8",
            "ticks": ""
           }
          },
          "scene": {
           "xaxis": {
            "backgroundcolor": "white",
            "gridcolor": "#DFE8F3",
            "gridwidth": 2,
            "linecolor": "#EBF0F8",
            "showbackground": true,
            "ticks": "",
            "zerolinecolor": "#EBF0F8"
           },
           "yaxis": {
            "backgroundcolor": "white",
            "gridcolor": "#DFE8F3",
            "gridwidth": 2,
            "linecolor": "#EBF0F8",
            "showbackground": true,
            "ticks": "",
            "zerolinecolor": "#EBF0F8"
           },
           "zaxis": {
            "backgroundcolor": "white",
            "gridcolor": "#DFE8F3",
            "gridwidth": 2,
            "linecolor": "#EBF0F8",
            "showbackground": true,
            "ticks": "",
            "zerolinecolor": "#EBF0F8"
           }
          },
          "shapedefaults": {
           "line": {
            "color": "#2a3f5f"
           }
          },
          "ternary": {
           "aaxis": {
            "gridcolor": "#DFE8F3",
            "linecolor": "#A2B1C6",
            "ticks": ""
           },
           "baxis": {
            "gridcolor": "#DFE8F3",
            "linecolor": "#A2B1C6",
            "ticks": ""
           },
           "bgcolor": "white",
           "caxis": {
            "gridcolor": "#DFE8F3",
            "linecolor": "#A2B1C6",
            "ticks": ""
           }
          },
          "title": {
           "x": 0.05
          },
          "xaxis": {
           "automargin": true,
           "gridcolor": "#EBF0F8",
           "linecolor": "#EBF0F8",
           "ticks": "",
           "title": {
            "standoff": 15
           },
           "zerolinecolor": "#EBF0F8",
           "zerolinewidth": 2
          },
          "yaxis": {
           "automargin": true,
           "gridcolor": "#EBF0F8",
           "linecolor": "#EBF0F8",
           "ticks": "",
           "title": {
            "standoff": 15
           },
           "zerolinecolor": "#EBF0F8",
           "zerolinewidth": 2
          }
         }
        },
        "yaxis": {
         "categoryarray": [
          "Introduction & Orientation",
          "Understanding Business Problems",
          "Spreadsheet & Statistics",
          "SQL",
          "Python",
          "Group Final Project Preparation Week",
          "Data Visualization",
          "Data Communication",
          "Pitching Week"
         ],
         "categoryorder": "array"
        }
       }
      }
     },
     "metadata": {},
     "output_type": "display_data"
    }
   ],
   "source": [
    "pivot = pd.pivot_table(chat[chat.module_name != ''],\n",
    "                       index='module_name',\n",
    "                       columns='username',\n",
    "                       values='message', aggfunc='count').fillna(0).apply(lambda x: x/x.sum(), axis=0)\n",
    "heatmap = go.Heatmap(z=pivot.values,\n",
    "                     x=pivot.columns,\n",
    "                     y=pivot.index,\n",
    "                     hovertemplate='Interventions<extra>%{z:.2%}</extra>',\n",
    "                     colorscale='Greens')\n",
    "fig = go.Figure(data=[heatmap]).update_layout(yaxis={'categoryorder': 'array',\n",
    "                                                     'categoryarray': ['Introduction & Orientation',\n",
    "                                                                       'Understanding Business Problems',\n",
    "                                                                       'Spreadsheet & Statistics', 'SQL',\n",
    "                                                                       'Python', 'Group Final Project Preparation Week',\n",
    "                                                                       'Data Visualization', 'Data Communication',\n",
    "                                                                       'Pitching Week'\n",
    "                                                                       ]})\n",
    "py.plot(fig, filename='Interventions heatmap by module', auto_open=False)\n",
    "fig"
   ]
  },
  {
   "attachments": {},
   "cell_type": "markdown",
   "metadata": {},
   "source": [
    "Interventions heatmap by day & hour"
   ]
  },
  {
   "cell_type": "code",
   "execution_count": 16,
   "metadata": {},
   "outputs": [
    {
     "data": {
      "application/vnd.plotly.v1+json": {
       "config": {
        "plotlyServerURL": "https://plotly.com"
       },
       "data": [
        {
         "colorscale": [
          [
           0,
           "rgb(247,252,245)"
          ],
          [
           0.125,
           "rgb(229,245,224)"
          ],
          [
           0.25,
           "rgb(199,233,192)"
          ],
          [
           0.375,
           "rgb(161,217,155)"
          ],
          [
           0.5,
           "rgb(116,196,118)"
          ],
          [
           0.625,
           "rgb(65,171,93)"
          ],
          [
           0.75,
           "rgb(35,139,69)"
          ],
          [
           0.875,
           "rgb(0,109,44)"
          ],
          [
           1,
           "rgb(0,68,27)"
          ]
         ],
         "hovertemplate": "Interventions at %{y}-hour<extra>%{z}</extra>",
         "type": "heatmap",
         "x": [
          "Friday",
          "Monday",
          "Saturday",
          "Sunday",
          "Thursday",
          "Tuesday",
          "Wednesday"
         ],
         "y": [
          0,
          2,
          4,
          5,
          6,
          7,
          8,
          9,
          10,
          11,
          12,
          13,
          14,
          15,
          16,
          17,
          18,
          19,
          20,
          21,
          22,
          23
         ],
         "z": [
          [
           0,
           0,
           1,
           0,
           0,
           0,
           2
          ],
          [
           0,
           1,
           0,
           0,
           0,
           0,
           0
          ],
          [
           0,
           0,
           0,
           0,
           0,
           0,
           2
          ],
          [
           1,
           0,
           0,
           0,
           1,
           0,
           0
          ],
          [
           0,
           0,
           2,
           0,
           2,
           0,
           3
          ],
          [
           0,
           0,
           0,
           0,
           2,
           2,
           1
          ],
          [
           0,
           2,
           0,
           0,
           1,
           0,
           0
          ],
          [
           8,
           4,
           8,
           0,
           5,
           1,
           2
          ],
          [
           10,
           0,
           68,
           2,
           35,
           5,
           6
          ],
          [
           2,
           1,
           33,
           0,
           44,
           0,
           10
          ],
          [
           0,
           8,
           16,
           0,
           3,
           214,
           1
          ],
          [
           0,
           2,
           16,
           0,
           1,
           14,
           36
          ],
          [
           5,
           8,
           20,
           0,
           15,
           5,
           2
          ],
          [
           2,
           19,
           49,
           0,
           25,
           3,
           0
          ],
          [
           1,
           3,
           16,
           0,
           35,
           1,
           0
          ],
          [
           13,
           4,
           3,
           0,
           7,
           0,
           1
          ],
          [
           2,
           5,
           1,
           0,
           8,
           16,
           32
          ],
          [
           3,
           66,
           1,
           0,
           66,
           79,
           36
          ],
          [
           40,
           102,
           3,
           1,
           57,
           61,
           85
          ],
          [
           15,
           176,
           3,
           7,
           73,
           82,
           180
          ],
          [
           21,
           12,
           3,
           0,
           15,
           29,
           16
          ],
          [
           2,
           4,
           7,
           0,
           2,
           3,
           0
          ]
         ]
        }
       ],
       "layout": {
        "template": {
         "data": {
          "bar": [
           {
            "error_x": {
             "color": "#2a3f5f"
            },
            "error_y": {
             "color": "#2a3f5f"
            },
            "marker": {
             "line": {
              "color": "white",
              "width": 0.5
             }
            },
            "type": "bar"
           }
          ],
          "barpolar": [
           {
            "marker": {
             "line": {
              "color": "white",
              "width": 0.5
             }
            },
            "type": "barpolar"
           }
          ],
          "carpet": [
           {
            "aaxis": {
             "endlinecolor": "#2a3f5f",
             "gridcolor": "#C8D4E3",
             "linecolor": "#C8D4E3",
             "minorgridcolor": "#C8D4E3",
             "startlinecolor": "#2a3f5f"
            },
            "baxis": {
             "endlinecolor": "#2a3f5f",
             "gridcolor": "#C8D4E3",
             "linecolor": "#C8D4E3",
             "minorgridcolor": "#C8D4E3",
             "startlinecolor": "#2a3f5f"
            },
            "type": "carpet"
           }
          ],
          "choropleth": [
           {
            "colorbar": {
             "outlinewidth": 0,
             "ticks": ""
            },
            "type": "choropleth"
           }
          ],
          "contour": [
           {
            "colorbar": {
             "outlinewidth": 0,
             "ticks": ""
            },
            "colorscale": [
             [
              0,
              "#0d0887"
             ],
             [
              0.1111111111111111,
              "#46039f"
             ],
             [
              0.2222222222222222,
              "#7201a8"
             ],
             [
              0.3333333333333333,
              "#9c179e"
             ],
             [
              0.4444444444444444,
              "#bd3786"
             ],
             [
              0.5555555555555556,
              "#d8576b"
             ],
             [
              0.6666666666666666,
              "#ed7953"
             ],
             [
              0.7777777777777778,
              "#fb9f3a"
             ],
             [
              0.8888888888888888,
              "#fdca26"
             ],
             [
              1,
              "#f0f921"
             ]
            ],
            "type": "contour"
           }
          ],
          "contourcarpet": [
           {
            "colorbar": {
             "outlinewidth": 0,
             "ticks": ""
            },
            "type": "contourcarpet"
           }
          ],
          "heatmap": [
           {
            "colorbar": {
             "outlinewidth": 0,
             "ticks": ""
            },
            "colorscale": [
             [
              0,
              "#0d0887"
             ],
             [
              0.1111111111111111,
              "#46039f"
             ],
             [
              0.2222222222222222,
              "#7201a8"
             ],
             [
              0.3333333333333333,
              "#9c179e"
             ],
             [
              0.4444444444444444,
              "#bd3786"
             ],
             [
              0.5555555555555556,
              "#d8576b"
             ],
             [
              0.6666666666666666,
              "#ed7953"
             ],
             [
              0.7777777777777778,
              "#fb9f3a"
             ],
             [
              0.8888888888888888,
              "#fdca26"
             ],
             [
              1,
              "#f0f921"
             ]
            ],
            "type": "heatmap"
           }
          ],
          "heatmapgl": [
           {
            "colorbar": {
             "outlinewidth": 0,
             "ticks": ""
            },
            "colorscale": [
             [
              0,
              "#0d0887"
             ],
             [
              0.1111111111111111,
              "#46039f"
             ],
             [
              0.2222222222222222,
              "#7201a8"
             ],
             [
              0.3333333333333333,
              "#9c179e"
             ],
             [
              0.4444444444444444,
              "#bd3786"
             ],
             [
              0.5555555555555556,
              "#d8576b"
             ],
             [
              0.6666666666666666,
              "#ed7953"
             ],
             [
              0.7777777777777778,
              "#fb9f3a"
             ],
             [
              0.8888888888888888,
              "#fdca26"
             ],
             [
              1,
              "#f0f921"
             ]
            ],
            "type": "heatmapgl"
           }
          ],
          "histogram": [
           {
            "marker": {
             "colorbar": {
              "outlinewidth": 0,
              "ticks": ""
             }
            },
            "type": "histogram"
           }
          ],
          "histogram2d": [
           {
            "colorbar": {
             "outlinewidth": 0,
             "ticks": ""
            },
            "colorscale": [
             [
              0,
              "#0d0887"
             ],
             [
              0.1111111111111111,
              "#46039f"
             ],
             [
              0.2222222222222222,
              "#7201a8"
             ],
             [
              0.3333333333333333,
              "#9c179e"
             ],
             [
              0.4444444444444444,
              "#bd3786"
             ],
             [
              0.5555555555555556,
              "#d8576b"
             ],
             [
              0.6666666666666666,
              "#ed7953"
             ],
             [
              0.7777777777777778,
              "#fb9f3a"
             ],
             [
              0.8888888888888888,
              "#fdca26"
             ],
             [
              1,
              "#f0f921"
             ]
            ],
            "type": "histogram2d"
           }
          ],
          "histogram2dcontour": [
           {
            "colorbar": {
             "outlinewidth": 0,
             "ticks": ""
            },
            "colorscale": [
             [
              0,
              "#0d0887"
             ],
             [
              0.1111111111111111,
              "#46039f"
             ],
             [
              0.2222222222222222,
              "#7201a8"
             ],
             [
              0.3333333333333333,
              "#9c179e"
             ],
             [
              0.4444444444444444,
              "#bd3786"
             ],
             [
              0.5555555555555556,
              "#d8576b"
             ],
             [
              0.6666666666666666,
              "#ed7953"
             ],
             [
              0.7777777777777778,
              "#fb9f3a"
             ],
             [
              0.8888888888888888,
              "#fdca26"
             ],
             [
              1,
              "#f0f921"
             ]
            ],
            "type": "histogram2dcontour"
           }
          ],
          "mesh3d": [
           {
            "colorbar": {
             "outlinewidth": 0,
             "ticks": ""
            },
            "type": "mesh3d"
           }
          ],
          "parcoords": [
           {
            "line": {
             "colorbar": {
              "outlinewidth": 0,
              "ticks": ""
             }
            },
            "type": "parcoords"
           }
          ],
          "pie": [
           {
            "automargin": true,
            "type": "pie"
           }
          ],
          "scatter": [
           {
            "marker": {
             "colorbar": {
              "outlinewidth": 0,
              "ticks": ""
             }
            },
            "type": "scatter"
           }
          ],
          "scatter3d": [
           {
            "line": {
             "colorbar": {
              "outlinewidth": 0,
              "ticks": ""
             }
            },
            "marker": {
             "colorbar": {
              "outlinewidth": 0,
              "ticks": ""
             }
            },
            "type": "scatter3d"
           }
          ],
          "scattercarpet": [
           {
            "marker": {
             "colorbar": {
              "outlinewidth": 0,
              "ticks": ""
             }
            },
            "type": "scattercarpet"
           }
          ],
          "scattergeo": [
           {
            "marker": {
             "colorbar": {
              "outlinewidth": 0,
              "ticks": ""
             }
            },
            "type": "scattergeo"
           }
          ],
          "scattergl": [
           {
            "marker": {
             "colorbar": {
              "outlinewidth": 0,
              "ticks": ""
             }
            },
            "type": "scattergl"
           }
          ],
          "scattermapbox": [
           {
            "marker": {
             "colorbar": {
              "outlinewidth": 0,
              "ticks": ""
             }
            },
            "type": "scattermapbox"
           }
          ],
          "scatterpolar": [
           {
            "marker": {
             "colorbar": {
              "outlinewidth": 0,
              "ticks": ""
             }
            },
            "type": "scatterpolar"
           }
          ],
          "scatterpolargl": [
           {
            "marker": {
             "colorbar": {
              "outlinewidth": 0,
              "ticks": ""
             }
            },
            "type": "scatterpolargl"
           }
          ],
          "scatterternary": [
           {
            "marker": {
             "colorbar": {
              "outlinewidth": 0,
              "ticks": ""
             }
            },
            "type": "scatterternary"
           }
          ],
          "surface": [
           {
            "colorbar": {
             "outlinewidth": 0,
             "ticks": ""
            },
            "colorscale": [
             [
              0,
              "#0d0887"
             ],
             [
              0.1111111111111111,
              "#46039f"
             ],
             [
              0.2222222222222222,
              "#7201a8"
             ],
             [
              0.3333333333333333,
              "#9c179e"
             ],
             [
              0.4444444444444444,
              "#bd3786"
             ],
             [
              0.5555555555555556,
              "#d8576b"
             ],
             [
              0.6666666666666666,
              "#ed7953"
             ],
             [
              0.7777777777777778,
              "#fb9f3a"
             ],
             [
              0.8888888888888888,
              "#fdca26"
             ],
             [
              1,
              "#f0f921"
             ]
            ],
            "type": "surface"
           }
          ],
          "table": [
           {
            "cells": {
             "fill": {
              "color": "#EBF0F8"
             },
             "line": {
              "color": "white"
             }
            },
            "header": {
             "fill": {
              "color": "#C8D4E3"
             },
             "line": {
              "color": "white"
             }
            },
            "type": "table"
           }
          ]
         },
         "layout": {
          "annotationdefaults": {
           "arrowcolor": "#2a3f5f",
           "arrowhead": 0,
           "arrowwidth": 1
          },
          "autotypenumbers": "strict",
          "coloraxis": {
           "colorbar": {
            "outlinewidth": 0,
            "ticks": ""
           }
          },
          "colorscale": {
           "diverging": [
            [
             0,
             "#8e0152"
            ],
            [
             0.1,
             "#c51b7d"
            ],
            [
             0.2,
             "#de77ae"
            ],
            [
             0.3,
             "#f1b6da"
            ],
            [
             0.4,
             "#fde0ef"
            ],
            [
             0.5,
             "#f7f7f7"
            ],
            [
             0.6,
             "#e6f5d0"
            ],
            [
             0.7,
             "#b8e186"
            ],
            [
             0.8,
             "#7fbc41"
            ],
            [
             0.9,
             "#4d9221"
            ],
            [
             1,
             "#276419"
            ]
           ],
           "sequential": [
            [
             0,
             "#0d0887"
            ],
            [
             0.1111111111111111,
             "#46039f"
            ],
            [
             0.2222222222222222,
             "#7201a8"
            ],
            [
             0.3333333333333333,
             "#9c179e"
            ],
            [
             0.4444444444444444,
             "#bd3786"
            ],
            [
             0.5555555555555556,
             "#d8576b"
            ],
            [
             0.6666666666666666,
             "#ed7953"
            ],
            [
             0.7777777777777778,
             "#fb9f3a"
            ],
            [
             0.8888888888888888,
             "#fdca26"
            ],
            [
             1,
             "#f0f921"
            ]
           ],
           "sequentialminus": [
            [
             0,
             "#0d0887"
            ],
            [
             0.1111111111111111,
             "#46039f"
            ],
            [
             0.2222222222222222,
             "#7201a8"
            ],
            [
             0.3333333333333333,
             "#9c179e"
            ],
            [
             0.4444444444444444,
             "#bd3786"
            ],
            [
             0.5555555555555556,
             "#d8576b"
            ],
            [
             0.6666666666666666,
             "#ed7953"
            ],
            [
             0.7777777777777778,
             "#fb9f3a"
            ],
            [
             0.8888888888888888,
             "#fdca26"
            ],
            [
             1,
             "#f0f921"
            ]
           ]
          },
          "colorway": [
           "#636efa",
           "#EF553B",
           "#00cc96",
           "#ab63fa",
           "#FFA15A",
           "#19d3f3",
           "#FF6692",
           "#B6E880",
           "#FF97FF",
           "#FECB52"
          ],
          "font": {
           "color": "#2a3f5f"
          },
          "geo": {
           "bgcolor": "white",
           "lakecolor": "white",
           "landcolor": "white",
           "showlakes": true,
           "showland": true,
           "subunitcolor": "#C8D4E3"
          },
          "hoverlabel": {
           "align": "left"
          },
          "hovermode": "closest",
          "mapbox": {
           "style": "light"
          },
          "paper_bgcolor": "white",
          "plot_bgcolor": "white",
          "polar": {
           "angularaxis": {
            "gridcolor": "#EBF0F8",
            "linecolor": "#EBF0F8",
            "ticks": ""
           },
           "bgcolor": "white",
           "radialaxis": {
            "gridcolor": "#EBF0F8",
            "linecolor": "#EBF0F8",
            "ticks": ""
           }
          },
          "scene": {
           "xaxis": {
            "backgroundcolor": "white",
            "gridcolor": "#DFE8F3",
            "gridwidth": 2,
            "linecolor": "#EBF0F8",
            "showbackground": true,
            "ticks": "",
            "zerolinecolor": "#EBF0F8"
           },
           "yaxis": {
            "backgroundcolor": "white",
            "gridcolor": "#DFE8F3",
            "gridwidth": 2,
            "linecolor": "#EBF0F8",
            "showbackground": true,
            "ticks": "",
            "zerolinecolor": "#EBF0F8"
           },
           "zaxis": {
            "backgroundcolor": "white",
            "gridcolor": "#DFE8F3",
            "gridwidth": 2,
            "linecolor": "#EBF0F8",
            "showbackground": true,
            "ticks": "",
            "zerolinecolor": "#EBF0F8"
           }
          },
          "shapedefaults": {
           "line": {
            "color": "#2a3f5f"
           }
          },
          "ternary": {
           "aaxis": {
            "gridcolor": "#DFE8F3",
            "linecolor": "#A2B1C6",
            "ticks": ""
           },
           "baxis": {
            "gridcolor": "#DFE8F3",
            "linecolor": "#A2B1C6",
            "ticks": ""
           },
           "bgcolor": "white",
           "caxis": {
            "gridcolor": "#DFE8F3",
            "linecolor": "#A2B1C6",
            "ticks": ""
           }
          },
          "title": {
           "x": 0.05
          },
          "xaxis": {
           "automargin": true,
           "gridcolor": "#EBF0F8",
           "linecolor": "#EBF0F8",
           "ticks": "",
           "title": {
            "standoff": 15
           },
           "zerolinecolor": "#EBF0F8",
           "zerolinewidth": 2
          },
          "yaxis": {
           "automargin": true,
           "gridcolor": "#EBF0F8",
           "linecolor": "#EBF0F8",
           "ticks": "",
           "title": {
            "standoff": 15
           },
           "zerolinecolor": "#EBF0F8",
           "zerolinewidth": 2
          }
         }
        },
        "xaxis": {
         "categoryarray": [
          "Monday",
          "Tuesday",
          "Wednesday",
          "Thursday",
          "Friday",
          "Saturday",
          "Sunday"
         ],
         "categoryorder": "array"
        }
       }
      }
     },
     "metadata": {},
     "output_type": "display_data"
    }
   ],
   "source": [
    "pivot = pd.pivot_table(chat, index='hour', columns='day_name', values='message', aggfunc='count').fillna(0)\n",
    "heatmap = go.Heatmap(z=pivot.values,\n",
    "                     x=pivot.columns,\n",
    "                     y=pivot.index,\n",
    "                     hovertemplate='Interventions at %{y}-hour<extra>%{z}</extra>',\n",
    "                     colorscale='Greens')\n",
    "fig = go.Figure(data=[heatmap]).update_layout(xaxis={'categoryorder': 'array',\n",
    "                                                     'categoryarray': ['Monday', 'Tuesday', 'Wednesday',\n",
    "                                                                       'Thursday', 'Friday', 'Saturday', 'Sunday']})\n",
    "py.plot(fig, filename='Interventions heatmap by day & hour', auto_open=False)\n",
    "fig"
   ]
  },
  {
   "attachments": {},
   "cell_type": "markdown",
   "metadata": {},
   "source": [
    "Hourly user activity"
   ]
  },
  {
   "cell_type": "code",
   "execution_count": 17,
   "metadata": {},
   "outputs": [
    {
     "data": {
      "application/vnd.plotly.v1+json": {
       "config": {
        "plotlyServerURL": "https://plotly.com"
       },
       "data": [
        {
         "line": {
          "color": "#DB5F57"
         },
         "name": "adhit",
         "showlegend": true,
         "text": [
          0,
          2,
          4,
          5,
          6,
          7,
          8,
          9,
          10,
          11,
          12,
          13,
          14,
          15,
          16,
          17,
          18,
          19,
          20,
          21,
          22,
          23
         ],
         "type": "scatter",
         "x": [
          0,
          2,
          4,
          5,
          6,
          7,
          8,
          9,
          10,
          11,
          12,
          13,
          14,
          15,
          16,
          17,
          18,
          19,
          20,
          21,
          22,
          23
         ],
         "y": [
          0,
          0,
          0,
          1,
          2,
          0,
          0,
          1,
          5,
          1,
          5,
          3,
          1,
          9,
          0,
          2,
          7,
          6,
          14,
          17,
          4,
          2
         ]
        },
        {
         "line": {
          "color": "#DB9C57"
         },
         "name": "alex",
         "showlegend": true,
         "text": [
          0,
          2,
          4,
          5,
          6,
          7,
          8,
          9,
          10,
          11,
          12,
          13,
          14,
          15,
          16,
          17,
          18,
          19,
          20,
          21,
          22,
          23
         ],
         "type": "scatter",
         "x": [
          0,
          2,
          4,
          5,
          6,
          7,
          8,
          9,
          10,
          11,
          12,
          13,
          14,
          15,
          16,
          17,
          18,
          19,
          20,
          21,
          22,
          23
         ],
         "y": [
          0,
          0,
          0,
          0,
          0,
          0,
          0,
          1,
          4,
          0,
          0,
          4,
          0,
          0,
          1,
          0,
          1,
          4,
          7,
          9,
          3,
          1
         ]
        },
        {
         "line": {
          "color": "#DBD957"
         },
         "name": "alit_gor",
         "showlegend": true,
         "text": [
          0,
          2,
          4,
          5,
          6,
          7,
          8,
          9,
          10,
          11,
          12,
          13,
          14,
          15,
          16,
          17,
          18,
          19,
          20,
          21,
          22,
          23
         ],
         "type": "scatter",
         "x": [
          0,
          2,
          4,
          5,
          6,
          7,
          8,
          9,
          10,
          11,
          12,
          13,
          14,
          15,
          16,
          17,
          18,
          19,
          20,
          21,
          22,
          23
         ],
         "y": [
          0,
          0,
          0,
          0,
          0,
          0,
          0,
          0,
          0,
          0,
          4,
          2,
          2,
          0,
          2,
          0,
          1,
          4,
          12,
          6,
          0,
          0
         ]
        },
        {
         "line": {
          "color": "#A0DB57"
         },
         "name": "alit_jak",
         "showlegend": true,
         "text": [
          0,
          2,
          4,
          5,
          6,
          7,
          8,
          9,
          10,
          11,
          12,
          13,
          14,
          15,
          16,
          17,
          18,
          19,
          20,
          21,
          22,
          23
         ],
         "type": "scatter",
         "x": [
          0,
          2,
          4,
          5,
          6,
          7,
          8,
          9,
          10,
          11,
          12,
          13,
          14,
          15,
          16,
          17,
          18,
          19,
          20,
          21,
          22,
          23
         ],
         "y": [
          0,
          0,
          0,
          0,
          0,
          0,
          0,
          1,
          2,
          7,
          23,
          1,
          2,
          1,
          0,
          3,
          2,
          18,
          43,
          15,
          7,
          1
         ]
        },
        {
         "line": {
          "color": "#63DB57"
         },
         "name": "aris",
         "showlegend": true,
         "text": [
          0,
          2,
          4,
          5,
          6,
          7,
          8,
          9,
          10,
          11,
          12,
          13,
          14,
          15,
          16,
          17,
          18,
          19,
          20,
          21,
          22,
          23
         ],
         "type": "scatter",
         "x": [
          0,
          2,
          4,
          5,
          6,
          7,
          8,
          9,
          10,
          11,
          12,
          13,
          14,
          15,
          16,
          17,
          18,
          19,
          20,
          21,
          22,
          23
         ],
         "y": [
          0,
          0,
          0,
          0,
          0,
          0,
          0,
          6,
          6,
          5,
          48,
          2,
          5,
          10,
          0,
          1,
          8,
          20,
          37,
          67,
          10,
          3
         ]
        },
        {
         "line": {
          "color": "#57DB87"
         },
         "name": "ely",
         "showlegend": true,
         "text": [
          0,
          2,
          4,
          5,
          6,
          7,
          8,
          9,
          10,
          11,
          12,
          13,
          14,
          15,
          16,
          17,
          18,
          19,
          20,
          21,
          22,
          23
         ],
         "type": "scatter",
         "x": [
          0,
          2,
          4,
          5,
          6,
          7,
          8,
          9,
          10,
          11,
          12,
          13,
          14,
          15,
          16,
          17,
          18,
          19,
          20,
          21,
          22,
          23
         ],
         "y": [
          0,
          0,
          0,
          0,
          0,
          0,
          1,
          5,
          9,
          7,
          17,
          3,
          6,
          4,
          1,
          1,
          5,
          17,
          36,
          43,
          10,
          0
         ]
        },
        {
         "line": {
          "color": "#57DBC5"
         },
         "name": "erland",
         "showlegend": true,
         "text": [
          0,
          2,
          4,
          5,
          6,
          7,
          8,
          9,
          10,
          11,
          12,
          13,
          14,
          15,
          16,
          17,
          18,
          19,
          20,
          21,
          22,
          23
         ],
         "type": "scatter",
         "x": [
          0,
          2,
          4,
          5,
          6,
          7,
          8,
          9,
          10,
          11,
          12,
          13,
          14,
          15,
          16,
          17,
          18,
          19,
          20,
          21,
          22,
          23
         ],
         "y": [
          0,
          1,
          0,
          1,
          2,
          0,
          0,
          1,
          14,
          19,
          1,
          11,
          6,
          11,
          9,
          4,
          6,
          30,
          19,
          79,
          15,
          0
         ]
        },
        {
         "line": {
          "color": "#57B5DB"
         },
         "name": "fawaz",
         "showlegend": true,
         "text": [
          0,
          2,
          4,
          5,
          6,
          7,
          8,
          9,
          10,
          11,
          12,
          13,
          14,
          15,
          16,
          17,
          18,
          19,
          20,
          21,
          22,
          23
         ],
         "type": "scatter",
         "x": [
          0,
          2,
          4,
          5,
          6,
          7,
          8,
          9,
          10,
          11,
          12,
          13,
          14,
          15,
          16,
          17,
          18,
          19,
          20,
          21,
          22,
          23
         ],
         "y": [
          0,
          0,
          0,
          0,
          0,
          0,
          0,
          0,
          3,
          1,
          0,
          0,
          0,
          2,
          1,
          0,
          0,
          1,
          2,
          8,
          1,
          0
         ]
        },
        {
         "line": {
          "color": "#5778DB"
         },
         "name": "ichsan",
         "showlegend": true,
         "text": [
          0,
          2,
          4,
          5,
          6,
          7,
          8,
          9,
          10,
          11,
          12,
          13,
          14,
          15,
          16,
          17,
          18,
          19,
          20,
          21,
          22,
          23
         ],
         "type": "scatter",
         "x": [
          0,
          2,
          4,
          5,
          6,
          7,
          8,
          9,
          10,
          11,
          12,
          13,
          14,
          15,
          16,
          17,
          18,
          19,
          20,
          21,
          22,
          23
         ],
         "y": [
          0,
          0,
          0,
          0,
          0,
          1,
          0,
          3,
          3,
          3,
          0,
          4,
          1,
          2,
          3,
          0,
          2,
          11,
          11,
          8,
          2,
          0
         ]
        },
        {
         "line": {
          "color": "#7357DB"
         },
         "name": "kajal",
         "showlegend": true,
         "text": [
          0,
          2,
          4,
          5,
          6,
          7,
          8,
          9,
          10,
          11,
          12,
          13,
          14,
          15,
          16,
          17,
          18,
          19,
          20,
          21,
          22,
          23
         ],
         "type": "scatter",
         "x": [
          0,
          2,
          4,
          5,
          6,
          7,
          8,
          9,
          10,
          11,
          12,
          13,
          14,
          15,
          16,
          17,
          18,
          19,
          20,
          21,
          22,
          23
         ],
         "y": [
          2,
          0,
          0,
          0,
          2,
          3,
          0,
          7,
          48,
          21,
          73,
          23,
          15,
          37,
          23,
          11,
          24,
          67,
          91,
          156,
          17,
          6
         ]
        },
        {
         "line": {
          "color": "#B057DB"
         },
         "name": "mirza",
         "showlegend": true,
         "text": [
          0,
          2,
          4,
          5,
          6,
          7,
          8,
          9,
          10,
          11,
          12,
          13,
          14,
          15,
          16,
          17,
          18,
          19,
          20,
          21,
          22,
          23
         ],
         "type": "scatter",
         "x": [
          0,
          2,
          4,
          5,
          6,
          7,
          8,
          9,
          10,
          11,
          12,
          13,
          14,
          15,
          16,
          17,
          18,
          19,
          20,
          21,
          22,
          23
         ],
         "y": [
          0,
          0,
          0,
          0,
          0,
          0,
          0,
          0,
          0,
          0,
          0,
          0,
          1,
          0,
          1,
          1,
          0,
          6,
          8,
          10,
          1,
          0
         ]
        },
        {
         "line": {
          "color": "#DB57C9"
         },
         "name": "rika",
         "showlegend": true,
         "text": [
          0,
          2,
          4,
          5,
          6,
          7,
          8,
          9,
          10,
          11,
          12,
          13,
          14,
          15,
          16,
          17,
          18,
          19,
          20,
          21,
          22,
          23
         ],
         "type": "scatter",
         "x": [
          0,
          2,
          4,
          5,
          6,
          7,
          8,
          9,
          10,
          11,
          12,
          13,
          14,
          15,
          16,
          17,
          18,
          19,
          20,
          21,
          22,
          23
         ],
         "y": [
          0,
          0,
          2,
          0,
          1,
          0,
          0,
          0,
          5,
          3,
          0,
          5,
          0,
          1,
          5,
          3,
          2,
          6,
          2,
          12,
          0,
          0
         ]
        },
        {
         "line": {
          "color": "#DB578C"
         },
         "name": "valeri",
         "showlegend": true,
         "text": [
          0,
          2,
          4,
          5,
          6,
          7,
          8,
          9,
          10,
          11,
          12,
          13,
          14,
          15,
          16,
          17,
          18,
          19,
          20,
          21,
          22,
          23
         ],
         "type": "scatter",
         "x": [
          0,
          2,
          4,
          5,
          6,
          7,
          8,
          9,
          10,
          11,
          12,
          13,
          14,
          15,
          16,
          17,
          18,
          19,
          20,
          21,
          22,
          23
         ],
         "y": [
          1,
          0,
          0,
          0,
          0,
          1,
          2,
          3,
          27,
          23,
          71,
          11,
          16,
          21,
          10,
          2,
          6,
          61,
          67,
          106,
          26,
          5
         ]
        }
       ],
       "layout": {
        "template": {
         "data": {
          "bar": [
           {
            "error_x": {
             "color": "#2a3f5f"
            },
            "error_y": {
             "color": "#2a3f5f"
            },
            "marker": {
             "line": {
              "color": "white",
              "width": 0.5
             }
            },
            "type": "bar"
           }
          ],
          "barpolar": [
           {
            "marker": {
             "line": {
              "color": "white",
              "width": 0.5
             }
            },
            "type": "barpolar"
           }
          ],
          "carpet": [
           {
            "aaxis": {
             "endlinecolor": "#2a3f5f",
             "gridcolor": "#C8D4E3",
             "linecolor": "#C8D4E3",
             "minorgridcolor": "#C8D4E3",
             "startlinecolor": "#2a3f5f"
            },
            "baxis": {
             "endlinecolor": "#2a3f5f",
             "gridcolor": "#C8D4E3",
             "linecolor": "#C8D4E3",
             "minorgridcolor": "#C8D4E3",
             "startlinecolor": "#2a3f5f"
            },
            "type": "carpet"
           }
          ],
          "choropleth": [
           {
            "colorbar": {
             "outlinewidth": 0,
             "ticks": ""
            },
            "type": "choropleth"
           }
          ],
          "contour": [
           {
            "colorbar": {
             "outlinewidth": 0,
             "ticks": ""
            },
            "colorscale": [
             [
              0,
              "#0d0887"
             ],
             [
              0.1111111111111111,
              "#46039f"
             ],
             [
              0.2222222222222222,
              "#7201a8"
             ],
             [
              0.3333333333333333,
              "#9c179e"
             ],
             [
              0.4444444444444444,
              "#bd3786"
             ],
             [
              0.5555555555555556,
              "#d8576b"
             ],
             [
              0.6666666666666666,
              "#ed7953"
             ],
             [
              0.7777777777777778,
              "#fb9f3a"
             ],
             [
              0.8888888888888888,
              "#fdca26"
             ],
             [
              1,
              "#f0f921"
             ]
            ],
            "type": "contour"
           }
          ],
          "contourcarpet": [
           {
            "colorbar": {
             "outlinewidth": 0,
             "ticks": ""
            },
            "type": "contourcarpet"
           }
          ],
          "heatmap": [
           {
            "colorbar": {
             "outlinewidth": 0,
             "ticks": ""
            },
            "colorscale": [
             [
              0,
              "#0d0887"
             ],
             [
              0.1111111111111111,
              "#46039f"
             ],
             [
              0.2222222222222222,
              "#7201a8"
             ],
             [
              0.3333333333333333,
              "#9c179e"
             ],
             [
              0.4444444444444444,
              "#bd3786"
             ],
             [
              0.5555555555555556,
              "#d8576b"
             ],
             [
              0.6666666666666666,
              "#ed7953"
             ],
             [
              0.7777777777777778,
              "#fb9f3a"
             ],
             [
              0.8888888888888888,
              "#fdca26"
             ],
             [
              1,
              "#f0f921"
             ]
            ],
            "type": "heatmap"
           }
          ],
          "heatmapgl": [
           {
            "colorbar": {
             "outlinewidth": 0,
             "ticks": ""
            },
            "colorscale": [
             [
              0,
              "#0d0887"
             ],
             [
              0.1111111111111111,
              "#46039f"
             ],
             [
              0.2222222222222222,
              "#7201a8"
             ],
             [
              0.3333333333333333,
              "#9c179e"
             ],
             [
              0.4444444444444444,
              "#bd3786"
             ],
             [
              0.5555555555555556,
              "#d8576b"
             ],
             [
              0.6666666666666666,
              "#ed7953"
             ],
             [
              0.7777777777777778,
              "#fb9f3a"
             ],
             [
              0.8888888888888888,
              "#fdca26"
             ],
             [
              1,
              "#f0f921"
             ]
            ],
            "type": "heatmapgl"
           }
          ],
          "histogram": [
           {
            "marker": {
             "colorbar": {
              "outlinewidth": 0,
              "ticks": ""
             }
            },
            "type": "histogram"
           }
          ],
          "histogram2d": [
           {
            "colorbar": {
             "outlinewidth": 0,
             "ticks": ""
            },
            "colorscale": [
             [
              0,
              "#0d0887"
             ],
             [
              0.1111111111111111,
              "#46039f"
             ],
             [
              0.2222222222222222,
              "#7201a8"
             ],
             [
              0.3333333333333333,
              "#9c179e"
             ],
             [
              0.4444444444444444,
              "#bd3786"
             ],
             [
              0.5555555555555556,
              "#d8576b"
             ],
             [
              0.6666666666666666,
              "#ed7953"
             ],
             [
              0.7777777777777778,
              "#fb9f3a"
             ],
             [
              0.8888888888888888,
              "#fdca26"
             ],
             [
              1,
              "#f0f921"
             ]
            ],
            "type": "histogram2d"
           }
          ],
          "histogram2dcontour": [
           {
            "colorbar": {
             "outlinewidth": 0,
             "ticks": ""
            },
            "colorscale": [
             [
              0,
              "#0d0887"
             ],
             [
              0.1111111111111111,
              "#46039f"
             ],
             [
              0.2222222222222222,
              "#7201a8"
             ],
             [
              0.3333333333333333,
              "#9c179e"
             ],
             [
              0.4444444444444444,
              "#bd3786"
             ],
             [
              0.5555555555555556,
              "#d8576b"
             ],
             [
              0.6666666666666666,
              "#ed7953"
             ],
             [
              0.7777777777777778,
              "#fb9f3a"
             ],
             [
              0.8888888888888888,
              "#fdca26"
             ],
             [
              1,
              "#f0f921"
             ]
            ],
            "type": "histogram2dcontour"
           }
          ],
          "mesh3d": [
           {
            "colorbar": {
             "outlinewidth": 0,
             "ticks": ""
            },
            "type": "mesh3d"
           }
          ],
          "parcoords": [
           {
            "line": {
             "colorbar": {
              "outlinewidth": 0,
              "ticks": ""
             }
            },
            "type": "parcoords"
           }
          ],
          "pie": [
           {
            "automargin": true,
            "type": "pie"
           }
          ],
          "scatter": [
           {
            "marker": {
             "colorbar": {
              "outlinewidth": 0,
              "ticks": ""
             }
            },
            "type": "scatter"
           }
          ],
          "scatter3d": [
           {
            "line": {
             "colorbar": {
              "outlinewidth": 0,
              "ticks": ""
             }
            },
            "marker": {
             "colorbar": {
              "outlinewidth": 0,
              "ticks": ""
             }
            },
            "type": "scatter3d"
           }
          ],
          "scattercarpet": [
           {
            "marker": {
             "colorbar": {
              "outlinewidth": 0,
              "ticks": ""
             }
            },
            "type": "scattercarpet"
           }
          ],
          "scattergeo": [
           {
            "marker": {
             "colorbar": {
              "outlinewidth": 0,
              "ticks": ""
             }
            },
            "type": "scattergeo"
           }
          ],
          "scattergl": [
           {
            "marker": {
             "colorbar": {
              "outlinewidth": 0,
              "ticks": ""
             }
            },
            "type": "scattergl"
           }
          ],
          "scattermapbox": [
           {
            "marker": {
             "colorbar": {
              "outlinewidth": 0,
              "ticks": ""
             }
            },
            "type": "scattermapbox"
           }
          ],
          "scatterpolar": [
           {
            "marker": {
             "colorbar": {
              "outlinewidth": 0,
              "ticks": ""
             }
            },
            "type": "scatterpolar"
           }
          ],
          "scatterpolargl": [
           {
            "marker": {
             "colorbar": {
              "outlinewidth": 0,
              "ticks": ""
             }
            },
            "type": "scatterpolargl"
           }
          ],
          "scatterternary": [
           {
            "marker": {
             "colorbar": {
              "outlinewidth": 0,
              "ticks": ""
             }
            },
            "type": "scatterternary"
           }
          ],
          "surface": [
           {
            "colorbar": {
             "outlinewidth": 0,
             "ticks": ""
            },
            "colorscale": [
             [
              0,
              "#0d0887"
             ],
             [
              0.1111111111111111,
              "#46039f"
             ],
             [
              0.2222222222222222,
              "#7201a8"
             ],
             [
              0.3333333333333333,
              "#9c179e"
             ],
             [
              0.4444444444444444,
              "#bd3786"
             ],
             [
              0.5555555555555556,
              "#d8576b"
             ],
             [
              0.6666666666666666,
              "#ed7953"
             ],
             [
              0.7777777777777778,
              "#fb9f3a"
             ],
             [
              0.8888888888888888,
              "#fdca26"
             ],
             [
              1,
              "#f0f921"
             ]
            ],
            "type": "surface"
           }
          ],
          "table": [
           {
            "cells": {
             "fill": {
              "color": "#EBF0F8"
             },
             "line": {
              "color": "white"
             }
            },
            "header": {
             "fill": {
              "color": "#C8D4E3"
             },
             "line": {
              "color": "white"
             }
            },
            "type": "table"
           }
          ]
         },
         "layout": {
          "annotationdefaults": {
           "arrowcolor": "#2a3f5f",
           "arrowhead": 0,
           "arrowwidth": 1
          },
          "autotypenumbers": "strict",
          "coloraxis": {
           "colorbar": {
            "outlinewidth": 0,
            "ticks": ""
           }
          },
          "colorscale": {
           "diverging": [
            [
             0,
             "#8e0152"
            ],
            [
             0.1,
             "#c51b7d"
            ],
            [
             0.2,
             "#de77ae"
            ],
            [
             0.3,
             "#f1b6da"
            ],
            [
             0.4,
             "#fde0ef"
            ],
            [
             0.5,
             "#f7f7f7"
            ],
            [
             0.6,
             "#e6f5d0"
            ],
            [
             0.7,
             "#b8e186"
            ],
            [
             0.8,
             "#7fbc41"
            ],
            [
             0.9,
             "#4d9221"
            ],
            [
             1,
             "#276419"
            ]
           ],
           "sequential": [
            [
             0,
             "#0d0887"
            ],
            [
             0.1111111111111111,
             "#46039f"
            ],
            [
             0.2222222222222222,
             "#7201a8"
            ],
            [
             0.3333333333333333,
             "#9c179e"
            ],
            [
             0.4444444444444444,
             "#bd3786"
            ],
            [
             0.5555555555555556,
             "#d8576b"
            ],
            [
             0.6666666666666666,
             "#ed7953"
            ],
            [
             0.7777777777777778,
             "#fb9f3a"
            ],
            [
             0.8888888888888888,
             "#fdca26"
            ],
            [
             1,
             "#f0f921"
            ]
           ],
           "sequentialminus": [
            [
             0,
             "#0d0887"
            ],
            [
             0.1111111111111111,
             "#46039f"
            ],
            [
             0.2222222222222222,
             "#7201a8"
            ],
            [
             0.3333333333333333,
             "#9c179e"
            ],
            [
             0.4444444444444444,
             "#bd3786"
            ],
            [
             0.5555555555555556,
             "#d8576b"
            ],
            [
             0.6666666666666666,
             "#ed7953"
            ],
            [
             0.7777777777777778,
             "#fb9f3a"
            ],
            [
             0.8888888888888888,
             "#fdca26"
            ],
            [
             1,
             "#f0f921"
            ]
           ]
          },
          "colorway": [
           "#636efa",
           "#EF553B",
           "#00cc96",
           "#ab63fa",
           "#FFA15A",
           "#19d3f3",
           "#FF6692",
           "#B6E880",
           "#FF97FF",
           "#FECB52"
          ],
          "font": {
           "color": "#2a3f5f"
          },
          "geo": {
           "bgcolor": "white",
           "lakecolor": "white",
           "landcolor": "white",
           "showlakes": true,
           "showland": true,
           "subunitcolor": "#C8D4E3"
          },
          "hoverlabel": {
           "align": "left"
          },
          "hovermode": "closest",
          "mapbox": {
           "style": "light"
          },
          "paper_bgcolor": "white",
          "plot_bgcolor": "white",
          "polar": {
           "angularaxis": {
            "gridcolor": "#EBF0F8",
            "linecolor": "#EBF0F8",
            "ticks": ""
           },
           "bgcolor": "white",
           "radialaxis": {
            "gridcolor": "#EBF0F8",
            "linecolor": "#EBF0F8",
            "ticks": ""
           }
          },
          "scene": {
           "xaxis": {
            "backgroundcolor": "white",
            "gridcolor": "#DFE8F3",
            "gridwidth": 2,
            "linecolor": "#EBF0F8",
            "showbackground": true,
            "ticks": "",
            "zerolinecolor": "#EBF0F8"
           },
           "yaxis": {
            "backgroundcolor": "white",
            "gridcolor": "#DFE8F3",
            "gridwidth": 2,
            "linecolor": "#EBF0F8",
            "showbackground": true,
            "ticks": "",
            "zerolinecolor": "#EBF0F8"
           },
           "zaxis": {
            "backgroundcolor": "white",
            "gridcolor": "#DFE8F3",
            "gridwidth": 2,
            "linecolor": "#EBF0F8",
            "showbackground": true,
            "ticks": "",
            "zerolinecolor": "#EBF0F8"
           }
          },
          "shapedefaults": {
           "line": {
            "color": "#2a3f5f"
           }
          },
          "ternary": {
           "aaxis": {
            "gridcolor": "#DFE8F3",
            "linecolor": "#A2B1C6",
            "ticks": ""
           },
           "baxis": {
            "gridcolor": "#DFE8F3",
            "linecolor": "#A2B1C6",
            "ticks": ""
           },
           "bgcolor": "white",
           "caxis": {
            "gridcolor": "#DFE8F3",
            "linecolor": "#A2B1C6",
            "ticks": ""
           }
          },
          "title": {
           "x": 0.05
          },
          "xaxis": {
           "automargin": true,
           "gridcolor": "#EBF0F8",
           "linecolor": "#EBF0F8",
           "ticks": "",
           "title": {
            "standoff": 15
           },
           "zerolinecolor": "#EBF0F8",
           "zerolinewidth": 2
          },
          "yaxis": {
           "automargin": true,
           "gridcolor": "#EBF0F8",
           "linecolor": "#EBF0F8",
           "ticks": "",
           "title": {
            "standoff": 15
           },
           "zerolinecolor": "#EBF0F8",
           "zerolinewidth": 2
          }
         }
        }
       }
      }
     },
     "metadata": {},
     "output_type": "display_data"
    }
   ],
   "source": [
    "fig = FigureBuilder(chat).user_interventions_count_linechart(date_mode='hour', title=None, xlabel=None)\n",
    "py.plot(fig, filename='Hourly user activity', auto_open=False)\n",
    "fig"
   ]
  },
  {
   "attachments": {},
   "cell_type": "markdown",
   "metadata": {},
   "source": [
    "Daily user activity"
   ]
  },
  {
   "cell_type": "code",
   "execution_count": 18,
   "metadata": {},
   "outputs": [
    {
     "data": {
      "application/vnd.plotly.v1+json": {
       "config": {
        "plotlyServerURL": "https://plotly.com"
       },
       "data": [
        {
         "line": {
          "color": "#DB5F57"
         },
         "name": "adhit",
         "showlegend": true,
         "text": [
          0,
          1,
          2,
          3,
          4,
          5,
          6
         ],
         "type": "scatter",
         "x": [
          0,
          1,
          2,
          3,
          4,
          5,
          6
         ],
         "y": [
          7,
          20,
          13,
          28,
          3,
          9,
          0
         ]
        },
        {
         "line": {
          "color": "#DB9C57"
         },
         "name": "alex",
         "showlegend": true,
         "text": [
          0,
          1,
          2,
          3,
          4,
          5,
          6
         ],
         "type": "scatter",
         "x": [
          0,
          1,
          2,
          3,
          4,
          5,
          6
         ],
         "y": [
          12,
          6,
          3,
          6,
          2,
          6,
          0
         ]
        },
        {
         "line": {
          "color": "#DBD957"
         },
         "name": "alit_gor",
         "showlegend": true,
         "text": [
          0,
          1,
          2,
          3,
          4,
          5,
          6
         ],
         "type": "scatter",
         "x": [
          0,
          1,
          2,
          3,
          4,
          5,
          6
         ],
         "y": [
          9,
          10,
          10,
          1,
          0,
          3,
          0
         ]
        },
        {
         "line": {
          "color": "#A0DB57"
         },
         "name": "alit_jak",
         "showlegend": true,
         "text": [
          0,
          1,
          2,
          3,
          4,
          5,
          6
         ],
         "type": "scatter",
         "x": [
          0,
          1,
          2,
          3,
          4,
          5,
          6
         ],
         "y": [
          31,
          35,
          17,
          14,
          10,
          18,
          1
         ]
        },
        {
         "line": {
          "color": "#63DB57"
         },
         "name": "aris",
         "showlegend": true,
         "text": [
          0,
          1,
          2,
          3,
          4,
          5,
          6
         ],
         "type": "scatter",
         "x": [
          0,
          1,
          2,
          3,
          4,
          5,
          6
         ],
         "y": [
          44,
          71,
          44,
          30,
          16,
          19,
          4
         ]
        },
        {
         "line": {
          "color": "#57DB87"
         },
         "name": "ely",
         "showlegend": true,
         "text": [
          0,
          1,
          2,
          3,
          4,
          5,
          6
         ],
         "type": "scatter",
         "x": [
          0,
          1,
          2,
          3,
          4,
          5,
          6
         ],
         "y": [
          37,
          44,
          22,
          31,
          3,
          28,
          0
         ]
        },
        {
         "line": {
          "color": "#57DBC5"
         },
         "name": "erland",
         "showlegend": true,
         "text": [
          0,
          1,
          2,
          3,
          4,
          5,
          6
         ],
         "type": "scatter",
         "x": [
          0,
          1,
          2,
          3,
          4,
          5,
          6
         ],
         "y": [
          49,
          33,
          68,
          47,
          22,
          10,
          0
         ]
        },
        {
         "line": {
          "color": "#57B5DB"
         },
         "name": "fawaz",
         "showlegend": true,
         "text": [
          0,
          1,
          2,
          3,
          4,
          5,
          6
         ],
         "type": "scatter",
         "x": [
          0,
          1,
          2,
          3,
          4,
          5,
          6
         ],
         "y": [
          2,
          1,
          9,
          1,
          1,
          5,
          0
         ]
        },
        {
         "line": {
          "color": "#5778DB"
         },
         "name": "ichsan",
         "showlegend": true,
         "text": [
          0,
          1,
          2,
          3,
          4,
          5,
          6
         ],
         "type": "scatter",
         "x": [
          0,
          1,
          2,
          3,
          4,
          5,
          6
         ],
         "y": [
          8,
          9,
          6,
          15,
          4,
          12,
          0
         ]
        },
        {
         "line": {
          "color": "#7357DB"
         },
         "name": "kajal",
         "showlegend": true,
         "text": [
          0,
          1,
          2,
          3,
          4,
          5,
          6
         ],
         "type": "scatter",
         "x": [
          0,
          1,
          2,
          3,
          4,
          5,
          6
         ],
         "y": [
          108,
          136,
          124,
          134,
          43,
          76,
          5
         ]
        },
        {
         "line": {
          "color": "#B057DB"
         },
         "name": "mirza",
         "showlegend": true,
         "text": [
          0,
          1,
          2,
          3,
          4,
          5,
          6
         ],
         "type": "scatter",
         "x": [
          0,
          1,
          2,
          3,
          4,
          5,
          6
         ],
         "y": [
          4,
          0,
          9,
          11,
          1,
          3,
          0
         ]
        },
        {
         "line": {
          "color": "#DB57C9"
         },
         "name": "rika",
         "showlegend": true,
         "text": [
          0,
          1,
          2,
          3,
          4,
          5,
          6
         ],
         "type": "scatter",
         "x": [
          0,
          1,
          2,
          3,
          4,
          5,
          6
         ],
         "y": [
          6,
          18,
          7,
          5,
          1,
          10,
          0
         ]
        },
        {
         "line": {
          "color": "#DB578C"
         },
         "name": "valeri",
         "showlegend": true,
         "text": [
          0,
          1,
          2,
          3,
          4,
          5,
          6
         ],
         "type": "scatter",
         "x": [
          0,
          1,
          2,
          3,
          4,
          5,
          6
         ],
         "y": [
          100,
          132,
          83,
          74,
          19,
          51,
          0
         ]
        }
       ],
       "layout": {
        "template": {
         "data": {
          "bar": [
           {
            "error_x": {
             "color": "#2a3f5f"
            },
            "error_y": {
             "color": "#2a3f5f"
            },
            "marker": {
             "line": {
              "color": "white",
              "width": 0.5
             }
            },
            "type": "bar"
           }
          ],
          "barpolar": [
           {
            "marker": {
             "line": {
              "color": "white",
              "width": 0.5
             }
            },
            "type": "barpolar"
           }
          ],
          "carpet": [
           {
            "aaxis": {
             "endlinecolor": "#2a3f5f",
             "gridcolor": "#C8D4E3",
             "linecolor": "#C8D4E3",
             "minorgridcolor": "#C8D4E3",
             "startlinecolor": "#2a3f5f"
            },
            "baxis": {
             "endlinecolor": "#2a3f5f",
             "gridcolor": "#C8D4E3",
             "linecolor": "#C8D4E3",
             "minorgridcolor": "#C8D4E3",
             "startlinecolor": "#2a3f5f"
            },
            "type": "carpet"
           }
          ],
          "choropleth": [
           {
            "colorbar": {
             "outlinewidth": 0,
             "ticks": ""
            },
            "type": "choropleth"
           }
          ],
          "contour": [
           {
            "colorbar": {
             "outlinewidth": 0,
             "ticks": ""
            },
            "colorscale": [
             [
              0,
              "#0d0887"
             ],
             [
              0.1111111111111111,
              "#46039f"
             ],
             [
              0.2222222222222222,
              "#7201a8"
             ],
             [
              0.3333333333333333,
              "#9c179e"
             ],
             [
              0.4444444444444444,
              "#bd3786"
             ],
             [
              0.5555555555555556,
              "#d8576b"
             ],
             [
              0.6666666666666666,
              "#ed7953"
             ],
             [
              0.7777777777777778,
              "#fb9f3a"
             ],
             [
              0.8888888888888888,
              "#fdca26"
             ],
             [
              1,
              "#f0f921"
             ]
            ],
            "type": "contour"
           }
          ],
          "contourcarpet": [
           {
            "colorbar": {
             "outlinewidth": 0,
             "ticks": ""
            },
            "type": "contourcarpet"
           }
          ],
          "heatmap": [
           {
            "colorbar": {
             "outlinewidth": 0,
             "ticks": ""
            },
            "colorscale": [
             [
              0,
              "#0d0887"
             ],
             [
              0.1111111111111111,
              "#46039f"
             ],
             [
              0.2222222222222222,
              "#7201a8"
             ],
             [
              0.3333333333333333,
              "#9c179e"
             ],
             [
              0.4444444444444444,
              "#bd3786"
             ],
             [
              0.5555555555555556,
              "#d8576b"
             ],
             [
              0.6666666666666666,
              "#ed7953"
             ],
             [
              0.7777777777777778,
              "#fb9f3a"
             ],
             [
              0.8888888888888888,
              "#fdca26"
             ],
             [
              1,
              "#f0f921"
             ]
            ],
            "type": "heatmap"
           }
          ],
          "heatmapgl": [
           {
            "colorbar": {
             "outlinewidth": 0,
             "ticks": ""
            },
            "colorscale": [
             [
              0,
              "#0d0887"
             ],
             [
              0.1111111111111111,
              "#46039f"
             ],
             [
              0.2222222222222222,
              "#7201a8"
             ],
             [
              0.3333333333333333,
              "#9c179e"
             ],
             [
              0.4444444444444444,
              "#bd3786"
             ],
             [
              0.5555555555555556,
              "#d8576b"
             ],
             [
              0.6666666666666666,
              "#ed7953"
             ],
             [
              0.7777777777777778,
              "#fb9f3a"
             ],
             [
              0.8888888888888888,
              "#fdca26"
             ],
             [
              1,
              "#f0f921"
             ]
            ],
            "type": "heatmapgl"
           }
          ],
          "histogram": [
           {
            "marker": {
             "colorbar": {
              "outlinewidth": 0,
              "ticks": ""
             }
            },
            "type": "histogram"
           }
          ],
          "histogram2d": [
           {
            "colorbar": {
             "outlinewidth": 0,
             "ticks": ""
            },
            "colorscale": [
             [
              0,
              "#0d0887"
             ],
             [
              0.1111111111111111,
              "#46039f"
             ],
             [
              0.2222222222222222,
              "#7201a8"
             ],
             [
              0.3333333333333333,
              "#9c179e"
             ],
             [
              0.4444444444444444,
              "#bd3786"
             ],
             [
              0.5555555555555556,
              "#d8576b"
             ],
             [
              0.6666666666666666,
              "#ed7953"
             ],
             [
              0.7777777777777778,
              "#fb9f3a"
             ],
             [
              0.8888888888888888,
              "#fdca26"
             ],
             [
              1,
              "#f0f921"
             ]
            ],
            "type": "histogram2d"
           }
          ],
          "histogram2dcontour": [
           {
            "colorbar": {
             "outlinewidth": 0,
             "ticks": ""
            },
            "colorscale": [
             [
              0,
              "#0d0887"
             ],
             [
              0.1111111111111111,
              "#46039f"
             ],
             [
              0.2222222222222222,
              "#7201a8"
             ],
             [
              0.3333333333333333,
              "#9c179e"
             ],
             [
              0.4444444444444444,
              "#bd3786"
             ],
             [
              0.5555555555555556,
              "#d8576b"
             ],
             [
              0.6666666666666666,
              "#ed7953"
             ],
             [
              0.7777777777777778,
              "#fb9f3a"
             ],
             [
              0.8888888888888888,
              "#fdca26"
             ],
             [
              1,
              "#f0f921"
             ]
            ],
            "type": "histogram2dcontour"
           }
          ],
          "mesh3d": [
           {
            "colorbar": {
             "outlinewidth": 0,
             "ticks": ""
            },
            "type": "mesh3d"
           }
          ],
          "parcoords": [
           {
            "line": {
             "colorbar": {
              "outlinewidth": 0,
              "ticks": ""
             }
            },
            "type": "parcoords"
           }
          ],
          "pie": [
           {
            "automargin": true,
            "type": "pie"
           }
          ],
          "scatter": [
           {
            "marker": {
             "colorbar": {
              "outlinewidth": 0,
              "ticks": ""
             }
            },
            "type": "scatter"
           }
          ],
          "scatter3d": [
           {
            "line": {
             "colorbar": {
              "outlinewidth": 0,
              "ticks": ""
             }
            },
            "marker": {
             "colorbar": {
              "outlinewidth": 0,
              "ticks": ""
             }
            },
            "type": "scatter3d"
           }
          ],
          "scattercarpet": [
           {
            "marker": {
             "colorbar": {
              "outlinewidth": 0,
              "ticks": ""
             }
            },
            "type": "scattercarpet"
           }
          ],
          "scattergeo": [
           {
            "marker": {
             "colorbar": {
              "outlinewidth": 0,
              "ticks": ""
             }
            },
            "type": "scattergeo"
           }
          ],
          "scattergl": [
           {
            "marker": {
             "colorbar": {
              "outlinewidth": 0,
              "ticks": ""
             }
            },
            "type": "scattergl"
           }
          ],
          "scattermapbox": [
           {
            "marker": {
             "colorbar": {
              "outlinewidth": 0,
              "ticks": ""
             }
            },
            "type": "scattermapbox"
           }
          ],
          "scatterpolar": [
           {
            "marker": {
             "colorbar": {
              "outlinewidth": 0,
              "ticks": ""
             }
            },
            "type": "scatterpolar"
           }
          ],
          "scatterpolargl": [
           {
            "marker": {
             "colorbar": {
              "outlinewidth": 0,
              "ticks": ""
             }
            },
            "type": "scatterpolargl"
           }
          ],
          "scatterternary": [
           {
            "marker": {
             "colorbar": {
              "outlinewidth": 0,
              "ticks": ""
             }
            },
            "type": "scatterternary"
           }
          ],
          "surface": [
           {
            "colorbar": {
             "outlinewidth": 0,
             "ticks": ""
            },
            "colorscale": [
             [
              0,
              "#0d0887"
             ],
             [
              0.1111111111111111,
              "#46039f"
             ],
             [
              0.2222222222222222,
              "#7201a8"
             ],
             [
              0.3333333333333333,
              "#9c179e"
             ],
             [
              0.4444444444444444,
              "#bd3786"
             ],
             [
              0.5555555555555556,
              "#d8576b"
             ],
             [
              0.6666666666666666,
              "#ed7953"
             ],
             [
              0.7777777777777778,
              "#fb9f3a"
             ],
             [
              0.8888888888888888,
              "#fdca26"
             ],
             [
              1,
              "#f0f921"
             ]
            ],
            "type": "surface"
           }
          ],
          "table": [
           {
            "cells": {
             "fill": {
              "color": "#EBF0F8"
             },
             "line": {
              "color": "white"
             }
            },
            "header": {
             "fill": {
              "color": "#C8D4E3"
             },
             "line": {
              "color": "white"
             }
            },
            "type": "table"
           }
          ]
         },
         "layout": {
          "annotationdefaults": {
           "arrowcolor": "#2a3f5f",
           "arrowhead": 0,
           "arrowwidth": 1
          },
          "autotypenumbers": "strict",
          "coloraxis": {
           "colorbar": {
            "outlinewidth": 0,
            "ticks": ""
           }
          },
          "colorscale": {
           "diverging": [
            [
             0,
             "#8e0152"
            ],
            [
             0.1,
             "#c51b7d"
            ],
            [
             0.2,
             "#de77ae"
            ],
            [
             0.3,
             "#f1b6da"
            ],
            [
             0.4,
             "#fde0ef"
            ],
            [
             0.5,
             "#f7f7f7"
            ],
            [
             0.6,
             "#e6f5d0"
            ],
            [
             0.7,
             "#b8e186"
            ],
            [
             0.8,
             "#7fbc41"
            ],
            [
             0.9,
             "#4d9221"
            ],
            [
             1,
             "#276419"
            ]
           ],
           "sequential": [
            [
             0,
             "#0d0887"
            ],
            [
             0.1111111111111111,
             "#46039f"
            ],
            [
             0.2222222222222222,
             "#7201a8"
            ],
            [
             0.3333333333333333,
             "#9c179e"
            ],
            [
             0.4444444444444444,
             "#bd3786"
            ],
            [
             0.5555555555555556,
             "#d8576b"
            ],
            [
             0.6666666666666666,
             "#ed7953"
            ],
            [
             0.7777777777777778,
             "#fb9f3a"
            ],
            [
             0.8888888888888888,
             "#fdca26"
            ],
            [
             1,
             "#f0f921"
            ]
           ],
           "sequentialminus": [
            [
             0,
             "#0d0887"
            ],
            [
             0.1111111111111111,
             "#46039f"
            ],
            [
             0.2222222222222222,
             "#7201a8"
            ],
            [
             0.3333333333333333,
             "#9c179e"
            ],
            [
             0.4444444444444444,
             "#bd3786"
            ],
            [
             0.5555555555555556,
             "#d8576b"
            ],
            [
             0.6666666666666666,
             "#ed7953"
            ],
            [
             0.7777777777777778,
             "#fb9f3a"
            ],
            [
             0.8888888888888888,
             "#fdca26"
            ],
            [
             1,
             "#f0f921"
            ]
           ]
          },
          "colorway": [
           "#636efa",
           "#EF553B",
           "#00cc96",
           "#ab63fa",
           "#FFA15A",
           "#19d3f3",
           "#FF6692",
           "#B6E880",
           "#FF97FF",
           "#FECB52"
          ],
          "font": {
           "color": "#2a3f5f"
          },
          "geo": {
           "bgcolor": "white",
           "lakecolor": "white",
           "landcolor": "white",
           "showlakes": true,
           "showland": true,
           "subunitcolor": "#C8D4E3"
          },
          "hoverlabel": {
           "align": "left"
          },
          "hovermode": "closest",
          "mapbox": {
           "style": "light"
          },
          "paper_bgcolor": "white",
          "plot_bgcolor": "white",
          "polar": {
           "angularaxis": {
            "gridcolor": "#EBF0F8",
            "linecolor": "#EBF0F8",
            "ticks": ""
           },
           "bgcolor": "white",
           "radialaxis": {
            "gridcolor": "#EBF0F8",
            "linecolor": "#EBF0F8",
            "ticks": ""
           }
          },
          "scene": {
           "xaxis": {
            "backgroundcolor": "white",
            "gridcolor": "#DFE8F3",
            "gridwidth": 2,
            "linecolor": "#EBF0F8",
            "showbackground": true,
            "ticks": "",
            "zerolinecolor": "#EBF0F8"
           },
           "yaxis": {
            "backgroundcolor": "white",
            "gridcolor": "#DFE8F3",
            "gridwidth": 2,
            "linecolor": "#EBF0F8",
            "showbackground": true,
            "ticks": "",
            "zerolinecolor": "#EBF0F8"
           },
           "zaxis": {
            "backgroundcolor": "white",
            "gridcolor": "#DFE8F3",
            "gridwidth": 2,
            "linecolor": "#EBF0F8",
            "showbackground": true,
            "ticks": "",
            "zerolinecolor": "#EBF0F8"
           }
          },
          "shapedefaults": {
           "line": {
            "color": "#2a3f5f"
           }
          },
          "ternary": {
           "aaxis": {
            "gridcolor": "#DFE8F3",
            "linecolor": "#A2B1C6",
            "ticks": ""
           },
           "baxis": {
            "gridcolor": "#DFE8F3",
            "linecolor": "#A2B1C6",
            "ticks": ""
           },
           "bgcolor": "white",
           "caxis": {
            "gridcolor": "#DFE8F3",
            "linecolor": "#A2B1C6",
            "ticks": ""
           }
          },
          "title": {
           "x": 0.05
          },
          "xaxis": {
           "automargin": true,
           "gridcolor": "#EBF0F8",
           "linecolor": "#EBF0F8",
           "ticks": "",
           "title": {
            "standoff": 15
           },
           "zerolinecolor": "#EBF0F8",
           "zerolinewidth": 2
          },
          "yaxis": {
           "automargin": true,
           "gridcolor": "#EBF0F8",
           "linecolor": "#EBF0F8",
           "ticks": "",
           "title": {
            "standoff": 15
           },
           "zerolinecolor": "#EBF0F8",
           "zerolinewidth": 2
          }
         }
        },
        "xaxis": {
         "ticktext": [
          "Monday",
          "Tuesday",
          "Wednesday",
          "Thursday",
          "Friday",
          "Saturday",
          "Sunday"
         ],
         "tickvals": [
          0,
          1,
          2,
          3,
          4,
          5,
          6
         ]
        }
       }
      }
     },
     "metadata": {},
     "output_type": "display_data"
    }
   ],
   "source": [
    "fig = FigureBuilder(chat).user_interventions_count_linechart(date_mode='weekday',\n",
    "                                                             title=None,\n",
    "                                                             xlabel=None).update_layout(xaxis={'tickvals': [0, 1, 2, 3, 4, 5, 6],\n",
    "                                                                                               'ticktext': ['Monday', 'Tuesday', 'Wednesday',\n",
    "                                                                                                            'Thursday', 'Friday', 'Saturday', 'Sunday']})\n",
    "py.plot(fig, filename='Daily user activity', auto_open=False)\n",
    "fig"
   ]
  },
  {
   "attachments": {},
   "cell_type": "markdown",
   "metadata": {},
   "source": [
    "## User interaction"
   ]
  },
  {
   "cell_type": "code",
   "execution_count": 19,
   "metadata": {},
   "outputs": [
    {
     "data": {
      "application/vnd.plotly.v1+json": {
       "config": {
        "plotlyServerURL": "https://plotly.com"
       },
       "data": [
        {
         "colorscale": [
          [
           0,
           "rgb(247,252,245)"
          ],
          [
           0.125,
           "rgb(229,245,224)"
          ],
          [
           0.25,
           "rgb(199,233,192)"
          ],
          [
           0.375,
           "rgb(161,217,155)"
          ],
          [
           0.5,
           "rgb(116,196,118)"
          ],
          [
           0.625,
           "rgb(65,171,93)"
          ],
          [
           0.75,
           "rgb(35,139,69)"
          ],
          [
           0.875,
           "rgb(0,109,44)"
          ],
          [
           1,
           "rgb(0,68,27)"
          ]
         ],
         "hovertemplate": "%{y} ---> %{x}<extra>%{z}</extra>",
         "type": "heatmap",
         "x": [
          "adhit",
          "alex",
          "alit_gor",
          "alit_jak",
          "aris",
          "ely",
          "erland",
          "fawaz",
          "ichsan",
          "kajal",
          "mirza",
          "rika",
          "valeri"
         ],
         "y": [
          "adhit",
          "alex",
          "alit_gor",
          "alit_jak",
          "aris",
          "ely",
          "erland",
          "fawaz",
          "ichsan",
          "kajal",
          "mirza",
          "rika",
          "valeri"
         ],
         "z": [
          [
           0,
           1,
           2,
           4,
           9,
           3,
           4,
           0,
           2,
           27,
           1,
           2,
           10
          ],
          [
           2,
           0,
           0,
           2,
           4,
           2,
           2,
           0,
           2,
           7,
           1,
           1,
           7
          ],
          [
           1,
           1,
           0,
           4,
           1,
           5,
           2,
           0,
           1,
           10,
           0,
           1,
           4
          ],
          [
           5,
           3,
           2,
           0,
           11,
           10,
           10,
           0,
           2,
           27,
           0,
           0,
           21
          ],
          [
           7,
           4,
           3,
           13,
           0,
           16,
           11,
           5,
           10,
           53,
           0,
           4,
           52
          ],
          [
           1,
           1,
           4,
           8,
           16,
           0,
           27,
           1,
           7,
           41,
           3,
           6,
           34
          ],
          [
           4,
           3,
           4,
           9,
           17,
           13,
           0,
           0,
           0,
           71,
           0,
           5,
           52
          ],
          [
           0,
           0,
           0,
           1,
           2,
           4,
           1,
           0,
           0,
           6,
           0,
           0,
           3
          ],
          [
           7,
           2,
           0,
           4,
           7,
           4,
           0,
           1,
           0,
           7,
           2,
           1,
           8
          ],
          [
           29,
           5,
           8,
           26,
           41,
           58,
           83,
           8,
           8,
           0,
           10,
           6,
           97
          ],
          [
           1,
           1,
           1,
           0,
           1,
           3,
           2,
           0,
           2,
           9,
           0,
           1,
           0
          ],
          [
           1,
           3,
           0,
           1,
           9,
           1,
           2,
           0,
           1,
           9,
           0,
           0,
           10
          ],
          [
           7,
           6,
           6,
           19,
           60,
           30,
           34,
           2,
           8,
           113,
           4,
           10,
           0
          ]
         ]
        }
       ],
       "layout": {
        "template": {
         "data": {
          "bar": [
           {
            "error_x": {
             "color": "#2a3f5f"
            },
            "error_y": {
             "color": "#2a3f5f"
            },
            "marker": {
             "line": {
              "color": "white",
              "width": 0.5
             }
            },
            "type": "bar"
           }
          ],
          "barpolar": [
           {
            "marker": {
             "line": {
              "color": "white",
              "width": 0.5
             }
            },
            "type": "barpolar"
           }
          ],
          "carpet": [
           {
            "aaxis": {
             "endlinecolor": "#2a3f5f",
             "gridcolor": "#C8D4E3",
             "linecolor": "#C8D4E3",
             "minorgridcolor": "#C8D4E3",
             "startlinecolor": "#2a3f5f"
            },
            "baxis": {
             "endlinecolor": "#2a3f5f",
             "gridcolor": "#C8D4E3",
             "linecolor": "#C8D4E3",
             "minorgridcolor": "#C8D4E3",
             "startlinecolor": "#2a3f5f"
            },
            "type": "carpet"
           }
          ],
          "choropleth": [
           {
            "colorbar": {
             "outlinewidth": 0,
             "ticks": ""
            },
            "type": "choropleth"
           }
          ],
          "contour": [
           {
            "colorbar": {
             "outlinewidth": 0,
             "ticks": ""
            },
            "colorscale": [
             [
              0,
              "#0d0887"
             ],
             [
              0.1111111111111111,
              "#46039f"
             ],
             [
              0.2222222222222222,
              "#7201a8"
             ],
             [
              0.3333333333333333,
              "#9c179e"
             ],
             [
              0.4444444444444444,
              "#bd3786"
             ],
             [
              0.5555555555555556,
              "#d8576b"
             ],
             [
              0.6666666666666666,
              "#ed7953"
             ],
             [
              0.7777777777777778,
              "#fb9f3a"
             ],
             [
              0.8888888888888888,
              "#fdca26"
             ],
             [
              1,
              "#f0f921"
             ]
            ],
            "type": "contour"
           }
          ],
          "contourcarpet": [
           {
            "colorbar": {
             "outlinewidth": 0,
             "ticks": ""
            },
            "type": "contourcarpet"
           }
          ],
          "heatmap": [
           {
            "colorbar": {
             "outlinewidth": 0,
             "ticks": ""
            },
            "colorscale": [
             [
              0,
              "#0d0887"
             ],
             [
              0.1111111111111111,
              "#46039f"
             ],
             [
              0.2222222222222222,
              "#7201a8"
             ],
             [
              0.3333333333333333,
              "#9c179e"
             ],
             [
              0.4444444444444444,
              "#bd3786"
             ],
             [
              0.5555555555555556,
              "#d8576b"
             ],
             [
              0.6666666666666666,
              "#ed7953"
             ],
             [
              0.7777777777777778,
              "#fb9f3a"
             ],
             [
              0.8888888888888888,
              "#fdca26"
             ],
             [
              1,
              "#f0f921"
             ]
            ],
            "type": "heatmap"
           }
          ],
          "heatmapgl": [
           {
            "colorbar": {
             "outlinewidth": 0,
             "ticks": ""
            },
            "colorscale": [
             [
              0,
              "#0d0887"
             ],
             [
              0.1111111111111111,
              "#46039f"
             ],
             [
              0.2222222222222222,
              "#7201a8"
             ],
             [
              0.3333333333333333,
              "#9c179e"
             ],
             [
              0.4444444444444444,
              "#bd3786"
             ],
             [
              0.5555555555555556,
              "#d8576b"
             ],
             [
              0.6666666666666666,
              "#ed7953"
             ],
             [
              0.7777777777777778,
              "#fb9f3a"
             ],
             [
              0.8888888888888888,
              "#fdca26"
             ],
             [
              1,
              "#f0f921"
             ]
            ],
            "type": "heatmapgl"
           }
          ],
          "histogram": [
           {
            "marker": {
             "colorbar": {
              "outlinewidth": 0,
              "ticks": ""
             }
            },
            "type": "histogram"
           }
          ],
          "histogram2d": [
           {
            "colorbar": {
             "outlinewidth": 0,
             "ticks": ""
            },
            "colorscale": [
             [
              0,
              "#0d0887"
             ],
             [
              0.1111111111111111,
              "#46039f"
             ],
             [
              0.2222222222222222,
              "#7201a8"
             ],
             [
              0.3333333333333333,
              "#9c179e"
             ],
             [
              0.4444444444444444,
              "#bd3786"
             ],
             [
              0.5555555555555556,
              "#d8576b"
             ],
             [
              0.6666666666666666,
              "#ed7953"
             ],
             [
              0.7777777777777778,
              "#fb9f3a"
             ],
             [
              0.8888888888888888,
              "#fdca26"
             ],
             [
              1,
              "#f0f921"
             ]
            ],
            "type": "histogram2d"
           }
          ],
          "histogram2dcontour": [
           {
            "colorbar": {
             "outlinewidth": 0,
             "ticks": ""
            },
            "colorscale": [
             [
              0,
              "#0d0887"
             ],
             [
              0.1111111111111111,
              "#46039f"
             ],
             [
              0.2222222222222222,
              "#7201a8"
             ],
             [
              0.3333333333333333,
              "#9c179e"
             ],
             [
              0.4444444444444444,
              "#bd3786"
             ],
             [
              0.5555555555555556,
              "#d8576b"
             ],
             [
              0.6666666666666666,
              "#ed7953"
             ],
             [
              0.7777777777777778,
              "#fb9f3a"
             ],
             [
              0.8888888888888888,
              "#fdca26"
             ],
             [
              1,
              "#f0f921"
             ]
            ],
            "type": "histogram2dcontour"
           }
          ],
          "mesh3d": [
           {
            "colorbar": {
             "outlinewidth": 0,
             "ticks": ""
            },
            "type": "mesh3d"
           }
          ],
          "parcoords": [
           {
            "line": {
             "colorbar": {
              "outlinewidth": 0,
              "ticks": ""
             }
            },
            "type": "parcoords"
           }
          ],
          "pie": [
           {
            "automargin": true,
            "type": "pie"
           }
          ],
          "scatter": [
           {
            "marker": {
             "colorbar": {
              "outlinewidth": 0,
              "ticks": ""
             }
            },
            "type": "scatter"
           }
          ],
          "scatter3d": [
           {
            "line": {
             "colorbar": {
              "outlinewidth": 0,
              "ticks": ""
             }
            },
            "marker": {
             "colorbar": {
              "outlinewidth": 0,
              "ticks": ""
             }
            },
            "type": "scatter3d"
           }
          ],
          "scattercarpet": [
           {
            "marker": {
             "colorbar": {
              "outlinewidth": 0,
              "ticks": ""
             }
            },
            "type": "scattercarpet"
           }
          ],
          "scattergeo": [
           {
            "marker": {
             "colorbar": {
              "outlinewidth": 0,
              "ticks": ""
             }
            },
            "type": "scattergeo"
           }
          ],
          "scattergl": [
           {
            "marker": {
             "colorbar": {
              "outlinewidth": 0,
              "ticks": ""
             }
            },
            "type": "scattergl"
           }
          ],
          "scattermapbox": [
           {
            "marker": {
             "colorbar": {
              "outlinewidth": 0,
              "ticks": ""
             }
            },
            "type": "scattermapbox"
           }
          ],
          "scatterpolar": [
           {
            "marker": {
             "colorbar": {
              "outlinewidth": 0,
              "ticks": ""
             }
            },
            "type": "scatterpolar"
           }
          ],
          "scatterpolargl": [
           {
            "marker": {
             "colorbar": {
              "outlinewidth": 0,
              "ticks": ""
             }
            },
            "type": "scatterpolargl"
           }
          ],
          "scatterternary": [
           {
            "marker": {
             "colorbar": {
              "outlinewidth": 0,
              "ticks": ""
             }
            },
            "type": "scatterternary"
           }
          ],
          "surface": [
           {
            "colorbar": {
             "outlinewidth": 0,
             "ticks": ""
            },
            "colorscale": [
             [
              0,
              "#0d0887"
             ],
             [
              0.1111111111111111,
              "#46039f"
             ],
             [
              0.2222222222222222,
              "#7201a8"
             ],
             [
              0.3333333333333333,
              "#9c179e"
             ],
             [
              0.4444444444444444,
              "#bd3786"
             ],
             [
              0.5555555555555556,
              "#d8576b"
             ],
             [
              0.6666666666666666,
              "#ed7953"
             ],
             [
              0.7777777777777778,
              "#fb9f3a"
             ],
             [
              0.8888888888888888,
              "#fdca26"
             ],
             [
              1,
              "#f0f921"
             ]
            ],
            "type": "surface"
           }
          ],
          "table": [
           {
            "cells": {
             "fill": {
              "color": "#EBF0F8"
             },
             "line": {
              "color": "white"
             }
            },
            "header": {
             "fill": {
              "color": "#C8D4E3"
             },
             "line": {
              "color": "white"
             }
            },
            "type": "table"
           }
          ]
         },
         "layout": {
          "annotationdefaults": {
           "arrowcolor": "#2a3f5f",
           "arrowhead": 0,
           "arrowwidth": 1
          },
          "autotypenumbers": "strict",
          "coloraxis": {
           "colorbar": {
            "outlinewidth": 0,
            "ticks": ""
           }
          },
          "colorscale": {
           "diverging": [
            [
             0,
             "#8e0152"
            ],
            [
             0.1,
             "#c51b7d"
            ],
            [
             0.2,
             "#de77ae"
            ],
            [
             0.3,
             "#f1b6da"
            ],
            [
             0.4,
             "#fde0ef"
            ],
            [
             0.5,
             "#f7f7f7"
            ],
            [
             0.6,
             "#e6f5d0"
            ],
            [
             0.7,
             "#b8e186"
            ],
            [
             0.8,
             "#7fbc41"
            ],
            [
             0.9,
             "#4d9221"
            ],
            [
             1,
             "#276419"
            ]
           ],
           "sequential": [
            [
             0,
             "#0d0887"
            ],
            [
             0.1111111111111111,
             "#46039f"
            ],
            [
             0.2222222222222222,
             "#7201a8"
            ],
            [
             0.3333333333333333,
             "#9c179e"
            ],
            [
             0.4444444444444444,
             "#bd3786"
            ],
            [
             0.5555555555555556,
             "#d8576b"
            ],
            [
             0.6666666666666666,
             "#ed7953"
            ],
            [
             0.7777777777777778,
             "#fb9f3a"
            ],
            [
             0.8888888888888888,
             "#fdca26"
            ],
            [
             1,
             "#f0f921"
            ]
           ],
           "sequentialminus": [
            [
             0,
             "#0d0887"
            ],
            [
             0.1111111111111111,
             "#46039f"
            ],
            [
             0.2222222222222222,
             "#7201a8"
            ],
            [
             0.3333333333333333,
             "#9c179e"
            ],
            [
             0.4444444444444444,
             "#bd3786"
            ],
            [
             0.5555555555555556,
             "#d8576b"
            ],
            [
             0.6666666666666666,
             "#ed7953"
            ],
            [
             0.7777777777777778,
             "#fb9f3a"
            ],
            [
             0.8888888888888888,
             "#fdca26"
            ],
            [
             1,
             "#f0f921"
            ]
           ]
          },
          "colorway": [
           "#636efa",
           "#EF553B",
           "#00cc96",
           "#ab63fa",
           "#FFA15A",
           "#19d3f3",
           "#FF6692",
           "#B6E880",
           "#FF97FF",
           "#FECB52"
          ],
          "font": {
           "color": "#2a3f5f"
          },
          "geo": {
           "bgcolor": "white",
           "lakecolor": "white",
           "landcolor": "white",
           "showlakes": true,
           "showland": true,
           "subunitcolor": "#C8D4E3"
          },
          "hoverlabel": {
           "align": "left"
          },
          "hovermode": "closest",
          "mapbox": {
           "style": "light"
          },
          "paper_bgcolor": "white",
          "plot_bgcolor": "white",
          "polar": {
           "angularaxis": {
            "gridcolor": "#EBF0F8",
            "linecolor": "#EBF0F8",
            "ticks": ""
           },
           "bgcolor": "white",
           "radialaxis": {
            "gridcolor": "#EBF0F8",
            "linecolor": "#EBF0F8",
            "ticks": ""
           }
          },
          "scene": {
           "xaxis": {
            "backgroundcolor": "white",
            "gridcolor": "#DFE8F3",
            "gridwidth": 2,
            "linecolor": "#EBF0F8",
            "showbackground": true,
            "ticks": "",
            "zerolinecolor": "#EBF0F8"
           },
           "yaxis": {
            "backgroundcolor": "white",
            "gridcolor": "#DFE8F3",
            "gridwidth": 2,
            "linecolor": "#EBF0F8",
            "showbackground": true,
            "ticks": "",
            "zerolinecolor": "#EBF0F8"
           },
           "zaxis": {
            "backgroundcolor": "white",
            "gridcolor": "#DFE8F3",
            "gridwidth": 2,
            "linecolor": "#EBF0F8",
            "showbackground": true,
            "ticks": "",
            "zerolinecolor": "#EBF0F8"
           }
          },
          "shapedefaults": {
           "line": {
            "color": "#2a3f5f"
           }
          },
          "ternary": {
           "aaxis": {
            "gridcolor": "#DFE8F3",
            "linecolor": "#A2B1C6",
            "ticks": ""
           },
           "baxis": {
            "gridcolor": "#DFE8F3",
            "linecolor": "#A2B1C6",
            "ticks": ""
           },
           "bgcolor": "white",
           "caxis": {
            "gridcolor": "#DFE8F3",
            "linecolor": "#A2B1C6",
            "ticks": ""
           }
          },
          "title": {
           "x": 0.05
          },
          "xaxis": {
           "automargin": true,
           "gridcolor": "#EBF0F8",
           "linecolor": "#EBF0F8",
           "ticks": "",
           "title": {
            "standoff": 15
           },
           "zerolinecolor": "#EBF0F8",
           "zerolinewidth": 2
          },
          "yaxis": {
           "automargin": true,
           "gridcolor": "#EBF0F8",
           "linecolor": "#EBF0F8",
           "ticks": "",
           "title": {
            "standoff": 15
           },
           "zerolinecolor": "#EBF0F8",
           "zerolinewidth": 2
          }
         }
        },
        "xaxis": {
         "title": {
          "text": "Receiver"
         }
        },
        "yaxis": {
         "title": {
          "text": "Sender"
         }
        }
       }
      }
     },
     "metadata": {},
     "output_type": "display_data"
    }
   ],
   "source": [
    "fig = FigureBuilder(chat).user_message_responses_heatmap(title=None)\n",
    "py.plot(fig, filename='User interaction heatmap', auto_open=False)\n",
    "fig"
   ]
  },
  {
   "attachments": {},
   "cell_type": "markdown",
   "metadata": {},
   "source": [
    "User interaction flow"
   ]
  },
  {
   "cell_type": "code",
   "execution_count": 20,
   "metadata": {},
   "outputs": [
    {
     "data": {
      "application/vnd.plotly.v1+json": {
       "config": {
        "plotlyServerURL": "https://plotly.com"
       },
       "data": [
        {
         "arrangement": "fixed",
         "link": {
          "hovertemplate": "%{source.label} ---> %{target.label}<extra>%{value}</extra>",
          "source": [
           0,
           0,
           0,
           0,
           0,
           0,
           0,
           0,
           0,
           0,
           0,
           0,
           0,
           1,
           1,
           1,
           1,
           1,
           1,
           1,
           1,
           1,
           1,
           1,
           1,
           1,
           2,
           2,
           2,
           2,
           2,
           2,
           2,
           2,
           2,
           2,
           2,
           2,
           2,
           3,
           3,
           3,
           3,
           3,
           3,
           3,
           3,
           3,
           3,
           3,
           3,
           3,
           4,
           4,
           4,
           4,
           4,
           4,
           4,
           4,
           4,
           4,
           4,
           4,
           4,
           5,
           5,
           5,
           5,
           5,
           5,
           5,
           5,
           5,
           5,
           5,
           5,
           5,
           6,
           6,
           6,
           6,
           6,
           6,
           6,
           6,
           6,
           6,
           6,
           6,
           6,
           7,
           7,
           7,
           7,
           7,
           7,
           7,
           7,
           7,
           7,
           7,
           7,
           7,
           8,
           8,
           8,
           8,
           8,
           8,
           8,
           8,
           8,
           8,
           8,
           8,
           8,
           9,
           9,
           9,
           9,
           9,
           9,
           9,
           9,
           9,
           9,
           9,
           9,
           9,
           10,
           10,
           10,
           10,
           10,
           10,
           10,
           10,
           10,
           10,
           10,
           10,
           10,
           11,
           11,
           11,
           11,
           11,
           11,
           11,
           11,
           11,
           11,
           11,
           11,
           11,
           12,
           12,
           12,
           12,
           12,
           12,
           12,
           12,
           12,
           12,
           12,
           12,
           12
          ],
          "target": [
           13,
           14,
           15,
           16,
           17,
           18,
           19,
           20,
           21,
           22,
           23,
           24,
           25,
           13,
           14,
           15,
           16,
           17,
           18,
           19,
           20,
           21,
           22,
           23,
           24,
           25,
           13,
           14,
           15,
           16,
           17,
           18,
           19,
           20,
           21,
           22,
           23,
           24,
           25,
           13,
           14,
           15,
           16,
           17,
           18,
           19,
           20,
           21,
           22,
           23,
           24,
           25,
           13,
           14,
           15,
           16,
           17,
           18,
           19,
           20,
           21,
           22,
           23,
           24,
           25,
           13,
           14,
           15,
           16,
           17,
           18,
           19,
           20,
           21,
           22,
           23,
           24,
           25,
           13,
           14,
           15,
           16,
           17,
           18,
           19,
           20,
           21,
           22,
           23,
           24,
           25,
           13,
           14,
           15,
           16,
           17,
           18,
           19,
           20,
           21,
           22,
           23,
           24,
           25,
           13,
           14,
           15,
           16,
           17,
           18,
           19,
           20,
           21,
           22,
           23,
           24,
           25,
           13,
           14,
           15,
           16,
           17,
           18,
           19,
           20,
           21,
           22,
           23,
           24,
           25,
           13,
           14,
           15,
           16,
           17,
           18,
           19,
           20,
           21,
           22,
           23,
           24,
           25,
           13,
           14,
           15,
           16,
           17,
           18,
           19,
           20,
           21,
           22,
           23,
           24,
           25,
           13,
           14,
           15,
           16,
           17,
           18,
           19,
           20,
           21,
           22,
           23,
           24,
           25
          ],
          "value": [
           0,
           1,
           2,
           4,
           9,
           3,
           4,
           0,
           2,
           27,
           1,
           2,
           10,
           2,
           0,
           0,
           2,
           4,
           2,
           2,
           0,
           2,
           7,
           1,
           1,
           7,
           1,
           1,
           0,
           4,
           1,
           5,
           2,
           0,
           1,
           10,
           0,
           1,
           4,
           5,
           3,
           2,
           0,
           11,
           10,
           10,
           0,
           2,
           27,
           0,
           0,
           21,
           7,
           4,
           3,
           13,
           0,
           16,
           11,
           5,
           10,
           53,
           0,
           4,
           52,
           1,
           1,
           4,
           8,
           16,
           0,
           27,
           1,
           7,
           41,
           3,
           6,
           34,
           4,
           3,
           4,
           9,
           17,
           13,
           0,
           0,
           0,
           71,
           0,
           5,
           52,
           0,
           0,
           0,
           1,
           2,
           4,
           1,
           0,
           0,
           6,
           0,
           0,
           3,
           7,
           2,
           0,
           4,
           7,
           4,
           0,
           1,
           0,
           7,
           2,
           1,
           8,
           29,
           5,
           8,
           26,
           41,
           58,
           83,
           8,
           8,
           0,
           10,
           6,
           97,
           1,
           1,
           1,
           0,
           1,
           3,
           2,
           0,
           2,
           9,
           0,
           1,
           0,
           1,
           3,
           0,
           1,
           9,
           1,
           2,
           0,
           1,
           9,
           0,
           0,
           10,
           7,
           6,
           6,
           19,
           60,
           30,
           34,
           2,
           8,
           113,
           4,
           10,
           0
          ]
         },
         "node": {
          "color": [
           "#DB5F57",
           "#DB9C57",
           "#DBD957",
           "#A0DB57",
           "#63DB57",
           "#57DB87",
           "#57DBC5",
           "#57B5DB",
           "#5778DB",
           "#7357DB",
           "#B057DB",
           "#DB57C9",
           "#DB578C",
           "#DB5F57",
           "#DB9C57",
           "#DBD957",
           "#A0DB57",
           "#63DB57",
           "#57DB87",
           "#57DBC5",
           "#57B5DB",
           "#5778DB",
           "#7357DB",
           "#B057DB",
           "#DB57C9",
           "#DB578C"
          ],
          "hovertemplate": "%{label}<br>Number of messages: %{value}<extra></extra>",
          "label": [
           "adhit",
           "alex",
           "alit_gor",
           "alit_jak",
           "aris",
           "ely",
           "erland",
           "fawaz",
           "ichsan",
           "kajal",
           "mirza",
           "rika",
           "valeri",
           "adhit",
           "alex",
           "alit_gor",
           "alit_jak",
           "aris",
           "ely",
           "erland",
           "fawaz",
           "ichsan",
           "kajal",
           "mirza",
           "rika",
           "valeri"
          ],
          "line": {
           "color": "black",
           "width": 0
          },
          "pad": 20,
          "thickness": 40
         },
         "orientation": "v",
         "type": "sankey",
         "valueformat": ".0f"
        }
       ],
       "layout": {
        "annotations": [
         {
          "align": "center",
          "font": {
           "color": "rgb(116, 101, 130)",
           "size": 13
          },
          "showarrow": false,
          "text": "Senders",
          "x": 0.5,
          "xref": "paper",
          "y": 1.1,
          "yref": "paper"
         },
         {
          "align": "center",
          "font": {
           "color": "rgb(116, 101, 130)",
           "size": 13
          },
          "showarrow": false,
          "text": "Receivers",
          "x": 0.5,
          "xref": "paper",
          "y": -0.1,
          "yref": "paper"
         }
        ],
        "template": {
         "data": {
          "bar": [
           {
            "error_x": {
             "color": "#2a3f5f"
            },
            "error_y": {
             "color": "#2a3f5f"
            },
            "marker": {
             "line": {
              "color": "white",
              "width": 0.5
             }
            },
            "type": "bar"
           }
          ],
          "barpolar": [
           {
            "marker": {
             "line": {
              "color": "white",
              "width": 0.5
             }
            },
            "type": "barpolar"
           }
          ],
          "carpet": [
           {
            "aaxis": {
             "endlinecolor": "#2a3f5f",
             "gridcolor": "#C8D4E3",
             "linecolor": "#C8D4E3",
             "minorgridcolor": "#C8D4E3",
             "startlinecolor": "#2a3f5f"
            },
            "baxis": {
             "endlinecolor": "#2a3f5f",
             "gridcolor": "#C8D4E3",
             "linecolor": "#C8D4E3",
             "minorgridcolor": "#C8D4E3",
             "startlinecolor": "#2a3f5f"
            },
            "type": "carpet"
           }
          ],
          "choropleth": [
           {
            "colorbar": {
             "outlinewidth": 0,
             "ticks": ""
            },
            "type": "choropleth"
           }
          ],
          "contour": [
           {
            "colorbar": {
             "outlinewidth": 0,
             "ticks": ""
            },
            "colorscale": [
             [
              0,
              "#0d0887"
             ],
             [
              0.1111111111111111,
              "#46039f"
             ],
             [
              0.2222222222222222,
              "#7201a8"
             ],
             [
              0.3333333333333333,
              "#9c179e"
             ],
             [
              0.4444444444444444,
              "#bd3786"
             ],
             [
              0.5555555555555556,
              "#d8576b"
             ],
             [
              0.6666666666666666,
              "#ed7953"
             ],
             [
              0.7777777777777778,
              "#fb9f3a"
             ],
             [
              0.8888888888888888,
              "#fdca26"
             ],
             [
              1,
              "#f0f921"
             ]
            ],
            "type": "contour"
           }
          ],
          "contourcarpet": [
           {
            "colorbar": {
             "outlinewidth": 0,
             "ticks": ""
            },
            "type": "contourcarpet"
           }
          ],
          "heatmap": [
           {
            "colorbar": {
             "outlinewidth": 0,
             "ticks": ""
            },
            "colorscale": [
             [
              0,
              "#0d0887"
             ],
             [
              0.1111111111111111,
              "#46039f"
             ],
             [
              0.2222222222222222,
              "#7201a8"
             ],
             [
              0.3333333333333333,
              "#9c179e"
             ],
             [
              0.4444444444444444,
              "#bd3786"
             ],
             [
              0.5555555555555556,
              "#d8576b"
             ],
             [
              0.6666666666666666,
              "#ed7953"
             ],
             [
              0.7777777777777778,
              "#fb9f3a"
             ],
             [
              0.8888888888888888,
              "#fdca26"
             ],
             [
              1,
              "#f0f921"
             ]
            ],
            "type": "heatmap"
           }
          ],
          "heatmapgl": [
           {
            "colorbar": {
             "outlinewidth": 0,
             "ticks": ""
            },
            "colorscale": [
             [
              0,
              "#0d0887"
             ],
             [
              0.1111111111111111,
              "#46039f"
             ],
             [
              0.2222222222222222,
              "#7201a8"
             ],
             [
              0.3333333333333333,
              "#9c179e"
             ],
             [
              0.4444444444444444,
              "#bd3786"
             ],
             [
              0.5555555555555556,
              "#d8576b"
             ],
             [
              0.6666666666666666,
              "#ed7953"
             ],
             [
              0.7777777777777778,
              "#fb9f3a"
             ],
             [
              0.8888888888888888,
              "#fdca26"
             ],
             [
              1,
              "#f0f921"
             ]
            ],
            "type": "heatmapgl"
           }
          ],
          "histogram": [
           {
            "marker": {
             "colorbar": {
              "outlinewidth": 0,
              "ticks": ""
             }
            },
            "type": "histogram"
           }
          ],
          "histogram2d": [
           {
            "colorbar": {
             "outlinewidth": 0,
             "ticks": ""
            },
            "colorscale": [
             [
              0,
              "#0d0887"
             ],
             [
              0.1111111111111111,
              "#46039f"
             ],
             [
              0.2222222222222222,
              "#7201a8"
             ],
             [
              0.3333333333333333,
              "#9c179e"
             ],
             [
              0.4444444444444444,
              "#bd3786"
             ],
             [
              0.5555555555555556,
              "#d8576b"
             ],
             [
              0.6666666666666666,
              "#ed7953"
             ],
             [
              0.7777777777777778,
              "#fb9f3a"
             ],
             [
              0.8888888888888888,
              "#fdca26"
             ],
             [
              1,
              "#f0f921"
             ]
            ],
            "type": "histogram2d"
           }
          ],
          "histogram2dcontour": [
           {
            "colorbar": {
             "outlinewidth": 0,
             "ticks": ""
            },
            "colorscale": [
             [
              0,
              "#0d0887"
             ],
             [
              0.1111111111111111,
              "#46039f"
             ],
             [
              0.2222222222222222,
              "#7201a8"
             ],
             [
              0.3333333333333333,
              "#9c179e"
             ],
             [
              0.4444444444444444,
              "#bd3786"
             ],
             [
              0.5555555555555556,
              "#d8576b"
             ],
             [
              0.6666666666666666,
              "#ed7953"
             ],
             [
              0.7777777777777778,
              "#fb9f3a"
             ],
             [
              0.8888888888888888,
              "#fdca26"
             ],
             [
              1,
              "#f0f921"
             ]
            ],
            "type": "histogram2dcontour"
           }
          ],
          "mesh3d": [
           {
            "colorbar": {
             "outlinewidth": 0,
             "ticks": ""
            },
            "type": "mesh3d"
           }
          ],
          "parcoords": [
           {
            "line": {
             "colorbar": {
              "outlinewidth": 0,
              "ticks": ""
             }
            },
            "type": "parcoords"
           }
          ],
          "pie": [
           {
            "automargin": true,
            "type": "pie"
           }
          ],
          "scatter": [
           {
            "marker": {
             "colorbar": {
              "outlinewidth": 0,
              "ticks": ""
             }
            },
            "type": "scatter"
           }
          ],
          "scatter3d": [
           {
            "line": {
             "colorbar": {
              "outlinewidth": 0,
              "ticks": ""
             }
            },
            "marker": {
             "colorbar": {
              "outlinewidth": 0,
              "ticks": ""
             }
            },
            "type": "scatter3d"
           }
          ],
          "scattercarpet": [
           {
            "marker": {
             "colorbar": {
              "outlinewidth": 0,
              "ticks": ""
             }
            },
            "type": "scattercarpet"
           }
          ],
          "scattergeo": [
           {
            "marker": {
             "colorbar": {
              "outlinewidth": 0,
              "ticks": ""
             }
            },
            "type": "scattergeo"
           }
          ],
          "scattergl": [
           {
            "marker": {
             "colorbar": {
              "outlinewidth": 0,
              "ticks": ""
             }
            },
            "type": "scattergl"
           }
          ],
          "scattermapbox": [
           {
            "marker": {
             "colorbar": {
              "outlinewidth": 0,
              "ticks": ""
             }
            },
            "type": "scattermapbox"
           }
          ],
          "scatterpolar": [
           {
            "marker": {
             "colorbar": {
              "outlinewidth": 0,
              "ticks": ""
             }
            },
            "type": "scatterpolar"
           }
          ],
          "scatterpolargl": [
           {
            "marker": {
             "colorbar": {
              "outlinewidth": 0,
              "ticks": ""
             }
            },
            "type": "scatterpolargl"
           }
          ],
          "scatterternary": [
           {
            "marker": {
             "colorbar": {
              "outlinewidth": 0,
              "ticks": ""
             }
            },
            "type": "scatterternary"
           }
          ],
          "surface": [
           {
            "colorbar": {
             "outlinewidth": 0,
             "ticks": ""
            },
            "colorscale": [
             [
              0,
              "#0d0887"
             ],
             [
              0.1111111111111111,
              "#46039f"
             ],
             [
              0.2222222222222222,
              "#7201a8"
             ],
             [
              0.3333333333333333,
              "#9c179e"
             ],
             [
              0.4444444444444444,
              "#bd3786"
             ],
             [
              0.5555555555555556,
              "#d8576b"
             ],
             [
              0.6666666666666666,
              "#ed7953"
             ],
             [
              0.7777777777777778,
              "#fb9f3a"
             ],
             [
              0.8888888888888888,
              "#fdca26"
             ],
             [
              1,
              "#f0f921"
             ]
            ],
            "type": "surface"
           }
          ],
          "table": [
           {
            "cells": {
             "fill": {
              "color": "#EBF0F8"
             },
             "line": {
              "color": "white"
             }
            },
            "header": {
             "fill": {
              "color": "#C8D4E3"
             },
             "line": {
              "color": "white"
             }
            },
            "type": "table"
           }
          ]
         },
         "layout": {
          "annotationdefaults": {
           "arrowcolor": "#2a3f5f",
           "arrowhead": 0,
           "arrowwidth": 1
          },
          "autotypenumbers": "strict",
          "coloraxis": {
           "colorbar": {
            "outlinewidth": 0,
            "ticks": ""
           }
          },
          "colorscale": {
           "diverging": [
            [
             0,
             "#8e0152"
            ],
            [
             0.1,
             "#c51b7d"
            ],
            [
             0.2,
             "#de77ae"
            ],
            [
             0.3,
             "#f1b6da"
            ],
            [
             0.4,
             "#fde0ef"
            ],
            [
             0.5,
             "#f7f7f7"
            ],
            [
             0.6,
             "#e6f5d0"
            ],
            [
             0.7,
             "#b8e186"
            ],
            [
             0.8,
             "#7fbc41"
            ],
            [
             0.9,
             "#4d9221"
            ],
            [
             1,
             "#276419"
            ]
           ],
           "sequential": [
            [
             0,
             "#0d0887"
            ],
            [
             0.1111111111111111,
             "#46039f"
            ],
            [
             0.2222222222222222,
             "#7201a8"
            ],
            [
             0.3333333333333333,
             "#9c179e"
            ],
            [
             0.4444444444444444,
             "#bd3786"
            ],
            [
             0.5555555555555556,
             "#d8576b"
            ],
            [
             0.6666666666666666,
             "#ed7953"
            ],
            [
             0.7777777777777778,
             "#fb9f3a"
            ],
            [
             0.8888888888888888,
             "#fdca26"
            ],
            [
             1,
             "#f0f921"
            ]
           ],
           "sequentialminus": [
            [
             0,
             "#0d0887"
            ],
            [
             0.1111111111111111,
             "#46039f"
            ],
            [
             0.2222222222222222,
             "#7201a8"
            ],
            [
             0.3333333333333333,
             "#9c179e"
            ],
            [
             0.4444444444444444,
             "#bd3786"
            ],
            [
             0.5555555555555556,
             "#d8576b"
            ],
            [
             0.6666666666666666,
             "#ed7953"
            ],
            [
             0.7777777777777778,
             "#fb9f3a"
            ],
            [
             0.8888888888888888,
             "#fdca26"
            ],
            [
             1,
             "#f0f921"
            ]
           ]
          },
          "colorway": [
           "#636efa",
           "#EF553B",
           "#00cc96",
           "#ab63fa",
           "#FFA15A",
           "#19d3f3",
           "#FF6692",
           "#B6E880",
           "#FF97FF",
           "#FECB52"
          ],
          "font": {
           "color": "#2a3f5f"
          },
          "geo": {
           "bgcolor": "white",
           "lakecolor": "white",
           "landcolor": "white",
           "showlakes": true,
           "showland": true,
           "subunitcolor": "#C8D4E3"
          },
          "hoverlabel": {
           "align": "left"
          },
          "hovermode": "closest",
          "mapbox": {
           "style": "light"
          },
          "paper_bgcolor": "white",
          "plot_bgcolor": "white",
          "polar": {
           "angularaxis": {
            "gridcolor": "#EBF0F8",
            "linecolor": "#EBF0F8",
            "ticks": ""
           },
           "bgcolor": "white",
           "radialaxis": {
            "gridcolor": "#EBF0F8",
            "linecolor": "#EBF0F8",
            "ticks": ""
           }
          },
          "scene": {
           "xaxis": {
            "backgroundcolor": "white",
            "gridcolor": "#DFE8F3",
            "gridwidth": 2,
            "linecolor": "#EBF0F8",
            "showbackground": true,
            "ticks": "",
            "zerolinecolor": "#EBF0F8"
           },
           "yaxis": {
            "backgroundcolor": "white",
            "gridcolor": "#DFE8F3",
            "gridwidth": 2,
            "linecolor": "#EBF0F8",
            "showbackground": true,
            "ticks": "",
            "zerolinecolor": "#EBF0F8"
           },
           "zaxis": {
            "backgroundcolor": "white",
            "gridcolor": "#DFE8F3",
            "gridwidth": 2,
            "linecolor": "#EBF0F8",
            "showbackground": true,
            "ticks": "",
            "zerolinecolor": "#EBF0F8"
           }
          },
          "shapedefaults": {
           "line": {
            "color": "#2a3f5f"
           }
          },
          "ternary": {
           "aaxis": {
            "gridcolor": "#DFE8F3",
            "linecolor": "#A2B1C6",
            "ticks": ""
           },
           "baxis": {
            "gridcolor": "#DFE8F3",
            "linecolor": "#A2B1C6",
            "ticks": ""
           },
           "bgcolor": "white",
           "caxis": {
            "gridcolor": "#DFE8F3",
            "linecolor": "#A2B1C6",
            "ticks": ""
           }
          },
          "title": {
           "x": 0.05
          },
          "xaxis": {
           "automargin": true,
           "gridcolor": "#EBF0F8",
           "linecolor": "#EBF0F8",
           "ticks": "",
           "title": {
            "standoff": 15
           },
           "zerolinecolor": "#EBF0F8",
           "zerolinewidth": 2
          },
          "yaxis": {
           "automargin": true,
           "gridcolor": "#EBF0F8",
           "linecolor": "#EBF0F8",
           "ticks": "",
           "title": {
            "standoff": 15
           },
           "zerolinecolor": "#EBF0F8",
           "zerolinewidth": 2
          }
         }
        }
       }
      }
     },
     "metadata": {},
     "output_type": "display_data"
    }
   ],
   "source": [
    "fig = FigureBuilder(chat).user_message_responses_flow(title=None)\n",
    "py.plot(fig, filename='User interaction flow', auto_open=False)\n",
    "fig"
   ]
  },
  {
   "attachments": {},
   "cell_type": "markdown",
   "metadata": {},
   "source": [
    "# Sentiment analysis"
   ]
  },
  {
   "attachments": {},
   "cell_type": "markdown",
   "metadata": {},
   "source": [
    "Sentiment labels"
   ]
  },
  {
   "cell_type": "code",
   "execution_count": 21,
   "metadata": {},
   "outputs": [
    {
     "data": {
      "text/html": [
       "<div>\n",
       "<style scoped>\n",
       "    .dataframe tbody tr th:only-of-type {\n",
       "        vertical-align: middle;\n",
       "    }\n",
       "\n",
       "    .dataframe tbody tr th {\n",
       "        vertical-align: top;\n",
       "    }\n",
       "\n",
       "    .dataframe thead th {\n",
       "        text-align: right;\n",
       "    }\n",
       "</style>\n",
       "<table border=\"1\" class=\"dataframe\">\n",
       "  <thead>\n",
       "    <tr style=\"text-align: right;\">\n",
       "      <th></th>\n",
       "      <th>date</th>\n",
       "      <th>username</th>\n",
       "      <th>message</th>\n",
       "      <th>clean_msg</th>\n",
       "      <th>emoji</th>\n",
       "      <th>hour</th>\n",
       "      <th>day_name</th>\n",
       "      <th>week</th>\n",
       "      <th>module_name</th>\n",
       "      <th>sentiment</th>\n",
       "    </tr>\n",
       "  </thead>\n",
       "  <tbody>\n",
       "    <tr>\n",
       "      <th>428</th>\n",
       "      <td>2023-01-26 11:01:00</td>\n",
       "      <td>kajal</td>\n",
       "      <td>Btww ini linkedin aku yaa buat yg blm connect ...</td>\n",
       "      <td>btww linkedin ya connect thank youu</td>\n",
       "      <td></td>\n",
       "      <td>11</td>\n",
       "      <td>Thursday</td>\n",
       "      <td>2</td>\n",
       "      <td>Spreadsheet &amp; Statistics</td>\n",
       "      <td>positive</td>\n",
       "    </tr>\n",
       "    <tr>\n",
       "      <th>1197</th>\n",
       "      <td>2023-03-01 20:27:00</td>\n",
       "      <td>kajal</td>\n",
       "      <td>knp didelet woy</td>\n",
       "      <td>didelet woy</td>\n",
       "      <td></td>\n",
       "      <td>20</td>\n",
       "      <td>Wednesday</td>\n",
       "      <td>7</td>\n",
       "      <td>Python</td>\n",
       "      <td>neutral</td>\n",
       "    </tr>\n",
       "    <tr>\n",
       "      <th>1307</th>\n",
       "      <td>2023-03-07 20:07:00</td>\n",
       "      <td>erland</td>\n",
       "      <td>@alex</td>\n",
       "      <td>alex</td>\n",
       "      <td></td>\n",
       "      <td>20</td>\n",
       "      <td>Tuesday</td>\n",
       "      <td>8</td>\n",
       "      <td>Python</td>\n",
       "      <td>neutral</td>\n",
       "    </tr>\n",
       "    <tr>\n",
       "      <th>781</th>\n",
       "      <td>2023-02-18 15:24:00</td>\n",
       "      <td>valeri</td>\n",
       "      <td>Makasih kak Gor 😌 semoga ntar anaknya jangan k...</td>\n",
       "      <td>terima kasih kak gor semoga entar anaknya kaya...</td>\n",
       "      <td>😌😂😂😂</td>\n",
       "      <td>15</td>\n",
       "      <td>Saturday</td>\n",
       "      <td>5</td>\n",
       "      <td>SQL</td>\n",
       "      <td>positive</td>\n",
       "    </tr>\n",
       "    <tr>\n",
       "      <th>1021</th>\n",
       "      <td>2023-02-23 16:08:00</td>\n",
       "      <td>kajal</td>\n",
       "      <td>ntr dah story timenya</td>\n",
       "      <td>entar deh story timenya</td>\n",
       "      <td></td>\n",
       "      <td>16</td>\n",
       "      <td>Thursday</td>\n",
       "      <td>6</td>\n",
       "      <td>Python</td>\n",
       "      <td>neutral</td>\n",
       "    </tr>\n",
       "  </tbody>\n",
       "</table>\n",
       "</div>"
      ],
      "text/plain": [
       "                    date username  \\\n",
       "428  2023-01-26 11:01:00    kajal   \n",
       "1197 2023-03-01 20:27:00    kajal   \n",
       "1307 2023-03-07 20:07:00   erland   \n",
       "781  2023-02-18 15:24:00   valeri   \n",
       "1021 2023-02-23 16:08:00    kajal   \n",
       "\n",
       "                                                message  \\\n",
       "428   Btww ini linkedin aku yaa buat yg blm connect ...   \n",
       "1197                                    knp didelet woy   \n",
       "1307                                              @alex   \n",
       "781   Makasih kak Gor 😌 semoga ntar anaknya jangan k...   \n",
       "1021                              ntr dah story timenya   \n",
       "\n",
       "                                              clean_msg emoji  hour  \\\n",
       "428                 btww linkedin ya connect thank youu          11   \n",
       "1197                                        didelet woy          20   \n",
       "1307                                               alex          20   \n",
       "781   terima kasih kak gor semoga entar anaknya kaya...  😌😂😂😂    15   \n",
       "1021                            entar deh story timenya          16   \n",
       "\n",
       "       day_name  week               module_name sentiment  \n",
       "428    Thursday     2  Spreadsheet & Statistics  positive  \n",
       "1197  Wednesday     7                    Python   neutral  \n",
       "1307    Tuesday     8                    Python   neutral  \n",
       "781    Saturday     5                       SQL  positive  \n",
       "1021   Thursday     6                    Python   neutral  "
      ]
     },
     "execution_count": 21,
     "metadata": {},
     "output_type": "execute_result"
    }
   ],
   "source": [
    "# create a function to get the sentiment score of an emoji\n",
    "def emosent_score(emoji):\n",
    "    score, count = 0, 0\n",
    "    for e in set(emoji):\n",
    "        try:\n",
    "            score += get_emoji_sentiment_rank(e)['sentiment_score']\n",
    "            count += 1\n",
    "        except:\n",
    "            continue\n",
    "    return score/count if count != 0 else score\n",
    "\n",
    "# initialize the VADER sentiment analyzer with custom lexicon\n",
    "pos, neg = SentimentIntensityAnalyzer(), SentimentIntensityAnalyzer()\n",
    "\n",
    "pos.lexicon.clear()\n",
    "neg.lexicon.clear()\n",
    "\n",
    "pos.lexicon.update(pd.read_table('lexicon/InSet/positive.tsv').set_index('word').to_dict()['weight'])\n",
    "neg.lexicon.update(pd.read_table('lexicon/InSet/negative.tsv').set_index('word').to_dict()['weight'])\n",
    "\n",
    "chat['sentiment'] = chat.apply(lambda x: (neg.polarity_scores(\n",
    "    x['clean_msg'])['compound'] + pos.polarity_scores(\n",
    "    x['clean_msg'])['compound'] + (\n",
    "    0 if (score:=emosent_score(x['emoji'])) == 0 else score)\n",
    "    ) / ((2 if score != 0 else 1) if (neg.polarity_scores(\n",
    "    x['clean_msg'])['compound'] + pos.polarity_scores(\n",
    "    x['clean_msg'])['compound']) != 0 else 1), axis=1)\n",
    "\n",
    "# extract the compound score and label the sentiment\n",
    "chat['sentiment'] = chat['sentiment'].apply(lambda x: 'positive' if x > 0.05 else ('negative' if x < -0.05 else 'neutral'))\n",
    "\n",
    "chat.sample(5)"
   ]
  },
  {
   "attachments": {},
   "cell_type": "markdown",
   "metadata": {},
   "source": [
    "Sentiment distribution"
   ]
  },
  {
   "cell_type": "code",
   "execution_count": 22,
   "metadata": {},
   "outputs": [
    {
     "data": {
      "application/vnd.plotly.v1+json": {
       "config": {
        "plotlyServerURL": "https://plotly.com"
       },
       "data": [
        {
         "hole": 0.4,
         "hoverinfo": "label+value",
         "labels": [
          "Negative",
          "Neutral",
          "Positive"
         ],
         "marker": {
          "colors": [
           "#075E54",
           "#dcf8c6",
           "#25D366"
          ]
         },
         "type": "pie",
         "values": [
          498,
          929,
          702
         ]
        }
       ],
       "layout": {
        "template": {
         "data": {
          "bar": [
           {
            "error_x": {
             "color": "#2a3f5f"
            },
            "error_y": {
             "color": "#2a3f5f"
            },
            "marker": {
             "line": {
              "color": "white",
              "width": 0.5
             }
            },
            "type": "bar"
           }
          ],
          "barpolar": [
           {
            "marker": {
             "line": {
              "color": "white",
              "width": 0.5
             }
            },
            "type": "barpolar"
           }
          ],
          "carpet": [
           {
            "aaxis": {
             "endlinecolor": "#2a3f5f",
             "gridcolor": "#C8D4E3",
             "linecolor": "#C8D4E3",
             "minorgridcolor": "#C8D4E3",
             "startlinecolor": "#2a3f5f"
            },
            "baxis": {
             "endlinecolor": "#2a3f5f",
             "gridcolor": "#C8D4E3",
             "linecolor": "#C8D4E3",
             "minorgridcolor": "#C8D4E3",
             "startlinecolor": "#2a3f5f"
            },
            "type": "carpet"
           }
          ],
          "choropleth": [
           {
            "colorbar": {
             "outlinewidth": 0,
             "ticks": ""
            },
            "type": "choropleth"
           }
          ],
          "contour": [
           {
            "colorbar": {
             "outlinewidth": 0,
             "ticks": ""
            },
            "colorscale": [
             [
              0,
              "#0d0887"
             ],
             [
              0.1111111111111111,
              "#46039f"
             ],
             [
              0.2222222222222222,
              "#7201a8"
             ],
             [
              0.3333333333333333,
              "#9c179e"
             ],
             [
              0.4444444444444444,
              "#bd3786"
             ],
             [
              0.5555555555555556,
              "#d8576b"
             ],
             [
              0.6666666666666666,
              "#ed7953"
             ],
             [
              0.7777777777777778,
              "#fb9f3a"
             ],
             [
              0.8888888888888888,
              "#fdca26"
             ],
             [
              1,
              "#f0f921"
             ]
            ],
            "type": "contour"
           }
          ],
          "contourcarpet": [
           {
            "colorbar": {
             "outlinewidth": 0,
             "ticks": ""
            },
            "type": "contourcarpet"
           }
          ],
          "heatmap": [
           {
            "colorbar": {
             "outlinewidth": 0,
             "ticks": ""
            },
            "colorscale": [
             [
              0,
              "#0d0887"
             ],
             [
              0.1111111111111111,
              "#46039f"
             ],
             [
              0.2222222222222222,
              "#7201a8"
             ],
             [
              0.3333333333333333,
              "#9c179e"
             ],
             [
              0.4444444444444444,
              "#bd3786"
             ],
             [
              0.5555555555555556,
              "#d8576b"
             ],
             [
              0.6666666666666666,
              "#ed7953"
             ],
             [
              0.7777777777777778,
              "#fb9f3a"
             ],
             [
              0.8888888888888888,
              "#fdca26"
             ],
             [
              1,
              "#f0f921"
             ]
            ],
            "type": "heatmap"
           }
          ],
          "heatmapgl": [
           {
            "colorbar": {
             "outlinewidth": 0,
             "ticks": ""
            },
            "colorscale": [
             [
              0,
              "#0d0887"
             ],
             [
              0.1111111111111111,
              "#46039f"
             ],
             [
              0.2222222222222222,
              "#7201a8"
             ],
             [
              0.3333333333333333,
              "#9c179e"
             ],
             [
              0.4444444444444444,
              "#bd3786"
             ],
             [
              0.5555555555555556,
              "#d8576b"
             ],
             [
              0.6666666666666666,
              "#ed7953"
             ],
             [
              0.7777777777777778,
              "#fb9f3a"
             ],
             [
              0.8888888888888888,
              "#fdca26"
             ],
             [
              1,
              "#f0f921"
             ]
            ],
            "type": "heatmapgl"
           }
          ],
          "histogram": [
           {
            "marker": {
             "colorbar": {
              "outlinewidth": 0,
              "ticks": ""
             }
            },
            "type": "histogram"
           }
          ],
          "histogram2d": [
           {
            "colorbar": {
             "outlinewidth": 0,
             "ticks": ""
            },
            "colorscale": [
             [
              0,
              "#0d0887"
             ],
             [
              0.1111111111111111,
              "#46039f"
             ],
             [
              0.2222222222222222,
              "#7201a8"
             ],
             [
              0.3333333333333333,
              "#9c179e"
             ],
             [
              0.4444444444444444,
              "#bd3786"
             ],
             [
              0.5555555555555556,
              "#d8576b"
             ],
             [
              0.6666666666666666,
              "#ed7953"
             ],
             [
              0.7777777777777778,
              "#fb9f3a"
             ],
             [
              0.8888888888888888,
              "#fdca26"
             ],
             [
              1,
              "#f0f921"
             ]
            ],
            "type": "histogram2d"
           }
          ],
          "histogram2dcontour": [
           {
            "colorbar": {
             "outlinewidth": 0,
             "ticks": ""
            },
            "colorscale": [
             [
              0,
              "#0d0887"
             ],
             [
              0.1111111111111111,
              "#46039f"
             ],
             [
              0.2222222222222222,
              "#7201a8"
             ],
             [
              0.3333333333333333,
              "#9c179e"
             ],
             [
              0.4444444444444444,
              "#bd3786"
             ],
             [
              0.5555555555555556,
              "#d8576b"
             ],
             [
              0.6666666666666666,
              "#ed7953"
             ],
             [
              0.7777777777777778,
              "#fb9f3a"
             ],
             [
              0.8888888888888888,
              "#fdca26"
             ],
             [
              1,
              "#f0f921"
             ]
            ],
            "type": "histogram2dcontour"
           }
          ],
          "mesh3d": [
           {
            "colorbar": {
             "outlinewidth": 0,
             "ticks": ""
            },
            "type": "mesh3d"
           }
          ],
          "parcoords": [
           {
            "line": {
             "colorbar": {
              "outlinewidth": 0,
              "ticks": ""
             }
            },
            "type": "parcoords"
           }
          ],
          "pie": [
           {
            "automargin": true,
            "type": "pie"
           }
          ],
          "scatter": [
           {
            "marker": {
             "colorbar": {
              "outlinewidth": 0,
              "ticks": ""
             }
            },
            "type": "scatter"
           }
          ],
          "scatter3d": [
           {
            "line": {
             "colorbar": {
              "outlinewidth": 0,
              "ticks": ""
             }
            },
            "marker": {
             "colorbar": {
              "outlinewidth": 0,
              "ticks": ""
             }
            },
            "type": "scatter3d"
           }
          ],
          "scattercarpet": [
           {
            "marker": {
             "colorbar": {
              "outlinewidth": 0,
              "ticks": ""
             }
            },
            "type": "scattercarpet"
           }
          ],
          "scattergeo": [
           {
            "marker": {
             "colorbar": {
              "outlinewidth": 0,
              "ticks": ""
             }
            },
            "type": "scattergeo"
           }
          ],
          "scattergl": [
           {
            "marker": {
             "colorbar": {
              "outlinewidth": 0,
              "ticks": ""
             }
            },
            "type": "scattergl"
           }
          ],
          "scattermapbox": [
           {
            "marker": {
             "colorbar": {
              "outlinewidth": 0,
              "ticks": ""
             }
            },
            "type": "scattermapbox"
           }
          ],
          "scatterpolar": [
           {
            "marker": {
             "colorbar": {
              "outlinewidth": 0,
              "ticks": ""
             }
            },
            "type": "scatterpolar"
           }
          ],
          "scatterpolargl": [
           {
            "marker": {
             "colorbar": {
              "outlinewidth": 0,
              "ticks": ""
             }
            },
            "type": "scatterpolargl"
           }
          ],
          "scatterternary": [
           {
            "marker": {
             "colorbar": {
              "outlinewidth": 0,
              "ticks": ""
             }
            },
            "type": "scatterternary"
           }
          ],
          "surface": [
           {
            "colorbar": {
             "outlinewidth": 0,
             "ticks": ""
            },
            "colorscale": [
             [
              0,
              "#0d0887"
             ],
             [
              0.1111111111111111,
              "#46039f"
             ],
             [
              0.2222222222222222,
              "#7201a8"
             ],
             [
              0.3333333333333333,
              "#9c179e"
             ],
             [
              0.4444444444444444,
              "#bd3786"
             ],
             [
              0.5555555555555556,
              "#d8576b"
             ],
             [
              0.6666666666666666,
              "#ed7953"
             ],
             [
              0.7777777777777778,
              "#fb9f3a"
             ],
             [
              0.8888888888888888,
              "#fdca26"
             ],
             [
              1,
              "#f0f921"
             ]
            ],
            "type": "surface"
           }
          ],
          "table": [
           {
            "cells": {
             "fill": {
              "color": "#EBF0F8"
             },
             "line": {
              "color": "white"
             }
            },
            "header": {
             "fill": {
              "color": "#C8D4E3"
             },
             "line": {
              "color": "white"
             }
            },
            "type": "table"
           }
          ]
         },
         "layout": {
          "annotationdefaults": {
           "arrowcolor": "#2a3f5f",
           "arrowhead": 0,
           "arrowwidth": 1
          },
          "autotypenumbers": "strict",
          "coloraxis": {
           "colorbar": {
            "outlinewidth": 0,
            "ticks": ""
           }
          },
          "colorscale": {
           "diverging": [
            [
             0,
             "#8e0152"
            ],
            [
             0.1,
             "#c51b7d"
            ],
            [
             0.2,
             "#de77ae"
            ],
            [
             0.3,
             "#f1b6da"
            ],
            [
             0.4,
             "#fde0ef"
            ],
            [
             0.5,
             "#f7f7f7"
            ],
            [
             0.6,
             "#e6f5d0"
            ],
            [
             0.7,
             "#b8e186"
            ],
            [
             0.8,
             "#7fbc41"
            ],
            [
             0.9,
             "#4d9221"
            ],
            [
             1,
             "#276419"
            ]
           ],
           "sequential": [
            [
             0,
             "#0d0887"
            ],
            [
             0.1111111111111111,
             "#46039f"
            ],
            [
             0.2222222222222222,
             "#7201a8"
            ],
            [
             0.3333333333333333,
             "#9c179e"
            ],
            [
             0.4444444444444444,
             "#bd3786"
            ],
            [
             0.5555555555555556,
             "#d8576b"
            ],
            [
             0.6666666666666666,
             "#ed7953"
            ],
            [
             0.7777777777777778,
             "#fb9f3a"
            ],
            [
             0.8888888888888888,
             "#fdca26"
            ],
            [
             1,
             "#f0f921"
            ]
           ],
           "sequentialminus": [
            [
             0,
             "#0d0887"
            ],
            [
             0.1111111111111111,
             "#46039f"
            ],
            [
             0.2222222222222222,
             "#7201a8"
            ],
            [
             0.3333333333333333,
             "#9c179e"
            ],
            [
             0.4444444444444444,
             "#bd3786"
            ],
            [
             0.5555555555555556,
             "#d8576b"
            ],
            [
             0.6666666666666666,
             "#ed7953"
            ],
            [
             0.7777777777777778,
             "#fb9f3a"
            ],
            [
             0.8888888888888888,
             "#fdca26"
            ],
            [
             1,
             "#f0f921"
            ]
           ]
          },
          "colorway": [
           "#636efa",
           "#EF553B",
           "#00cc96",
           "#ab63fa",
           "#FFA15A",
           "#19d3f3",
           "#FF6692",
           "#B6E880",
           "#FF97FF",
           "#FECB52"
          ],
          "font": {
           "color": "#2a3f5f"
          },
          "geo": {
           "bgcolor": "white",
           "lakecolor": "white",
           "landcolor": "white",
           "showlakes": true,
           "showland": true,
           "subunitcolor": "#C8D4E3"
          },
          "hoverlabel": {
           "align": "left"
          },
          "hovermode": "closest",
          "mapbox": {
           "style": "light"
          },
          "paper_bgcolor": "white",
          "plot_bgcolor": "white",
          "polar": {
           "angularaxis": {
            "gridcolor": "#EBF0F8",
            "linecolor": "#EBF0F8",
            "ticks": ""
           },
           "bgcolor": "white",
           "radialaxis": {
            "gridcolor": "#EBF0F8",
            "linecolor": "#EBF0F8",
            "ticks": ""
           }
          },
          "scene": {
           "xaxis": {
            "backgroundcolor": "white",
            "gridcolor": "#DFE8F3",
            "gridwidth": 2,
            "linecolor": "#EBF0F8",
            "showbackground": true,
            "ticks": "",
            "zerolinecolor": "#EBF0F8"
           },
           "yaxis": {
            "backgroundcolor": "white",
            "gridcolor": "#DFE8F3",
            "gridwidth": 2,
            "linecolor": "#EBF0F8",
            "showbackground": true,
            "ticks": "",
            "zerolinecolor": "#EBF0F8"
           },
           "zaxis": {
            "backgroundcolor": "white",
            "gridcolor": "#DFE8F3",
            "gridwidth": 2,
            "linecolor": "#EBF0F8",
            "showbackground": true,
            "ticks": "",
            "zerolinecolor": "#EBF0F8"
           }
          },
          "shapedefaults": {
           "line": {
            "color": "#2a3f5f"
           }
          },
          "ternary": {
           "aaxis": {
            "gridcolor": "#DFE8F3",
            "linecolor": "#A2B1C6",
            "ticks": ""
           },
           "baxis": {
            "gridcolor": "#DFE8F3",
            "linecolor": "#A2B1C6",
            "ticks": ""
           },
           "bgcolor": "white",
           "caxis": {
            "gridcolor": "#DFE8F3",
            "linecolor": "#A2B1C6",
            "ticks": ""
           }
          },
          "title": {
           "x": 0.05
          },
          "xaxis": {
           "automargin": true,
           "gridcolor": "#EBF0F8",
           "linecolor": "#EBF0F8",
           "ticks": "",
           "title": {
            "standoff": 15
           },
           "zerolinecolor": "#EBF0F8",
           "zerolinewidth": 2
          },
          "yaxis": {
           "automargin": true,
           "gridcolor": "#EBF0F8",
           "linecolor": "#EBF0F8",
           "ticks": "",
           "title": {
            "standoff": 15
           },
           "zerolinecolor": "#EBF0F8",
           "zerolinewidth": 2
          }
         }
        }
       }
      }
     },
     "metadata": {},
     "output_type": "display_data"
    }
   ],
   "source": [
    "fig = go.Figure(data=go.Pie(labels=['Negative', 'Neutral', 'Positive'],\n",
    "                            values=chat.groupby('sentiment').count()[['message']].reset_index()['message'],\n",
    "                            hole=.4, marker=dict(colors=['#075E54','#dcf8c6', '#25D366', ])))\n",
    "fig.update_traces(hoverinfo='label+value')\n",
    "py.plot(fig, filename='Sentiment distribution', auto_open=False)\n",
    "fig"
   ]
  },
  {
   "cell_type": "code",
   "execution_count": 23,
   "metadata": {},
   "outputs": [
    {
     "data": {
      "application/vnd.plotly.v1+json": {
       "config": {
        "plotlyServerURL": "https://plotly.com"
       },
       "data": [
        {
         "domain": {
          "x": [
           0,
           0.45
          ],
          "y": [
           0,
           1
          ]
         },
         "hole": 0.4,
         "hoverinfo": "label+value",
         "labels": [
          "Negative",
          "Neutral",
          "Positive"
         ],
         "marker": {
          "colors": [
           "#075E54",
           "#dcf8c6",
           "#25D366"
          ]
         },
         "title": {
          "font": {
           "size": 16
          },
          "text": "<b>without</b>"
         },
         "type": "pie",
         "values": [
          431,
          892,
          523
         ]
        },
        {
         "domain": {
          "x": [
           0.55,
           1
          ],
          "y": [
           0,
           1
          ]
         },
         "hole": 0.4,
         "hoverinfo": "label+value",
         "labels": [
          "Negative",
          "Neutral",
          "Positive"
         ],
         "marker": {
          "colors": [
           "#075E54",
           "#dcf8c6",
           "#25D366"
          ]
         },
         "title": {
          "font": {
           "size": 16
          },
          "text": "<b>with</b>"
         },
         "type": "pie",
         "values": [
          67,
          37,
          179
         ]
        }
       ],
       "layout": {
        "template": {
         "data": {
          "bar": [
           {
            "error_x": {
             "color": "#2a3f5f"
            },
            "error_y": {
             "color": "#2a3f5f"
            },
            "marker": {
             "line": {
              "color": "white",
              "width": 0.5
             }
            },
            "type": "bar"
           }
          ],
          "barpolar": [
           {
            "marker": {
             "line": {
              "color": "white",
              "width": 0.5
             }
            },
            "type": "barpolar"
           }
          ],
          "carpet": [
           {
            "aaxis": {
             "endlinecolor": "#2a3f5f",
             "gridcolor": "#C8D4E3",
             "linecolor": "#C8D4E3",
             "minorgridcolor": "#C8D4E3",
             "startlinecolor": "#2a3f5f"
            },
            "baxis": {
             "endlinecolor": "#2a3f5f",
             "gridcolor": "#C8D4E3",
             "linecolor": "#C8D4E3",
             "minorgridcolor": "#C8D4E3",
             "startlinecolor": "#2a3f5f"
            },
            "type": "carpet"
           }
          ],
          "choropleth": [
           {
            "colorbar": {
             "outlinewidth": 0,
             "ticks": ""
            },
            "type": "choropleth"
           }
          ],
          "contour": [
           {
            "colorbar": {
             "outlinewidth": 0,
             "ticks": ""
            },
            "colorscale": [
             [
              0,
              "#0d0887"
             ],
             [
              0.1111111111111111,
              "#46039f"
             ],
             [
              0.2222222222222222,
              "#7201a8"
             ],
             [
              0.3333333333333333,
              "#9c179e"
             ],
             [
              0.4444444444444444,
              "#bd3786"
             ],
             [
              0.5555555555555556,
              "#d8576b"
             ],
             [
              0.6666666666666666,
              "#ed7953"
             ],
             [
              0.7777777777777778,
              "#fb9f3a"
             ],
             [
              0.8888888888888888,
              "#fdca26"
             ],
             [
              1,
              "#f0f921"
             ]
            ],
            "type": "contour"
           }
          ],
          "contourcarpet": [
           {
            "colorbar": {
             "outlinewidth": 0,
             "ticks": ""
            },
            "type": "contourcarpet"
           }
          ],
          "heatmap": [
           {
            "colorbar": {
             "outlinewidth": 0,
             "ticks": ""
            },
            "colorscale": [
             [
              0,
              "#0d0887"
             ],
             [
              0.1111111111111111,
              "#46039f"
             ],
             [
              0.2222222222222222,
              "#7201a8"
             ],
             [
              0.3333333333333333,
              "#9c179e"
             ],
             [
              0.4444444444444444,
              "#bd3786"
             ],
             [
              0.5555555555555556,
              "#d8576b"
             ],
             [
              0.6666666666666666,
              "#ed7953"
             ],
             [
              0.7777777777777778,
              "#fb9f3a"
             ],
             [
              0.8888888888888888,
              "#fdca26"
             ],
             [
              1,
              "#f0f921"
             ]
            ],
            "type": "heatmap"
           }
          ],
          "heatmapgl": [
           {
            "colorbar": {
             "outlinewidth": 0,
             "ticks": ""
            },
            "colorscale": [
             [
              0,
              "#0d0887"
             ],
             [
              0.1111111111111111,
              "#46039f"
             ],
             [
              0.2222222222222222,
              "#7201a8"
             ],
             [
              0.3333333333333333,
              "#9c179e"
             ],
             [
              0.4444444444444444,
              "#bd3786"
             ],
             [
              0.5555555555555556,
              "#d8576b"
             ],
             [
              0.6666666666666666,
              "#ed7953"
             ],
             [
              0.7777777777777778,
              "#fb9f3a"
             ],
             [
              0.8888888888888888,
              "#fdca26"
             ],
             [
              1,
              "#f0f921"
             ]
            ],
            "type": "heatmapgl"
           }
          ],
          "histogram": [
           {
            "marker": {
             "colorbar": {
              "outlinewidth": 0,
              "ticks": ""
             }
            },
            "type": "histogram"
           }
          ],
          "histogram2d": [
           {
            "colorbar": {
             "outlinewidth": 0,
             "ticks": ""
            },
            "colorscale": [
             [
              0,
              "#0d0887"
             ],
             [
              0.1111111111111111,
              "#46039f"
             ],
             [
              0.2222222222222222,
              "#7201a8"
             ],
             [
              0.3333333333333333,
              "#9c179e"
             ],
             [
              0.4444444444444444,
              "#bd3786"
             ],
             [
              0.5555555555555556,
              "#d8576b"
             ],
             [
              0.6666666666666666,
              "#ed7953"
             ],
             [
              0.7777777777777778,
              "#fb9f3a"
             ],
             [
              0.8888888888888888,
              "#fdca26"
             ],
             [
              1,
              "#f0f921"
             ]
            ],
            "type": "histogram2d"
           }
          ],
          "histogram2dcontour": [
           {
            "colorbar": {
             "outlinewidth": 0,
             "ticks": ""
            },
            "colorscale": [
             [
              0,
              "#0d0887"
             ],
             [
              0.1111111111111111,
              "#46039f"
             ],
             [
              0.2222222222222222,
              "#7201a8"
             ],
             [
              0.3333333333333333,
              "#9c179e"
             ],
             [
              0.4444444444444444,
              "#bd3786"
             ],
             [
              0.5555555555555556,
              "#d8576b"
             ],
             [
              0.6666666666666666,
              "#ed7953"
             ],
             [
              0.7777777777777778,
              "#fb9f3a"
             ],
             [
              0.8888888888888888,
              "#fdca26"
             ],
             [
              1,
              "#f0f921"
             ]
            ],
            "type": "histogram2dcontour"
           }
          ],
          "mesh3d": [
           {
            "colorbar": {
             "outlinewidth": 0,
             "ticks": ""
            },
            "type": "mesh3d"
           }
          ],
          "parcoords": [
           {
            "line": {
             "colorbar": {
              "outlinewidth": 0,
              "ticks": ""
             }
            },
            "type": "parcoords"
           }
          ],
          "pie": [
           {
            "automargin": true,
            "type": "pie"
           }
          ],
          "scatter": [
           {
            "marker": {
             "colorbar": {
              "outlinewidth": 0,
              "ticks": ""
             }
            },
            "type": "scatter"
           }
          ],
          "scatter3d": [
           {
            "line": {
             "colorbar": {
              "outlinewidth": 0,
              "ticks": ""
             }
            },
            "marker": {
             "colorbar": {
              "outlinewidth": 0,
              "ticks": ""
             }
            },
            "type": "scatter3d"
           }
          ],
          "scattercarpet": [
           {
            "marker": {
             "colorbar": {
              "outlinewidth": 0,
              "ticks": ""
             }
            },
            "type": "scattercarpet"
           }
          ],
          "scattergeo": [
           {
            "marker": {
             "colorbar": {
              "outlinewidth": 0,
              "ticks": ""
             }
            },
            "type": "scattergeo"
           }
          ],
          "scattergl": [
           {
            "marker": {
             "colorbar": {
              "outlinewidth": 0,
              "ticks": ""
             }
            },
            "type": "scattergl"
           }
          ],
          "scattermapbox": [
           {
            "marker": {
             "colorbar": {
              "outlinewidth": 0,
              "ticks": ""
             }
            },
            "type": "scattermapbox"
           }
          ],
          "scatterpolar": [
           {
            "marker": {
             "colorbar": {
              "outlinewidth": 0,
              "ticks": ""
             }
            },
            "type": "scatterpolar"
           }
          ],
          "scatterpolargl": [
           {
            "marker": {
             "colorbar": {
              "outlinewidth": 0,
              "ticks": ""
             }
            },
            "type": "scatterpolargl"
           }
          ],
          "scatterternary": [
           {
            "marker": {
             "colorbar": {
              "outlinewidth": 0,
              "ticks": ""
             }
            },
            "type": "scatterternary"
           }
          ],
          "surface": [
           {
            "colorbar": {
             "outlinewidth": 0,
             "ticks": ""
            },
            "colorscale": [
             [
              0,
              "#0d0887"
             ],
             [
              0.1111111111111111,
              "#46039f"
             ],
             [
              0.2222222222222222,
              "#7201a8"
             ],
             [
              0.3333333333333333,
              "#9c179e"
             ],
             [
              0.4444444444444444,
              "#bd3786"
             ],
             [
              0.5555555555555556,
              "#d8576b"
             ],
             [
              0.6666666666666666,
              "#ed7953"
             ],
             [
              0.7777777777777778,
              "#fb9f3a"
             ],
             [
              0.8888888888888888,
              "#fdca26"
             ],
             [
              1,
              "#f0f921"
             ]
            ],
            "type": "surface"
           }
          ],
          "table": [
           {
            "cells": {
             "fill": {
              "color": "#EBF0F8"
             },
             "line": {
              "color": "white"
             }
            },
            "header": {
             "fill": {
              "color": "#C8D4E3"
             },
             "line": {
              "color": "white"
             }
            },
            "type": "table"
           }
          ]
         },
         "layout": {
          "annotationdefaults": {
           "arrowcolor": "#2a3f5f",
           "arrowhead": 0,
           "arrowwidth": 1
          },
          "autotypenumbers": "strict",
          "coloraxis": {
           "colorbar": {
            "outlinewidth": 0,
            "ticks": ""
           }
          },
          "colorscale": {
           "diverging": [
            [
             0,
             "#8e0152"
            ],
            [
             0.1,
             "#c51b7d"
            ],
            [
             0.2,
             "#de77ae"
            ],
            [
             0.3,
             "#f1b6da"
            ],
            [
             0.4,
             "#fde0ef"
            ],
            [
             0.5,
             "#f7f7f7"
            ],
            [
             0.6,
             "#e6f5d0"
            ],
            [
             0.7,
             "#b8e186"
            ],
            [
             0.8,
             "#7fbc41"
            ],
            [
             0.9,
             "#4d9221"
            ],
            [
             1,
             "#276419"
            ]
           ],
           "sequential": [
            [
             0,
             "#0d0887"
            ],
            [
             0.1111111111111111,
             "#46039f"
            ],
            [
             0.2222222222222222,
             "#7201a8"
            ],
            [
             0.3333333333333333,
             "#9c179e"
            ],
            [
             0.4444444444444444,
             "#bd3786"
            ],
            [
             0.5555555555555556,
             "#d8576b"
            ],
            [
             0.6666666666666666,
             "#ed7953"
            ],
            [
             0.7777777777777778,
             "#fb9f3a"
            ],
            [
             0.8888888888888888,
             "#fdca26"
            ],
            [
             1,
             "#f0f921"
            ]
           ],
           "sequentialminus": [
            [
             0,
             "#0d0887"
            ],
            [
             0.1111111111111111,
             "#46039f"
            ],
            [
             0.2222222222222222,
             "#7201a8"
            ],
            [
             0.3333333333333333,
             "#9c179e"
            ],
            [
             0.4444444444444444,
             "#bd3786"
            ],
            [
             0.5555555555555556,
             "#d8576b"
            ],
            [
             0.6666666666666666,
             "#ed7953"
            ],
            [
             0.7777777777777778,
             "#fb9f3a"
            ],
            [
             0.8888888888888888,
             "#fdca26"
            ],
            [
             1,
             "#f0f921"
            ]
           ]
          },
          "colorway": [
           "#636efa",
           "#EF553B",
           "#00cc96",
           "#ab63fa",
           "#FFA15A",
           "#19d3f3",
           "#FF6692",
           "#B6E880",
           "#FF97FF",
           "#FECB52"
          ],
          "font": {
           "color": "#2a3f5f"
          },
          "geo": {
           "bgcolor": "white",
           "lakecolor": "white",
           "landcolor": "white",
           "showlakes": true,
           "showland": true,
           "subunitcolor": "#C8D4E3"
          },
          "hoverlabel": {
           "align": "left"
          },
          "hovermode": "closest",
          "mapbox": {
           "style": "light"
          },
          "paper_bgcolor": "white",
          "plot_bgcolor": "white",
          "polar": {
           "angularaxis": {
            "gridcolor": "#EBF0F8",
            "linecolor": "#EBF0F8",
            "ticks": ""
           },
           "bgcolor": "white",
           "radialaxis": {
            "gridcolor": "#EBF0F8",
            "linecolor": "#EBF0F8",
            "ticks": ""
           }
          },
          "scene": {
           "xaxis": {
            "backgroundcolor": "white",
            "gridcolor": "#DFE8F3",
            "gridwidth": 2,
            "linecolor": "#EBF0F8",
            "showbackground": true,
            "ticks": "",
            "zerolinecolor": "#EBF0F8"
           },
           "yaxis": {
            "backgroundcolor": "white",
            "gridcolor": "#DFE8F3",
            "gridwidth": 2,
            "linecolor": "#EBF0F8",
            "showbackground": true,
            "ticks": "",
            "zerolinecolor": "#EBF0F8"
           },
           "zaxis": {
            "backgroundcolor": "white",
            "gridcolor": "#DFE8F3",
            "gridwidth": 2,
            "linecolor": "#EBF0F8",
            "showbackground": true,
            "ticks": "",
            "zerolinecolor": "#EBF0F8"
           }
          },
          "shapedefaults": {
           "line": {
            "color": "#2a3f5f"
           }
          },
          "ternary": {
           "aaxis": {
            "gridcolor": "#DFE8F3",
            "linecolor": "#A2B1C6",
            "ticks": ""
           },
           "baxis": {
            "gridcolor": "#DFE8F3",
            "linecolor": "#A2B1C6",
            "ticks": ""
           },
           "bgcolor": "white",
           "caxis": {
            "gridcolor": "#DFE8F3",
            "linecolor": "#A2B1C6",
            "ticks": ""
           }
          },
          "title": {
           "x": 0.05
          },
          "xaxis": {
           "automargin": true,
           "gridcolor": "#EBF0F8",
           "linecolor": "#EBF0F8",
           "ticks": "",
           "title": {
            "standoff": 15
           },
           "zerolinecolor": "#EBF0F8",
           "zerolinewidth": 2
          },
          "yaxis": {
           "automargin": true,
           "gridcolor": "#EBF0F8",
           "linecolor": "#EBF0F8",
           "ticks": "",
           "title": {
            "standoff": 15
           },
           "zerolinecolor": "#EBF0F8",
           "zerolinewidth": 2
          }
         }
        }
       }
      }
     },
     "metadata": {},
     "output_type": "display_data"
    }
   ],
   "source": [
    "fig = make_subplots(rows=1, cols=2, specs=[[{'type':'domain'}, {'type':'domain'}]])\n",
    "\n",
    "fig.add_trace(go.Pie(labels=['Negative', 'Neutral', 'Positive'],\n",
    "                     values=chat[chat.emoji == ''].groupby('sentiment').count()[['message']].reset_index()['message'],\n",
    "                     marker=dict(colors=['#075E54','#dcf8c6', '#25D366', ]),\n",
    "                     title=dict(text='<b>without</b>', font=dict(size=16))), 1, 1)\n",
    "fig.add_trace(go.Pie(labels=['Negative', 'Neutral', 'Positive'],\n",
    "                     values=chat[chat.emoji != ''].groupby('sentiment').count()[['message']].reset_index()['message'],\n",
    "                     hole=.4, marker=dict(colors=['#075E54','#dcf8c6', '#25D366', ]),\n",
    "                     title=dict(text='<b>with</b>', font=dict(size=16))), 1, 2)\n",
    "\n",
    "fig.update_traces(hole=.4, hoverinfo='label+value')\n",
    "py.plot(fig, filename='Sentiment of chat with & without emojis', auto_open=False)\n",
    "fig"
   ]
  },
  {
   "attachments": {},
   "cell_type": "markdown",
   "metadata": {},
   "source": [
    "User message sentiment heatmap"
   ]
  },
  {
   "cell_type": "code",
   "execution_count": 24,
   "metadata": {},
   "outputs": [
    {
     "data": {
      "application/vnd.plotly.v1+json": {
       "config": {
        "plotlyServerURL": "https://plotly.com"
       },
       "data": [
        {
         "colorscale": [
          [
           0,
           "rgb(247,252,245)"
          ],
          [
           0.125,
           "rgb(229,245,224)"
          ],
          [
           0.25,
           "rgb(199,233,192)"
          ],
          [
           0.375,
           "rgb(161,217,155)"
          ],
          [
           0.5,
           "rgb(116,196,118)"
          ],
          [
           0.625,
           "rgb(65,171,93)"
          ],
          [
           0.75,
           "rgb(35,139,69)"
          ],
          [
           0.875,
           "rgb(0,109,44)"
          ],
          [
           1,
           "rgb(0,68,27)"
          ]
         ],
         "hovertemplate": "Interventions<extra>%{z:.2%}</extra>",
         "type": "heatmap",
         "x": [
          "adhit",
          "alex",
          "alit_gor",
          "alit_jak",
          "aris",
          "ely",
          "erland",
          "fawaz",
          "ichsan",
          "kajal",
          "mirza",
          "rika",
          "valeri"
         ],
         "y": [
          "negative",
          "neutral",
          "positive"
         ],
         "z": [
          [
           0.225,
           0.11428571428571428,
           0.21212121212121213,
           0.23809523809523808,
           0.18421052631578946,
           0.20606060606060606,
           0.3406113537117904,
           0.15789473684210525,
           0.16666666666666666,
           0.21884984025559107,
           0.17857142857142858,
           0.1702127659574468,
           0.2679738562091503
          ],
          [
           0.3,
           0.3142857142857143,
           0.5454545454545454,
           0.5476190476190477,
           0.4956140350877193,
           0.46060606060606063,
           0.44541484716157204,
           0.47368421052631576,
           0.18518518518518517,
           0.4584664536741214,
           0.5,
           0.5106382978723404,
           0.3747276688453159
          ],
          [
           0.475,
           0.5714285714285714,
           0.24242424242424243,
           0.21428571428571427,
           0.3201754385964912,
           0.3333333333333333,
           0.21397379912663755,
           0.3684210526315789,
           0.6481481481481481,
           0.3226837060702875,
           0.32142857142857145,
           0.3191489361702128,
           0.3572984749455338
          ]
         ]
        }
       ],
       "layout": {
        "template": {
         "data": {
          "bar": [
           {
            "error_x": {
             "color": "#2a3f5f"
            },
            "error_y": {
             "color": "#2a3f5f"
            },
            "marker": {
             "line": {
              "color": "white",
              "width": 0.5
             }
            },
            "type": "bar"
           }
          ],
          "barpolar": [
           {
            "marker": {
             "line": {
              "color": "white",
              "width": 0.5
             }
            },
            "type": "barpolar"
           }
          ],
          "carpet": [
           {
            "aaxis": {
             "endlinecolor": "#2a3f5f",
             "gridcolor": "#C8D4E3",
             "linecolor": "#C8D4E3",
             "minorgridcolor": "#C8D4E3",
             "startlinecolor": "#2a3f5f"
            },
            "baxis": {
             "endlinecolor": "#2a3f5f",
             "gridcolor": "#C8D4E3",
             "linecolor": "#C8D4E3",
             "minorgridcolor": "#C8D4E3",
             "startlinecolor": "#2a3f5f"
            },
            "type": "carpet"
           }
          ],
          "choropleth": [
           {
            "colorbar": {
             "outlinewidth": 0,
             "ticks": ""
            },
            "type": "choropleth"
           }
          ],
          "contour": [
           {
            "colorbar": {
             "outlinewidth": 0,
             "ticks": ""
            },
            "colorscale": [
             [
              0,
              "#0d0887"
             ],
             [
              0.1111111111111111,
              "#46039f"
             ],
             [
              0.2222222222222222,
              "#7201a8"
             ],
             [
              0.3333333333333333,
              "#9c179e"
             ],
             [
              0.4444444444444444,
              "#bd3786"
             ],
             [
              0.5555555555555556,
              "#d8576b"
             ],
             [
              0.6666666666666666,
              "#ed7953"
             ],
             [
              0.7777777777777778,
              "#fb9f3a"
             ],
             [
              0.8888888888888888,
              "#fdca26"
             ],
             [
              1,
              "#f0f921"
             ]
            ],
            "type": "contour"
           }
          ],
          "contourcarpet": [
           {
            "colorbar": {
             "outlinewidth": 0,
             "ticks": ""
            },
            "type": "contourcarpet"
           }
          ],
          "heatmap": [
           {
            "colorbar": {
             "outlinewidth": 0,
             "ticks": ""
            },
            "colorscale": [
             [
              0,
              "#0d0887"
             ],
             [
              0.1111111111111111,
              "#46039f"
             ],
             [
              0.2222222222222222,
              "#7201a8"
             ],
             [
              0.3333333333333333,
              "#9c179e"
             ],
             [
              0.4444444444444444,
              "#bd3786"
             ],
             [
              0.5555555555555556,
              "#d8576b"
             ],
             [
              0.6666666666666666,
              "#ed7953"
             ],
             [
              0.7777777777777778,
              "#fb9f3a"
             ],
             [
              0.8888888888888888,
              "#fdca26"
             ],
             [
              1,
              "#f0f921"
             ]
            ],
            "type": "heatmap"
           }
          ],
          "heatmapgl": [
           {
            "colorbar": {
             "outlinewidth": 0,
             "ticks": ""
            },
            "colorscale": [
             [
              0,
              "#0d0887"
             ],
             [
              0.1111111111111111,
              "#46039f"
             ],
             [
              0.2222222222222222,
              "#7201a8"
             ],
             [
              0.3333333333333333,
              "#9c179e"
             ],
             [
              0.4444444444444444,
              "#bd3786"
             ],
             [
              0.5555555555555556,
              "#d8576b"
             ],
             [
              0.6666666666666666,
              "#ed7953"
             ],
             [
              0.7777777777777778,
              "#fb9f3a"
             ],
             [
              0.8888888888888888,
              "#fdca26"
             ],
             [
              1,
              "#f0f921"
             ]
            ],
            "type": "heatmapgl"
           }
          ],
          "histogram": [
           {
            "marker": {
             "colorbar": {
              "outlinewidth": 0,
              "ticks": ""
             }
            },
            "type": "histogram"
           }
          ],
          "histogram2d": [
           {
            "colorbar": {
             "outlinewidth": 0,
             "ticks": ""
            },
            "colorscale": [
             [
              0,
              "#0d0887"
             ],
             [
              0.1111111111111111,
              "#46039f"
             ],
             [
              0.2222222222222222,
              "#7201a8"
             ],
             [
              0.3333333333333333,
              "#9c179e"
             ],
             [
              0.4444444444444444,
              "#bd3786"
             ],
             [
              0.5555555555555556,
              "#d8576b"
             ],
             [
              0.6666666666666666,
              "#ed7953"
             ],
             [
              0.7777777777777778,
              "#fb9f3a"
             ],
             [
              0.8888888888888888,
              "#fdca26"
             ],
             [
              1,
              "#f0f921"
             ]
            ],
            "type": "histogram2d"
           }
          ],
          "histogram2dcontour": [
           {
            "colorbar": {
             "outlinewidth": 0,
             "ticks": ""
            },
            "colorscale": [
             [
              0,
              "#0d0887"
             ],
             [
              0.1111111111111111,
              "#46039f"
             ],
             [
              0.2222222222222222,
              "#7201a8"
             ],
             [
              0.3333333333333333,
              "#9c179e"
             ],
             [
              0.4444444444444444,
              "#bd3786"
             ],
             [
              0.5555555555555556,
              "#d8576b"
             ],
             [
              0.6666666666666666,
              "#ed7953"
             ],
             [
              0.7777777777777778,
              "#fb9f3a"
             ],
             [
              0.8888888888888888,
              "#fdca26"
             ],
             [
              1,
              "#f0f921"
             ]
            ],
            "type": "histogram2dcontour"
           }
          ],
          "mesh3d": [
           {
            "colorbar": {
             "outlinewidth": 0,
             "ticks": ""
            },
            "type": "mesh3d"
           }
          ],
          "parcoords": [
           {
            "line": {
             "colorbar": {
              "outlinewidth": 0,
              "ticks": ""
             }
            },
            "type": "parcoords"
           }
          ],
          "pie": [
           {
            "automargin": true,
            "type": "pie"
           }
          ],
          "scatter": [
           {
            "marker": {
             "colorbar": {
              "outlinewidth": 0,
              "ticks": ""
             }
            },
            "type": "scatter"
           }
          ],
          "scatter3d": [
           {
            "line": {
             "colorbar": {
              "outlinewidth": 0,
              "ticks": ""
             }
            },
            "marker": {
             "colorbar": {
              "outlinewidth": 0,
              "ticks": ""
             }
            },
            "type": "scatter3d"
           }
          ],
          "scattercarpet": [
           {
            "marker": {
             "colorbar": {
              "outlinewidth": 0,
              "ticks": ""
             }
            },
            "type": "scattercarpet"
           }
          ],
          "scattergeo": [
           {
            "marker": {
             "colorbar": {
              "outlinewidth": 0,
              "ticks": ""
             }
            },
            "type": "scattergeo"
           }
          ],
          "scattergl": [
           {
            "marker": {
             "colorbar": {
              "outlinewidth": 0,
              "ticks": ""
             }
            },
            "type": "scattergl"
           }
          ],
          "scattermapbox": [
           {
            "marker": {
             "colorbar": {
              "outlinewidth": 0,
              "ticks": ""
             }
            },
            "type": "scattermapbox"
           }
          ],
          "scatterpolar": [
           {
            "marker": {
             "colorbar": {
              "outlinewidth": 0,
              "ticks": ""
             }
            },
            "type": "scatterpolar"
           }
          ],
          "scatterpolargl": [
           {
            "marker": {
             "colorbar": {
              "outlinewidth": 0,
              "ticks": ""
             }
            },
            "type": "scatterpolargl"
           }
          ],
          "scatterternary": [
           {
            "marker": {
             "colorbar": {
              "outlinewidth": 0,
              "ticks": ""
             }
            },
            "type": "scatterternary"
           }
          ],
          "surface": [
           {
            "colorbar": {
             "outlinewidth": 0,
             "ticks": ""
            },
            "colorscale": [
             [
              0,
              "#0d0887"
             ],
             [
              0.1111111111111111,
              "#46039f"
             ],
             [
              0.2222222222222222,
              "#7201a8"
             ],
             [
              0.3333333333333333,
              "#9c179e"
             ],
             [
              0.4444444444444444,
              "#bd3786"
             ],
             [
              0.5555555555555556,
              "#d8576b"
             ],
             [
              0.6666666666666666,
              "#ed7953"
             ],
             [
              0.7777777777777778,
              "#fb9f3a"
             ],
             [
              0.8888888888888888,
              "#fdca26"
             ],
             [
              1,
              "#f0f921"
             ]
            ],
            "type": "surface"
           }
          ],
          "table": [
           {
            "cells": {
             "fill": {
              "color": "#EBF0F8"
             },
             "line": {
              "color": "white"
             }
            },
            "header": {
             "fill": {
              "color": "#C8D4E3"
             },
             "line": {
              "color": "white"
             }
            },
            "type": "table"
           }
          ]
         },
         "layout": {
          "annotationdefaults": {
           "arrowcolor": "#2a3f5f",
           "arrowhead": 0,
           "arrowwidth": 1
          },
          "autotypenumbers": "strict",
          "coloraxis": {
           "colorbar": {
            "outlinewidth": 0,
            "ticks": ""
           }
          },
          "colorscale": {
           "diverging": [
            [
             0,
             "#8e0152"
            ],
            [
             0.1,
             "#c51b7d"
            ],
            [
             0.2,
             "#de77ae"
            ],
            [
             0.3,
             "#f1b6da"
            ],
            [
             0.4,
             "#fde0ef"
            ],
            [
             0.5,
             "#f7f7f7"
            ],
            [
             0.6,
             "#e6f5d0"
            ],
            [
             0.7,
             "#b8e186"
            ],
            [
             0.8,
             "#7fbc41"
            ],
            [
             0.9,
             "#4d9221"
            ],
            [
             1,
             "#276419"
            ]
           ],
           "sequential": [
            [
             0,
             "#0d0887"
            ],
            [
             0.1111111111111111,
             "#46039f"
            ],
            [
             0.2222222222222222,
             "#7201a8"
            ],
            [
             0.3333333333333333,
             "#9c179e"
            ],
            [
             0.4444444444444444,
             "#bd3786"
            ],
            [
             0.5555555555555556,
             "#d8576b"
            ],
            [
             0.6666666666666666,
             "#ed7953"
            ],
            [
             0.7777777777777778,
             "#fb9f3a"
            ],
            [
             0.8888888888888888,
             "#fdca26"
            ],
            [
             1,
             "#f0f921"
            ]
           ],
           "sequentialminus": [
            [
             0,
             "#0d0887"
            ],
            [
             0.1111111111111111,
             "#46039f"
            ],
            [
             0.2222222222222222,
             "#7201a8"
            ],
            [
             0.3333333333333333,
             "#9c179e"
            ],
            [
             0.4444444444444444,
             "#bd3786"
            ],
            [
             0.5555555555555556,
             "#d8576b"
            ],
            [
             0.6666666666666666,
             "#ed7953"
            ],
            [
             0.7777777777777778,
             "#fb9f3a"
            ],
            [
             0.8888888888888888,
             "#fdca26"
            ],
            [
             1,
             "#f0f921"
            ]
           ]
          },
          "colorway": [
           "#636efa",
           "#EF553B",
           "#00cc96",
           "#ab63fa",
           "#FFA15A",
           "#19d3f3",
           "#FF6692",
           "#B6E880",
           "#FF97FF",
           "#FECB52"
          ],
          "font": {
           "color": "#2a3f5f"
          },
          "geo": {
           "bgcolor": "white",
           "lakecolor": "white",
           "landcolor": "white",
           "showlakes": true,
           "showland": true,
           "subunitcolor": "#C8D4E3"
          },
          "hoverlabel": {
           "align": "left"
          },
          "hovermode": "closest",
          "mapbox": {
           "style": "light"
          },
          "paper_bgcolor": "white",
          "plot_bgcolor": "white",
          "polar": {
           "angularaxis": {
            "gridcolor": "#EBF0F8",
            "linecolor": "#EBF0F8",
            "ticks": ""
           },
           "bgcolor": "white",
           "radialaxis": {
            "gridcolor": "#EBF0F8",
            "linecolor": "#EBF0F8",
            "ticks": ""
           }
          },
          "scene": {
           "xaxis": {
            "backgroundcolor": "white",
            "gridcolor": "#DFE8F3",
            "gridwidth": 2,
            "linecolor": "#EBF0F8",
            "showbackground": true,
            "ticks": "",
            "zerolinecolor": "#EBF0F8"
           },
           "yaxis": {
            "backgroundcolor": "white",
            "gridcolor": "#DFE8F3",
            "gridwidth": 2,
            "linecolor": "#EBF0F8",
            "showbackground": true,
            "ticks": "",
            "zerolinecolor": "#EBF0F8"
           },
           "zaxis": {
            "backgroundcolor": "white",
            "gridcolor": "#DFE8F3",
            "gridwidth": 2,
            "linecolor": "#EBF0F8",
            "showbackground": true,
            "ticks": "",
            "zerolinecolor": "#EBF0F8"
           }
          },
          "shapedefaults": {
           "line": {
            "color": "#2a3f5f"
           }
          },
          "ternary": {
           "aaxis": {
            "gridcolor": "#DFE8F3",
            "linecolor": "#A2B1C6",
            "ticks": ""
           },
           "baxis": {
            "gridcolor": "#DFE8F3",
            "linecolor": "#A2B1C6",
            "ticks": ""
           },
           "bgcolor": "white",
           "caxis": {
            "gridcolor": "#DFE8F3",
            "linecolor": "#A2B1C6",
            "ticks": ""
           }
          },
          "title": {
           "x": 0.05
          },
          "xaxis": {
           "automargin": true,
           "gridcolor": "#EBF0F8",
           "linecolor": "#EBF0F8",
           "ticks": "",
           "title": {
            "standoff": 15
           },
           "zerolinecolor": "#EBF0F8",
           "zerolinewidth": 2
          },
          "yaxis": {
           "automargin": true,
           "gridcolor": "#EBF0F8",
           "linecolor": "#EBF0F8",
           "ticks": "",
           "title": {
            "standoff": 15
           },
           "zerolinecolor": "#EBF0F8",
           "zerolinewidth": 2
          }
         }
        }
       }
      }
     },
     "metadata": {},
     "output_type": "display_data"
    }
   ],
   "source": [
    "pivot = pd.pivot_table(chat, index='sentiment',\n",
    "                       columns='username',\n",
    "                       values='message',\n",
    "                       aggfunc='count').apply(lambda x: x/x.sum(), axis=0)\n",
    "heatmap = go.Heatmap(z=pivot.values,\n",
    "                     x=pivot.columns,\n",
    "                     y=pivot.index,\n",
    "                     hovertemplate='Interventions<extra>%{z:.2%}</extra>',\n",
    "                     colorscale='Greens')\n",
    "fig = go.Figure(data=[heatmap])\n",
    "py.plot(fig, filename='User message sentiment heatmap', auto_open=False)\n",
    "fig"
   ]
  },
  {
   "attachments": {},
   "cell_type": "markdown",
   "metadata": {},
   "source": [
    "Module sentiment heatmap"
   ]
  },
  {
   "cell_type": "code",
   "execution_count": 25,
   "metadata": {},
   "outputs": [
    {
     "data": {
      "application/vnd.plotly.v1+json": {
       "config": {
        "plotlyServerURL": "https://plotly.com"
       },
       "data": [
        {
         "colorscale": [
          [
           0,
           "rgb(247,252,245)"
          ],
          [
           0.125,
           "rgb(229,245,224)"
          ],
          [
           0.25,
           "rgb(199,233,192)"
          ],
          [
           0.375,
           "rgb(161,217,155)"
          ],
          [
           0.5,
           "rgb(116,196,118)"
          ],
          [
           0.625,
           "rgb(65,171,93)"
          ],
          [
           0.75,
           "rgb(35,139,69)"
          ],
          [
           0.875,
           "rgb(0,109,44)"
          ],
          [
           1,
           "rgb(0,68,27)"
          ]
         ],
         "hovertemplate": "Interventions<extra>%{z:.2%}</extra>",
         "type": "heatmap",
         "x": [
          "negative",
          "neutral",
          "positive"
         ],
         "y": [
          "Data Communication",
          "Data Visualization",
          "Group Final Project Preparation Week",
          "Introduction & Orientation",
          "Pitching Week",
          "Python",
          "SQL",
          "Spreadsheet & Statistics",
          "Understanding Business Problems"
         ],
         "z": [
          [
           0.028513238289205704,
           0.04799107142857143,
           0.04804804804804805
          ],
          [
           0.032586558044806514,
           0.04575892857142857,
           0.06006006006006006
          ],
          [
           0.028513238289205704,
           0.030133928571428572,
           0.02252252252252252
          ],
          [
           0.032586558044806514,
           0.03125,
           0.04504504504504504
          ],
          [
           0.20977596741344195,
           0.17410714285714285,
           0.18618618618618618
          ],
          [
           0.40529531568228105,
           0.36160714285714285,
           0.26426426426426425
          ],
          [
           0.10386965376782077,
           0.10714285714285714,
           0.12762762762762764
          ],
          [
           0.09572301425661914,
           0.11607142857142858,
           0.14864864864864866
          ],
          [
           0.06313645621181263,
           0.0859375,
           0.09759759759759759
          ]
         ]
        }
       ],
       "layout": {
        "template": {
         "data": {
          "bar": [
           {
            "error_x": {
             "color": "#2a3f5f"
            },
            "error_y": {
             "color": "#2a3f5f"
            },
            "marker": {
             "line": {
              "color": "white",
              "width": 0.5
             }
            },
            "type": "bar"
           }
          ],
          "barpolar": [
           {
            "marker": {
             "line": {
              "color": "white",
              "width": 0.5
             }
            },
            "type": "barpolar"
           }
          ],
          "carpet": [
           {
            "aaxis": {
             "endlinecolor": "#2a3f5f",
             "gridcolor": "#C8D4E3",
             "linecolor": "#C8D4E3",
             "minorgridcolor": "#C8D4E3",
             "startlinecolor": "#2a3f5f"
            },
            "baxis": {
             "endlinecolor": "#2a3f5f",
             "gridcolor": "#C8D4E3",
             "linecolor": "#C8D4E3",
             "minorgridcolor": "#C8D4E3",
             "startlinecolor": "#2a3f5f"
            },
            "type": "carpet"
           }
          ],
          "choropleth": [
           {
            "colorbar": {
             "outlinewidth": 0,
             "ticks": ""
            },
            "type": "choropleth"
           }
          ],
          "contour": [
           {
            "colorbar": {
             "outlinewidth": 0,
             "ticks": ""
            },
            "colorscale": [
             [
              0,
              "#0d0887"
             ],
             [
              0.1111111111111111,
              "#46039f"
             ],
             [
              0.2222222222222222,
              "#7201a8"
             ],
             [
              0.3333333333333333,
              "#9c179e"
             ],
             [
              0.4444444444444444,
              "#bd3786"
             ],
             [
              0.5555555555555556,
              "#d8576b"
             ],
             [
              0.6666666666666666,
              "#ed7953"
             ],
             [
              0.7777777777777778,
              "#fb9f3a"
             ],
             [
              0.8888888888888888,
              "#fdca26"
             ],
             [
              1,
              "#f0f921"
             ]
            ],
            "type": "contour"
           }
          ],
          "contourcarpet": [
           {
            "colorbar": {
             "outlinewidth": 0,
             "ticks": ""
            },
            "type": "contourcarpet"
           }
          ],
          "heatmap": [
           {
            "colorbar": {
             "outlinewidth": 0,
             "ticks": ""
            },
            "colorscale": [
             [
              0,
              "#0d0887"
             ],
             [
              0.1111111111111111,
              "#46039f"
             ],
             [
              0.2222222222222222,
              "#7201a8"
             ],
             [
              0.3333333333333333,
              "#9c179e"
             ],
             [
              0.4444444444444444,
              "#bd3786"
             ],
             [
              0.5555555555555556,
              "#d8576b"
             ],
             [
              0.6666666666666666,
              "#ed7953"
             ],
             [
              0.7777777777777778,
              "#fb9f3a"
             ],
             [
              0.8888888888888888,
              "#fdca26"
             ],
             [
              1,
              "#f0f921"
             ]
            ],
            "type": "heatmap"
           }
          ],
          "heatmapgl": [
           {
            "colorbar": {
             "outlinewidth": 0,
             "ticks": ""
            },
            "colorscale": [
             [
              0,
              "#0d0887"
             ],
             [
              0.1111111111111111,
              "#46039f"
             ],
             [
              0.2222222222222222,
              "#7201a8"
             ],
             [
              0.3333333333333333,
              "#9c179e"
             ],
             [
              0.4444444444444444,
              "#bd3786"
             ],
             [
              0.5555555555555556,
              "#d8576b"
             ],
             [
              0.6666666666666666,
              "#ed7953"
             ],
             [
              0.7777777777777778,
              "#fb9f3a"
             ],
             [
              0.8888888888888888,
              "#fdca26"
             ],
             [
              1,
              "#f0f921"
             ]
            ],
            "type": "heatmapgl"
           }
          ],
          "histogram": [
           {
            "marker": {
             "colorbar": {
              "outlinewidth": 0,
              "ticks": ""
             }
            },
            "type": "histogram"
           }
          ],
          "histogram2d": [
           {
            "colorbar": {
             "outlinewidth": 0,
             "ticks": ""
            },
            "colorscale": [
             [
              0,
              "#0d0887"
             ],
             [
              0.1111111111111111,
              "#46039f"
             ],
             [
              0.2222222222222222,
              "#7201a8"
             ],
             [
              0.3333333333333333,
              "#9c179e"
             ],
             [
              0.4444444444444444,
              "#bd3786"
             ],
             [
              0.5555555555555556,
              "#d8576b"
             ],
             [
              0.6666666666666666,
              "#ed7953"
             ],
             [
              0.7777777777777778,
              "#fb9f3a"
             ],
             [
              0.8888888888888888,
              "#fdca26"
             ],
             [
              1,
              "#f0f921"
             ]
            ],
            "type": "histogram2d"
           }
          ],
          "histogram2dcontour": [
           {
            "colorbar": {
             "outlinewidth": 0,
             "ticks": ""
            },
            "colorscale": [
             [
              0,
              "#0d0887"
             ],
             [
              0.1111111111111111,
              "#46039f"
             ],
             [
              0.2222222222222222,
              "#7201a8"
             ],
             [
              0.3333333333333333,
              "#9c179e"
             ],
             [
              0.4444444444444444,
              "#bd3786"
             ],
             [
              0.5555555555555556,
              "#d8576b"
             ],
             [
              0.6666666666666666,
              "#ed7953"
             ],
             [
              0.7777777777777778,
              "#fb9f3a"
             ],
             [
              0.8888888888888888,
              "#fdca26"
             ],
             [
              1,
              "#f0f921"
             ]
            ],
            "type": "histogram2dcontour"
           }
          ],
          "mesh3d": [
           {
            "colorbar": {
             "outlinewidth": 0,
             "ticks": ""
            },
            "type": "mesh3d"
           }
          ],
          "parcoords": [
           {
            "line": {
             "colorbar": {
              "outlinewidth": 0,
              "ticks": ""
             }
            },
            "type": "parcoords"
           }
          ],
          "pie": [
           {
            "automargin": true,
            "type": "pie"
           }
          ],
          "scatter": [
           {
            "marker": {
             "colorbar": {
              "outlinewidth": 0,
              "ticks": ""
             }
            },
            "type": "scatter"
           }
          ],
          "scatter3d": [
           {
            "line": {
             "colorbar": {
              "outlinewidth": 0,
              "ticks": ""
             }
            },
            "marker": {
             "colorbar": {
              "outlinewidth": 0,
              "ticks": ""
             }
            },
            "type": "scatter3d"
           }
          ],
          "scattercarpet": [
           {
            "marker": {
             "colorbar": {
              "outlinewidth": 0,
              "ticks": ""
             }
            },
            "type": "scattercarpet"
           }
          ],
          "scattergeo": [
           {
            "marker": {
             "colorbar": {
              "outlinewidth": 0,
              "ticks": ""
             }
            },
            "type": "scattergeo"
           }
          ],
          "scattergl": [
           {
            "marker": {
             "colorbar": {
              "outlinewidth": 0,
              "ticks": ""
             }
            },
            "type": "scattergl"
           }
          ],
          "scattermapbox": [
           {
            "marker": {
             "colorbar": {
              "outlinewidth": 0,
              "ticks": ""
             }
            },
            "type": "scattermapbox"
           }
          ],
          "scatterpolar": [
           {
            "marker": {
             "colorbar": {
              "outlinewidth": 0,
              "ticks": ""
             }
            },
            "type": "scatterpolar"
           }
          ],
          "scatterpolargl": [
           {
            "marker": {
             "colorbar": {
              "outlinewidth": 0,
              "ticks": ""
             }
            },
            "type": "scatterpolargl"
           }
          ],
          "scatterternary": [
           {
            "marker": {
             "colorbar": {
              "outlinewidth": 0,
              "ticks": ""
             }
            },
            "type": "scatterternary"
           }
          ],
          "surface": [
           {
            "colorbar": {
             "outlinewidth": 0,
             "ticks": ""
            },
            "colorscale": [
             [
              0,
              "#0d0887"
             ],
             [
              0.1111111111111111,
              "#46039f"
             ],
             [
              0.2222222222222222,
              "#7201a8"
             ],
             [
              0.3333333333333333,
              "#9c179e"
             ],
             [
              0.4444444444444444,
              "#bd3786"
             ],
             [
              0.5555555555555556,
              "#d8576b"
             ],
             [
              0.6666666666666666,
              "#ed7953"
             ],
             [
              0.7777777777777778,
              "#fb9f3a"
             ],
             [
              0.8888888888888888,
              "#fdca26"
             ],
             [
              1,
              "#f0f921"
             ]
            ],
            "type": "surface"
           }
          ],
          "table": [
           {
            "cells": {
             "fill": {
              "color": "#EBF0F8"
             },
             "line": {
              "color": "white"
             }
            },
            "header": {
             "fill": {
              "color": "#C8D4E3"
             },
             "line": {
              "color": "white"
             }
            },
            "type": "table"
           }
          ]
         },
         "layout": {
          "annotationdefaults": {
           "arrowcolor": "#2a3f5f",
           "arrowhead": 0,
           "arrowwidth": 1
          },
          "autotypenumbers": "strict",
          "coloraxis": {
           "colorbar": {
            "outlinewidth": 0,
            "ticks": ""
           }
          },
          "colorscale": {
           "diverging": [
            [
             0,
             "#8e0152"
            ],
            [
             0.1,
             "#c51b7d"
            ],
            [
             0.2,
             "#de77ae"
            ],
            [
             0.3,
             "#f1b6da"
            ],
            [
             0.4,
             "#fde0ef"
            ],
            [
             0.5,
             "#f7f7f7"
            ],
            [
             0.6,
             "#e6f5d0"
            ],
            [
             0.7,
             "#b8e186"
            ],
            [
             0.8,
             "#7fbc41"
            ],
            [
             0.9,
             "#4d9221"
            ],
            [
             1,
             "#276419"
            ]
           ],
           "sequential": [
            [
             0,
             "#0d0887"
            ],
            [
             0.1111111111111111,
             "#46039f"
            ],
            [
             0.2222222222222222,
             "#7201a8"
            ],
            [
             0.3333333333333333,
             "#9c179e"
            ],
            [
             0.4444444444444444,
             "#bd3786"
            ],
            [
             0.5555555555555556,
             "#d8576b"
            ],
            [
             0.6666666666666666,
             "#ed7953"
            ],
            [
             0.7777777777777778,
             "#fb9f3a"
            ],
            [
             0.8888888888888888,
             "#fdca26"
            ],
            [
             1,
             "#f0f921"
            ]
           ],
           "sequentialminus": [
            [
             0,
             "#0d0887"
            ],
            [
             0.1111111111111111,
             "#46039f"
            ],
            [
             0.2222222222222222,
             "#7201a8"
            ],
            [
             0.3333333333333333,
             "#9c179e"
            ],
            [
             0.4444444444444444,
             "#bd3786"
            ],
            [
             0.5555555555555556,
             "#d8576b"
            ],
            [
             0.6666666666666666,
             "#ed7953"
            ],
            [
             0.7777777777777778,
             "#fb9f3a"
            ],
            [
             0.8888888888888888,
             "#fdca26"
            ],
            [
             1,
             "#f0f921"
            ]
           ]
          },
          "colorway": [
           "#636efa",
           "#EF553B",
           "#00cc96",
           "#ab63fa",
           "#FFA15A",
           "#19d3f3",
           "#FF6692",
           "#B6E880",
           "#FF97FF",
           "#FECB52"
          ],
          "font": {
           "color": "#2a3f5f"
          },
          "geo": {
           "bgcolor": "white",
           "lakecolor": "white",
           "landcolor": "white",
           "showlakes": true,
           "showland": true,
           "subunitcolor": "#C8D4E3"
          },
          "hoverlabel": {
           "align": "left"
          },
          "hovermode": "closest",
          "mapbox": {
           "style": "light"
          },
          "paper_bgcolor": "white",
          "plot_bgcolor": "white",
          "polar": {
           "angularaxis": {
            "gridcolor": "#EBF0F8",
            "linecolor": "#EBF0F8",
            "ticks": ""
           },
           "bgcolor": "white",
           "radialaxis": {
            "gridcolor": "#EBF0F8",
            "linecolor": "#EBF0F8",
            "ticks": ""
           }
          },
          "scene": {
           "xaxis": {
            "backgroundcolor": "white",
            "gridcolor": "#DFE8F3",
            "gridwidth": 2,
            "linecolor": "#EBF0F8",
            "showbackground": true,
            "ticks": "",
            "zerolinecolor": "#EBF0F8"
           },
           "yaxis": {
            "backgroundcolor": "white",
            "gridcolor": "#DFE8F3",
            "gridwidth": 2,
            "linecolor": "#EBF0F8",
            "showbackground": true,
            "ticks": "",
            "zerolinecolor": "#EBF0F8"
           },
           "zaxis": {
            "backgroundcolor": "white",
            "gridcolor": "#DFE8F3",
            "gridwidth": 2,
            "linecolor": "#EBF0F8",
            "showbackground": true,
            "ticks": "",
            "zerolinecolor": "#EBF0F8"
           }
          },
          "shapedefaults": {
           "line": {
            "color": "#2a3f5f"
           }
          },
          "ternary": {
           "aaxis": {
            "gridcolor": "#DFE8F3",
            "linecolor": "#A2B1C6",
            "ticks": ""
           },
           "baxis": {
            "gridcolor": "#DFE8F3",
            "linecolor": "#A2B1C6",
            "ticks": ""
           },
           "bgcolor": "white",
           "caxis": {
            "gridcolor": "#DFE8F3",
            "linecolor": "#A2B1C6",
            "ticks": ""
           }
          },
          "title": {
           "x": 0.05
          },
          "xaxis": {
           "automargin": true,
           "gridcolor": "#EBF0F8",
           "linecolor": "#EBF0F8",
           "ticks": "",
           "title": {
            "standoff": 15
           },
           "zerolinecolor": "#EBF0F8",
           "zerolinewidth": 2
          },
          "yaxis": {
           "automargin": true,
           "gridcolor": "#EBF0F8",
           "linecolor": "#EBF0F8",
           "ticks": "",
           "title": {
            "standoff": 15
           },
           "zerolinecolor": "#EBF0F8",
           "zerolinewidth": 2
          }
         }
        },
        "yaxis": {
         "categoryarray": [
          "Introduction & Orientation",
          "Understanding Business Problems",
          "Spreadsheet & Statistics",
          "SQL",
          "Python",
          "Group Final Project Preparation Week",
          "Data Visualization",
          "Data Communication",
          "Pitching Week"
         ],
         "categoryorder": "array"
        }
       }
      }
     },
     "metadata": {},
     "output_type": "display_data"
    }
   ],
   "source": [
    "pivot = pd.pivot_table(chat[chat.module_name != ''],\n",
    "                       index='module_name',\n",
    "                       columns='sentiment',\n",
    "                       values='message',\n",
    "                       aggfunc='count').apply(lambda x: x/x.sum(), axis=0)\n",
    "heatmap = go.Heatmap(z=pivot.values,\n",
    "                     x=pivot.columns,\n",
    "                     y=pivot.index,\n",
    "                     hovertemplate='Interventions<extra>%{z:.2%}</extra>',\n",
    "                     colorscale='Greens')\n",
    "fig = go.Figure(data=[heatmap]).update_layout(yaxis={'categoryorder': 'array',\n",
    "                                                     'categoryarray': ['Introduction & Orientation',\n",
    "                                                                       'Understanding Business Problems',\n",
    "                                                                       'Spreadsheet & Statistics', 'SQL',\n",
    "                                                                       'Python', 'Group Final Project Preparation Week',\n",
    "                                                                       'Data Visualization', 'Data Communication',\n",
    "                                                                       'Pitching Week'\n",
    "                                                                       ]})\n",
    "py.plot(fig, filename='Module sentiment heatmap', auto_open=False)\n",
    "fig"
   ]
  },
  {
   "attachments": {},
   "cell_type": "markdown",
   "metadata": {},
   "source": [
    "# Topic modeling"
   ]
  },
  {
   "attachments": {},
   "cell_type": "markdown",
   "metadata": {},
   "source": [
    "Initiate and fit the model"
   ]
  },
  {
   "cell_type": "code",
   "execution_count": 26,
   "metadata": {},
   "outputs": [
    {
     "name": "stderr",
     "output_type": "stream",
     "text": [
      "11428 | INFO | Load pretrained SentenceTransformer: paraphrase-multilingual-MiniLM-L12-v2\n",
      "11428 | INFO | Use pytorch device: cpu\n"
     ]
    }
   ],
   "source": [
    "model = BERTopic(umap_model=UMAP(n_neighbors=15,\n",
    "                                 n_components=5,\n",
    "                                 min_dist=0.0,\n",
    "                                 metric='cosine',\n",
    "                                 random_state=13),\n",
    "                 language='multilingual',\n",
    "                 calculate_probabilities=True,\n",
    "                 nr_topics='auto')\n",
    "\n",
    "topics, probabilities = model.fit_transform(\n",
    "    list(chat[chat.clean_msg != ''].assign(\n",
    "    message=chat.message.str.replace(re.compile(r'http\\S+'), ''))['message'].values))"
   ]
  },
  {
   "attachments": {},
   "cell_type": "markdown",
   "metadata": {},
   "source": [
    "## Extracting topics"
   ]
  },
  {
   "cell_type": "code",
   "execution_count": 27,
   "metadata": {},
   "outputs": [
    {
     "data": {
      "text/html": [
       "<div>\n",
       "<style scoped>\n",
       "    .dataframe tbody tr th:only-of-type {\n",
       "        vertical-align: middle;\n",
       "    }\n",
       "\n",
       "    .dataframe tbody tr th {\n",
       "        vertical-align: top;\n",
       "    }\n",
       "\n",
       "    .dataframe thead th {\n",
       "        text-align: right;\n",
       "    }\n",
       "</style>\n",
       "<table border=\"1\" class=\"dataframe\">\n",
       "  <thead>\n",
       "    <tr style=\"text-align: right;\">\n",
       "      <th></th>\n",
       "      <th>Topic</th>\n",
       "      <th>Count</th>\n",
       "      <th>Name</th>\n",
       "    </tr>\n",
       "  </thead>\n",
       "  <tbody>\n",
       "    <tr>\n",
       "      <th>0</th>\n",
       "      <td>-1</td>\n",
       "      <td>697</td>\n",
       "      <td>-1_kak_ya_aku_di</td>\n",
       "    </tr>\n",
       "    <tr>\n",
       "      <th>1</th>\n",
       "      <td>0</td>\n",
       "      <td>115</td>\n",
       "      <td>0_brandon_tumben_kokk_awkawk</td>\n",
       "    </tr>\n",
       "    <tr>\n",
       "      <th>2</th>\n",
       "      <td>1</td>\n",
       "      <td>112</td>\n",
       "      <td>1_wkwkwk_wkwkw_wkwkkw_wkkwkwk</td>\n",
       "    </tr>\n",
       "    <tr>\n",
       "      <th>3</th>\n",
       "      <td>2</td>\n",
       "      <td>103</td>\n",
       "      <td>2_menti_yg_iya_aja</td>\n",
       "    </tr>\n",
       "    <tr>\n",
       "      <th>4</th>\n",
       "      <td>3</td>\n",
       "      <td>82</td>\n",
       "      <td>3_thank_you_congrats_makasih</td>\n",
       "    </tr>\n",
       "    <tr>\n",
       "      <th>5</th>\n",
       "      <td>4</td>\n",
       "      <td>66</td>\n",
       "      <td>4_jam_besok_game_as</td>\n",
       "    </tr>\n",
       "    <tr>\n",
       "      <th>6</th>\n",
       "      <td>5</td>\n",
       "      <td>60</td>\n",
       "      <td>5_aku_lg_bs_juga</td>\n",
       "    </tr>\n",
       "    <tr>\n",
       "      <th>7</th>\n",
       "      <td>6</td>\n",
       "      <td>56</td>\n",
       "      <td>6_absen_gak_lupa_ga</td>\n",
       "    </tr>\n",
       "    <tr>\n",
       "      <th>8</th>\n",
       "      <td>7</td>\n",
       "      <td>53</td>\n",
       "      <td>7_kelas_lecture_pre_student</td>\n",
       "    </tr>\n",
       "    <tr>\n",
       "      <th>9</th>\n",
       "      <td>8</td>\n",
       "      <td>49</td>\n",
       "      <td>8_link_google_ini_video</td>\n",
       "    </tr>\n",
       "    <tr>\n",
       "      <th>10</th>\n",
       "      <td>9</td>\n",
       "      <td>44</td>\n",
       "      <td>9_jal_kak_tuh_telfon</td>\n",
       "    </tr>\n",
       "    <tr>\n",
       "      <th>11</th>\n",
       "      <td>10</td>\n",
       "      <td>39</td>\n",
       "      <td>10_ale_itu_kenapa_mesti</td>\n",
       "    </tr>\n",
       "    <tr>\n",
       "      <th>12</th>\n",
       "      <td>11</td>\n",
       "      <td>37</td>\n",
       "      <td>11_keren_hebat_banget_bagus</td>\n",
       "    </tr>\n",
       "    <tr>\n",
       "      <th>13</th>\n",
       "      <td>12</td>\n",
       "      <td>36</td>\n",
       "      <td>12_wkwkwkwk_kwkwkwkw_ae_wkwkkwkwkw</td>\n",
       "    </tr>\n",
       "    <tr>\n",
       "      <th>14</th>\n",
       "      <td>13</td>\n",
       "      <td>32</td>\n",
       "      <td>13_kajal_kak_bangun_jal</td>\n",
       "    </tr>\n",
       "    <tr>\n",
       "      <th>15</th>\n",
       "      <td>14</td>\n",
       "      <td>31</td>\n",
       "      <td>14_alex_mirza_aris_ely</td>\n",
       "    </tr>\n",
       "    <tr>\n",
       "      <th>16</th>\n",
       "      <td>15</td>\n",
       "      <td>30</td>\n",
       "      <td>15_data_sql_datacamp_axis</td>\n",
       "    </tr>\n",
       "    <tr>\n",
       "      <th>17</th>\n",
       "      <td>16</td>\n",
       "      <td>26</td>\n",
       "      <td>16_team_tim_lead_setiap</td>\n",
       "    </tr>\n",
       "    <tr>\n",
       "      <th>18</th>\n",
       "      <td>17</td>\n",
       "      <td>20</td>\n",
       "      <td>17_kalian_si_sibuk_kamu</td>\n",
       "    </tr>\n",
       "    <tr>\n",
       "      <th>19</th>\n",
       "      <td>18</td>\n",
       "      <td>19</td>\n",
       "      <td>18_hahahah_hahahaha_hahahha_hahahhahah</td>\n",
       "    </tr>\n",
       "    <tr>\n",
       "      <th>20</th>\n",
       "      <td>19</td>\n",
       "      <td>19</td>\n",
       "      <td>19_wkwkkwkw_wkwkwkwkwk_wkwkwkkwkw_wkwkwkwk</td>\n",
       "    </tr>\n",
       "    <tr>\n",
       "      <th>21</th>\n",
       "      <td>20</td>\n",
       "      <td>17</td>\n",
       "      <td>20_discord_habis_kelas_yukkk</td>\n",
       "    </tr>\n",
       "    <tr>\n",
       "      <th>22</th>\n",
       "      <td>21</td>\n",
       "      <td>16</td>\n",
       "      <td>21_kek_keknya_tiap_terakhir</td>\n",
       "    </tr>\n",
       "    <tr>\n",
       "      <th>23</th>\n",
       "      <td>22</td>\n",
       "      <td>16</td>\n",
       "      <td>22_happy_birthday_tahun_ulang</td>\n",
       "    </tr>\n",
       "    <tr>\n",
       "      <th>24</th>\n",
       "      <td>23</td>\n",
       "      <td>15</td>\n",
       "      <td>23_internet_wifi_desktop_laptop</td>\n",
       "    </tr>\n",
       "    <tr>\n",
       "      <th>25</th>\n",
       "      <td>24</td>\n",
       "      <td>14</td>\n",
       "      <td>24_kasih_teman_tau_ngelunasin</td>\n",
       "    </tr>\n",
       "    <tr>\n",
       "      <th>26</th>\n",
       "      <td>25</td>\n",
       "      <td>14</td>\n",
       "      <td>25_foundation_deadline_intermediate_59</td>\n",
       "    </tr>\n",
       "    <tr>\n",
       "      <th>27</th>\n",
       "      <td>26</td>\n",
       "      <td>13</td>\n",
       "      <td>26_iyaa_yuhuuu_yezzzzz_yez</td>\n",
       "    </tr>\n",
       "    <tr>\n",
       "      <th>28</th>\n",
       "      <td>27</td>\n",
       "      <td>12</td>\n",
       "      <td>27_tidur_malam_goodnight_bomat</td>\n",
       "    </tr>\n",
       "    <tr>\n",
       "      <th>29</th>\n",
       "      <td>28</td>\n",
       "      <td>12</td>\n",
       "      <td>28_oke_up_ok_alrightyyy</td>\n",
       "    </tr>\n",
       "    <tr>\n",
       "      <th>30</th>\n",
       "      <td>29</td>\n",
       "      <td>12</td>\n",
       "      <td>29_tl_simulation_27_rangkap</td>\n",
       "    </tr>\n",
       "    <tr>\n",
       "      <th>31</th>\n",
       "      <td>30</td>\n",
       "      <td>12</td>\n",
       "      <td>30_makan_enak_akhirny_go</td>\n",
       "    </tr>\n",
       "    <tr>\n",
       "      <th>32</th>\n",
       "      <td>31</td>\n",
       "      <td>11</td>\n",
       "      <td>31_gasss_gas_panas2in_option</td>\n",
       "    </tr>\n",
       "    <tr>\n",
       "      <th>33</th>\n",
       "      <td>32</td>\n",
       "      <td>11</td>\n",
       "      <td>32_freak_ih_wah_clubnya</td>\n",
       "    </tr>\n",
       "    <tr>\n",
       "      <th>34</th>\n",
       "      <td>33</td>\n",
       "      <td>11</td>\n",
       "      <td>33_duit_gaji_pengen_stock</td>\n",
       "    </tr>\n",
       "    <tr>\n",
       "      <th>35</th>\n",
       "      <td>34</td>\n",
       "      <td>11</td>\n",
       "      <td>34_assignmentnya_kakak_peer_kerjain</td>\n",
       "    </tr>\n",
       "    <tr>\n",
       "      <th>36</th>\n",
       "      <td>35</td>\n",
       "      <td>11</td>\n",
       "      <td>35_gua_lu_sini_menduakan</td>\n",
       "    </tr>\n",
       "    <tr>\n",
       "      <th>37</th>\n",
       "      <td>36</td>\n",
       "      <td>10</td>\n",
       "      <td>36_gara_cepetan_disawer_terbaca</td>\n",
       "    </tr>\n",
       "  </tbody>\n",
       "</table>\n",
       "</div>"
      ],
      "text/plain": [
       "    Topic  Count                                        Name\n",
       "0      -1    697                            -1_kak_ya_aku_di\n",
       "1       0    115                0_brandon_tumben_kokk_awkawk\n",
       "2       1    112               1_wkwkwk_wkwkw_wkwkkw_wkkwkwk\n",
       "3       2    103                          2_menti_yg_iya_aja\n",
       "4       3     82                3_thank_you_congrats_makasih\n",
       "5       4     66                         4_jam_besok_game_as\n",
       "6       5     60                            5_aku_lg_bs_juga\n",
       "7       6     56                         6_absen_gak_lupa_ga\n",
       "8       7     53                 7_kelas_lecture_pre_student\n",
       "9       8     49                     8_link_google_ini_video\n",
       "10      9     44                        9_jal_kak_tuh_telfon\n",
       "11     10     39                     10_ale_itu_kenapa_mesti\n",
       "12     11     37                 11_keren_hebat_banget_bagus\n",
       "13     12     36          12_wkwkwkwk_kwkwkwkw_ae_wkwkkwkwkw\n",
       "14     13     32                     13_kajal_kak_bangun_jal\n",
       "15     14     31                      14_alex_mirza_aris_ely\n",
       "16     15     30                   15_data_sql_datacamp_axis\n",
       "17     16     26                     16_team_tim_lead_setiap\n",
       "18     17     20                     17_kalian_si_sibuk_kamu\n",
       "19     18     19      18_hahahah_hahahaha_hahahha_hahahhahah\n",
       "20     19     19  19_wkwkkwkw_wkwkwkwkwk_wkwkwkkwkw_wkwkwkwk\n",
       "21     20     17                20_discord_habis_kelas_yukkk\n",
       "22     21     16                 21_kek_keknya_tiap_terakhir\n",
       "23     22     16               22_happy_birthday_tahun_ulang\n",
       "24     23     15             23_internet_wifi_desktop_laptop\n",
       "25     24     14               24_kasih_teman_tau_ngelunasin\n",
       "26     25     14      25_foundation_deadline_intermediate_59\n",
       "27     26     13                  26_iyaa_yuhuuu_yezzzzz_yez\n",
       "28     27     12              27_tidur_malam_goodnight_bomat\n",
       "29     28     12                     28_oke_up_ok_alrightyyy\n",
       "30     29     12                 29_tl_simulation_27_rangkap\n",
       "31     30     12                    30_makan_enak_akhirny_go\n",
       "32     31     11                31_gasss_gas_panas2in_option\n",
       "33     32     11                     32_freak_ih_wah_clubnya\n",
       "34     33     11                   33_duit_gaji_pengen_stock\n",
       "35     34     11         34_assignmentnya_kakak_peer_kerjain\n",
       "36     35     11                    35_gua_lu_sini_menduakan\n",
       "37     36     10             36_gara_cepetan_disawer_terbaca"
      ]
     },
     "execution_count": 27,
     "metadata": {},
     "output_type": "execute_result"
    }
   ],
   "source": [
    "model.get_topic_info()"
   ]
  },
  {
   "attachments": {},
   "cell_type": "markdown",
   "metadata": {},
   "source": [
    "Topic terms bar chart"
   ]
  },
  {
   "cell_type": "code",
   "execution_count": 28,
   "metadata": {},
   "outputs": [
    {
     "data": {
      "application/vnd.plotly.v1+json": {
       "config": {
        "plotlyServerURL": "https://plotly.com"
       },
       "data": [
        {
         "marker": {
          "color": "#D55E00"
         },
         "orientation": "h",
         "type": "bar",
         "x": [
          0.03749509385060964,
          0.04082971722678942,
          0.04082971722678942,
          0.056242640775914454,
          0.056242640775914454
         ],
         "xaxis": "x",
         "y": [
          "hoki  ",
          "awkawk  ",
          "kokk  ",
          "tumben  ",
          "brandon  "
         ],
         "yaxis": "y"
        },
        {
         "marker": {
          "color": "#0072B2"
         },
         "orientation": "h",
         "type": "bar",
         "x": [
          0.050657155757138646,
          0.05342721141447646,
          0.06382524386521499,
          0.07360516033382743,
          0.10594251799383247
         ],
         "xaxis": "x2",
         "y": [
          "wkwkwkkw  ",
          "wkkwkwk  ",
          "wkwkkw  ",
          "wkwkw  ",
          "wkwkwk  "
         ],
         "yaxis": "y2"
        },
        {
         "marker": {
          "color": "#CC79A7"
         },
         "orientation": "h",
         "type": "bar",
         "x": [
          0.022478154787637095,
          0.02399359580444074,
          0.026374490114547983,
          0.029582774891993277,
          0.03584735240474588
         ],
         "xaxis": "x3",
         "y": [
          "yaa  ",
          "aja  ",
          "iya  ",
          "yg  ",
          "menti  "
         ],
         "yaxis": "y3"
        },
        {
         "marker": {
          "color": "#E69F00"
         },
         "orientation": "h",
         "type": "bar",
         "x": [
          0.07423032465391685,
          0.08151053270042098,
          0.08655225849435223,
          0.12804149151929864,
          0.17850615247751137
         ],
         "xaxis": "x4",
         "y": [
          "terima  ",
          "makasih  ",
          "congrats  ",
          "you  ",
          "thank  "
         ],
         "yaxis": "y4"
        },
        {
         "marker": {
          "color": "#56B4E9"
         },
         "orientation": "h",
         "type": "bar",
         "x": [
          0.03205749098826305,
          0.04550845518706449,
          0.049400637164913816,
          0.051945203457970435,
          0.06525605767333092
         ],
         "xaxis": "x5",
         "y": [
          "telat  ",
          "as  ",
          "game  ",
          "besok  ",
          "jam  "
         ],
         "yaxis": "y5"
        },
        {
         "marker": {
          "color": "#009E73"
         },
         "orientation": "h",
         "type": "bar",
         "x": [
          0.02617011130759641,
          0.027029669199944754,
          0.02940400238909084,
          0.03565188203077514,
          0.1323930660877489
         ],
         "xaxis": "x6",
         "y": [
          "ngurus  ",
          "juga  ",
          "bs  ",
          "lg  ",
          "aku  "
         ],
         "yaxis": "y6"
        },
        {
         "marker": {
          "color": "#F0E442"
         },
         "orientation": "h",
         "type": "bar",
         "x": [
          0.04983948854056218,
          0.0567074964727362,
          0.05891619080336983,
          0.0804278502237205,
          0.16749357375146243
         ],
         "xaxis": "x7",
         "y": [
          "jangan  ",
          "ga  ",
          "lupa  ",
          "gak  ",
          "absen  "
         ],
         "yaxis": "y7"
        },
        {
         "marker": {
          "color": "#D55E00"
         },
         "orientation": "h",
         "type": "bar",
         "x": [
          0.029977607030536407,
          0.03671615898267897,
          0.047382169941446145,
          0.06377018566899374,
          0.07947968163607871
         ],
         "xaxis": "x8",
         "y": [
          "di  ",
          "student  ",
          "pre  ",
          "lecture  ",
          "kelas  "
         ],
         "yaxis": "y8"
        },
        {
         "marker": {
          "color": "#0072B2"
         },
         "orientation": "h",
         "type": "bar",
         "x": [
          0.03994606560948495,
          0.04213041298106726,
          0.05072158772878218,
          0.06848020083577167,
          0.10029061043825113
         ],
         "xaxis": "x9",
         "y": [
          "calendar  ",
          "video  ",
          "ini  ",
          "google  ",
          "link  "
         ],
         "yaxis": "y9"
        },
        {
         "marker": {
          "color": "#CC79A7"
         },
         "orientation": "h",
         "type": "bar",
         "x": [
          0.03343905945278462,
          0.03552332798431859,
          0.0387151123280042,
          0.07258259953369041,
          0.1398272634744657
         ],
         "xaxis": "x10",
         "y": [
          "jalita  ",
          "telfon  ",
          "tuh  ",
          "kak  ",
          "jal  "
         ],
         "yaxis": "y10"
        },
        {
         "marker": {
          "color": "#E69F00"
         },
         "orientation": "h",
         "type": "bar",
         "x": [
          0.04688617226640137,
          0.04847271848106527,
          0.05446258570590225,
          0.06481451120756515,
          0.08343067004132532
         ],
         "xaxis": "x11",
         "y": [
          "bisa  ",
          "mesti  ",
          "kenapa  ",
          "itu  ",
          "ale  "
         ],
         "yaxis": "y11"
        },
        {
         "marker": {
          "color": "#56B4E9"
         },
         "orientation": "h",
         "type": "bar",
         "x": [
          0.06690864438667259,
          0.08439622059769586,
          0.09661275079002155,
          0.09696427109764717,
          0.16498304396679234
         ],
         "xaxis": "x12",
         "y": [
          "bgt  ",
          "bagus  ",
          "banget  ",
          "hebat  ",
          "keren  "
         ],
         "yaxis": "y12"
        }
       ],
       "layout": {
        "annotations": [
         {
          "font": {
           "size": 16
          },
          "showarrow": false,
          "text": "Topic 0",
          "x": 0.0875,
          "xanchor": "center",
          "xref": "paper",
          "y": 1,
          "yanchor": "bottom",
          "yref": "paper"
         },
         {
          "font": {
           "size": 16
          },
          "showarrow": false,
          "text": "Topic 1",
          "x": 0.36250000000000004,
          "xanchor": "center",
          "xref": "paper",
          "y": 1,
          "yanchor": "bottom",
          "yref": "paper"
         },
         {
          "font": {
           "size": 16
          },
          "showarrow": false,
          "text": "Topic 2",
          "x": 0.6375000000000001,
          "xanchor": "center",
          "xref": "paper",
          "y": 1,
          "yanchor": "bottom",
          "yref": "paper"
         },
         {
          "font": {
           "size": 16
          },
          "showarrow": false,
          "text": "Topic 3",
          "x": 0.9125,
          "xanchor": "center",
          "xref": "paper",
          "y": 1,
          "yanchor": "bottom",
          "yref": "paper"
         },
         {
          "font": {
           "size": 16
          },
          "showarrow": false,
          "text": "Topic 4",
          "x": 0.0875,
          "xanchor": "center",
          "xref": "paper",
          "y": 0.6222222222222222,
          "yanchor": "bottom",
          "yref": "paper"
         },
         {
          "font": {
           "size": 16
          },
          "showarrow": false,
          "text": "Topic 5",
          "x": 0.36250000000000004,
          "xanchor": "center",
          "xref": "paper",
          "y": 0.6222222222222222,
          "yanchor": "bottom",
          "yref": "paper"
         },
         {
          "font": {
           "size": 16
          },
          "showarrow": false,
          "text": "Topic 6",
          "x": 0.6375000000000001,
          "xanchor": "center",
          "xref": "paper",
          "y": 0.6222222222222222,
          "yanchor": "bottom",
          "yref": "paper"
         },
         {
          "font": {
           "size": 16
          },
          "showarrow": false,
          "text": "Topic 7",
          "x": 0.9125,
          "xanchor": "center",
          "xref": "paper",
          "y": 0.6222222222222222,
          "yanchor": "bottom",
          "yref": "paper"
         },
         {
          "font": {
           "size": 16
          },
          "showarrow": false,
          "text": "Topic 8",
          "x": 0.0875,
          "xanchor": "center",
          "xref": "paper",
          "y": 0.24444444444444446,
          "yanchor": "bottom",
          "yref": "paper"
         },
         {
          "font": {
           "size": 16
          },
          "showarrow": false,
          "text": "Topic 9",
          "x": 0.36250000000000004,
          "xanchor": "center",
          "xref": "paper",
          "y": 0.24444444444444446,
          "yanchor": "bottom",
          "yref": "paper"
         },
         {
          "font": {
           "size": 16
          },
          "showarrow": false,
          "text": "Topic 10",
          "x": 0.6375000000000001,
          "xanchor": "center",
          "xref": "paper",
          "y": 0.24444444444444446,
          "yanchor": "bottom",
          "yref": "paper"
         },
         {
          "font": {
           "size": 16
          },
          "showarrow": false,
          "text": "Topic 11",
          "x": 0.9125,
          "xanchor": "center",
          "xref": "paper",
          "y": 0.24444444444444446,
          "yanchor": "bottom",
          "yref": "paper"
         }
        ],
        "height": 750,
        "hoverlabel": {
         "bgcolor": "white",
         "font": {
          "family": "Rockwell",
          "size": 16
         }
        },
        "showlegend": false,
        "template": {
         "data": {
          "bar": [
           {
            "error_x": {
             "color": "#2a3f5f"
            },
            "error_y": {
             "color": "#2a3f5f"
            },
            "marker": {
             "line": {
              "color": "white",
              "width": 0.5
             }
            },
            "type": "bar"
           }
          ],
          "barpolar": [
           {
            "marker": {
             "line": {
              "color": "white",
              "width": 0.5
             }
            },
            "type": "barpolar"
           }
          ],
          "carpet": [
           {
            "aaxis": {
             "endlinecolor": "#2a3f5f",
             "gridcolor": "#C8D4E3",
             "linecolor": "#C8D4E3",
             "minorgridcolor": "#C8D4E3",
             "startlinecolor": "#2a3f5f"
            },
            "baxis": {
             "endlinecolor": "#2a3f5f",
             "gridcolor": "#C8D4E3",
             "linecolor": "#C8D4E3",
             "minorgridcolor": "#C8D4E3",
             "startlinecolor": "#2a3f5f"
            },
            "type": "carpet"
           }
          ],
          "choropleth": [
           {
            "colorbar": {
             "outlinewidth": 0,
             "ticks": ""
            },
            "type": "choropleth"
           }
          ],
          "contour": [
           {
            "colorbar": {
             "outlinewidth": 0,
             "ticks": ""
            },
            "colorscale": [
             [
              0,
              "#0d0887"
             ],
             [
              0.1111111111111111,
              "#46039f"
             ],
             [
              0.2222222222222222,
              "#7201a8"
             ],
             [
              0.3333333333333333,
              "#9c179e"
             ],
             [
              0.4444444444444444,
              "#bd3786"
             ],
             [
              0.5555555555555556,
              "#d8576b"
             ],
             [
              0.6666666666666666,
              "#ed7953"
             ],
             [
              0.7777777777777778,
              "#fb9f3a"
             ],
             [
              0.8888888888888888,
              "#fdca26"
             ],
             [
              1,
              "#f0f921"
             ]
            ],
            "type": "contour"
           }
          ],
          "contourcarpet": [
           {
            "colorbar": {
             "outlinewidth": 0,
             "ticks": ""
            },
            "type": "contourcarpet"
           }
          ],
          "heatmap": [
           {
            "colorbar": {
             "outlinewidth": 0,
             "ticks": ""
            },
            "colorscale": [
             [
              0,
              "#0d0887"
             ],
             [
              0.1111111111111111,
              "#46039f"
             ],
             [
              0.2222222222222222,
              "#7201a8"
             ],
             [
              0.3333333333333333,
              "#9c179e"
             ],
             [
              0.4444444444444444,
              "#bd3786"
             ],
             [
              0.5555555555555556,
              "#d8576b"
             ],
             [
              0.6666666666666666,
              "#ed7953"
             ],
             [
              0.7777777777777778,
              "#fb9f3a"
             ],
             [
              0.8888888888888888,
              "#fdca26"
             ],
             [
              1,
              "#f0f921"
             ]
            ],
            "type": "heatmap"
           }
          ],
          "heatmapgl": [
           {
            "colorbar": {
             "outlinewidth": 0,
             "ticks": ""
            },
            "colorscale": [
             [
              0,
              "#0d0887"
             ],
             [
              0.1111111111111111,
              "#46039f"
             ],
             [
              0.2222222222222222,
              "#7201a8"
             ],
             [
              0.3333333333333333,
              "#9c179e"
             ],
             [
              0.4444444444444444,
              "#bd3786"
             ],
             [
              0.5555555555555556,
              "#d8576b"
             ],
             [
              0.6666666666666666,
              "#ed7953"
             ],
             [
              0.7777777777777778,
              "#fb9f3a"
             ],
             [
              0.8888888888888888,
              "#fdca26"
             ],
             [
              1,
              "#f0f921"
             ]
            ],
            "type": "heatmapgl"
           }
          ],
          "histogram": [
           {
            "marker": {
             "colorbar": {
              "outlinewidth": 0,
              "ticks": ""
             }
            },
            "type": "histogram"
           }
          ],
          "histogram2d": [
           {
            "colorbar": {
             "outlinewidth": 0,
             "ticks": ""
            },
            "colorscale": [
             [
              0,
              "#0d0887"
             ],
             [
              0.1111111111111111,
              "#46039f"
             ],
             [
              0.2222222222222222,
              "#7201a8"
             ],
             [
              0.3333333333333333,
              "#9c179e"
             ],
             [
              0.4444444444444444,
              "#bd3786"
             ],
             [
              0.5555555555555556,
              "#d8576b"
             ],
             [
              0.6666666666666666,
              "#ed7953"
             ],
             [
              0.7777777777777778,
              "#fb9f3a"
             ],
             [
              0.8888888888888888,
              "#fdca26"
             ],
             [
              1,
              "#f0f921"
             ]
            ],
            "type": "histogram2d"
           }
          ],
          "histogram2dcontour": [
           {
            "colorbar": {
             "outlinewidth": 0,
             "ticks": ""
            },
            "colorscale": [
             [
              0,
              "#0d0887"
             ],
             [
              0.1111111111111111,
              "#46039f"
             ],
             [
              0.2222222222222222,
              "#7201a8"
             ],
             [
              0.3333333333333333,
              "#9c179e"
             ],
             [
              0.4444444444444444,
              "#bd3786"
             ],
             [
              0.5555555555555556,
              "#d8576b"
             ],
             [
              0.6666666666666666,
              "#ed7953"
             ],
             [
              0.7777777777777778,
              "#fb9f3a"
             ],
             [
              0.8888888888888888,
              "#fdca26"
             ],
             [
              1,
              "#f0f921"
             ]
            ],
            "type": "histogram2dcontour"
           }
          ],
          "mesh3d": [
           {
            "colorbar": {
             "outlinewidth": 0,
             "ticks": ""
            },
            "type": "mesh3d"
           }
          ],
          "parcoords": [
           {
            "line": {
             "colorbar": {
              "outlinewidth": 0,
              "ticks": ""
             }
            },
            "type": "parcoords"
           }
          ],
          "pie": [
           {
            "automargin": true,
            "type": "pie"
           }
          ],
          "scatter": [
           {
            "marker": {
             "colorbar": {
              "outlinewidth": 0,
              "ticks": ""
             }
            },
            "type": "scatter"
           }
          ],
          "scatter3d": [
           {
            "line": {
             "colorbar": {
              "outlinewidth": 0,
              "ticks": ""
             }
            },
            "marker": {
             "colorbar": {
              "outlinewidth": 0,
              "ticks": ""
             }
            },
            "type": "scatter3d"
           }
          ],
          "scattercarpet": [
           {
            "marker": {
             "colorbar": {
              "outlinewidth": 0,
              "ticks": ""
             }
            },
            "type": "scattercarpet"
           }
          ],
          "scattergeo": [
           {
            "marker": {
             "colorbar": {
              "outlinewidth": 0,
              "ticks": ""
             }
            },
            "type": "scattergeo"
           }
          ],
          "scattergl": [
           {
            "marker": {
             "colorbar": {
              "outlinewidth": 0,
              "ticks": ""
             }
            },
            "type": "scattergl"
           }
          ],
          "scattermapbox": [
           {
            "marker": {
             "colorbar": {
              "outlinewidth": 0,
              "ticks": ""
             }
            },
            "type": "scattermapbox"
           }
          ],
          "scatterpolar": [
           {
            "marker": {
             "colorbar": {
              "outlinewidth": 0,
              "ticks": ""
             }
            },
            "type": "scatterpolar"
           }
          ],
          "scatterpolargl": [
           {
            "marker": {
             "colorbar": {
              "outlinewidth": 0,
              "ticks": ""
             }
            },
            "type": "scatterpolargl"
           }
          ],
          "scatterternary": [
           {
            "marker": {
             "colorbar": {
              "outlinewidth": 0,
              "ticks": ""
             }
            },
            "type": "scatterternary"
           }
          ],
          "surface": [
           {
            "colorbar": {
             "outlinewidth": 0,
             "ticks": ""
            },
            "colorscale": [
             [
              0,
              "#0d0887"
             ],
             [
              0.1111111111111111,
              "#46039f"
             ],
             [
              0.2222222222222222,
              "#7201a8"
             ],
             [
              0.3333333333333333,
              "#9c179e"
             ],
             [
              0.4444444444444444,
              "#bd3786"
             ],
             [
              0.5555555555555556,
              "#d8576b"
             ],
             [
              0.6666666666666666,
              "#ed7953"
             ],
             [
              0.7777777777777778,
              "#fb9f3a"
             ],
             [
              0.8888888888888888,
              "#fdca26"
             ],
             [
              1,
              "#f0f921"
             ]
            ],
            "type": "surface"
           }
          ],
          "table": [
           {
            "cells": {
             "fill": {
              "color": "#EBF0F8"
             },
             "line": {
              "color": "white"
             }
            },
            "header": {
             "fill": {
              "color": "#C8D4E3"
             },
             "line": {
              "color": "white"
             }
            },
            "type": "table"
           }
          ]
         },
         "layout": {
          "annotationdefaults": {
           "arrowcolor": "#2a3f5f",
           "arrowhead": 0,
           "arrowwidth": 1
          },
          "autotypenumbers": "strict",
          "coloraxis": {
           "colorbar": {
            "outlinewidth": 0,
            "ticks": ""
           }
          },
          "colorscale": {
           "diverging": [
            [
             0,
             "#8e0152"
            ],
            [
             0.1,
             "#c51b7d"
            ],
            [
             0.2,
             "#de77ae"
            ],
            [
             0.3,
             "#f1b6da"
            ],
            [
             0.4,
             "#fde0ef"
            ],
            [
             0.5,
             "#f7f7f7"
            ],
            [
             0.6,
             "#e6f5d0"
            ],
            [
             0.7,
             "#b8e186"
            ],
            [
             0.8,
             "#7fbc41"
            ],
            [
             0.9,
             "#4d9221"
            ],
            [
             1,
             "#276419"
            ]
           ],
           "sequential": [
            [
             0,
             "#0d0887"
            ],
            [
             0.1111111111111111,
             "#46039f"
            ],
            [
             0.2222222222222222,
             "#7201a8"
            ],
            [
             0.3333333333333333,
             "#9c179e"
            ],
            [
             0.4444444444444444,
             "#bd3786"
            ],
            [
             0.5555555555555556,
             "#d8576b"
            ],
            [
             0.6666666666666666,
             "#ed7953"
            ],
            [
             0.7777777777777778,
             "#fb9f3a"
            ],
            [
             0.8888888888888888,
             "#fdca26"
            ],
            [
             1,
             "#f0f921"
            ]
           ],
           "sequentialminus": [
            [
             0,
             "#0d0887"
            ],
            [
             0.1111111111111111,
             "#46039f"
            ],
            [
             0.2222222222222222,
             "#7201a8"
            ],
            [
             0.3333333333333333,
             "#9c179e"
            ],
            [
             0.4444444444444444,
             "#bd3786"
            ],
            [
             0.5555555555555556,
             "#d8576b"
            ],
            [
             0.6666666666666666,
             "#ed7953"
            ],
            [
             0.7777777777777778,
             "#fb9f3a"
            ],
            [
             0.8888888888888888,
             "#fdca26"
            ],
            [
             1,
             "#f0f921"
            ]
           ]
          },
          "colorway": [
           "#636efa",
           "#EF553B",
           "#00cc96",
           "#ab63fa",
           "#FFA15A",
           "#19d3f3",
           "#FF6692",
           "#B6E880",
           "#FF97FF",
           "#FECB52"
          ],
          "font": {
           "color": "#2a3f5f"
          },
          "geo": {
           "bgcolor": "white",
           "lakecolor": "white",
           "landcolor": "white",
           "showlakes": true,
           "showland": true,
           "subunitcolor": "#C8D4E3"
          },
          "hoverlabel": {
           "align": "left"
          },
          "hovermode": "closest",
          "mapbox": {
           "style": "light"
          },
          "paper_bgcolor": "white",
          "plot_bgcolor": "white",
          "polar": {
           "angularaxis": {
            "gridcolor": "#EBF0F8",
            "linecolor": "#EBF0F8",
            "ticks": ""
           },
           "bgcolor": "white",
           "radialaxis": {
            "gridcolor": "#EBF0F8",
            "linecolor": "#EBF0F8",
            "ticks": ""
           }
          },
          "scene": {
           "xaxis": {
            "backgroundcolor": "white",
            "gridcolor": "#DFE8F3",
            "gridwidth": 2,
            "linecolor": "#EBF0F8",
            "showbackground": true,
            "ticks": "",
            "zerolinecolor": "#EBF0F8"
           },
           "yaxis": {
            "backgroundcolor": "white",
            "gridcolor": "#DFE8F3",
            "gridwidth": 2,
            "linecolor": "#EBF0F8",
            "showbackground": true,
            "ticks": "",
            "zerolinecolor": "#EBF0F8"
           },
           "zaxis": {
            "backgroundcolor": "white",
            "gridcolor": "#DFE8F3",
            "gridwidth": 2,
            "linecolor": "#EBF0F8",
            "showbackground": true,
            "ticks": "",
            "zerolinecolor": "#EBF0F8"
           }
          },
          "shapedefaults": {
           "line": {
            "color": "#2a3f5f"
           }
          },
          "ternary": {
           "aaxis": {
            "gridcolor": "#DFE8F3",
            "linecolor": "#A2B1C6",
            "ticks": ""
           },
           "baxis": {
            "gridcolor": "#DFE8F3",
            "linecolor": "#A2B1C6",
            "ticks": ""
           },
           "bgcolor": "white",
           "caxis": {
            "gridcolor": "#DFE8F3",
            "linecolor": "#A2B1C6",
            "ticks": ""
           }
          },
          "title": {
           "x": 0.05
          },
          "xaxis": {
           "automargin": true,
           "gridcolor": "#EBF0F8",
           "linecolor": "#EBF0F8",
           "ticks": "",
           "title": {
            "standoff": 15
           },
           "zerolinecolor": "#EBF0F8",
           "zerolinewidth": 2
          },
          "yaxis": {
           "automargin": true,
           "gridcolor": "#EBF0F8",
           "linecolor": "#EBF0F8",
           "ticks": "",
           "title": {
            "standoff": 15
           },
           "zerolinecolor": "#EBF0F8",
           "zerolinewidth": 2
          }
         }
        },
        "title": {
         "font": {
          "color": "Black",
          "size": 22
         },
         "text": "",
         "x": 0.5,
         "xanchor": "center",
         "yanchor": "top"
        },
        "width": 1000,
        "xaxis": {
         "anchor": "y",
         "domain": [
          0,
          0.175
         ],
         "showgrid": true
        },
        "xaxis10": {
         "anchor": "y10",
         "domain": [
          0.275,
          0.45
         ],
         "showgrid": true
        },
        "xaxis11": {
         "anchor": "y11",
         "domain": [
          0.55,
          0.7250000000000001
         ],
         "showgrid": true
        },
        "xaxis12": {
         "anchor": "y12",
         "domain": [
          0.825,
          1
         ],
         "showgrid": true
        },
        "xaxis2": {
         "anchor": "y2",
         "domain": [
          0.275,
          0.45
         ],
         "showgrid": true
        },
        "xaxis3": {
         "anchor": "y3",
         "domain": [
          0.55,
          0.7250000000000001
         ],
         "showgrid": true
        },
        "xaxis4": {
         "anchor": "y4",
         "domain": [
          0.825,
          1
         ],
         "showgrid": true
        },
        "xaxis5": {
         "anchor": "y5",
         "domain": [
          0,
          0.175
         ],
         "showgrid": true
        },
        "xaxis6": {
         "anchor": "y6",
         "domain": [
          0.275,
          0.45
         ],
         "showgrid": true
        },
        "xaxis7": {
         "anchor": "y7",
         "domain": [
          0.55,
          0.7250000000000001
         ],
         "showgrid": true
        },
        "xaxis8": {
         "anchor": "y8",
         "domain": [
          0.825,
          1
         ],
         "showgrid": true
        },
        "xaxis9": {
         "anchor": "y9",
         "domain": [
          0,
          0.175
         ],
         "showgrid": true
        },
        "yaxis": {
         "anchor": "x",
         "domain": [
          0.7555555555555555,
          1
         ],
         "showgrid": true
        },
        "yaxis10": {
         "anchor": "x10",
         "domain": [
          0,
          0.24444444444444446
         ],
         "showgrid": true
        },
        "yaxis11": {
         "anchor": "x11",
         "domain": [
          0,
          0.24444444444444446
         ],
         "showgrid": true
        },
        "yaxis12": {
         "anchor": "x12",
         "domain": [
          0,
          0.24444444444444446
         ],
         "showgrid": true
        },
        "yaxis2": {
         "anchor": "x2",
         "domain": [
          0.7555555555555555,
          1
         ],
         "showgrid": true
        },
        "yaxis3": {
         "anchor": "x3",
         "domain": [
          0.7555555555555555,
          1
         ],
         "showgrid": true
        },
        "yaxis4": {
         "anchor": "x4",
         "domain": [
          0.7555555555555555,
          1
         ],
         "showgrid": true
        },
        "yaxis5": {
         "anchor": "x5",
         "domain": [
          0.37777777777777777,
          0.6222222222222222
         ],
         "showgrid": true
        },
        "yaxis6": {
         "anchor": "x6",
         "domain": [
          0.37777777777777777,
          0.6222222222222222
         ],
         "showgrid": true
        },
        "yaxis7": {
         "anchor": "x7",
         "domain": [
          0.37777777777777777,
          0.6222222222222222
         ],
         "showgrid": true
        },
        "yaxis8": {
         "anchor": "x8",
         "domain": [
          0.37777777777777777,
          0.6222222222222222
         ],
         "showgrid": true
        },
        "yaxis9": {
         "anchor": "x9",
         "domain": [
          0,
          0.24444444444444446
         ],
         "showgrid": true
        }
       }
      }
     },
     "metadata": {},
     "output_type": "display_data"
    }
   ],
   "source": [
    "fig = model.visualize_barchart(top_n_topics=12, title='')\n",
    "py.plot(fig, filename='Topic terms bar chart', auto_open=False)\n",
    "fig"
   ]
  },
  {
   "attachments": {},
   "cell_type": "markdown",
   "metadata": {},
   "source": [
    "Topics over time"
   ]
  },
  {
   "cell_type": "code",
   "execution_count": 29,
   "metadata": {},
   "outputs": [
    {
     "data": {
      "application/vnd.plotly.v1+json": {
       "config": {
        "plotlyServerURL": "https://plotly.com"
       },
       "data": [
        {
         "hoverinfo": "text",
         "hovertext": [
          "<b>Topic 0</b><br>Words: thnks, brandon, tumben, awkawk, kokk",
          "<b>Topic 0</b><br>Words: guys, brandon, tumben, kokk, awkawk",
          "<b>Topic 0</b><br>Words: lho, terbatas, gmeet, brandon, tumben",
          "<b>Topic 0</b><br>Words: terbaik, dh, emg, tl, tumben",
          "<b>Topic 0</b><br>Words: penggantii, liburr, kokk, gada, kelas",
          "<b>Topic 0</b><br>Words: cusss, brandon, tumben, awkawk, kokk",
          "<b>Topic 0</b><br>Words: sedus, beli, indomie, brandon, tumben",
          "<b>Topic 0</b><br>Words: bobo, met, brandon, tumben, awkawk",
          "<b>Topic 0</b><br>Words: bgnin, indomie, pake, brandon, tumben",
          "<b>Topic 0</b><br>Words: 18, kekny, brandon, tumben, kokk",
          "<b>Topic 0</b><br>Words: kayaknyaa, belom, brandon, tumben, awkawk",
          "<b>Topic 0</b><br>Words: sholeh, hamdalah, rezeki, anak, brandon",
          "<b>Topic 0</b><br>Words: puyeng, sebenernya, agak, wkwk, brandon",
          "<b>Topic 0</b><br>Words: brader, kerennn, brandon, tumben, kokk",
          "<b>Topic 0</b><br>Words: hoki, awkawk, brandon, tumben, kokk",
          "<b>Topic 0</b><br>Words: nanyain, kabar, tumben, brandon, awkawk",
          "<b>Topic 0</b><br>Words: keren, brandon, tumben, kokk, awkawk",
          "<b>Topic 0</b><br>Words: ngarepnta, tumbler, revou, brandon, tumben",
          "<b>Topic 0</b><br>Words: ngakak, brandon, tumben, kokk, awkawk",
          "<b>Topic 0</b><br>Words: sus, brandon, tumben, awkawk, kokk",
          "<b>Topic 0</b><br>Words: gais, bobo, met, brandon, tumben",
          "<b>Topic 0</b><br>Words: nina, boboin, brandon, tumben, kokk",
          "<b>Topic 0</b><br>Words: lanjutin, maap, brandon, tumben, awkawk",
          "<b>Topic 0</b><br>Words: ish, brandon, tumben, awkawk, kokk",
          "<b>Topic 0</b><br>Words: okaaaii, brandon, tumben, awkawk, kokk",
          "<b>Topic 0</b><br>Words: compilee, slesai, blm, di, brandon",
          "<b>Topic 0</b><br>Words: okaaii, brandon, tumben, awkawk, kokk",
          "<b>Topic 0</b><br>Words: amaan, brandon, tumben, kokk, awkawk",
          "<b>Topic 0</b><br>Words: pukpuk, tumben, brandon, awkawk, kokk",
          "<b>Topic 0</b><br>Words: statement, kirain, brandon, tumben, kokk",
          "<b>Topic 0</b><br>Words: keberadaan, sbg, receh, sm, udah",
          "<b>Topic 0</b><br>Words: laporin, ah, brandon, tumben, awkawk",
          "<b>Topic 0</b><br>Words: ngancem, mulu, brandon, tumben, kokk",
          "<b>Topic 0</b><br>Words: btr, tumben, libur, buka, lg",
          "<b>Topic 0</b><br>Words: tanggung, lempar, jwb, suka, tl",
          "<b>Topic 0</b><br>Words: dipindahin, kapipin, ggra, knp, coba",
          "<b>Topic 0</b><br>Words: ribetz, brandon, tumben, kokk, awkawk",
          "<b>Topic 0</b><br>Words: geli, brandon, tumben, awkawk, kokk",
          "<b>Topic 0</b><br>Words: ank, bunda, corla, brandon, tumben",
          "<b>Topic 0</b><br>Words: porno, joget, live, kak, brandon",
          "<b>Topic 0</b><br>Words: muliawan, kokk, senior, namanyaa, lengkap",
          "<b>Topic 0</b><br>Words: hrsny, wkakakak, atas, paling, yg",
          "<b>Topic 0</b><br>Words: muda, woi, ga, brandon, tumben",
          "<b>Topic 0</b><br>Words: brandon, lapor, nomor, lha, ttp",
          "<b>Topic 0</b><br>Words: ex, tl, brandon, tumben, kokk",
          "<b>Topic 0</b><br>Words: nitips, brandon, tumben, awkawk, kokk",
          "<b>Topic 0</b><br>Words: gaaas, brandon, tumben, awkawk, kokk",
          "<b>Topic 0</b><br>Words: nagih, betah, brandon, tumben, kokk",
          "<b>Topic 0</b><br>Words: dipin, brandon, tumben, awkawk, kokk",
          "<b>Topic 0</b><br>Words: tau, brandon, tumben, awkawk, kokk",
          "<b>Topic 0</b><br>Words: tega, brandon, tumben, awkawk, kokk",
          "<b>Topic 0</b><br>Words: see, brandon, tumben, awkawk, kokk",
          "<b>Topic 0</b><br>Words: neks, wik, stil, fondesien, brandon",
          "<b>Topic 0</b><br>Words: hayolho, brandon, tumben, kokk, awkawk",
          "<b>Topic 0</b><br>Words: bebaaas, brandon, tumben, awkawk, kokk",
          "<b>Topic 0</b><br>Words: gais, mangat, brandon, tumben, kokk",
          "<b>Topic 0</b><br>Words: masakin, indomi, gua, kak, brandon",
          "<b>Topic 0</b><br>Words: owkayyy, brandon, tumben, awkawk, kokk",
          "<b>Topic 0</b><br>Words: ngumpul, tumben, brandon, kokk, awkawk",
          "<b>Topic 0</b><br>Words: mutilasi, somasi, kudeta, skalian, aja",
          "<b>Topic 0</b><br>Words: regresi, brandon, tumben, kokk, awkawk",
          "<b>Topic 0</b><br>Words: ajaaa, enak, brandon, tumben, kokk",
          "<b>Topic 0</b><br>Words: bawel, serius, tumben, bgt, brandon",
          "<b>Topic 0</b><br>Words: analir, brandon, tumben, kokk, awkawk",
          "<b>Topic 0</b><br>Words: aman, brandon, tumben, awkawk, kokk",
          "<b>Topic 0</b><br>Words: principle, pyramid, brandon, tumben, awkawk",
          "<b>Topic 0</b><br>Words: owalaah, brandon, tumben, awkawk, kokk",
          "<b>Topic 0</b><br>Words: parah, aris, tumben, brandon, awkawk",
          "<b>Topic 0</b><br>Words: uwiiii, brandon, tumben, kokk, awkawk",
          "<b>Topic 0</b><br>Words: awkawk, brandon, tumben, kokk, gais",
          "<b>Topic 0</b><br>Words: suuudzonnnn, brandon, tumben, awkawk, kokk",
          "<b>Topic 0</b><br>Words: selaw, proyek, tumbal, brandon, tumben",
          "<b>Topic 0</b><br>Words: panuan, brandon, tumben, kokk, awkawk",
          "<b>Topic 0</b><br>Words: arisss, congrats, brandon, tumben, kokk",
          "<b>Topic 0</b><br>Words: barklight, nonaktif, taun, tp, udah",
          "<b>Topic 0</b><br>Words: malem, brandon, tumben, kokk, awkawk",
          "<b>Topic 0</b><br>Words: nggaa, dih, brandon, tumben, kokk",
          "<b>Topic 0</b><br>Words: lama, bgt, tumben, brandon, awkawk",
          "<b>Topic 0</b><br>Words: curhat, kuyy, brandon, tumben, kokk",
          "<b>Topic 0</b><br>Words: kamis, maap, brandon, tumben, awkawk",
          "<b>Topic 0</b><br>Words: cewe, cuman, tuh, kan, kalau",
          "<b>Topic 0</b><br>Words: langung, vivin, tajam, brandon, tumben",
          "<b>Topic 0</b><br>Words: sisany, anjir, brandon, dateng, tolong",
          "<b>Topic 0</b><br>Words: keliatan, dah, brandon, tumben, kokk",
          "<b>Topic 0</b><br>Words: jir, bodo, brandon, tumben, kokk",
          "<b>Topic 0</b><br>Words: akhiiiir, paling, brandon, tumben, kokk",
          "<b>Topic 0</b><br>Words: tensi, tinggi, brandon, tumben, kokk",
          "<b>Topic 0</b><br>Words: sabrina, baju, pakai, kajal, brandon",
          "<b>Topic 0</b><br>Words: kegedean, jaketny, cmn, brandon, tumben",
          "<b>Topic 0</b><br>Words: ganteng, curiga, atasanya, bawahannya, kolor",
          "<b>Topic 0</b><br>Words: done, kak, brandon, tumben, kokk",
          "<b>Topic 0</b><br>Words: otw, isi, brandon, tumben, kokk"
         ],
         "marker": {
          "color": "#E69F00"
         },
         "mode": "lines",
         "name": "0_brandon_tumben_kokk_awkawk",
         "type": "scatter",
         "x": [
          "2023-01-11T20:58:00",
          "2023-01-16T21:11:00",
          "2023-01-16T21:20:00",
          "2023-01-16T21:23:00",
          "2023-01-19T21:22:00",
          "2023-01-21T16:12:00",
          "2023-01-24T21:06:00",
          "2023-01-26T21:28:00",
          "2023-01-26T21:39:00",
          "2023-01-28T10:51:00",
          "2023-01-28T15:39:00",
          "2023-01-30T20:54:00",
          "2023-02-01T21:18:00",
          "2023-02-06T19:21:00",
          "2023-02-06T19:24:00",
          "2023-02-09T14:01:00",
          "2023-02-09T14:16:00",
          "2023-02-09T15:08:00",
          "2023-02-09T15:10:00",
          "2023-02-13T21:13:00",
          "2023-02-13T21:22:00",
          "2023-02-14T20:53:00",
          "2023-02-14T20:57:00",
          "2023-02-15T10:06:00",
          "2023-02-15T19:27:00",
          "2023-02-19T10:32:00",
          "2023-02-20T19:03:00",
          "2023-02-21T19:32:00",
          "2023-02-21T22:11:00",
          "2023-02-22T13:07:00",
          "2023-02-22T13:10:00",
          "2023-02-22T13:13:00",
          "2023-02-22T13:35:00",
          "2023-02-22T18:59:00",
          "2023-02-22T19:58:00",
          "2023-02-23T11:07:00",
          "2023-02-23T16:08:00",
          "2023-02-23T16:12:00",
          "2023-02-23T17:46:00",
          "2023-02-23T21:02:00",
          "2023-02-24T20:34:00",
          "2023-02-24T20:36:00",
          "2023-02-24T20:39:00",
          "2023-02-24T20:40:00",
          "2023-02-27T15:43:00",
          "2023-02-27T20:02:00",
          "2023-03-01T18:35:00",
          "2023-03-01T18:40:00",
          "2023-03-01T19:48:00",
          "2023-03-01T19:54:00",
          "2023-03-03T10:33:00",
          "2023-03-03T17:02:00",
          "2023-03-03T22:39:00",
          "2023-03-04T11:44:00",
          "2023-03-06T21:23:00",
          "2023-03-07T19:31:00",
          "2023-03-07T20:44:00",
          "2023-03-08T06:35:00",
          "2023-03-08T21:09:00",
          "2023-03-08T21:10:00",
          "2023-03-08T21:11:00",
          "2023-03-08T21:21:00",
          "2023-03-08T21:25:00",
          "2023-03-08T22:12:00",
          "2023-03-09T21:17:00",
          "2023-03-11T14:00:00",
          "2023-03-11T14:07:00",
          "2023-03-16T09:30:00",
          "2023-03-21T19:02:00",
          "2023-03-27T22:44:00",
          "2023-04-01T11:18:00",
          "2023-04-03T20:44:00",
          "2023-04-03T20:49:00",
          "2023-04-05T21:27:00",
          "2023-04-05T21:35:00",
          "2023-04-06T21:31:00",
          "2023-04-10T21:02:00",
          "2023-04-11T12:09:00",
          "2023-04-11T12:10:00",
          "2023-04-11T12:13:00",
          "2023-04-11T12:14:00",
          "2023-04-11T12:15:00",
          "2023-04-11T12:20:00",
          "2023-04-11T12:21:00",
          "2023-04-11T12:22:00",
          "2023-04-11T12:24:00",
          "2023-04-11T12:29:00",
          "2023-04-13T20:10:00",
          "2023-04-13T20:12:00",
          "2023-04-13T20:35:00",
          "2023-04-13T21:45:00",
          "2023-04-17T19:48:00"
         ],
         "y": [
          1,
          1,
          1,
          1,
          1,
          1,
          1,
          1,
          1,
          1,
          1,
          2,
          1,
          1,
          2,
          1,
          1,
          1,
          1,
          1,
          1,
          1,
          2,
          1,
          1,
          1,
          1,
          1,
          1,
          1,
          1,
          1,
          1,
          3,
          1,
          1,
          1,
          1,
          1,
          2,
          5,
          1,
          2,
          2,
          1,
          1,
          1,
          2,
          1,
          1,
          1,
          1,
          1,
          1,
          1,
          1,
          2,
          1,
          1,
          3,
          1,
          1,
          2,
          1,
          1,
          1,
          1,
          1,
          1,
          1,
          1,
          2,
          1,
          1,
          1,
          1,
          2,
          1,
          1,
          2,
          1,
          2,
          2,
          1,
          1,
          1,
          1,
          1,
          1,
          2,
          1,
          1
         ]
        },
        {
         "hoverinfo": "text",
         "hovertext": [
          "<b>Topic 1</b><br>Words: wkwkwk, wkwkw, wkwkkw, wkkwkwk, wkwkwkkw",
          "<b>Topic 1</b><br>Words: mixue, gapapa, wkwk, wkwkwk, wkwkw",
          "<b>Topic 1</b><br>Words: online, wkwkw, buat, wkwkwk, wkwkkw",
          "<b>Topic 1</b><br>Words: idih, penjilat, wkwkwkkw, wkkwkw, wkwkwk",
          "<b>Topic 1</b><br>Words: waaawww, wawwww, wkwkwk, wkwkw, wkwkkw",
          "<b>Topic 1</b><br>Words: wwkwkwwkkw, wkwkwk, wkwkw, wkwkkw, wkkwkwk",
          "<b>Topic 1</b><br>Words: wkkwkwkwk, wkwkwk, wkwkw, wkwkkw, wkkwkwk",
          "<b>Topic 1</b><br>Words: suddah, semangay, presentasi, padahal, kwkwkw",
          "<b>Topic 1</b><br>Words: tengkyu2, geees, jg, wkwkwk, wkwkw",
          "<b>Topic 1</b><br>Words: wkwkwkwk, wkwkwk, wkwkw, wkwkkw, wkkwkwk",
          "<b>Topic 1</b><br>Words: panutanqu, wkwkw, erland, wkwkwk, wkwkkw",
          "<b>Topic 1</b><br>Words: sutoo, mario, org, nama, jd",
          "<b>Topic 1</b><br>Words: lupaa, yaaaaa, jgn, isi, wkwkwk",
          "<b>Topic 1</b><br>Words: byk, wkwkwkwkwkw, smua, izin, apaan",
          "<b>Topic 1</b><br>Words: bntr, bareng, khalid, duo, diskusi",
          "<b>Topic 1</b><br>Words: wkwk, wkwkwk, wkwkw, wkwkkw, wkkwkwk",
          "<b>Topic 1</b><br>Words: wkwkwkwwk, yaudah, wkwkwk, wkwkw, wkwkkw",
          "<b>Topic 1</b><br>Words: mudeng, msh, bsa, request, iyaa",
          "<b>Topic 1</b><br>Words: bknny, pip, gopay, hahahah, dpt",
          "<b>Topic 1</b><br>Words: mager, belajar, wkwkkw, lagi, aku",
          "<b>Topic 1</b><br>Words: wuaaaaa, wkwkwk, wkwkw, wkwkkw, wkkwkwk",
          "<b>Topic 1</b><br>Words: satu, dapet, kali, wkwkw, ntar",
          "<b>Topic 1</b><br>Words: wkwkwk, wkwkw, wkwkkw, wkkwkwk, wkwkwkkw",
          "<b>Topic 1</b><br>Words: cenayang, yaaa, wkwk, wkwkwk, wkwkw",
          "<b>Topic 1</b><br>Words: wkwkkwwkkwwkwkkwwk, wkwkwk, wkwkw, wkwkkw, wkkwkwk",
          "<b>Topic 1</b><br>Words: wkwkwkww, muntah, bgt, wkwkwk, wkwkw",
          "<b>Topic 1</b><br>Words: cpt, bodoh, wkwkwkwkw, bgt, wkwkwk",
          "<b>Topic 1</b><br>Words: wkwwkwkkw, wkwkwk, wkwkw, wkwkkw, wkkwkwk",
          "<b>Topic 1</b><br>Words: wkwkwwkkw, iyaa, iya, wkwkwk, wkwkw",
          "<b>Topic 1</b><br>Words: syedihhh, dehh, wkwkwk, wkwkw, wkwkkw",
          "<b>Topic 1</b><br>Words: wkwkwk, wkwkw, wkwkkw, wkkwkwk, wkwkwkkw",
          "<b>Topic 1</b><br>Words: lho, lha, in, belom, wkwkwk",
          "<b>Topic 1</b><br>Words: eek, wkwkkw, wkwkwk, wkwkw, wkkwkwk",
          "<b>Topic 1</b><br>Words: 50rb, mayan, juli, wkwkkw, sampe",
          "<b>Topic 1</b><br>Words: website, kan, wkwkwk, wkwkw, wkwkkw",
          "<b>Topic 1</b><br>Words: wkwkwkwkkwwk, gamandi, oncam, stalk, pd",
          "<b>Topic 1</b><br>Words: squishy, wkwkwkkw, kek, jal, kak",
          "<b>Topic 1</b><br>Words: trlalu, idol, tua, wkwkkw, jd",
          "<b>Topic 1</b><br>Words: ngpn, woi, wkwkwk, wkwkw, wkwkkw",
          "<b>Topic 1</b><br>Words: bundir, horor, woy, kwkwkw, jgn",
          "<b>Topic 1</b><br>Words: wkwkwk, wkwkw, wkwkkw, wkkwkwk, wkwkwkkw",
          "<b>Topic 1</b><br>Words: wkwkwkwwkwkw, wkwkwk, wkwkw, wkwkkw, wkkwkwk",
          "<b>Topic 1</b><br>Words: offcam, lgsng, wkwkwkw, wkwkwk, wkwkw",
          "<b>Topic 1</b><br>Words: riss, wkwkw, thank, wkwkwk, wkwkkw",
          "<b>Topic 1</b><br>Words: incase, of, copy, sabtu, sim",
          "<b>Topic 1</b><br>Words: rosyidah, ardiyanti, hidayatur, benardi, rika",
          "<b>Topic 1</b><br>Words: hiyaaa, wkkwkwk, wkwkw, wkwkwk, wkwkkw",
          "<b>Topic 1</b><br>Words: wkwkw, wkwkwk, wkwkkw, wkkwkwk, wkwkwkkw",
          "<b>Topic 1</b><br>Words: asem, wkwkwk, wkwkw, wkwkkw, wkkwkwk",
          "<b>Topic 1</b><br>Words: yowww, kak, wkwkwk, wkwkw, wkwkkw",
          "<b>Topic 1</b><br>Words: wkwkwkkwk, wkwkwk, wkwkw, wkwkkw, wkkwkwk",
          "<b>Topic 1</b><br>Words: wkwkkwkwk, wkwkwk, wkwkw, wkwkkw, wkkwkwk",
          "<b>Topic 1</b><br>Words: wkwkkwkkwkwk, wkwkwk, wkwkw, wkwkkw, wkkwkwk",
          "<b>Topic 1</b><br>Words: wkwkw, wkwkwk, wkwkkw, wkkwkwk, wkwkwkkw",
          "<b>Topic 1</b><br>Words: bknny, dengerin, malah, kls, bkin",
          "<b>Topic 1</b><br>Words: wkwkwk, wkwkw, wkwkkw, wkkwkwk, wkwkwkkw",
          "<b>Topic 1</b><br>Words: wkwkwkwk, wkwkwk, wkwkw, wkwkkw, wkkwkwk",
          "<b>Topic 1</b><br>Words: chuakksss, wkwkwk, wkwkw, wkwkkw, wkkwkwk",
          "<b>Topic 1</b><br>Words: wkwkwk, wkwkw, wkwkkw, wkkwkwk, wkwkwkkw",
          "<b>Topic 1</b><br>Words: disebut, namaku, wkkwkwk, wkwkkw, wkwkwk",
          "<b>Topic 1</b><br>Words: wkkwwkwk, wkwkwk, wkwkw, wkwkkw, wkkwkwk",
          "<b>Topic 1</b><br>Words: hbd, wiii, rika, wkwkwk, wkwkw",
          "<b>Topic 1</b><br>Words: wkwkkwwk, wkwkwk, wkwkw, wkwkkw, wkkwkwk",
          "<b>Topic 1</b><br>Words: wkwkwkwk, wkwkwk, wkwkw, wkwkkw, wkkwkwk",
          "<b>Topic 1</b><br>Words: wkwkwkw, wkwkwk, wkwkw, wkwkkw, wkkwkwk",
          "<b>Topic 1</b><br>Words: wkwkwk, wkwkw, wkwkkw, wkkwkwk, wkwkwkkw",
          "<b>Topic 1</b><br>Words: typo, sorry, wkwkwkkw, wkwkwk, wkwkw",
          "<b>Topic 1</b><br>Words: wkwkwkw, wkwkwk, wkwkw, wkwkkw, wkkwkwk",
          "<b>Topic 1</b><br>Words: aduuuh, wkwkkwkwk, wkwkw, wkwkwk, wkwkkw",
          "<b>Topic 1</b><br>Words: skkwkwk, wkwkwk, wkwkw, wkwkkw, wkkwkwk",
          "<b>Topic 1</b><br>Words: euw, cocoklogi, wkwk, yaa, wkwkwk",
          "<b>Topic 1</b><br>Words: wkkwkw, wkwkwk, wkwkw, wkwkkw, wkkwkwk",
          "<b>Topic 1</b><br>Words: bisaaaa, gituuu, yaaaaa, wkwkwkw, wkwkwk",
          "<b>Topic 1</b><br>Words: jh, khalid, wkwkwk, wkwkw, wkwkkw",
          "<b>Topic 1</b><br>Words: syahadat, sampe, wkwkwk, lagi, wkwkw",
          "<b>Topic 1</b><br>Words: wkwkwk, wkwkw, wkwkkw, wkkwkwk, wkwkwkkw",
          "<b>Topic 1</b><br>Words: foto, wkwkkw, dulu, wkwkwk, wkwkw",
          "<b>Topic 1</b><br>Words: wkwkwk, wkwkw, wkwkkw, wkkwkwk, wkwkwkkw",
          "<b>Topic 1</b><br>Words: salah, wkwk, wkwkwk, wkwkw, wkwkkw",
          "<b>Topic 1</b><br>Words: untung, wkkwkwk, wkwkwkkw, saja, wkwk",
          "<b>Topic 1</b><br>Words: tuuu, hayyoo, ajg, geblek, kwkwk",
          "<b>Topic 1</b><br>Words: kwkkwkwkwk, consul, wkwkwkwkw, apaan, gfp",
          "<b>Topic 1</b><br>Words: herdian, jd, kok, sih, wkwkwk",
          "<b>Topic 1</b><br>Words: kwakwakawk, mabok, wkkwkwk, ngakak, emg",
          "<b>Topic 1</b><br>Words: wkwkkwkwkwkk, wkwkwk, wkwkw, wkwkkw, wkkwkwk",
          "<b>Topic 1</b><br>Words: wkwkkwkwkwk, wkwkwk, wkwkw, wkwkkw, wkkwkwk",
          "<b>Topic 1</b><br>Words: goodluckkkkk, ekwkkwkwkwk, wkwkwk, wkwkw, wkwkkw",
          "<b>Topic 1</b><br>Words: dhit, anjing, valdo, si, bgt",
          "<b>Topic 1</b><br>Words: njir, ngakak, wkwkwk, wkwkw, wkwkkw",
          "<b>Topic 1</b><br>Words: ngomong, ngapain, join, tadi, wkwkwkwk",
          "<b>Topic 1</b><br>Words: daritadi, typing, ichsan, wkwkwk, kak",
          "<b>Topic 1</b><br>Words: goodluckk, wkwkwk, wkwkw, wkwkkw, wkkwkwk",
          "<b>Topic 1</b><br>Words: wkwkkwwkwk, nakal, jgn, wkwkw, wkwkwk",
          "<b>Topic 1</b><br>Words: kwkwkkwkwk, wkwkwk, wkwkw, wkwkkw, wkkwkwk",
          "<b>Topic 1</b><br>Words: lhoooo, jelasss, kwkwk, dong, yaa",
          "<b>Topic 1</b><br>Words: bagusin, wkwkwkwkwkw, dongg, sm, buat",
          "<b>Topic 1</b><br>Words: wkwkwkwk, wkwkwk, wkwkw, wkwkkw, wkkwkwk",
          "<b>Topic 1</b><br>Words: wkkwkwkwkkww, wkwkwk, wkwkw, wkwkkw, wkkwkwk",
          "<b>Topic 1</b><br>Words: wkwkwwk, smuaa, tencuuuu, wkwkwk, wkwkw"
         ],
         "marker": {
          "color": "#56B4E9"
         },
         "mode": "lines",
         "name": "1_wkwkwk_wkwkw_wkwkkw_wkkwkwk",
         "type": "scatter",
         "x": [
          "2023-01-09T21:04:00",
          "2023-01-16T21:15:00",
          "2023-01-16T21:20:00",
          "2023-01-16T21:24:00",
          "2023-01-16T21:25:00",
          "2023-01-24T21:10:00",
          "2023-01-30T20:53:00",
          "2023-01-30T20:54:00",
          "2023-01-31T21:01:00",
          "2023-02-09T14:01:00",
          "2023-02-09T14:21:00",
          "2023-02-09T15:10:00",
          "2023-02-13T21:02:00",
          "2023-02-13T21:22:00",
          "2023-02-14T20:55:00",
          "2023-02-14T20:57:00",
          "2023-02-15T11:26:00",
          "2023-02-15T18:46:00",
          "2023-02-15T19:04:00",
          "2023-02-16T18:16:00",
          "2023-02-18T10:05:00",
          "2023-02-20T19:04:00",
          "2023-02-21T19:30:00",
          "2023-02-21T21:12:00",
          "2023-02-22T13:06:00",
          "2023-02-22T13:11:00",
          "2023-02-22T19:00:00",
          "2023-02-22T19:59:00",
          "2023-02-23T11:00:00",
          "2023-02-23T11:01:00",
          "2023-02-23T16:05:00",
          "2023-02-23T16:09:00",
          "2023-02-23T16:17:00",
          "2023-02-23T16:47:00",
          "2023-02-23T19:10:00",
          "2023-02-24T20:34:00",
          "2023-02-27T15:34:00",
          "2023-02-27T15:36:00",
          "2023-02-27T19:42:00",
          "2023-02-27T19:44:00",
          "2023-02-27T22:02:00",
          "2023-03-01T19:48:00",
          "2023-03-01T19:53:00",
          "2023-03-01T20:28:00",
          "2023-03-01T21:28:00",
          "2023-03-02T21:27:00",
          "2023-03-03T22:39:00",
          "2023-03-04T11:48:00",
          "2023-03-04T13:08:00",
          "2023-03-05T21:11:00",
          "2023-03-07T20:10:00",
          "2023-03-07T20:40:00",
          "2023-03-07T23:15:00",
          "2023-03-08T20:04:00",
          "2023-03-08T21:20:00",
          "2023-03-08T21:26:00",
          "2023-03-08T21:56:00",
          "2023-03-16T09:32:00",
          "2023-03-18T12:17:00",
          "2023-03-18T15:15:00",
          "2023-03-20T20:37:00",
          "2023-03-21T19:20:00",
          "2023-03-22T04:52:00",
          "2023-03-24T21:21:00",
          "2023-03-24T21:31:00",
          "2023-03-25T14:58:00",
          "2023-03-25T14:59:00",
          "2023-03-29T20:21:00",
          "2023-03-29T20:31:00",
          "2023-04-03T20:20:00",
          "2023-04-03T20:26:00",
          "2023-04-03T20:29:00",
          "2023-04-03T20:45:00",
          "2023-04-05T21:35:00",
          "2023-04-06T22:02:00",
          "2023-04-06T22:03:00",
          "2023-04-10T20:10:00",
          "2023-04-10T21:02:00",
          "2023-04-11T12:09:00",
          "2023-04-11T12:10:00",
          "2023-04-11T12:11:00",
          "2023-04-11T12:15:00",
          "2023-04-11T12:16:00",
          "2023-04-11T12:17:00",
          "2023-04-11T12:18:00",
          "2023-04-11T12:20:00",
          "2023-04-11T12:25:00",
          "2023-04-11T12:27:00",
          "2023-04-11T12:35:00",
          "2023-04-11T19:23:00",
          "2023-04-11T19:50:00",
          "2023-04-13T19:42:00",
          "2023-04-13T20:19:00",
          "2023-04-13T20:34:00",
          "2023-04-13T20:36:00",
          "2023-04-13T22:40:00",
          "2023-04-13T23:28:00",
          "2023-04-17T19:44:00",
          "2023-04-17T21:36:00"
         ],
         "y": [
          1,
          1,
          1,
          2,
          2,
          1,
          1,
          1,
          1,
          1,
          1,
          1,
          1,
          1,
          1,
          1,
          1,
          1,
          1,
          1,
          1,
          1,
          1,
          1,
          1,
          1,
          1,
          1,
          1,
          1,
          1,
          1,
          1,
          1,
          1,
          2,
          1,
          1,
          1,
          1,
          1,
          1,
          1,
          1,
          1,
          1,
          2,
          1,
          1,
          1,
          1,
          1,
          1,
          1,
          1,
          1,
          1,
          1,
          1,
          2,
          1,
          1,
          1,
          1,
          1,
          1,
          1,
          1,
          2,
          1,
          2,
          1,
          1,
          1,
          1,
          1,
          1,
          1,
          1,
          3,
          2,
          2,
          1,
          2,
          1,
          1,
          1,
          1,
          1,
          1,
          1,
          1,
          2,
          1,
          1,
          1,
          1,
          1,
          1
         ]
        },
        {
         "hoverinfo": "text",
         "hovertext": [
          "<b>Topic 2</b><br>Words: masuknya, dmn, menti, yg, iya",
          "<b>Topic 2</b><br>Words: nihhh, belom, menti, yg, iya",
          "<b>Topic 2</b><br>Words: hayolho, nilai, hahah, yg, aku",
          "<b>Topic 2</b><br>Words: kbalik, haha, yaa, menti, yg",
          "<b>Topic 2</b><br>Words: kaaaakkkk, keterima, waaah, kerja, selamat",
          "<b>Topic 2</b><br>Words: harii, ketigaaa, wkwkwkwk, udah, menti",
          "<b>Topic 2</b><br>Words: tudei, kerjanya, semangat, kak, menti",
          "<b>Topic 2</b><br>Words: canda, menti, yg, iya, aja",
          "<b>Topic 2</b><br>Words: bangunin, gua, kak, menti, yg",
          "<b>Topic 2</b><br>Words: prank, nge, kamu, wkwkw, ya",
          "<b>Topic 2</b><br>Words: cepat, bobox, yukk, submit, yuk",
          "<b>Topic 2</b><br>Words: aduh, menti, yg, iya, aja",
          "<b>Topic 2</b><br>Words: bwt, kirain, remed, grup, yg",
          "<b>Topic 2</b><br>Words: mencoba, mencerna, diem, asem, dr",
          "<b>Topic 2</b><br>Words: balesnya, ntran, hiii, ak, chat",
          "<b>Topic 2</b><br>Words: mantabbb, jak, bang, menti, yg",
          "<b>Topic 2</b><br>Words: assingment, kayaknya, intermediate, menti, yg",
          "<b>Topic 2</b><br>Words: pecah, telor, akhirnya, tim, menti",
          "<b>Topic 2</b><br>Words: wooow, mantabb, memang, menti, yg",
          "<b>Topic 2</b><br>Words: poster, kira, sutoo, mario, adhit",
          "<b>Topic 2</b><br>Words: kaos, gamau, kalah, dapet, revou",
          "<b>Topic 2</b><br>Words: mateo, menti, yg, iya, aja",
          "<b>Topic 2</b><br>Words: kajalit, jgn, jg, lupa, menti",
          "<b>Topic 2</b><br>Words: warning, dtg, letterr, ingetin, mendadak",
          "<b>Topic 2</b><br>Words: 4maret, kmunhkinan, tgl, izin, gua",
          "<b>Topic 2</b><br>Words: smggu, izin, gt, jg, klo",
          "<b>Topic 2</b><br>Words: wkwkwkwkw, ngapain, dah, menti, yg",
          "<b>Topic 2</b><br>Words: scpatnyaaa, bisaa, wkwkwkw, klo, menti",
          "<b>Topic 2</b><br>Words: mentemen, makasiiii, support, team, juga",
          "<b>Topic 2</b><br>Words: makasih, ely, kak, menti, yg",
          "<b>Topic 2</b><br>Words: gofoodin, wah, banyak, makasih, valeri",
          "<b>Topic 2</b><br>Words: gor, shinchan, anaknya, kayak, semoga",
          "<b>Topic 2</b><br>Words: mauuu, emang, nya, menti, yg",
          "<b>Topic 2</b><br>Words: menti, blm, masuk, buat, yg",
          "<b>Topic 2</b><br>Words: mentiiiii, menang, congrats, valeri, menti",
          "<b>Topic 2</b><br>Words: an, deg, duh, menti, yg",
          "<b>Topic 2</b><br>Words: yel, dong, menti, yg, iya",
          "<b>Topic 2</b><br>Words: loncat, beginner, lgsng, advanced, ke",
          "<b>Topic 2</b><br>Words: hehehe, menti, yg, iya, aja",
          "<b>Topic 2</b><br>Words: bantuinn, meantime, bgung, code, the",
          "<b>Topic 2</b><br>Words: wkkkkwkwkwk, emg, iya, menti, yg",
          "<b>Topic 2</b><br>Words: ditanya, emg, iya, kan, udah",
          "<b>Topic 2</b><br>Words: smgt, wkwkwkw, dong, nih, iya",
          "<b>Topic 2</b><br>Words: iyaahh, briefing, sorry, wkwkwkw, lg",
          "<b>Topic 2</b><br>Words: php, ihhh, bgt, menti, yg",
          "<b>Topic 2</b><br>Words: mana, jalit, jd, tl, menti",
          "<b>Topic 2</b><br>Words: kajalit, sini, aja, di, menti",
          "<b>Topic 2</b><br>Words: jauh, jkt, duh, menti, yg",
          "<b>Topic 2</b><br>Words: kereta, gratis, tiket, naik, gini",
          "<b>Topic 2</b><br>Words: wkwkkwkwkwkw, gada, mending, ngapain, vale",
          "<b>Topic 2</b><br>Words: kdeng, lbh, bsa, tl, yg",
          "<b>Topic 2</b><br>Words: pusing, tulisan, banyak, menti, yg",
          "<b>Topic 2</b><br>Words: ngakak, duh, sampe, aku, menti",
          "<b>Topic 2</b><br>Words: simpen, gapernah, wkwkwk, sih, aku",
          "<b>Topic 2</b><br>Words: tumbal, dong, ke, jal, kak",
          "<b>Topic 2</b><br>Words: belajarnya, noted, mangat, oke, biar",
          "<b>Topic 2</b><br>Words: sni, convert, adaa, send, abs",
          "<b>Topic 2</b><br>Words: berevolusi, menti, yg, iya, aja",
          "<b>Topic 2</b><br>Words: haloo, evolusinya, weeks, kedepan, bagian",
          "<b>Topic 2</b><br>Words: stiker, wa, nya, ada, ga",
          "<b>Topic 2</b><br>Words: bengong, aja, ya, menti, yg",
          "<b>Topic 2</b><br>Words: ngebul, santuy, lah, habis, dulu",
          "<b>Topic 2</b><br>Words: stgh, njiiir, ngerjain, tp, belom",
          "<b>Topic 2</b><br>Words: dikasih, laen, soalnya, section, tau",
          "<b>Topic 2</b><br>Words: offcam, dh, dulu, kajal, menti",
          "<b>Topic 2</b><br>Words: apantu, menti, yg, iya, aja",
          "<b>Topic 2</b><br>Words: cie, mangat, kalian, wkwkwk, menti",
          "<b>Topic 2</b><br>Words: lagu, nyala, btw, sih, nya",
          "<b>Topic 2</b><br>Words: waduh, iya, lagi, menti, yg",
          "<b>Topic 2</b><br>Words: ternak, upil, menti, yg, iya",
          "<b>Topic 2</b><br>Words: parah, si, menti, yg, iya",
          "<b>Topic 2</b><br>Words: makanya, iya, menti, yg, aja",
          "<b>Topic 2</b><br>Words: laper, abs, tiap, sm, dah",
          "<b>Topic 2</b><br>Words: awalannya, gaes, anulir, ya, menti",
          "<b>Topic 2</b><br>Words: mantabbb, semuanya, menti, yg, iya",
          "<b>Topic 2</b><br>Words: deh, masuk, wkwk, aja, menti",
          "<b>Topic 2</b><br>Words: tong, ting, si, yang, menti",
          "<b>Topic 2</b><br>Words: selo, kayaknya, sm, sih, menti",
          "<b>Topic 2</b><br>Words: dirasa, aja, menti, yg, iya",
          "<b>Topic 2</b><br>Words: siap, ka, menti, yg, iya",
          "<b>Topic 2</b><br>Words: numpang, tim, absen, aja, mau",
          "<b>Topic 2</b><br>Words: tegang, ih, pdhl, alit, vale",
          "<b>Topic 2</b><br>Words: bnrn, leave, ad, tp, dong",
          "<b>Topic 2</b><br>Words: sasa, latifah, si, sama, kak",
          "<b>Topic 2</b><br>Words: her, hayooow, soulmate, weh, kayak",
          "<b>Topic 2</b><br>Words: gakenal, wkwkkkwkwkwkwkw, pdhl, wkwkw, iya",
          "<b>Topic 2</b><br>Words: terlihat, jelas, yaa, menti, yg",
          "<b>Topic 2</b><br>Words: rame, gni, waduh, ngobrolin, apaan",
          "<b>Topic 2</b><br>Words: blom, cair, dkirain, ngobrolin, thr",
          "<b>Topic 2</b><br>Words: dsituuuuu, wiih, ohhh, akuuu, thr",
          "<b>Topic 2</b><br>Words: ketik, wa, via, lain, cuman",
          "<b>Topic 2</b><br>Words: nemu, udah, kak, menti, yg",
          "<b>Topic 2</b><br>Words: benerin, dl, menti, yg, iya",
          "<b>Topic 2</b><br>Words: owh, presen, skrg, grup, menti",
          "<b>Topic 2</b><br>Words: isi, lagi, menti, yg, iya",
          "<b>Topic 2</b><br>Words: no, ntar, aja, menti, yg"
         ],
         "marker": {
          "color": "#009E73"
         },
         "mode": "lines",
         "name": "2_menti_yg_iya_aja",
         "type": "scatter",
         "x": [
          "2023-01-09T20:48:00",
          "2023-01-16T21:13:00",
          "2023-01-16T21:26:00",
          "2023-01-25T20:20:00",
          "2023-01-25T21:12:00",
          "2023-01-25T21:13:00",
          "2023-01-26T07:25:00",
          "2023-01-26T10:39:00",
          "2023-01-26T21:36:00",
          "2023-01-27T09:36:00",
          "2023-01-27T21:44:00",
          "2023-01-28T10:50:00",
          "2023-01-28T10:54:00",
          "2023-01-30T20:54:00",
          "2023-01-31T15:19:00",
          "2023-01-31T21:00:00",
          "2023-02-01T21:22:00",
          "2023-02-06T19:03:00",
          "2023-02-09T14:20:00",
          "2023-02-09T15:09:00",
          "2023-02-09T15:11:00",
          "2023-02-09T17:20:00",
          "2023-02-13T21:05:00",
          "2023-02-13T21:08:00",
          "2023-02-13T21:11:00",
          "2023-02-13T21:22:00",
          "2023-02-15T19:09:00",
          "2023-02-16T21:12:00",
          "2023-02-18T10:20:00",
          "2023-02-18T11:45:00",
          "2023-02-18T13:27:00",
          "2023-02-18T15:24:00",
          "2023-02-20T14:17:00",
          "2023-02-20T18:57:00",
          "2023-02-20T19:03:00",
          "2023-02-20T21:01:00",
          "2023-02-21T19:54:00",
          "2023-02-21T21:12:00",
          "2023-02-21T21:13:00",
          "2023-02-21T22:36:00",
          "2023-02-22T13:04:00",
          "2023-02-22T13:07:00",
          "2023-02-22T13:13:00",
          "2023-02-22T18:59:00",
          "2023-02-23T10:46:00",
          "2023-02-23T10:52:00",
          "2023-02-23T11:00:00",
          "2023-02-23T11:47:00",
          "2023-02-23T11:51:00",
          "2023-02-23T16:08:00",
          "2023-02-23T16:10:00",
          "2023-02-23T19:09:00",
          "2023-02-23T20:17:00",
          "2023-02-23T20:18:00",
          "2023-02-24T20:37:00",
          "2023-02-24T20:39:00",
          "2023-02-25T15:42:00",
          "2023-02-25T15:49:00",
          "2023-02-25T16:02:00",
          "2023-02-27T12:23:00",
          "2023-02-27T19:42:00",
          "2023-03-03T22:42:00",
          "2023-03-03T22:44:00",
          "2023-03-04T12:40:00",
          "2023-03-07T19:22:00",
          "2023-03-07T19:44:00",
          "2023-03-08T00:02:00",
          "2023-03-08T20:03:00",
          "2023-03-08T21:09:00",
          "2023-03-08T21:12:00",
          "2023-03-08T21:23:00",
          "2023-03-08T21:24:00",
          "2023-03-08T21:27:00",
          "2023-03-08T22:36:00",
          "2023-03-11T15:09:00",
          "2023-03-29T20:20:00",
          "2023-03-29T20:25:00",
          "2023-03-29T20:27:00",
          "2023-04-03T20:22:00",
          "2023-04-06T18:27:00",
          "2023-04-06T19:06:00",
          "2023-04-10T19:51:00",
          "2023-04-10T20:14:00",
          "2023-04-11T12:14:00",
          "2023-04-11T12:17:00",
          "2023-04-11T12:19:00",
          "2023-04-11T12:21:00",
          "2023-04-11T12:27:00",
          "2023-04-11T12:29:00",
          "2023-04-11T12:33:00",
          "2023-04-11T12:46:00",
          "2023-04-11T19:38:00",
          "2023-04-13T20:12:00",
          "2023-04-13T20:16:00",
          "2023-04-13T22:32:00",
          "2023-04-15T16:20:00"
         ],
         "y": [
          1,
          1,
          1,
          1,
          1,
          1,
          1,
          1,
          1,
          1,
          1,
          1,
          1,
          1,
          1,
          1,
          1,
          1,
          1,
          2,
          1,
          1,
          1,
          1,
          1,
          1,
          1,
          1,
          1,
          1,
          1,
          1,
          1,
          1,
          1,
          1,
          1,
          1,
          1,
          1,
          1,
          1,
          1,
          1,
          1,
          1,
          1,
          1,
          1,
          3,
          1,
          1,
          1,
          1,
          1,
          1,
          1,
          1,
          1,
          1,
          1,
          1,
          1,
          1,
          1,
          1,
          1,
          1,
          1,
          1,
          1,
          1,
          1,
          1,
          1,
          1,
          1,
          1,
          1,
          1,
          1,
          2,
          1,
          1,
          2,
          2,
          1,
          1,
          1,
          2,
          1,
          1,
          1,
          1,
          1,
          1
         ]
        },
        {
         "hoverinfo": "text",
         "hovertext": [
          "<b>Topic 3</b><br>Words: wokeh, you, thank, kak, congrats",
          "<b>Topic 3</b><br>Words: nemu, youuu, thank, oke, sudah",
          "<b>Topic 3</b><br>Words: infonya, terima, baik, kasih, kak",
          "<b>Topic 3</b><br>Words: editor, terimakasii, akses, ya, thank",
          "<b>Topic 3</b><br>Words: okayy, terimakasih, kak, thank, you",
          "<b>Topic 3</b><br>Words: terimakasih, kaa, thank, you, congrats",
          "<b>Topic 3</b><br>Words: 80, uuu, diingatkan, attendancenya, dibawah",
          "<b>Topic 3</b><br>Words: you, thank, kak, congrats, makasih",
          "<b>Topic 3</b><br>Words: mas, okayy, uu, thank, you",
          "<b>Topic 3</b><br>Words: siapp, you, thank, ka, congrats",
          "<b>Topic 3</b><br>Words: balas, youu, thank, sudah, ya",
          "<b>Topic 3</b><br>Words: youu, thank, you, congrats, makasih",
          "<b>Topic 3</b><br>Words: thanks, makasih, jalit, banyak, kakak",
          "<b>Topic 3</b><br>Words: asik, thanks, aris, kak, thank",
          "<b>Topic 3</b><br>Words: terimakasih, thank, you, congrats, makasih",
          "<b>Topic 3</b><br>Words: birthdaayyyy, aditttttttt, happy, thank, you",
          "<b>Topic 3</b><br>Words: makasih, semua, thank, you, congrats",
          "<b>Topic 3</b><br>Words: makasih, rika, aris, thank, you",
          "<b>Topic 3</b><br>Words: thanks, guys, thank, you, congrats",
          "<b>Topic 3</b><br>Words: kasihh, berdiskusi, bersamaaa, terima, sudah",
          "<b>Topic 3</b><br>Words: mkasih, kaaa, bobo, congrats, nya",
          "<b>Topic 3</b><br>Words: congrattss, smuanyaa, terima, kasih, thank",
          "<b>Topic 3</b><br>Words: makasih, aris, thank, you, congrats",
          "<b>Topic 3</b><br>Words: ariss, uda, share, thank, you",
          "<b>Topic 3</b><br>Words: terima, kasih, aris, ka, thank",
          "<b>Topic 3</b><br>Words: ternyata, dann, dengerin, assignmentnyaa, slesai",
          "<b>Topic 3</b><br>Words: jack, you, thank, kak, congrats",
          "<b>Topic 3</b><br>Words: ka, keren, makasih, thank, you",
          "<b>Topic 3</b><br>Words: makasih, kak, thank, you, congrats",
          "<b>Topic 3</b><br>Words: its, okay, youu, thank, ka",
          "<b>Topic 3</b><br>Words: menugassss, selamat, thank, you, congrats",
          "<b>Topic 3</b><br>Words: kakkj, you, thank, congrats, makasih",
          "<b>Topic 3</b><br>Words: kakk, thank, you, congrats, makasih",
          "<b>Topic 3</b><br>Words: congrats, alex, kak, thank, you",
          "<b>Topic 3</b><br>Words: hokian, hoki, terima, tadi, kasih",
          "<b>Topic 3</b><br>Words: youuu, thank, you, congrats, makasih",
          "<b>Topic 3</b><br>Words: valentines, tdr, slmt, rekaman, day",
          "<b>Topic 3</b><br>Words: valeriee, yayyyyy, menangg, uda, congrats",
          "<b>Topic 3</b><br>Words: taun, valeee, ulang, selamat, thank",
          "<b>Topic 3</b><br>Words: tahuun, valeee, ulang, selamat, thank",
          "<b>Topic 3</b><br>Words: god, bless, always, family, your",
          "<b>Topic 3</b><br>Words: makasih, alex, kak, thank, you",
          "<b>Topic 3</b><br>Words: erlandd, you, thank, congrats, makasih",
          "<b>Topic 3</b><br>Words: hariku, membuat, berwarna, sdh, lebih",
          "<b>Topic 3</b><br>Words: pagi, haii, hai, thank, you",
          "<b>Topic 3</b><br>Words: hampir, thanks, tadi, oke, lupa",
          "<b>Topic 3</b><br>Words: terima, kasih, ka, thank, you",
          "<b>Topic 3</b><br>Words: uu, sipp, alit, thank, you",
          "<b>Topic 3</b><br>Words: alternative, kata, diisi, congrats, untuk",
          "<b>Topic 3</b><br>Words: thanks, thank, you, congrats, makasih",
          "<b>Topic 3</b><br>Words: wish, all, best, the, you",
          "<b>Topic 3</b><br>Words: volunteer, tonight, lusa, for, thank",
          "<b>Topic 3</b><br>Words: thanks, kak, thank, you, congrats",
          "<b>Topic 3</b><br>Words: catet, thankkk, youu, udah, thank",
          "<b>Topic 3</b><br>Words: broo, congrats, aris, thank, you",
          "<b>Topic 3</b><br>Words: gakk, paham, thanks, kok, guys",
          "<b>Topic 3</b><br>Words: terima, siap, ichsan, kasih, ka",
          "<b>Topic 3</b><br>Words: youuu, thank, you, congrats, makasih",
          "<b>Topic 3</b><br>Words: you, thank, congrats, makasih, terima",
          "<b>Topic 3</b><br>Words: you, thank, congrats, makasih, terima",
          "<b>Topic 3</b><br>Words: guyzz, congrats, thank, you, makasih",
          "<b>Topic 3</b><br>Words: penyemangatnya, vale, makasih, untuk, thank",
          "<b>Topic 3</b><br>Words: kaaakkk, you, thank, congrats, makasih",
          "<b>Topic 3</b><br>Words: elyy, yayy, congrats, keren, thank",
          "<b>Topic 3</b><br>Words: sekali, kaliann, all, you, congrats",
          "<b>Topic 3</b><br>Words: luck, good, semangat, grup, thank",
          "<b>Topic 3</b><br>Words: goodluckkk, you, thank, group, guys",
          "<b>Topic 3</b><br>Words: youu, thank, you, congrats, makasih",
          "<b>Topic 3</b><br>Words: istirahattttt, yay, bangga, met, thank",
          "<b>Topic 3</b><br>Words: youu, thank, you, congrats, makasih",
          "<b>Topic 3</b><br>Words: youuuu, yaaayyy, congrats, vale, thank",
          "<b>Topic 3</b><br>Words: congratsss, alitt, mantabbb, duo, menang",
          "<b>Topic 3</b><br>Words: you, thank, portofolio, hello, daviz"
         ],
         "marker": {
          "color": "#F0E442"
         },
         "mode": "lines",
         "name": "3_thank_you_congrats_makasih",
         "type": "scatter",
         "x": [
          "2023-01-07T09:27:00",
          "2023-01-07T10:45:00",
          "2023-01-09T12:14:00",
          "2023-01-09T21:01:00",
          "2023-01-11T18:57:00",
          "2023-01-11T18:58:00",
          "2023-01-11T21:13:00",
          "2023-01-11T21:20:00",
          "2023-01-11T21:38:00",
          "2023-01-14T16:00:00",
          "2023-01-16T09:52:00",
          "2023-01-16T14:31:00",
          "2023-01-16T21:23:00",
          "2023-01-16T21:25:00",
          "2023-01-19T12:16:00",
          "2023-01-24T19:14:00",
          "2023-01-24T19:55:00",
          "2023-01-24T21:31:00",
          "2023-01-25T20:26:00",
          "2023-01-25T20:28:00",
          "2023-01-25T21:13:00",
          "2023-01-25T21:14:00",
          "2023-01-27T09:15:00",
          "2023-01-27T09:16:00",
          "2023-01-27T09:29:00",
          "2023-01-28T10:44:00",
          "2023-01-31T21:00:00",
          "2023-01-31T21:01:00",
          "2023-02-01T21:28:00",
          "2023-02-02T20:50:00",
          "2023-02-02T21:38:00",
          "2023-02-02T22:17:00",
          "2023-02-04T17:53:00",
          "2023-02-06T19:03:00",
          "2023-02-06T19:20:00",
          "2023-02-11T15:17:00",
          "2023-02-14T20:53:00",
          "2023-02-15T19:02:00",
          "2023-02-18T10:55:00",
          "2023-02-18T10:57:00",
          "2023-02-18T11:14:00",
          "2023-02-18T13:24:00",
          "2023-02-21T21:29:00",
          "2023-02-22T20:03:00",
          "2023-02-23T10:26:00",
          "2023-03-03T20:09:00",
          "2023-03-07T10:57:00",
          "2023-03-08T20:04:00",
          "2023-03-11T15:08:00",
          "2023-03-14T19:01:00",
          "2023-03-21T19:03:00",
          "2023-03-27T23:30:00",
          "2023-03-29T14:21:00",
          "2023-04-03T20:44:00",
          "2023-04-05T21:27:00",
          "2023-04-05T21:33:00",
          "2023-04-06T21:35:00",
          "2023-04-10T19:06:00",
          "2023-04-10T19:16:00",
          "2023-04-10T19:19:00",
          "2023-04-10T19:50:00",
          "2023-04-11T13:23:00",
          "2023-04-11T18:45:00",
          "2023-04-11T19:51:00",
          "2023-04-11T19:52:00",
          "2023-04-13T19:13:00",
          "2023-04-13T19:33:00",
          "2023-04-13T21:45:00",
          "2023-04-13T21:47:00",
          "2023-04-13T22:22:00",
          "2023-04-15T16:20:00",
          "2023-04-16T20:40:00",
          "2023-04-17T22:43:00"
         ],
         "y": [
          1,
          1,
          1,
          1,
          1,
          1,
          2,
          1,
          1,
          1,
          1,
          1,
          3,
          1,
          1,
          1,
          1,
          1,
          1,
          1,
          2,
          2,
          1,
          1,
          1,
          1,
          1,
          1,
          1,
          1,
          1,
          1,
          1,
          1,
          1,
          1,
          1,
          1,
          1,
          1,
          1,
          1,
          1,
          1,
          1,
          1,
          1,
          1,
          1,
          1,
          1,
          1,
          1,
          1,
          1,
          1,
          1,
          1,
          1,
          1,
          1,
          1,
          1,
          1,
          2,
          1,
          2,
          1,
          1,
          1,
          2,
          1,
          2
         ]
        },
        {
         "hoverinfo": "text",
         "hovertext": [
          "<b>Topic 4</b><br>Words: week, masih, ini, ya, jam",
          "<b>Topic 4</b><br>Words: mauu, assignmentnya, kerjain, kah, kamu",
          "<b>Topic 4</b><br>Words: jam, terakhir, pernah, sih, diskusi",
          "<b>Topic 4</b><br>Words: bsk, berapa, diskusi, jam, mau",
          "<b>Topic 4</b><br>Words: intro, notice, lalu, awal, sempet",
          "<b>Topic 4</b><br>Words: ngapain, besok, kak, jam, game",
          "<b>Topic 4</b><br>Words: lewatin, diskusinya, berhasil, yay, alternative",
          "<b>Topic 4</b><br>Words: hows, jam, kayak, gitu, kelas",
          "<b>Topic 4</b><br>Words: gimana, jam, aja, besok, game",
          "<b>Topic 4</b><br>Words: skip, belanja, mingguan, dulu, ges",
          "<b>Topic 4</b><br>Words: 21, bolehh, 10, besok, gimana",
          "<b>Topic 4</b><br>Words: meninggoy, bgn, pagi, biasa, mau",
          "<b>Topic 4</b><br>Words: kerjaa, mantabbb, pertama, hari, jam",
          "<b>Topic 4</b><br>Words: kapan, kud, engak, neh, kemarin",
          "<b>Topic 4</b><br>Words: 5an, hrs, bgn, pagi, dr",
          "<b>Topic 4</b><br>Words: sutto, undur, matteo, kata, minggu",
          "<b>Topic 4</b><br>Words: diskusi, hari, ini, ada, jam",
          "<b>Topic 4</b><br>Words: berapa, jam, guys, besok, game",
          "<b>Topic 4</b><br>Words: kelasnya, muncul, sore, besok, jam",
          "<b>Topic 4</b><br>Words: munculnya, jam, ya, aku, kak",
          "<b>Topic 4</b><br>Words: sqll, haloooo, kabar, semuanyaa, apaa",
          "<b>Topic 4</b><br>Words: helloo, istirahat, met, blm, untuk",
          "<b>Topic 4</b><br>Words: game, as, by, bigquery, players",
          "<b>Topic 4</b><br>Words: istirahat, jgn, lupa, jam, besok",
          "<b>Topic 4</b><br>Words: yahh, telat, jam, besok, game",
          "<b>Topic 4</b><br>Words: nunggu, sabtu, biar, hari, ga",
          "<b>Topic 4</b><br>Words: bole, besok, aja, jam, game",
          "<b>Topic 4</b><br>Words: menittt, balik, 10, otw, telat",
          "<b>Topic 4</b><br>Words: waktunya, liat, iya, sama, jam",
          "<b>Topic 4</b><br>Words: ckup, samsek, emg, iyaa, jam",
          "<b>Topic 4</b><br>Words: smoga, isokee, valee, better, besok",
          "<b>Topic 4</b><br>Words: istirahatt, duluuu, review, besok, baru",
          "<b>Topic 4</b><br>Words: kebawah, mingguan, bintang, feedback, ntar",
          "<b>Topic 4</b><br>Words: jam, yaa, besok, game, as",
          "<b>Topic 4</b><br>Words: libur, besok, jam, game, as",
          "<b>Topic 4</b><br>Words: jadii, depan, bakal, nihhh, minggu",
          "<b>Topic 4</b><br>Words: brarti, siang, sabtu, gt, ya",
          "<b>Topic 4</b><br>Words: maret, reaction, berbagai, gas, pada",
          "<b>Topic 4</b><br>Words: timenya, story, ntr, dah, jam",
          "<b>Topic 4</b><br>Words: taaauu, wkwkwkk, week, dri, itu",
          "<b>Topic 4</b><br>Words: beliau, paling, telat, jg, jam",
          "<b>Topic 4</b><br>Words: delta, terserah, hitung, pake, hour",
          "<b>Topic 4</b><br>Words: kmn, land, besok, jam, game",
          "<b>Topic 4</b><br>Words: kebeli, hhhh, tiket, balik, siang",
          "<b>Topic 4</b><br>Words: cancel, laaand, aja, jam, besok",
          "<b>Topic 4</b><br>Words: lii, jam, iya, besok, game",
          "<b>Topic 4</b><br>Words: 21, 30, ges, jam, dong",
          "<b>Topic 4</b><br>Words: 2023, seeker, may, job, tetap",
          "<b>Topic 4</b><br>Words: mingdep, kalan, senin, diskusi, assignment",
          "<b>Topic 4</b><br>Words: bulan, mungkin, ganti, jadi, di",
          "<b>Topic 4</b><br>Words: lima, selasa, kedua, awal, senin",
          "<b>Topic 4</b><br>Words: around, ngabarin, dateng, agak, kayaknya",
          "<b>Topic 4</b><br>Words: besok, juga, absen, kak, jam",
          "<b>Topic 4</b><br>Words: brp, week, dri, mah, besok",
          "<b>Topic 4</b><br>Words: timer, jadi, jam, besok, game",
          "<b>Topic 4</b><br>Words: suka, soalnya, telat, masuk, jam",
          "<b>Topic 4</b><br>Words: kl, enak, present, dah, bgt",
          "<b>Topic 4</b><br>Words: njirr, terakhir, masih, wkwkkw, hari",
          "<b>Topic 4</b><br>Words: bbrp, working, jam, hour, mlm",
          "<b>Topic 4</b><br>Words: joinnya, yahh, telat, jam, besok",
          "<b>Topic 4</b><br>Words: last, yuk, day, dah, bisa",
          "<b>Topic 4</b><br>Words: timp, jam, besok, game, as",
          "<b>Topic 4</b><br>Words: do, deh, oke, nanti, isi"
         ],
         "marker": {
          "color": "#D55E00"
         },
         "mode": "lines",
         "name": "4_jam_besok_game_as",
         "type": "scatter",
         "x": [
          "2023-01-11T20:57:00",
          "2023-01-16T21:19:00",
          "2023-01-16T21:21:00",
          "2023-01-17T22:33:00",
          "2023-01-19T21:20:00",
          "2023-01-20T22:06:00",
          "2023-01-21T15:05:00",
          "2023-01-21T15:19:00",
          "2023-01-21T15:20:00",
          "2023-01-24T21:06:00",
          "2023-01-24T21:17:00",
          "2023-01-25T21:10:00",
          "2023-01-25T21:12:00",
          "2023-01-26T10:36:00",
          "2023-01-26T21:35:00",
          "2023-01-27T11:00:00",
          "2023-02-01T21:13:00",
          "2023-02-01T21:28:00",
          "2023-02-04T00:09:00",
          "2023-02-04T06:23:00",
          "2023-02-09T13:48:00",
          "2023-02-09T21:22:00",
          "2023-02-11T15:10:00",
          "2023-02-13T21:05:00",
          "2023-02-14T18:59:00",
          "2023-02-15T19:13:00",
          "2023-02-16T21:12:00",
          "2023-02-20T19:03:00",
          "2023-02-21T21:15:00",
          "2023-02-21T21:20:00",
          "2023-02-21T22:35:00",
          "2023-02-21T22:36:00",
          "2023-02-22T13:19:00",
          "2023-02-22T18:59:00",
          "2023-02-23T10:38:00",
          "2023-02-23T10:52:00",
          "2023-02-23T11:12:00",
          "2023-02-23T11:13:00",
          "2023-02-23T16:08:00",
          "2023-02-27T12:22:00",
          "2023-02-27T15:44:00",
          "2023-03-02T19:58:00",
          "2023-03-03T22:44:00",
          "2023-03-03T22:45:00",
          "2023-03-04T11:38:00",
          "2023-03-04T13:07:00",
          "2023-03-09T20:19:00",
          "2023-03-21T07:38:00",
          "2023-03-25T14:58:00",
          "2023-04-03T20:28:00",
          "2023-04-03T20:44:00",
          "2023-04-06T18:27:00",
          "2023-04-10T21:01:00",
          "2023-04-11T12:13:00",
          "2023-04-11T12:17:00",
          "2023-04-11T12:21:00",
          "2023-04-11T12:23:00",
          "2023-04-11T12:24:00",
          "2023-04-11T12:37:00",
          "2023-04-11T13:22:00",
          "2023-04-13T19:11:00",
          "2023-04-13T19:42:00",
          "2023-04-17T20:56:00"
         ],
         "y": [
          1,
          1,
          2,
          1,
          1,
          1,
          1,
          1,
          1,
          1,
          1,
          1,
          1,
          1,
          1,
          1,
          1,
          1,
          1,
          1,
          1,
          1,
          1,
          1,
          1,
          1,
          1,
          1,
          1,
          1,
          1,
          1,
          1,
          1,
          1,
          1,
          1,
          1,
          1,
          1,
          1,
          1,
          1,
          1,
          1,
          1,
          1,
          1,
          1,
          1,
          1,
          1,
          1,
          2,
          1,
          1,
          1,
          1,
          2,
          1,
          1,
          1,
          1
         ]
        },
        {
         "hoverinfo": "text",
         "hovertext": [
          "<b>Topic 5</b><br>Words: certif, ituuu, biasanya, kok, tapi",
          "<b>Topic 5</b><br>Words: udha, hmm, padahal, email, salah",
          "<b>Topic 5</b><br>Words: mikirn, kerjaanku, jalit, ka, aku",
          "<b>Topic 5</b><br>Words: aman, aku, lg, bs, juga",
          "<b>Topic 5</b><br>Words: aman, juga, sama, aku, lg",
          "<b>Topic 5</b><br>Words: bebas, saya, aku, lg, bs",
          "<b>Topic 5</b><br>Words: kantor, gila, masuk, baru, kan",
          "<b>Topic 5</b><br>Words: ba, kan, nya, aku, kak",
          "<b>Topic 5</b><br>Words: ikt, harus, hahah, jg, aku",
          "<b>Topic 5</b><br>Words: diteror, ikt, gt, nanti, klo",
          "<b>Topic 5</b><br>Words: semuanya, apakah, aman, aku, lg",
          "<b>Topic 5</b><br>Words: hayuk, kalo, aja, aku, lg",
          "<b>Topic 5</b><br>Words: mata, tutup, sampe, sama, aku",
          "<b>Topic 5</b><br>Words: out, jall, break, ke, aku",
          "<b>Topic 5</b><br>Words: mukaku, huft, obral, di, aku",
          "<b>Topic 5</b><br>Words: soon, queen, doakan, menti, jadi",
          "<b>Topic 5</b><br>Words: boleehh, misal, ngerti, chat, tadi",
          "<b>Topic 5</b><br>Words: sentuh, akhirnya, advanced, aku, kasih",
          "<b>Topic 5</b><br>Words: 2x, dapet, kali, nih, wkwkwk",
          "<b>Topic 5</b><br>Words: remed, ah, mau, aku, lg",
          "<b>Topic 5</b><br>Words: ngakakk, hahahaha, juga, aku, lg",
          "<b>Topic 5</b><br>Words: peer, comment, tmbhin, hasil, aku",
          "<b>Topic 5</b><br>Words: okai, bikinin, nanti, aku, lg",
          "<b>Topic 5</b><br>Words: over, capek, otaknya, terlalu, kali",
          "<b>Topic 5</b><br>Words: ngerasa, jujur, gini, wkwk, juga",
          "<b>Topic 5</b><br>Words: semaleman, labil, post, setelah, akhirnya",
          "<b>Topic 5</b><br>Words: dani, soalnya, sm, nih, tau",
          "<b>Topic 5</b><br>Words: gantiin, pipin, iyaaa, jd, sm",
          "<b>Topic 5</b><br>Words: ktmu, cowok, blm, jg, sih",
          "<b>Topic 5</b><br>Words: training, kilat, mendadak, gt, aku",
          "<b>Topic 5</b><br>Words: ngandelin, beloman, tapi, revou, dulu",
          "<b>Topic 5</b><br>Words: ketemu, td, udh, aku, lg",
          "<b>Topic 5</b><br>Words: stalk, ok, dulu, aku, lg",
          "<b>Topic 5</b><br>Words: backendnya, dritd, huhuu, kerjain, lg",
          "<b>Topic 5</b><br>Words: admin, pusink, ngurus, lg, aku",
          "<b>Topic 5</b><br>Words: kerjaannya, maksimal, takut, kurang, duh",
          "<b>Topic 5</b><br>Words: bantuin, pc, deh, aku, dong",
          "<b>Topic 5</b><br>Words: mute, nge, pernah, sampe, tau",
          "<b>Topic 5</b><br>Words: nonstop, dkit, rapat, bru, sore",
          "<b>Topic 5</b><br>Words: pantes, bantuin, upil, parah, aku",
          "<b>Topic 5</b><br>Words: gabisa, loh, gue, kok, masuk",
          "<b>Topic 5</b><br>Words: izinnnn, lg, aku, bs, juga",
          "<b>Topic 5</b><br>Words: joki, nyari, tugas, pengen, kalo",
          "<b>Topic 5</b><br>Words: tmen, tu, kalah, org, gila",
          "<b>Topic 5</b><br>Words: masukan, dah, yaa, kak, aku",
          "<b>Topic 5</b><br>Words: setau, sisanya, udah, aku, lg",
          "<b>Topic 5</b><br>Words: takut, spill, salah, tapi, aku",
          "<b>Topic 5</b><br>Words: feelingku, cowo, sih, aku, lg",
          "<b>Topic 5</b><br>Words: pegang, inisial, aku, lg, bs",
          "<b>Topic 5</b><br>Words: tiba, ngmgin, mntion, maren, stiap",
          "<b>Topic 5</b><br>Words: end, ngepel, back, ngurus, sibuk",
          "<b>Topic 5</b><br>Words: kekny, thr, dah, aku, ga",
          "<b>Topic 5</b><br>Words: duga, rezeki, anggep, sempet, waktu",
          "<b>Topic 5</b><br>Words: bs, stopin, klo, gak, aku",
          "<b>Topic 5</b><br>Words: ditambah, kucing, maksa, grogi, kamar",
          "<b>Topic 5</b><br>Words: msk, yah, jal, aku, lg"
         ],
         "marker": {
          "color": "#0072B2"
         },
         "mode": "lines",
         "name": "5_aku_lg_bs_juga",
         "type": "scatter",
         "x": [
          "2023-01-11T21:15:00",
          "2023-01-11T21:17:00",
          "2023-01-16T21:16:00",
          "2023-01-16T21:22:00",
          "2023-01-16T21:23:00",
          "2023-01-17T22:40:00",
          "2023-01-25T21:10:00",
          "2023-01-25T22:07:00",
          "2023-01-26T10:37:00",
          "2023-01-26T10:48:00",
          "2023-01-28T10:50:00",
          "2023-02-01T21:18:00",
          "2023-02-01T21:19:00",
          "2023-02-02T20:47:00",
          "2023-02-09T17:21:00",
          "2023-02-14T19:24:00",
          "2023-02-14T20:51:00",
          "2023-02-15T11:05:00",
          "2023-02-15T19:03:00",
          "2023-02-15T19:09:00",
          "2023-02-16T16:54:00",
          "2023-02-20T14:17:00",
          "2023-02-20T14:19:00",
          "2023-02-21T21:15:00",
          "2023-02-21T21:16:00",
          "2023-02-22T12:36:00",
          "2023-02-22T18:59:00",
          "2023-02-23T10:58:00",
          "2023-02-23T10:59:00",
          "2023-02-23T11:09:00",
          "2023-02-23T16:47:00",
          "2023-02-24T20:33:00",
          "2023-02-24T20:34:00",
          "2023-02-27T19:42:00",
          "2023-03-01T19:48:00",
          "2023-03-04T11:46:00",
          "2023-03-05T21:11:00",
          "2023-03-08T21:11:00",
          "2023-03-08T21:28:00",
          "2023-03-08T21:56:00",
          "2023-03-13T19:12:00",
          "2023-03-14T10:41:00",
          "2023-03-29T20:26:00",
          "2023-03-29T20:32:00",
          "2023-04-01T11:15:00",
          "2023-04-05T21:11:00",
          "2023-04-11T12:11:00",
          "2023-04-11T12:14:00",
          "2023-04-11T12:17:00",
          "2023-04-11T12:19:00",
          "2023-04-11T12:21:00",
          "2023-04-11T12:30:00",
          "2023-04-11T12:45:00",
          "2023-04-11T19:38:00",
          "2023-04-11T19:51:00",
          "2023-04-13T20:16:00"
         ],
         "y": [
          1,
          1,
          1,
          1,
          1,
          1,
          1,
          1,
          1,
          1,
          1,
          1,
          1,
          1,
          1,
          1,
          1,
          1,
          1,
          1,
          1,
          1,
          1,
          1,
          1,
          1,
          1,
          1,
          1,
          2,
          1,
          1,
          1,
          1,
          1,
          1,
          2,
          1,
          1,
          1,
          1,
          1,
          1,
          1,
          1,
          1,
          1,
          1,
          1,
          2,
          2,
          1,
          1,
          1,
          1,
          1
         ]
        },
        {
         "hoverinfo": "text",
         "hovertext": [
          "<b>Topic 6</b><br>Words: kokkkk, tidak, ada, absen, gak",
          "<b>Topic 6</b><br>Words: kosong, ajaa, absen, gak, lupa",
          "<b>Topic 6</b><br>Words: jalit, ikut, absen, ka, ga",
          "<b>Topic 6</b><br>Words: hiks, adaa, kemaren, gak, yang",
          "<b>Topic 6</b><br>Words: titip, jalit, absen, ka, kita",
          "<b>Topic 6</b><br>Words: isii, belom, absen, kalo, nya",
          "<b>Topic 6</b><br>Words: jamnya, gak, iya, sih, absen",
          "<b>Topic 6</b><br>Words: absennn, absen, gak, lupa, ga",
          "<b>Topic 6</b><br>Words: absen, lupa, jangan, gak, ga",
          "<b>Topic 6</b><br>Words: nitip, kado, adit, buat, absen",
          "<b>Topic 6</b><br>Words: kynya, case, masalah, masih, deh",
          "<b>Topic 6</b><br>Words: ikut2, mention, tapi, gak, jal",
          "<b>Topic 6</b><br>Words: coba, buat, apa, kajal, ga",
          "<b>Topic 6</b><br>Words: kena, kita, ga, absen, gak",
          "<b>Topic 6</b><br>Words: absen, gak, lupa, ga, jangan",
          "<b>Topic 6</b><br>Words: muehehe, sempet, liat, belum, kalau",
          "<b>Topic 6</b><br>Words: meeting, ngabarin, sore, wah, belom",
          "<b>Topic 6</b><br>Words: belumm, absen, yaa, yang, gak",
          "<b>Topic 6</b><br>Words: ntar, lolos, an, deg, kagak",
          "<b>Topic 6</b><br>Words: cuma, enggak, lulus, remed, biasanya",
          "<b>Topic 6</b><br>Words: ehh, belum, absen, gak, lupa",
          "<b>Topic 6</b><br>Words: tandatanyanya, ga, ada, ya, absen",
          "<b>Topic 6</b><br>Words: absennya, yaa, absen, gak, lupa",
          "<b>Topic 6</b><br>Words: membagongkan, gak, absen, lupa, ga",
          "<b>Topic 6</b><br>Words: dipindahkan, biar, kajal, ga, absen",
          "<b>Topic 6</b><br>Words: gaes, absen, dulu, gak, lupa",
          "<b>Topic 6</b><br>Words: noob, masih, absen, gak, lupa",
          "<b>Topic 6</b><br>Words: breakout, ges, masih, gak, absen",
          "<b>Topic 6</b><br>Words: absen, nya, ini, gak, lupa",
          "<b>Topic 6</b><br>Words: malem, absen, kalian, ini, ya",
          "<b>Topic 6</b><br>Words: iku, sopo, absen, gak, lupa",
          "<b>Topic 6</b><br>Words: tidak, kak, absen, gak, lupa",
          "<b>Topic 6</b><br>Words: absen, belom, lupa, jangan, guys",
          "<b>Topic 6</b><br>Words: janlup, absen, isi, semalem, masih",
          "<b>Topic 6</b><br>Words: lupaa, tag, siapa, tau, aja",
          "<b>Topic 6</b><br>Words: hooo, okee, absen, tapi, lupa",
          "<b>Topic 6</b><br>Words: btw, lupa, jangan, absen, gak",
          "<b>Topic 6</b><br>Words: absen, oiya, ngingetin, semalem, hehehe",
          "<b>Topic 6</b><br>Words: iksan, titip, absen, boleh, gak",
          "<b>Topic 6</b><br>Words: bukan, advanced, absen, gak, lupa",
          "<b>Topic 6</b><br>Words: typing, pdhl, wkwkwkwk, gak, yg",
          "<b>Topic 6</b><br>Words: male, oiya, yah, absen, lupa",
          "<b>Topic 6</b><br>Words: sepaneng, gfp, wkwkkw, gak, biar",
          "<b>Topic 6</b><br>Words: usah, koo, dateng, gapapa, ga",
          "<b>Topic 6</b><br>Words: absen, gak, lupa, ga, jangan",
          "<b>Topic 6</b><br>Words: cabut, absen, udah, ya, gak",
          "<b>Topic 6</b><br>Words: bat, kesel, ngilang, ngerjain, apa",
          "<b>Topic 6</b><br>Words: eli, bukan, absen, gak, lupa",
          "<b>Topic 6</b><br>Words: titik, koma, kurang, absen, gak",
          "<b>Topic 6</b><br>Words: wkwkwkwkwk, kayaknya, dapet, gak, absen",
          "<b>Topic 6</b><br>Words: lagiii, an, deg, ga, absen",
          "<b>Topic 6</b><br>Words: dongg, isi, absen, gak, lupa",
          "<b>Topic 6</b><br>Words: jelas, minimal, anulir, kalau, ga",
          "<b>Topic 6</b><br>Words: lupa, jangan, absen, gak, ga"
         ],
         "marker": {
          "color": "#CC79A7"
         },
         "mode": "lines",
         "name": "6_absen_gak_lupa_ga",
         "type": "scatter",
         "x": [
          "2023-01-07T09:24:00",
          "2023-01-09T21:04:00",
          "2023-01-11T21:14:00",
          "2023-01-11T21:16:00",
          "2023-01-11T21:18:00",
          "2023-01-14T15:40:00",
          "2023-01-16T21:21:00",
          "2023-01-21T15:06:00",
          "2023-01-24T21:02:00",
          "2023-01-24T21:06:00",
          "2023-01-25T20:21:00",
          "2023-01-26T10:37:00",
          "2023-01-27T21:57:00",
          "2023-01-30T20:54:00",
          "2023-01-31T20:59:00",
          "2023-02-11T15:17:00",
          "2023-02-13T20:34:00",
          "2023-02-14T20:50:00",
          "2023-02-15T11:45:00",
          "2023-02-15T18:45:00",
          "2023-02-21T21:29:00",
          "2023-02-22T13:07:00",
          "2023-02-22T21:06:00",
          "2023-02-23T10:52:00",
          "2023-02-23T11:10:00",
          "2023-02-23T11:48:00",
          "2023-02-23T16:10:00",
          "2023-02-25T14:38:00",
          "2023-02-25T15:28:00",
          "2023-02-27T21:10:00",
          "2023-03-03T20:08:00",
          "2023-03-05T21:11:00",
          "2023-03-09T21:16:00",
          "2023-03-16T09:20:00",
          "2023-03-16T19:15:00",
          "2023-03-16T19:41:00",
          "2023-03-25T15:35:00",
          "2023-03-29T09:06:00",
          "2023-03-29T20:18:00",
          "2023-03-29T20:31:00",
          "2023-04-01T11:18:00",
          "2023-04-06T21:31:00",
          "2023-04-06T22:06:00",
          "2023-04-10T19:40:00",
          "2023-04-10T21:00:00",
          "2023-04-10T21:02:00",
          "2023-04-11T12:10:00",
          "2023-04-11T12:13:00",
          "2023-04-11T12:17:00",
          "2023-04-11T12:32:00",
          "2023-04-11T19:52:00",
          "2023-04-13T21:44:00",
          "2023-04-13T22:32:00",
          "2023-04-15T16:19:00"
         ],
         "y": [
          1,
          1,
          1,
          1,
          1,
          1,
          1,
          1,
          1,
          1,
          1,
          1,
          1,
          1,
          1,
          1,
          1,
          1,
          2,
          2,
          1,
          1,
          1,
          1,
          1,
          1,
          1,
          1,
          1,
          1,
          1,
          1,
          1,
          1,
          1,
          1,
          1,
          1,
          1,
          1,
          1,
          1,
          1,
          1,
          1,
          1,
          1,
          1,
          1,
          1,
          1,
          1,
          1,
          1
         ]
        },
        {
         "hoverinfo": "text",
         "hovertext": [
          "<b>Topic 7</b><br>Words: aksesnya, important, files, saja, student",
          "<b>Topic 7</b><br>Words: dibuka, due, sewaktu, dimana, sisanya",
          "<b>Topic 7</b><br>Words: intinya, resources, files, important, student",
          "<b>Topic 7</b><br>Words: lecture, slides, dibaca, study, dlu",
          "<b>Topic 7</b><br>Words: lecture, spesifik, materi, hehehe, untuk",
          "<b>Topic 7</b><br>Words: lectures, mastiin, tuh, pages, files",
          "<b>Topic 7</b><br>Words: kelas, and, students, attendance, lecture",
          "<b>Topic 7</b><br>Words: berpatisipasi, aktif, belajar, semuanya, semangat",
          "<b>Topic 7</b><br>Words: yel, vertical, kita, fsda, lecture",
          "<b>Topic 7</b><br>Words: wawaz, jgn, mirza, kelas, lupa",
          "<b>Topic 7</b><br>Words: todayy, wajib, tapi, kelas, link",
          "<b>Topic 7</b><br>Words: lecturenya, bermanfaaatt, trimakasii, aktif, semoga",
          "<b>Topic 7</b><br>Words: yuu, menti, masuk, kelas, ada",
          "<b>Topic 7</b><br>Words: extend, penggantinya, esokannya, hari, kayak",
          "<b>Topic 7</b><br>Words: dimampatkan, diminggu, lainnya, materinya, kata",
          "<b>Topic 7</b><br>Words: pre, testnyaa, merah, test, task",
          "<b>Topic 7</b><br>Words: serasa, websitenya, pre, lecture, baca",
          "<b>Topic 7</b><br>Words: logo, revounya, faculty, izin, minta",
          "<b>Topic 7</b><br>Words: itnem, kelasss, ikt, bs, ayo",
          "<b>Topic 7</b><br>Words: penangkapan, panjangg, senen, sampein, bgttt",
          "<b>Topic 7</b><br>Words: kelass, ayo, kelas, lecture, pre",
          "<b>Topic 7</b><br>Words: link, kelas, lecture, pre, student",
          "<b>Topic 7</b><br>Words: barusan, kelas, isi, aja, lecture",
          "<b>Topic 7</b><br>Words: yukk, kelas, lecture, pre, student",
          "<b>Topic 7</b><br>Words: ajuin, instructor, concern, apaaa, sekalian",
          "<b>Topic 7</b><br>Words: kelasnya, mulai, belom, ya, kelas",
          "<b>Topic 7</b><br>Words: dikasih, skrg, pas, kelas, nanti",
          "<b>Topic 7</b><br>Words: bersama, kelas, lecture, pre, student",
          "<b>Topic 7</b><br>Words: prelecture, sendiri, belajar, udh, yaa",
          "<b>Topic 7</b><br>Words: pre, lecture, revou, kelas, student",
          "<b>Topic 7</b><br>Words: tipe, belajar, gatau, gimana, kalian",
          "<b>Topic 7</b><br>Words: direcord, muka, full, lecture, lu",
          "<b>Topic 7</b><br>Words: penyemangat, belajar, kelas, lecture, pre",
          "<b>Topic 7</b><br>Words: habis, baru, discord, kelas, lecture",
          "<b>Topic 7</b><br>Words: kelas, hari, ini, ada, lecture",
          "<b>Topic 7</b><br>Words: kelasnya, mulai, apakah, emang, salah",
          "<b>Topic 7</b><br>Words: besoookk, abis, kelas, aja, lecture",
          "<b>Topic 7</b><br>Words: degan, deg, lecture, dh, gua",
          "<b>Topic 7</b><br>Words: ntr, abis, jd, kelas, ya",
          "<b>Topic 7</b><br>Words: nama, el, ketika, akan, nya",
          "<b>Topic 7</b><br>Words: perasaannya, jujur, student, cerita, waktu",
          "<b>Topic 7</b><br>Words: bkn, ngibul, konsen, hahhahaah, gituu",
          "<b>Topic 7</b><br>Words: blajar, trus, diajarin, diterapkan, nilainya",
          "<b>Topic 7</b><br>Words: hari, walaupun, iniii, diluar, kls",
          "<b>Topic 7</b><br>Words: gaassss, habis, diskusi, kelas, lecture",
          "<b>Topic 7</b><br>Words: yah, mostly, blending, looker, dilengkapi",
          "<b>Topic 7</b><br>Words: acara, graduation, pitching, sebelum, gituu",
          "<b>Topic 7</b><br>Words: murid, grading, masa, gantiin, herdian",
          "<b>Topic 7</b><br>Words: instructor, stiap, awal, kls, ajaaa",
          "<b>Topic 7</b><br>Words: cuekin, kedepannya, ketidakjelasan, faculty, mengenai"
         ],
         "marker": {
          "color": "#E69F00"
         },
         "mode": "lines",
         "name": "7_kelas_lecture_pre_student",
         "type": "scatter",
         "x": [
          "2023-01-07T10:31:00",
          "2023-01-07T10:36:00",
          "2023-01-07T10:39:00",
          "2023-01-07T10:41:00",
          "2023-01-07T10:42:00",
          "2023-01-07T10:43:00",
          "2023-01-07T10:46:00",
          "2023-01-09T21:06:00",
          "2023-01-10T18:56:00",
          "2023-01-11T19:09:00",
          "2023-01-13T19:27:00",
          "2023-01-14T15:41:00",
          "2023-01-17T18:57:00",
          "2023-01-19T21:20:00",
          "2023-01-19T21:21:00",
          "2023-01-23T20:21:00",
          "2023-02-09T14:21:00",
          "2023-02-09T15:12:00",
          "2023-02-15T18:58:00",
          "2023-02-18T10:03:00",
          "2023-02-20T18:57:00",
          "2023-02-20T18:58:00",
          "2023-02-20T21:14:00",
          "2023-02-21T19:03:00",
          "2023-02-21T21:13:00",
          "2023-02-22T18:59:00",
          "2023-02-23T10:28:00",
          "2023-02-23T11:10:00",
          "2023-02-23T19:08:00",
          "2023-02-23T19:10:00",
          "2023-02-23T19:11:00",
          "2023-02-27T19:42:00",
          "2023-02-27T19:43:00",
          "2023-03-01T18:36:00",
          "2023-03-04T12:14:00",
          "2023-03-04T13:00:00",
          "2023-03-06T21:27:00",
          "2023-03-07T19:22:00",
          "2023-03-07T19:39:00",
          "2023-03-08T19:42:00",
          "2023-03-08T21:14:00",
          "2023-03-08T21:23:00",
          "2023-03-08T21:25:00",
          "2023-03-24T21:21:00",
          "2023-03-29T20:32:00",
          "2023-04-01T10:35:00",
          "2023-04-11T12:08:00",
          "2023-04-11T12:15:00",
          "2023-04-11T12:20:00",
          "2023-04-13T22:32:00"
         ],
         "y": [
          1,
          1,
          1,
          1,
          1,
          1,
          2,
          1,
          1,
          1,
          1,
          1,
          1,
          1,
          1,
          1,
          1,
          1,
          2,
          2,
          1,
          1,
          1,
          1,
          1,
          1,
          1,
          1,
          1,
          1,
          1,
          1,
          1,
          1,
          1,
          1,
          1,
          1,
          1,
          1,
          1,
          1,
          1,
          1,
          1,
          1,
          1,
          1,
          1,
          1
         ]
        },
        {
         "hoverinfo": "text",
         "hovertext": [
          "<b>Topic 8</b><br>Words: free, linkedin, add, feel, tanya",
          "<b>Topic 8</b><br>Words: apakah, tanyaa, kesulitan, gmail, google",
          "<b>Topic 8</b><br>Words: halo, glitch, respon, ktnya, calendar",
          "<b>Topic 8</b><br>Words: diakses, yess, ituu, sisanya, calendar",
          "<b>Topic 8</b><br>Words: pages, btw, sudah, bisa, di",
          "<b>Topic 8</b><br>Words: teman, ramein, youtube, malam, lain",
          "<b>Topic 8</b><br>Words: youtube, malem, link, yaa, ini",
          "<b>Topic 8</b><br>Words: bermasalah, tercantum, calendar, saja, pakai",
          "<b>Topic 8</b><br>Words: linknya, yaa, ini, link, google",
          "<b>Topic 8</b><br>Words: jan23, siangg, rata, format, drivenya",
          "<b>Topic 8</b><br>Words: account, google, kah, pake, ini",
          "<b>Topic 8</b><br>Words: make, outlook, gtau, lama, akun",
          "<b>Topic 8</b><br>Words: sekarangg, terbatas, google, meet, jam",
          "<b>Topic 8</b><br>Words: kirim, sini, link, ke, kalau",
          "<b>Topic 8</b><br>Words: link, belum, absen, yg, google",
          "<b>Topic 8</b><br>Words: link, google, ini, video, calendar",
          "<b>Topic 8</b><br>Words: bersama, disini, belajar, link, absen",
          "<b>Topic 8</b><br>Words: berisi, drive, video, breakout, room",
          "<b>Topic 8</b><br>Words: linknyaa, jadinya, ini, ya, link",
          "<b>Topic 8</b><br>Words: rekaman, video, jgn, lupa, buat",
          "<b>Topic 8</b><br>Words: linknyaa, ini, ya, link, google",
          "<b>Topic 8</b><br>Words: alamat, mana, adit, link, google",
          "<b>Topic 8</b><br>Words: linkedin, btww, connect, youu, blm",
          "<b>Topic 8</b><br>Words: recording, link, google, ini, video",
          "<b>Topic 8</b><br>Words: butuh, rekaman, semalem, yaaa, siapa",
          "<b>Topic 8</b><br>Words: screennya, keluar, terus, muncul, share",
          "<b>Topic 8</b><br>Words: kesni, send, huhuu, recording, link",
          "<b>Topic 8</b><br>Words: rekamannya, link, google, ini, video",
          "<b>Topic 8</b><br>Words: room, breakout, ges, bagi, link",
          "<b>Topic 8</b><br>Words: link, nya, ini, google, video",
          "<b>Topic 8</b><br>Words: well, not, linked, post, kagak",
          "<b>Topic 8</b><br>Words: keliling, kertas, google, form, pake",
          "<b>Topic 8</b><br>Words: nari, video, ada, ga, kak",
          "<b>Topic 8</b><br>Words: video, kalo, sih, bisa, yg",
          "<b>Topic 8</b><br>Words: malming, dl, recording, tadi, tapi",
          "<b>Topic 8</b><br>Words: link, google, ini, video, calendar",
          "<b>Topic 8</b><br>Words: oiyaa, semangaatt, janlups, notes, most",
          "<b>Topic 8</b><br>Words: update, collabs, taro, google, sim",
          "<b>Topic 8</b><br>Words: samperin, alamat, spill, langsung, sini",
          "<b>Topic 8</b><br>Words: apa2, ngmng, org, ga, link",
          "<b>Topic 8</b><br>Words: guysss, hehe, minta, link, dong",
          "<b>Topic 8</b><br>Words: link, koo, biasa, hari, ini",
          "<b>Topic 8</b><br>Words: ehehe, rahasia, detect, tag, namanyaa",
          "<b>Topic 8</b><br>Words: interface, fitur, khawatir, kenalan, nyaa",
          "<b>Topic 8</b><br>Words: upload, val, jangan, ini, yg",
          "<b>Topic 8</b><br>Words: linknya, minta, kakak, link, google",
          "<b>Topic 8</b><br>Words: link, google, ini, video, calendar",
          "<b>Topic 8</b><br>Words: bangsa, pemersatu, link, google, ini",
          "<b>Topic 8</b><br>Words: gabs, upload, tpi, buat, link"
         ],
         "marker": {
          "color": "#56B4E9"
         },
         "mode": "lines",
         "name": "8_link_google_ini_video",
         "type": "scatter",
         "x": [
          "2023-01-06T14:39:00",
          "2023-01-06T17:11:00",
          "2023-01-06T17:13:00",
          "2023-01-07T10:35:00",
          "2023-01-07T10:39:00",
          "2023-01-10T18:56:00",
          "2023-01-10T19:00:00",
          "2023-01-11T18:51:00",
          "2023-01-11T18:56:00",
          "2023-01-16T14:31:00",
          "2023-01-16T21:14:00",
          "2023-01-16T21:15:00",
          "2023-01-16T21:22:00",
          "2023-01-16T21:23:00",
          "2023-01-17T21:15:00",
          "2023-01-18T20:11:00",
          "2023-01-18T21:03:00",
          "2023-01-18T21:35:00",
          "2023-01-19T12:15:00",
          "2023-01-19T21:19:00",
          "2023-01-24T21:02:00",
          "2023-01-24T21:11:00",
          "2023-01-26T11:01:00",
          "2023-01-26T22:35:00",
          "2023-01-27T09:14:00",
          "2023-01-28T14:25:00",
          "2023-02-02T21:12:00",
          "2023-02-11T15:17:00",
          "2023-02-14T20:39:00",
          "2023-02-18T23:00:00",
          "2023-02-21T22:06:00",
          "2023-02-21T22:07:00",
          "2023-02-23T20:18:00",
          "2023-02-23T21:00:00",
          "2023-02-25T16:16:00",
          "2023-02-27T22:02:00",
          "2023-03-03T20:08:00",
          "2023-03-07T10:57:00",
          "2023-03-07T20:44:00",
          "2023-03-08T20:17:00",
          "2023-03-14T18:59:00",
          "2023-03-14T19:00:00",
          "2023-03-17T23:22:00",
          "2023-03-24T21:19:00",
          "2023-04-05T21:26:00",
          "2023-04-11T12:07:00",
          "2023-04-11T12:08:00",
          "2023-04-11T12:10:00",
          "2023-04-11T12:23:00"
         ],
         "y": [
          1,
          1,
          1,
          1,
          1,
          1,
          1,
          1,
          1,
          1,
          1,
          1,
          1,
          1,
          1,
          1,
          1,
          1,
          1,
          1,
          1,
          1,
          1,
          1,
          1,
          1,
          1,
          1,
          1,
          1,
          1,
          1,
          1,
          1,
          1,
          1,
          1,
          1,
          1,
          1,
          1,
          1,
          1,
          1,
          1,
          1,
          1,
          1,
          1
         ]
        },
        {
         "hoverinfo": "text",
         "hovertext": [
          "<b>Topic 9</b><br>Words: jalita, sudah, ka, jal, kak",
          "<b>Topic 9</b><br>Words: semisal, terjawab, diluar, tetap, jal",
          "<b>Topic 9</b><br>Words: padamu, jal, kak, ada, aku",
          "<b>Topic 9</b><br>Words: khaaan, orangnya, baik, kok, jal",
          "<b>Topic 9</b><br>Words: appreciate, jalit, ka, jal, kak",
          "<b>Topic 9</b><br>Words: nanya, jal, juga, mau, kak",
          "<b>Topic 9</b><br>Words: infonya, oke, you, jal, ely",
          "<b>Topic 9</b><br>Words: bahas, assignment, yaa, jal, kak",
          "<b>Topic 9</b><br>Words: ndiri, indomi, mah, gua, jal",
          "<b>Topic 9</b><br>Words: angpaonya, cukup, banget, iyaa, jal",
          "<b>Topic 9</b><br>Words: selamat, jal, kak, tuh, telfon",
          "<b>Topic 9</b><br>Words: mengulang, poinnya, cuma, ditulis, diambil",
          "<b>Topic 9</b><br>Words: jalita, selamat, kak, jal, tuh",
          "<b>Topic 9</b><br>Words: makasihh, jal, kak, tuh, telfon",
          "<b>Topic 9</b><br>Words: alexxxx, mantaapp, jal, kak, tuh",
          "<b>Topic 9</b><br>Words: parah, jal, bgt, kak, tuh",
          "<b>Topic 9</b><br>Words: sumit, lg, udh, gua, jal",
          "<b>Topic 9</b><br>Words: siap, jal, ka, kak, tuh",
          "<b>Topic 9</b><br>Words: dari, jal, apa, kak, tuh",
          "<b>Topic 9</b><br>Words: ahh, telfon, jelasin, minta, jal",
          "<b>Topic 9</b><br>Words: 24, membantu, ready, telfon, jal",
          "<b>Topic 9</b><br>Words: knp, ayo, jal, kak, tuh",
          "<b>Topic 9</b><br>Words: spam, sepanjang, kami, siap, jal",
          "<b>Topic 9</b><br>Words: jalitot, bareng, jg, kak, jal",
          "<b>Topic 9</b><br>Words: sby, jal, kak, tuh, telfon",
          "<b>Topic 9</b><br>Words: matre, dsr, kaliaaan, ya, jal",
          "<b>Topic 9</b><br>Words: diemin, gua, jal, kak, tuh",
          "<b>Topic 9</b><br>Words: anak, dong, jal, apa, kak",
          "<b>Topic 9</b><br>Words: perasaan, setelah, menang, jalita, gimana",
          "<b>Topic 9</b><br>Words: didelet, woy, knp, jal, kak",
          "<b>Topic 9</b><br>Words: jaman, udh, jal, kak, tuh",
          "<b>Topic 9</b><br>Words: dighosting, gua, sama, kajal, jal",
          "<b>Topic 9</b><br>Words: dunia, hoiya, foundation, lupa, wkwk",
          "<b>Topic 9</b><br>Words: ngompol, trlanjur, udh, jal, kak",
          "<b>Topic 9</b><br>Words: gimana, jal, ka, kak, tuh",
          "<b>Topic 9</b><br>Words: ly, gabisa, jg, jal, kak",
          "<b>Topic 9</b><br>Words: kutu, sku, lha, masalah, jal",
          "<b>Topic 9</b><br>Words: intiny, pd, males, spill, sini",
          "<b>Topic 9</b><br>Words: kemaren, ghibah, otw, abis, kelar",
          "<b>Topic 9</b><br>Words: tuh, jal, sebaik, ditawarin, rasa",
          "<b>Topic 9</b><br>Words: feedback, niat, temenku, beut, jal",
          "<b>Topic 9</b><br>Words: omongin, join, pengen, ntar, jal"
         ],
         "marker": {
          "color": "#009E73"
         },
         "mode": "lines",
         "name": "9_jal_kak_tuh_telfon",
         "type": "scatter",
         "x": [
          "2023-01-07T21:29:00",
          "2023-01-11T21:16:00",
          "2023-01-16T21:17:00",
          "2023-01-16T21:24:00",
          "2023-01-16T21:25:00",
          "2023-01-19T21:20:00",
          "2023-01-19T21:22:00",
          "2023-01-20T22:09:00",
          "2023-01-24T21:08:00",
          "2023-01-24T21:11:00",
          "2023-01-25T21:12:00",
          "2023-01-25T21:14:00",
          "2023-01-26T05:24:00",
          "2023-02-01T21:29:00",
          "2023-02-06T19:43:00",
          "2023-02-14T22:13:00",
          "2023-02-15T10:04:00",
          "2023-02-15T21:05:00",
          "2023-02-20T19:09:00",
          "2023-02-21T21:13:00",
          "2023-02-21T21:34:00",
          "2023-02-22T13:04:00",
          "2023-02-22T13:08:00",
          "2023-02-23T11:09:00",
          "2023-02-23T11:49:00",
          "2023-02-23T16:05:00",
          "2023-02-23T16:07:00",
          "2023-02-23T17:15:00",
          "2023-02-23T19:07:00",
          "2023-03-01T20:27:00",
          "2023-03-03T21:00:00",
          "2023-03-03T22:41:00",
          "2023-03-06T21:21:00",
          "2023-03-08T21:09:00",
          "2023-03-29T20:28:00",
          "2023-04-11T12:09:00",
          "2023-04-11T12:19:00",
          "2023-04-11T12:20:00",
          "2023-04-11T12:22:00",
          "2023-04-11T12:45:00",
          "2023-04-11T12:46:00",
          "2023-04-13T19:56:00"
         ],
         "y": [
          1,
          1,
          1,
          1,
          1,
          1,
          1,
          1,
          1,
          1,
          1,
          1,
          1,
          1,
          1,
          1,
          1,
          1,
          1,
          1,
          1,
          1,
          1,
          1,
          1,
          1,
          1,
          1,
          1,
          1,
          1,
          1,
          1,
          1,
          1,
          1,
          1,
          2,
          1,
          1,
          2,
          1
         ]
        }
       ],
       "layout": {
        "height": 450,
        "hoverlabel": {
         "bgcolor": "white",
         "font": {
          "family": "Rockwell",
          "size": 16
         }
        },
        "legend": {
         "title": {
          "text": "<b>Global Topic Representation"
         }
        },
        "template": {
         "data": {
          "bar": [
           {
            "error_x": {
             "color": "rgb(36,36,36)"
            },
            "error_y": {
             "color": "rgb(36,36,36)"
            },
            "marker": {
             "line": {
              "color": "white",
              "width": 0.5
             }
            },
            "type": "bar"
           }
          ],
          "barpolar": [
           {
            "marker": {
             "line": {
              "color": "white",
              "width": 0.5
             }
            },
            "type": "barpolar"
           }
          ],
          "carpet": [
           {
            "aaxis": {
             "endlinecolor": "rgb(36,36,36)",
             "gridcolor": "white",
             "linecolor": "white",
             "minorgridcolor": "white",
             "startlinecolor": "rgb(36,36,36)"
            },
            "baxis": {
             "endlinecolor": "rgb(36,36,36)",
             "gridcolor": "white",
             "linecolor": "white",
             "minorgridcolor": "white",
             "startlinecolor": "rgb(36,36,36)"
            },
            "type": "carpet"
           }
          ],
          "choropleth": [
           {
            "colorbar": {
             "outlinewidth": 1,
             "tickcolor": "rgb(36,36,36)",
             "ticks": "outside"
            },
            "type": "choropleth"
           }
          ],
          "contour": [
           {
            "colorbar": {
             "outlinewidth": 1,
             "tickcolor": "rgb(36,36,36)",
             "ticks": "outside"
            },
            "colorscale": [
             [
              0,
              "#440154"
             ],
             [
              0.1111111111111111,
              "#482878"
             ],
             [
              0.2222222222222222,
              "#3e4989"
             ],
             [
              0.3333333333333333,
              "#31688e"
             ],
             [
              0.4444444444444444,
              "#26828e"
             ],
             [
              0.5555555555555556,
              "#1f9e89"
             ],
             [
              0.6666666666666666,
              "#35b779"
             ],
             [
              0.7777777777777778,
              "#6ece58"
             ],
             [
              0.8888888888888888,
              "#b5de2b"
             ],
             [
              1,
              "#fde725"
             ]
            ],
            "type": "contour"
           }
          ],
          "contourcarpet": [
           {
            "colorbar": {
             "outlinewidth": 1,
             "tickcolor": "rgb(36,36,36)",
             "ticks": "outside"
            },
            "type": "contourcarpet"
           }
          ],
          "heatmap": [
           {
            "colorbar": {
             "outlinewidth": 1,
             "tickcolor": "rgb(36,36,36)",
             "ticks": "outside"
            },
            "colorscale": [
             [
              0,
              "#440154"
             ],
             [
              0.1111111111111111,
              "#482878"
             ],
             [
              0.2222222222222222,
              "#3e4989"
             ],
             [
              0.3333333333333333,
              "#31688e"
             ],
             [
              0.4444444444444444,
              "#26828e"
             ],
             [
              0.5555555555555556,
              "#1f9e89"
             ],
             [
              0.6666666666666666,
              "#35b779"
             ],
             [
              0.7777777777777778,
              "#6ece58"
             ],
             [
              0.8888888888888888,
              "#b5de2b"
             ],
             [
              1,
              "#fde725"
             ]
            ],
            "type": "heatmap"
           }
          ],
          "heatmapgl": [
           {
            "colorbar": {
             "outlinewidth": 1,
             "tickcolor": "rgb(36,36,36)",
             "ticks": "outside"
            },
            "colorscale": [
             [
              0,
              "#440154"
             ],
             [
              0.1111111111111111,
              "#482878"
             ],
             [
              0.2222222222222222,
              "#3e4989"
             ],
             [
              0.3333333333333333,
              "#31688e"
             ],
             [
              0.4444444444444444,
              "#26828e"
             ],
             [
              0.5555555555555556,
              "#1f9e89"
             ],
             [
              0.6666666666666666,
              "#35b779"
             ],
             [
              0.7777777777777778,
              "#6ece58"
             ],
             [
              0.8888888888888888,
              "#b5de2b"
             ],
             [
              1,
              "#fde725"
             ]
            ],
            "type": "heatmapgl"
           }
          ],
          "histogram": [
           {
            "marker": {
             "line": {
              "color": "white",
              "width": 0.6
             }
            },
            "type": "histogram"
           }
          ],
          "histogram2d": [
           {
            "colorbar": {
             "outlinewidth": 1,
             "tickcolor": "rgb(36,36,36)",
             "ticks": "outside"
            },
            "colorscale": [
             [
              0,
              "#440154"
             ],
             [
              0.1111111111111111,
              "#482878"
             ],
             [
              0.2222222222222222,
              "#3e4989"
             ],
             [
              0.3333333333333333,
              "#31688e"
             ],
             [
              0.4444444444444444,
              "#26828e"
             ],
             [
              0.5555555555555556,
              "#1f9e89"
             ],
             [
              0.6666666666666666,
              "#35b779"
             ],
             [
              0.7777777777777778,
              "#6ece58"
             ],
             [
              0.8888888888888888,
              "#b5de2b"
             ],
             [
              1,
              "#fde725"
             ]
            ],
            "type": "histogram2d"
           }
          ],
          "histogram2dcontour": [
           {
            "colorbar": {
             "outlinewidth": 1,
             "tickcolor": "rgb(36,36,36)",
             "ticks": "outside"
            },
            "colorscale": [
             [
              0,
              "#440154"
             ],
             [
              0.1111111111111111,
              "#482878"
             ],
             [
              0.2222222222222222,
              "#3e4989"
             ],
             [
              0.3333333333333333,
              "#31688e"
             ],
             [
              0.4444444444444444,
              "#26828e"
             ],
             [
              0.5555555555555556,
              "#1f9e89"
             ],
             [
              0.6666666666666666,
              "#35b779"
             ],
             [
              0.7777777777777778,
              "#6ece58"
             ],
             [
              0.8888888888888888,
              "#b5de2b"
             ],
             [
              1,
              "#fde725"
             ]
            ],
            "type": "histogram2dcontour"
           }
          ],
          "mesh3d": [
           {
            "colorbar": {
             "outlinewidth": 1,
             "tickcolor": "rgb(36,36,36)",
             "ticks": "outside"
            },
            "type": "mesh3d"
           }
          ],
          "parcoords": [
           {
            "line": {
             "colorbar": {
              "outlinewidth": 1,
              "tickcolor": "rgb(36,36,36)",
              "ticks": "outside"
             }
            },
            "type": "parcoords"
           }
          ],
          "pie": [
           {
            "automargin": true,
            "type": "pie"
           }
          ],
          "scatter": [
           {
            "marker": {
             "colorbar": {
              "outlinewidth": 1,
              "tickcolor": "rgb(36,36,36)",
              "ticks": "outside"
             }
            },
            "type": "scatter"
           }
          ],
          "scatter3d": [
           {
            "line": {
             "colorbar": {
              "outlinewidth": 1,
              "tickcolor": "rgb(36,36,36)",
              "ticks": "outside"
             }
            },
            "marker": {
             "colorbar": {
              "outlinewidth": 1,
              "tickcolor": "rgb(36,36,36)",
              "ticks": "outside"
             }
            },
            "type": "scatter3d"
           }
          ],
          "scattercarpet": [
           {
            "marker": {
             "colorbar": {
              "outlinewidth": 1,
              "tickcolor": "rgb(36,36,36)",
              "ticks": "outside"
             }
            },
            "type": "scattercarpet"
           }
          ],
          "scattergeo": [
           {
            "marker": {
             "colorbar": {
              "outlinewidth": 1,
              "tickcolor": "rgb(36,36,36)",
              "ticks": "outside"
             }
            },
            "type": "scattergeo"
           }
          ],
          "scattergl": [
           {
            "marker": {
             "colorbar": {
              "outlinewidth": 1,
              "tickcolor": "rgb(36,36,36)",
              "ticks": "outside"
             }
            },
            "type": "scattergl"
           }
          ],
          "scattermapbox": [
           {
            "marker": {
             "colorbar": {
              "outlinewidth": 1,
              "tickcolor": "rgb(36,36,36)",
              "ticks": "outside"
             }
            },
            "type": "scattermapbox"
           }
          ],
          "scatterpolar": [
           {
            "marker": {
             "colorbar": {
              "outlinewidth": 1,
              "tickcolor": "rgb(36,36,36)",
              "ticks": "outside"
             }
            },
            "type": "scatterpolar"
           }
          ],
          "scatterpolargl": [
           {
            "marker": {
             "colorbar": {
              "outlinewidth": 1,
              "tickcolor": "rgb(36,36,36)",
              "ticks": "outside"
             }
            },
            "type": "scatterpolargl"
           }
          ],
          "scatterternary": [
           {
            "marker": {
             "colorbar": {
              "outlinewidth": 1,
              "tickcolor": "rgb(36,36,36)",
              "ticks": "outside"
             }
            },
            "type": "scatterternary"
           }
          ],
          "surface": [
           {
            "colorbar": {
             "outlinewidth": 1,
             "tickcolor": "rgb(36,36,36)",
             "ticks": "outside"
            },
            "colorscale": [
             [
              0,
              "#440154"
             ],
             [
              0.1111111111111111,
              "#482878"
             ],
             [
              0.2222222222222222,
              "#3e4989"
             ],
             [
              0.3333333333333333,
              "#31688e"
             ],
             [
              0.4444444444444444,
              "#26828e"
             ],
             [
              0.5555555555555556,
              "#1f9e89"
             ],
             [
              0.6666666666666666,
              "#35b779"
             ],
             [
              0.7777777777777778,
              "#6ece58"
             ],
             [
              0.8888888888888888,
              "#b5de2b"
             ],
             [
              1,
              "#fde725"
             ]
            ],
            "type": "surface"
           }
          ],
          "table": [
           {
            "cells": {
             "fill": {
              "color": "rgb(237,237,237)"
             },
             "line": {
              "color": "white"
             }
            },
            "header": {
             "fill": {
              "color": "rgb(217,217,217)"
             },
             "line": {
              "color": "white"
             }
            },
            "type": "table"
           }
          ]
         },
         "layout": {
          "annotationdefaults": {
           "arrowhead": 0,
           "arrowwidth": 1
          },
          "autotypenumbers": "strict",
          "coloraxis": {
           "colorbar": {
            "outlinewidth": 1,
            "tickcolor": "rgb(36,36,36)",
            "ticks": "outside"
           }
          },
          "colorscale": {
           "diverging": [
            [
             0,
             "rgb(103,0,31)"
            ],
            [
             0.1,
             "rgb(178,24,43)"
            ],
            [
             0.2,
             "rgb(214,96,77)"
            ],
            [
             0.3,
             "rgb(244,165,130)"
            ],
            [
             0.4,
             "rgb(253,219,199)"
            ],
            [
             0.5,
             "rgb(247,247,247)"
            ],
            [
             0.6,
             "rgb(209,229,240)"
            ],
            [
             0.7,
             "rgb(146,197,222)"
            ],
            [
             0.8,
             "rgb(67,147,195)"
            ],
            [
             0.9,
             "rgb(33,102,172)"
            ],
            [
             1,
             "rgb(5,48,97)"
            ]
           ],
           "sequential": [
            [
             0,
             "#440154"
            ],
            [
             0.1111111111111111,
             "#482878"
            ],
            [
             0.2222222222222222,
             "#3e4989"
            ],
            [
             0.3333333333333333,
             "#31688e"
            ],
            [
             0.4444444444444444,
             "#26828e"
            ],
            [
             0.5555555555555556,
             "#1f9e89"
            ],
            [
             0.6666666666666666,
             "#35b779"
            ],
            [
             0.7777777777777778,
             "#6ece58"
            ],
            [
             0.8888888888888888,
             "#b5de2b"
            ],
            [
             1,
             "#fde725"
            ]
           ],
           "sequentialminus": [
            [
             0,
             "#440154"
            ],
            [
             0.1111111111111111,
             "#482878"
            ],
            [
             0.2222222222222222,
             "#3e4989"
            ],
            [
             0.3333333333333333,
             "#31688e"
            ],
            [
             0.4444444444444444,
             "#26828e"
            ],
            [
             0.5555555555555556,
             "#1f9e89"
            ],
            [
             0.6666666666666666,
             "#35b779"
            ],
            [
             0.7777777777777778,
             "#6ece58"
            ],
            [
             0.8888888888888888,
             "#b5de2b"
            ],
            [
             1,
             "#fde725"
            ]
           ]
          },
          "colorway": [
           "#1F77B4",
           "#FF7F0E",
           "#2CA02C",
           "#D62728",
           "#9467BD",
           "#8C564B",
           "#E377C2",
           "#7F7F7F",
           "#BCBD22",
           "#17BECF"
          ],
          "font": {
           "color": "rgb(36,36,36)"
          },
          "geo": {
           "bgcolor": "white",
           "lakecolor": "white",
           "landcolor": "white",
           "showlakes": true,
           "showland": true,
           "subunitcolor": "white"
          },
          "hoverlabel": {
           "align": "left"
          },
          "hovermode": "closest",
          "mapbox": {
           "style": "light"
          },
          "paper_bgcolor": "white",
          "plot_bgcolor": "white",
          "polar": {
           "angularaxis": {
            "gridcolor": "rgb(232,232,232)",
            "linecolor": "rgb(36,36,36)",
            "showgrid": false,
            "showline": true,
            "ticks": "outside"
           },
           "bgcolor": "white",
           "radialaxis": {
            "gridcolor": "rgb(232,232,232)",
            "linecolor": "rgb(36,36,36)",
            "showgrid": false,
            "showline": true,
            "ticks": "outside"
           }
          },
          "scene": {
           "xaxis": {
            "backgroundcolor": "white",
            "gridcolor": "rgb(232,232,232)",
            "gridwidth": 2,
            "linecolor": "rgb(36,36,36)",
            "showbackground": true,
            "showgrid": false,
            "showline": true,
            "ticks": "outside",
            "zeroline": false,
            "zerolinecolor": "rgb(36,36,36)"
           },
           "yaxis": {
            "backgroundcolor": "white",
            "gridcolor": "rgb(232,232,232)",
            "gridwidth": 2,
            "linecolor": "rgb(36,36,36)",
            "showbackground": true,
            "showgrid": false,
            "showline": true,
            "ticks": "outside",
            "zeroline": false,
            "zerolinecolor": "rgb(36,36,36)"
           },
           "zaxis": {
            "backgroundcolor": "white",
            "gridcolor": "rgb(232,232,232)",
            "gridwidth": 2,
            "linecolor": "rgb(36,36,36)",
            "showbackground": true,
            "showgrid": false,
            "showline": true,
            "ticks": "outside",
            "zeroline": false,
            "zerolinecolor": "rgb(36,36,36)"
           }
          },
          "shapedefaults": {
           "fillcolor": "black",
           "line": {
            "width": 0
           },
           "opacity": 0.3
          },
          "ternary": {
           "aaxis": {
            "gridcolor": "rgb(232,232,232)",
            "linecolor": "rgb(36,36,36)",
            "showgrid": false,
            "showline": true,
            "ticks": "outside"
           },
           "baxis": {
            "gridcolor": "rgb(232,232,232)",
            "linecolor": "rgb(36,36,36)",
            "showgrid": false,
            "showline": true,
            "ticks": "outside"
           },
           "bgcolor": "white",
           "caxis": {
            "gridcolor": "rgb(232,232,232)",
            "linecolor": "rgb(36,36,36)",
            "showgrid": false,
            "showline": true,
            "ticks": "outside"
           }
          },
          "title": {
           "x": 0.05
          },
          "xaxis": {
           "automargin": true,
           "gridcolor": "rgb(232,232,232)",
           "linecolor": "rgb(36,36,36)",
           "showgrid": false,
           "showline": true,
           "ticks": "outside",
           "title": {
            "standoff": 15
           },
           "zeroline": false,
           "zerolinecolor": "rgb(36,36,36)"
          },
          "yaxis": {
           "automargin": true,
           "gridcolor": "rgb(232,232,232)",
           "linecolor": "rgb(36,36,36)",
           "showgrid": false,
           "showline": true,
           "ticks": "outside",
           "title": {
            "standoff": 15
           },
           "zeroline": false,
           "zerolinecolor": "rgb(36,36,36)"
          }
         }
        },
        "title": {
         "font": {
          "color": "Black",
          "size": 22
         },
         "text": "",
         "x": 0.4,
         "xanchor": "center",
         "y": 0.95,
         "yanchor": "top"
        },
        "width": 1250,
        "xaxis": {
         "showgrid": true
        },
        "yaxis": {
         "showgrid": true,
         "title": {
          "text": "Frequency"
         }
        }
       }
      }
     },
     "metadata": {},
     "output_type": "display_data"
    }
   ],
   "source": [
    "topics_over_time = model.topics_over_time(list(chat[chat.clean_msg != ''].assign(\n",
    "    message=chat.message.str.replace(re.compile(r'http\\S+'), ''))['message'].values),\n",
    "    list(chat[chat.clean_msg != '']['date'].values))\n",
    "fig = model.visualize_topics_over_time(topics_over_time, top_n_topics=10, title='')\n",
    "py.plot(fig, filename='Topics over time', auto_open=False)\n",
    "fig"
   ]
  },
  {
   "attachments": {},
   "cell_type": "markdown",
   "metadata": {},
   "source": [
    "### Topic similarity"
   ]
  },
  {
   "attachments": {},
   "cell_type": "markdown",
   "metadata": {},
   "source": [
    "Intertopic distance map"
   ]
  },
  {
   "cell_type": "code",
   "execution_count": 30,
   "metadata": {},
   "outputs": [
    {
     "data": {
      "application/vnd.plotly.v1+json": {
       "config": {
        "plotlyServerURL": "https://plotly.com"
       },
       "data": [
        {
         "customdata": [
          [
           0,
           "brandon | tumben | kokk | awkawk | hoki",
           115
          ],
          [
           1,
           "wkwkwk | wkwkw | wkwkkw | wkkwkwk | wkwkwkkw",
           112
          ],
          [
           2,
           "menti | yg | iya | aja | yaa",
           103
          ],
          [
           3,
           "thank | you | congrats | makasih | terima",
           82
          ],
          [
           4,
           "jam | besok | game | as | telat",
           66
          ],
          [
           5,
           "aku | lg | bs | juga | ngurus",
           60
          ],
          [
           6,
           "absen | gak | lupa | ga | jangan",
           56
          ],
          [
           7,
           "kelas | lecture | pre | student | di",
           53
          ],
          [
           8,
           "link | google | ini | video | calendar",
           49
          ],
          [
           9,
           "jal | kak | tuh | telfon | jalita",
           44
          ],
          [
           10,
           "ale | itu | kenapa | mesti | bisa",
           39
          ],
          [
           11,
           "keren | hebat | banget | bagus | bgt",
           37
          ],
          [
           12,
           "wkwkwkwk | kwkwkwkw | ae | wkwkkwkwkw | wkwkw",
           36
          ],
          [
           13,
           "kajal | kak | bangun | jal | ig",
           32
          ],
          [
           14,
           "alex | mirza | aris | ely | alit_jak",
           31
          ],
          [
           15,
           "data | sql | datacamp | axis | stats",
           30
          ],
          [
           16,
           "team | tim | lead | setiap | section",
           26
          ],
          [
           17,
           "kalian | si | sibuk | kamu | banget",
           20
          ],
          [
           18,
           "hahahah | hahahaha | hahahha | hahahhahah | hahahahhahahahahahaha",
           19
          ],
          [
           19,
           "wkwkkwkw | wkwkwkwkwk | wkwkwkkwkw | wkwkwkwk | wkwkwkwkw",
           19
          ],
          [
           20,
           "discord | habis | kelas | yukkk | blank",
           17
          ],
          [
           21,
           "kek | keknya | tiap | terakhir | bisa",
           16
          ],
          [
           22,
           "happy | birthday | tahun | ulang | adit",
           16
          ],
          [
           23,
           "internet | wifi | desktop | laptop | gw",
           15
          ],
          [
           24,
           "kasih | teman | tau | ngelunasin | setuju",
           14
          ],
          [
           25,
           "foundation | deadline | intermediate | 59 | 23",
           14
          ],
          [
           26,
           "iyaa | yuhuuu | yezzzzz | yez | yeay",
           13
          ],
          [
           27,
           "tidur | malam | goodnight | bomat | keatas",
           12
          ],
          [
           28,
           "oke | up | ok | alrightyyy | okay",
           12
          ],
          [
           29,
           "tl | simulation | 27 | rangkap | rabu",
           12
          ],
          [
           30,
           "makan | enak | akhirny | go | sarapan",
           12
          ],
          [
           31,
           "gasss | gas | panas2in | option | gasssss",
           11
          ],
          [
           32,
           "freak | ih | wah | clubnya | marah",
           11
          ],
          [
           33,
           "duit | gaji | pengen | stock | jt",
           11
          ],
          [
           34,
           "assignmentnya | kakak | peer | kerjain | diskusi",
           11
          ],
          [
           35,
           "gua | lu | sini | menduakan | datengin",
           11
          ],
          [
           36,
           "gara | cepetan | disawer | terbaca | semua",
           10
          ]
         ],
         "hovertemplate": "<b>Topic %{customdata[0]}</b><br>%{customdata[1]}<br>Size: %{customdata[2]}",
         "legendgroup": "",
         "marker": {
          "color": "#B0BEC5",
          "line": {
           "color": "DarkSlateGrey",
           "width": 2
          },
          "size": [
           115,
           112,
           103,
           82,
           66,
           60,
           56,
           53,
           49,
           44,
           39,
           37,
           36,
           32,
           31,
           30,
           26,
           20,
           19,
           19,
           17,
           16,
           16,
           15,
           14,
           14,
           13,
           12,
           12,
           12,
           12,
           11,
           11,
           11,
           11,
           11,
           10
          ],
          "sizemode": "area",
          "sizeref": 0.071875,
          "symbol": "circle"
         },
         "mode": "markers",
         "name": "",
         "orientation": "v",
         "showlegend": false,
         "type": "scatter",
         "x": [
          -4.520139217376709,
          -4.855305194854736,
          -4.830001354217529,
          16.927324295043945,
          -3.186307430267334,
          -2.7745180130004883,
          -4.778074264526367,
          -3.3603265285491943,
          -3.5730881690979004,
          -5.288537979125977,
          -2.9798436164855957,
          16.735136032104492,
          -5.158576488494873,
          -4.137001991271973,
          -4.11087703704834,
          -3.7055740356445312,
          -5.101200580596924,
          1.2432360649108887,
          -3.897916793823242,
          14.666415214538574,
          -5.676870822906494,
          -4.018150329589844,
          17.060565948486328,
          -6.1042160987854,
          1.0016497373580933,
          -4.604696750640869,
          -5.901631832122803,
          -5.041334629058838,
          16.699892044067383,
          -3.822812557220459,
          -6.134814262390137,
          0.9002220630645752,
          14.666419982910156,
          -5.769278526306152,
          -5.889052391052246,
          -4.0319929122924805,
          -4.51223087310791
         ],
         "xaxis": "x",
         "y": [
          -3.7066619396209717,
          6.2581562995910645,
          5.999444961547852,
          -7.093094348907471,
          -5.560834884643555,
          -4.110456943511963,
          5.18187952041626,
          -5.362295150756836,
          -5.010516166687012,
          -4.833478927612305,
          -3.936094045639038,
          -6.90095329284668,
          -5.02627420425415,
          -3.9098169803619385,
          -4.258687496185303,
          -4.03546667098999,
          5.668517112731934,
          -10.007336616516113,
          -2.9444167613983154,
          1.9692137241363525,
          4.98604154586792,
          -3.802293539047241,
          -7.226426601409912,
          4.628467559814453,
          -9.765571594238281,
          5.073214530944824,
          -5.161317348480225,
          5.31998872756958,
          -6.865701198577881,
          -3.569936752319336,
          -4.912655353546143,
          -9.664041519165039,
          1.9691776037216187,
          -5.005702495574951,
          4.843534469604492,
          -3.1231024265289307,
          5.170138835906982
         ],
         "yaxis": "y"
        }
       ],
       "layout": {
        "annotations": [
         {
          "showarrow": false,
          "text": "D1",
          "x": -7.055036401748657,
          "y": -2.1557786822319027,
          "yshift": 10
         },
         {
          "showarrow": false,
          "text": "D2",
          "x": 6.28230721950531,
          "xshift": 10,
          "y": 7.196879744529724
         }
        ],
        "height": 650,
        "hoverlabel": {
         "bgcolor": "white",
         "font": {
          "family": "Rockwell",
          "size": 16
         }
        },
        "legend": {
         "itemsizing": "constant",
         "tracegroupgap": 0
        },
        "margin": {
         "t": 60
        },
        "shapes": [
         {
          "line": {
           "color": "#CFD8DC",
           "width": 2
          },
          "type": "line",
          "x0": 6.28230721950531,
          "x1": 6.28230721950531,
          "y0": -11.50843710899353,
          "y1": 7.196879744529724
         },
         {
          "line": {
           "color": "#9E9E9E",
           "width": 2
          },
          "type": "line",
          "x0": -7.055036401748657,
          "x1": 19.619650840759277,
          "y0": -2.1557786822319027,
          "y1": -2.1557786822319027
         }
        ],
        "sliders": [
         {
          "active": 0,
          "pad": {
           "t": 50
          },
          "steps": [
           {
            "args": [
             {
              "marker.color": [
               [
                "red",
                "#B0BEC5",
                "#B0BEC5",
                "#B0BEC5",
                "#B0BEC5",
                "#B0BEC5",
                "#B0BEC5",
                "#B0BEC5",
                "#B0BEC5",
                "#B0BEC5",
                "#B0BEC5",
                "#B0BEC5",
                "#B0BEC5",
                "#B0BEC5",
                "#B0BEC5",
                "#B0BEC5",
                "#B0BEC5",
                "#B0BEC5",
                "#B0BEC5",
                "#B0BEC5",
                "#B0BEC5",
                "#B0BEC5",
                "#B0BEC5",
                "#B0BEC5",
                "#B0BEC5",
                "#B0BEC5",
                "#B0BEC5",
                "#B0BEC5",
                "#B0BEC5",
                "#B0BEC5",
                "#B0BEC5",
                "#B0BEC5",
                "#B0BEC5",
                "#B0BEC5",
                "#B0BEC5",
                "#B0BEC5",
                "#B0BEC5"
               ]
              ]
             }
            ],
            "label": "Topic 0",
            "method": "update"
           },
           {
            "args": [
             {
              "marker.color": [
               [
                "#B0BEC5",
                "red",
                "#B0BEC5",
                "#B0BEC5",
                "#B0BEC5",
                "#B0BEC5",
                "#B0BEC5",
                "#B0BEC5",
                "#B0BEC5",
                "#B0BEC5",
                "#B0BEC5",
                "#B0BEC5",
                "#B0BEC5",
                "#B0BEC5",
                "#B0BEC5",
                "#B0BEC5",
                "#B0BEC5",
                "#B0BEC5",
                "#B0BEC5",
                "#B0BEC5",
                "#B0BEC5",
                "#B0BEC5",
                "#B0BEC5",
                "#B0BEC5",
                "#B0BEC5",
                "#B0BEC5",
                "#B0BEC5",
                "#B0BEC5",
                "#B0BEC5",
                "#B0BEC5",
                "#B0BEC5",
                "#B0BEC5",
                "#B0BEC5",
                "#B0BEC5",
                "#B0BEC5",
                "#B0BEC5",
                "#B0BEC5"
               ]
              ]
             }
            ],
            "label": "Topic 1",
            "method": "update"
           },
           {
            "args": [
             {
              "marker.color": [
               [
                "#B0BEC5",
                "#B0BEC5",
                "red",
                "#B0BEC5",
                "#B0BEC5",
                "#B0BEC5",
                "#B0BEC5",
                "#B0BEC5",
                "#B0BEC5",
                "#B0BEC5",
                "#B0BEC5",
                "#B0BEC5",
                "#B0BEC5",
                "#B0BEC5",
                "#B0BEC5",
                "#B0BEC5",
                "#B0BEC5",
                "#B0BEC5",
                "#B0BEC5",
                "#B0BEC5",
                "#B0BEC5",
                "#B0BEC5",
                "#B0BEC5",
                "#B0BEC5",
                "#B0BEC5",
                "#B0BEC5",
                "#B0BEC5",
                "#B0BEC5",
                "#B0BEC5",
                "#B0BEC5",
                "#B0BEC5",
                "#B0BEC5",
                "#B0BEC5",
                "#B0BEC5",
                "#B0BEC5",
                "#B0BEC5",
                "#B0BEC5"
               ]
              ]
             }
            ],
            "label": "Topic 2",
            "method": "update"
           },
           {
            "args": [
             {
              "marker.color": [
               [
                "#B0BEC5",
                "#B0BEC5",
                "#B0BEC5",
                "red",
                "#B0BEC5",
                "#B0BEC5",
                "#B0BEC5",
                "#B0BEC5",
                "#B0BEC5",
                "#B0BEC5",
                "#B0BEC5",
                "#B0BEC5",
                "#B0BEC5",
                "#B0BEC5",
                "#B0BEC5",
                "#B0BEC5",
                "#B0BEC5",
                "#B0BEC5",
                "#B0BEC5",
                "#B0BEC5",
                "#B0BEC5",
                "#B0BEC5",
                "#B0BEC5",
                "#B0BEC5",
                "#B0BEC5",
                "#B0BEC5",
                "#B0BEC5",
                "#B0BEC5",
                "#B0BEC5",
                "#B0BEC5",
                "#B0BEC5",
                "#B0BEC5",
                "#B0BEC5",
                "#B0BEC5",
                "#B0BEC5",
                "#B0BEC5",
                "#B0BEC5"
               ]
              ]
             }
            ],
            "label": "Topic 3",
            "method": "update"
           },
           {
            "args": [
             {
              "marker.color": [
               [
                "#B0BEC5",
                "#B0BEC5",
                "#B0BEC5",
                "#B0BEC5",
                "red",
                "#B0BEC5",
                "#B0BEC5",
                "#B0BEC5",
                "#B0BEC5",
                "#B0BEC5",
                "#B0BEC5",
                "#B0BEC5",
                "#B0BEC5",
                "#B0BEC5",
                "#B0BEC5",
                "#B0BEC5",
                "#B0BEC5",
                "#B0BEC5",
                "#B0BEC5",
                "#B0BEC5",
                "#B0BEC5",
                "#B0BEC5",
                "#B0BEC5",
                "#B0BEC5",
                "#B0BEC5",
                "#B0BEC5",
                "#B0BEC5",
                "#B0BEC5",
                "#B0BEC5",
                "#B0BEC5",
                "#B0BEC5",
                "#B0BEC5",
                "#B0BEC5",
                "#B0BEC5",
                "#B0BEC5",
                "#B0BEC5",
                "#B0BEC5"
               ]
              ]
             }
            ],
            "label": "Topic 4",
            "method": "update"
           },
           {
            "args": [
             {
              "marker.color": [
               [
                "#B0BEC5",
                "#B0BEC5",
                "#B0BEC5",
                "#B0BEC5",
                "#B0BEC5",
                "red",
                "#B0BEC5",
                "#B0BEC5",
                "#B0BEC5",
                "#B0BEC5",
                "#B0BEC5",
                "#B0BEC5",
                "#B0BEC5",
                "#B0BEC5",
                "#B0BEC5",
                "#B0BEC5",
                "#B0BEC5",
                "#B0BEC5",
                "#B0BEC5",
                "#B0BEC5",
                "#B0BEC5",
                "#B0BEC5",
                "#B0BEC5",
                "#B0BEC5",
                "#B0BEC5",
                "#B0BEC5",
                "#B0BEC5",
                "#B0BEC5",
                "#B0BEC5",
                "#B0BEC5",
                "#B0BEC5",
                "#B0BEC5",
                "#B0BEC5",
                "#B0BEC5",
                "#B0BEC5",
                "#B0BEC5",
                "#B0BEC5"
               ]
              ]
             }
            ],
            "label": "Topic 5",
            "method": "update"
           },
           {
            "args": [
             {
              "marker.color": [
               [
                "#B0BEC5",
                "#B0BEC5",
                "#B0BEC5",
                "#B0BEC5",
                "#B0BEC5",
                "#B0BEC5",
                "red",
                "#B0BEC5",
                "#B0BEC5",
                "#B0BEC5",
                "#B0BEC5",
                "#B0BEC5",
                "#B0BEC5",
                "#B0BEC5",
                "#B0BEC5",
                "#B0BEC5",
                "#B0BEC5",
                "#B0BEC5",
                "#B0BEC5",
                "#B0BEC5",
                "#B0BEC5",
                "#B0BEC5",
                "#B0BEC5",
                "#B0BEC5",
                "#B0BEC5",
                "#B0BEC5",
                "#B0BEC5",
                "#B0BEC5",
                "#B0BEC5",
                "#B0BEC5",
                "#B0BEC5",
                "#B0BEC5",
                "#B0BEC5",
                "#B0BEC5",
                "#B0BEC5",
                "#B0BEC5",
                "#B0BEC5"
               ]
              ]
             }
            ],
            "label": "Topic 6",
            "method": "update"
           },
           {
            "args": [
             {
              "marker.color": [
               [
                "#B0BEC5",
                "#B0BEC5",
                "#B0BEC5",
                "#B0BEC5",
                "#B0BEC5",
                "#B0BEC5",
                "#B0BEC5",
                "red",
                "#B0BEC5",
                "#B0BEC5",
                "#B0BEC5",
                "#B0BEC5",
                "#B0BEC5",
                "#B0BEC5",
                "#B0BEC5",
                "#B0BEC5",
                "#B0BEC5",
                "#B0BEC5",
                "#B0BEC5",
                "#B0BEC5",
                "#B0BEC5",
                "#B0BEC5",
                "#B0BEC5",
                "#B0BEC5",
                "#B0BEC5",
                "#B0BEC5",
                "#B0BEC5",
                "#B0BEC5",
                "#B0BEC5",
                "#B0BEC5",
                "#B0BEC5",
                "#B0BEC5",
                "#B0BEC5",
                "#B0BEC5",
                "#B0BEC5",
                "#B0BEC5",
                "#B0BEC5"
               ]
              ]
             }
            ],
            "label": "Topic 7",
            "method": "update"
           },
           {
            "args": [
             {
              "marker.color": [
               [
                "#B0BEC5",
                "#B0BEC5",
                "#B0BEC5",
                "#B0BEC5",
                "#B0BEC5",
                "#B0BEC5",
                "#B0BEC5",
                "#B0BEC5",
                "red",
                "#B0BEC5",
                "#B0BEC5",
                "#B0BEC5",
                "#B0BEC5",
                "#B0BEC5",
                "#B0BEC5",
                "#B0BEC5",
                "#B0BEC5",
                "#B0BEC5",
                "#B0BEC5",
                "#B0BEC5",
                "#B0BEC5",
                "#B0BEC5",
                "#B0BEC5",
                "#B0BEC5",
                "#B0BEC5",
                "#B0BEC5",
                "#B0BEC5",
                "#B0BEC5",
                "#B0BEC5",
                "#B0BEC5",
                "#B0BEC5",
                "#B0BEC5",
                "#B0BEC5",
                "#B0BEC5",
                "#B0BEC5",
                "#B0BEC5",
                "#B0BEC5"
               ]
              ]
             }
            ],
            "label": "Topic 8",
            "method": "update"
           },
           {
            "args": [
             {
              "marker.color": [
               [
                "#B0BEC5",
                "#B0BEC5",
                "#B0BEC5",
                "#B0BEC5",
                "#B0BEC5",
                "#B0BEC5",
                "#B0BEC5",
                "#B0BEC5",
                "#B0BEC5",
                "red",
                "#B0BEC5",
                "#B0BEC5",
                "#B0BEC5",
                "#B0BEC5",
                "#B0BEC5",
                "#B0BEC5",
                "#B0BEC5",
                "#B0BEC5",
                "#B0BEC5",
                "#B0BEC5",
                "#B0BEC5",
                "#B0BEC5",
                "#B0BEC5",
                "#B0BEC5",
                "#B0BEC5",
                "#B0BEC5",
                "#B0BEC5",
                "#B0BEC5",
                "#B0BEC5",
                "#B0BEC5",
                "#B0BEC5",
                "#B0BEC5",
                "#B0BEC5",
                "#B0BEC5",
                "#B0BEC5",
                "#B0BEC5",
                "#B0BEC5"
               ]
              ]
             }
            ],
            "label": "Topic 9",
            "method": "update"
           },
           {
            "args": [
             {
              "marker.color": [
               [
                "#B0BEC5",
                "#B0BEC5",
                "#B0BEC5",
                "#B0BEC5",
                "#B0BEC5",
                "#B0BEC5",
                "#B0BEC5",
                "#B0BEC5",
                "#B0BEC5",
                "#B0BEC5",
                "red",
                "#B0BEC5",
                "#B0BEC5",
                "#B0BEC5",
                "#B0BEC5",
                "#B0BEC5",
                "#B0BEC5",
                "#B0BEC5",
                "#B0BEC5",
                "#B0BEC5",
                "#B0BEC5",
                "#B0BEC5",
                "#B0BEC5",
                "#B0BEC5",
                "#B0BEC5",
                "#B0BEC5",
                "#B0BEC5",
                "#B0BEC5",
                "#B0BEC5",
                "#B0BEC5",
                "#B0BEC5",
                "#B0BEC5",
                "#B0BEC5",
                "#B0BEC5",
                "#B0BEC5",
                "#B0BEC5",
                "#B0BEC5"
               ]
              ]
             }
            ],
            "label": "Topic 10",
            "method": "update"
           },
           {
            "args": [
             {
              "marker.color": [
               [
                "#B0BEC5",
                "#B0BEC5",
                "#B0BEC5",
                "#B0BEC5",
                "#B0BEC5",
                "#B0BEC5",
                "#B0BEC5",
                "#B0BEC5",
                "#B0BEC5",
                "#B0BEC5",
                "#B0BEC5",
                "red",
                "#B0BEC5",
                "#B0BEC5",
                "#B0BEC5",
                "#B0BEC5",
                "#B0BEC5",
                "#B0BEC5",
                "#B0BEC5",
                "#B0BEC5",
                "#B0BEC5",
                "#B0BEC5",
                "#B0BEC5",
                "#B0BEC5",
                "#B0BEC5",
                "#B0BEC5",
                "#B0BEC5",
                "#B0BEC5",
                "#B0BEC5",
                "#B0BEC5",
                "#B0BEC5",
                "#B0BEC5",
                "#B0BEC5",
                "#B0BEC5",
                "#B0BEC5",
                "#B0BEC5",
                "#B0BEC5"
               ]
              ]
             }
            ],
            "label": "Topic 11",
            "method": "update"
           },
           {
            "args": [
             {
              "marker.color": [
               [
                "#B0BEC5",
                "#B0BEC5",
                "#B0BEC5",
                "#B0BEC5",
                "#B0BEC5",
                "#B0BEC5",
                "#B0BEC5",
                "#B0BEC5",
                "#B0BEC5",
                "#B0BEC5",
                "#B0BEC5",
                "#B0BEC5",
                "red",
                "#B0BEC5",
                "#B0BEC5",
                "#B0BEC5",
                "#B0BEC5",
                "#B0BEC5",
                "#B0BEC5",
                "#B0BEC5",
                "#B0BEC5",
                "#B0BEC5",
                "#B0BEC5",
                "#B0BEC5",
                "#B0BEC5",
                "#B0BEC5",
                "#B0BEC5",
                "#B0BEC5",
                "#B0BEC5",
                "#B0BEC5",
                "#B0BEC5",
                "#B0BEC5",
                "#B0BEC5",
                "#B0BEC5",
                "#B0BEC5",
                "#B0BEC5",
                "#B0BEC5"
               ]
              ]
             }
            ],
            "label": "Topic 12",
            "method": "update"
           },
           {
            "args": [
             {
              "marker.color": [
               [
                "#B0BEC5",
                "#B0BEC5",
                "#B0BEC5",
                "#B0BEC5",
                "#B0BEC5",
                "#B0BEC5",
                "#B0BEC5",
                "#B0BEC5",
                "#B0BEC5",
                "#B0BEC5",
                "#B0BEC5",
                "#B0BEC5",
                "#B0BEC5",
                "red",
                "#B0BEC5",
                "#B0BEC5",
                "#B0BEC5",
                "#B0BEC5",
                "#B0BEC5",
                "#B0BEC5",
                "#B0BEC5",
                "#B0BEC5",
                "#B0BEC5",
                "#B0BEC5",
                "#B0BEC5",
                "#B0BEC5",
                "#B0BEC5",
                "#B0BEC5",
                "#B0BEC5",
                "#B0BEC5",
                "#B0BEC5",
                "#B0BEC5",
                "#B0BEC5",
                "#B0BEC5",
                "#B0BEC5",
                "#B0BEC5",
                "#B0BEC5"
               ]
              ]
             }
            ],
            "label": "Topic 13",
            "method": "update"
           },
           {
            "args": [
             {
              "marker.color": [
               [
                "#B0BEC5",
                "#B0BEC5",
                "#B0BEC5",
                "#B0BEC5",
                "#B0BEC5",
                "#B0BEC5",
                "#B0BEC5",
                "#B0BEC5",
                "#B0BEC5",
                "#B0BEC5",
                "#B0BEC5",
                "#B0BEC5",
                "#B0BEC5",
                "#B0BEC5",
                "red",
                "#B0BEC5",
                "#B0BEC5",
                "#B0BEC5",
                "#B0BEC5",
                "#B0BEC5",
                "#B0BEC5",
                "#B0BEC5",
                "#B0BEC5",
                "#B0BEC5",
                "#B0BEC5",
                "#B0BEC5",
                "#B0BEC5",
                "#B0BEC5",
                "#B0BEC5",
                "#B0BEC5",
                "#B0BEC5",
                "#B0BEC5",
                "#B0BEC5",
                "#B0BEC5",
                "#B0BEC5",
                "#B0BEC5",
                "#B0BEC5"
               ]
              ]
             }
            ],
            "label": "Topic 14",
            "method": "update"
           },
           {
            "args": [
             {
              "marker.color": [
               [
                "#B0BEC5",
                "#B0BEC5",
                "#B0BEC5",
                "#B0BEC5",
                "#B0BEC5",
                "#B0BEC5",
                "#B0BEC5",
                "#B0BEC5",
                "#B0BEC5",
                "#B0BEC5",
                "#B0BEC5",
                "#B0BEC5",
                "#B0BEC5",
                "#B0BEC5",
                "#B0BEC5",
                "red",
                "#B0BEC5",
                "#B0BEC5",
                "#B0BEC5",
                "#B0BEC5",
                "#B0BEC5",
                "#B0BEC5",
                "#B0BEC5",
                "#B0BEC5",
                "#B0BEC5",
                "#B0BEC5",
                "#B0BEC5",
                "#B0BEC5",
                "#B0BEC5",
                "#B0BEC5",
                "#B0BEC5",
                "#B0BEC5",
                "#B0BEC5",
                "#B0BEC5",
                "#B0BEC5",
                "#B0BEC5",
                "#B0BEC5"
               ]
              ]
             }
            ],
            "label": "Topic 15",
            "method": "update"
           },
           {
            "args": [
             {
              "marker.color": [
               [
                "#B0BEC5",
                "#B0BEC5",
                "#B0BEC5",
                "#B0BEC5",
                "#B0BEC5",
                "#B0BEC5",
                "#B0BEC5",
                "#B0BEC5",
                "#B0BEC5",
                "#B0BEC5",
                "#B0BEC5",
                "#B0BEC5",
                "#B0BEC5",
                "#B0BEC5",
                "#B0BEC5",
                "#B0BEC5",
                "red",
                "#B0BEC5",
                "#B0BEC5",
                "#B0BEC5",
                "#B0BEC5",
                "#B0BEC5",
                "#B0BEC5",
                "#B0BEC5",
                "#B0BEC5",
                "#B0BEC5",
                "#B0BEC5",
                "#B0BEC5",
                "#B0BEC5",
                "#B0BEC5",
                "#B0BEC5",
                "#B0BEC5",
                "#B0BEC5",
                "#B0BEC5",
                "#B0BEC5",
                "#B0BEC5",
                "#B0BEC5"
               ]
              ]
             }
            ],
            "label": "Topic 16",
            "method": "update"
           },
           {
            "args": [
             {
              "marker.color": [
               [
                "#B0BEC5",
                "#B0BEC5",
                "#B0BEC5",
                "#B0BEC5",
                "#B0BEC5",
                "#B0BEC5",
                "#B0BEC5",
                "#B0BEC5",
                "#B0BEC5",
                "#B0BEC5",
                "#B0BEC5",
                "#B0BEC5",
                "#B0BEC5",
                "#B0BEC5",
                "#B0BEC5",
                "#B0BEC5",
                "#B0BEC5",
                "red",
                "#B0BEC5",
                "#B0BEC5",
                "#B0BEC5",
                "#B0BEC5",
                "#B0BEC5",
                "#B0BEC5",
                "#B0BEC5",
                "#B0BEC5",
                "#B0BEC5",
                "#B0BEC5",
                "#B0BEC5",
                "#B0BEC5",
                "#B0BEC5",
                "#B0BEC5",
                "#B0BEC5",
                "#B0BEC5",
                "#B0BEC5",
                "#B0BEC5",
                "#B0BEC5"
               ]
              ]
             }
            ],
            "label": "Topic 17",
            "method": "update"
           },
           {
            "args": [
             {
              "marker.color": [
               [
                "#B0BEC5",
                "#B0BEC5",
                "#B0BEC5",
                "#B0BEC5",
                "#B0BEC5",
                "#B0BEC5",
                "#B0BEC5",
                "#B0BEC5",
                "#B0BEC5",
                "#B0BEC5",
                "#B0BEC5",
                "#B0BEC5",
                "#B0BEC5",
                "#B0BEC5",
                "#B0BEC5",
                "#B0BEC5",
                "#B0BEC5",
                "#B0BEC5",
                "red",
                "#B0BEC5",
                "#B0BEC5",
                "#B0BEC5",
                "#B0BEC5",
                "#B0BEC5",
                "#B0BEC5",
                "#B0BEC5",
                "#B0BEC5",
                "#B0BEC5",
                "#B0BEC5",
                "#B0BEC5",
                "#B0BEC5",
                "#B0BEC5",
                "#B0BEC5",
                "#B0BEC5",
                "#B0BEC5",
                "#B0BEC5",
                "#B0BEC5"
               ]
              ]
             }
            ],
            "label": "Topic 18",
            "method": "update"
           },
           {
            "args": [
             {
              "marker.color": [
               [
                "#B0BEC5",
                "#B0BEC5",
                "#B0BEC5",
                "#B0BEC5",
                "#B0BEC5",
                "#B0BEC5",
                "#B0BEC5",
                "#B0BEC5",
                "#B0BEC5",
                "#B0BEC5",
                "#B0BEC5",
                "#B0BEC5",
                "#B0BEC5",
                "#B0BEC5",
                "#B0BEC5",
                "#B0BEC5",
                "#B0BEC5",
                "#B0BEC5",
                "#B0BEC5",
                "red",
                "#B0BEC5",
                "#B0BEC5",
                "#B0BEC5",
                "#B0BEC5",
                "#B0BEC5",
                "#B0BEC5",
                "#B0BEC5",
                "#B0BEC5",
                "#B0BEC5",
                "#B0BEC5",
                "#B0BEC5",
                "#B0BEC5",
                "#B0BEC5",
                "#B0BEC5",
                "#B0BEC5",
                "#B0BEC5",
                "#B0BEC5"
               ]
              ]
             }
            ],
            "label": "Topic 19",
            "method": "update"
           },
           {
            "args": [
             {
              "marker.color": [
               [
                "#B0BEC5",
                "#B0BEC5",
                "#B0BEC5",
                "#B0BEC5",
                "#B0BEC5",
                "#B0BEC5",
                "#B0BEC5",
                "#B0BEC5",
                "#B0BEC5",
                "#B0BEC5",
                "#B0BEC5",
                "#B0BEC5",
                "#B0BEC5",
                "#B0BEC5",
                "#B0BEC5",
                "#B0BEC5",
                "#B0BEC5",
                "#B0BEC5",
                "#B0BEC5",
                "#B0BEC5",
                "red",
                "#B0BEC5",
                "#B0BEC5",
                "#B0BEC5",
                "#B0BEC5",
                "#B0BEC5",
                "#B0BEC5",
                "#B0BEC5",
                "#B0BEC5",
                "#B0BEC5",
                "#B0BEC5",
                "#B0BEC5",
                "#B0BEC5",
                "#B0BEC5",
                "#B0BEC5",
                "#B0BEC5",
                "#B0BEC5"
               ]
              ]
             }
            ],
            "label": "Topic 20",
            "method": "update"
           },
           {
            "args": [
             {
              "marker.color": [
               [
                "#B0BEC5",
                "#B0BEC5",
                "#B0BEC5",
                "#B0BEC5",
                "#B0BEC5",
                "#B0BEC5",
                "#B0BEC5",
                "#B0BEC5",
                "#B0BEC5",
                "#B0BEC5",
                "#B0BEC5",
                "#B0BEC5",
                "#B0BEC5",
                "#B0BEC5",
                "#B0BEC5",
                "#B0BEC5",
                "#B0BEC5",
                "#B0BEC5",
                "#B0BEC5",
                "#B0BEC5",
                "#B0BEC5",
                "red",
                "#B0BEC5",
                "#B0BEC5",
                "#B0BEC5",
                "#B0BEC5",
                "#B0BEC5",
                "#B0BEC5",
                "#B0BEC5",
                "#B0BEC5",
                "#B0BEC5",
                "#B0BEC5",
                "#B0BEC5",
                "#B0BEC5",
                "#B0BEC5",
                "#B0BEC5",
                "#B0BEC5"
               ]
              ]
             }
            ],
            "label": "Topic 21",
            "method": "update"
           },
           {
            "args": [
             {
              "marker.color": [
               [
                "#B0BEC5",
                "#B0BEC5",
                "#B0BEC5",
                "#B0BEC5",
                "#B0BEC5",
                "#B0BEC5",
                "#B0BEC5",
                "#B0BEC5",
                "#B0BEC5",
                "#B0BEC5",
                "#B0BEC5",
                "#B0BEC5",
                "#B0BEC5",
                "#B0BEC5",
                "#B0BEC5",
                "#B0BEC5",
                "#B0BEC5",
                "#B0BEC5",
                "#B0BEC5",
                "#B0BEC5",
                "#B0BEC5",
                "#B0BEC5",
                "red",
                "#B0BEC5",
                "#B0BEC5",
                "#B0BEC5",
                "#B0BEC5",
                "#B0BEC5",
                "#B0BEC5",
                "#B0BEC5",
                "#B0BEC5",
                "#B0BEC5",
                "#B0BEC5",
                "#B0BEC5",
                "#B0BEC5",
                "#B0BEC5",
                "#B0BEC5"
               ]
              ]
             }
            ],
            "label": "Topic 22",
            "method": "update"
           },
           {
            "args": [
             {
              "marker.color": [
               [
                "#B0BEC5",
                "#B0BEC5",
                "#B0BEC5",
                "#B0BEC5",
                "#B0BEC5",
                "#B0BEC5",
                "#B0BEC5",
                "#B0BEC5",
                "#B0BEC5",
                "#B0BEC5",
                "#B0BEC5",
                "#B0BEC5",
                "#B0BEC5",
                "#B0BEC5",
                "#B0BEC5",
                "#B0BEC5",
                "#B0BEC5",
                "#B0BEC5",
                "#B0BEC5",
                "#B0BEC5",
                "#B0BEC5",
                "#B0BEC5",
                "#B0BEC5",
                "red",
                "#B0BEC5",
                "#B0BEC5",
                "#B0BEC5",
                "#B0BEC5",
                "#B0BEC5",
                "#B0BEC5",
                "#B0BEC5",
                "#B0BEC5",
                "#B0BEC5",
                "#B0BEC5",
                "#B0BEC5",
                "#B0BEC5",
                "#B0BEC5"
               ]
              ]
             }
            ],
            "label": "Topic 23",
            "method": "update"
           },
           {
            "args": [
             {
              "marker.color": [
               [
                "#B0BEC5",
                "#B0BEC5",
                "#B0BEC5",
                "#B0BEC5",
                "#B0BEC5",
                "#B0BEC5",
                "#B0BEC5",
                "#B0BEC5",
                "#B0BEC5",
                "#B0BEC5",
                "#B0BEC5",
                "#B0BEC5",
                "#B0BEC5",
                "#B0BEC5",
                "#B0BEC5",
                "#B0BEC5",
                "#B0BEC5",
                "#B0BEC5",
                "#B0BEC5",
                "#B0BEC5",
                "#B0BEC5",
                "#B0BEC5",
                "#B0BEC5",
                "#B0BEC5",
                "red",
                "#B0BEC5",
                "#B0BEC5",
                "#B0BEC5",
                "#B0BEC5",
                "#B0BEC5",
                "#B0BEC5",
                "#B0BEC5",
                "#B0BEC5",
                "#B0BEC5",
                "#B0BEC5",
                "#B0BEC5",
                "#B0BEC5"
               ]
              ]
             }
            ],
            "label": "Topic 24",
            "method": "update"
           },
           {
            "args": [
             {
              "marker.color": [
               [
                "#B0BEC5",
                "#B0BEC5",
                "#B0BEC5",
                "#B0BEC5",
                "#B0BEC5",
                "#B0BEC5",
                "#B0BEC5",
                "#B0BEC5",
                "#B0BEC5",
                "#B0BEC5",
                "#B0BEC5",
                "#B0BEC5",
                "#B0BEC5",
                "#B0BEC5",
                "#B0BEC5",
                "#B0BEC5",
                "#B0BEC5",
                "#B0BEC5",
                "#B0BEC5",
                "#B0BEC5",
                "#B0BEC5",
                "#B0BEC5",
                "#B0BEC5",
                "#B0BEC5",
                "#B0BEC5",
                "red",
                "#B0BEC5",
                "#B0BEC5",
                "#B0BEC5",
                "#B0BEC5",
                "#B0BEC5",
                "#B0BEC5",
                "#B0BEC5",
                "#B0BEC5",
                "#B0BEC5",
                "#B0BEC5",
                "#B0BEC5"
               ]
              ]
             }
            ],
            "label": "Topic 25",
            "method": "update"
           },
           {
            "args": [
             {
              "marker.color": [
               [
                "#B0BEC5",
                "#B0BEC5",
                "#B0BEC5",
                "#B0BEC5",
                "#B0BEC5",
                "#B0BEC5",
                "#B0BEC5",
                "#B0BEC5",
                "#B0BEC5",
                "#B0BEC5",
                "#B0BEC5",
                "#B0BEC5",
                "#B0BEC5",
                "#B0BEC5",
                "#B0BEC5",
                "#B0BEC5",
                "#B0BEC5",
                "#B0BEC5",
                "#B0BEC5",
                "#B0BEC5",
                "#B0BEC5",
                "#B0BEC5",
                "#B0BEC5",
                "#B0BEC5",
                "#B0BEC5",
                "#B0BEC5",
                "red",
                "#B0BEC5",
                "#B0BEC5",
                "#B0BEC5",
                "#B0BEC5",
                "#B0BEC5",
                "#B0BEC5",
                "#B0BEC5",
                "#B0BEC5",
                "#B0BEC5",
                "#B0BEC5"
               ]
              ]
             }
            ],
            "label": "Topic 26",
            "method": "update"
           },
           {
            "args": [
             {
              "marker.color": [
               [
                "#B0BEC5",
                "#B0BEC5",
                "#B0BEC5",
                "#B0BEC5",
                "#B0BEC5",
                "#B0BEC5",
                "#B0BEC5",
                "#B0BEC5",
                "#B0BEC5",
                "#B0BEC5",
                "#B0BEC5",
                "#B0BEC5",
                "#B0BEC5",
                "#B0BEC5",
                "#B0BEC5",
                "#B0BEC5",
                "#B0BEC5",
                "#B0BEC5",
                "#B0BEC5",
                "#B0BEC5",
                "#B0BEC5",
                "#B0BEC5",
                "#B0BEC5",
                "#B0BEC5",
                "#B0BEC5",
                "#B0BEC5",
                "#B0BEC5",
                "red",
                "#B0BEC5",
                "#B0BEC5",
                "#B0BEC5",
                "#B0BEC5",
                "#B0BEC5",
                "#B0BEC5",
                "#B0BEC5",
                "#B0BEC5",
                "#B0BEC5"
               ]
              ]
             }
            ],
            "label": "Topic 27",
            "method": "update"
           },
           {
            "args": [
             {
              "marker.color": [
               [
                "#B0BEC5",
                "#B0BEC5",
                "#B0BEC5",
                "#B0BEC5",
                "#B0BEC5",
                "#B0BEC5",
                "#B0BEC5",
                "#B0BEC5",
                "#B0BEC5",
                "#B0BEC5",
                "#B0BEC5",
                "#B0BEC5",
                "#B0BEC5",
                "#B0BEC5",
                "#B0BEC5",
                "#B0BEC5",
                "#B0BEC5",
                "#B0BEC5",
                "#B0BEC5",
                "#B0BEC5",
                "#B0BEC5",
                "#B0BEC5",
                "#B0BEC5",
                "#B0BEC5",
                "#B0BEC5",
                "#B0BEC5",
                "#B0BEC5",
                "#B0BEC5",
                "red",
                "#B0BEC5",
                "#B0BEC5",
                "#B0BEC5",
                "#B0BEC5",
                "#B0BEC5",
                "#B0BEC5",
                "#B0BEC5",
                "#B0BEC5"
               ]
              ]
             }
            ],
            "label": "Topic 28",
            "method": "update"
           },
           {
            "args": [
             {
              "marker.color": [
               [
                "#B0BEC5",
                "#B0BEC5",
                "#B0BEC5",
                "#B0BEC5",
                "#B0BEC5",
                "#B0BEC5",
                "#B0BEC5",
                "#B0BEC5",
                "#B0BEC5",
                "#B0BEC5",
                "#B0BEC5",
                "#B0BEC5",
                "#B0BEC5",
                "#B0BEC5",
                "#B0BEC5",
                "#B0BEC5",
                "#B0BEC5",
                "#B0BEC5",
                "#B0BEC5",
                "#B0BEC5",
                "#B0BEC5",
                "#B0BEC5",
                "#B0BEC5",
                "#B0BEC5",
                "#B0BEC5",
                "#B0BEC5",
                "#B0BEC5",
                "#B0BEC5",
                "#B0BEC5",
                "red",
                "#B0BEC5",
                "#B0BEC5",
                "#B0BEC5",
                "#B0BEC5",
                "#B0BEC5",
                "#B0BEC5",
                "#B0BEC5"
               ]
              ]
             }
            ],
            "label": "Topic 29",
            "method": "update"
           },
           {
            "args": [
             {
              "marker.color": [
               [
                "#B0BEC5",
                "#B0BEC5",
                "#B0BEC5",
                "#B0BEC5",
                "#B0BEC5",
                "#B0BEC5",
                "#B0BEC5",
                "#B0BEC5",
                "#B0BEC5",
                "#B0BEC5",
                "#B0BEC5",
                "#B0BEC5",
                "#B0BEC5",
                "#B0BEC5",
                "#B0BEC5",
                "#B0BEC5",
                "#B0BEC5",
                "#B0BEC5",
                "#B0BEC5",
                "#B0BEC5",
                "#B0BEC5",
                "#B0BEC5",
                "#B0BEC5",
                "#B0BEC5",
                "#B0BEC5",
                "#B0BEC5",
                "#B0BEC5",
                "#B0BEC5",
                "#B0BEC5",
                "#B0BEC5",
                "red",
                "#B0BEC5",
                "#B0BEC5",
                "#B0BEC5",
                "#B0BEC5",
                "#B0BEC5",
                "#B0BEC5"
               ]
              ]
             }
            ],
            "label": "Topic 30",
            "method": "update"
           },
           {
            "args": [
             {
              "marker.color": [
               [
                "#B0BEC5",
                "#B0BEC5",
                "#B0BEC5",
                "#B0BEC5",
                "#B0BEC5",
                "#B0BEC5",
                "#B0BEC5",
                "#B0BEC5",
                "#B0BEC5",
                "#B0BEC5",
                "#B0BEC5",
                "#B0BEC5",
                "#B0BEC5",
                "#B0BEC5",
                "#B0BEC5",
                "#B0BEC5",
                "#B0BEC5",
                "#B0BEC5",
                "#B0BEC5",
                "#B0BEC5",
                "#B0BEC5",
                "#B0BEC5",
                "#B0BEC5",
                "#B0BEC5",
                "#B0BEC5",
                "#B0BEC5",
                "#B0BEC5",
                "#B0BEC5",
                "#B0BEC5",
                "#B0BEC5",
                "#B0BEC5",
                "red",
                "#B0BEC5",
                "#B0BEC5",
                "#B0BEC5",
                "#B0BEC5",
                "#B0BEC5"
               ]
              ]
             }
            ],
            "label": "Topic 31",
            "method": "update"
           },
           {
            "args": [
             {
              "marker.color": [
               [
                "#B0BEC5",
                "#B0BEC5",
                "#B0BEC5",
                "#B0BEC5",
                "#B0BEC5",
                "#B0BEC5",
                "#B0BEC5",
                "#B0BEC5",
                "#B0BEC5",
                "#B0BEC5",
                "#B0BEC5",
                "#B0BEC5",
                "#B0BEC5",
                "#B0BEC5",
                "#B0BEC5",
                "#B0BEC5",
                "#B0BEC5",
                "#B0BEC5",
                "#B0BEC5",
                "#B0BEC5",
                "#B0BEC5",
                "#B0BEC5",
                "#B0BEC5",
                "#B0BEC5",
                "#B0BEC5",
                "#B0BEC5",
                "#B0BEC5",
                "#B0BEC5",
                "#B0BEC5",
                "#B0BEC5",
                "#B0BEC5",
                "#B0BEC5",
                "red",
                "#B0BEC5",
                "#B0BEC5",
                "#B0BEC5",
                "#B0BEC5"
               ]
              ]
             }
            ],
            "label": "Topic 32",
            "method": "update"
           },
           {
            "args": [
             {
              "marker.color": [
               [
                "#B0BEC5",
                "#B0BEC5",
                "#B0BEC5",
                "#B0BEC5",
                "#B0BEC5",
                "#B0BEC5",
                "#B0BEC5",
                "#B0BEC5",
                "#B0BEC5",
                "#B0BEC5",
                "#B0BEC5",
                "#B0BEC5",
                "#B0BEC5",
                "#B0BEC5",
                "#B0BEC5",
                "#B0BEC5",
                "#B0BEC5",
                "#B0BEC5",
                "#B0BEC5",
                "#B0BEC5",
                "#B0BEC5",
                "#B0BEC5",
                "#B0BEC5",
                "#B0BEC5",
                "#B0BEC5",
                "#B0BEC5",
                "#B0BEC5",
                "#B0BEC5",
                "#B0BEC5",
                "#B0BEC5",
                "#B0BEC5",
                "#B0BEC5",
                "#B0BEC5",
                "red",
                "#B0BEC5",
                "#B0BEC5",
                "#B0BEC5"
               ]
              ]
             }
            ],
            "label": "Topic 33",
            "method": "update"
           },
           {
            "args": [
             {
              "marker.color": [
               [
                "#B0BEC5",
                "#B0BEC5",
                "#B0BEC5",
                "#B0BEC5",
                "#B0BEC5",
                "#B0BEC5",
                "#B0BEC5",
                "#B0BEC5",
                "#B0BEC5",
                "#B0BEC5",
                "#B0BEC5",
                "#B0BEC5",
                "#B0BEC5",
                "#B0BEC5",
                "#B0BEC5",
                "#B0BEC5",
                "#B0BEC5",
                "#B0BEC5",
                "#B0BEC5",
                "#B0BEC5",
                "#B0BEC5",
                "#B0BEC5",
                "#B0BEC5",
                "#B0BEC5",
                "#B0BEC5",
                "#B0BEC5",
                "#B0BEC5",
                "#B0BEC5",
                "#B0BEC5",
                "#B0BEC5",
                "#B0BEC5",
                "#B0BEC5",
                "#B0BEC5",
                "#B0BEC5",
                "red",
                "#B0BEC5",
                "#B0BEC5"
               ]
              ]
             }
            ],
            "label": "Topic 34",
            "method": "update"
           },
           {
            "args": [
             {
              "marker.color": [
               [
                "#B0BEC5",
                "#B0BEC5",
                "#B0BEC5",
                "#B0BEC5",
                "#B0BEC5",
                "#B0BEC5",
                "#B0BEC5",
                "#B0BEC5",
                "#B0BEC5",
                "#B0BEC5",
                "#B0BEC5",
                "#B0BEC5",
                "#B0BEC5",
                "#B0BEC5",
                "#B0BEC5",
                "#B0BEC5",
                "#B0BEC5",
                "#B0BEC5",
                "#B0BEC5",
                "#B0BEC5",
                "#B0BEC5",
                "#B0BEC5",
                "#B0BEC5",
                "#B0BEC5",
                "#B0BEC5",
                "#B0BEC5",
                "#B0BEC5",
                "#B0BEC5",
                "#B0BEC5",
                "#B0BEC5",
                "#B0BEC5",
                "#B0BEC5",
                "#B0BEC5",
                "#B0BEC5",
                "#B0BEC5",
                "red",
                "#B0BEC5"
               ]
              ]
             }
            ],
            "label": "Topic 35",
            "method": "update"
           },
           {
            "args": [
             {
              "marker.color": [
               [
                "#B0BEC5",
                "#B0BEC5",
                "#B0BEC5",
                "#B0BEC5",
                "#B0BEC5",
                "#B0BEC5",
                "#B0BEC5",
                "#B0BEC5",
                "#B0BEC5",
                "#B0BEC5",
                "#B0BEC5",
                "#B0BEC5",
                "#B0BEC5",
                "#B0BEC5",
                "#B0BEC5",
                "#B0BEC5",
                "#B0BEC5",
                "#B0BEC5",
                "#B0BEC5",
                "#B0BEC5",
                "#B0BEC5",
                "#B0BEC5",
                "#B0BEC5",
                "#B0BEC5",
                "#B0BEC5",
                "#B0BEC5",
                "#B0BEC5",
                "#B0BEC5",
                "#B0BEC5",
                "#B0BEC5",
                "#B0BEC5",
                "#B0BEC5",
                "#B0BEC5",
                "#B0BEC5",
                "#B0BEC5",
                "#B0BEC5",
                "red"
               ]
              ]
             }
            ],
            "label": "Topic 36",
            "method": "update"
           }
          ]
         }
        ],
        "template": {
         "data": {
          "bar": [
           {
            "error_x": {
             "color": "rgb(36,36,36)"
            },
            "error_y": {
             "color": "rgb(36,36,36)"
            },
            "marker": {
             "line": {
              "color": "white",
              "width": 0.5
             }
            },
            "type": "bar"
           }
          ],
          "barpolar": [
           {
            "marker": {
             "line": {
              "color": "white",
              "width": 0.5
             }
            },
            "type": "barpolar"
           }
          ],
          "carpet": [
           {
            "aaxis": {
             "endlinecolor": "rgb(36,36,36)",
             "gridcolor": "white",
             "linecolor": "white",
             "minorgridcolor": "white",
             "startlinecolor": "rgb(36,36,36)"
            },
            "baxis": {
             "endlinecolor": "rgb(36,36,36)",
             "gridcolor": "white",
             "linecolor": "white",
             "minorgridcolor": "white",
             "startlinecolor": "rgb(36,36,36)"
            },
            "type": "carpet"
           }
          ],
          "choropleth": [
           {
            "colorbar": {
             "outlinewidth": 1,
             "tickcolor": "rgb(36,36,36)",
             "ticks": "outside"
            },
            "type": "choropleth"
           }
          ],
          "contour": [
           {
            "colorbar": {
             "outlinewidth": 1,
             "tickcolor": "rgb(36,36,36)",
             "ticks": "outside"
            },
            "colorscale": [
             [
              0,
              "#440154"
             ],
             [
              0.1111111111111111,
              "#482878"
             ],
             [
              0.2222222222222222,
              "#3e4989"
             ],
             [
              0.3333333333333333,
              "#31688e"
             ],
             [
              0.4444444444444444,
              "#26828e"
             ],
             [
              0.5555555555555556,
              "#1f9e89"
             ],
             [
              0.6666666666666666,
              "#35b779"
             ],
             [
              0.7777777777777778,
              "#6ece58"
             ],
             [
              0.8888888888888888,
              "#b5de2b"
             ],
             [
              1,
              "#fde725"
             ]
            ],
            "type": "contour"
           }
          ],
          "contourcarpet": [
           {
            "colorbar": {
             "outlinewidth": 1,
             "tickcolor": "rgb(36,36,36)",
             "ticks": "outside"
            },
            "type": "contourcarpet"
           }
          ],
          "heatmap": [
           {
            "colorbar": {
             "outlinewidth": 1,
             "tickcolor": "rgb(36,36,36)",
             "ticks": "outside"
            },
            "colorscale": [
             [
              0,
              "#440154"
             ],
             [
              0.1111111111111111,
              "#482878"
             ],
             [
              0.2222222222222222,
              "#3e4989"
             ],
             [
              0.3333333333333333,
              "#31688e"
             ],
             [
              0.4444444444444444,
              "#26828e"
             ],
             [
              0.5555555555555556,
              "#1f9e89"
             ],
             [
              0.6666666666666666,
              "#35b779"
             ],
             [
              0.7777777777777778,
              "#6ece58"
             ],
             [
              0.8888888888888888,
              "#b5de2b"
             ],
             [
              1,
              "#fde725"
             ]
            ],
            "type": "heatmap"
           }
          ],
          "heatmapgl": [
           {
            "colorbar": {
             "outlinewidth": 1,
             "tickcolor": "rgb(36,36,36)",
             "ticks": "outside"
            },
            "colorscale": [
             [
              0,
              "#440154"
             ],
             [
              0.1111111111111111,
              "#482878"
             ],
             [
              0.2222222222222222,
              "#3e4989"
             ],
             [
              0.3333333333333333,
              "#31688e"
             ],
             [
              0.4444444444444444,
              "#26828e"
             ],
             [
              0.5555555555555556,
              "#1f9e89"
             ],
             [
              0.6666666666666666,
              "#35b779"
             ],
             [
              0.7777777777777778,
              "#6ece58"
             ],
             [
              0.8888888888888888,
              "#b5de2b"
             ],
             [
              1,
              "#fde725"
             ]
            ],
            "type": "heatmapgl"
           }
          ],
          "histogram": [
           {
            "marker": {
             "line": {
              "color": "white",
              "width": 0.6
             }
            },
            "type": "histogram"
           }
          ],
          "histogram2d": [
           {
            "colorbar": {
             "outlinewidth": 1,
             "tickcolor": "rgb(36,36,36)",
             "ticks": "outside"
            },
            "colorscale": [
             [
              0,
              "#440154"
             ],
             [
              0.1111111111111111,
              "#482878"
             ],
             [
              0.2222222222222222,
              "#3e4989"
             ],
             [
              0.3333333333333333,
              "#31688e"
             ],
             [
              0.4444444444444444,
              "#26828e"
             ],
             [
              0.5555555555555556,
              "#1f9e89"
             ],
             [
              0.6666666666666666,
              "#35b779"
             ],
             [
              0.7777777777777778,
              "#6ece58"
             ],
             [
              0.8888888888888888,
              "#b5de2b"
             ],
             [
              1,
              "#fde725"
             ]
            ],
            "type": "histogram2d"
           }
          ],
          "histogram2dcontour": [
           {
            "colorbar": {
             "outlinewidth": 1,
             "tickcolor": "rgb(36,36,36)",
             "ticks": "outside"
            },
            "colorscale": [
             [
              0,
              "#440154"
             ],
             [
              0.1111111111111111,
              "#482878"
             ],
             [
              0.2222222222222222,
              "#3e4989"
             ],
             [
              0.3333333333333333,
              "#31688e"
             ],
             [
              0.4444444444444444,
              "#26828e"
             ],
             [
              0.5555555555555556,
              "#1f9e89"
             ],
             [
              0.6666666666666666,
              "#35b779"
             ],
             [
              0.7777777777777778,
              "#6ece58"
             ],
             [
              0.8888888888888888,
              "#b5de2b"
             ],
             [
              1,
              "#fde725"
             ]
            ],
            "type": "histogram2dcontour"
           }
          ],
          "mesh3d": [
           {
            "colorbar": {
             "outlinewidth": 1,
             "tickcolor": "rgb(36,36,36)",
             "ticks": "outside"
            },
            "type": "mesh3d"
           }
          ],
          "parcoords": [
           {
            "line": {
             "colorbar": {
              "outlinewidth": 1,
              "tickcolor": "rgb(36,36,36)",
              "ticks": "outside"
             }
            },
            "type": "parcoords"
           }
          ],
          "pie": [
           {
            "automargin": true,
            "type": "pie"
           }
          ],
          "scatter": [
           {
            "marker": {
             "colorbar": {
              "outlinewidth": 1,
              "tickcolor": "rgb(36,36,36)",
              "ticks": "outside"
             }
            },
            "type": "scatter"
           }
          ],
          "scatter3d": [
           {
            "line": {
             "colorbar": {
              "outlinewidth": 1,
              "tickcolor": "rgb(36,36,36)",
              "ticks": "outside"
             }
            },
            "marker": {
             "colorbar": {
              "outlinewidth": 1,
              "tickcolor": "rgb(36,36,36)",
              "ticks": "outside"
             }
            },
            "type": "scatter3d"
           }
          ],
          "scattercarpet": [
           {
            "marker": {
             "colorbar": {
              "outlinewidth": 1,
              "tickcolor": "rgb(36,36,36)",
              "ticks": "outside"
             }
            },
            "type": "scattercarpet"
           }
          ],
          "scattergeo": [
           {
            "marker": {
             "colorbar": {
              "outlinewidth": 1,
              "tickcolor": "rgb(36,36,36)",
              "ticks": "outside"
             }
            },
            "type": "scattergeo"
           }
          ],
          "scattergl": [
           {
            "marker": {
             "colorbar": {
              "outlinewidth": 1,
              "tickcolor": "rgb(36,36,36)",
              "ticks": "outside"
             }
            },
            "type": "scattergl"
           }
          ],
          "scattermapbox": [
           {
            "marker": {
             "colorbar": {
              "outlinewidth": 1,
              "tickcolor": "rgb(36,36,36)",
              "ticks": "outside"
             }
            },
            "type": "scattermapbox"
           }
          ],
          "scatterpolar": [
           {
            "marker": {
             "colorbar": {
              "outlinewidth": 1,
              "tickcolor": "rgb(36,36,36)",
              "ticks": "outside"
             }
            },
            "type": "scatterpolar"
           }
          ],
          "scatterpolargl": [
           {
            "marker": {
             "colorbar": {
              "outlinewidth": 1,
              "tickcolor": "rgb(36,36,36)",
              "ticks": "outside"
             }
            },
            "type": "scatterpolargl"
           }
          ],
          "scatterternary": [
           {
            "marker": {
             "colorbar": {
              "outlinewidth": 1,
              "tickcolor": "rgb(36,36,36)",
              "ticks": "outside"
             }
            },
            "type": "scatterternary"
           }
          ],
          "surface": [
           {
            "colorbar": {
             "outlinewidth": 1,
             "tickcolor": "rgb(36,36,36)",
             "ticks": "outside"
            },
            "colorscale": [
             [
              0,
              "#440154"
             ],
             [
              0.1111111111111111,
              "#482878"
             ],
             [
              0.2222222222222222,
              "#3e4989"
             ],
             [
              0.3333333333333333,
              "#31688e"
             ],
             [
              0.4444444444444444,
              "#26828e"
             ],
             [
              0.5555555555555556,
              "#1f9e89"
             ],
             [
              0.6666666666666666,
              "#35b779"
             ],
             [
              0.7777777777777778,
              "#6ece58"
             ],
             [
              0.8888888888888888,
              "#b5de2b"
             ],
             [
              1,
              "#fde725"
             ]
            ],
            "type": "surface"
           }
          ],
          "table": [
           {
            "cells": {
             "fill": {
              "color": "rgb(237,237,237)"
             },
             "line": {
              "color": "white"
             }
            },
            "header": {
             "fill": {
              "color": "rgb(217,217,217)"
             },
             "line": {
              "color": "white"
             }
            },
            "type": "table"
           }
          ]
         },
         "layout": {
          "annotationdefaults": {
           "arrowhead": 0,
           "arrowwidth": 1
          },
          "autotypenumbers": "strict",
          "coloraxis": {
           "colorbar": {
            "outlinewidth": 1,
            "tickcolor": "rgb(36,36,36)",
            "ticks": "outside"
           }
          },
          "colorscale": {
           "diverging": [
            [
             0,
             "rgb(103,0,31)"
            ],
            [
             0.1,
             "rgb(178,24,43)"
            ],
            [
             0.2,
             "rgb(214,96,77)"
            ],
            [
             0.3,
             "rgb(244,165,130)"
            ],
            [
             0.4,
             "rgb(253,219,199)"
            ],
            [
             0.5,
             "rgb(247,247,247)"
            ],
            [
             0.6,
             "rgb(209,229,240)"
            ],
            [
             0.7,
             "rgb(146,197,222)"
            ],
            [
             0.8,
             "rgb(67,147,195)"
            ],
            [
             0.9,
             "rgb(33,102,172)"
            ],
            [
             1,
             "rgb(5,48,97)"
            ]
           ],
           "sequential": [
            [
             0,
             "#440154"
            ],
            [
             0.1111111111111111,
             "#482878"
            ],
            [
             0.2222222222222222,
             "#3e4989"
            ],
            [
             0.3333333333333333,
             "#31688e"
            ],
            [
             0.4444444444444444,
             "#26828e"
            ],
            [
             0.5555555555555556,
             "#1f9e89"
            ],
            [
             0.6666666666666666,
             "#35b779"
            ],
            [
             0.7777777777777778,
             "#6ece58"
            ],
            [
             0.8888888888888888,
             "#b5de2b"
            ],
            [
             1,
             "#fde725"
            ]
           ],
           "sequentialminus": [
            [
             0,
             "#440154"
            ],
            [
             0.1111111111111111,
             "#482878"
            ],
            [
             0.2222222222222222,
             "#3e4989"
            ],
            [
             0.3333333333333333,
             "#31688e"
            ],
            [
             0.4444444444444444,
             "#26828e"
            ],
            [
             0.5555555555555556,
             "#1f9e89"
            ],
            [
             0.6666666666666666,
             "#35b779"
            ],
            [
             0.7777777777777778,
             "#6ece58"
            ],
            [
             0.8888888888888888,
             "#b5de2b"
            ],
            [
             1,
             "#fde725"
            ]
           ]
          },
          "colorway": [
           "#1F77B4",
           "#FF7F0E",
           "#2CA02C",
           "#D62728",
           "#9467BD",
           "#8C564B",
           "#E377C2",
           "#7F7F7F",
           "#BCBD22",
           "#17BECF"
          ],
          "font": {
           "color": "rgb(36,36,36)"
          },
          "geo": {
           "bgcolor": "white",
           "lakecolor": "white",
           "landcolor": "white",
           "showlakes": true,
           "showland": true,
           "subunitcolor": "white"
          },
          "hoverlabel": {
           "align": "left"
          },
          "hovermode": "closest",
          "mapbox": {
           "style": "light"
          },
          "paper_bgcolor": "white",
          "plot_bgcolor": "white",
          "polar": {
           "angularaxis": {
            "gridcolor": "rgb(232,232,232)",
            "linecolor": "rgb(36,36,36)",
            "showgrid": false,
            "showline": true,
            "ticks": "outside"
           },
           "bgcolor": "white",
           "radialaxis": {
            "gridcolor": "rgb(232,232,232)",
            "linecolor": "rgb(36,36,36)",
            "showgrid": false,
            "showline": true,
            "ticks": "outside"
           }
          },
          "scene": {
           "xaxis": {
            "backgroundcolor": "white",
            "gridcolor": "rgb(232,232,232)",
            "gridwidth": 2,
            "linecolor": "rgb(36,36,36)",
            "showbackground": true,
            "showgrid": false,
            "showline": true,
            "ticks": "outside",
            "zeroline": false,
            "zerolinecolor": "rgb(36,36,36)"
           },
           "yaxis": {
            "backgroundcolor": "white",
            "gridcolor": "rgb(232,232,232)",
            "gridwidth": 2,
            "linecolor": "rgb(36,36,36)",
            "showbackground": true,
            "showgrid": false,
            "showline": true,
            "ticks": "outside",
            "zeroline": false,
            "zerolinecolor": "rgb(36,36,36)"
           },
           "zaxis": {
            "backgroundcolor": "white",
            "gridcolor": "rgb(232,232,232)",
            "gridwidth": 2,
            "linecolor": "rgb(36,36,36)",
            "showbackground": true,
            "showgrid": false,
            "showline": true,
            "ticks": "outside",
            "zeroline": false,
            "zerolinecolor": "rgb(36,36,36)"
           }
          },
          "shapedefaults": {
           "fillcolor": "black",
           "line": {
            "width": 0
           },
           "opacity": 0.3
          },
          "ternary": {
           "aaxis": {
            "gridcolor": "rgb(232,232,232)",
            "linecolor": "rgb(36,36,36)",
            "showgrid": false,
            "showline": true,
            "ticks": "outside"
           },
           "baxis": {
            "gridcolor": "rgb(232,232,232)",
            "linecolor": "rgb(36,36,36)",
            "showgrid": false,
            "showline": true,
            "ticks": "outside"
           },
           "bgcolor": "white",
           "caxis": {
            "gridcolor": "rgb(232,232,232)",
            "linecolor": "rgb(36,36,36)",
            "showgrid": false,
            "showline": true,
            "ticks": "outside"
           }
          },
          "title": {
           "x": 0.05
          },
          "xaxis": {
           "automargin": true,
           "gridcolor": "rgb(232,232,232)",
           "linecolor": "rgb(36,36,36)",
           "showgrid": false,
           "showline": true,
           "ticks": "outside",
           "title": {
            "standoff": 15
           },
           "zeroline": false,
           "zerolinecolor": "rgb(36,36,36)"
          },
          "yaxis": {
           "automargin": true,
           "gridcolor": "rgb(232,232,232)",
           "linecolor": "rgb(36,36,36)",
           "showgrid": false,
           "showline": true,
           "ticks": "outside",
           "title": {
            "standoff": 15
           },
           "zeroline": false,
           "zerolinecolor": "rgb(36,36,36)"
          }
         }
        },
        "title": {
         "font": {
          "color": "Black",
          "size": 22
         },
         "text": "",
         "x": 0.5,
         "xanchor": "center",
         "y": 0.95,
         "yanchor": "top"
        },
        "width": 650,
        "xaxis": {
         "anchor": "y",
         "domain": [
          0,
          1
         ],
         "range": [
          -7.055036401748657,
          19.619650840759277
         ],
         "title": {
          "text": ""
         },
         "visible": false
        },
        "yaxis": {
         "anchor": "x",
         "domain": [
          0,
          1
         ],
         "range": [
          -11.50843710899353,
          7.196879744529724
         ],
         "title": {
          "text": ""
         },
         "visible": false
        }
       }
      }
     },
     "metadata": {},
     "output_type": "display_data"
    }
   ],
   "source": [
    "fig = model.visualize_topics(title='')\n",
    "py.plot(fig, filename='Intertopic distance map', auto_open=False)\n",
    "fig"
   ]
  },
  {
   "attachments": {},
   "cell_type": "markdown",
   "metadata": {},
   "source": [
    "Topic probabilities with random message"
   ]
  },
  {
   "cell_type": "code",
   "execution_count": 31,
   "metadata": {},
   "outputs": [
    {
     "name": "stdout",
     "output_type": "stream",
     "text": [
      "Sample message: boong bgt\n"
     ]
    },
    {
     "data": {
      "application/vnd.plotly.v1+json": {
       "config": {
        "plotlyServerURL": "https://plotly.com"
       },
       "data": [
        {
         "marker": {
          "color": "#C8D2D7",
          "line": {
           "color": "#6E8484",
           "width": 1
          }
         },
         "orientation": "h",
         "type": "bar",
         "x": [
          0.06910931315310871,
          0.031982132517253514,
          0.07300548699429421,
          0.015390797789546067,
          0.01886529838404626,
          0.017891697328690108,
          0.14718625253468964,
          0.030356147656898272,
          0.023654270540864688,
          0.035535988685222855,
          0.015667844302552927,
          0.021920318093573116,
          0.017637026319238757,
          0.020479024731220503,
          0.024818111090832696,
          0.01889022123140233,
          0.01994509806338563,
          0.030025746854602457,
          0.01597995294234202,
          0.020995969632949543,
          0.041313737831758415,
          0.016535072007976156,
          0.027184069498549665,
          0.019061146350448758,
          0.020898108643449244,
          0.021959314891880796,
          0.029392336427401394
         ],
         "y": [
          "<b>Topic 0</b>: brandon_tumben_kokk_awka...",
          "<b>Topic 1</b>: wkwkwk_wkwkw_wkwkkw_wkkw...",
          "<b>Topic 2</b>: menti_yg_iya_aja_yaa",
          "<b>Topic 4</b>: jam_besok_game_as_telat",
          "<b>Topic 5</b>: aku_lg_bs_juga_ngurus",
          "<b>Topic 6</b>: absen_gak_lupa_ga_jangan",
          "<b>Topic 9</b>: jal_kak_tuh_telfon_jalit...",
          "<b>Topic 10</b>: ale_itu_kenapa_mesti_bi...",
          "<b>Topic 11</b>: keren_hebat_banget_bagu...",
          "<b>Topic 12</b>: wkwkwkwk_kwkwkwkw_ae_wk...",
          "<b>Topic 13</b>: kajal_kak_bangun_jal_ig",
          "<b>Topic 15</b>: data_sql_datacamp_axis_...",
          "<b>Topic 16</b>: team_tim_lead_setiap_se...",
          "<b>Topic 17</b>: kalian_si_sibuk_kamu_ba...",
          "<b>Topic 18</b>: hahahah_hahahaha_hahahh...",
          "<b>Topic 23</b>: internet_wifi_desktop_l...",
          "<b>Topic 24</b>: kasih_teman_tau_ngeluna...",
          "<b>Topic 26</b>: iyaa_yuhuuu_yezzzzz_yez...",
          "<b>Topic 27</b>: tidur_malam_goodnight_b...",
          "<b>Topic 28</b>: oke_up_ok_alrightyyy_ok...",
          "<b>Topic 29</b>: tl_simulation_27_rangka...",
          "<b>Topic 31</b>: gasss_gas_panas2in_opti...",
          "<b>Topic 32</b>: freak_ih_wah_clubnya_ma...",
          "<b>Topic 33</b>: duit_gaji_pengen_stock_...",
          "<b>Topic 34</b>: assignmentnya_kakak_pee...",
          "<b>Topic 35</b>: gua_lu_sini_menduakan_d...",
          "<b>Topic 36</b>: gara_cepetan_disawer_te..."
         ]
        }
       ],
       "layout": {
        "height": 600,
        "hoverlabel": {
         "bgcolor": "white",
         "font": {
          "family": "Rockwell",
          "size": 16
         }
        },
        "template": {
         "data": {
          "bar": [
           {
            "error_x": {
             "color": "rgb(36,36,36)"
            },
            "error_y": {
             "color": "rgb(36,36,36)"
            },
            "marker": {
             "line": {
              "color": "white",
              "width": 0.5
             }
            },
            "type": "bar"
           }
          ],
          "barpolar": [
           {
            "marker": {
             "line": {
              "color": "white",
              "width": 0.5
             }
            },
            "type": "barpolar"
           }
          ],
          "carpet": [
           {
            "aaxis": {
             "endlinecolor": "rgb(36,36,36)",
             "gridcolor": "white",
             "linecolor": "white",
             "minorgridcolor": "white",
             "startlinecolor": "rgb(36,36,36)"
            },
            "baxis": {
             "endlinecolor": "rgb(36,36,36)",
             "gridcolor": "white",
             "linecolor": "white",
             "minorgridcolor": "white",
             "startlinecolor": "rgb(36,36,36)"
            },
            "type": "carpet"
           }
          ],
          "choropleth": [
           {
            "colorbar": {
             "outlinewidth": 1,
             "tickcolor": "rgb(36,36,36)",
             "ticks": "outside"
            },
            "type": "choropleth"
           }
          ],
          "contour": [
           {
            "colorbar": {
             "outlinewidth": 1,
             "tickcolor": "rgb(36,36,36)",
             "ticks": "outside"
            },
            "colorscale": [
             [
              0,
              "#440154"
             ],
             [
              0.1111111111111111,
              "#482878"
             ],
             [
              0.2222222222222222,
              "#3e4989"
             ],
             [
              0.3333333333333333,
              "#31688e"
             ],
             [
              0.4444444444444444,
              "#26828e"
             ],
             [
              0.5555555555555556,
              "#1f9e89"
             ],
             [
              0.6666666666666666,
              "#35b779"
             ],
             [
              0.7777777777777778,
              "#6ece58"
             ],
             [
              0.8888888888888888,
              "#b5de2b"
             ],
             [
              1,
              "#fde725"
             ]
            ],
            "type": "contour"
           }
          ],
          "contourcarpet": [
           {
            "colorbar": {
             "outlinewidth": 1,
             "tickcolor": "rgb(36,36,36)",
             "ticks": "outside"
            },
            "type": "contourcarpet"
           }
          ],
          "heatmap": [
           {
            "colorbar": {
             "outlinewidth": 1,
             "tickcolor": "rgb(36,36,36)",
             "ticks": "outside"
            },
            "colorscale": [
             [
              0,
              "#440154"
             ],
             [
              0.1111111111111111,
              "#482878"
             ],
             [
              0.2222222222222222,
              "#3e4989"
             ],
             [
              0.3333333333333333,
              "#31688e"
             ],
             [
              0.4444444444444444,
              "#26828e"
             ],
             [
              0.5555555555555556,
              "#1f9e89"
             ],
             [
              0.6666666666666666,
              "#35b779"
             ],
             [
              0.7777777777777778,
              "#6ece58"
             ],
             [
              0.8888888888888888,
              "#b5de2b"
             ],
             [
              1,
              "#fde725"
             ]
            ],
            "type": "heatmap"
           }
          ],
          "heatmapgl": [
           {
            "colorbar": {
             "outlinewidth": 1,
             "tickcolor": "rgb(36,36,36)",
             "ticks": "outside"
            },
            "colorscale": [
             [
              0,
              "#440154"
             ],
             [
              0.1111111111111111,
              "#482878"
             ],
             [
              0.2222222222222222,
              "#3e4989"
             ],
             [
              0.3333333333333333,
              "#31688e"
             ],
             [
              0.4444444444444444,
              "#26828e"
             ],
             [
              0.5555555555555556,
              "#1f9e89"
             ],
             [
              0.6666666666666666,
              "#35b779"
             ],
             [
              0.7777777777777778,
              "#6ece58"
             ],
             [
              0.8888888888888888,
              "#b5de2b"
             ],
             [
              1,
              "#fde725"
             ]
            ],
            "type": "heatmapgl"
           }
          ],
          "histogram": [
           {
            "marker": {
             "line": {
              "color": "white",
              "width": 0.6
             }
            },
            "type": "histogram"
           }
          ],
          "histogram2d": [
           {
            "colorbar": {
             "outlinewidth": 1,
             "tickcolor": "rgb(36,36,36)",
             "ticks": "outside"
            },
            "colorscale": [
             [
              0,
              "#440154"
             ],
             [
              0.1111111111111111,
              "#482878"
             ],
             [
              0.2222222222222222,
              "#3e4989"
             ],
             [
              0.3333333333333333,
              "#31688e"
             ],
             [
              0.4444444444444444,
              "#26828e"
             ],
             [
              0.5555555555555556,
              "#1f9e89"
             ],
             [
              0.6666666666666666,
              "#35b779"
             ],
             [
              0.7777777777777778,
              "#6ece58"
             ],
             [
              0.8888888888888888,
              "#b5de2b"
             ],
             [
              1,
              "#fde725"
             ]
            ],
            "type": "histogram2d"
           }
          ],
          "histogram2dcontour": [
           {
            "colorbar": {
             "outlinewidth": 1,
             "tickcolor": "rgb(36,36,36)",
             "ticks": "outside"
            },
            "colorscale": [
             [
              0,
              "#440154"
             ],
             [
              0.1111111111111111,
              "#482878"
             ],
             [
              0.2222222222222222,
              "#3e4989"
             ],
             [
              0.3333333333333333,
              "#31688e"
             ],
             [
              0.4444444444444444,
              "#26828e"
             ],
             [
              0.5555555555555556,
              "#1f9e89"
             ],
             [
              0.6666666666666666,
              "#35b779"
             ],
             [
              0.7777777777777778,
              "#6ece58"
             ],
             [
              0.8888888888888888,
              "#b5de2b"
             ],
             [
              1,
              "#fde725"
             ]
            ],
            "type": "histogram2dcontour"
           }
          ],
          "mesh3d": [
           {
            "colorbar": {
             "outlinewidth": 1,
             "tickcolor": "rgb(36,36,36)",
             "ticks": "outside"
            },
            "type": "mesh3d"
           }
          ],
          "parcoords": [
           {
            "line": {
             "colorbar": {
              "outlinewidth": 1,
              "tickcolor": "rgb(36,36,36)",
              "ticks": "outside"
             }
            },
            "type": "parcoords"
           }
          ],
          "pie": [
           {
            "automargin": true,
            "type": "pie"
           }
          ],
          "scatter": [
           {
            "marker": {
             "colorbar": {
              "outlinewidth": 1,
              "tickcolor": "rgb(36,36,36)",
              "ticks": "outside"
             }
            },
            "type": "scatter"
           }
          ],
          "scatter3d": [
           {
            "line": {
             "colorbar": {
              "outlinewidth": 1,
              "tickcolor": "rgb(36,36,36)",
              "ticks": "outside"
             }
            },
            "marker": {
             "colorbar": {
              "outlinewidth": 1,
              "tickcolor": "rgb(36,36,36)",
              "ticks": "outside"
             }
            },
            "type": "scatter3d"
           }
          ],
          "scattercarpet": [
           {
            "marker": {
             "colorbar": {
              "outlinewidth": 1,
              "tickcolor": "rgb(36,36,36)",
              "ticks": "outside"
             }
            },
            "type": "scattercarpet"
           }
          ],
          "scattergeo": [
           {
            "marker": {
             "colorbar": {
              "outlinewidth": 1,
              "tickcolor": "rgb(36,36,36)",
              "ticks": "outside"
             }
            },
            "type": "scattergeo"
           }
          ],
          "scattergl": [
           {
            "marker": {
             "colorbar": {
              "outlinewidth": 1,
              "tickcolor": "rgb(36,36,36)",
              "ticks": "outside"
             }
            },
            "type": "scattergl"
           }
          ],
          "scattermapbox": [
           {
            "marker": {
             "colorbar": {
              "outlinewidth": 1,
              "tickcolor": "rgb(36,36,36)",
              "ticks": "outside"
             }
            },
            "type": "scattermapbox"
           }
          ],
          "scatterpolar": [
           {
            "marker": {
             "colorbar": {
              "outlinewidth": 1,
              "tickcolor": "rgb(36,36,36)",
              "ticks": "outside"
             }
            },
            "type": "scatterpolar"
           }
          ],
          "scatterpolargl": [
           {
            "marker": {
             "colorbar": {
              "outlinewidth": 1,
              "tickcolor": "rgb(36,36,36)",
              "ticks": "outside"
             }
            },
            "type": "scatterpolargl"
           }
          ],
          "scatterternary": [
           {
            "marker": {
             "colorbar": {
              "outlinewidth": 1,
              "tickcolor": "rgb(36,36,36)",
              "ticks": "outside"
             }
            },
            "type": "scatterternary"
           }
          ],
          "surface": [
           {
            "colorbar": {
             "outlinewidth": 1,
             "tickcolor": "rgb(36,36,36)",
             "ticks": "outside"
            },
            "colorscale": [
             [
              0,
              "#440154"
             ],
             [
              0.1111111111111111,
              "#482878"
             ],
             [
              0.2222222222222222,
              "#3e4989"
             ],
             [
              0.3333333333333333,
              "#31688e"
             ],
             [
              0.4444444444444444,
              "#26828e"
             ],
             [
              0.5555555555555556,
              "#1f9e89"
             ],
             [
              0.6666666666666666,
              "#35b779"
             ],
             [
              0.7777777777777778,
              "#6ece58"
             ],
             [
              0.8888888888888888,
              "#b5de2b"
             ],
             [
              1,
              "#fde725"
             ]
            ],
            "type": "surface"
           }
          ],
          "table": [
           {
            "cells": {
             "fill": {
              "color": "rgb(237,237,237)"
             },
             "line": {
              "color": "white"
             }
            },
            "header": {
             "fill": {
              "color": "rgb(217,217,217)"
             },
             "line": {
              "color": "white"
             }
            },
            "type": "table"
           }
          ]
         },
         "layout": {
          "annotationdefaults": {
           "arrowhead": 0,
           "arrowwidth": 1
          },
          "autotypenumbers": "strict",
          "coloraxis": {
           "colorbar": {
            "outlinewidth": 1,
            "tickcolor": "rgb(36,36,36)",
            "ticks": "outside"
           }
          },
          "colorscale": {
           "diverging": [
            [
             0,
             "rgb(103,0,31)"
            ],
            [
             0.1,
             "rgb(178,24,43)"
            ],
            [
             0.2,
             "rgb(214,96,77)"
            ],
            [
             0.3,
             "rgb(244,165,130)"
            ],
            [
             0.4,
             "rgb(253,219,199)"
            ],
            [
             0.5,
             "rgb(247,247,247)"
            ],
            [
             0.6,
             "rgb(209,229,240)"
            ],
            [
             0.7,
             "rgb(146,197,222)"
            ],
            [
             0.8,
             "rgb(67,147,195)"
            ],
            [
             0.9,
             "rgb(33,102,172)"
            ],
            [
             1,
             "rgb(5,48,97)"
            ]
           ],
           "sequential": [
            [
             0,
             "#440154"
            ],
            [
             0.1111111111111111,
             "#482878"
            ],
            [
             0.2222222222222222,
             "#3e4989"
            ],
            [
             0.3333333333333333,
             "#31688e"
            ],
            [
             0.4444444444444444,
             "#26828e"
            ],
            [
             0.5555555555555556,
             "#1f9e89"
            ],
            [
             0.6666666666666666,
             "#35b779"
            ],
            [
             0.7777777777777778,
             "#6ece58"
            ],
            [
             0.8888888888888888,
             "#b5de2b"
            ],
            [
             1,
             "#fde725"
            ]
           ],
           "sequentialminus": [
            [
             0,
             "#440154"
            ],
            [
             0.1111111111111111,
             "#482878"
            ],
            [
             0.2222222222222222,
             "#3e4989"
            ],
            [
             0.3333333333333333,
             "#31688e"
            ],
            [
             0.4444444444444444,
             "#26828e"
            ],
            [
             0.5555555555555556,
             "#1f9e89"
            ],
            [
             0.6666666666666666,
             "#35b779"
            ],
            [
             0.7777777777777778,
             "#6ece58"
            ],
            [
             0.8888888888888888,
             "#b5de2b"
            ],
            [
             1,
             "#fde725"
            ]
           ]
          },
          "colorway": [
           "#1F77B4",
           "#FF7F0E",
           "#2CA02C",
           "#D62728",
           "#9467BD",
           "#8C564B",
           "#E377C2",
           "#7F7F7F",
           "#BCBD22",
           "#17BECF"
          ],
          "font": {
           "color": "rgb(36,36,36)"
          },
          "geo": {
           "bgcolor": "white",
           "lakecolor": "white",
           "landcolor": "white",
           "showlakes": true,
           "showland": true,
           "subunitcolor": "white"
          },
          "hoverlabel": {
           "align": "left"
          },
          "hovermode": "closest",
          "mapbox": {
           "style": "light"
          },
          "paper_bgcolor": "white",
          "plot_bgcolor": "white",
          "polar": {
           "angularaxis": {
            "gridcolor": "rgb(232,232,232)",
            "linecolor": "rgb(36,36,36)",
            "showgrid": false,
            "showline": true,
            "ticks": "outside"
           },
           "bgcolor": "white",
           "radialaxis": {
            "gridcolor": "rgb(232,232,232)",
            "linecolor": "rgb(36,36,36)",
            "showgrid": false,
            "showline": true,
            "ticks": "outside"
           }
          },
          "scene": {
           "xaxis": {
            "backgroundcolor": "white",
            "gridcolor": "rgb(232,232,232)",
            "gridwidth": 2,
            "linecolor": "rgb(36,36,36)",
            "showbackground": true,
            "showgrid": false,
            "showline": true,
            "ticks": "outside",
            "zeroline": false,
            "zerolinecolor": "rgb(36,36,36)"
           },
           "yaxis": {
            "backgroundcolor": "white",
            "gridcolor": "rgb(232,232,232)",
            "gridwidth": 2,
            "linecolor": "rgb(36,36,36)",
            "showbackground": true,
            "showgrid": false,
            "showline": true,
            "ticks": "outside",
            "zeroline": false,
            "zerolinecolor": "rgb(36,36,36)"
           },
           "zaxis": {
            "backgroundcolor": "white",
            "gridcolor": "rgb(232,232,232)",
            "gridwidth": 2,
            "linecolor": "rgb(36,36,36)",
            "showbackground": true,
            "showgrid": false,
            "showline": true,
            "ticks": "outside",
            "zeroline": false,
            "zerolinecolor": "rgb(36,36,36)"
           }
          },
          "shapedefaults": {
           "fillcolor": "black",
           "line": {
            "width": 0
           },
           "opacity": 0.3
          },
          "ternary": {
           "aaxis": {
            "gridcolor": "rgb(232,232,232)",
            "linecolor": "rgb(36,36,36)",
            "showgrid": false,
            "showline": true,
            "ticks": "outside"
           },
           "baxis": {
            "gridcolor": "rgb(232,232,232)",
            "linecolor": "rgb(36,36,36)",
            "showgrid": false,
            "showline": true,
            "ticks": "outside"
           },
           "bgcolor": "white",
           "caxis": {
            "gridcolor": "rgb(232,232,232)",
            "linecolor": "rgb(36,36,36)",
            "showgrid": false,
            "showline": true,
            "ticks": "outside"
           }
          },
          "title": {
           "x": 0.05
          },
          "xaxis": {
           "automargin": true,
           "gridcolor": "rgb(232,232,232)",
           "linecolor": "rgb(36,36,36)",
           "showgrid": false,
           "showline": true,
           "ticks": "outside",
           "title": {
            "standoff": 15
           },
           "zeroline": false,
           "zerolinecolor": "rgb(36,36,36)"
          },
          "yaxis": {
           "automargin": true,
           "gridcolor": "rgb(232,232,232)",
           "linecolor": "rgb(36,36,36)",
           "showgrid": false,
           "showline": true,
           "ticks": "outside",
           "title": {
            "standoff": 15
           },
           "zeroline": false,
           "zerolinecolor": "rgb(36,36,36)"
          }
         }
        },
        "title": {
         "font": {
          "color": "Black",
          "size": 22
         },
         "text": "",
         "x": 0.5,
         "xanchor": "center",
         "y": 0.95,
         "yanchor": "top"
        },
        "width": 800,
        "xaxis": {
         "title": {
          "text": "Probability"
         }
        }
       }
      }
     },
     "metadata": {},
     "output_type": "display_data"
    }
   ],
   "source": [
    "sample = chat[(chat.message != '<Media omitted>') & (chat.clean_msg != '')].assign(\n",
    "    message=chat.message.str.replace(re.compile(r'http\\S+'), '')).reset_index().sample()\n",
    "print('Sample message:', (sample['message'].iloc[0]))\n",
    "fig = model.visualize_distribution(probabilities[sample['message'].index[0]], title='')\n",
    "py.plot(fig, filename='Topic probabilities with random message', auto_open=False)\n",
    "fig"
   ]
  },
  {
   "attachments": {},
   "cell_type": "markdown",
   "metadata": {},
   "source": [
    "Similarity matrix"
   ]
  },
  {
   "cell_type": "code",
   "execution_count": 32,
   "metadata": {},
   "outputs": [
    {
     "data": {
      "application/vnd.plotly.v1+json": {
       "config": {
        "plotlyServerURL": "https://plotly.com"
       },
       "data": [
        {
         "coloraxis": "coloraxis",
         "hovertemplate": "x: %{x}<br>y: %{y}<br>Similarity Score: %{z}<extra></extra>",
         "name": "0",
         "type": "heatmap",
         "x": [
          "0_brandon_tumben_kokk",
          "1_wkwkwk_wkwkw_wkwkkw",
          "2_menti_yg_iya",
          "3_thank_you_congrats",
          "4_jam_besok_game",
          "5_aku_lg_bs",
          "6_absen_gak_lupa",
          "7_kelas_lecture_pre",
          "8_link_google_ini",
          "9_jal_kak_tuh",
          "10_ale_itu_kenapa",
          "11_keren_hebat_banget",
          "12_wkwkwkwk_kwkwkwkw_ae",
          "13_kajal_kak_bangun",
          "14_alex_mirza_aris",
          "15_data_sql_datacamp",
          "16_team_tim_lead",
          "17_kalian_si_sibuk",
          "18_hahahah_hahahaha_hahahha",
          "19_wkwkkwkw_wkwkwkwkwk_wkwk...",
          "20_discord_habis_kelas",
          "21_kek_keknya_tiap",
          "22_happy_birthday_tahun",
          "23_internet_wifi_desktop",
          "24_kasih_teman_tau",
          "25_foundation_deadline_inte...",
          "26_iyaa_yuhuuu_yezzzzz",
          "27_tidur_malam_goodnight",
          "28_oke_up_ok",
          "29_tl_simulation_27",
          "30_makan_enak_akhirny",
          "31_gasss_gas_panas2in",
          "32_freak_ih_wah",
          "33_duit_gaji_pengen",
          "34_assignmentnya_kakak_peer",
          "35_gua_lu_sini",
          "36_gara_cepetan_disawer"
         ],
         "xaxis": "x",
         "y": [
          "0_brandon_tumben_kokk",
          "1_wkwkwk_wkwkw_wkwkkw",
          "2_menti_yg_iya",
          "3_thank_you_congrats",
          "4_jam_besok_game",
          "5_aku_lg_bs",
          "6_absen_gak_lupa",
          "7_kelas_lecture_pre",
          "8_link_google_ini",
          "9_jal_kak_tuh",
          "10_ale_itu_kenapa",
          "11_keren_hebat_banget",
          "12_wkwkwkwk_kwkwkwkw_ae",
          "13_kajal_kak_bangun",
          "14_alex_mirza_aris",
          "15_data_sql_datacamp",
          "16_team_tim_lead",
          "17_kalian_si_sibuk",
          "18_hahahah_hahahaha_hahahha",
          "19_wkwkkwkw_wkwkwkwkwk_wkwk...",
          "20_discord_habis_kelas",
          "21_kek_keknya_tiap",
          "22_happy_birthday_tahun",
          "23_internet_wifi_desktop",
          "24_kasih_teman_tau",
          "25_foundation_deadline_inte...",
          "26_iyaa_yuhuuu_yezzzzz",
          "27_tidur_malam_goodnight",
          "28_oke_up_ok",
          "29_tl_simulation_27",
          "30_makan_enak_akhirny",
          "31_gasss_gas_panas2in",
          "32_freak_ih_wah",
          "33_duit_gaji_pengen",
          "34_assignmentnya_kakak_peer",
          "35_gua_lu_sini",
          "36_gara_cepetan_disawer"
         ],
         "yaxis": "y",
         "z": [
          [
           1.0000000000000004,
           0.7181164324094101,
           0.9058177453872149,
           0.7661174479117008,
           0.8705555408143909,
           0.875812730602164,
           0.8187853724505558,
           0.7782979915636402,
           0.7958260809543397,
           0.9454394890895856,
           0.9004622681725938,
           0.8421567592764594,
           0.834799706018243,
           0.9432713891228124,
           0.9308458213619597,
           0.6493001540354838,
           0.78587841304087,
           0.8731059407520955,
           0.6369861252855783,
           0.7883610730390296,
           0.8186432907498815,
           0.7098181562965573,
           0.7171603345056928,
           0.6513575852177678,
           0.8632320392696349,
           0.8071721251559727,
           0.8023730168374454,
           0.6985956935451156,
           0.787669786819692,
           0.8561122121899465,
           0.7922487343075869,
           0.6804361264158465,
           0.8385634764250671,
           0.7265261158178671,
           0.8114602151466657,
           0.9300324799511853,
           0.905581497029799
          ],
          [
           0.7181164324094101,
           1,
           0.6861468855665168,
           0.5688414221529159,
           0.6223257773836892,
           0.6388612399848135,
           0.5670101219352797,
           0.5296753529866733,
           0.6461074860621558,
           0.7473151061900829,
           0.6219231955270675,
           0.6275569888504798,
           0.8781536292692901,
           0.727476192554258,
           0.640144253223068,
           0.419595284666529,
           0.5452956671960854,
           0.6111434462645116,
           0.5727956145473101,
           0.8358330417087794,
           0.536801577131295,
           0.43277305559104523,
           0.5101203994929518,
           0.5356061189103305,
           0.5992810826095232,
           0.5592642349411073,
           0.6750441733618211,
           0.5044230673716334,
           0.5435613586833224,
           0.6408670578015772,
           0.5214041884514039,
           0.48569970668496276,
           0.6103027180447008,
           0.4839183049955682,
           0.5459148659356926,
           0.6579914686593424,
           0.643045869397009
          ],
          [
           0.9058177453872149,
           0.6861468855665168,
           1.0000000000000002,
           0.8155558073630933,
           0.8538078871600968,
           0.9333968708766758,
           0.8703235051223731,
           0.7885714069335582,
           0.8070120328340811,
           0.9204038592133446,
           0.9488236759275379,
           0.9117604283345206,
           0.7897337013341825,
           0.9197789606851272,
           0.8518079039656532,
           0.6195531304252768,
           0.7732537488188498,
           0.9260073457655029,
           0.7797730419961448,
           0.762795118920294,
           0.8375894171993882,
           0.684854778790552,
           0.7530728989161302,
           0.6388578677095981,
           0.9366042321171278,
           0.7644138059949083,
           0.9128441989105823,
           0.6777641129507809,
           0.8527290498188586,
           0.805159442106605,
           0.8098867347092069,
           0.6301374587312608,
           0.8805145084634359,
           0.7667555151798259,
           0.8258763036367569,
           0.9237200206285936,
           0.9214375899945374
          ],
          [
           0.7661174479117008,
           0.5688414221529159,
           0.8155558073630933,
           1,
           0.7636126507556442,
           0.8058650360309189,
           0.6993043779253846,
           0.7478503201517547,
           0.7663902382532406,
           0.7809165263589013,
           0.8191253943486401,
           0.8432374486683346,
           0.6776590713527055,
           0.8103855746490818,
           0.7187802574956251,
           0.5805096804837513,
           0.6909182030481765,
           0.8516772830361259,
           0.5664706157714823,
           0.6429786655817841,
           0.6695039191634105,
           0.5964592453707692,
           0.7300849557120372,
           0.629219672203257,
           0.8773049684645489,
           0.740625073498822,
           0.725251921883237,
           0.6139147189263636,
           0.7817473228544155,
           0.7377042324770198,
           0.734133230685262,
           0.592195188366175,
           0.6744731315553121,
           0.7043019933773851,
           0.7930581332003327,
           0.7750292057449932,
           0.8244764219777158
          ],
          [
           0.8705555408143909,
           0.6223257773836892,
           0.8538078871600968,
           0.7636126507556442,
           0.9999999999999996,
           0.8529396500679683,
           0.7709219873275595,
           0.7810086445477604,
           0.7948397680213715,
           0.8548313961743308,
           0.862615677384994,
           0.8246118051159624,
           0.7499925714529996,
           0.8577197119084612,
           0.8314936902039372,
           0.6638384057684271,
           0.8444043078323711,
           0.8659142843083769,
           0.5902331770298361,
           0.7220482794253927,
           0.765970299331544,
           0.6507708631232533,
           0.7312300490576936,
           0.6227729183234317,
           0.8421494730572978,
           0.796459607327892,
           0.7378231218390958,
           0.6819621976659275,
           0.7709488333678103,
           0.8373741703430012,
           0.7833018145528235,
           0.637981641767245,
           0.7952387191989385,
           0.7391705039442339,
           0.8204432195236799,
           0.852589089732136,
           0.8892782353783502
          ],
          [
           0.875812730602164,
           0.6388612399848135,
           0.9333968708766758,
           0.8058650360309189,
           0.8529396500679683,
           0.9999999999999994,
           0.8272080726588453,
           0.7515488576342112,
           0.7878280258163057,
           0.871624130013809,
           0.9280440161832569,
           0.8946032821844134,
           0.7485537502293034,
           0.8889504301142459,
           0.8326260667233001,
           0.6321875781840549,
           0.7780096829124032,
           0.9212350338455666,
           0.719743888020296,
           0.7100526635546233,
           0.7866044162986745,
           0.6604441481975581,
           0.7579544712102896,
           0.6343003925317843,
           0.9194334978340942,
           0.7683908071622328,
           0.8603245005306468,
           0.6724472964212646,
           0.8390845093743544,
           0.7843456143374078,
           0.8051039026520812,
           0.6413589077381562,
           0.8578812490068227,
           0.7844041339781286,
           0.8155774649809362,
           0.8793723982240607,
           0.8998094477922831
          ],
          [
           0.8187853724505558,
           0.5670101219352797,
           0.8703235051223731,
           0.6993043779253846,
           0.7709219873275595,
           0.8272080726588453,
           0.9999999999999998,
           0.691478074473481,
           0.6983528786740483,
           0.8122111805475032,
           0.8467920585141595,
           0.76981834579113,
           0.6699040947302636,
           0.81608349964384,
           0.7715566777184968,
           0.528974945468071,
           0.6940526979223651,
           0.8111121197398261,
           0.6596166488569288,
           0.6462473477401258,
           0.8003957409758151,
           0.6086335553575664,
           0.6551971165827102,
           0.5680018373335983,
           0.8192559391835449,
           0.6853917044980786,
           0.7871149691719932,
           0.651141822608328,
           0.7562993871996682,
           0.7332381243540235,
           0.745798390141545,
           0.598191002146214,
           0.7888667498681534,
           0.6641183181632848,
           0.7176523746386947,
           0.8446640360372288,
           0.839123650454468
          ],
          [
           0.7782979915636402,
           0.5296753529866733,
           0.7885714069335582,
           0.7478503201517547,
           0.7810086445477604,
           0.7515488576342112,
           0.691478074473481,
           0.9999999999999999,
           0.7422201729086415,
           0.8033517104491599,
           0.7813430187241868,
           0.7236210376522916,
           0.660304015722587,
           0.7935382786183804,
           0.751823164345453,
           0.6617065001574224,
           0.6867431959676126,
           0.7898627325517686,
           0.49119238355385353,
           0.6002946700835394,
           0.7442261455581878,
           0.5695491174793609,
           0.6382014918589032,
           0.6287387655673534,
           0.792761531003588,
           0.7786416148417492,
           0.6453725963277831,
           0.600794961051647,
           0.6783592652805659,
           0.8055545993449527,
           0.6866569442952323,
           0.5425018275889918,
           0.6707603801077604,
           0.6666296187278393,
           0.87987652954053,
           0.7990892770172493,
           0.8128788409820279
          ],
          [
           0.7958260809543397,
           0.6461074860621558,
           0.8070120328340811,
           0.7663902382532406,
           0.7948397680213715,
           0.7878280258163057,
           0.6983528786740483,
           0.7422201729086415,
           1.0000000000000004,
           0.8202772595394021,
           0.8012826899263173,
           0.78106308632185,
           0.7104000388934146,
           0.808407272398732,
           0.7580886672761137,
           0.6186556500532447,
           0.7244069466118592,
           0.7825404334200501,
           0.5808281204792387,
           0.6885230080189767,
           0.705081985437018,
           0.6198925983934042,
           0.6918437233172166,
           0.6989996533626913,
           0.7836653010414943,
           0.7493306320418626,
           0.7227407355279074,
           0.5826893582210146,
           0.7186368602390952,
           0.7824566240212335,
           0.7058668392855093,
           0.5874996345506198,
           0.7178410992473034,
           0.6663163333283111,
           0.7583021914290615,
           0.8208799420419721,
           0.8281470435127628
          ],
          [
           0.9454394890895856,
           0.7473151061900829,
           0.9204038592133446,
           0.7809165263589013,
           0.8548313961743308,
           0.871624130013809,
           0.8122111805475032,
           0.8033517104491599,
           0.8202772595394021,
           0.9999999999999998,
           0.9020713480227023,
           0.8382600566101109,
           0.8431187485713004,
           0.960711638486708,
           0.916689676184718,
           0.6572999364538308,
           0.777462517874515,
           0.8777991509311698,
           0.6503649360751416,
           0.7817885314155427,
           0.7988838332115105,
           0.6344303163148608,
           0.7275912834930214,
           0.6853888440532419,
           0.8694699443543377,
           0.7960669229620888,
           0.8181226768655199,
           0.6813593062154545,
           0.7796854854572334,
           0.8465047266578825,
           0.7600598501885408,
           0.6334349522699724,
           0.8132388152607503,
           0.7375157173436675,
           0.8268947841661829,
           0.9360752296962771,
           0.9027828779297328
          ],
          [
           0.9004622681725938,
           0.6219231955270675,
           0.9488236759275379,
           0.8191253943486401,
           0.862615677384994,
           0.9280440161832569,
           0.8467920585141595,
           0.7813430187241868,
           0.8012826899263173,
           0.9020713480227023,
           0.9999999999999999,
           0.9107574531242724,
           0.76901008888308,
           0.9267865692826265,
           0.8696698452030727,
           0.6397100068227419,
           0.7934668338998496,
           0.9241531513516686,
           0.7099474863429382,
           0.7235856756810632,
           0.8014104712869496,
           0.6879471225265726,
           0.7372089531675967,
           0.6574511933906548,
           0.9414107509200449,
           0.7931794708908299,
           0.8517156978273116,
           0.682686891489672,
           0.8806602455133552,
           0.8251451880784861,
           0.8162678443953812,
           0.6471216491518542,
           0.8511081583505364,
           0.7718216727890899,
           0.8384368024409542,
           0.9209751207361205,
           0.9321562056650288
          ],
          [
           0.8421567592764594,
           0.6275569888504798,
           0.9117604283345206,
           0.8432374486683346,
           0.8246118051159624,
           0.8946032821844134,
           0.76981834579113,
           0.7236210376522916,
           0.78106308632185,
           0.8382600566101109,
           0.9107574531242724,
           0.9999999999999994,
           0.730736547520484,
           0.8699159052165887,
           0.7928776513930607,
           0.5826281540203746,
           0.7350703405543001,
           0.9004858060715224,
           0.7633541120740605,
           0.7077892467854333,
           0.7590167518253224,
           0.6794896609807984,
           0.7913476743382728,
           0.6069302672188536,
           0.908339172850956,
           0.7162247008873026,
           0.889492910305901,
           0.6644012878783009,
           0.9015091341627366,
           0.7562032901532262,
           0.8088902468318975,
           0.6187830272359777,
           0.8368483116668516,
           0.7150711611673015,
           0.755406674418538,
           0.8447852676659539,
           0.8690899506057914
          ],
          [
           0.834799706018243,
           0.8781536292692901,
           0.7897337013341825,
           0.6776590713527055,
           0.7499925714529996,
           0.7485537502293034,
           0.6699040947302636,
           0.660304015722587,
           0.7104000388934146,
           0.8431187485713004,
           0.76901008888308,
           0.730736547520484,
           1.0000000000000007,
           0.8247026250487158,
           0.7788088021918342,
           0.5783349350239844,
           0.6677346331456173,
           0.7486281243573174,
           0.5782037173883912,
           0.8971676497682621,
           0.6601748676515518,
           0.5072322941966241,
           0.579771734152365,
           0.6261130518130725,
           0.7233585142263338,
           0.6850157343148288,
           0.7205741205534919,
           0.5754173012490491,
           0.6708975456776978,
           0.7731459525097006,
           0.6261725142879837,
           0.639252069967244,
           0.7283645891426501,
           0.6448569285226824,
           0.6866388482952459,
           0.7873244981584737,
           0.792966937225964
          ],
          [
           0.9432713891228124,
           0.727476192554258,
           0.9197789606851272,
           0.8103855746490818,
           0.8577197119084612,
           0.8889504301142459,
           0.81608349964384,
           0.7935382786183804,
           0.808407272398732,
           0.960711638486708,
           0.9267865692826265,
           0.8699159052165887,
           0.8247026250487158,
           0.9999999999999999,
           0.910060805089187,
           0.6404154967134668,
           0.7849939518420161,
           0.8998607795969391,
           0.6624685632746147,
           0.7589874249178997,
           0.8020451257714261,
           0.6730593938244722,
           0.7426606934793845,
           0.6451516439141036,
           0.8977070710983037,
           0.799229883177044,
           0.8287749228260601,
           0.7315154620859649,
           0.823727428498251,
           0.8360685118806149,
           0.7893928788531452,
           0.6308323929499653,
           0.8221598020064604,
           0.7359112735711715,
           0.8256702491927463,
           0.9362082330783844,
           0.9117111743145028
          ],
          [
           0.9308458213619597,
           0.640144253223068,
           0.8518079039656532,
           0.7187802574956251,
           0.8314936902039372,
           0.8326260667233001,
           0.7715566777184968,
           0.751823164345453,
           0.7580886672761137,
           0.916689676184718,
           0.8696698452030727,
           0.7928776513930607,
           0.7788088021918342,
           0.910060805089187,
           1.0000000000000004,
           0.6582533735467277,
           0.7337800969403647,
           0.8199884227179979,
           0.6125266165495069,
           0.7147421936799634,
           0.7629788350416483,
           0.624320353306962,
           0.6816446923629316,
           0.6216092315748499,
           0.8156966587184672,
           0.7536655228162598,
           0.7724525062091662,
           0.6596584619680939,
           0.7453074952913623,
           0.8044971541713029,
           0.7198895888937518,
           0.6325504913679127,
           0.7873296729274653,
           0.6883893126176011,
           0.7814216026631838,
           0.8846251213295591,
           0.8584735555168845
          ],
          [
           0.6493001540354838,
           0.419595284666529,
           0.6195531304252768,
           0.5805096804837513,
           0.6638384057684271,
           0.6321875781840549,
           0.528974945468071,
           0.6617065001574224,
           0.6186556500532447,
           0.6572999364538308,
           0.6397100068227419,
           0.5826281540203746,
           0.5783349350239844,
           0.6404154967134668,
           0.6582533735467277,
           1.0000000000000004,
           0.635403886286625,
           0.6468547247385464,
           0.3305043881282118,
           0.5221727738146169,
           0.5801073207285832,
           0.43184110910450846,
           0.5101927011129463,
           0.5192444363015605,
           0.5929259023414032,
           0.6972968033514922,
           0.49164809209261895,
           0.43872171401991655,
           0.5551872377434602,
           0.7301820815388511,
           0.5324327735609986,
           0.5485638164125858,
           0.5208075735060333,
           0.6404368151273447,
           0.6797583003633885,
           0.6438865743361425,
           0.6882964764797062
          ],
          [
           0.78587841304087,
           0.5452956671960854,
           0.7732537488188498,
           0.6909182030481765,
           0.8444043078323711,
           0.7780096829124032,
           0.6940526979223651,
           0.6867431959676126,
           0.7244069466118592,
           0.777462517874515,
           0.7934668338998496,
           0.7350703405543001,
           0.6677346331456173,
           0.7849939518420161,
           0.7337800969403647,
           0.635403886286625,
           0.9999999999999996,
           0.7899457182918397,
           0.5208091022954616,
           0.642169576104782,
           0.6997271188144845,
           0.5820313108569922,
           0.626150370288567,
           0.5628319429895501,
           0.773023334118109,
           0.7042380118280707,
           0.6606301063457212,
           0.561142795544752,
           0.6674180600744406,
           0.7288922709394519,
           0.6937258987442173,
           0.5630252619415907,
           0.7530694779029328,
           0.6621285714610772,
           0.7804855658389738,
           0.7975292775198974,
           0.8298174127025698
          ],
          [
           0.8731059407520955,
           0.6111434462645116,
           0.9260073457655029,
           0.8516772830361259,
           0.8659142843083769,
           0.9212350338455666,
           0.8111121197398261,
           0.7898627325517686,
           0.7825404334200501,
           0.8777991509311698,
           0.9241531513516686,
           0.9004858060715224,
           0.7486281243573174,
           0.8998607795969391,
           0.8199884227179979,
           0.6468547247385464,
           0.7899457182918397,
           0.9999999999999998,
           0.6786953889104701,
           0.7149795838914729,
           0.8074935171286268,
           0.6614666978287124,
           0.7623995593645829,
           0.6461895621464403,
           0.9387062333659766,
           0.7818370052281107,
           0.8281275241153946,
           0.6879174457265134,
           0.8380046780454556,
           0.8119551652380572,
           0.8069298617336789,
           0.6249193599837418,
           0.8527907046713206,
           0.7755789616162665,
           0.854926475213739,
           0.8860199060737396,
           0.9207274365669436
          ],
          [
           0.6369861252855783,
           0.5727956145473101,
           0.7797730419961448,
           0.5664706157714823,
           0.5902331770298361,
           0.719743888020296,
           0.6596166488569288,
           0.49119238355385353,
           0.5808281204792387,
           0.6503649360751416,
           0.7099474863429382,
           0.7633541120740605,
           0.5782037173883912,
           0.6624685632746147,
           0.6125266165495069,
           0.3305043881282118,
           0.5208091022954616,
           0.6786953889104701,
           1.0000000000000004,
           0.5764702222342324,
           0.5931157372095237,
           0.5564827367265959,
           0.591703586512602,
           0.37826457791671836,
           0.6951023933031801,
           0.48362997416226167,
           0.8763754146041421,
           0.4522939679328607,
           0.6694855926794447,
           0.5049740596286831,
           0.629737804088215,
           0.41763730974136754,
           0.7576227166653104,
           0.4948989115896052,
           0.5182862398113043,
           0.6604872623324896,
           0.6374304505457166
          ],
          [
           0.7883610730390296,
           0.8358330417087794,
           0.762795118920294,
           0.6429786655817841,
           0.7220482794253927,
           0.7100526635546233,
           0.6462473477401258,
           0.6002946700835394,
           0.6885230080189767,
           0.7817885314155427,
           0.7235856756810632,
           0.7077892467854333,
           0.8971676497682621,
           0.7589874249178997,
           0.7147421936799634,
           0.5221727738146169,
           0.642169576104782,
           0.7149795838914729,
           0.5764702222342324,
           1.0000000000000004,
           0.6345796914967021,
           0.4733148494697506,
           0.5351288589664525,
           0.584625499649297,
           0.6869067682559262,
           0.6428070447219695,
           0.7022906318663806,
           0.5245612604586397,
           0.6275600068738643,
           0.7100335146146701,
           0.5988583541059824,
           0.5888146796788127,
           0.7000728742119257,
           0.6098318599772485,
           0.6611717975749374,
           0.7429679355855311,
           0.753521938953483
          ],
          [
           0.8186432907498815,
           0.536801577131295,
           0.8375894171993882,
           0.6695039191634105,
           0.765970299331544,
           0.7866044162986745,
           0.8003957409758151,
           0.7442261455581878,
           0.705081985437018,
           0.7988838332115105,
           0.8014104712869496,
           0.7590167518253224,
           0.6601748676515518,
           0.8020451257714261,
           0.7629788350416483,
           0.5801073207285832,
           0.6997271188144845,
           0.8074935171286268,
           0.5931157372095237,
           0.6345796914967021,
           0.9999999999999998,
           0.5961917736535564,
           0.6470569599582031,
           0.6019133194409357,
           0.8035267831085138,
           0.7225462522337485,
           0.7255495900852772,
           0.6496352659728668,
           0.7334713926858423,
           0.7685638224080593,
           0.696175645403963,
           0.5792124359573446,
           0.8139726355104747,
           0.6464080451425414,
           0.748748462015858,
           0.828238383285263,
           0.8386001276504265
          ],
          [
           0.7098181562965573,
           0.43277305559104523,
           0.684854778790552,
           0.5964592453707692,
           0.6507708631232533,
           0.6604441481975581,
           0.6086335553575664,
           0.5695491174793609,
           0.6198925983934042,
           0.6344303163148608,
           0.6879471225265726,
           0.6794896609807984,
           0.5072322941966241,
           0.6730593938244722,
           0.624320353306962,
           0.43184110910450846,
           0.5820313108569922,
           0.6614666978287124,
           0.5564827367265959,
           0.4733148494697506,
           0.5961917736535564,
           0.9999999999999994,
           0.6931436468375065,
           0.43817414667384946,
           0.6769004203325582,
           0.6302575372300646,
           0.6349321183877333,
           0.5110555388731374,
           0.6364949725794367,
           0.6146416112290225,
           0.7390578149718433,
           0.48281220062403263,
           0.612537649711672,
           0.594525409550106,
           0.5936310355282401,
           0.6544990758885575,
           0.6785251386837408
          ],
          [
           0.7171603345056928,
           0.5101203994929518,
           0.7530728989161302,
           0.7300849557120372,
           0.7312300490576936,
           0.7579544712102896,
           0.6551971165827102,
           0.6382014918589032,
           0.6918437233172166,
           0.7275912834930214,
           0.7372089531675967,
           0.7913476743382728,
           0.579771734152365,
           0.7426606934793845,
           0.6816446923629316,
           0.5101927011129463,
           0.626150370288567,
           0.7623995593645829,
           0.591703586512602,
           0.5351288589664525,
           0.6470569599582031,
           0.6931436468375065,
           0.9999999999999996,
           0.5091092889590385,
           0.7585235042427899,
           0.6849837589323067,
           0.7220540107064459,
           0.5728858194243198,
           0.7383300482022617,
           0.6959037555690635,
           0.6723199603078363,
           0.5053440372422897,
           0.6569457663998634,
           0.6584653338631843,
           0.6422700355672547,
           0.7026857080887859,
           0.717792775282966
          ],
          [
           0.6513575852177678,
           0.5356061189103305,
           0.6388578677095981,
           0.629219672203257,
           0.6227729183234317,
           0.6343003925317843,
           0.5680018373335983,
           0.6287387655673534,
           0.6989996533626913,
           0.6853888440532419,
           0.6574511933906548,
           0.6069302672188536,
           0.6261130518130725,
           0.6451516439141036,
           0.6216092315748499,
           0.5192444363015605,
           0.5628319429895501,
           0.6461895621464403,
           0.37826457791671836,
           0.584625499649297,
           0.6019133194409357,
           0.43817414667384946,
           0.5091092889590385,
           0.9999999999999996,
           0.617398862814161,
           0.6182240100056112,
           0.5441213677084169,
           0.48754299926120476,
           0.5949630039624376,
           0.6674148513333734,
           0.567092390493054,
           0.46222996642418834,
           0.5508983701877052,
           0.5590956196328397,
           0.6234227274457019,
           0.6427611909473054,
           0.6639808219654747
          ],
          [
           0.8632320392696349,
           0.5992810826095232,
           0.9366042321171278,
           0.8773049684645489,
           0.8421494730572978,
           0.9194334978340942,
           0.8192559391835449,
           0.792761531003588,
           0.7836653010414943,
           0.8694699443543377,
           0.9414107509200449,
           0.908339172850956,
           0.7233585142263338,
           0.8977070710983037,
           0.8156966587184672,
           0.5929259023414032,
           0.773023334118109,
           0.9387062333659766,
           0.6951023933031801,
           0.6869067682559262,
           0.8035267831085138,
           0.6769004203325582,
           0.7585235042427899,
           0.617398862814161,
           0.9999999999999998,
           0.7692449723235303,
           0.8294061684955913,
           0.6886230713972177,
           0.8481438352747837,
           0.7928681273136207,
           0.8392872067196324,
           0.615791369082162,
           0.8404464907833339,
           0.7636562774516599,
           0.8662086107906974,
           0.8921234958282611,
           0.9230472462679147
          ],
          [
           0.8071721251559727,
           0.5592642349411073,
           0.7644138059949083,
           0.740625073498822,
           0.796459607327892,
           0.7683908071622328,
           0.6853917044980786,
           0.7786416148417492,
           0.7493306320418626,
           0.7960669229620888,
           0.7931794708908299,
           0.7162247008873026,
           0.6850157343148288,
           0.799229883177044,
           0.7536655228162598,
           0.6972968033514922,
           0.7042380118280707,
           0.7818370052281107,
           0.48362997416226167,
           0.6428070447219695,
           0.7225462522337485,
           0.6302575372300646,
           0.6849837589323067,
           0.6182240100056112,
           0.7692449723235303,
           0.9999999999999999,
           0.6079652054752155,
           0.6258391699382604,
           0.7007971566660824,
           0.8391313572023099,
           0.6657873484441611,
           0.5730207831619895,
           0.6529444071229009,
           0.7412889098957172,
           0.8111650590220665,
           0.7835211432262914,
           0.8223515949823116
          ],
          [
           0.8023730168374454,
           0.6750441733618211,
           0.9128441989105823,
           0.725251921883237,
           0.7378231218390958,
           0.8603245005306468,
           0.7871149691719932,
           0.6453725963277831,
           0.7227407355279074,
           0.8181226768655199,
           0.8517156978273116,
           0.889492910305901,
           0.7205741205534919,
           0.8287749228260601,
           0.7724525062091662,
           0.49164809209261895,
           0.6606301063457212,
           0.8281275241153946,
           0.8763754146041421,
           0.7022906318663806,
           0.7255495900852772,
           0.6349321183877333,
           0.7220540107064459,
           0.5441213677084169,
           0.8294061684955913,
           0.6079652054752155,
           1,
           0.6059505853173349,
           0.8190730219824274,
           0.6680855273354938,
           0.7431129515925526,
           0.545720372311473,
           0.8510713764551102,
           0.6358917948946144,
           0.6635943635298642,
           0.816898115926674,
           0.7999358834616006
          ],
          [
           0.6985956935451156,
           0.5044230673716334,
           0.6777641129507809,
           0.6139147189263636,
           0.6819621976659275,
           0.6724472964212646,
           0.651141822608328,
           0.600794961051647,
           0.5826893582210146,
           0.6813593062154545,
           0.682686891489672,
           0.6644012878783009,
           0.5754173012490491,
           0.7315154620859649,
           0.6596584619680939,
           0.43872171401991655,
           0.561142795544752,
           0.6879174457265134,
           0.4522939679328607,
           0.5245612604586397,
           0.6496352659728668,
           0.5110555388731374,
           0.5728858194243198,
           0.48754299926120476,
           0.6886230713972177,
           0.6258391699382604,
           0.6059505853173349,
           1,
           0.6215325136821107,
           0.6286138209127685,
           0.6485937132655152,
           0.5133165455453652,
           0.6446448192972821,
           0.5176993060613749,
           0.5852649211772903,
           0.6778048954914401,
           0.6894076072312909
          ],
          [
           0.787669786819692,
           0.5435613586833224,
           0.8527290498188586,
           0.7817473228544155,
           0.7709488333678103,
           0.8390845093743544,
           0.7562993871996682,
           0.6783592652805659,
           0.7186368602390952,
           0.7796854854572334,
           0.8806602455133552,
           0.9015091341627366,
           0.6708975456776978,
           0.823727428498251,
           0.7453074952913623,
           0.5551872377434602,
           0.6674180600744406,
           0.8380046780454556,
           0.6694855926794447,
           0.6275600068738643,
           0.7334713926858423,
           0.6364949725794367,
           0.7383300482022617,
           0.5949630039624376,
           0.8481438352747837,
           0.7007971566660824,
           0.8190730219824274,
           0.6215325136821107,
           1.0000000000000002,
           0.714131242858765,
           0.7738175818608094,
           0.5855314995501139,
           0.7429622684340589,
           0.6859757618832951,
           0.7228868518937607,
           0.7870666520924123,
           0.8027035087894723
          ],
          [
           0.8561122121899465,
           0.6408670578015772,
           0.805159442106605,
           0.7377042324770198,
           0.8373741703430012,
           0.7843456143374078,
           0.7332381243540235,
           0.8055545993449527,
           0.7824566240212335,
           0.8465047266578825,
           0.8251451880784861,
           0.7562032901532262,
           0.7731459525097006,
           0.8360685118806149,
           0.8044971541713029,
           0.7301820815388511,
           0.7288922709394519,
           0.8119551652380572,
           0.5049740596286831,
           0.7100335146146701,
           0.7685638224080593,
           0.6146416112290225,
           0.6959037555690635,
           0.6674148513333734,
           0.7928681273136207,
           0.8391313572023099,
           0.6680855273354938,
           0.6286138209127685,
           0.714131242858765,
           1,
           0.6964509300336339,
           0.6462451061027068,
           0.7242590347948412,
           0.6991932074468874,
           0.8044641980818403,
           0.8321334511029642,
           0.8544945535128522
          ],
          [
           0.7922487343075869,
           0.5214041884514039,
           0.8098867347092069,
           0.734133230685262,
           0.7833018145528235,
           0.8051039026520812,
           0.745798390141545,
           0.6866569442952323,
           0.7058668392855093,
           0.7600598501885408,
           0.8162678443953812,
           0.8088902468318975,
           0.6261725142879837,
           0.7893928788531452,
           0.7198895888937518,
           0.5324327735609986,
           0.6937258987442173,
           0.8069298617336789,
           0.629737804088215,
           0.5988583541059824,
           0.696175645403963,
           0.7390578149718433,
           0.6723199603078363,
           0.567092390493054,
           0.8392872067196324,
           0.6657873484441611,
           0.7431129515925526,
           0.6485937132655152,
           0.7738175818608094,
           0.6964509300336339,
           0.9999999999999998,
           0.5874446520277852,
           0.7444960797021503,
           0.6947873463407743,
           0.7294344141820915,
           0.7823727973491317,
           0.7874627377393172
          ],
          [
           0.6804361264158465,
           0.48569970668496276,
           0.6301374587312608,
           0.592195188366175,
           0.637981641767245,
           0.6413589077381562,
           0.598191002146214,
           0.5425018275889918,
           0.5874996345506198,
           0.6334349522699724,
           0.6471216491518542,
           0.6187830272359777,
           0.639252069967244,
           0.6308323929499653,
           0.6325504913679127,
           0.5485638164125858,
           0.5630252619415907,
           0.6249193599837418,
           0.41763730974136754,
           0.5888146796788127,
           0.5792124359573446,
           0.48281220062403263,
           0.5053440372422897,
           0.46222996642418834,
           0.615791369082162,
           0.5730207831619895,
           0.545720372311473,
           0.5133165455453652,
           0.5855314995501139,
           0.6462451061027068,
           0.5874446520277852,
           1.0000000000000007,
           0.5921493349897708,
           0.5594435535293024,
           0.558039617094758,
           0.6599103485954716,
           0.6879583779253949
          ],
          [
           0.8385634764250671,
           0.6103027180447008,
           0.8805145084634359,
           0.6744731315553121,
           0.7952387191989385,
           0.8578812490068227,
           0.7888667498681534,
           0.6707603801077604,
           0.7178410992473034,
           0.8132388152607503,
           0.8511081583505364,
           0.8368483116668516,
           0.7283645891426501,
           0.8221598020064604,
           0.7873296729274653,
           0.5208075735060333,
           0.7530694779029328,
           0.8527907046713206,
           0.7576227166653104,
           0.7000728742119257,
           0.8139726355104747,
           0.612537649711672,
           0.6569457663998634,
           0.5508983701877052,
           0.8404464907833339,
           0.6529444071229009,
           0.8510713764551102,
           0.6446448192972821,
           0.7429622684340589,
           0.7242590347948412,
           0.7444960797021503,
           0.5921493349897708,
           1.0000000000000002,
           0.6646297249972711,
           0.7067553686482841,
           0.8437378341999581,
           0.8414364096602294
          ],
          [
           0.7265261158178671,
           0.4839183049955682,
           0.7667555151798259,
           0.7043019933773851,
           0.7391705039442339,
           0.7844041339781286,
           0.6641183181632848,
           0.6666296187278393,
           0.6663163333283111,
           0.7375157173436675,
           0.7718216727890899,
           0.7150711611673015,
           0.6448569285226824,
           0.7359112735711715,
           0.6883893126176011,
           0.6404368151273447,
           0.6621285714610772,
           0.7755789616162665,
           0.4948989115896052,
           0.6098318599772485,
           0.6464080451425414,
           0.594525409550106,
           0.6584653338631843,
           0.5590956196328397,
           0.7636562774516599,
           0.7412889098957172,
           0.6358917948946144,
           0.5176993060613749,
           0.6859757618832951,
           0.6991932074468874,
           0.6947873463407743,
           0.5594435535293024,
           0.6646297249972711,
           0.999999999999999,
           0.7439347579941393,
           0.7332570395107553,
           0.7661318081420238
          ],
          [
           0.8114602151466657,
           0.5459148659356926,
           0.8258763036367569,
           0.7930581332003327,
           0.8204432195236799,
           0.8155774649809362,
           0.7176523746386947,
           0.87987652954053,
           0.7583021914290615,
           0.8268947841661829,
           0.8384368024409542,
           0.755406674418538,
           0.6866388482952459,
           0.8256702491927463,
           0.7814216026631838,
           0.6797583003633885,
           0.7804855658389738,
           0.854926475213739,
           0.5182862398113043,
           0.6611717975749374,
           0.748748462015858,
           0.5936310355282401,
           0.6422700355672547,
           0.6234227274457019,
           0.8662086107906974,
           0.8111650590220665,
           0.6635943635298642,
           0.5852649211772903,
           0.7228868518937607,
           0.8044641980818403,
           0.7294344141820915,
           0.558039617094758,
           0.7067553686482841,
           0.7439347579941393,
           1.0000000000000004,
           0.8344739191485376,
           0.859296222863464
          ],
          [
           0.9300324799511853,
           0.6579914686593424,
           0.9237200206285936,
           0.7750292057449932,
           0.852589089732136,
           0.8793723982240607,
           0.8446640360372288,
           0.7990892770172493,
           0.8208799420419721,
           0.9360752296962771,
           0.9209751207361205,
           0.8447852676659539,
           0.7873244981584737,
           0.9362082330783844,
           0.8846251213295591,
           0.6438865743361425,
           0.7975292775198974,
           0.8860199060737396,
           0.6604872623324896,
           0.7429679355855311,
           0.828238383285263,
           0.6544990758885575,
           0.7026857080887859,
           0.6427611909473054,
           0.8921234958282611,
           0.7835211432262914,
           0.816898115926674,
           0.6778048954914401,
           0.7870666520924123,
           0.8321334511029642,
           0.7823727973491317,
           0.6599103485954716,
           0.8437378341999581,
           0.7332570395107553,
           0.8344739191485376,
           1.0000000000000002,
           0.9192779563942363
          ],
          [
           0.905581497029799,
           0.643045869397009,
           0.9214375899945374,
           0.8244764219777158,
           0.8892782353783502,
           0.8998094477922831,
           0.839123650454468,
           0.8128788409820279,
           0.8281470435127628,
           0.9027828779297328,
           0.9321562056650288,
           0.8690899506057914,
           0.792966937225964,
           0.9117111743145028,
           0.8584735555168845,
           0.6882964764797062,
           0.8298174127025698,
           0.9207274365669436,
           0.6374304505457166,
           0.753521938953483,
           0.8386001276504265,
           0.6785251386837408,
           0.717792775282966,
           0.6639808219654747,
           0.9230472462679147,
           0.8223515949823116,
           0.7999358834616006,
           0.6894076072312909,
           0.8027035087894723,
           0.8544945535128522,
           0.7874627377393172,
           0.6879583779253949,
           0.8414364096602294,
           0.7661318081420238,
           0.859296222863464,
           0.9192779563942363,
           0.9999999999999997
          ]
         ]
        }
       ],
       "layout": {
        "coloraxis": {
         "colorbar": {
          "title": {
           "text": "Similarity Score"
          }
         },
         "colorscale": [
          [
           0,
           "rgb(247,252,240)"
          ],
          [
           0.125,
           "rgb(224,243,219)"
          ],
          [
           0.25,
           "rgb(204,235,197)"
          ],
          [
           0.375,
           "rgb(168,221,181)"
          ],
          [
           0.5,
           "rgb(123,204,196)"
          ],
          [
           0.625,
           "rgb(78,179,211)"
          ],
          [
           0.75,
           "rgb(43,140,190)"
          ],
          [
           0.875,
           "rgb(8,104,172)"
          ],
          [
           1,
           "rgb(8,64,129)"
          ]
         ]
        },
        "height": 800,
        "hoverlabel": {
         "bgcolor": "white",
         "font": {
          "family": "Rockwell",
          "size": 16
         }
        },
        "legend": {
         "title": {
          "text": "Trend"
         }
        },
        "margin": {
         "t": 60
        },
        "showlegend": true,
        "template": {
         "data": {
          "bar": [
           {
            "error_x": {
             "color": "#2a3f5f"
            },
            "error_y": {
             "color": "#2a3f5f"
            },
            "marker": {
             "line": {
              "color": "white",
              "width": 0.5
             }
            },
            "type": "bar"
           }
          ],
          "barpolar": [
           {
            "marker": {
             "line": {
              "color": "white",
              "width": 0.5
             }
            },
            "type": "barpolar"
           }
          ],
          "carpet": [
           {
            "aaxis": {
             "endlinecolor": "#2a3f5f",
             "gridcolor": "#C8D4E3",
             "linecolor": "#C8D4E3",
             "minorgridcolor": "#C8D4E3",
             "startlinecolor": "#2a3f5f"
            },
            "baxis": {
             "endlinecolor": "#2a3f5f",
             "gridcolor": "#C8D4E3",
             "linecolor": "#C8D4E3",
             "minorgridcolor": "#C8D4E3",
             "startlinecolor": "#2a3f5f"
            },
            "type": "carpet"
           }
          ],
          "choropleth": [
           {
            "colorbar": {
             "outlinewidth": 0,
             "ticks": ""
            },
            "type": "choropleth"
           }
          ],
          "contour": [
           {
            "colorbar": {
             "outlinewidth": 0,
             "ticks": ""
            },
            "colorscale": [
             [
              0,
              "#0d0887"
             ],
             [
              0.1111111111111111,
              "#46039f"
             ],
             [
              0.2222222222222222,
              "#7201a8"
             ],
             [
              0.3333333333333333,
              "#9c179e"
             ],
             [
              0.4444444444444444,
              "#bd3786"
             ],
             [
              0.5555555555555556,
              "#d8576b"
             ],
             [
              0.6666666666666666,
              "#ed7953"
             ],
             [
              0.7777777777777778,
              "#fb9f3a"
             ],
             [
              0.8888888888888888,
              "#fdca26"
             ],
             [
              1,
              "#f0f921"
             ]
            ],
            "type": "contour"
           }
          ],
          "contourcarpet": [
           {
            "colorbar": {
             "outlinewidth": 0,
             "ticks": ""
            },
            "type": "contourcarpet"
           }
          ],
          "heatmap": [
           {
            "colorbar": {
             "outlinewidth": 0,
             "ticks": ""
            },
            "colorscale": [
             [
              0,
              "#0d0887"
             ],
             [
              0.1111111111111111,
              "#46039f"
             ],
             [
              0.2222222222222222,
              "#7201a8"
             ],
             [
              0.3333333333333333,
              "#9c179e"
             ],
             [
              0.4444444444444444,
              "#bd3786"
             ],
             [
              0.5555555555555556,
              "#d8576b"
             ],
             [
              0.6666666666666666,
              "#ed7953"
             ],
             [
              0.7777777777777778,
              "#fb9f3a"
             ],
             [
              0.8888888888888888,
              "#fdca26"
             ],
             [
              1,
              "#f0f921"
             ]
            ],
            "type": "heatmap"
           }
          ],
          "heatmapgl": [
           {
            "colorbar": {
             "outlinewidth": 0,
             "ticks": ""
            },
            "colorscale": [
             [
              0,
              "#0d0887"
             ],
             [
              0.1111111111111111,
              "#46039f"
             ],
             [
              0.2222222222222222,
              "#7201a8"
             ],
             [
              0.3333333333333333,
              "#9c179e"
             ],
             [
              0.4444444444444444,
              "#bd3786"
             ],
             [
              0.5555555555555556,
              "#d8576b"
             ],
             [
              0.6666666666666666,
              "#ed7953"
             ],
             [
              0.7777777777777778,
              "#fb9f3a"
             ],
             [
              0.8888888888888888,
              "#fdca26"
             ],
             [
              1,
              "#f0f921"
             ]
            ],
            "type": "heatmapgl"
           }
          ],
          "histogram": [
           {
            "marker": {
             "colorbar": {
              "outlinewidth": 0,
              "ticks": ""
             }
            },
            "type": "histogram"
           }
          ],
          "histogram2d": [
           {
            "colorbar": {
             "outlinewidth": 0,
             "ticks": ""
            },
            "colorscale": [
             [
              0,
              "#0d0887"
             ],
             [
              0.1111111111111111,
              "#46039f"
             ],
             [
              0.2222222222222222,
              "#7201a8"
             ],
             [
              0.3333333333333333,
              "#9c179e"
             ],
             [
              0.4444444444444444,
              "#bd3786"
             ],
             [
              0.5555555555555556,
              "#d8576b"
             ],
             [
              0.6666666666666666,
              "#ed7953"
             ],
             [
              0.7777777777777778,
              "#fb9f3a"
             ],
             [
              0.8888888888888888,
              "#fdca26"
             ],
             [
              1,
              "#f0f921"
             ]
            ],
            "type": "histogram2d"
           }
          ],
          "histogram2dcontour": [
           {
            "colorbar": {
             "outlinewidth": 0,
             "ticks": ""
            },
            "colorscale": [
             [
              0,
              "#0d0887"
             ],
             [
              0.1111111111111111,
              "#46039f"
             ],
             [
              0.2222222222222222,
              "#7201a8"
             ],
             [
              0.3333333333333333,
              "#9c179e"
             ],
             [
              0.4444444444444444,
              "#bd3786"
             ],
             [
              0.5555555555555556,
              "#d8576b"
             ],
             [
              0.6666666666666666,
              "#ed7953"
             ],
             [
              0.7777777777777778,
              "#fb9f3a"
             ],
             [
              0.8888888888888888,
              "#fdca26"
             ],
             [
              1,
              "#f0f921"
             ]
            ],
            "type": "histogram2dcontour"
           }
          ],
          "mesh3d": [
           {
            "colorbar": {
             "outlinewidth": 0,
             "ticks": ""
            },
            "type": "mesh3d"
           }
          ],
          "parcoords": [
           {
            "line": {
             "colorbar": {
              "outlinewidth": 0,
              "ticks": ""
             }
            },
            "type": "parcoords"
           }
          ],
          "pie": [
           {
            "automargin": true,
            "type": "pie"
           }
          ],
          "scatter": [
           {
            "marker": {
             "colorbar": {
              "outlinewidth": 0,
              "ticks": ""
             }
            },
            "type": "scatter"
           }
          ],
          "scatter3d": [
           {
            "line": {
             "colorbar": {
              "outlinewidth": 0,
              "ticks": ""
             }
            },
            "marker": {
             "colorbar": {
              "outlinewidth": 0,
              "ticks": ""
             }
            },
            "type": "scatter3d"
           }
          ],
          "scattercarpet": [
           {
            "marker": {
             "colorbar": {
              "outlinewidth": 0,
              "ticks": ""
             }
            },
            "type": "scattercarpet"
           }
          ],
          "scattergeo": [
           {
            "marker": {
             "colorbar": {
              "outlinewidth": 0,
              "ticks": ""
             }
            },
            "type": "scattergeo"
           }
          ],
          "scattergl": [
           {
            "marker": {
             "colorbar": {
              "outlinewidth": 0,
              "ticks": ""
             }
            },
            "type": "scattergl"
           }
          ],
          "scattermapbox": [
           {
            "marker": {
             "colorbar": {
              "outlinewidth": 0,
              "ticks": ""
             }
            },
            "type": "scattermapbox"
           }
          ],
          "scatterpolar": [
           {
            "marker": {
             "colorbar": {
              "outlinewidth": 0,
              "ticks": ""
             }
            },
            "type": "scatterpolar"
           }
          ],
          "scatterpolargl": [
           {
            "marker": {
             "colorbar": {
              "outlinewidth": 0,
              "ticks": ""
             }
            },
            "type": "scatterpolargl"
           }
          ],
          "scatterternary": [
           {
            "marker": {
             "colorbar": {
              "outlinewidth": 0,
              "ticks": ""
             }
            },
            "type": "scatterternary"
           }
          ],
          "surface": [
           {
            "colorbar": {
             "outlinewidth": 0,
             "ticks": ""
            },
            "colorscale": [
             [
              0,
              "#0d0887"
             ],
             [
              0.1111111111111111,
              "#46039f"
             ],
             [
              0.2222222222222222,
              "#7201a8"
             ],
             [
              0.3333333333333333,
              "#9c179e"
             ],
             [
              0.4444444444444444,
              "#bd3786"
             ],
             [
              0.5555555555555556,
              "#d8576b"
             ],
             [
              0.6666666666666666,
              "#ed7953"
             ],
             [
              0.7777777777777778,
              "#fb9f3a"
             ],
             [
              0.8888888888888888,
              "#fdca26"
             ],
             [
              1,
              "#f0f921"
             ]
            ],
            "type": "surface"
           }
          ],
          "table": [
           {
            "cells": {
             "fill": {
              "color": "#EBF0F8"
             },
             "line": {
              "color": "white"
             }
            },
            "header": {
             "fill": {
              "color": "#C8D4E3"
             },
             "line": {
              "color": "white"
             }
            },
            "type": "table"
           }
          ]
         },
         "layout": {
          "annotationdefaults": {
           "arrowcolor": "#2a3f5f",
           "arrowhead": 0,
           "arrowwidth": 1
          },
          "autotypenumbers": "strict",
          "coloraxis": {
           "colorbar": {
            "outlinewidth": 0,
            "ticks": ""
           }
          },
          "colorscale": {
           "diverging": [
            [
             0,
             "#8e0152"
            ],
            [
             0.1,
             "#c51b7d"
            ],
            [
             0.2,
             "#de77ae"
            ],
            [
             0.3,
             "#f1b6da"
            ],
            [
             0.4,
             "#fde0ef"
            ],
            [
             0.5,
             "#f7f7f7"
            ],
            [
             0.6,
             "#e6f5d0"
            ],
            [
             0.7,
             "#b8e186"
            ],
            [
             0.8,
             "#7fbc41"
            ],
            [
             0.9,
             "#4d9221"
            ],
            [
             1,
             "#276419"
            ]
           ],
           "sequential": [
            [
             0,
             "#0d0887"
            ],
            [
             0.1111111111111111,
             "#46039f"
            ],
            [
             0.2222222222222222,
             "#7201a8"
            ],
            [
             0.3333333333333333,
             "#9c179e"
            ],
            [
             0.4444444444444444,
             "#bd3786"
            ],
            [
             0.5555555555555556,
             "#d8576b"
            ],
            [
             0.6666666666666666,
             "#ed7953"
            ],
            [
             0.7777777777777778,
             "#fb9f3a"
            ],
            [
             0.8888888888888888,
             "#fdca26"
            ],
            [
             1,
             "#f0f921"
            ]
           ],
           "sequentialminus": [
            [
             0,
             "#0d0887"
            ],
            [
             0.1111111111111111,
             "#46039f"
            ],
            [
             0.2222222222222222,
             "#7201a8"
            ],
            [
             0.3333333333333333,
             "#9c179e"
            ],
            [
             0.4444444444444444,
             "#bd3786"
            ],
            [
             0.5555555555555556,
             "#d8576b"
            ],
            [
             0.6666666666666666,
             "#ed7953"
            ],
            [
             0.7777777777777778,
             "#fb9f3a"
            ],
            [
             0.8888888888888888,
             "#fdca26"
            ],
            [
             1,
             "#f0f921"
            ]
           ]
          },
          "colorway": [
           "#636efa",
           "#EF553B",
           "#00cc96",
           "#ab63fa",
           "#FFA15A",
           "#19d3f3",
           "#FF6692",
           "#B6E880",
           "#FF97FF",
           "#FECB52"
          ],
          "font": {
           "color": "#2a3f5f"
          },
          "geo": {
           "bgcolor": "white",
           "lakecolor": "white",
           "landcolor": "white",
           "showlakes": true,
           "showland": true,
           "subunitcolor": "#C8D4E3"
          },
          "hoverlabel": {
           "align": "left"
          },
          "hovermode": "closest",
          "mapbox": {
           "style": "light"
          },
          "paper_bgcolor": "white",
          "plot_bgcolor": "white",
          "polar": {
           "angularaxis": {
            "gridcolor": "#EBF0F8",
            "linecolor": "#EBF0F8",
            "ticks": ""
           },
           "bgcolor": "white",
           "radialaxis": {
            "gridcolor": "#EBF0F8",
            "linecolor": "#EBF0F8",
            "ticks": ""
           }
          },
          "scene": {
           "xaxis": {
            "backgroundcolor": "white",
            "gridcolor": "#DFE8F3",
            "gridwidth": 2,
            "linecolor": "#EBF0F8",
            "showbackground": true,
            "ticks": "",
            "zerolinecolor": "#EBF0F8"
           },
           "yaxis": {
            "backgroundcolor": "white",
            "gridcolor": "#DFE8F3",
            "gridwidth": 2,
            "linecolor": "#EBF0F8",
            "showbackground": true,
            "ticks": "",
            "zerolinecolor": "#EBF0F8"
           },
           "zaxis": {
            "backgroundcolor": "white",
            "gridcolor": "#DFE8F3",
            "gridwidth": 2,
            "linecolor": "#EBF0F8",
            "showbackground": true,
            "ticks": "",
            "zerolinecolor": "#EBF0F8"
           }
          },
          "shapedefaults": {
           "line": {
            "color": "#2a3f5f"
           }
          },
          "ternary": {
           "aaxis": {
            "gridcolor": "#DFE8F3",
            "linecolor": "#A2B1C6",
            "ticks": ""
           },
           "baxis": {
            "gridcolor": "#DFE8F3",
            "linecolor": "#A2B1C6",
            "ticks": ""
           },
           "bgcolor": "white",
           "caxis": {
            "gridcolor": "#DFE8F3",
            "linecolor": "#A2B1C6",
            "ticks": ""
           }
          },
          "title": {
           "x": 0.05
          },
          "xaxis": {
           "automargin": true,
           "gridcolor": "#EBF0F8",
           "linecolor": "#EBF0F8",
           "ticks": "",
           "title": {
            "standoff": 15
           },
           "zerolinecolor": "#EBF0F8",
           "zerolinewidth": 2
          },
          "yaxis": {
           "automargin": true,
           "gridcolor": "#EBF0F8",
           "linecolor": "#EBF0F8",
           "ticks": "",
           "title": {
            "standoff": 15
           },
           "zerolinecolor": "#EBF0F8",
           "zerolinewidth": 2
          }
         }
        },
        "title": {
         "font": {
          "color": "Black",
          "size": 22
         },
         "text": "",
         "x": 0.55,
         "xanchor": "center",
         "y": 0.95,
         "yanchor": "top"
        },
        "width": 800,
        "xaxis": {
         "anchor": "y",
         "constrain": "domain",
         "domain": [
          0,
          1
         ],
         "scaleanchor": "y"
        },
        "yaxis": {
         "anchor": "x",
         "autorange": "reversed",
         "constrain": "domain",
         "domain": [
          0,
          1
         ]
        }
       }
      }
     },
     "metadata": {},
     "output_type": "display_data"
    }
   ],
   "source": [
    "fig = model.visualize_heatmap(title='')\n",
    "py.plot(fig, filename='Similarity matrix', auto_open=False)\n",
    "fig"
   ]
  },
  {
   "attachments": {},
   "cell_type": "markdown",
   "metadata": {},
   "source": [
    "Topic hierarchy"
   ]
  },
  {
   "cell_type": "code",
   "execution_count": 33,
   "metadata": {},
   "outputs": [
    {
     "data": {
      "application/vnd.plotly.v1+json": {
       "config": {
        "plotlyServerURL": "https://plotly.com"
       },
       "data": [
        {
         "hoverinfo": "text",
         "marker": {
          "color": "rgb(0,116,217)"
         },
         "mode": "lines",
         "type": "scatter",
         "x": [
          0,
          1.2968966882879536,
          1.2968966882879536,
          0
         ],
         "xaxis": "x",
         "y": [
          -5,
          -5,
          -15,
          -15
         ],
         "yaxis": "y"
        },
        {
         "hoverinfo": "text",
         "marker": {
          "color": "rgb(0,116,217)"
         },
         "mode": "lines",
         "type": "scatter",
         "x": [
          0,
          1.2641405274270552,
          1.2641405274270552,
          0
         ],
         "xaxis": "x",
         "y": [
          -25,
          -25,
          -35,
          -35
         ],
         "yaxis": "y"
        },
        {
         "hoverinfo": "text",
         "marker": {
          "color": "rgb(0,116,217)"
         },
         "mode": "lines",
         "type": "scatter",
         "x": [
          0,
          1.307198370736731,
          1.307198370736731,
          0
         ],
         "xaxis": "x",
         "y": [
          -45,
          -45,
          -55,
          -55
         ],
         "yaxis": "y"
        },
        {
         "hoverinfo": "text",
         "marker": {
          "color": "rgb(0,116,217)"
         },
         "mode": "lines",
         "type": "scatter",
         "x": [
          1.2641405274270552,
          1.376627039936192,
          1.376627039936192,
          1.307198370736731
         ],
         "xaxis": "x",
         "y": [
          -30,
          -30,
          -50,
          -50
         ],
         "yaxis": "y"
        },
        {
         "hoverinfo": "text",
         "marker": {
          "color": "rgb(0,116,217)"
         },
         "mode": "lines",
         "type": "scatter",
         "x": [
          1.2968966882879536,
          1.4065119306362992,
          1.4065119306362992,
          1.376627039936192
         ],
         "xaxis": "x",
         "y": [
          -10,
          -10,
          -40,
          -40
         ],
         "yaxis": "y"
        },
        {
         "hoverinfo": "text",
         "marker": {
          "color": "rgb(0,116,217)"
         },
         "mode": "lines",
         "type": "scatter",
         "x": [
          0,
          1.0891853272232106,
          1.0891853272232106,
          0
         ],
         "xaxis": "x",
         "y": [
          -65,
          -65,
          -75,
          -75
         ],
         "yaxis": "y"
        },
        {
         "hoverinfo": "text",
         "marker": {
          "color": "rgb(0,116,217)"
         },
         "mode": "lines",
         "type": "scatter",
         "x": [
          0,
          1.2240018937963568,
          1.2240018937963568,
          0
         ],
         "xaxis": "x",
         "y": [
          -85,
          -85,
          -95,
          -95
         ],
         "yaxis": "y"
        },
        {
         "hoverinfo": "text",
         "marker": {
          "color": "rgb(0,116,217)"
         },
         "mode": "lines",
         "type": "scatter",
         "x": [
          0,
          1.0532909541197868,
          1.0532909541197868,
          0
         ],
         "xaxis": "x",
         "y": [
          -105,
          -105,
          -115,
          -115
         ],
         "yaxis": "y"
        },
        {
         "hoverinfo": "text",
         "marker": {
          "color": "rgb(0,116,217)"
         },
         "mode": "lines",
         "type": "scatter",
         "x": [
          0,
          1.224449641706852,
          1.224449641706852,
          0
         ],
         "xaxis": "x",
         "y": [
          -125,
          -125,
          -135,
          -135
         ],
         "yaxis": "y"
        },
        {
         "hoverinfo": "text",
         "marker": {
          "color": "rgb(0,116,217)"
         },
         "mode": "lines",
         "type": "scatter",
         "x": [
          1.0532909541197868,
          1.2497139922549494,
          1.2497139922549494,
          1.224449641706852
         ],
         "xaxis": "x",
         "y": [
          -110,
          -110,
          -130,
          -130
         ],
         "yaxis": "y"
        },
        {
         "hoverinfo": "text",
         "marker": {
          "color": "rgb(0,116,217)"
         },
         "mode": "lines",
         "type": "scatter",
         "x": [
          1.2240018937963568,
          1.3341375613050506,
          1.3341375613050506,
          1.2497139922549494
         ],
         "xaxis": "x",
         "y": [
          -90,
          -90,
          -120,
          -120
         ],
         "yaxis": "y"
        },
        {
         "hoverinfo": "text",
         "marker": {
          "color": "rgb(0,116,217)"
         },
         "mode": "lines",
         "type": "scatter",
         "x": [
          1.0891853272232106,
          1.37779671839956,
          1.37779671839956,
          1.3341375613050506
         ],
         "xaxis": "x",
         "y": [
          -70,
          -70,
          -105,
          -105
         ],
         "yaxis": "y"
        },
        {
         "hoverinfo": "text",
         "marker": {
          "color": "rgb(0,116,217)"
         },
         "mode": "lines",
         "type": "scatter",
         "x": [
          0,
          1.0979542234388504,
          1.0979542234388504,
          0
         ],
         "xaxis": "x",
         "y": [
          -145,
          -145,
          -155,
          -155
         ],
         "yaxis": "y"
        },
        {
         "hoverinfo": "text",
         "marker": {
          "color": "rgb(0,116,217)"
         },
         "mode": "lines",
         "type": "scatter",
         "x": [
          1.37779671839956,
          1.4020223744537526,
          1.4020223744537526,
          1.0979542234388504
         ],
         "xaxis": "x",
         "y": [
          -87.5,
          -87.5,
          -150,
          -150
         ],
         "yaxis": "y"
        },
        {
         "hoverinfo": "text",
         "marker": {
          "color": "rgb(0,116,217)"
         },
         "mode": "lines",
         "type": "scatter",
         "x": [
          1.4065119306362992,
          1.5358121140944903,
          1.5358121140944903,
          1.4020223744537526
         ],
         "xaxis": "x",
         "y": [
          -25,
          -25,
          -118.75,
          -118.75
         ],
         "yaxis": "y"
        },
        {
         "hoverinfo": "text",
         "marker": {
          "color": "rgb(0,116,217)"
         },
         "mode": "lines",
         "type": "scatter",
         "x": [
          0,
          1.1837291684913973,
          1.1837291684913973,
          0
         ],
         "xaxis": "x",
         "y": [
          -175,
          -175,
          -185,
          -185
         ],
         "yaxis": "y"
        },
        {
         "hoverinfo": "text",
         "marker": {
          "color": "rgb(0,116,217)"
         },
         "mode": "lines",
         "type": "scatter",
         "x": [
          0,
          1.2432932936190604,
          1.2432932936190604,
          1.1837291684913973
         ],
         "xaxis": "x",
         "y": [
          -165,
          -165,
          -180,
          -180
         ],
         "yaxis": "y"
        },
        {
         "hoverinfo": "text",
         "marker": {
          "color": "rgb(0,116,217)"
         },
         "mode": "lines",
         "type": "scatter",
         "x": [
          0,
          1.338268665266478,
          1.338268665266478,
          0
         ],
         "xaxis": "x",
         "y": [
          -205,
          -205,
          -215,
          -215
         ],
         "yaxis": "y"
        },
        {
         "hoverinfo": "text",
         "marker": {
          "color": "rgb(0,116,217)"
         },
         "mode": "lines",
         "type": "scatter",
         "x": [
          0,
          1.3623711426160328,
          1.3623711426160328,
          1.338268665266478
         ],
         "xaxis": "x",
         "y": [
          -195,
          -195,
          -210,
          -210
         ],
         "yaxis": "y"
        },
        {
         "hoverinfo": "text",
         "marker": {
          "color": "rgb(0,116,217)"
         },
         "mode": "lines",
         "type": "scatter",
         "x": [
          1.3623711426160328,
          1.4008391732784566,
          1.4008391732784566,
          0
         ],
         "xaxis": "x",
         "y": [
          -202.5,
          -202.5,
          -225,
          -225
         ],
         "yaxis": "y"
        },
        {
         "hoverinfo": "text",
         "marker": {
          "color": "rgb(0,116,217)"
         },
         "mode": "lines",
         "type": "scatter",
         "x": [
          0,
          1.2700488528762255,
          1.2700488528762255,
          0
         ],
         "xaxis": "x",
         "y": [
          -235,
          -235,
          -245,
          -245
         ],
         "yaxis": "y"
        },
        {
         "hoverinfo": "text",
         "marker": {
          "color": "rgb(0,116,217)"
         },
         "mode": "lines",
         "type": "scatter",
         "x": [
          1.2700488528762255,
          1.3017392835610915,
          1.3017392835610915,
          0
         ],
         "xaxis": "x",
         "y": [
          -240,
          -240,
          -255,
          -255
         ],
         "yaxis": "y"
        },
        {
         "hoverinfo": "text",
         "marker": {
          "color": "rgb(0,116,217)"
         },
         "mode": "lines",
         "type": "scatter",
         "x": [
          1.3017392835610915,
          1.3660376042754814,
          1.3660376042754814,
          0
         ],
         "xaxis": "x",
         "y": [
          -247.5,
          -247.5,
          -265,
          -265
         ],
         "yaxis": "y"
        },
        {
         "hoverinfo": "text",
         "marker": {
          "color": "rgb(0,116,217)"
         },
         "mode": "lines",
         "type": "scatter",
         "x": [
          1.4008391732784566,
          1.5037244795231979,
          1.5037244795231979,
          1.3660376042754814
         ],
         "xaxis": "x",
         "y": [
          -213.75,
          -213.75,
          -256.25,
          -256.25
         ],
         "yaxis": "y"
        },
        {
         "hoverinfo": "text",
         "marker": {
          "color": "rgb(0,116,217)"
         },
         "mode": "lines",
         "type": "scatter",
         "x": [
          0,
          1.4154898032573544,
          1.4154898032573544,
          0
         ],
         "xaxis": "x",
         "y": [
          -275,
          -275,
          -285,
          -285
         ],
         "yaxis": "y"
        },
        {
         "hoverinfo": "text",
         "marker": {
          "color": "rgb(0,116,217)"
         },
         "mode": "lines",
         "type": "scatter",
         "x": [
          0,
          1.3431260615194744,
          1.3431260615194744,
          0
         ],
         "xaxis": "x",
         "y": [
          -305,
          -305,
          -315,
          -315
         ],
         "yaxis": "y"
        },
        {
         "hoverinfo": "text",
         "marker": {
          "color": "rgb(0,116,217)"
         },
         "mode": "lines",
         "type": "scatter",
         "x": [
          0,
          1.4062957700459275,
          1.4062957700459275,
          1.3431260615194744
         ],
         "xaxis": "x",
         "y": [
          -295,
          -295,
          -310,
          -310
         ],
         "yaxis": "y"
        },
        {
         "hoverinfo": "text",
         "marker": {
          "color": "rgb(0,116,217)"
         },
         "mode": "lines",
         "type": "scatter",
         "x": [
          1.4154898032573544,
          1.471081569656271,
          1.471081569656271,
          1.4062957700459275
         ],
         "xaxis": "x",
         "y": [
          -280,
          -280,
          -302.5,
          -302.5
         ],
         "yaxis": "y"
        },
        {
         "hoverinfo": "text",
         "marker": {
          "color": "rgb(0,116,217)"
         },
         "mode": "lines",
         "type": "scatter",
         "x": [
          0,
          1.287110601596583,
          1.287110601596583,
          0
         ],
         "xaxis": "x",
         "y": [
          -325,
          -325,
          -335,
          -335
         ],
         "yaxis": "y"
        },
        {
         "hoverinfo": "text",
         "marker": {
          "color": "rgb(0,116,217)"
         },
         "mode": "lines",
         "type": "scatter",
         "x": [
          1.287110601596583,
          1.3922931273572172,
          1.3922931273572172,
          0
         ],
         "xaxis": "x",
         "y": [
          -330,
          -330,
          -345,
          -345
         ],
         "yaxis": "y"
        },
        {
         "hoverinfo": "text",
         "marker": {
          "color": "rgb(0,116,217)"
         },
         "mode": "lines",
         "type": "scatter",
         "x": [
          1.471081569656271,
          1.4907691738306714,
          1.4907691738306714,
          1.3922931273572172
         ],
         "xaxis": "x",
         "y": [
          -291.25,
          -291.25,
          -337.5,
          -337.5
         ],
         "yaxis": "y"
        },
        {
         "hoverinfo": "text",
         "marker": {
          "color": "rgb(0,116,217)"
         },
         "mode": "lines",
         "type": "scatter",
         "x": [
          0,
          1.2707966892773381,
          1.2707966892773381,
          0
         ],
         "xaxis": "x",
         "y": [
          -355,
          -355,
          -365,
          -365
         ],
         "yaxis": "y"
        },
        {
         "hoverinfo": "text",
         "marker": {
          "color": "rgb(0,116,217)"
         },
         "mode": "lines",
         "type": "scatter",
         "x": [
          1.4907691738306714,
          1.507956607938455,
          1.507956607938455,
          1.2707966892773381
         ],
         "xaxis": "x",
         "y": [
          -314.375,
          -314.375,
          -360,
          -360
         ],
         "yaxis": "y"
        },
        {
         "hoverinfo": "text",
         "marker": {
          "color": "rgb(0,116,217)"
         },
         "mode": "lines",
         "type": "scatter",
         "x": [
          1.5037244795231979,
          1.6204474817212855,
          1.6204474817212855,
          1.507956607938455
         ],
         "xaxis": "x",
         "y": [
          -235,
          -235,
          -337.1875,
          -337.1875
         ],
         "yaxis": "y"
        },
        {
         "hoverinfo": "text",
         "marker": {
          "color": "rgb(0,116,217)"
         },
         "mode": "lines",
         "type": "scatter",
         "x": [
          1.2432932936190604,
          1.7223727127609838,
          1.7223727127609838,
          1.6204474817212855
         ],
         "xaxis": "x",
         "y": [
          -172.5,
          -172.5,
          -286.09375,
          -286.09375
         ],
         "yaxis": "y"
        },
        {
         "hoverinfo": "text",
         "marker": {
          "color": "rgb(0,116,217)"
         },
         "mode": "lines",
         "type": "scatter",
         "x": [
          1.5358121140944903,
          2.1822506276502645,
          2.1822506276502645,
          1.7223727127609838
         ],
         "xaxis": "x",
         "y": [
          -71.875,
          -71.875,
          -229.296875,
          -229.296875
         ],
         "yaxis": "y"
        }
       ],
       "layout": {
        "autosize": false,
        "height": 755,
        "hoverlabel": {
         "bgcolor": "white",
         "font": {
          "family": "Rockwell",
          "size": 16
         }
        },
        "hovermode": "closest",
        "plot_bgcolor": "#ECEFF1",
        "showlegend": false,
        "template": {
         "data": {
          "bar": [
           {
            "error_x": {
             "color": "#2a3f5f"
            },
            "error_y": {
             "color": "#2a3f5f"
            },
            "marker": {
             "line": {
              "color": "white",
              "width": 0.5
             }
            },
            "type": "bar"
           }
          ],
          "barpolar": [
           {
            "marker": {
             "line": {
              "color": "white",
              "width": 0.5
             }
            },
            "type": "barpolar"
           }
          ],
          "carpet": [
           {
            "aaxis": {
             "endlinecolor": "#2a3f5f",
             "gridcolor": "#C8D4E3",
             "linecolor": "#C8D4E3",
             "minorgridcolor": "#C8D4E3",
             "startlinecolor": "#2a3f5f"
            },
            "baxis": {
             "endlinecolor": "#2a3f5f",
             "gridcolor": "#C8D4E3",
             "linecolor": "#C8D4E3",
             "minorgridcolor": "#C8D4E3",
             "startlinecolor": "#2a3f5f"
            },
            "type": "carpet"
           }
          ],
          "choropleth": [
           {
            "colorbar": {
             "outlinewidth": 0,
             "ticks": ""
            },
            "type": "choropleth"
           }
          ],
          "contour": [
           {
            "colorbar": {
             "outlinewidth": 0,
             "ticks": ""
            },
            "colorscale": [
             [
              0,
              "#0d0887"
             ],
             [
              0.1111111111111111,
              "#46039f"
             ],
             [
              0.2222222222222222,
              "#7201a8"
             ],
             [
              0.3333333333333333,
              "#9c179e"
             ],
             [
              0.4444444444444444,
              "#bd3786"
             ],
             [
              0.5555555555555556,
              "#d8576b"
             ],
             [
              0.6666666666666666,
              "#ed7953"
             ],
             [
              0.7777777777777778,
              "#fb9f3a"
             ],
             [
              0.8888888888888888,
              "#fdca26"
             ],
             [
              1,
              "#f0f921"
             ]
            ],
            "type": "contour"
           }
          ],
          "contourcarpet": [
           {
            "colorbar": {
             "outlinewidth": 0,
             "ticks": ""
            },
            "type": "contourcarpet"
           }
          ],
          "heatmap": [
           {
            "colorbar": {
             "outlinewidth": 0,
             "ticks": ""
            },
            "colorscale": [
             [
              0,
              "#0d0887"
             ],
             [
              0.1111111111111111,
              "#46039f"
             ],
             [
              0.2222222222222222,
              "#7201a8"
             ],
             [
              0.3333333333333333,
              "#9c179e"
             ],
             [
              0.4444444444444444,
              "#bd3786"
             ],
             [
              0.5555555555555556,
              "#d8576b"
             ],
             [
              0.6666666666666666,
              "#ed7953"
             ],
             [
              0.7777777777777778,
              "#fb9f3a"
             ],
             [
              0.8888888888888888,
              "#fdca26"
             ],
             [
              1,
              "#f0f921"
             ]
            ],
            "type": "heatmap"
           }
          ],
          "heatmapgl": [
           {
            "colorbar": {
             "outlinewidth": 0,
             "ticks": ""
            },
            "colorscale": [
             [
              0,
              "#0d0887"
             ],
             [
              0.1111111111111111,
              "#46039f"
             ],
             [
              0.2222222222222222,
              "#7201a8"
             ],
             [
              0.3333333333333333,
              "#9c179e"
             ],
             [
              0.4444444444444444,
              "#bd3786"
             ],
             [
              0.5555555555555556,
              "#d8576b"
             ],
             [
              0.6666666666666666,
              "#ed7953"
             ],
             [
              0.7777777777777778,
              "#fb9f3a"
             ],
             [
              0.8888888888888888,
              "#fdca26"
             ],
             [
              1,
              "#f0f921"
             ]
            ],
            "type": "heatmapgl"
           }
          ],
          "histogram": [
           {
            "marker": {
             "colorbar": {
              "outlinewidth": 0,
              "ticks": ""
             }
            },
            "type": "histogram"
           }
          ],
          "histogram2d": [
           {
            "colorbar": {
             "outlinewidth": 0,
             "ticks": ""
            },
            "colorscale": [
             [
              0,
              "#0d0887"
             ],
             [
              0.1111111111111111,
              "#46039f"
             ],
             [
              0.2222222222222222,
              "#7201a8"
             ],
             [
              0.3333333333333333,
              "#9c179e"
             ],
             [
              0.4444444444444444,
              "#bd3786"
             ],
             [
              0.5555555555555556,
              "#d8576b"
             ],
             [
              0.6666666666666666,
              "#ed7953"
             ],
             [
              0.7777777777777778,
              "#fb9f3a"
             ],
             [
              0.8888888888888888,
              "#fdca26"
             ],
             [
              1,
              "#f0f921"
             ]
            ],
            "type": "histogram2d"
           }
          ],
          "histogram2dcontour": [
           {
            "colorbar": {
             "outlinewidth": 0,
             "ticks": ""
            },
            "colorscale": [
             [
              0,
              "#0d0887"
             ],
             [
              0.1111111111111111,
              "#46039f"
             ],
             [
              0.2222222222222222,
              "#7201a8"
             ],
             [
              0.3333333333333333,
              "#9c179e"
             ],
             [
              0.4444444444444444,
              "#bd3786"
             ],
             [
              0.5555555555555556,
              "#d8576b"
             ],
             [
              0.6666666666666666,
              "#ed7953"
             ],
             [
              0.7777777777777778,
              "#fb9f3a"
             ],
             [
              0.8888888888888888,
              "#fdca26"
             ],
             [
              1,
              "#f0f921"
             ]
            ],
            "type": "histogram2dcontour"
           }
          ],
          "mesh3d": [
           {
            "colorbar": {
             "outlinewidth": 0,
             "ticks": ""
            },
            "type": "mesh3d"
           }
          ],
          "parcoords": [
           {
            "line": {
             "colorbar": {
              "outlinewidth": 0,
              "ticks": ""
             }
            },
            "type": "parcoords"
           }
          ],
          "pie": [
           {
            "automargin": true,
            "type": "pie"
           }
          ],
          "scatter": [
           {
            "marker": {
             "colorbar": {
              "outlinewidth": 0,
              "ticks": ""
             }
            },
            "type": "scatter"
           }
          ],
          "scatter3d": [
           {
            "line": {
             "colorbar": {
              "outlinewidth": 0,
              "ticks": ""
             }
            },
            "marker": {
             "colorbar": {
              "outlinewidth": 0,
              "ticks": ""
             }
            },
            "type": "scatter3d"
           }
          ],
          "scattercarpet": [
           {
            "marker": {
             "colorbar": {
              "outlinewidth": 0,
              "ticks": ""
             }
            },
            "type": "scattercarpet"
           }
          ],
          "scattergeo": [
           {
            "marker": {
             "colorbar": {
              "outlinewidth": 0,
              "ticks": ""
             }
            },
            "type": "scattergeo"
           }
          ],
          "scattergl": [
           {
            "marker": {
             "colorbar": {
              "outlinewidth": 0,
              "ticks": ""
             }
            },
            "type": "scattergl"
           }
          ],
          "scattermapbox": [
           {
            "marker": {
             "colorbar": {
              "outlinewidth": 0,
              "ticks": ""
             }
            },
            "type": "scattermapbox"
           }
          ],
          "scatterpolar": [
           {
            "marker": {
             "colorbar": {
              "outlinewidth": 0,
              "ticks": ""
             }
            },
            "type": "scatterpolar"
           }
          ],
          "scatterpolargl": [
           {
            "marker": {
             "colorbar": {
              "outlinewidth": 0,
              "ticks": ""
             }
            },
            "type": "scatterpolargl"
           }
          ],
          "scatterternary": [
           {
            "marker": {
             "colorbar": {
              "outlinewidth": 0,
              "ticks": ""
             }
            },
            "type": "scatterternary"
           }
          ],
          "surface": [
           {
            "colorbar": {
             "outlinewidth": 0,
             "ticks": ""
            },
            "colorscale": [
             [
              0,
              "#0d0887"
             ],
             [
              0.1111111111111111,
              "#46039f"
             ],
             [
              0.2222222222222222,
              "#7201a8"
             ],
             [
              0.3333333333333333,
              "#9c179e"
             ],
             [
              0.4444444444444444,
              "#bd3786"
             ],
             [
              0.5555555555555556,
              "#d8576b"
             ],
             [
              0.6666666666666666,
              "#ed7953"
             ],
             [
              0.7777777777777778,
              "#fb9f3a"
             ],
             [
              0.8888888888888888,
              "#fdca26"
             ],
             [
              1,
              "#f0f921"
             ]
            ],
            "type": "surface"
           }
          ],
          "table": [
           {
            "cells": {
             "fill": {
              "color": "#EBF0F8"
             },
             "line": {
              "color": "white"
             }
            },
            "header": {
             "fill": {
              "color": "#C8D4E3"
             },
             "line": {
              "color": "white"
             }
            },
            "type": "table"
           }
          ]
         },
         "layout": {
          "annotationdefaults": {
           "arrowcolor": "#2a3f5f",
           "arrowhead": 0,
           "arrowwidth": 1
          },
          "autotypenumbers": "strict",
          "coloraxis": {
           "colorbar": {
            "outlinewidth": 0,
            "ticks": ""
           }
          },
          "colorscale": {
           "diverging": [
            [
             0,
             "#8e0152"
            ],
            [
             0.1,
             "#c51b7d"
            ],
            [
             0.2,
             "#de77ae"
            ],
            [
             0.3,
             "#f1b6da"
            ],
            [
             0.4,
             "#fde0ef"
            ],
            [
             0.5,
             "#f7f7f7"
            ],
            [
             0.6,
             "#e6f5d0"
            ],
            [
             0.7,
             "#b8e186"
            ],
            [
             0.8,
             "#7fbc41"
            ],
            [
             0.9,
             "#4d9221"
            ],
            [
             1,
             "#276419"
            ]
           ],
           "sequential": [
            [
             0,
             "#0d0887"
            ],
            [
             0.1111111111111111,
             "#46039f"
            ],
            [
             0.2222222222222222,
             "#7201a8"
            ],
            [
             0.3333333333333333,
             "#9c179e"
            ],
            [
             0.4444444444444444,
             "#bd3786"
            ],
            [
             0.5555555555555556,
             "#d8576b"
            ],
            [
             0.6666666666666666,
             "#ed7953"
            ],
            [
             0.7777777777777778,
             "#fb9f3a"
            ],
            [
             0.8888888888888888,
             "#fdca26"
            ],
            [
             1,
             "#f0f921"
            ]
           ],
           "sequentialminus": [
            [
             0,
             "#0d0887"
            ],
            [
             0.1111111111111111,
             "#46039f"
            ],
            [
             0.2222222222222222,
             "#7201a8"
            ],
            [
             0.3333333333333333,
             "#9c179e"
            ],
            [
             0.4444444444444444,
             "#bd3786"
            ],
            [
             0.5555555555555556,
             "#d8576b"
            ],
            [
             0.6666666666666666,
             "#ed7953"
            ],
            [
             0.7777777777777778,
             "#fb9f3a"
            ],
            [
             0.8888888888888888,
             "#fdca26"
            ],
            [
             1,
             "#f0f921"
            ]
           ]
          },
          "colorway": [
           "#636efa",
           "#EF553B",
           "#00cc96",
           "#ab63fa",
           "#FFA15A",
           "#19d3f3",
           "#FF6692",
           "#B6E880",
           "#FF97FF",
           "#FECB52"
          ],
          "font": {
           "color": "#2a3f5f"
          },
          "geo": {
           "bgcolor": "white",
           "lakecolor": "white",
           "landcolor": "white",
           "showlakes": true,
           "showland": true,
           "subunitcolor": "#C8D4E3"
          },
          "hoverlabel": {
           "align": "left"
          },
          "hovermode": "closest",
          "mapbox": {
           "style": "light"
          },
          "paper_bgcolor": "white",
          "plot_bgcolor": "white",
          "polar": {
           "angularaxis": {
            "gridcolor": "#EBF0F8",
            "linecolor": "#EBF0F8",
            "ticks": ""
           },
           "bgcolor": "white",
           "radialaxis": {
            "gridcolor": "#EBF0F8",
            "linecolor": "#EBF0F8",
            "ticks": ""
           }
          },
          "scene": {
           "xaxis": {
            "backgroundcolor": "white",
            "gridcolor": "#DFE8F3",
            "gridwidth": 2,
            "linecolor": "#EBF0F8",
            "showbackground": true,
            "ticks": "",
            "zerolinecolor": "#EBF0F8"
           },
           "yaxis": {
            "backgroundcolor": "white",
            "gridcolor": "#DFE8F3",
            "gridwidth": 2,
            "linecolor": "#EBF0F8",
            "showbackground": true,
            "ticks": "",
            "zerolinecolor": "#EBF0F8"
           },
           "zaxis": {
            "backgroundcolor": "white",
            "gridcolor": "#DFE8F3",
            "gridwidth": 2,
            "linecolor": "#EBF0F8",
            "showbackground": true,
            "ticks": "",
            "zerolinecolor": "#EBF0F8"
           }
          },
          "shapedefaults": {
           "line": {
            "color": "#2a3f5f"
           }
          },
          "ternary": {
           "aaxis": {
            "gridcolor": "#DFE8F3",
            "linecolor": "#A2B1C6",
            "ticks": ""
           },
           "baxis": {
            "gridcolor": "#DFE8F3",
            "linecolor": "#A2B1C6",
            "ticks": ""
           },
           "bgcolor": "white",
           "caxis": {
            "gridcolor": "#DFE8F3",
            "linecolor": "#A2B1C6",
            "ticks": ""
           }
          },
          "title": {
           "x": 0.05
          },
          "xaxis": {
           "automargin": true,
           "gridcolor": "#EBF0F8",
           "linecolor": "#EBF0F8",
           "ticks": "",
           "title": {
            "standoff": 15
           },
           "zerolinecolor": "#EBF0F8",
           "zerolinewidth": 2
          },
          "yaxis": {
           "automargin": true,
           "gridcolor": "#EBF0F8",
           "linecolor": "#EBF0F8",
           "ticks": "",
           "title": {
            "standoff": 15
           },
           "zerolinecolor": "#EBF0F8",
           "zerolinewidth": 2
          }
         }
        },
        "title": {
         "font": {
          "color": "Black",
          "size": 22
         },
         "text": "",
         "x": 0.5,
         "xanchor": "center",
         "yanchor": "top"
        },
        "width": 1000,
        "xaxis": {
         "mirror": "allticks",
         "rangemode": "tozero",
         "showgrid": false,
         "showline": true,
         "showticklabels": true,
         "ticks": "outside",
         "type": "linear",
         "zeroline": false
        },
        "yaxis": {
         "mirror": "allticks",
         "range": [
          -370,
          0
         ],
         "rangemode": "tozero",
         "showgrid": false,
         "showline": true,
         "showticklabels": true,
         "tickmode": "array",
         "ticks": "outside",
         "ticktext": [
          "29_tl_simulation_27",
          "16_team_tim_lead",
          "23_internet_wifi_desktop",
          "34_assignmentnya_kakak_peer",
          "25_foundation_deadline_inte...",
          "20_discord_habis_kelas",
          "5_aku_lg_bs",
          "2_menti_yg_iya",
          "10_ale_itu_kenapa",
          "15_data_sql_datacamp",
          "7_kelas_lecture_pre",
          "8_link_google_ini",
          "6_absen_gak_lupa",
          "4_jam_besok_game",
          "13_kajal_kak_bangun",
          "9_jal_kak_tuh",
          "19_wkwkkwkw_wkwkwkwkwk_wkwk...",
          "12_wkwkwkwk_kwkwkwkw_ae",
          "1_wkwkwk_wkwkw_wkwkkw",
          "30_makan_enak_akhirny",
          "0_brandon_tumben_kokk",
          "33_duit_gaji_pengen",
          "32_freak_ih_wah",
          "24_kasih_teman_tau",
          "17_kalian_si_sibuk",
          "35_gua_lu_sini",
          "21_kek_keknya_tiap",
          "26_iyaa_yuhuuu_yezzzzz",
          "18_hahahah_hahahaha_hahahha",
          "31_gasss_gas_panas2in",
          "14_alex_mirza_aris",
          "36_gara_cepetan_disawer",
          "22_happy_birthday_tahun",
          "3_thank_you_congrats",
          "27_tidur_malam_goodnight",
          "11_keren_hebat_banget",
          "28_oke_up_ok"
         ],
         "tickvals": [
          -5,
          -15,
          -25,
          -35,
          -45,
          -55,
          -65,
          -75,
          -85,
          -95,
          -105,
          -115,
          -125,
          -135,
          -145,
          -155,
          -165,
          -175,
          -185,
          -195,
          -205,
          -215,
          -225,
          -235,
          -245,
          -255,
          -265,
          -275,
          -285,
          -295,
          -305,
          -315,
          -325,
          -335,
          -345,
          -355,
          -365
         ],
         "type": "linear",
         "zeroline": false
        }
       }
      }
     },
     "metadata": {},
     "output_type": "display_data"
    }
   ],
   "source": [
    "fig = model.visualize_hierarchy(title='')\n",
    "py.plot(fig, filename='Topic hierarchy', auto_open=False)\n",
    "fig"
   ]
  },
  {
   "attachments": {},
   "cell_type": "markdown",
   "metadata": {},
   "source": [
    "Term score decline"
   ]
  },
  {
   "cell_type": "code",
   "execution_count": 34,
   "metadata": {},
   "outputs": [
    {
     "data": {
      "application/vnd.plotly.v1+json": {
       "config": {
        "plotlyServerURL": "https://plotly.com"
       },
       "data": [
        {
         "hovertext": "<b>Topic -1</b>:kak_ya_aku_di_aja_ada_yg_ini_yang_",
         "line": {
          "color": "black",
          "width": 1.5
         },
         "mode": "lines+lines",
         "name": "",
         "opacity": 0.1,
         "type": "scatter",
         "x": [
          1,
          2,
          3,
          4,
          5,
          6,
          7,
          8,
          9,
          10
         ],
         "y": [
          0.020645946536395763,
          0.017999100054092228,
          0.016763459966827734,
          0.016096746887169038,
          0.014614600910209538,
          0.014280131702187365,
          0.013104722606719497,
          0.013046171111897906,
          0.013007964238826173,
          0.012958617895640375
         ]
        },
        {
         "hovertext": "<b>Topic 0</b>:brandon_tumben_kokk_awkawk_hoki_gai",
         "line": {
          "color": "black",
          "width": 1.5
         },
         "mode": "lines+lines",
         "name": "",
         "opacity": 0.1,
         "type": "scatter",
         "x": [
          1,
          2,
          3,
          4,
          5,
          6,
          7,
          8,
          9,
          10
         ],
         "y": [
          0.056242640775914454,
          0.056242640775914454,
          0.04082971722678942,
          0.04082971722678942,
          0.03749509385060964,
          0.03749509385060964,
          0.03513781331615983,
          0.03331601322616795,
          0.03331601322616795,
          0.033051826110075865
         ]
        },
        {
         "hovertext": "<b>Topic 1</b>:wkwkwk_wkwkw_wkwkkw_wkkwkwk_wkwkwkk",
         "line": {
          "color": "black",
          "width": 1.5
         },
         "mode": "lines+lines",
         "name": "",
         "opacity": 0.1,
         "type": "scatter",
         "x": [
          1,
          2,
          3,
          4,
          5,
          6,
          7,
          8,
          9,
          10
         ],
         "y": [
          0.10594251799383247,
          0.07360516033382743,
          0.06382524386521499,
          0.05342721141447646,
          0.050657155757138646,
          0.04869936629033302,
          0.04275860071607377,
          0.04228740581568282,
          0.04110094043087288,
          0.031040889121944006
         ]
        },
        {
         "hovertext": "<b>Topic 2</b>:menti_yg_iya_aja_yaa_udah_duh_pdhl_",
         "line": {
          "color": "black",
          "width": 1.5
         },
         "mode": "lines+lines",
         "name": "",
         "opacity": 0.1,
         "type": "scatter",
         "x": [
          1,
          2,
          3,
          4,
          5,
          6,
          7,
          8,
          9,
          10
         ],
         "y": [
          0.03584735240474588,
          0.029582774891993277,
          0.026374490114547983,
          0.02399359580444074,
          0.022478154787637095,
          0.02222064531025387,
          0.021591182559652308,
          0.021591182559652308,
          0.02146957794715378,
          0.019918951116713057
         ]
        },
        {
         "hovertext": "<b>Topic 3</b>:thank_you_congrats_makasih_terima_t",
         "line": {
          "color": "black",
          "width": 1.5
         },
         "mode": "lines+lines",
         "name": "",
         "opacity": 0.1,
         "type": "scatter",
         "x": [
          1,
          2,
          3,
          4,
          5,
          6,
          7,
          8,
          9,
          10
         ],
         "y": [
          0.17850615247751137,
          0.12804149151929864,
          0.08655225849435223,
          0.08151053270042098,
          0.07423032465391685,
          0.07423032465391685,
          0.06255744389717444,
          0.048683418625709615,
          0.04450721372166291,
          0.0397491977331243
         ]
        },
        {
         "hovertext": "<b>Topic 4</b>:jam_besok_game_as_telat_by_week_pla",
         "line": {
          "color": "black",
          "width": 1.5
         },
         "mode": "lines+lines",
         "name": "",
         "opacity": 0.1,
         "type": "scatter",
         "x": [
          1,
          2,
          3,
          4,
          5,
          6,
          7,
          8,
          9,
          10
         ],
         "y": [
          0.06525605767333092,
          0.051945203457970435,
          0.049400637164913816,
          0.04550845518706449,
          0.03205749098826305,
          0.030686893155700657,
          0.02948241306212842,
          0.027098281629422464,
          0.027098281629422464,
          0.02686702256323592
         ]
        },
        {
         "hovertext": "<b>Topic 5</b>:aku_lg_bs_juga_ngurus_out_aman_sm_j",
         "line": {
          "color": "black",
          "width": 1.5
         },
         "mode": "lines+lines",
         "name": "",
         "opacity": 0.1,
         "type": "scatter",
         "x": [
          1,
          2,
          3,
          4,
          5,
          6,
          7,
          8,
          9,
          10
         ],
         "y": [
          0.1323930660877489,
          0.03565188203077514,
          0.02940400238909084,
          0.027029669199944754,
          0.02617011130759641,
          0.02617011130759641,
          0.025911316155677128,
          0.02522955281362763,
          0.02522955281362763,
          0.02476766675686519
         ]
        },
        {
         "hovertext": "<b>Topic 6</b>:absen_gak_lupa_ga_jangan_masih_belu",
         "line": {
          "color": "black",
          "width": 1.5
         },
         "mode": "lines+lines",
         "name": "",
         "opacity": 0.1,
         "type": "scatter",
         "x": [
          1,
          2,
          3,
          4,
          5,
          6,
          7,
          8,
          9,
          10
         ],
         "y": [
          0.16749357375146243,
          0.0804278502237205,
          0.05891619080336983,
          0.0567074964727362,
          0.04983948854056218,
          0.04246664769291239,
          0.036711958854829786,
          0.03539554622897932,
          0.03539554622897932,
          0.0328020949787658
         ]
        },
        {
         "hovertext": "<b>Topic 7</b>:kelas_lecture_pre_student_di_hari_i",
         "line": {
          "color": "black",
          "width": 1.5
         },
         "mode": "lines+lines",
         "name": "",
         "opacity": 0.1,
         "type": "scatter",
         "x": [
          1,
          2,
          3,
          4,
          5,
          6,
          7,
          8,
          9,
          10
         ],
         "y": [
          0.07947968163607871,
          0.06377018566899374,
          0.047382169941446145,
          0.03671615898267897,
          0.029977607030536407,
          0.028901702413119533,
          0.02763910219451455,
          0.02763910219451455,
          0.02612213404317909,
          0.024700250004979735
         ]
        },
        {
         "hovertext": "<b>Topic 8</b>:link_google_ini_video_calendar_yaa_",
         "line": {
          "color": "black",
          "width": 1.5
         },
         "mode": "lines+lines",
         "name": "",
         "opacity": 0.1,
         "type": "scatter",
         "x": [
          1,
          2,
          3,
          4,
          5,
          6,
          7,
          8,
          9,
          10
         ],
         "y": [
          0.10029061043825113,
          0.06848020083577167,
          0.05072158772878218,
          0.04213041298106726,
          0.03994606560948495,
          0.031568467562452664,
          0.029959549207113717,
          0.029959549207113717,
          0.028558896025658163,
          0.02653244822007025
         ]
        },
        {
         "hovertext": "<b>Topic 9</b>:jal_kak_tuh_telfon_jalita_gua_knp_d",
         "line": {
          "color": "black",
          "width": 1.5
         },
         "mode": "lines+lines",
         "name": "",
         "opacity": 0.1,
         "type": "scatter",
         "x": [
          1,
          2,
          3,
          4,
          5,
          6,
          7,
          8,
          9,
          10
         ],
         "y": [
          0.1398272634744657,
          0.07258259953369041,
          0.0387151123280042,
          0.03552332798431859,
          0.03343905945278462,
          0.0317288747629779,
          0.030571166098175163,
          0.029342702236628534,
          0.027919277780376634,
          0.02739523443878529
         ]
        },
        {
         "hovertext": "<b>Topic 10</b>:ale_itu_kenapa_mesti_bisa_jadi_upi",
         "line": {
          "color": "black",
          "width": 1.5
         },
         "mode": "lines+lines",
         "name": "",
         "opacity": 0.1,
         "type": "scatter",
         "x": [
          1,
          2,
          3,
          4,
          5,
          6,
          7,
          8,
          9,
          10
         ],
         "y": [
          0.08343067004132532,
          0.06481451120756515,
          0.05446258570590225,
          0.04847271848106527,
          0.04688617226640137,
          0.04381880226878682,
          0.04171533502066266,
          0.035028059719107524,
          0.03412654634058198,
          0.03398189027529741
         ]
        },
        {
         "hovertext": "<b>Topic 11</b>:keren_hebat_banget_bagus_bgt_sanga",
         "line": {
          "color": "black",
          "width": 1.5
         },
         "mode": "lines+lines",
         "name": "",
         "opacity": 0.1,
         "type": "scatter",
         "x": [
          1,
          2,
          3,
          4,
          5,
          6,
          7,
          8,
          9,
          10
         ],
         "y": [
          0.16498304396679234,
          0.09696427109764717,
          0.09661275079002155,
          0.08439622059769586,
          0.06690864438667259,
          0.05856277319790201,
          0.050982014930443784,
          0.04958094083732621,
          0.04412781309765137,
          0.04282039538309129
         ]
        },
        {
         "hovertext": "<b>Topic 12</b>:wkwkwkwk_kwkwkwkw_ae_wkwkkwkwkw_wk",
         "line": {
          "color": "black",
          "width": 1.5
         },
         "mode": "lines+lines",
         "name": "",
         "opacity": 0.1,
         "type": "scatter",
         "x": [
          1,
          2,
          3,
          4,
          5,
          6,
          7,
          8,
          9,
          10
         ],
         "y": [
          0.15770714874789946,
          0.1494390531034327,
          0.10630961903525792,
          0.10630961903525792,
          0.09150131696401291,
          0.08365524850563326,
          0.0659937858257054,
          0.0659937858257054,
          0.0659937858257054,
          0.0659937858257054
         ]
        },
        {
         "hovertext": "<b>Topic 13</b>:kajal_kak_bangun_jal_ig_ichsan_ga_",
         "line": {
          "color": "black",
          "width": 1.5
         },
         "mode": "lines+lines",
         "name": "",
         "opacity": 0.1,
         "type": "scatter",
         "x": [
          1,
          2,
          3,
          4,
          5,
          6,
          7,
          8,
          9,
          10
         ],
         "y": [
          0.22994412419617913,
          0.07091844822163049,
          0.04303008389522345,
          0.04009539542694306,
          0.03823409136907846,
          0.03765214530419492,
          0.037534961951001575,
          0.03386045772847061,
          0.03386045772847061,
          0.03386045772847061
         ]
        },
        {
         "hovertext": "<b>Topic 14</b>:alex_mirza_aris_ely_alit_jak_fawaz",
         "line": {
          "color": "black",
          "width": 1.5
         },
         "mode": "lines+lines",
         "name": "",
         "opacity": 0.1,
         "type": "scatter",
         "x": [
          1,
          2,
          3,
          4,
          5,
          6,
          7,
          8,
          9,
          10
         ],
         "y": [
          0.20085857222808773,
          0.17985059303487005,
          0.17478780646793704,
          0.15781744960778324,
          0.12422671393195386,
          0.11901530767807736,
          0.11167297370728962,
          0.10594314346383507,
          0.08026130258838389,
          0.06540021564904365
         ]
        },
        {
         "hovertext": "<b>Topic 15</b>:data_sql_datacamp_axis_stats_case_",
         "line": {
          "color": "black",
          "width": 1.5
         },
         "mode": "lines+lines",
         "name": "",
         "opacity": 0.1,
         "type": "scatter",
         "x": [
          1,
          2,
          3,
          4,
          5,
          6,
          7,
          8,
          9,
          10
         ],
         "y": [
          0.0595881032081627,
          0.04910800726303655,
          0.041450998247692314,
          0.041450998247692314,
          0.038845013803644586,
          0.036831005447277416,
          0.031570000844014005,
          0.030091626457664375,
          0.030091626457664375,
          0.030091626457664375
         ]
        },
        {
         "hovertext": "<b>Topic 16</b>:team_tim_lead_setiap_section_one_d",
         "line": {
          "color": "black",
          "width": 1.5
         },
         "mode": "lines+lines",
         "name": "",
         "opacity": 0.1,
         "type": "scatter",
         "x": [
          1,
          2,
          3,
          4,
          5,
          6,
          7,
          8,
          9,
          10
         ],
         "y": [
          0.20502506111468022,
          0.10565771315787398,
          0.05627915318345661,
          0.042225783261667864,
          0.04137521515874875,
          0.03957108882801177,
          0.037584413953938654,
          0.027367840431405995,
          0.026212485024228783,
          0.026212485024228783
         ]
        },
        {
         "hovertext": "<b>Topic 17</b>:kalian_si_sibuk_kamu_banget_cuman_",
         "line": {
          "color": "black",
          "width": 1.5
         },
         "mode": "lines+lines",
         "name": "",
         "opacity": 0.1,
         "type": "scatter",
         "x": [
          1,
          2,
          3,
          4,
          5,
          6,
          7,
          8,
          9,
          10
         ],
         "y": [
          0.12027237686003721,
          0.10981875713723517,
          0.09412830852080128,
          0.07406975128102944,
          0.06591807475777511,
          0.06285280169176237,
          0.058431997866509995,
          0.058431997866509995,
          0.058431997866509995,
          0.058431997866509995
         ]
        },
        {
         "hovertext": "<b>Topic 18</b>:hahahah_hahahaha_hahahha_hahahhaha",
         "line": {
          "color": "black",
          "width": 1.5
         },
         "mode": "lines+lines",
         "name": "",
         "opacity": 0.1,
         "type": "scatter",
         "x": [
          1,
          2,
          3,
          4,
          5,
          6,
          7,
          8,
          9,
          10
         ],
         "y": [
          0.36145270471987695,
          0.3387285203677808,
          0.3387285203677808,
          0.2243788718073984,
          0.2243788718073984,
          0.2243788718073984,
          0.2243788718073984,
          0.2243788718073984,
          0.2243788718073984,
          0.2243788718073984
         ]
        },
        {
         "hovertext": "<b>Topic 19</b>:wkwkkwkw_wkwkwkwkwk_wkwkwkkwkw_wkw",
         "line": {
          "color": "black",
          "width": 1.5
         },
         "mode": "lines+lines",
         "name": "",
         "opacity": 0.1,
         "type": "scatter",
         "x": [
          1,
          2,
          3,
          4,
          5,
          6,
          7,
          8,
          9,
          10
         ],
         "y": [
          0.45774124374024433,
          0.39841098732605973,
          0.24422480048640335,
          0.21738012394980738,
          0.2170043023650399,
          0.1668940444760602,
          0.15160734581580973,
          0.15160734581580973,
          0.15160734581580973,
          0.1329724574548142
         ]
        },
        {
         "hovertext": "<b>Topic 20</b>:discord_habis_kelas_yukkk_blank_re",
         "line": {
          "color": "black",
          "width": 1.5
         },
         "mode": "lines+lines",
         "name": "",
         "opacity": 0.1,
         "type": "scatter",
         "x": [
          1,
          2,
          3,
          4,
          5,
          6,
          7,
          8,
          9,
          10
         ],
         "y": [
          0.4506842187415943,
          0.11221076386948454,
          0.06844520014411323,
          0.06097251951288,
          0.06097251951288,
          0.06097251951288,
          0.06097251951288,
          0.06097251951288,
          0.06097251951288,
          0.06097251951288
         ]
        },
        {
         "hovertext": "<b>Topic 21</b>:kek_keknya_tiap_terakhir_bisa_aja_",
         "line": {
          "color": "black",
          "width": 1.5
         },
         "mode": "lines+lines",
         "name": "",
         "opacity": 0.1,
         "type": "scatter",
         "x": [
          1,
          2,
          3,
          4,
          5,
          6,
          7,
          8,
          9,
          10
         ],
         "y": [
          0.2683120013324919,
          0.19020801542789664,
          0.06635668750005352,
          0.06635668750005352,
          0.052440181653330455,
          0.04897866250989143,
          0.046359271034586445,
          0.046359271034586445,
          0.046359271034586445,
          0.046359271034586445
         ]
        },
        {
         "hovertext": "<b>Topic 22</b>:happy_birthday_tahun_ulang_adit_ka",
         "line": {
          "color": "black",
          "width": 1.5
         },
         "mode": "lines+lines",
         "name": "",
         "opacity": 0.1,
         "type": "scatter",
         "x": [
          1,
          2,
          3,
          4,
          5,
          6,
          7,
          8,
          9,
          10
         ],
         "y": [
          0.5236756397985017,
          0.5177256213520802,
          0.1964416873477592,
          0.15458035049953972,
          0.11118439549166904,
          0.08248347760373397,
          0.08129669268384,
          0.08129669268384,
          0.08129669268384,
          0.08129669268384
         ]
        },
        {
         "hovertext": "<b>Topic 23</b>:internet_wifi_desktop_laptop_gw_pc",
         "line": {
          "color": "black",
          "width": 1.5
         },
         "mode": "lines+lines",
         "name": "",
         "opacity": 0.1,
         "type": "scatter",
         "x": [
          1,
          2,
          3,
          4,
          5,
          6,
          7,
          8,
          9,
          10
         ],
         "y": [
          0.09742536486788367,
          0.09742536486788367,
          0.09742536486788367,
          0.09742536486788367,
          0.08946849126729627,
          0.07595765632599172,
          0.07297626995576341,
          0.05553932470480158,
          0.05553932470480158,
          0.05553932470480158
         ]
        },
        {
         "hovertext": "<b>Topic 24</b>:kasih_teman_tau_ngelunasin_setuju_",
         "line": {
          "color": "black",
          "width": 1.5
         },
         "mode": "lines+lines",
         "name": "",
         "opacity": 0.1,
         "type": "scatter",
         "x": [
          1,
          2,
          3,
          4,
          5,
          6,
          7,
          8,
          9,
          10
         ],
         "y": [
          0.14116535502863078,
          0.10081205963326809,
          0.07755356021777798,
          0.06677942613315428,
          0.06677942613315428,
          0.06677942613315428,
          0.06677942613315428,
          0.06677942613315428,
          0.06677942613315428,
          0.06677942613315428
         ]
        },
        {
         "hovertext": "<b>Topic 25</b>:foundation_deadline_intermediate_5",
         "line": {
          "color": "black",
          "width": 1.5
         },
         "mode": "lines+lines",
         "name": "",
         "opacity": 0.1,
         "type": "scatter",
         "x": [
          1,
          2,
          3,
          4,
          5,
          6,
          7,
          8,
          9,
          10
         ],
         "y": [
          0.20951945966741078,
          0.09510455826493039,
          0.08380778386696432,
          0.081950448476076,
          0.07770154052425622,
          0.06348362484939517,
          0.058298823341915634,
          0.058298823341915634,
          0.054633632317383996,
          0.054167384200072416
         ]
        },
        {
         "hovertext": "<b>Topic 26</b>:iyaa_yuhuuu_yezzzzz_yez_yeay_ooo_h",
         "line": {
          "color": "black",
          "width": 1.5
         },
         "mode": "lines+lines",
         "name": "",
         "opacity": 0.1,
         "type": "scatter",
         "x": [
          1,
          2,
          3,
          4,
          5,
          6,
          7,
          8,
          9,
          10
         ],
         "y": [
          0.7870485372419762,
          0.373964786345664,
          0.373964786345664,
          0.373964786345664,
          0.373964786345664,
          0.373964786345664,
          0.373964786345664,
          0.373964786345664,
          0.373964786345664,
          0.32799872838854166
         ]
        },
        {
         "hovertext": "<b>Topic 27</b>:tidur_malam_goodnight_bomat_keatas",
         "line": {
          "color": "black",
          "width": 1.5
         },
         "mode": "lines+lines",
         "name": "",
         "opacity": 0.1,
         "type": "scatter",
         "x": [
          1,
          2,
          3,
          4,
          5,
          6,
          7,
          8,
          9,
          10
         ],
         "y": [
          0.4218209564478965,
          0.20413116578406296,
          0.16677901443485169,
          0.09507579313872813,
          0.09507579313872813,
          0.09507579313872813,
          0.09507579313872813,
          0.09507579313872813,
          0.09507579313872813,
          0.09507579313872813
         ]
        },
        {
         "hovertext": "<b>Topic 28</b>:oke_up_ok_alrightyyy_okay_____",
         "line": {
          "color": "black",
          "width": 1.5
         },
         "mode": "lines+lines",
         "name": "",
         "opacity": 0.1,
         "type": "scatter",
         "x": [
          1,
          2,
          3,
          4,
          5,
          6,
          7,
          8,
          9,
          10
         ],
         "y": [
          0.9265030550281184,
          0.9213254081915131,
          0.834830494486017,
          0.46745598293207996,
          0.37651323408320514,
          0.00001,
          0.00001,
          0.00001,
          0.00001,
          0.00001
         ]
        },
        {
         "hovertext": "<b>Topic 29</b>:tl_simulation_27_rangkap_rabu_janu",
         "line": {
          "color": "black",
          "width": 1.5
         },
         "mode": "lines+lines",
         "name": "",
         "opacity": 0.1,
         "type": "scatter",
         "x": [
          1,
          2,
          3,
          4,
          5,
          6,
          7,
          8,
          9,
          10
         ],
         "y": [
          0.21336134176415042,
          0.20162411926653617,
          0.06677942613315428,
          0.06677942613315428,
          0.06677942613315428,
          0.06677942613315428,
          0.06677942613315428,
          0.06677942613315428,
          0.06677942613315428,
          0.06677942613315428
         ]
        },
        {
         "hovertext": "<b>Topic 30</b>:makan_enak_akhirny_go_sarapan_lgi_",
         "line": {
          "color": "black",
          "width": 1.5
         },
         "mode": "lines+lines",
         "name": "",
         "opacity": 0.1,
         "type": "scatter",
         "x": [
          1,
          2,
          3,
          4,
          5,
          6,
          7,
          8,
          9,
          10
         ],
         "y": [
          0.593235714783707,
          0.25016488985625535,
          0.12194503902576,
          0.12194503902576,
          0.12194503902576,
          0.12194503902576,
          0.12194503902576,
          0.12194503902576,
          0.12194503902576,
          0.12194503902576
         ]
        },
        {
         "hovertext": "<b>Topic 31</b>:gasss_gas_panas2in_option_gasssss_",
         "line": {
          "color": "black",
          "width": 1.5
         },
         "mode": "lines+lines",
         "name": "",
         "opacity": 0.1,
         "type": "scatter",
         "x": [
          1,
          2,
          3,
          4,
          5,
          6,
          7,
          8,
          9,
          10
         ],
         "y": [
          0.4460304237747188,
          0.400131406046224,
          0.2288363221315407,
          0.2288363221315407,
          0.13045283244616185,
          0.13045283244616185,
          0.13045283244616185,
          0.13045283244616185,
          0.13045283244616185,
          0.13045283244616185
         ]
        },
        {
         "hovertext": "<b>Topic 32</b>:freak_ih_wah_clubnya_marah_mampus_",
         "line": {
          "color": "black",
          "width": 1.5
         },
         "mode": "lines+lines",
         "name": "",
         "opacity": 0.1,
         "type": "scatter",
         "x": [
          1,
          2,
          3,
          4,
          5,
          6,
          7,
          8,
          9,
          10
         ],
         "y": [
          0.27333227365711804,
          0.21310342469236565,
          0.1855178876635593,
          0.15581866097736,
          0.15581866097736,
          0.15581866097736,
          0.15581866097736,
          0.15581866097736,
          0.15581866097736,
          0.15581866097736
         ]
        },
        {
         "hovertext": "<b>Topic 33</b>:duit_gaji_pengen_stock_jt_kutunggu",
         "line": {
          "color": "black",
          "width": 1.5
         },
         "mode": "lines+lines",
         "name": "",
         "opacity": 0.1,
         "type": "scatter",
         "x": [
          1,
          2,
          3,
          4,
          5,
          6,
          7,
          8,
          9,
          10
         ],
         "y": [
          0.14909033108570077,
          0.1369139033029837,
          0.09588083601130927,
          0.08499199689674182,
          0.08499199689674182,
          0.08499199689674182,
          0.08499199689674182,
          0.08499199689674182,
          0.08499199689674182,
          0.08499199689674182
         ]
        },
        {
         "hovertext": "<b>Topic 34</b>:assignmentnya_kakak_peer_kerjain_d",
         "line": {
          "color": "black",
          "width": 1.5
         },
         "mode": "lines+lines",
         "name": "",
         "opacity": 0.1,
         "type": "scatter",
         "x": [
          1,
          2,
          3,
          4,
          5,
          6,
          7,
          8,
          9,
          10
         ],
         "y": [
          0.0993001936043618,
          0.09528698102954389,
          0.08099564028057259,
          0.07813951783493217,
          0.06953994699721332,
          0.06254241708414994,
          0.06226842514409267,
          0.061642547199834724,
          0.061642547199834724,
          0.061642547199834724
         ]
        },
        {
         "hovertext": "<b>Topic 35</b>:gua_lu_sini_menduakan_datengin_nga",
         "line": {
          "color": "black",
          "width": 1.5
         },
         "mode": "lines+lines",
         "name": "",
         "opacity": 0.1,
         "type": "scatter",
         "x": [
          1,
          2,
          3,
          4,
          5,
          6,
          7,
          8,
          9,
          10
         ],
         "y": [
          0.33375563200043845,
          0.10555098095257046,
          0.08221649683151562,
          0.07100597209094886,
          0.07100597209094886,
          0.07100597209094886,
          0.07100597209094886,
          0.07100597209094886,
          0.07100597209094886,
          0.07100597209094886
         ]
        },
        {
         "hovertext": "<b>Topic 36</b>:gara_cepetan_disawer_terbaca_semua",
         "line": {
          "color": "black",
          "width": 1.5
         },
         "mode": "lines+lines",
         "name": "",
         "opacity": 0.1,
         "type": "scatter",
         "x": [
          1,
          2,
          3,
          4,
          5,
          6,
          7,
          8,
          9,
          10
         ],
         "y": [
          0.3174181242469758,
          0.18095070307048255,
          0.18095070307048255,
          0.18095070307048255,
          0.17004194653507382,
          0.1587090621234879,
          0.1587090621234879,
          0.14898255714275574,
          0.14574705835478907,
          0.13658408079346
         ]
        }
       ],
       "layout": {
        "height": 500,
        "hoverlabel": {
         "bgcolor": "white",
         "font": {
          "family": "Rockwell",
          "size": 16
         }
        },
        "showlegend": false,
        "template": {
         "data": {
          "bar": [
           {
            "error_x": {
             "color": "#2a3f5f"
            },
            "error_y": {
             "color": "#2a3f5f"
            },
            "marker": {
             "line": {
              "color": "white",
              "width": 0.5
             }
            },
            "type": "bar"
           }
          ],
          "barpolar": [
           {
            "marker": {
             "line": {
              "color": "white",
              "width": 0.5
             }
            },
            "type": "barpolar"
           }
          ],
          "carpet": [
           {
            "aaxis": {
             "endlinecolor": "#2a3f5f",
             "gridcolor": "#C8D4E3",
             "linecolor": "#C8D4E3",
             "minorgridcolor": "#C8D4E3",
             "startlinecolor": "#2a3f5f"
            },
            "baxis": {
             "endlinecolor": "#2a3f5f",
             "gridcolor": "#C8D4E3",
             "linecolor": "#C8D4E3",
             "minorgridcolor": "#C8D4E3",
             "startlinecolor": "#2a3f5f"
            },
            "type": "carpet"
           }
          ],
          "choropleth": [
           {
            "colorbar": {
             "outlinewidth": 0,
             "ticks": ""
            },
            "type": "choropleth"
           }
          ],
          "contour": [
           {
            "colorbar": {
             "outlinewidth": 0,
             "ticks": ""
            },
            "colorscale": [
             [
              0,
              "#0d0887"
             ],
             [
              0.1111111111111111,
              "#46039f"
             ],
             [
              0.2222222222222222,
              "#7201a8"
             ],
             [
              0.3333333333333333,
              "#9c179e"
             ],
             [
              0.4444444444444444,
              "#bd3786"
             ],
             [
              0.5555555555555556,
              "#d8576b"
             ],
             [
              0.6666666666666666,
              "#ed7953"
             ],
             [
              0.7777777777777778,
              "#fb9f3a"
             ],
             [
              0.8888888888888888,
              "#fdca26"
             ],
             [
              1,
              "#f0f921"
             ]
            ],
            "type": "contour"
           }
          ],
          "contourcarpet": [
           {
            "colorbar": {
             "outlinewidth": 0,
             "ticks": ""
            },
            "type": "contourcarpet"
           }
          ],
          "heatmap": [
           {
            "colorbar": {
             "outlinewidth": 0,
             "ticks": ""
            },
            "colorscale": [
             [
              0,
              "#0d0887"
             ],
             [
              0.1111111111111111,
              "#46039f"
             ],
             [
              0.2222222222222222,
              "#7201a8"
             ],
             [
              0.3333333333333333,
              "#9c179e"
             ],
             [
              0.4444444444444444,
              "#bd3786"
             ],
             [
              0.5555555555555556,
              "#d8576b"
             ],
             [
              0.6666666666666666,
              "#ed7953"
             ],
             [
              0.7777777777777778,
              "#fb9f3a"
             ],
             [
              0.8888888888888888,
              "#fdca26"
             ],
             [
              1,
              "#f0f921"
             ]
            ],
            "type": "heatmap"
           }
          ],
          "heatmapgl": [
           {
            "colorbar": {
             "outlinewidth": 0,
             "ticks": ""
            },
            "colorscale": [
             [
              0,
              "#0d0887"
             ],
             [
              0.1111111111111111,
              "#46039f"
             ],
             [
              0.2222222222222222,
              "#7201a8"
             ],
             [
              0.3333333333333333,
              "#9c179e"
             ],
             [
              0.4444444444444444,
              "#bd3786"
             ],
             [
              0.5555555555555556,
              "#d8576b"
             ],
             [
              0.6666666666666666,
              "#ed7953"
             ],
             [
              0.7777777777777778,
              "#fb9f3a"
             ],
             [
              0.8888888888888888,
              "#fdca26"
             ],
             [
              1,
              "#f0f921"
             ]
            ],
            "type": "heatmapgl"
           }
          ],
          "histogram": [
           {
            "marker": {
             "colorbar": {
              "outlinewidth": 0,
              "ticks": ""
             }
            },
            "type": "histogram"
           }
          ],
          "histogram2d": [
           {
            "colorbar": {
             "outlinewidth": 0,
             "ticks": ""
            },
            "colorscale": [
             [
              0,
              "#0d0887"
             ],
             [
              0.1111111111111111,
              "#46039f"
             ],
             [
              0.2222222222222222,
              "#7201a8"
             ],
             [
              0.3333333333333333,
              "#9c179e"
             ],
             [
              0.4444444444444444,
              "#bd3786"
             ],
             [
              0.5555555555555556,
              "#d8576b"
             ],
             [
              0.6666666666666666,
              "#ed7953"
             ],
             [
              0.7777777777777778,
              "#fb9f3a"
             ],
             [
              0.8888888888888888,
              "#fdca26"
             ],
             [
              1,
              "#f0f921"
             ]
            ],
            "type": "histogram2d"
           }
          ],
          "histogram2dcontour": [
           {
            "colorbar": {
             "outlinewidth": 0,
             "ticks": ""
            },
            "colorscale": [
             [
              0,
              "#0d0887"
             ],
             [
              0.1111111111111111,
              "#46039f"
             ],
             [
              0.2222222222222222,
              "#7201a8"
             ],
             [
              0.3333333333333333,
              "#9c179e"
             ],
             [
              0.4444444444444444,
              "#bd3786"
             ],
             [
              0.5555555555555556,
              "#d8576b"
             ],
             [
              0.6666666666666666,
              "#ed7953"
             ],
             [
              0.7777777777777778,
              "#fb9f3a"
             ],
             [
              0.8888888888888888,
              "#fdca26"
             ],
             [
              1,
              "#f0f921"
             ]
            ],
            "type": "histogram2dcontour"
           }
          ],
          "mesh3d": [
           {
            "colorbar": {
             "outlinewidth": 0,
             "ticks": ""
            },
            "type": "mesh3d"
           }
          ],
          "parcoords": [
           {
            "line": {
             "colorbar": {
              "outlinewidth": 0,
              "ticks": ""
             }
            },
            "type": "parcoords"
           }
          ],
          "pie": [
           {
            "automargin": true,
            "type": "pie"
           }
          ],
          "scatter": [
           {
            "marker": {
             "colorbar": {
              "outlinewidth": 0,
              "ticks": ""
             }
            },
            "type": "scatter"
           }
          ],
          "scatter3d": [
           {
            "line": {
             "colorbar": {
              "outlinewidth": 0,
              "ticks": ""
             }
            },
            "marker": {
             "colorbar": {
              "outlinewidth": 0,
              "ticks": ""
             }
            },
            "type": "scatter3d"
           }
          ],
          "scattercarpet": [
           {
            "marker": {
             "colorbar": {
              "outlinewidth": 0,
              "ticks": ""
             }
            },
            "type": "scattercarpet"
           }
          ],
          "scattergeo": [
           {
            "marker": {
             "colorbar": {
              "outlinewidth": 0,
              "ticks": ""
             }
            },
            "type": "scattergeo"
           }
          ],
          "scattergl": [
           {
            "marker": {
             "colorbar": {
              "outlinewidth": 0,
              "ticks": ""
             }
            },
            "type": "scattergl"
           }
          ],
          "scattermapbox": [
           {
            "marker": {
             "colorbar": {
              "outlinewidth": 0,
              "ticks": ""
             }
            },
            "type": "scattermapbox"
           }
          ],
          "scatterpolar": [
           {
            "marker": {
             "colorbar": {
              "outlinewidth": 0,
              "ticks": ""
             }
            },
            "type": "scatterpolar"
           }
          ],
          "scatterpolargl": [
           {
            "marker": {
             "colorbar": {
              "outlinewidth": 0,
              "ticks": ""
             }
            },
            "type": "scatterpolargl"
           }
          ],
          "scatterternary": [
           {
            "marker": {
             "colorbar": {
              "outlinewidth": 0,
              "ticks": ""
             }
            },
            "type": "scatterternary"
           }
          ],
          "surface": [
           {
            "colorbar": {
             "outlinewidth": 0,
             "ticks": ""
            },
            "colorscale": [
             [
              0,
              "#0d0887"
             ],
             [
              0.1111111111111111,
              "#46039f"
             ],
             [
              0.2222222222222222,
              "#7201a8"
             ],
             [
              0.3333333333333333,
              "#9c179e"
             ],
             [
              0.4444444444444444,
              "#bd3786"
             ],
             [
              0.5555555555555556,
              "#d8576b"
             ],
             [
              0.6666666666666666,
              "#ed7953"
             ],
             [
              0.7777777777777778,
              "#fb9f3a"
             ],
             [
              0.8888888888888888,
              "#fdca26"
             ],
             [
              1,
              "#f0f921"
             ]
            ],
            "type": "surface"
           }
          ],
          "table": [
           {
            "cells": {
             "fill": {
              "color": "#EBF0F8"
             },
             "line": {
              "color": "white"
             }
            },
            "header": {
             "fill": {
              "color": "#C8D4E3"
             },
             "line": {
              "color": "white"
             }
            },
            "type": "table"
           }
          ]
         },
         "layout": {
          "annotationdefaults": {
           "arrowcolor": "#2a3f5f",
           "arrowhead": 0,
           "arrowwidth": 1
          },
          "autotypenumbers": "strict",
          "coloraxis": {
           "colorbar": {
            "outlinewidth": 0,
            "ticks": ""
           }
          },
          "colorscale": {
           "diverging": [
            [
             0,
             "#8e0152"
            ],
            [
             0.1,
             "#c51b7d"
            ],
            [
             0.2,
             "#de77ae"
            ],
            [
             0.3,
             "#f1b6da"
            ],
            [
             0.4,
             "#fde0ef"
            ],
            [
             0.5,
             "#f7f7f7"
            ],
            [
             0.6,
             "#e6f5d0"
            ],
            [
             0.7,
             "#b8e186"
            ],
            [
             0.8,
             "#7fbc41"
            ],
            [
             0.9,
             "#4d9221"
            ],
            [
             1,
             "#276419"
            ]
           ],
           "sequential": [
            [
             0,
             "#0d0887"
            ],
            [
             0.1111111111111111,
             "#46039f"
            ],
            [
             0.2222222222222222,
             "#7201a8"
            ],
            [
             0.3333333333333333,
             "#9c179e"
            ],
            [
             0.4444444444444444,
             "#bd3786"
            ],
            [
             0.5555555555555556,
             "#d8576b"
            ],
            [
             0.6666666666666666,
             "#ed7953"
            ],
            [
             0.7777777777777778,
             "#fb9f3a"
            ],
            [
             0.8888888888888888,
             "#fdca26"
            ],
            [
             1,
             "#f0f921"
            ]
           ],
           "sequentialminus": [
            [
             0,
             "#0d0887"
            ],
            [
             0.1111111111111111,
             "#46039f"
            ],
            [
             0.2222222222222222,
             "#7201a8"
            ],
            [
             0.3333333333333333,
             "#9c179e"
            ],
            [
             0.4444444444444444,
             "#bd3786"
            ],
            [
             0.5555555555555556,
             "#d8576b"
            ],
            [
             0.6666666666666666,
             "#ed7953"
            ],
            [
             0.7777777777777778,
             "#fb9f3a"
            ],
            [
             0.8888888888888888,
             "#fdca26"
            ],
            [
             1,
             "#f0f921"
            ]
           ]
          },
          "colorway": [
           "#636efa",
           "#EF553B",
           "#00cc96",
           "#ab63fa",
           "#FFA15A",
           "#19d3f3",
           "#FF6692",
           "#B6E880",
           "#FF97FF",
           "#FECB52"
          ],
          "font": {
           "color": "#2a3f5f"
          },
          "geo": {
           "bgcolor": "white",
           "lakecolor": "white",
           "landcolor": "white",
           "showlakes": true,
           "showland": true,
           "subunitcolor": "#C8D4E3"
          },
          "hoverlabel": {
           "align": "left"
          },
          "hovermode": "closest",
          "mapbox": {
           "style": "light"
          },
          "paper_bgcolor": "white",
          "plot_bgcolor": "white",
          "polar": {
           "angularaxis": {
            "gridcolor": "#EBF0F8",
            "linecolor": "#EBF0F8",
            "ticks": ""
           },
           "bgcolor": "white",
           "radialaxis": {
            "gridcolor": "#EBF0F8",
            "linecolor": "#EBF0F8",
            "ticks": ""
           }
          },
          "scene": {
           "xaxis": {
            "backgroundcolor": "white",
            "gridcolor": "#DFE8F3",
            "gridwidth": 2,
            "linecolor": "#EBF0F8",
            "showbackground": true,
            "ticks": "",
            "zerolinecolor": "#EBF0F8"
           },
           "yaxis": {
            "backgroundcolor": "white",
            "gridcolor": "#DFE8F3",
            "gridwidth": 2,
            "linecolor": "#EBF0F8",
            "showbackground": true,
            "ticks": "",
            "zerolinecolor": "#EBF0F8"
           },
           "zaxis": {
            "backgroundcolor": "white",
            "gridcolor": "#DFE8F3",
            "gridwidth": 2,
            "linecolor": "#EBF0F8",
            "showbackground": true,
            "ticks": "",
            "zerolinecolor": "#EBF0F8"
           }
          },
          "shapedefaults": {
           "line": {
            "color": "#2a3f5f"
           }
          },
          "ternary": {
           "aaxis": {
            "gridcolor": "#DFE8F3",
            "linecolor": "#A2B1C6",
            "ticks": ""
           },
           "baxis": {
            "gridcolor": "#DFE8F3",
            "linecolor": "#A2B1C6",
            "ticks": ""
           },
           "bgcolor": "white",
           "caxis": {
            "gridcolor": "#DFE8F3",
            "linecolor": "#A2B1C6",
            "ticks": ""
           }
          },
          "title": {
           "x": 0.05
          },
          "xaxis": {
           "automargin": true,
           "gridcolor": "#EBF0F8",
           "linecolor": "#EBF0F8",
           "ticks": "",
           "title": {
            "standoff": 15
           },
           "zerolinecolor": "#EBF0F8",
           "zerolinewidth": 2
          },
          "yaxis": {
           "automargin": true,
           "gridcolor": "#EBF0F8",
           "linecolor": "#EBF0F8",
           "ticks": "",
           "title": {
            "standoff": 15
           },
           "zerolinecolor": "#EBF0F8",
           "zerolinewidth": 2
          }
         }
        },
        "title": {
         "font": {
          "color": "Black",
          "size": 22
         },
         "text": "",
         "x": 0.5,
         "xanchor": "center",
         "y": 0.9,
         "yanchor": "top"
        },
        "width": 800,
        "xaxis": {
         "dtick": 2,
         "range": [
          0,
          10
         ],
         "tick0": 1,
         "title": {
          "text": "Term Rank"
         }
        },
        "yaxis": {
         "title": {
          "text": "c-TF-IDF score"
         }
        }
       }
      }
     },
     "metadata": {},
     "output_type": "display_data"
    }
   ],
   "source": [
    "fig = model.visualize_term_rank(title='')\n",
    "py.plot(fig, filename='Term score decline', auto_open=False)\n",
    "fig"
   ]
  }
 ],
 "metadata": {
  "kernelspec": {
   "display_name": "Python 3",
   "language": "python",
   "name": "python3"
  },
  "language_info": {
   "codemirror_mode": {
    "name": "ipython",
    "version": 3
   },
   "file_extension": ".py",
   "mimetype": "text/x-python",
   "name": "python",
   "nbconvert_exporter": "python",
   "pygments_lexer": "ipython3",
   "version": "3.9.2"
  },
  "orig_nbformat": 4
 },
 "nbformat": 4,
 "nbformat_minor": 2
}
