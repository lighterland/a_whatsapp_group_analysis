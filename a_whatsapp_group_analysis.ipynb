{
 "cells": [
  {
   "cell_type": "code",
   "execution_count": null,
   "metadata": {},
   "outputs": [],
   "source": [
    "import chart_studio, emoji, emot, os, re, stylecloud\n",
    "\n",
    "import chart_studio.plotly as py\n",
    "import pandas as pd\n",
    "import plotly.graph_objs as go\n",
    "\n",
    "from bertopic import BERTopic\n",
    "from collections import Counter\n",
    "from datetime import timedelta\n",
    "from emosent import get_emoji_sentiment_rank\n",
    "from nltk.sentiment.vader import SentimentIntensityAnalyzer\n",
    "from plotly.subplots import make_subplots\n",
    "from umap import UMAP\n",
    "from whatstk import WhatsAppChat, FigureBuilder\n"
   ]
  },
  {
   "cell_type": "code",
   "execution_count": null,
   "metadata": {},
   "outputs": [],
   "source": [
    "chart_studio.tools.set_credentials_file(username=os.getenv('CHART_STUDIO_USERNAME'),\n",
    "                                        api_key=os.getenv('CHART_STUDIO_API_KEY'))"
   ]
  },
  {
   "attachments": {},
   "cell_type": "markdown",
   "metadata": {},
   "source": [
    "# Data preparation"
   ]
  },
  {
   "cell_type": "code",
   "execution_count": null,
   "metadata": {},
   "outputs": [],
   "source": [
    "chat = WhatsAppChat.from_source(filepath='whatsapp_chat.txt', hformat='%d/%m/%Y, %I:%M %p - %name:').df\n",
    "chat"
   ]
  },
  {
   "attachments": {},
   "cell_type": "markdown",
   "metadata": {},
   "source": [
    "Text cleaning"
   ]
  },
  {
   "cell_type": "code",
   "execution_count": null,
   "metadata": {},
   "outputs": [],
   "source": [
    "def clean_text(text):\n",
    "    text = text.replace('<Media omitted>', '').replace('This message was deleted', '').replace('\\n', ' ').strip()\n",
    "    text = re.sub(r'http\\S+', '', text)\n",
    "    text = re.sub(r'[0-9]+','', text)\n",
    "    text = re.sub(r'\\s+',' ', text)\n",
    "    text = re.sub(r'[^\\w\\s]|_', '', text)\n",
    "    text = re.sub(r'([a-zA-Z])\\1\\1','\\\\1', text)\n",
    "    return text.lower()\n",
    "\n",
    "chat['clean_msg'] = chat['message'].apply(clean_text)\n",
    "\n",
    "# replace slang words with their formal equivalents\n",
    "lexicon_df = pd.read_csv('lexicon/kamus-alay/colloquial-indonesian-lexicon.csv')\n",
    "lexicon_dict = dict(zip(lexicon_df.slang, lexicon_df.formal))\n",
    "chat['clean_msg'] = chat['clean_msg'].apply(lambda x: ' '.join([lexicon_dict.get(word, word) for word in x.split()]))\n",
    "\n",
    "# remove stop words\n",
    "with open('lexicon/ID-Stopwords/id.stopwords.02.01.2016.txt', 'r') as f:\n",
    "    stop_words = f.read().splitlines()\n",
    "chat['clean_msg'] = chat['clean_msg'].apply(lambda x: ' '.join([word for word in x.split() if word not in stop_words]))\n",
    "\n",
    "chat.sample(5)"
   ]
  },
  {
   "attachments": {},
   "cell_type": "markdown",
   "metadata": {},
   "source": [
    "Handling emoticon"
   ]
  },
  {
   "cell_type": "code",
   "execution_count": null,
   "metadata": {},
   "outputs": [],
   "source": [
    "emot_obj = emot.emot()\n",
    "\n",
    "chat['message'].apply(lambda x: '' if re.compile(r'http\\S+').search(x) else ''.join(emot_obj.emoticons(x)['value'])\n",
    "                      ).value_counts().rename_axis('emoticon').reset_index(name='count').query(\"emoticon != ''\")[['emoticon']]"
   ]
  },
  {
   "cell_type": "code",
   "execution_count": null,
   "metadata": {},
   "outputs": [],
   "source": [
    "chat['message'] = chat['message'].replace({':\\(': '☹️', '>:\\(': '😠',\n",
    "                                           ':\\)': '🙂', ':D': '😃'\n",
    "                                           }, regex=True)"
   ]
  },
  {
   "attachments": {},
   "cell_type": "markdown",
   "metadata": {},
   "source": [
    "Feature engineering"
   ]
  },
  {
   "cell_type": "code",
   "execution_count": null,
   "metadata": {},
   "outputs": [],
   "source": [
    "# emoji extraction\n",
    "chat['emoji'] = chat['message'].apply(lambda x: ''.join(c for c in x if c in emoji.EMOJI_DATA))\n",
    "\n",
    "# shift all dates back by one hour (UTC+7)\n",
    "chat['date'] = chat['date'] - timedelta(hours=1)\n",
    "\n",
    "# date extraction\n",
    "chat['hour'] = chat['date'].dt.hour\n",
    "chat['day_name'] = chat['date'].dt.day_name()\n",
    "chat['week'] = (chat['date'] - pd.Timestamp('2023-01-09')).dt.days // 7\n",
    "\n",
    "# module creation\n",
    "chat['module_name'] = chat.week.map({0: 'Introduction & Orientation',\n",
    "                                     1: 'Understanding Business Problems',\n",
    "                                     2: 'Spreadsheet & Statistics', 3: 'Spreadsheet & Statistics',\n",
    "                                     4: 'SQL', 5: 'SQL',\n",
    "                                     6: 'Python', 7: 'Python', 8: 'Python',\n",
    "                                     9: 'Group Final Project Preparation Week',\n",
    "                                     10: 'Data Visualization', 11: 'Data Visualization',\n",
    "                                     12: 'Data Communication',\n",
    "                                     13: 'Pitching Week'\n",
    "                                     }).fillna('')\n",
    "\n",
    "chat.sample(5)"
   ]
  },
  {
   "attachments": {},
   "cell_type": "markdown",
   "metadata": {},
   "source": [
    "# Exploratory data analysis"
   ]
  },
  {
   "attachments": {},
   "cell_type": "markdown",
   "metadata": {},
   "source": [
    "## Total messages"
   ]
  },
  {
   "cell_type": "code",
   "execution_count": null,
   "metadata": {},
   "outputs": [],
   "source": [
    "chat.groupby('username').agg({'message': 'count',\n",
    "                              'emoji': lambda x: ' '.join(set(emoji for emojis in x.dropna() for emoji in emojis))\n",
    "                              }).sort_values(by='message', ascending=False)"
   ]
  },
  {
   "attachments": {},
   "cell_type": "markdown",
   "metadata": {},
   "source": [
    "Emoji frequency in chats"
   ]
  },
  {
   "cell_type": "code",
   "execution_count": null,
   "metadata": {},
   "outputs": [],
   "source": [
    "fig = go.Figure(data=go.Pie(labels=['Chats without emoji', 'Chats with emoji'],\n",
    "                            values=chat.assign(is_emoji=chat['emoji'].apply(lambda x: True if x != '' else False)).groupby('is_emoji').count()[['message']].reset_index()['message'],\n",
    "                            hole=.4, marker=dict(colors=[ '#25D366', '#075E54',])))\n",
    "fig.update_traces(hoverinfo='label+value')\n",
    "py.plot(fig, filename='Emoji frequency in chats', auto_open=False)\n",
    "fig"
   ]
  },
  {
   "cell_type": "code",
   "execution_count": null,
   "metadata": {},
   "outputs": [],
   "source": [
    "pd.DataFrame(Counter([emoji for message in chat.emoji for emoji in message]).most_common(),\n",
    "             columns=['emoji', 'count'],\n",
    "             index=range(1, len(Counter([emoji for message in chat.emoji for emoji in message]).most_common())+1)\n",
    "             ).head()"
   ]
  },
  {
   "attachments": {},
   "cell_type": "markdown",
   "metadata": {},
   "source": [
    "Message length boxplot"
   ]
  },
  {
   "cell_type": "code",
   "execution_count": null,
   "metadata": {},
   "outputs": [],
   "source": [
    "fig = FigureBuilder(chat.assign(message=chat['message'].apply(lambda x: ''.join([' ' for i in range(len(x.split())) if x != '<Media omitted>'])))\n",
    "                    ).user_msg_length_boxplot(title=None, xlabel=None)\n",
    "py.plot(fig, filename='Message length boxplot', auto_open=False)\n",
    "fig"
   ]
  },
  {
   "attachments": {},
   "cell_type": "markdown",
   "metadata": {},
   "source": [
    "### Word cloud"
   ]
  },
  {
   "cell_type": "code",
   "execution_count": null,
   "metadata": {},
   "outputs": [],
   "source": [
    "stylecloud.gen_stylecloud(' '.join(chat['clean_msg']),\n",
    "                          icon_name= 'fab fa-whatsapp',\n",
    "                          colors= ['#25D366', '#128C7E', '#075E54'],\n",
    "                          random_state= 13\n",
    "                          )"
   ]
  },
  {
   "attachments": {},
   "cell_type": "markdown",
   "metadata": {},
   "source": [
    "*stylecloud.png*<br>\n",
    "![stylecloud.png](stylecloud.png)"
   ]
  },
  {
   "attachments": {},
   "cell_type": "markdown",
   "metadata": {},
   "source": [
    "## Message activity"
   ]
  },
  {
   "attachments": {},
   "cell_type": "markdown",
   "metadata": {},
   "source": [
    "All users interventions count"
   ]
  },
  {
   "cell_type": "code",
   "execution_count": null,
   "metadata": {},
   "outputs": [],
   "source": [
    "fig = FigureBuilder(chat).user_interventions_count_linechart(title=None, xlabel=None, all_users=True)\n",
    "py.plot(fig, filename='All users interventions count', auto_open=False)\n",
    "fig"
   ]
  },
  {
   "attachments": {},
   "cell_type": "markdown",
   "metadata": {},
   "source": [
    "Cumulative interventions count"
   ]
  },
  {
   "cell_type": "code",
   "execution_count": null,
   "metadata": {},
   "outputs": [],
   "source": [
    "fig = FigureBuilder(chat).user_interventions_count_linechart(cumulative=True, title=None, xlabel=None)\n",
    "py.plot(fig, filename='Cumulative interventions count', auto_open=False)\n",
    "fig"
   ]
  },
  {
   "attachments": {},
   "cell_type": "markdown",
   "metadata": {},
   "source": [
    "Interventions heatmap by module"
   ]
  },
  {
   "cell_type": "code",
   "execution_count": null,
   "metadata": {},
   "outputs": [],
   "source": [
    "pivot = pd.pivot_table(chat[chat.module_name != ''],\n",
    "                       index='module_name',\n",
    "                       columns='username',\n",
    "                       values='message', aggfunc='count').fillna(0).apply(lambda x: x/x.sum(), axis=0)\n",
    "heatmap = go.Heatmap(z=pivot.values,\n",
    "                     x=pivot.columns,\n",
    "                     y=pivot.index,\n",
    "                     hovertemplate='Interventions<extra>%{z:.2%}</extra>',\n",
    "                     colorscale='Greens')\n",
    "fig = go.Figure(data=[heatmap]).update_layout(yaxis={'categoryorder': 'array',\n",
    "                                                     'categoryarray': ['Introduction & Orientation',\n",
    "                                                                       'Understanding Business Problems',\n",
    "                                                                       'Spreadsheet & Statistics', 'SQL',\n",
    "                                                                       'Python', 'Group Final Project Preparation Week',\n",
    "                                                                       'Data Visualization', 'Data Communication',\n",
    "                                                                       'Pitching Week'\n",
    "                                                                       ]})\n",
    "py.plot(fig, filename='Interventions heatmap by module', auto_open=False)\n",
    "fig"
   ]
  },
  {
   "attachments": {},
   "cell_type": "markdown",
   "metadata": {},
   "source": [
    "Interventions heatmap by day & hour"
   ]
  },
  {
   "cell_type": "code",
   "execution_count": null,
   "metadata": {},
   "outputs": [],
   "source": [
    "pivot = pd.pivot_table(chat, index='hour', columns='day_name', values='message', aggfunc='count').fillna(0)\n",
    "heatmap = go.Heatmap(z=pivot.values,\n",
    "                     x=pivot.columns,\n",
    "                     y=pivot.index,\n",
    "                     hovertemplate='Interventions at %{y}-hour<extra>%{z}</extra>',\n",
    "                     colorscale='Greens')\n",
    "fig = go.Figure(data=[heatmap]).update_layout(xaxis={'categoryorder': 'array',\n",
    "                                                     'categoryarray': ['Monday', 'Tuesday', 'Wednesday',\n",
    "                                                                       'Thursday', 'Friday', 'Saturday', 'Sunday']})\n",
    "py.plot(fig, filename='Interventions heatmap by day & hour', auto_open=False)\n",
    "fig"
   ]
  },
  {
   "attachments": {},
   "cell_type": "markdown",
   "metadata": {},
   "source": [
    "Hourly user activity"
   ]
  },
  {
   "cell_type": "code",
   "execution_count": null,
   "metadata": {},
   "outputs": [],
   "source": [
    "fig = FigureBuilder(chat).user_interventions_count_linechart(date_mode='hour', title=None, xlabel=None)\n",
    "py.plot(fig, filename='Hourly user activity', auto_open=False)\n",
    "fig"
   ]
  },
  {
   "attachments": {},
   "cell_type": "markdown",
   "metadata": {},
   "source": [
    "Daily user activity"
   ]
  },
  {
   "cell_type": "code",
   "execution_count": null,
   "metadata": {},
   "outputs": [],
   "source": [
    "fig = FigureBuilder(chat).user_interventions_count_linechart(date_mode='weekday',\n",
    "                                                             title=None,\n",
    "                                                             xlabel=None).update_layout(xaxis={'tickvals': [0, 1, 2, 3, 4, 5, 6],\n",
    "                                                                                               'ticktext': ['Monday', 'Tuesday', 'Wednesday',\n",
    "                                                                                                            'Thursday', 'Friday', 'Saturday', 'Sunday']})\n",
    "py.plot(fig, filename='Daily user activity', auto_open=False)\n",
    "fig"
   ]
  },
  {
   "attachments": {},
   "cell_type": "markdown",
   "metadata": {},
   "source": [
    "## User interaction"
   ]
  },
  {
   "cell_type": "code",
   "execution_count": null,
   "metadata": {},
   "outputs": [],
   "source": [
    "fig = FigureBuilder(chat).user_message_responses_heatmap(title=None)\n",
    "py.plot(fig, filename='User interaction heatmap', auto_open=False)\n",
    "fig"
   ]
  },
  {
   "attachments": {},
   "cell_type": "markdown",
   "metadata": {},
   "source": [
    "User interaction flow"
   ]
  },
  {
   "cell_type": "code",
   "execution_count": null,
   "metadata": {},
   "outputs": [],
   "source": [
    "fig = FigureBuilder(chat).user_message_responses_flow(title=None)\n",
    "py.plot(fig, filename='User interaction flow', auto_open=False)\n",
    "fig"
   ]
  },
  {
   "attachments": {},
   "cell_type": "markdown",
   "metadata": {},
   "source": [
    "# Sentiment analysis"
   ]
  },
  {
   "attachments": {},
   "cell_type": "markdown",
   "metadata": {},
   "source": [
    "Sentiment labels"
   ]
  },
  {
   "cell_type": "code",
   "execution_count": null,
   "metadata": {},
   "outputs": [],
   "source": [
    "# create a function to get the sentiment score of an emoji\n",
    "def emosent_score(emoji):\n",
    "    score, count = 0, 0\n",
    "    for e in set(emoji):\n",
    "        try:\n",
    "            score += get_emoji_sentiment_rank(e)['sentiment_score']\n",
    "            count += 1\n",
    "        except:\n",
    "            continue\n",
    "    return score/count if count != 0 else score\n",
    "\n",
    "# initialize the VADER sentiment analyzer with custom lexicon\n",
    "pos, neg = SentimentIntensityAnalyzer(), SentimentIntensityAnalyzer()\n",
    "\n",
    "pos.lexicon.clear()\n",
    "neg.lexicon.clear()\n",
    "\n",
    "pos.lexicon.update(pd.read_table('lexicon/InSet/positive.tsv').set_index('word').to_dict()['weight'])\n",
    "neg.lexicon.update(pd.read_table('lexicon/InSet/negative.tsv').set_index('word').to_dict()['weight'])\n",
    "\n",
    "chat['sentiment'] = chat.apply(lambda x: (neg.polarity_scores(\n",
    "    x['clean_msg'])['compound'] + pos.polarity_scores(\n",
    "    x['clean_msg'])['compound'] + (\n",
    "    0 if (score:=emosent_score(x['emoji'])) == 0 else score)\n",
    "    ) / ((2 if score != 0 else 1) if (neg.polarity_scores(\n",
    "    x['clean_msg'])['compound'] + pos.polarity_scores(\n",
    "    x['clean_msg'])['compound']) != 0 else 1), axis=1)\n",
    "\n",
    "# extract the compound score and label the sentiment\n",
    "chat['sentiment'] = chat['sentiment'].apply(lambda x: 'positive' if x > 0.05 else ('negative' if x < -0.05 else 'neutral'))\n",
    "\n",
    "chat.sample(5)"
   ]
  },
  {
   "attachments": {},
   "cell_type": "markdown",
   "metadata": {},
   "source": [
    "Sentiment distribution"
   ]
  },
  {
   "cell_type": "code",
   "execution_count": null,
   "metadata": {},
   "outputs": [],
   "source": [
    "fig = go.Figure(data=go.Pie(labels=['Negative', 'Neutral', 'Positive'],\n",
    "                            values=chat.groupby('sentiment').count()[['message']].reset_index()['message'],\n",
    "                            hole=.4, marker=dict(colors=['#075E54','#dcf8c6', '#25D366', ])))\n",
    "fig.update_traces(hoverinfo='label+value')\n",
    "py.plot(fig, filename='Sentiment distribution', auto_open=False)\n",
    "fig"
   ]
  },
  {
   "cell_type": "code",
   "execution_count": null,
   "metadata": {},
   "outputs": [],
   "source": [
    "fig = make_subplots(rows=1, cols=2, specs=[[{'type':'domain'}, {'type':'domain'}]])\n",
    "\n",
    "fig.add_trace(go.Pie(labels=['Negative', 'Neutral', 'Positive'],\n",
    "                     values=chat[chat.emoji == ''].groupby('sentiment').count()[['message']].reset_index()['message'],\n",
    "                     marker=dict(colors=['#075E54','#dcf8c6', '#25D366', ]),\n",
    "                     title=dict(text='<b>without</b>', font=dict(size=16))), 1, 1)\n",
    "fig.add_trace(go.Pie(labels=['Negative', 'Neutral', 'Positive'],\n",
    "                     values=chat[chat.emoji != ''].groupby('sentiment').count()[['message']].reset_index()['message'],\n",
    "                     hole=.4, marker=dict(colors=['#075E54','#dcf8c6', '#25D366', ]),\n",
    "                     title=dict(text='<b>with</b>', font=dict(size=16))), 1, 2)\n",
    "\n",
    "fig.update_traces(hole=.4, hoverinfo='label+value')\n",
    "py.plot(fig, filename='Sentiment of chat with & without emojis', auto_open=False)\n",
    "fig"
   ]
  },
  {
   "attachments": {},
   "cell_type": "markdown",
   "metadata": {},
   "source": [
    "User message sentiment heatmap"
   ]
  },
  {
   "cell_type": "code",
   "execution_count": null,
   "metadata": {},
   "outputs": [],
   "source": [
    "pivot = pd.pivot_table(chat, index='sentiment',\n",
    "                       columns='username',\n",
    "                       values='message',\n",
    "                       aggfunc='count').apply(lambda x: x/x.sum(), axis=0)\n",
    "heatmap = go.Heatmap(z=pivot.values,\n",
    "                     x=pivot.columns,\n",
    "                     y=pivot.index,\n",
    "                     hovertemplate='Interventions<extra>%{z:.2%}</extra>',\n",
    "                     colorscale='Greens')\n",
    "fig = go.Figure(data=[heatmap])\n",
    "py.plot(fig, filename='User message sentiment heatmap', auto_open=False)\n",
    "fig"
   ]
  },
  {
   "attachments": {},
   "cell_type": "markdown",
   "metadata": {},
   "source": [
    "Module sentiment heatmap"
   ]
  },
  {
   "cell_type": "code",
   "execution_count": null,
   "metadata": {},
   "outputs": [],
   "source": [
    "pivot = pd.pivot_table(chat[chat.module_name != ''],\n",
    "                       index='module_name',\n",
    "                       columns='sentiment',\n",
    "                       values='message',\n",
    "                       aggfunc='count').apply(lambda x: x/x.sum(), axis=0)\n",
    "heatmap = go.Heatmap(z=pivot.values,\n",
    "                     x=pivot.columns,\n",
    "                     y=pivot.index,\n",
    "                     hovertemplate='Interventions<extra>%{z:.2%}</extra>',\n",
    "                     colorscale='Greens')\n",
    "fig = go.Figure(data=[heatmap]).update_layout(yaxis={'categoryorder': 'array',\n",
    "                                                     'categoryarray': ['Introduction & Orientation',\n",
    "                                                                       'Understanding Business Problems',\n",
    "                                                                       'Spreadsheet & Statistics', 'SQL',\n",
    "                                                                       'Python', 'Group Final Project Preparation Week',\n",
    "                                                                       'Data Visualization', 'Data Communication',\n",
    "                                                                       'Pitching Week'\n",
    "                                                                       ]})\n",
    "py.plot(fig, filename='Module sentiment heatmap', auto_open=False)\n",
    "fig"
   ]
  },
  {
   "attachments": {},
   "cell_type": "markdown",
   "metadata": {},
   "source": [
    "# Topic modeling"
   ]
  },
  {
   "attachments": {},
   "cell_type": "markdown",
   "metadata": {},
   "source": [
    "Initiate and fit the model"
   ]
  },
  {
   "cell_type": "code",
   "execution_count": null,
   "metadata": {},
   "outputs": [],
   "source": [
    "model = BERTopic(umap_model=UMAP(n_neighbors=15,\n",
    "                                 n_components=5,\n",
    "                                 min_dist=0.0,\n",
    "                                 metric='cosine',\n",
    "                                 random_state=13),\n",
    "                 language='multilingual',\n",
    "                 calculate_probabilities=True,\n",
    "                 nr_topics='auto')\n",
    "\n",
    "topics, probabilities = model.fit_transform(\n",
    "    list(chat[chat.clean_msg != ''].assign(\n",
    "    message=chat.message.str.replace(re.compile(r'http\\S+'), ''))['message'].values))"
   ]
  },
  {
   "attachments": {},
   "cell_type": "markdown",
   "metadata": {},
   "source": [
    "## Extracting topics"
   ]
  },
  {
   "cell_type": "code",
   "execution_count": null,
   "metadata": {},
   "outputs": [],
   "source": [
    "model.get_topic_info()"
   ]
  },
  {
   "attachments": {},
   "cell_type": "markdown",
   "metadata": {},
   "source": [
    "Topic terms bar chart"
   ]
  },
  {
   "cell_type": "code",
   "execution_count": null,
   "metadata": {},
   "outputs": [],
   "source": [
    "fig = model.visualize_barchart(top_n_topics=12, title='')\n",
    "py.plot(fig, filename='Topic terms bar chart', auto_open=False)\n",
    "fig"
   ]
  },
  {
   "attachments": {},
   "cell_type": "markdown",
   "metadata": {},
   "source": [
    "Term score decline"
   ]
  },
  {
   "cell_type": "code",
   "execution_count": null,
   "metadata": {},
   "outputs": [],
   "source": [
    "fig = model.visualize_term_rank(title='')\n",
    "py.plot(fig, filename='Term score decline', auto_open=False)\n",
    "fig"
   ]
  },
  {
   "attachments": {},
   "cell_type": "markdown",
   "metadata": {},
   "source": [
    "Topics over time"
   ]
  },
  {
   "cell_type": "code",
   "execution_count": null,
   "metadata": {},
   "outputs": [],
   "source": [
    "topics_over_time = model.topics_over_time(list(chat[chat.clean_msg != ''].assign(\n",
    "    message=chat.message.str.replace(re.compile(r'http\\S+'), ''))['message'].values),\n",
    "    list(chat[chat.clean_msg != '']['date'].values), nr_bins=20)\n",
    "fig = model.visualize_topics_over_time(topics_over_time, title='')\n",
    "py.plot(fig, filename='Topics over time', auto_open=False)\n",
    "fig"
   ]
  },
  {
   "attachments": {},
   "cell_type": "markdown",
   "metadata": {},
   "source": [
    "### Topic similarity"
   ]
  },
  {
   "attachments": {},
   "cell_type": "markdown",
   "metadata": {},
   "source": [
    "Intertopic distance map"
   ]
  },
  {
   "cell_type": "code",
   "execution_count": null,
   "metadata": {},
   "outputs": [],
   "source": [
    "fig = model.visualize_topics(title='')\n",
    "py.plot(fig, filename='Intertopic distance map', auto_open=False)\n",
    "fig"
   ]
  },
  {
   "attachments": {},
   "cell_type": "markdown",
   "metadata": {},
   "source": [
    "Similarity matrix"
   ]
  },
  {
   "cell_type": "code",
   "execution_count": null,
   "metadata": {},
   "outputs": [],
   "source": [
    "fig = model.visualize_heatmap(title='')\n",
    "py.plot(fig, filename='Similarity matrix', auto_open=False)\n",
    "fig"
   ]
  },
  {
   "attachments": {},
   "cell_type": "markdown",
   "metadata": {},
   "source": [
    "Topic hierarchy"
   ]
  },
  {
   "cell_type": "code",
   "execution_count": null,
   "metadata": {},
   "outputs": [],
   "source": [
    "fig = model.visualize_hierarchy(title='')\n",
    "py.plot(fig, filename='Topic hierarchy', auto_open=False)\n",
    "fig"
   ]
  },
  {
   "attachments": {},
   "cell_type": "markdown",
   "metadata": {},
   "source": [
    "Topic probability with a random message"
   ]
  },
  {
   "cell_type": "code",
   "execution_count": null,
   "metadata": {},
   "outputs": [],
   "source": [
    "sample = chat[(chat.message != '<Media omitted>') & (chat.clean_msg != '')].assign(\n",
    "    message=chat.message.str.replace(re.compile(r'http\\S+'), '')).reset_index().sample()\n",
    "print('Sample message:', (sample['message'].iloc[0]))\n",
    "fig = model.visualize_distribution(probabilities[sample['message'].index[0]], title='')\n",
    "py.plot(fig, filename='Topic probability with a random message', auto_open=False)\n",
    "fig"
   ]
  }
 ],
 "metadata": {
  "kernelspec": {
   "display_name": "Python 3",
   "language": "python",
   "name": "python3"
  },
  "language_info": {
   "codemirror_mode": {
    "name": "ipython",
    "version": 3
   },
   "file_extension": ".py",
   "mimetype": "text/x-python",
   "name": "python",
   "nbconvert_exporter": "python",
   "pygments_lexer": "ipython3",
   "version": "3.9.2"
  },
  "orig_nbformat": 4
 },
 "nbformat": 4,
 "nbformat_minor": 2
}
