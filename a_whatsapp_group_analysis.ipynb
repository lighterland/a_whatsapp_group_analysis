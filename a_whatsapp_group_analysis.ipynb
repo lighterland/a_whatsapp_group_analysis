{
 "cells": [
  {
   "cell_type": "code",
   "execution_count": 1,
   "metadata": {},
   "outputs": [],
   "source": [
    "import chart_studio, emoji, emot, os, re, stylecloud\n",
    "\n",
    "import chart_studio.plotly as py\n",
    "import pandas as pd\n",
    "import plotly.graph_objs as go\n",
    "\n",
    "from bertopic import BERTopic\n",
    "from collections import Counter\n",
    "from datetime import timedelta\n",
    "from emosent import get_emoji_sentiment_rank\n",
    "from nltk.sentiment.vader import SentimentIntensityAnalyzer\n",
    "from scipy.stats import zscore\n",
    "from umap import UMAP\n",
    "from whatstk import WhatsAppChat, FigureBuilder\n"
   ]
  },
  {
   "cell_type": "code",
   "execution_count": 2,
   "metadata": {},
   "outputs": [],
   "source": [
    "chart_studio.tools.set_credentials_file(username=os.getenv('CHART_STUDIO_USERNAME'),\n",
    "                                        api_key=os.getenv('CHART_STUDIO_API_KEY'))"
   ]
  },
  {
   "attachments": {},
   "cell_type": "markdown",
   "metadata": {},
   "source": [
    "# Data preparation"
   ]
  },
  {
   "cell_type": "code",
   "execution_count": 3,
   "metadata": {},
   "outputs": [],
   "source": [
    "chat = WhatsAppChat.from_source(filepath='whatsapp_chat.txt', hformat='%d/%m/%Y, %I:%M %p - %name:').df"
   ]
  },
  {
   "attachments": {},
   "cell_type": "markdown",
   "metadata": {},
   "source": [
    "Text cleaning"
   ]
  },
  {
   "cell_type": "code",
   "execution_count": 4,
   "metadata": {},
   "outputs": [
    {
     "data": {
      "text/html": [
       "<div>\n",
       "<style scoped>\n",
       "    .dataframe tbody tr th:only-of-type {\n",
       "        vertical-align: middle;\n",
       "    }\n",
       "\n",
       "    .dataframe tbody tr th {\n",
       "        vertical-align: top;\n",
       "    }\n",
       "\n",
       "    .dataframe thead th {\n",
       "        text-align: right;\n",
       "    }\n",
       "</style>\n",
       "<table border=\"1\" class=\"dataframe\">\n",
       "  <thead>\n",
       "    <tr style=\"text-align: right;\">\n",
       "      <th></th>\n",
       "      <th>date</th>\n",
       "      <th>username</th>\n",
       "      <th>message</th>\n",
       "      <th>clean_msg</th>\n",
       "    </tr>\n",
       "  </thead>\n",
       "  <tbody>\n",
       "    <tr>\n",
       "      <th>561</th>\n",
       "      <td>2023-02-04 20:57:00</td>\n",
       "      <td>aris</td>\n",
       "      <td>sudahh kak 🙏</td>\n",
       "      <td>sudahh kak</td>\n",
       "    </tr>\n",
       "    <tr>\n",
       "      <th>136</th>\n",
       "      <td>2023-01-14 16:41:00</td>\n",
       "      <td>kajal</td>\n",
       "      <td>trimakasii sudah aktif yaa semoga bermanfaaatt...</td>\n",
       "      <td>trimakasii aktif ya semoga bermanfatt lecturenya</td>\n",
       "    </tr>\n",
       "    <tr>\n",
       "      <th>1880</th>\n",
       "      <td>2023-04-01 12:18:00</td>\n",
       "      <td>kajal</td>\n",
       "      <td>Pdhl gak ada yg typing wkwkwkwk</td>\n",
       "      <td>typing wkwkwkwk</td>\n",
       "    </tr>\n",
       "    <tr>\n",
       "      <th>2092</th>\n",
       "      <td>2023-04-13 21:19:00</td>\n",
       "      <td>adhit</td>\n",
       "      <td>Wkwkw</td>\n",
       "      <td>wkwkw</td>\n",
       "    </tr>\n",
       "    <tr>\n",
       "      <th>456</th>\n",
       "      <td>2023-01-28 11:50:00</td>\n",
       "      <td>ely</td>\n",
       "      <td>Apakah aman semuanya?? 👀</td>\n",
       "      <td>aman</td>\n",
       "    </tr>\n",
       "  </tbody>\n",
       "</table>\n",
       "</div>"
      ],
      "text/plain": [
       "                    date username  \\\n",
       "561  2023-02-04 20:57:00     aris   \n",
       "136  2023-01-14 16:41:00    kajal   \n",
       "1880 2023-04-01 12:18:00    kajal   \n",
       "2092 2023-04-13 21:19:00    adhit   \n",
       "456  2023-01-28 11:50:00      ely   \n",
       "\n",
       "                                                message  \\\n",
       "561                                        sudahh kak 🙏   \n",
       "136   trimakasii sudah aktif yaa semoga bermanfaaatt...   \n",
       "1880                    Pdhl gak ada yg typing wkwkwkwk   \n",
       "2092                                              Wkwkw   \n",
       "456                            Apakah aman semuanya?? 👀   \n",
       "\n",
       "                                             clean_msg  \n",
       "561                                         sudahh kak  \n",
       "136   trimakasii aktif ya semoga bermanfatt lecturenya  \n",
       "1880                                   typing wkwkwkwk  \n",
       "2092                                             wkwkw  \n",
       "456                                               aman  "
      ]
     },
     "execution_count": 4,
     "metadata": {},
     "output_type": "execute_result"
    }
   ],
   "source": [
    "def clean_text(text):\n",
    "    text = text.replace('<Media omitted>', '').replace('This message was deleted', '').replace('\\n', ' ').strip()\n",
    "    text = re.sub(r'http\\S+', '', text)\n",
    "    text = re.sub(r'[0-9]+','', text)\n",
    "    text = re.sub(r'\\s+',' ', text)\n",
    "    text = re.sub(r'[^\\w\\s]|_', '', text)\n",
    "    text = re.sub(r'([a-zA-Z])\\1\\1','\\\\1', text)\n",
    "    return text.lower()\n",
    "\n",
    "chat['clean_msg'] = chat['message'].apply(clean_text)\n",
    "\n",
    "# replace slang words with their formal equivalents\n",
    "lexicon_df = pd.read_csv('lexicon/kamus-alay/colloquial-indonesian-lexicon.csv')\n",
    "lexicon_dict = dict(zip(lexicon_df.slang, lexicon_df.formal))\n",
    "chat['clean_msg'] = chat['clean_msg'].apply(lambda x: ' '.join([lexicon_dict.get(word, word) for word in x.split()]))\n",
    "\n",
    "# remove stop words\n",
    "with open('lexicon/ID-Stopwords/id.stopwords.02.01.2016.txt', 'r') as f:\n",
    "    stop_words = f.read().splitlines()\n",
    "chat['clean_msg'] = chat['clean_msg'].apply(lambda x: ' '.join([word for word in x.split() if word not in stop_words]))\n",
    "\n",
    "chat.sample(5)"
   ]
  },
  {
   "attachments": {},
   "cell_type": "markdown",
   "metadata": {},
   "source": [
    "Handling emoticon"
   ]
  },
  {
   "cell_type": "code",
   "execution_count": 5,
   "metadata": {},
   "outputs": [
    {
     "data": {
      "text/html": [
       "<div>\n",
       "<style scoped>\n",
       "    .dataframe tbody tr th:only-of-type {\n",
       "        vertical-align: middle;\n",
       "    }\n",
       "\n",
       "    .dataframe tbody tr th {\n",
       "        vertical-align: top;\n",
       "    }\n",
       "\n",
       "    .dataframe thead th {\n",
       "        text-align: right;\n",
       "    }\n",
       "</style>\n",
       "<table border=\"1\" class=\"dataframe\">\n",
       "  <thead>\n",
       "    <tr style=\"text-align: right;\">\n",
       "      <th></th>\n",
       "      <th>emoticon</th>\n",
       "    </tr>\n",
       "  </thead>\n",
       "  <tbody>\n",
       "    <tr>\n",
       "      <th>1</th>\n",
       "      <td>:(</td>\n",
       "    </tr>\n",
       "    <tr>\n",
       "      <th>2</th>\n",
       "      <td>&gt;:(</td>\n",
       "    </tr>\n",
       "    <tr>\n",
       "      <th>3</th>\n",
       "      <td>:)</td>\n",
       "    </tr>\n",
       "    <tr>\n",
       "      <th>4</th>\n",
       "      <td>:D</td>\n",
       "    </tr>\n",
       "  </tbody>\n",
       "</table>\n",
       "</div>"
      ],
      "text/plain": [
       "  emoticon\n",
       "1       :(\n",
       "2      >:(\n",
       "3       :)\n",
       "4       :D"
      ]
     },
     "execution_count": 5,
     "metadata": {},
     "output_type": "execute_result"
    }
   ],
   "source": [
    "emot_obj = emot.emot()\n",
    "\n",
    "chat['message'].apply(lambda x: '' if re.compile(r'http\\S+').search(x) else ''.join(emot_obj.emoticons(x)['value'])\n",
    "                      ).value_counts().rename_axis('emoticon').reset_index(name='count').query(\"emoticon != ''\")[['emoticon']]"
   ]
  },
  {
   "cell_type": "code",
   "execution_count": 6,
   "metadata": {},
   "outputs": [],
   "source": [
    "chat['message'] = chat['message'].replace({':\\(': '☹️', '>:\\(': '😠',\n",
    "                                           ':\\)': '🙂', ':D': '😃'\n",
    "                                           }, regex=True)"
   ]
  },
  {
   "attachments": {},
   "cell_type": "markdown",
   "metadata": {},
   "source": [
    "Feature engineering"
   ]
  },
  {
   "cell_type": "code",
   "execution_count": 7,
   "metadata": {},
   "outputs": [
    {
     "data": {
      "text/html": [
       "<div>\n",
       "<style scoped>\n",
       "    .dataframe tbody tr th:only-of-type {\n",
       "        vertical-align: middle;\n",
       "    }\n",
       "\n",
       "    .dataframe tbody tr th {\n",
       "        vertical-align: top;\n",
       "    }\n",
       "\n",
       "    .dataframe thead th {\n",
       "        text-align: right;\n",
       "    }\n",
       "</style>\n",
       "<table border=\"1\" class=\"dataframe\">\n",
       "  <thead>\n",
       "    <tr style=\"text-align: right;\">\n",
       "      <th></th>\n",
       "      <th>date</th>\n",
       "      <th>username</th>\n",
       "      <th>message</th>\n",
       "      <th>clean_msg</th>\n",
       "      <th>emoji</th>\n",
       "      <th>hour</th>\n",
       "      <th>day_name</th>\n",
       "      <th>week</th>\n",
       "      <th>module_name</th>\n",
       "    </tr>\n",
       "  </thead>\n",
       "  <tbody>\n",
       "    <tr>\n",
       "      <th>174</th>\n",
       "      <td>2023-01-16 21:16:00</td>\n",
       "      <td>erland</td>\n",
       "      <td>kerjaanku mikirn ka jalit</td>\n",
       "      <td>kerjaanku mikirn kak jalit</td>\n",
       "      <td></td>\n",
       "      <td>21</td>\n",
       "      <td>Monday</td>\n",
       "      <td>1</td>\n",
       "      <td>Understanding Business Problems</td>\n",
       "    </tr>\n",
       "    <tr>\n",
       "      <th>1486</th>\n",
       "      <td>2023-03-24 21:31:00</td>\n",
       "      <td>aris</td>\n",
       "      <td>@kajal</td>\n",
       "      <td>kajal</td>\n",
       "      <td></td>\n",
       "      <td>21</td>\n",
       "      <td>Friday</td>\n",
       "      <td>10</td>\n",
       "      <td>Data Visualization</td>\n",
       "    </tr>\n",
       "    <tr>\n",
       "      <th>1181</th>\n",
       "      <td>2023-03-01 18:39:00</td>\n",
       "      <td>aris</td>\n",
       "      <td>Yang ngajar kelasnya kak jal sampe jam 12 @kajal</td>\n",
       "      <td>mengajar kelasnya kak jal jam kajal</td>\n",
       "      <td></td>\n",
       "      <td>18</td>\n",
       "      <td>Wednesday</td>\n",
       "      <td>7</td>\n",
       "      <td>Python</td>\n",
       "    </tr>\n",
       "    <tr>\n",
       "      <th>855</th>\n",
       "      <td>2023-02-21 21:14:00</td>\n",
       "      <td>erland</td>\n",
       "      <td>aku mau minta kajal tlg jelasin one on one</td>\n",
       "      <td>kajal tolong jelasin one on one</td>\n",
       "      <td></td>\n",
       "      <td>21</td>\n",
       "      <td>Tuesday</td>\n",
       "      <td>6</td>\n",
       "      <td>Python</td>\n",
       "    </tr>\n",
       "    <tr>\n",
       "      <th>854</th>\n",
       "      <td>2023-02-21 21:13:00</td>\n",
       "      <td>rika</td>\n",
       "      <td>Hehehe</td>\n",
       "      <td>hehehe</td>\n",
       "      <td></td>\n",
       "      <td>21</td>\n",
       "      <td>Tuesday</td>\n",
       "      <td>6</td>\n",
       "      <td>Python</td>\n",
       "    </tr>\n",
       "  </tbody>\n",
       "</table>\n",
       "</div>"
      ],
      "text/plain": [
       "                    date username  \\\n",
       "174  2023-01-16 21:16:00   erland   \n",
       "1486 2023-03-24 21:31:00     aris   \n",
       "1181 2023-03-01 18:39:00     aris   \n",
       "855  2023-02-21 21:14:00   erland   \n",
       "854  2023-02-21 21:13:00     rika   \n",
       "\n",
       "                                               message  \\\n",
       "174                          kerjaanku mikirn ka jalit   \n",
       "1486                                            @kajal   \n",
       "1181  Yang ngajar kelasnya kak jal sampe jam 12 @kajal   \n",
       "855         aku mau minta kajal tlg jelasin one on one   \n",
       "854                                             Hehehe   \n",
       "\n",
       "                                clean_msg emoji  hour   day_name  week  \\\n",
       "174            kerjaanku mikirn kak jalit          21     Monday     1   \n",
       "1486                                kajal          21     Friday    10   \n",
       "1181  mengajar kelasnya kak jal jam kajal          18  Wednesday     7   \n",
       "855       kajal tolong jelasin one on one          21    Tuesday     6   \n",
       "854                                hehehe          21    Tuesday     6   \n",
       "\n",
       "                          module_name  \n",
       "174   Understanding Business Problems  \n",
       "1486               Data Visualization  \n",
       "1181                           Python  \n",
       "855                            Python  \n",
       "854                            Python  "
      ]
     },
     "execution_count": 7,
     "metadata": {},
     "output_type": "execute_result"
    }
   ],
   "source": [
    "# emoji extraction\n",
    "chat['emoji'] = chat['message'].apply(lambda x: ''.join(c for c in x if c in emoji.EMOJI_DATA))\n",
    "\n",
    "# shift all dates back by one hour (UTC+7)\n",
    "chat['date'] = chat['date'] - timedelta(hours=1)\n",
    "\n",
    "# date extraction\n",
    "chat['hour'] = chat['date'].dt.hour\n",
    "chat['day_name'] = chat['date'].dt.day_name()\n",
    "chat['week'] = (chat['date'] - pd.Timestamp('2023-01-09')).dt.days // 7\n",
    "\n",
    "# module creation\n",
    "chat['module_name'] = chat.week.map({0: 'Introduction & Orientation',\n",
    "                                     1: 'Understanding Business Problems',\n",
    "                                     2: 'Spreadsheet & Statistics', 3: 'Spreadsheet & Statistics',\n",
    "                                     4: 'SQL', 5: 'SQL',\n",
    "                                     6: 'Python', 7: 'Python', 8: 'Python',\n",
    "                                     9: 'Group Final Project Preparation Week',\n",
    "                                     10: 'Data Visualization', 11: 'Data Visualization',\n",
    "                                     12: 'Data Communication',\n",
    "                                     13: 'Pitching Week'\n",
    "                                     }).fillna('')\n",
    "\n",
    "chat.sample(5)"
   ]
  },
  {
   "attachments": {},
   "cell_type": "markdown",
   "metadata": {},
   "source": [
    "# Exploratory data analysis"
   ]
  },
  {
   "attachments": {},
   "cell_type": "markdown",
   "metadata": {},
   "source": [
    "## Total messages"
   ]
  },
  {
   "cell_type": "code",
   "execution_count": 8,
   "metadata": {},
   "outputs": [
    {
     "name": "stdout",
     "output_type": "stream",
     "text": [
      "2129 in total number of messages sent \n",
      "First message sent at 2023-01-06 14:38:00 by kajal \n",
      "Last message sent at 2023-04-17 22:43:00 by valeri\n"
     ]
    }
   ],
   "source": [
    "print(f'{chat.shape[0]} in total number of messages sent',\n",
    "      f'\\nFirst message sent at {chat.date.min()} by {chat.username[chat.date.idxmin()]}',\n",
    "      f'\\nLast message sent at {chat.date.max()} by {chat.username[chat.date.idxmax()]}')"
   ]
  },
  {
   "cell_type": "code",
   "execution_count": 9,
   "metadata": {},
   "outputs": [
    {
     "data": {
      "text/html": [
       "<div>\n",
       "<style scoped>\n",
       "    .dataframe tbody tr th:only-of-type {\n",
       "        vertical-align: middle;\n",
       "    }\n",
       "\n",
       "    .dataframe tbody tr th {\n",
       "        vertical-align: top;\n",
       "    }\n",
       "\n",
       "    .dataframe thead th {\n",
       "        text-align: right;\n",
       "    }\n",
       "</style>\n",
       "<table border=\"1\" class=\"dataframe\">\n",
       "  <thead>\n",
       "    <tr style=\"text-align: right;\">\n",
       "      <th></th>\n",
       "      <th>message</th>\n",
       "      <th>emoji</th>\n",
       "    </tr>\n",
       "    <tr>\n",
       "      <th>username</th>\n",
       "      <th></th>\n",
       "      <th></th>\n",
       "    </tr>\n",
       "  </thead>\n",
       "  <tbody>\n",
       "    <tr>\n",
       "      <th>kajal</th>\n",
       "      <td>626</td>\n",
       "      <td>🥳 ❤ 😃 🥰 😆 🥹 ☹ 🫶 😈</td>\n",
       "    </tr>\n",
       "    <tr>\n",
       "      <th>valeri</th>\n",
       "      <td>459</td>\n",
       "      <td>🔥 🥳 🤪 🦨 👍 👋 😌 😆 ☹ 🤨 🙏 🤡 😂 🥰 👀 😊 🤩 👌 😭 😝 ❤ 😒 😡 😘 🙃</td>\n",
       "    </tr>\n",
       "    <tr>\n",
       "      <th>erland</th>\n",
       "      <td>229</td>\n",
       "      <td></td>\n",
       "    </tr>\n",
       "    <tr>\n",
       "      <th>aris</th>\n",
       "      <td>228</td>\n",
       "      <td>🤣 🙏 💪 🥳 😅 😁 🎉 👀 🏻 🤔 👍</td>\n",
       "    </tr>\n",
       "    <tr>\n",
       "      <th>ely</th>\n",
       "      <td>165</td>\n",
       "      <td>🤣 🥳 💨 😫 🛵 🙂 ☺ 🫠 👽 😌 🥲 ☹ 🫶 🤭 😂 👀 😅 🫥 🤧 🥹</td>\n",
       "    </tr>\n",
       "    <tr>\n",
       "      <th>alit_jak</th>\n",
       "      <td>126</td>\n",
       "      <td>☹</td>\n",
       "    </tr>\n",
       "    <tr>\n",
       "      <th>adhit</th>\n",
       "      <td>80</td>\n",
       "      <td>🤣 🙏 😅 😆 🥊 😁 🥲 ☄ 🤲 😄 🤸 💄 👍 🤩 🍌</td>\n",
       "    </tr>\n",
       "    <tr>\n",
       "      <th>ichsan</th>\n",
       "      <td>54</td>\n",
       "      <td>🔥 🙏 👍 😁 😌 🥲 😃 🥹 🏻 😅</td>\n",
       "    </tr>\n",
       "    <tr>\n",
       "      <th>rika</th>\n",
       "      <td>47</td>\n",
       "      <td>😂 👍 🥰</td>\n",
       "    </tr>\n",
       "    <tr>\n",
       "      <th>alex</th>\n",
       "      <td>35</td>\n",
       "      <td>🙏 🥳 😬 🥲 😂 😊</td>\n",
       "    </tr>\n",
       "    <tr>\n",
       "      <th>alit_gor</th>\n",
       "      <td>33</td>\n",
       "      <td>😂</td>\n",
       "    </tr>\n",
       "    <tr>\n",
       "      <th>mirza</th>\n",
       "      <td>28</td>\n",
       "      <td>🙂 ☹</td>\n",
       "    </tr>\n",
       "    <tr>\n",
       "      <th>fawaz</th>\n",
       "      <td>19</td>\n",
       "      <td></td>\n",
       "    </tr>\n",
       "  </tbody>\n",
       "</table>\n",
       "</div>"
      ],
      "text/plain": [
       "          message                                              emoji\n",
       "username                                                            \n",
       "kajal         626                                  🥳 ❤ 😃 🥰 😆 🥹 ☹ 🫶 😈\n",
       "valeri        459  🔥 🥳 🤪 🦨 👍 👋 😌 😆 ☹ 🤨 🙏 🤡 😂 🥰 👀 😊 🤩 👌 😭 😝 ❤ 😒 😡 😘 🙃\n",
       "erland        229                                                   \n",
       "aris          228                              🤣 🙏 💪 🥳 😅 😁 🎉 👀 🏻 🤔 👍\n",
       "ely           165            🤣 🥳 💨 😫 🛵 🙂 ☺ 🫠 👽 😌 🥲 ☹ 🫶 🤭 😂 👀 😅 🫥 🤧 🥹\n",
       "alit_jak      126                                                  ☹\n",
       "adhit          80                      🤣 🙏 😅 😆 🥊 😁 🥲 ☄ 🤲 😄 🤸 💄 👍 🤩 🍌\n",
       "ichsan         54                                🔥 🙏 👍 😁 😌 🥲 😃 🥹 🏻 😅\n",
       "rika           47                                              😂 👍 🥰\n",
       "alex           35                                        🙏 🥳 😬 🥲 😂 😊\n",
       "alit_gor       33                                                  😂\n",
       "mirza          28                                                🙂 ☹\n",
       "fawaz          19                                                   "
      ]
     },
     "execution_count": 9,
     "metadata": {},
     "output_type": "execute_result"
    }
   ],
   "source": [
    "chat.groupby('username').agg({'message': 'count',\n",
    "                              'emoji': lambda x: ' '.join(set(emoji for emojis in x.dropna() for emoji in emojis))\n",
    "                              }).sort_values(by='message', ascending=False)"
   ]
  },
  {
   "cell_type": "code",
   "execution_count": 10,
   "metadata": {},
   "outputs": [
    {
     "data": {
      "text/html": [
       "<div>\n",
       "<style scoped>\n",
       "    .dataframe tbody tr th:only-of-type {\n",
       "        vertical-align: middle;\n",
       "    }\n",
       "\n",
       "    .dataframe tbody tr th {\n",
       "        vertical-align: top;\n",
       "    }\n",
       "\n",
       "    .dataframe thead th {\n",
       "        text-align: right;\n",
       "    }\n",
       "</style>\n",
       "<table border=\"1\" class=\"dataframe\">\n",
       "  <thead>\n",
       "    <tr style=\"text-align: right;\">\n",
       "      <th></th>\n",
       "      <th>emoji</th>\n",
       "      <th>count</th>\n",
       "    </tr>\n",
       "  </thead>\n",
       "  <tbody>\n",
       "    <tr>\n",
       "      <th>1</th>\n",
       "      <td>😂</td>\n",
       "      <td>69</td>\n",
       "    </tr>\n",
       "    <tr>\n",
       "      <th>2</th>\n",
       "      <td>👍</td>\n",
       "      <td>37</td>\n",
       "    </tr>\n",
       "    <tr>\n",
       "      <th>3</th>\n",
       "      <td>🙏</td>\n",
       "      <td>34</td>\n",
       "    </tr>\n",
       "    <tr>\n",
       "      <th>4</th>\n",
       "      <td>🥰</td>\n",
       "      <td>33</td>\n",
       "    </tr>\n",
       "    <tr>\n",
       "      <th>5</th>\n",
       "      <td>🥳</td>\n",
       "      <td>31</td>\n",
       "    </tr>\n",
       "  </tbody>\n",
       "</table>\n",
       "</div>"
      ],
      "text/plain": [
       "  emoji  count\n",
       "1     😂     69\n",
       "2     👍     37\n",
       "3     🙏     34\n",
       "4     🥰     33\n",
       "5     🥳     31"
      ]
     },
     "execution_count": 10,
     "metadata": {},
     "output_type": "execute_result"
    }
   ],
   "source": [
    "pd.DataFrame(Counter([emoji for message in chat.emoji for emoji in message]).most_common(),\n",
    "             columns=['emoji', 'count'],\n",
    "             index=range(1, len(Counter([emoji for message in chat.emoji for emoji in message]).most_common())+1)\n",
    "             ).head()"
   ]
  },
  {
   "attachments": {},
   "cell_type": "markdown",
   "metadata": {},
   "source": [
    "Message length boxplot"
   ]
  },
  {
   "cell_type": "code",
   "execution_count": 11,
   "metadata": {},
   "outputs": [
    {
     "data": {
      "application/vnd.plotly.v1+json": {
       "config": {
        "plotlyServerURL": "https://plotly.com"
       },
       "data": [
        {
         "boxpoints": "outliers",
         "marker": {
          "color": "#5778DB"
         },
         "name": "ichsan",
         "showlegend": true,
         "type": "box",
         "y": [
          15,
          11,
          0,
          39,
          2,
          7,
          2,
          14,
          9,
          1,
          15,
          27,
          7,
          13,
          17,
          17,
          11,
          12,
          2,
          102,
          7,
          5,
          11,
          11,
          1,
          26,
          15,
          6,
          4,
          3,
          14,
          28,
          7,
          1,
          12,
          4,
          6,
          10,
          17,
          6,
          3,
          2,
          1,
          10,
          5,
          12,
          16,
          3,
          26,
          11,
          11,
          19,
          22,
          2
         ]
        },
        {
         "boxpoints": "outliers",
         "marker": {
          "color": "#DB9C57"
         },
         "name": "alex",
         "showlegend": true,
         "type": "box",
         "y": [
          29,
          7,
          9,
          13,
          10,
          4,
          7,
          5,
          6,
          2,
          1,
          3,
          6,
          5,
          3,
          8,
          4,
          5,
          6,
          9,
          5,
          2,
          1,
          9,
          8,
          18,
          5,
          3,
          8,
          2,
          3,
          6,
          4,
          1,
          2
         ]
        },
        {
         "boxpoints": "outliers",
         "marker": {
          "color": "#DB578C"
         },
         "name": "valeri",
         "showlegend": true,
         "type": "box",
         "y": [
          28,
          0,
          11,
          15,
          10,
          8,
          0,
          0,
          5,
          0,
          24,
          12,
          6,
          2,
          5,
          0,
          2,
          11,
          11,
          65,
          9,
          1,
          6,
          25,
          10,
          21,
          7,
          16,
          12,
          12,
          1,
          10,
          2,
          5,
          11,
          5,
          10,
          9,
          7,
          3,
          3,
          4,
          16,
          11,
          3,
          4,
          7,
          1,
          1,
          4,
          5,
          7,
          3,
          4,
          1,
          1,
          3,
          4,
          6,
          4,
          6,
          4,
          0,
          12,
          6,
          5,
          5,
          5,
          10,
          5,
          15,
          9,
          32,
          4,
          8,
          5,
          7,
          4,
          9,
          11,
          3,
          4,
          7,
          13,
          12,
          10,
          7,
          8,
          3,
          3,
          2,
          3,
          0,
          0,
          5,
          2,
          18,
          4,
          1,
          3,
          5,
          2,
          7,
          11,
          3,
          3,
          3,
          3,
          4,
          11,
          7,
          1,
          5,
          6,
          7,
          5,
          3,
          3,
          1,
          3,
          4,
          6,
          1,
          8,
          4,
          6,
          3,
          8,
          12,
          1,
          9,
          10,
          11,
          9,
          2,
          2,
          2,
          6,
          7,
          10,
          10,
          7,
          7,
          4,
          0,
          4,
          3,
          8,
          2,
          9,
          9,
          10,
          3,
          3,
          7,
          7,
          10,
          5,
          0,
          6,
          5,
          1,
          5,
          6,
          10,
          4,
          4,
          4,
          9,
          12,
          7,
          1,
          7,
          4,
          4,
          5,
          3,
          0,
          2,
          1,
          0,
          4,
          6,
          11,
          7,
          4,
          11,
          1,
          3,
          2,
          6,
          16,
          14,
          8,
          10,
          14,
          3,
          14,
          5,
          11,
          10,
          9,
          8,
          21,
          4,
          9,
          2,
          3,
          10,
          1,
          5,
          5,
          7,
          3,
          6,
          1,
          10,
          10,
          3,
          10,
          13,
          7,
          3,
          7,
          8,
          3,
          11,
          1,
          4,
          7,
          4,
          6,
          3,
          2,
          7,
          6,
          4,
          5,
          5,
          3,
          13,
          3,
          4,
          3,
          4,
          0,
          3,
          12,
          6,
          5,
          6,
          5,
          1,
          4,
          0,
          3,
          0,
          12,
          5,
          0,
          5,
          3,
          10,
          7,
          2,
          2,
          3,
          5,
          3,
          4,
          4,
          0,
          12,
          7,
          6,
          3,
          4,
          1,
          1,
          5,
          9,
          4,
          11,
          3,
          4,
          6,
          11,
          7,
          6,
          3,
          11,
          11,
          11,
          10,
          10,
          5,
          1,
          4,
          10,
          1,
          0,
          1,
          3,
          5,
          4,
          4,
          1,
          5,
          1,
          1,
          8,
          1,
          3,
          9,
          1,
          15,
          5,
          4,
          15,
          3,
          3,
          6,
          5,
          3,
          2,
          15,
          1,
          2,
          3,
          3,
          2,
          1,
          4,
          3,
          6,
          6,
          3,
          6,
          4,
          1,
          1,
          3,
          3,
          3,
          1,
          2,
          1,
          3,
          6,
          4,
          5,
          9,
          3,
          6,
          2,
          4,
          11,
          3,
          3,
          1,
          7,
          5,
          6,
          5,
          2,
          4,
          2,
          9,
          1,
          4,
          7,
          6,
          4,
          6,
          4,
          25,
          14,
          15,
          3,
          8,
          13,
          6,
          7,
          15,
          1,
          2,
          7,
          6,
          6,
          7,
          13,
          8,
          18,
          9,
          5,
          8,
          2,
          1,
          3,
          2,
          1,
          6,
          4,
          4,
          7,
          9,
          1,
          3,
          2,
          1,
          2,
          5,
          2,
          5,
          6,
          1,
          3,
          3,
          1,
          4,
          2,
          1,
          1,
          7,
          3,
          2,
          2,
          1,
          4,
          6,
          15,
          2,
          14,
          1,
          4,
          6,
          3,
          10,
          3,
          5,
          6,
          3,
          5,
          8,
          3,
          3,
          7,
          5,
          9,
          4,
          3,
          10,
          6,
          1,
          5,
          5,
          5,
          2,
          4
         ]
        },
        {
         "boxpoints": "outliers",
         "marker": {
          "color": "#DBD957"
         },
         "name": "alit_gor",
         "showlegend": true,
         "type": "box",
         "y": [
          4,
          2,
          6,
          2,
          7,
          4,
          4,
          1,
          1,
          2,
          12,
          6,
          0,
          3,
          5,
          4,
          6,
          4,
          6,
          1,
          5,
          1,
          3,
          1,
          1,
          5,
          4,
          0,
          1,
          1,
          2,
          4,
          4
         ]
        },
        {
         "boxpoints": "outliers",
         "marker": {
          "color": "#57DB87"
         },
         "name": "ely",
         "showlegend": true,
         "type": "box",
         "y": [
          4,
          20,
          1,
          0,
          4,
          3,
          5,
          7,
          7,
          3,
          0,
          1,
          0,
          13,
          18,
          0,
          3,
          8,
          3,
          4,
          7,
          3,
          4,
          2,
          13,
          5,
          3,
          7,
          1,
          2,
          1,
          1,
          7,
          1,
          0,
          10,
          4,
          11,
          3,
          6,
          13,
          6,
          9,
          3,
          3,
          7,
          17,
          6,
          6,
          2,
          4,
          0,
          6,
          4,
          3,
          1,
          10,
          2,
          4,
          6,
          8,
          1,
          2,
          5,
          3,
          6,
          1,
          4,
          4,
          7,
          4,
          1,
          3,
          3,
          3,
          0,
          3,
          8,
          4,
          2,
          3,
          11,
          2,
          3,
          6,
          10,
          13,
          10,
          1,
          4,
          3,
          2,
          15,
          5,
          5,
          0,
          8,
          5,
          1,
          25,
          1,
          1,
          1,
          0,
          2,
          6,
          0,
          48,
          2,
          7,
          3,
          5,
          9,
          5,
          1,
          1,
          1,
          4,
          11,
          2,
          1,
          3,
          1,
          5,
          1,
          9,
          9,
          6,
          7,
          2,
          8,
          13,
          6,
          6,
          6,
          1,
          1,
          7,
          10,
          0,
          1,
          1,
          4,
          8,
          0,
          6,
          3,
          11,
          7,
          3,
          30,
          3,
          8,
          6,
          2,
          4,
          7,
          5,
          3,
          6,
          4,
          0,
          13,
          4,
          5
         ]
        },
        {
         "boxpoints": "outliers",
         "marker": {
          "color": "#57DBC5"
         },
         "name": "erland",
         "showlegend": true,
         "type": "box",
         "y": [
          5,
          8,
          8,
          2,
          4,
          7,
          9,
          4,
          4,
          3,
          1,
          6,
          3,
          4,
          3,
          1,
          2,
          2,
          3,
          1,
          3,
          4,
          3,
          4,
          4,
          4,
          10,
          3,
          0,
          6,
          3,
          5,
          1,
          3,
          4,
          2,
          3,
          4,
          2,
          6,
          1,
          7,
          12,
          6,
          5,
          3,
          9,
          2,
          9,
          4,
          4,
          3,
          2,
          5,
          6,
          5,
          1,
          5,
          2,
          1,
          3,
          2,
          4,
          1,
          4,
          4,
          8,
          4,
          8,
          6,
          1,
          2,
          6,
          1,
          4,
          7,
          11,
          2,
          9,
          2,
          6,
          1,
          3,
          6,
          1,
          9,
          4,
          5,
          1,
          4,
          8,
          2,
          13,
          2,
          4,
          4,
          7,
          8,
          10,
          5,
          1,
          7,
          9,
          1,
          6,
          8,
          8,
          2,
          3,
          4,
          8,
          5,
          5,
          5,
          8,
          12,
          1,
          5,
          4,
          1,
          5,
          2,
          2,
          10,
          5,
          4,
          1,
          4,
          7,
          13,
          3,
          3,
          6,
          3,
          5,
          3,
          2,
          0,
          0,
          3,
          8,
          8,
          8,
          2,
          4,
          13,
          4,
          1,
          4,
          4,
          10,
          4,
          1,
          1,
          8,
          0,
          1,
          1,
          1,
          4,
          8,
          11,
          1,
          5,
          5,
          2,
          3,
          4,
          4,
          7,
          0,
          4,
          3,
          3,
          1,
          5,
          3,
          4,
          4,
          4,
          2,
          3,
          8,
          3,
          1,
          3,
          1,
          8,
          5,
          3,
          1,
          1,
          1,
          1,
          7,
          2,
          13,
          3,
          5,
          3,
          8,
          2,
          3,
          6,
          18,
          7,
          5,
          3,
          13,
          1,
          2,
          3,
          5,
          11,
          0,
          8,
          6,
          21,
          13,
          17,
          3,
          3,
          2,
          6,
          4,
          6,
          8,
          1,
          4
         ]
        },
        {
         "boxpoints": "outliers",
         "marker": {
          "color": "#57B5DB"
         },
         "name": "fawaz",
         "showlegend": true,
         "type": "box",
         "y": [
          25,
          4,
          1,
          0,
          4,
          2,
          5,
          1,
          7,
          11,
          11,
          1,
          3,
          8,
          8,
          4,
          4,
          1,
          1
         ]
        },
        {
         "boxpoints": "outliers",
         "marker": {
          "color": "#7357DB"
         },
         "name": "kajal",
         "showlegend": true,
         "type": "box",
         "y": [
          22,
          11,
          1,
          13,
          17,
          21,
          24,
          4,
          3,
          13,
          3,
          5,
          13,
          19,
          9,
          3,
          10,
          4,
          10,
          10,
          6,
          0,
          15,
          20,
          0,
          15,
          1,
          1,
          4,
          2,
          1,
          8,
          7,
          0,
          6,
          4,
          1,
          3,
          7,
          12,
          4,
          9,
          3,
          11,
          4,
          5,
          18,
          4,
          3,
          11,
          0,
          9,
          6,
          7,
          6,
          18,
          26,
          3,
          15,
          3,
          12,
          6,
          7,
          8,
          29,
          8,
          8,
          6,
          8,
          7,
          5,
          2,
          3,
          1,
          3,
          9,
          6,
          5,
          9,
          8,
          5,
          1,
          6,
          7,
          6,
          5,
          4,
          3,
          13,
          6,
          11,
          5,
          3,
          2,
          15,
          6,
          3,
          3,
          4,
          1,
          3,
          5,
          4,
          3,
          3,
          8,
          7,
          6,
          5,
          3,
          3,
          2,
          11,
          4,
          2,
          4,
          1,
          3,
          1,
          9,
          9,
          5,
          1,
          8,
          12,
          1,
          3,
          16,
          3,
          2,
          5,
          38,
          4,
          7,
          15,
          13,
          15,
          2,
          1,
          1,
          6,
          2,
          11,
          7,
          2,
          1,
          11,
          2,
          5,
          12,
          6,
          4,
          1,
          8,
          8,
          8,
          2,
          14,
          8,
          2,
          20,
          2,
          12,
          2,
          4,
          8,
          15,
          7,
          1,
          10,
          2,
          2,
          1,
          4,
          6,
          1,
          5,
          4,
          5,
          4,
          0,
          9,
          87,
          1,
          2,
          2,
          5,
          1,
          5,
          5,
          22,
          7,
          6,
          6,
          3,
          1,
          1,
          6,
          5,
          10,
          5,
          8,
          1,
          33,
          50,
          0,
          5,
          2,
          1,
          4,
          5,
          7,
          2,
          9,
          6,
          3,
          8,
          3,
          1,
          7,
          4,
          3,
          0,
          5,
          8,
          10,
          9,
          4,
          8,
          2,
          10,
          4,
          24,
          7,
          12,
          10,
          4,
          2,
          40,
          4,
          1,
          4,
          4,
          4,
          30,
          3,
          14,
          4,
          2,
          12,
          3,
          1,
          4,
          6,
          1,
          3,
          13,
          1,
          1,
          1,
          5,
          6,
          2,
          3,
          3,
          8,
          10,
          3,
          10,
          1,
          2,
          7,
          1,
          3,
          8,
          1,
          3,
          6,
          1,
          18,
          4,
          10,
          6,
          11,
          5,
          3,
          1,
          3,
          6,
          2,
          3,
          3,
          3,
          7,
          1,
          2,
          6,
          1,
          2,
          3,
          7,
          4,
          4,
          10,
          1,
          3,
          3,
          3,
          5,
          1,
          9,
          12,
          8,
          2,
          8,
          6,
          6,
          3,
          4,
          5,
          1,
          6,
          5,
          3,
          1,
          3,
          4,
          1,
          9,
          3,
          5,
          4,
          1,
          7,
          7,
          5,
          7,
          1,
          2,
          6,
          5,
          2,
          5,
          2,
          3,
          5,
          5,
          3,
          5,
          6,
          1,
          6,
          4,
          4,
          2,
          7,
          1,
          3,
          1,
          5,
          3,
          3,
          6,
          2,
          2,
          1,
          3,
          2,
          2,
          3,
          1,
          3,
          4,
          9,
          5,
          5,
          7,
          7,
          8,
          0,
          4,
          2,
          5,
          7,
          1,
          7,
          1,
          5,
          6,
          1,
          2,
          3,
          6,
          7,
          6,
          10,
          1,
          2,
          1,
          4,
          5,
          3,
          4,
          3,
          4,
          9,
          5,
          3,
          2,
          1,
          5,
          6,
          9,
          3,
          4,
          6,
          2,
          1,
          2,
          3,
          1,
          6,
          4,
          4,
          2,
          4,
          4,
          1,
          8,
          1,
          8,
          1,
          2,
          5,
          5,
          1,
          6,
          4,
          2,
          3,
          7,
          4,
          10,
          8,
          2,
          17,
          4,
          13,
          4,
          2,
          6,
          2,
          1,
          4,
          5,
          9,
          1,
          10,
          4,
          1,
          2,
          5,
          3,
          2,
          1,
          4,
          1,
          2,
          3,
          12,
          2,
          1,
          2,
          4,
          1,
          2,
          1,
          3,
          1,
          11,
          2,
          5,
          6,
          6,
          2,
          10,
          7,
          6,
          4,
          6,
          3,
          7,
          7,
          4,
          8,
          4,
          2,
          9,
          5,
          4,
          1,
          5,
          13,
          4,
          2,
          3,
          1,
          3,
          3,
          4,
          6,
          3,
          6,
          6,
          4,
          2,
          6,
          6,
          6,
          7,
          5,
          4,
          6,
          6,
          5,
          11,
          12,
          11,
          5,
          5,
          6,
          2,
          4,
          5,
          1,
          4,
          3,
          1,
          1,
          7,
          3,
          7,
          0,
          0,
          0,
          7,
          6,
          7,
          2,
          2,
          1,
          5,
          3,
          3,
          2,
          1,
          1,
          1,
          2,
          2,
          9,
          6,
          3,
          7,
          3,
          12,
          12,
          4,
          6,
          1,
          4,
          8,
          2,
          5,
          1,
          2,
          5,
          3,
          2,
          4,
          6,
          2,
          2,
          1,
          1,
          1,
          4,
          1,
          4,
          1,
          1,
          6,
          6,
          1,
          6,
          1,
          4,
          10,
          2,
          4,
          6,
          1,
          1,
          2,
          5,
          1,
          1,
          3,
          2,
          1,
          1,
          3,
          3,
          3,
          4,
          2,
          3,
          2,
          6,
          1,
          4,
          2,
          5,
          4,
          3,
          3
         ]
        },
        {
         "boxpoints": "outliers",
         "marker": {
          "color": "#DB5F57"
         },
         "name": "adhit",
         "showlegend": true,
         "type": "box",
         "y": [
          4,
          1,
          1,
          9,
          7,
          2,
          4,
          3,
          1,
          1,
          1,
          5,
          1,
          4,
          12,
          7,
          1,
          2,
          1,
          2,
          1,
          3,
          1,
          6,
          3,
          3,
          1,
          2,
          2,
          5,
          4,
          2,
          5,
          1,
          8,
          8,
          5,
          4,
          1,
          1,
          3,
          5,
          6,
          3,
          1,
          1,
          5,
          4,
          1,
          1,
          3,
          6,
          1,
          2,
          6,
          3,
          4,
          1,
          5,
          4,
          6,
          4,
          2,
          2,
          3,
          3,
          1,
          5,
          2,
          6,
          10,
          2,
          5,
          5,
          4,
          1,
          2,
          5,
          8,
          3
         ]
        },
        {
         "boxpoints": "outliers",
         "marker": {
          "color": "#A0DB57"
         },
         "name": "alit_jak",
         "showlegend": true,
         "type": "box",
         "y": [
          23,
          4,
          4,
          9,
          0,
          0,
          0,
          0,
          0,
          0,
          0,
          0,
          3,
          14,
          9,
          4,
          1,
          2,
          4,
          7,
          9,
          1,
          11,
          9,
          1,
          1,
          10,
          3,
          4,
          7,
          1,
          4,
          11,
          4,
          3,
          3,
          1,
          1,
          16,
          6,
          1,
          4,
          6,
          3,
          2,
          4,
          5,
          3,
          2,
          5,
          1,
          2,
          1,
          2,
          1,
          4,
          4,
          2,
          1,
          4,
          3,
          1,
          4,
          4,
          5,
          5,
          5,
          6,
          3,
          1,
          1,
          6,
          6,
          2,
          3,
          5,
          3,
          1,
          3,
          2,
          3,
          2,
          1,
          3,
          6,
          9,
          3,
          3,
          1,
          3,
          5,
          7,
          4,
          9,
          5,
          0,
          1,
          5,
          1,
          2,
          2,
          3,
          2,
          4,
          5,
          5,
          13,
          2,
          2,
          3,
          9,
          1,
          1,
          7,
          1,
          2,
          1,
          2,
          6,
          4,
          1,
          3,
          7,
          1,
          4,
          1
         ]
        },
        {
         "boxpoints": "outliers",
         "marker": {
          "color": "#63DB57"
         },
         "name": "aris",
         "showlegend": true,
         "type": "box",
         "y": [
          13,
          2,
          4,
          2,
          4,
          4,
          7,
          1,
          2,
          10,
          8,
          4,
          4,
          4,
          4,
          11,
          8,
          1,
          1,
          5,
          3,
          1,
          2,
          1,
          5,
          8,
          6,
          2,
          5,
          1,
          5,
          4,
          6,
          6,
          0,
          4,
          3,
          2,
          5,
          4,
          1,
          4,
          2,
          1,
          6,
          10,
          10,
          1,
          1,
          2,
          1,
          5,
          2,
          4,
          5,
          4,
          2,
          4,
          3,
          4,
          7,
          3,
          1,
          4,
          2,
          4,
          7,
          7,
          3,
          11,
          1,
          7,
          3,
          2,
          6,
          2,
          7,
          9,
          1,
          4,
          67,
          1,
          0,
          0,
          15,
          14,
          12,
          2,
          2,
          4,
          4,
          1,
          4,
          2,
          2,
          1,
          3,
          4,
          1,
          6,
          4,
          9,
          6,
          6,
          4,
          6,
          8,
          13,
          7,
          7,
          4,
          5,
          2,
          1,
          3,
          4,
          4,
          1,
          1,
          2,
          7,
          3,
          7,
          1,
          2,
          1,
          2,
          2,
          2,
          1,
          1,
          2,
          6,
          4,
          4,
          2,
          1,
          2,
          2,
          1,
          1,
          3,
          9,
          1,
          2,
          1,
          2,
          3,
          3,
          4,
          3,
          5,
          1,
          3,
          3,
          1,
          3,
          7,
          3,
          1,
          2,
          6,
          1,
          3,
          2,
          5,
          3,
          9,
          12,
          8,
          1,
          2,
          2,
          3,
          7,
          5,
          2,
          3,
          7,
          3,
          1,
          8,
          2,
          4,
          13,
          3,
          4,
          0,
          12,
          3,
          5,
          1,
          5,
          0,
          1,
          4,
          7,
          4,
          7,
          2,
          1,
          14,
          1,
          1,
          7,
          4,
          1,
          3,
          0,
          0,
          0,
          8,
          1,
          7,
          1,
          4,
          5,
          5,
          2,
          3,
          1,
          2,
          1,
          5,
          1,
          5,
          2,
          12
         ]
        },
        {
         "boxpoints": "outliers",
         "marker": {
          "color": "#B057DB"
         },
         "name": "mirza",
         "showlegend": true,
         "type": "box",
         "y": [
          2,
          1,
          6,
          8,
          5,
          3,
          4,
          2,
          2,
          2,
          2,
          4,
          3,
          7,
          1,
          2,
          1,
          5,
          4,
          5,
          3,
          2,
          3,
          4,
          1,
          5,
          0,
          2
         ]
        },
        {
         "boxpoints": "outliers",
         "marker": {
          "color": "#DB57C9"
         },
         "name": "rika",
         "showlegend": true,
         "type": "box",
         "y": [
          18,
          7,
          1,
          10,
          1,
          4,
          1,
          1,
          2,
          4,
          6,
          1,
          2,
          7,
          3,
          8,
          3,
          9,
          0,
          4,
          1,
          1,
          6,
          11,
          6,
          5,
          8,
          4,
          9,
          4,
          1,
          1,
          5,
          0,
          4,
          1,
          3,
          5,
          2,
          1,
          1,
          2,
          3,
          3,
          6,
          1,
          0
         ]
        }
       ],
       "layout": {
        "template": {
         "data": {
          "bar": [
           {
            "error_x": {
             "color": "#2a3f5f"
            },
            "error_y": {
             "color": "#2a3f5f"
            },
            "marker": {
             "line": {
              "color": "white",
              "width": 0.5
             }
            },
            "type": "bar"
           }
          ],
          "barpolar": [
           {
            "marker": {
             "line": {
              "color": "white",
              "width": 0.5
             }
            },
            "type": "barpolar"
           }
          ],
          "carpet": [
           {
            "aaxis": {
             "endlinecolor": "#2a3f5f",
             "gridcolor": "#C8D4E3",
             "linecolor": "#C8D4E3",
             "minorgridcolor": "#C8D4E3",
             "startlinecolor": "#2a3f5f"
            },
            "baxis": {
             "endlinecolor": "#2a3f5f",
             "gridcolor": "#C8D4E3",
             "linecolor": "#C8D4E3",
             "minorgridcolor": "#C8D4E3",
             "startlinecolor": "#2a3f5f"
            },
            "type": "carpet"
           }
          ],
          "choropleth": [
           {
            "colorbar": {
             "outlinewidth": 0,
             "ticks": ""
            },
            "type": "choropleth"
           }
          ],
          "contour": [
           {
            "colorbar": {
             "outlinewidth": 0,
             "ticks": ""
            },
            "colorscale": [
             [
              0,
              "#0d0887"
             ],
             [
              0.1111111111111111,
              "#46039f"
             ],
             [
              0.2222222222222222,
              "#7201a8"
             ],
             [
              0.3333333333333333,
              "#9c179e"
             ],
             [
              0.4444444444444444,
              "#bd3786"
             ],
             [
              0.5555555555555556,
              "#d8576b"
             ],
             [
              0.6666666666666666,
              "#ed7953"
             ],
             [
              0.7777777777777778,
              "#fb9f3a"
             ],
             [
              0.8888888888888888,
              "#fdca26"
             ],
             [
              1,
              "#f0f921"
             ]
            ],
            "type": "contour"
           }
          ],
          "contourcarpet": [
           {
            "colorbar": {
             "outlinewidth": 0,
             "ticks": ""
            },
            "type": "contourcarpet"
           }
          ],
          "heatmap": [
           {
            "colorbar": {
             "outlinewidth": 0,
             "ticks": ""
            },
            "colorscale": [
             [
              0,
              "#0d0887"
             ],
             [
              0.1111111111111111,
              "#46039f"
             ],
             [
              0.2222222222222222,
              "#7201a8"
             ],
             [
              0.3333333333333333,
              "#9c179e"
             ],
             [
              0.4444444444444444,
              "#bd3786"
             ],
             [
              0.5555555555555556,
              "#d8576b"
             ],
             [
              0.6666666666666666,
              "#ed7953"
             ],
             [
              0.7777777777777778,
              "#fb9f3a"
             ],
             [
              0.8888888888888888,
              "#fdca26"
             ],
             [
              1,
              "#f0f921"
             ]
            ],
            "type": "heatmap"
           }
          ],
          "heatmapgl": [
           {
            "colorbar": {
             "outlinewidth": 0,
             "ticks": ""
            },
            "colorscale": [
             [
              0,
              "#0d0887"
             ],
             [
              0.1111111111111111,
              "#46039f"
             ],
             [
              0.2222222222222222,
              "#7201a8"
             ],
             [
              0.3333333333333333,
              "#9c179e"
             ],
             [
              0.4444444444444444,
              "#bd3786"
             ],
             [
              0.5555555555555556,
              "#d8576b"
             ],
             [
              0.6666666666666666,
              "#ed7953"
             ],
             [
              0.7777777777777778,
              "#fb9f3a"
             ],
             [
              0.8888888888888888,
              "#fdca26"
             ],
             [
              1,
              "#f0f921"
             ]
            ],
            "type": "heatmapgl"
           }
          ],
          "histogram": [
           {
            "marker": {
             "colorbar": {
              "outlinewidth": 0,
              "ticks": ""
             }
            },
            "type": "histogram"
           }
          ],
          "histogram2d": [
           {
            "colorbar": {
             "outlinewidth": 0,
             "ticks": ""
            },
            "colorscale": [
             [
              0,
              "#0d0887"
             ],
             [
              0.1111111111111111,
              "#46039f"
             ],
             [
              0.2222222222222222,
              "#7201a8"
             ],
             [
              0.3333333333333333,
              "#9c179e"
             ],
             [
              0.4444444444444444,
              "#bd3786"
             ],
             [
              0.5555555555555556,
              "#d8576b"
             ],
             [
              0.6666666666666666,
              "#ed7953"
             ],
             [
              0.7777777777777778,
              "#fb9f3a"
             ],
             [
              0.8888888888888888,
              "#fdca26"
             ],
             [
              1,
              "#f0f921"
             ]
            ],
            "type": "histogram2d"
           }
          ],
          "histogram2dcontour": [
           {
            "colorbar": {
             "outlinewidth": 0,
             "ticks": ""
            },
            "colorscale": [
             [
              0,
              "#0d0887"
             ],
             [
              0.1111111111111111,
              "#46039f"
             ],
             [
              0.2222222222222222,
              "#7201a8"
             ],
             [
              0.3333333333333333,
              "#9c179e"
             ],
             [
              0.4444444444444444,
              "#bd3786"
             ],
             [
              0.5555555555555556,
              "#d8576b"
             ],
             [
              0.6666666666666666,
              "#ed7953"
             ],
             [
              0.7777777777777778,
              "#fb9f3a"
             ],
             [
              0.8888888888888888,
              "#fdca26"
             ],
             [
              1,
              "#f0f921"
             ]
            ],
            "type": "histogram2dcontour"
           }
          ],
          "mesh3d": [
           {
            "colorbar": {
             "outlinewidth": 0,
             "ticks": ""
            },
            "type": "mesh3d"
           }
          ],
          "parcoords": [
           {
            "line": {
             "colorbar": {
              "outlinewidth": 0,
              "ticks": ""
             }
            },
            "type": "parcoords"
           }
          ],
          "pie": [
           {
            "automargin": true,
            "type": "pie"
           }
          ],
          "scatter": [
           {
            "marker": {
             "colorbar": {
              "outlinewidth": 0,
              "ticks": ""
             }
            },
            "type": "scatter"
           }
          ],
          "scatter3d": [
           {
            "line": {
             "colorbar": {
              "outlinewidth": 0,
              "ticks": ""
             }
            },
            "marker": {
             "colorbar": {
              "outlinewidth": 0,
              "ticks": ""
             }
            },
            "type": "scatter3d"
           }
          ],
          "scattercarpet": [
           {
            "marker": {
             "colorbar": {
              "outlinewidth": 0,
              "ticks": ""
             }
            },
            "type": "scattercarpet"
           }
          ],
          "scattergeo": [
           {
            "marker": {
             "colorbar": {
              "outlinewidth": 0,
              "ticks": ""
             }
            },
            "type": "scattergeo"
           }
          ],
          "scattergl": [
           {
            "marker": {
             "colorbar": {
              "outlinewidth": 0,
              "ticks": ""
             }
            },
            "type": "scattergl"
           }
          ],
          "scattermapbox": [
           {
            "marker": {
             "colorbar": {
              "outlinewidth": 0,
              "ticks": ""
             }
            },
            "type": "scattermapbox"
           }
          ],
          "scatterpolar": [
           {
            "marker": {
             "colorbar": {
              "outlinewidth": 0,
              "ticks": ""
             }
            },
            "type": "scatterpolar"
           }
          ],
          "scatterpolargl": [
           {
            "marker": {
             "colorbar": {
              "outlinewidth": 0,
              "ticks": ""
             }
            },
            "type": "scatterpolargl"
           }
          ],
          "scatterternary": [
           {
            "marker": {
             "colorbar": {
              "outlinewidth": 0,
              "ticks": ""
             }
            },
            "type": "scatterternary"
           }
          ],
          "surface": [
           {
            "colorbar": {
             "outlinewidth": 0,
             "ticks": ""
            },
            "colorscale": [
             [
              0,
              "#0d0887"
             ],
             [
              0.1111111111111111,
              "#46039f"
             ],
             [
              0.2222222222222222,
              "#7201a8"
             ],
             [
              0.3333333333333333,
              "#9c179e"
             ],
             [
              0.4444444444444444,
              "#bd3786"
             ],
             [
              0.5555555555555556,
              "#d8576b"
             ],
             [
              0.6666666666666666,
              "#ed7953"
             ],
             [
              0.7777777777777778,
              "#fb9f3a"
             ],
             [
              0.8888888888888888,
              "#fdca26"
             ],
             [
              1,
              "#f0f921"
             ]
            ],
            "type": "surface"
           }
          ],
          "table": [
           {
            "cells": {
             "fill": {
              "color": "#EBF0F8"
             },
             "line": {
              "color": "white"
             }
            },
            "header": {
             "fill": {
              "color": "#C8D4E3"
             },
             "line": {
              "color": "white"
             }
            },
            "type": "table"
           }
          ]
         },
         "layout": {
          "annotationdefaults": {
           "arrowcolor": "#2a3f5f",
           "arrowhead": 0,
           "arrowwidth": 1
          },
          "autotypenumbers": "strict",
          "coloraxis": {
           "colorbar": {
            "outlinewidth": 0,
            "ticks": ""
           }
          },
          "colorscale": {
           "diverging": [
            [
             0,
             "#8e0152"
            ],
            [
             0.1,
             "#c51b7d"
            ],
            [
             0.2,
             "#de77ae"
            ],
            [
             0.3,
             "#f1b6da"
            ],
            [
             0.4,
             "#fde0ef"
            ],
            [
             0.5,
             "#f7f7f7"
            ],
            [
             0.6,
             "#e6f5d0"
            ],
            [
             0.7,
             "#b8e186"
            ],
            [
             0.8,
             "#7fbc41"
            ],
            [
             0.9,
             "#4d9221"
            ],
            [
             1,
             "#276419"
            ]
           ],
           "sequential": [
            [
             0,
             "#0d0887"
            ],
            [
             0.1111111111111111,
             "#46039f"
            ],
            [
             0.2222222222222222,
             "#7201a8"
            ],
            [
             0.3333333333333333,
             "#9c179e"
            ],
            [
             0.4444444444444444,
             "#bd3786"
            ],
            [
             0.5555555555555556,
             "#d8576b"
            ],
            [
             0.6666666666666666,
             "#ed7953"
            ],
            [
             0.7777777777777778,
             "#fb9f3a"
            ],
            [
             0.8888888888888888,
             "#fdca26"
            ],
            [
             1,
             "#f0f921"
            ]
           ],
           "sequentialminus": [
            [
             0,
             "#0d0887"
            ],
            [
             0.1111111111111111,
             "#46039f"
            ],
            [
             0.2222222222222222,
             "#7201a8"
            ],
            [
             0.3333333333333333,
             "#9c179e"
            ],
            [
             0.4444444444444444,
             "#bd3786"
            ],
            [
             0.5555555555555556,
             "#d8576b"
            ],
            [
             0.6666666666666666,
             "#ed7953"
            ],
            [
             0.7777777777777778,
             "#fb9f3a"
            ],
            [
             0.8888888888888888,
             "#fdca26"
            ],
            [
             1,
             "#f0f921"
            ]
           ]
          },
          "colorway": [
           "#636efa",
           "#EF553B",
           "#00cc96",
           "#ab63fa",
           "#FFA15A",
           "#19d3f3",
           "#FF6692",
           "#B6E880",
           "#FF97FF",
           "#FECB52"
          ],
          "font": {
           "color": "#2a3f5f"
          },
          "geo": {
           "bgcolor": "white",
           "lakecolor": "white",
           "landcolor": "white",
           "showlakes": true,
           "showland": true,
           "subunitcolor": "#C8D4E3"
          },
          "hoverlabel": {
           "align": "left"
          },
          "hovermode": "closest",
          "mapbox": {
           "style": "light"
          },
          "paper_bgcolor": "white",
          "plot_bgcolor": "white",
          "polar": {
           "angularaxis": {
            "gridcolor": "#EBF0F8",
            "linecolor": "#EBF0F8",
            "ticks": ""
           },
           "bgcolor": "white",
           "radialaxis": {
            "gridcolor": "#EBF0F8",
            "linecolor": "#EBF0F8",
            "ticks": ""
           }
          },
          "scene": {
           "xaxis": {
            "backgroundcolor": "white",
            "gridcolor": "#DFE8F3",
            "gridwidth": 2,
            "linecolor": "#EBF0F8",
            "showbackground": true,
            "ticks": "",
            "zerolinecolor": "#EBF0F8"
           },
           "yaxis": {
            "backgroundcolor": "white",
            "gridcolor": "#DFE8F3",
            "gridwidth": 2,
            "linecolor": "#EBF0F8",
            "showbackground": true,
            "ticks": "",
            "zerolinecolor": "#EBF0F8"
           },
           "zaxis": {
            "backgroundcolor": "white",
            "gridcolor": "#DFE8F3",
            "gridwidth": 2,
            "linecolor": "#EBF0F8",
            "showbackground": true,
            "ticks": "",
            "zerolinecolor": "#EBF0F8"
           }
          },
          "shapedefaults": {
           "line": {
            "color": "#2a3f5f"
           }
          },
          "ternary": {
           "aaxis": {
            "gridcolor": "#DFE8F3",
            "linecolor": "#A2B1C6",
            "ticks": ""
           },
           "baxis": {
            "gridcolor": "#DFE8F3",
            "linecolor": "#A2B1C6",
            "ticks": ""
           },
           "bgcolor": "white",
           "caxis": {
            "gridcolor": "#DFE8F3",
            "linecolor": "#A2B1C6",
            "ticks": ""
           }
          },
          "title": {
           "x": 0.05
          },
          "xaxis": {
           "automargin": true,
           "gridcolor": "#EBF0F8",
           "linecolor": "#EBF0F8",
           "ticks": "",
           "title": {
            "standoff": 15
           },
           "zerolinecolor": "#EBF0F8",
           "zerolinewidth": 2
          },
          "yaxis": {
           "automargin": true,
           "gridcolor": "#EBF0F8",
           "linecolor": "#EBF0F8",
           "ticks": "",
           "title": {
            "standoff": 15
           },
           "zerolinecolor": "#EBF0F8",
           "zerolinewidth": 2
          }
         }
        }
       }
      }
     },
     "metadata": {},
     "output_type": "display_data"
    }
   ],
   "source": [
    "fig = FigureBuilder(chat.assign(message=chat['message'].apply(lambda x: ''.join([' ' for i in range(len(x.split())) if x != '<Media omitted>'])))\n",
    "                    ).user_msg_length_boxplot(title=None, xlabel=None)\n",
    "py.plot(fig, filename='Message length boxplot', auto_open=False)\n",
    "fig"
   ]
  },
  {
   "attachments": {},
   "cell_type": "markdown",
   "metadata": {},
   "source": [
    "### Word cloud"
   ]
  },
  {
   "cell_type": "code",
   "execution_count": 12,
   "metadata": {},
   "outputs": [],
   "source": [
    "stylecloud.gen_stylecloud(' '.join(chat['clean_msg']),\n",
    "                          icon_name= 'fab fa-whatsapp',\n",
    "                          colors= ['#25D366', '#128C7E', '#075E54'],\n",
    "                          random_state= 13\n",
    "                          )"
   ]
  },
  {
   "attachments": {},
   "cell_type": "markdown",
   "metadata": {},
   "source": [
    "*stylecloud.png*<br>\n",
    "![stylecloud.png](stylecloud.png)"
   ]
  },
  {
   "attachments": {},
   "cell_type": "markdown",
   "metadata": {},
   "source": [
    "## Message activity"
   ]
  },
  {
   "attachments": {},
   "cell_type": "markdown",
   "metadata": {},
   "source": [
    "All users interventions count"
   ]
  },
  {
   "cell_type": "code",
   "execution_count": 13,
   "metadata": {},
   "outputs": [
    {
     "data": {
      "application/vnd.plotly.v1+json": {
       "config": {
        "plotlyServerURL": "https://plotly.com"
       },
       "data": [
        {
         "name": "interventions count",
         "showlegend": true,
         "text": [
          "2023-01-06T00:00:00",
          "2023-01-07T00:00:00",
          "2023-01-09T00:00:00",
          "2023-01-10T00:00:00",
          "2023-01-11T00:00:00",
          "2023-01-13T00:00:00",
          "2023-01-14T00:00:00",
          "2023-01-16T00:00:00",
          "2023-01-17T00:00:00",
          "2023-01-18T00:00:00",
          "2023-01-19T00:00:00",
          "2023-01-20T00:00:00",
          "2023-01-21T00:00:00",
          "2023-01-23T00:00:00",
          "2023-01-24T00:00:00",
          "2023-01-25T00:00:00",
          "2023-01-26T00:00:00",
          "2023-01-27T00:00:00",
          "2023-01-28T00:00:00",
          "2023-01-30T00:00:00",
          "2023-01-31T00:00:00",
          "2023-02-01T00:00:00",
          "2023-02-02T00:00:00",
          "2023-02-03T00:00:00",
          "2023-02-04T00:00:00",
          "2023-02-06T00:00:00",
          "2023-02-09T00:00:00",
          "2023-02-11T00:00:00",
          "2023-02-13T00:00:00",
          "2023-02-14T00:00:00",
          "2023-02-15T00:00:00",
          "2023-02-16T00:00:00",
          "2023-02-17T00:00:00",
          "2023-02-18T00:00:00",
          "2023-02-19T00:00:00",
          "2023-02-20T00:00:00",
          "2023-02-21T00:00:00",
          "2023-02-22T00:00:00",
          "2023-02-23T00:00:00",
          "2023-02-24T00:00:00",
          "2023-02-25T00:00:00",
          "2023-02-27T00:00:00",
          "2023-02-28T00:00:00",
          "2023-03-01T00:00:00",
          "2023-03-02T00:00:00",
          "2023-03-03T00:00:00",
          "2023-03-04T00:00:00",
          "2023-03-05T00:00:00",
          "2023-03-06T00:00:00",
          "2023-03-07T00:00:00",
          "2023-03-08T00:00:00",
          "2023-03-09T00:00:00",
          "2023-03-10T00:00:00",
          "2023-03-11T00:00:00",
          "2023-03-13T00:00:00",
          "2023-03-14T00:00:00",
          "2023-03-16T00:00:00",
          "2023-03-17T00:00:00",
          "2023-03-18T00:00:00",
          "2023-03-20T00:00:00",
          "2023-03-21T00:00:00",
          "2023-03-22T00:00:00",
          "2023-03-24T00:00:00",
          "2023-03-25T00:00:00",
          "2023-03-27T00:00:00",
          "2023-03-29T00:00:00",
          "2023-04-01T00:00:00",
          "2023-04-03T00:00:00",
          "2023-04-05T00:00:00",
          "2023-04-06T00:00:00",
          "2023-04-08T00:00:00",
          "2023-04-10T00:00:00",
          "2023-04-11T00:00:00",
          "2023-04-12T00:00:00",
          "2023-04-13T00:00:00",
          "2023-04-15T00:00:00",
          "2023-04-16T00:00:00",
          "2023-04-17T00:00:00"
         ],
         "type": "scatter",
         "x": [
          "2023-01-06T00:00:00",
          "2023-01-07T00:00:00",
          "2023-01-09T00:00:00",
          "2023-01-10T00:00:00",
          "2023-01-11T00:00:00",
          "2023-01-13T00:00:00",
          "2023-01-14T00:00:00",
          "2023-01-16T00:00:00",
          "2023-01-17T00:00:00",
          "2023-01-18T00:00:00",
          "2023-01-19T00:00:00",
          "2023-01-20T00:00:00",
          "2023-01-21T00:00:00",
          "2023-01-23T00:00:00",
          "2023-01-24T00:00:00",
          "2023-01-25T00:00:00",
          "2023-01-26T00:00:00",
          "2023-01-27T00:00:00",
          "2023-01-28T00:00:00",
          "2023-01-30T00:00:00",
          "2023-01-31T00:00:00",
          "2023-02-01T00:00:00",
          "2023-02-02T00:00:00",
          "2023-02-03T00:00:00",
          "2023-02-04T00:00:00",
          "2023-02-06T00:00:00",
          "2023-02-09T00:00:00",
          "2023-02-11T00:00:00",
          "2023-02-13T00:00:00",
          "2023-02-14T00:00:00",
          "2023-02-15T00:00:00",
          "2023-02-16T00:00:00",
          "2023-02-17T00:00:00",
          "2023-02-18T00:00:00",
          "2023-02-19T00:00:00",
          "2023-02-20T00:00:00",
          "2023-02-21T00:00:00",
          "2023-02-22T00:00:00",
          "2023-02-23T00:00:00",
          "2023-02-24T00:00:00",
          "2023-02-25T00:00:00",
          "2023-02-27T00:00:00",
          "2023-02-28T00:00:00",
          "2023-03-01T00:00:00",
          "2023-03-02T00:00:00",
          "2023-03-03T00:00:00",
          "2023-03-04T00:00:00",
          "2023-03-05T00:00:00",
          "2023-03-06T00:00:00",
          "2023-03-07T00:00:00",
          "2023-03-08T00:00:00",
          "2023-03-09T00:00:00",
          "2023-03-10T00:00:00",
          "2023-03-11T00:00:00",
          "2023-03-13T00:00:00",
          "2023-03-14T00:00:00",
          "2023-03-16T00:00:00",
          "2023-03-17T00:00:00",
          "2023-03-18T00:00:00",
          "2023-03-20T00:00:00",
          "2023-03-21T00:00:00",
          "2023-03-22T00:00:00",
          "2023-03-24T00:00:00",
          "2023-03-25T00:00:00",
          "2023-03-27T00:00:00",
          "2023-03-29T00:00:00",
          "2023-04-01T00:00:00",
          "2023-04-03T00:00:00",
          "2023-04-05T00:00:00",
          "2023-04-06T00:00:00",
          "2023-04-08T00:00:00",
          "2023-04-10T00:00:00",
          "2023-04-11T00:00:00",
          "2023-04-12T00:00:00",
          "2023-04-13T00:00:00",
          "2023-04-15T00:00:00",
          "2023-04-16T00:00:00",
          "2023-04-17T00:00:00"
         ],
         "y": [
          19,
          46,
          21,
          6,
          41,
          2,
          4,
          112,
          11,
          17,
          23,
          2,
          8,
          2,
          42,
          54,
          29,
          15,
          25,
          21,
          13,
          22,
          17,
          1,
          9,
          10,
          47,
          6,
          24,
          35,
          42,
          19,
          1,
          46,
          2,
          38,
          62,
          56,
          128,
          35,
          23,
          51,
          3,
          30,
          18,
          37,
          29,
          7,
          11,
          55,
          86,
          16,
          5,
          9,
          8,
          8,
          25,
          1,
          14,
          6,
          13,
          2,
          7,
          8,
          9,
          38,
          14,
          48,
          22,
          17,
          2,
          45,
          267,
          5,
          58,
          7,
          1,
          11
         ]
        }
       ],
       "layout": {
        "template": {
         "data": {
          "bar": [
           {
            "error_x": {
             "color": "#2a3f5f"
            },
            "error_y": {
             "color": "#2a3f5f"
            },
            "marker": {
             "line": {
              "color": "white",
              "width": 0.5
             }
            },
            "type": "bar"
           }
          ],
          "barpolar": [
           {
            "marker": {
             "line": {
              "color": "white",
              "width": 0.5
             }
            },
            "type": "barpolar"
           }
          ],
          "carpet": [
           {
            "aaxis": {
             "endlinecolor": "#2a3f5f",
             "gridcolor": "#C8D4E3",
             "linecolor": "#C8D4E3",
             "minorgridcolor": "#C8D4E3",
             "startlinecolor": "#2a3f5f"
            },
            "baxis": {
             "endlinecolor": "#2a3f5f",
             "gridcolor": "#C8D4E3",
             "linecolor": "#C8D4E3",
             "minorgridcolor": "#C8D4E3",
             "startlinecolor": "#2a3f5f"
            },
            "type": "carpet"
           }
          ],
          "choropleth": [
           {
            "colorbar": {
             "outlinewidth": 0,
             "ticks": ""
            },
            "type": "choropleth"
           }
          ],
          "contour": [
           {
            "colorbar": {
             "outlinewidth": 0,
             "ticks": ""
            },
            "colorscale": [
             [
              0,
              "#0d0887"
             ],
             [
              0.1111111111111111,
              "#46039f"
             ],
             [
              0.2222222222222222,
              "#7201a8"
             ],
             [
              0.3333333333333333,
              "#9c179e"
             ],
             [
              0.4444444444444444,
              "#bd3786"
             ],
             [
              0.5555555555555556,
              "#d8576b"
             ],
             [
              0.6666666666666666,
              "#ed7953"
             ],
             [
              0.7777777777777778,
              "#fb9f3a"
             ],
             [
              0.8888888888888888,
              "#fdca26"
             ],
             [
              1,
              "#f0f921"
             ]
            ],
            "type": "contour"
           }
          ],
          "contourcarpet": [
           {
            "colorbar": {
             "outlinewidth": 0,
             "ticks": ""
            },
            "type": "contourcarpet"
           }
          ],
          "heatmap": [
           {
            "colorbar": {
             "outlinewidth": 0,
             "ticks": ""
            },
            "colorscale": [
             [
              0,
              "#0d0887"
             ],
             [
              0.1111111111111111,
              "#46039f"
             ],
             [
              0.2222222222222222,
              "#7201a8"
             ],
             [
              0.3333333333333333,
              "#9c179e"
             ],
             [
              0.4444444444444444,
              "#bd3786"
             ],
             [
              0.5555555555555556,
              "#d8576b"
             ],
             [
              0.6666666666666666,
              "#ed7953"
             ],
             [
              0.7777777777777778,
              "#fb9f3a"
             ],
             [
              0.8888888888888888,
              "#fdca26"
             ],
             [
              1,
              "#f0f921"
             ]
            ],
            "type": "heatmap"
           }
          ],
          "heatmapgl": [
           {
            "colorbar": {
             "outlinewidth": 0,
             "ticks": ""
            },
            "colorscale": [
             [
              0,
              "#0d0887"
             ],
             [
              0.1111111111111111,
              "#46039f"
             ],
             [
              0.2222222222222222,
              "#7201a8"
             ],
             [
              0.3333333333333333,
              "#9c179e"
             ],
             [
              0.4444444444444444,
              "#bd3786"
             ],
             [
              0.5555555555555556,
              "#d8576b"
             ],
             [
              0.6666666666666666,
              "#ed7953"
             ],
             [
              0.7777777777777778,
              "#fb9f3a"
             ],
             [
              0.8888888888888888,
              "#fdca26"
             ],
             [
              1,
              "#f0f921"
             ]
            ],
            "type": "heatmapgl"
           }
          ],
          "histogram": [
           {
            "marker": {
             "colorbar": {
              "outlinewidth": 0,
              "ticks": ""
             }
            },
            "type": "histogram"
           }
          ],
          "histogram2d": [
           {
            "colorbar": {
             "outlinewidth": 0,
             "ticks": ""
            },
            "colorscale": [
             [
              0,
              "#0d0887"
             ],
             [
              0.1111111111111111,
              "#46039f"
             ],
             [
              0.2222222222222222,
              "#7201a8"
             ],
             [
              0.3333333333333333,
              "#9c179e"
             ],
             [
              0.4444444444444444,
              "#bd3786"
             ],
             [
              0.5555555555555556,
              "#d8576b"
             ],
             [
              0.6666666666666666,
              "#ed7953"
             ],
             [
              0.7777777777777778,
              "#fb9f3a"
             ],
             [
              0.8888888888888888,
              "#fdca26"
             ],
             [
              1,
              "#f0f921"
             ]
            ],
            "type": "histogram2d"
           }
          ],
          "histogram2dcontour": [
           {
            "colorbar": {
             "outlinewidth": 0,
             "ticks": ""
            },
            "colorscale": [
             [
              0,
              "#0d0887"
             ],
             [
              0.1111111111111111,
              "#46039f"
             ],
             [
              0.2222222222222222,
              "#7201a8"
             ],
             [
              0.3333333333333333,
              "#9c179e"
             ],
             [
              0.4444444444444444,
              "#bd3786"
             ],
             [
              0.5555555555555556,
              "#d8576b"
             ],
             [
              0.6666666666666666,
              "#ed7953"
             ],
             [
              0.7777777777777778,
              "#fb9f3a"
             ],
             [
              0.8888888888888888,
              "#fdca26"
             ],
             [
              1,
              "#f0f921"
             ]
            ],
            "type": "histogram2dcontour"
           }
          ],
          "mesh3d": [
           {
            "colorbar": {
             "outlinewidth": 0,
             "ticks": ""
            },
            "type": "mesh3d"
           }
          ],
          "parcoords": [
           {
            "line": {
             "colorbar": {
              "outlinewidth": 0,
              "ticks": ""
             }
            },
            "type": "parcoords"
           }
          ],
          "pie": [
           {
            "automargin": true,
            "type": "pie"
           }
          ],
          "scatter": [
           {
            "marker": {
             "colorbar": {
              "outlinewidth": 0,
              "ticks": ""
             }
            },
            "type": "scatter"
           }
          ],
          "scatter3d": [
           {
            "line": {
             "colorbar": {
              "outlinewidth": 0,
              "ticks": ""
             }
            },
            "marker": {
             "colorbar": {
              "outlinewidth": 0,
              "ticks": ""
             }
            },
            "type": "scatter3d"
           }
          ],
          "scattercarpet": [
           {
            "marker": {
             "colorbar": {
              "outlinewidth": 0,
              "ticks": ""
             }
            },
            "type": "scattercarpet"
           }
          ],
          "scattergeo": [
           {
            "marker": {
             "colorbar": {
              "outlinewidth": 0,
              "ticks": ""
             }
            },
            "type": "scattergeo"
           }
          ],
          "scattergl": [
           {
            "marker": {
             "colorbar": {
              "outlinewidth": 0,
              "ticks": ""
             }
            },
            "type": "scattergl"
           }
          ],
          "scattermapbox": [
           {
            "marker": {
             "colorbar": {
              "outlinewidth": 0,
              "ticks": ""
             }
            },
            "type": "scattermapbox"
           }
          ],
          "scatterpolar": [
           {
            "marker": {
             "colorbar": {
              "outlinewidth": 0,
              "ticks": ""
             }
            },
            "type": "scatterpolar"
           }
          ],
          "scatterpolargl": [
           {
            "marker": {
             "colorbar": {
              "outlinewidth": 0,
              "ticks": ""
             }
            },
            "type": "scatterpolargl"
           }
          ],
          "scatterternary": [
           {
            "marker": {
             "colorbar": {
              "outlinewidth": 0,
              "ticks": ""
             }
            },
            "type": "scatterternary"
           }
          ],
          "surface": [
           {
            "colorbar": {
             "outlinewidth": 0,
             "ticks": ""
            },
            "colorscale": [
             [
              0,
              "#0d0887"
             ],
             [
              0.1111111111111111,
              "#46039f"
             ],
             [
              0.2222222222222222,
              "#7201a8"
             ],
             [
              0.3333333333333333,
              "#9c179e"
             ],
             [
              0.4444444444444444,
              "#bd3786"
             ],
             [
              0.5555555555555556,
              "#d8576b"
             ],
             [
              0.6666666666666666,
              "#ed7953"
             ],
             [
              0.7777777777777778,
              "#fb9f3a"
             ],
             [
              0.8888888888888888,
              "#fdca26"
             ],
             [
              1,
              "#f0f921"
             ]
            ],
            "type": "surface"
           }
          ],
          "table": [
           {
            "cells": {
             "fill": {
              "color": "#EBF0F8"
             },
             "line": {
              "color": "white"
             }
            },
            "header": {
             "fill": {
              "color": "#C8D4E3"
             },
             "line": {
              "color": "white"
             }
            },
            "type": "table"
           }
          ]
         },
         "layout": {
          "annotationdefaults": {
           "arrowcolor": "#2a3f5f",
           "arrowhead": 0,
           "arrowwidth": 1
          },
          "autotypenumbers": "strict",
          "coloraxis": {
           "colorbar": {
            "outlinewidth": 0,
            "ticks": ""
           }
          },
          "colorscale": {
           "diverging": [
            [
             0,
             "#8e0152"
            ],
            [
             0.1,
             "#c51b7d"
            ],
            [
             0.2,
             "#de77ae"
            ],
            [
             0.3,
             "#f1b6da"
            ],
            [
             0.4,
             "#fde0ef"
            ],
            [
             0.5,
             "#f7f7f7"
            ],
            [
             0.6,
             "#e6f5d0"
            ],
            [
             0.7,
             "#b8e186"
            ],
            [
             0.8,
             "#7fbc41"
            ],
            [
             0.9,
             "#4d9221"
            ],
            [
             1,
             "#276419"
            ]
           ],
           "sequential": [
            [
             0,
             "#0d0887"
            ],
            [
             0.1111111111111111,
             "#46039f"
            ],
            [
             0.2222222222222222,
             "#7201a8"
            ],
            [
             0.3333333333333333,
             "#9c179e"
            ],
            [
             0.4444444444444444,
             "#bd3786"
            ],
            [
             0.5555555555555556,
             "#d8576b"
            ],
            [
             0.6666666666666666,
             "#ed7953"
            ],
            [
             0.7777777777777778,
             "#fb9f3a"
            ],
            [
             0.8888888888888888,
             "#fdca26"
            ],
            [
             1,
             "#f0f921"
            ]
           ],
           "sequentialminus": [
            [
             0,
             "#0d0887"
            ],
            [
             0.1111111111111111,
             "#46039f"
            ],
            [
             0.2222222222222222,
             "#7201a8"
            ],
            [
             0.3333333333333333,
             "#9c179e"
            ],
            [
             0.4444444444444444,
             "#bd3786"
            ],
            [
             0.5555555555555556,
             "#d8576b"
            ],
            [
             0.6666666666666666,
             "#ed7953"
            ],
            [
             0.7777777777777778,
             "#fb9f3a"
            ],
            [
             0.8888888888888888,
             "#fdca26"
            ],
            [
             1,
             "#f0f921"
            ]
           ]
          },
          "colorway": [
           "#636efa",
           "#EF553B",
           "#00cc96",
           "#ab63fa",
           "#FFA15A",
           "#19d3f3",
           "#FF6692",
           "#B6E880",
           "#FF97FF",
           "#FECB52"
          ],
          "font": {
           "color": "#2a3f5f"
          },
          "geo": {
           "bgcolor": "white",
           "lakecolor": "white",
           "landcolor": "white",
           "showlakes": true,
           "showland": true,
           "subunitcolor": "#C8D4E3"
          },
          "hoverlabel": {
           "align": "left"
          },
          "hovermode": "closest",
          "mapbox": {
           "style": "light"
          },
          "paper_bgcolor": "white",
          "plot_bgcolor": "white",
          "polar": {
           "angularaxis": {
            "gridcolor": "#EBF0F8",
            "linecolor": "#EBF0F8",
            "ticks": ""
           },
           "bgcolor": "white",
           "radialaxis": {
            "gridcolor": "#EBF0F8",
            "linecolor": "#EBF0F8",
            "ticks": ""
           }
          },
          "scene": {
           "xaxis": {
            "backgroundcolor": "white",
            "gridcolor": "#DFE8F3",
            "gridwidth": 2,
            "linecolor": "#EBF0F8",
            "showbackground": true,
            "ticks": "",
            "zerolinecolor": "#EBF0F8"
           },
           "yaxis": {
            "backgroundcolor": "white",
            "gridcolor": "#DFE8F3",
            "gridwidth": 2,
            "linecolor": "#EBF0F8",
            "showbackground": true,
            "ticks": "",
            "zerolinecolor": "#EBF0F8"
           },
           "zaxis": {
            "backgroundcolor": "white",
            "gridcolor": "#DFE8F3",
            "gridwidth": 2,
            "linecolor": "#EBF0F8",
            "showbackground": true,
            "ticks": "",
            "zerolinecolor": "#EBF0F8"
           }
          },
          "shapedefaults": {
           "line": {
            "color": "#2a3f5f"
           }
          },
          "ternary": {
           "aaxis": {
            "gridcolor": "#DFE8F3",
            "linecolor": "#A2B1C6",
            "ticks": ""
           },
           "baxis": {
            "gridcolor": "#DFE8F3",
            "linecolor": "#A2B1C6",
            "ticks": ""
           },
           "bgcolor": "white",
           "caxis": {
            "gridcolor": "#DFE8F3",
            "linecolor": "#A2B1C6",
            "ticks": ""
           }
          },
          "title": {
           "x": 0.05
          },
          "xaxis": {
           "automargin": true,
           "gridcolor": "#EBF0F8",
           "linecolor": "#EBF0F8",
           "ticks": "",
           "title": {
            "standoff": 15
           },
           "zerolinecolor": "#EBF0F8",
           "zerolinewidth": 2
          },
          "yaxis": {
           "automargin": true,
           "gridcolor": "#EBF0F8",
           "linecolor": "#EBF0F8",
           "ticks": "",
           "title": {
            "standoff": 15
           },
           "zerolinecolor": "#EBF0F8",
           "zerolinewidth": 2
          }
         }
        }
       }
      }
     },
     "metadata": {},
     "output_type": "display_data"
    }
   ],
   "source": [
    "fig = FigureBuilder(chat).user_interventions_count_linechart(title=None, xlabel=None, all_users=True)\n",
    "py.plot(fig, filename='All users interventions count', auto_open=False)\n",
    "fig"
   ]
  },
  {
   "attachments": {},
   "cell_type": "markdown",
   "metadata": {},
   "source": [
    "Cumulative interventions count"
   ]
  },
  {
   "cell_type": "code",
   "execution_count": 14,
   "metadata": {},
   "outputs": [
    {
     "data": {
      "application/vnd.plotly.v1+json": {
       "config": {
        "plotlyServerURL": "https://plotly.com"
       },
       "data": [
        {
         "line": {
          "color": "#DB5F57"
         },
         "name": "adhit",
         "showlegend": true,
         "text": [
          "2023-01-06T00:00:00",
          "2023-01-07T00:00:00",
          "2023-01-09T00:00:00",
          "2023-01-10T00:00:00",
          "2023-01-11T00:00:00",
          "2023-01-13T00:00:00",
          "2023-01-14T00:00:00",
          "2023-01-16T00:00:00",
          "2023-01-17T00:00:00",
          "2023-01-18T00:00:00",
          "2023-01-19T00:00:00",
          "2023-01-20T00:00:00",
          "2023-01-21T00:00:00",
          "2023-01-23T00:00:00",
          "2023-01-24T00:00:00",
          "2023-01-25T00:00:00",
          "2023-01-26T00:00:00",
          "2023-01-27T00:00:00",
          "2023-01-28T00:00:00",
          "2023-01-30T00:00:00",
          "2023-01-31T00:00:00",
          "2023-02-01T00:00:00",
          "2023-02-02T00:00:00",
          "2023-02-03T00:00:00",
          "2023-02-04T00:00:00",
          "2023-02-06T00:00:00",
          "2023-02-09T00:00:00",
          "2023-02-11T00:00:00",
          "2023-02-13T00:00:00",
          "2023-02-14T00:00:00",
          "2023-02-15T00:00:00",
          "2023-02-16T00:00:00",
          "2023-02-17T00:00:00",
          "2023-02-18T00:00:00",
          "2023-02-19T00:00:00",
          "2023-02-20T00:00:00",
          "2023-02-21T00:00:00",
          "2023-02-22T00:00:00",
          "2023-02-23T00:00:00",
          "2023-02-24T00:00:00",
          "2023-02-25T00:00:00",
          "2023-02-27T00:00:00",
          "2023-02-28T00:00:00",
          "2023-03-01T00:00:00",
          "2023-03-02T00:00:00",
          "2023-03-03T00:00:00",
          "2023-03-04T00:00:00",
          "2023-03-05T00:00:00",
          "2023-03-06T00:00:00",
          "2023-03-07T00:00:00",
          "2023-03-08T00:00:00",
          "2023-03-09T00:00:00",
          "2023-03-10T00:00:00",
          "2023-03-11T00:00:00",
          "2023-03-13T00:00:00",
          "2023-03-14T00:00:00",
          "2023-03-16T00:00:00",
          "2023-03-17T00:00:00",
          "2023-03-18T00:00:00",
          "2023-03-20T00:00:00",
          "2023-03-21T00:00:00",
          "2023-03-22T00:00:00",
          "2023-03-24T00:00:00",
          "2023-03-25T00:00:00",
          "2023-03-27T00:00:00",
          "2023-03-29T00:00:00",
          "2023-04-01T00:00:00",
          "2023-04-03T00:00:00",
          "2023-04-05T00:00:00",
          "2023-04-06T00:00:00",
          "2023-04-08T00:00:00",
          "2023-04-10T00:00:00",
          "2023-04-11T00:00:00",
          "2023-04-12T00:00:00",
          "2023-04-13T00:00:00",
          "2023-04-15T00:00:00",
          "2023-04-16T00:00:00",
          "2023-04-17T00:00:00"
         ],
         "type": "scatter",
         "x": [
          "2023-01-06T00:00:00",
          "2023-01-07T00:00:00",
          "2023-01-09T00:00:00",
          "2023-01-10T00:00:00",
          "2023-01-11T00:00:00",
          "2023-01-13T00:00:00",
          "2023-01-14T00:00:00",
          "2023-01-16T00:00:00",
          "2023-01-17T00:00:00",
          "2023-01-18T00:00:00",
          "2023-01-19T00:00:00",
          "2023-01-20T00:00:00",
          "2023-01-21T00:00:00",
          "2023-01-23T00:00:00",
          "2023-01-24T00:00:00",
          "2023-01-25T00:00:00",
          "2023-01-26T00:00:00",
          "2023-01-27T00:00:00",
          "2023-01-28T00:00:00",
          "2023-01-30T00:00:00",
          "2023-01-31T00:00:00",
          "2023-02-01T00:00:00",
          "2023-02-02T00:00:00",
          "2023-02-03T00:00:00",
          "2023-02-04T00:00:00",
          "2023-02-06T00:00:00",
          "2023-02-09T00:00:00",
          "2023-02-11T00:00:00",
          "2023-02-13T00:00:00",
          "2023-02-14T00:00:00",
          "2023-02-15T00:00:00",
          "2023-02-16T00:00:00",
          "2023-02-17T00:00:00",
          "2023-02-18T00:00:00",
          "2023-02-19T00:00:00",
          "2023-02-20T00:00:00",
          "2023-02-21T00:00:00",
          "2023-02-22T00:00:00",
          "2023-02-23T00:00:00",
          "2023-02-24T00:00:00",
          "2023-02-25T00:00:00",
          "2023-02-27T00:00:00",
          "2023-02-28T00:00:00",
          "2023-03-01T00:00:00",
          "2023-03-02T00:00:00",
          "2023-03-03T00:00:00",
          "2023-03-04T00:00:00",
          "2023-03-05T00:00:00",
          "2023-03-06T00:00:00",
          "2023-03-07T00:00:00",
          "2023-03-08T00:00:00",
          "2023-03-09T00:00:00",
          "2023-03-10T00:00:00",
          "2023-03-11T00:00:00",
          "2023-03-13T00:00:00",
          "2023-03-14T00:00:00",
          "2023-03-16T00:00:00",
          "2023-03-17T00:00:00",
          "2023-03-18T00:00:00",
          "2023-03-20T00:00:00",
          "2023-03-21T00:00:00",
          "2023-03-22T00:00:00",
          "2023-03-24T00:00:00",
          "2023-03-25T00:00:00",
          "2023-03-27T00:00:00",
          "2023-03-29T00:00:00",
          "2023-04-01T00:00:00",
          "2023-04-03T00:00:00",
          "2023-04-05T00:00:00",
          "2023-04-06T00:00:00",
          "2023-04-08T00:00:00",
          "2023-04-10T00:00:00",
          "2023-04-11T00:00:00",
          "2023-04-12T00:00:00",
          "2023-04-13T00:00:00",
          "2023-04-15T00:00:00",
          "2023-04-16T00:00:00",
          "2023-04-17T00:00:00"
         ],
         "y": [
          0,
          1,
          2,
          3,
          4,
          4,
          4,
          5,
          6,
          7,
          7,
          7,
          7,
          7,
          12,
          13,
          14,
          15,
          18,
          18,
          19,
          19,
          21,
          21,
          21,
          22,
          33,
          33,
          33,
          33,
          37,
          37,
          37,
          39,
          39,
          39,
          39,
          39,
          43,
          43,
          43,
          44,
          44,
          46,
          46,
          47,
          49,
          49,
          51,
          52,
          52,
          52,
          53,
          53,
          53,
          53,
          53,
          53,
          54,
          54,
          56,
          56,
          56,
          56,
          56,
          59,
          59,
          60,
          61,
          63,
          63,
          63,
          72,
          72,
          80,
          80,
          80,
          80
         ]
        },
        {
         "line": {
          "color": "#DB9C57"
         },
         "name": "alex",
         "showlegend": true,
         "text": [
          "2023-01-06T00:00:00",
          "2023-01-07T00:00:00",
          "2023-01-09T00:00:00",
          "2023-01-10T00:00:00",
          "2023-01-11T00:00:00",
          "2023-01-13T00:00:00",
          "2023-01-14T00:00:00",
          "2023-01-16T00:00:00",
          "2023-01-17T00:00:00",
          "2023-01-18T00:00:00",
          "2023-01-19T00:00:00",
          "2023-01-20T00:00:00",
          "2023-01-21T00:00:00",
          "2023-01-23T00:00:00",
          "2023-01-24T00:00:00",
          "2023-01-25T00:00:00",
          "2023-01-26T00:00:00",
          "2023-01-27T00:00:00",
          "2023-01-28T00:00:00",
          "2023-01-30T00:00:00",
          "2023-01-31T00:00:00",
          "2023-02-01T00:00:00",
          "2023-02-02T00:00:00",
          "2023-02-03T00:00:00",
          "2023-02-04T00:00:00",
          "2023-02-06T00:00:00",
          "2023-02-09T00:00:00",
          "2023-02-11T00:00:00",
          "2023-02-13T00:00:00",
          "2023-02-14T00:00:00",
          "2023-02-15T00:00:00",
          "2023-02-16T00:00:00",
          "2023-02-17T00:00:00",
          "2023-02-18T00:00:00",
          "2023-02-19T00:00:00",
          "2023-02-20T00:00:00",
          "2023-02-21T00:00:00",
          "2023-02-22T00:00:00",
          "2023-02-23T00:00:00",
          "2023-02-24T00:00:00",
          "2023-02-25T00:00:00",
          "2023-02-27T00:00:00",
          "2023-02-28T00:00:00",
          "2023-03-01T00:00:00",
          "2023-03-02T00:00:00",
          "2023-03-03T00:00:00",
          "2023-03-04T00:00:00",
          "2023-03-05T00:00:00",
          "2023-03-06T00:00:00",
          "2023-03-07T00:00:00",
          "2023-03-08T00:00:00",
          "2023-03-09T00:00:00",
          "2023-03-10T00:00:00",
          "2023-03-11T00:00:00",
          "2023-03-13T00:00:00",
          "2023-03-14T00:00:00",
          "2023-03-16T00:00:00",
          "2023-03-17T00:00:00",
          "2023-03-18T00:00:00",
          "2023-03-20T00:00:00",
          "2023-03-21T00:00:00",
          "2023-03-22T00:00:00",
          "2023-03-24T00:00:00",
          "2023-03-25T00:00:00",
          "2023-03-27T00:00:00",
          "2023-03-29T00:00:00",
          "2023-04-01T00:00:00",
          "2023-04-03T00:00:00",
          "2023-04-05T00:00:00",
          "2023-04-06T00:00:00",
          "2023-04-08T00:00:00",
          "2023-04-10T00:00:00",
          "2023-04-11T00:00:00",
          "2023-04-12T00:00:00",
          "2023-04-13T00:00:00",
          "2023-04-15T00:00:00",
          "2023-04-16T00:00:00",
          "2023-04-17T00:00:00"
         ],
         "type": "scatter",
         "x": [
          "2023-01-06T00:00:00",
          "2023-01-07T00:00:00",
          "2023-01-09T00:00:00",
          "2023-01-10T00:00:00",
          "2023-01-11T00:00:00",
          "2023-01-13T00:00:00",
          "2023-01-14T00:00:00",
          "2023-01-16T00:00:00",
          "2023-01-17T00:00:00",
          "2023-01-18T00:00:00",
          "2023-01-19T00:00:00",
          "2023-01-20T00:00:00",
          "2023-01-21T00:00:00",
          "2023-01-23T00:00:00",
          "2023-01-24T00:00:00",
          "2023-01-25T00:00:00",
          "2023-01-26T00:00:00",
          "2023-01-27T00:00:00",
          "2023-01-28T00:00:00",
          "2023-01-30T00:00:00",
          "2023-01-31T00:00:00",
          "2023-02-01T00:00:00",
          "2023-02-02T00:00:00",
          "2023-02-03T00:00:00",
          "2023-02-04T00:00:00",
          "2023-02-06T00:00:00",
          "2023-02-09T00:00:00",
          "2023-02-11T00:00:00",
          "2023-02-13T00:00:00",
          "2023-02-14T00:00:00",
          "2023-02-15T00:00:00",
          "2023-02-16T00:00:00",
          "2023-02-17T00:00:00",
          "2023-02-18T00:00:00",
          "2023-02-19T00:00:00",
          "2023-02-20T00:00:00",
          "2023-02-21T00:00:00",
          "2023-02-22T00:00:00",
          "2023-02-23T00:00:00",
          "2023-02-24T00:00:00",
          "2023-02-25T00:00:00",
          "2023-02-27T00:00:00",
          "2023-02-28T00:00:00",
          "2023-03-01T00:00:00",
          "2023-03-02T00:00:00",
          "2023-03-03T00:00:00",
          "2023-03-04T00:00:00",
          "2023-03-05T00:00:00",
          "2023-03-06T00:00:00",
          "2023-03-07T00:00:00",
          "2023-03-08T00:00:00",
          "2023-03-09T00:00:00",
          "2023-03-10T00:00:00",
          "2023-03-11T00:00:00",
          "2023-03-13T00:00:00",
          "2023-03-14T00:00:00",
          "2023-03-16T00:00:00",
          "2023-03-17T00:00:00",
          "2023-03-18T00:00:00",
          "2023-03-20T00:00:00",
          "2023-03-21T00:00:00",
          "2023-03-22T00:00:00",
          "2023-03-24T00:00:00",
          "2023-03-25T00:00:00",
          "2023-03-27T00:00:00",
          "2023-03-29T00:00:00",
          "2023-04-01T00:00:00",
          "2023-04-03T00:00:00",
          "2023-04-05T00:00:00",
          "2023-04-06T00:00:00",
          "2023-04-08T00:00:00",
          "2023-04-10T00:00:00",
          "2023-04-11T00:00:00",
          "2023-04-12T00:00:00",
          "2023-04-13T00:00:00",
          "2023-04-15T00:00:00",
          "2023-04-16T00:00:00",
          "2023-04-17T00:00:00"
         ],
         "y": [
          1,
          2,
          2,
          2,
          2,
          2,
          2,
          2,
          2,
          2,
          2,
          2,
          2,
          2,
          3,
          3,
          5,
          6,
          7,
          7,
          8,
          8,
          8,
          8,
          8,
          11,
          11,
          11,
          11,
          11,
          12,
          12,
          12,
          16,
          16,
          17,
          17,
          17,
          17,
          17,
          17,
          17,
          17,
          17,
          17,
          17,
          17,
          17,
          17,
          19,
          20,
          20,
          20,
          20,
          20,
          20,
          20,
          20,
          20,
          20,
          21,
          21,
          21,
          21,
          25,
          25,
          25,
          28,
          29,
          30,
          30,
          30,
          31,
          31,
          34,
          34,
          34,
          35
         ]
        },
        {
         "line": {
          "color": "#DBD957"
         },
         "name": "alit_gor",
         "showlegend": true,
         "text": [
          "2023-01-06T00:00:00",
          "2023-01-07T00:00:00",
          "2023-01-09T00:00:00",
          "2023-01-10T00:00:00",
          "2023-01-11T00:00:00",
          "2023-01-13T00:00:00",
          "2023-01-14T00:00:00",
          "2023-01-16T00:00:00",
          "2023-01-17T00:00:00",
          "2023-01-18T00:00:00",
          "2023-01-19T00:00:00",
          "2023-01-20T00:00:00",
          "2023-01-21T00:00:00",
          "2023-01-23T00:00:00",
          "2023-01-24T00:00:00",
          "2023-01-25T00:00:00",
          "2023-01-26T00:00:00",
          "2023-01-27T00:00:00",
          "2023-01-28T00:00:00",
          "2023-01-30T00:00:00",
          "2023-01-31T00:00:00",
          "2023-02-01T00:00:00",
          "2023-02-02T00:00:00",
          "2023-02-03T00:00:00",
          "2023-02-04T00:00:00",
          "2023-02-06T00:00:00",
          "2023-02-09T00:00:00",
          "2023-02-11T00:00:00",
          "2023-02-13T00:00:00",
          "2023-02-14T00:00:00",
          "2023-02-15T00:00:00",
          "2023-02-16T00:00:00",
          "2023-02-17T00:00:00",
          "2023-02-18T00:00:00",
          "2023-02-19T00:00:00",
          "2023-02-20T00:00:00",
          "2023-02-21T00:00:00",
          "2023-02-22T00:00:00",
          "2023-02-23T00:00:00",
          "2023-02-24T00:00:00",
          "2023-02-25T00:00:00",
          "2023-02-27T00:00:00",
          "2023-02-28T00:00:00",
          "2023-03-01T00:00:00",
          "2023-03-02T00:00:00",
          "2023-03-03T00:00:00",
          "2023-03-04T00:00:00",
          "2023-03-05T00:00:00",
          "2023-03-06T00:00:00",
          "2023-03-07T00:00:00",
          "2023-03-08T00:00:00",
          "2023-03-09T00:00:00",
          "2023-03-10T00:00:00",
          "2023-03-11T00:00:00",
          "2023-03-13T00:00:00",
          "2023-03-14T00:00:00",
          "2023-03-16T00:00:00",
          "2023-03-17T00:00:00",
          "2023-03-18T00:00:00",
          "2023-03-20T00:00:00",
          "2023-03-21T00:00:00",
          "2023-03-22T00:00:00",
          "2023-03-24T00:00:00",
          "2023-03-25T00:00:00",
          "2023-03-27T00:00:00",
          "2023-03-29T00:00:00",
          "2023-04-01T00:00:00",
          "2023-04-03T00:00:00",
          "2023-04-05T00:00:00",
          "2023-04-06T00:00:00",
          "2023-04-08T00:00:00",
          "2023-04-10T00:00:00",
          "2023-04-11T00:00:00",
          "2023-04-12T00:00:00",
          "2023-04-13T00:00:00",
          "2023-04-15T00:00:00",
          "2023-04-16T00:00:00",
          "2023-04-17T00:00:00"
         ],
         "type": "scatter",
         "x": [
          "2023-01-06T00:00:00",
          "2023-01-07T00:00:00",
          "2023-01-09T00:00:00",
          "2023-01-10T00:00:00",
          "2023-01-11T00:00:00",
          "2023-01-13T00:00:00",
          "2023-01-14T00:00:00",
          "2023-01-16T00:00:00",
          "2023-01-17T00:00:00",
          "2023-01-18T00:00:00",
          "2023-01-19T00:00:00",
          "2023-01-20T00:00:00",
          "2023-01-21T00:00:00",
          "2023-01-23T00:00:00",
          "2023-01-24T00:00:00",
          "2023-01-25T00:00:00",
          "2023-01-26T00:00:00",
          "2023-01-27T00:00:00",
          "2023-01-28T00:00:00",
          "2023-01-30T00:00:00",
          "2023-01-31T00:00:00",
          "2023-02-01T00:00:00",
          "2023-02-02T00:00:00",
          "2023-02-03T00:00:00",
          "2023-02-04T00:00:00",
          "2023-02-06T00:00:00",
          "2023-02-09T00:00:00",
          "2023-02-11T00:00:00",
          "2023-02-13T00:00:00",
          "2023-02-14T00:00:00",
          "2023-02-15T00:00:00",
          "2023-02-16T00:00:00",
          "2023-02-17T00:00:00",
          "2023-02-18T00:00:00",
          "2023-02-19T00:00:00",
          "2023-02-20T00:00:00",
          "2023-02-21T00:00:00",
          "2023-02-22T00:00:00",
          "2023-02-23T00:00:00",
          "2023-02-24T00:00:00",
          "2023-02-25T00:00:00",
          "2023-02-27T00:00:00",
          "2023-02-28T00:00:00",
          "2023-03-01T00:00:00",
          "2023-03-02T00:00:00",
          "2023-03-03T00:00:00",
          "2023-03-04T00:00:00",
          "2023-03-05T00:00:00",
          "2023-03-06T00:00:00",
          "2023-03-07T00:00:00",
          "2023-03-08T00:00:00",
          "2023-03-09T00:00:00",
          "2023-03-10T00:00:00",
          "2023-03-11T00:00:00",
          "2023-03-13T00:00:00",
          "2023-03-14T00:00:00",
          "2023-03-16T00:00:00",
          "2023-03-17T00:00:00",
          "2023-03-18T00:00:00",
          "2023-03-20T00:00:00",
          "2023-03-21T00:00:00",
          "2023-03-22T00:00:00",
          "2023-03-24T00:00:00",
          "2023-03-25T00:00:00",
          "2023-03-27T00:00:00",
          "2023-03-29T00:00:00",
          "2023-04-01T00:00:00",
          "2023-04-03T00:00:00",
          "2023-04-05T00:00:00",
          "2023-04-06T00:00:00",
          "2023-04-08T00:00:00",
          "2023-04-10T00:00:00",
          "2023-04-11T00:00:00",
          "2023-04-12T00:00:00",
          "2023-04-13T00:00:00",
          "2023-04-15T00:00:00",
          "2023-04-16T00:00:00",
          "2023-04-17T00:00:00"
         ],
         "y": [
          0,
          0,
          3,
          3,
          5,
          5,
          6,
          6,
          6,
          6,
          6,
          6,
          6,
          6,
          7,
          8,
          8,
          8,
          8,
          9,
          9,
          9,
          9,
          9,
          9,
          10,
          10,
          10,
          11,
          14,
          14,
          15,
          15,
          16,
          16,
          16,
          16,
          17,
          17,
          17,
          18,
          18,
          18,
          18,
          18,
          18,
          18,
          18,
          18,
          19,
          24,
          24,
          24,
          24,
          24,
          24,
          24,
          24,
          24,
          24,
          24,
          24,
          24,
          24,
          24,
          24,
          24,
          25,
          26,
          26,
          26,
          28,
          33,
          33,
          33,
          33,
          33,
          33
         ]
        },
        {
         "line": {
          "color": "#A0DB57"
         },
         "name": "alit_jak",
         "showlegend": true,
         "text": [
          "2023-01-06T00:00:00",
          "2023-01-07T00:00:00",
          "2023-01-09T00:00:00",
          "2023-01-10T00:00:00",
          "2023-01-11T00:00:00",
          "2023-01-13T00:00:00",
          "2023-01-14T00:00:00",
          "2023-01-16T00:00:00",
          "2023-01-17T00:00:00",
          "2023-01-18T00:00:00",
          "2023-01-19T00:00:00",
          "2023-01-20T00:00:00",
          "2023-01-21T00:00:00",
          "2023-01-23T00:00:00",
          "2023-01-24T00:00:00",
          "2023-01-25T00:00:00",
          "2023-01-26T00:00:00",
          "2023-01-27T00:00:00",
          "2023-01-28T00:00:00",
          "2023-01-30T00:00:00",
          "2023-01-31T00:00:00",
          "2023-02-01T00:00:00",
          "2023-02-02T00:00:00",
          "2023-02-03T00:00:00",
          "2023-02-04T00:00:00",
          "2023-02-06T00:00:00",
          "2023-02-09T00:00:00",
          "2023-02-11T00:00:00",
          "2023-02-13T00:00:00",
          "2023-02-14T00:00:00",
          "2023-02-15T00:00:00",
          "2023-02-16T00:00:00",
          "2023-02-17T00:00:00",
          "2023-02-18T00:00:00",
          "2023-02-19T00:00:00",
          "2023-02-20T00:00:00",
          "2023-02-21T00:00:00",
          "2023-02-22T00:00:00",
          "2023-02-23T00:00:00",
          "2023-02-24T00:00:00",
          "2023-02-25T00:00:00",
          "2023-02-27T00:00:00",
          "2023-02-28T00:00:00",
          "2023-03-01T00:00:00",
          "2023-03-02T00:00:00",
          "2023-03-03T00:00:00",
          "2023-03-04T00:00:00",
          "2023-03-05T00:00:00",
          "2023-03-06T00:00:00",
          "2023-03-07T00:00:00",
          "2023-03-08T00:00:00",
          "2023-03-09T00:00:00",
          "2023-03-10T00:00:00",
          "2023-03-11T00:00:00",
          "2023-03-13T00:00:00",
          "2023-03-14T00:00:00",
          "2023-03-16T00:00:00",
          "2023-03-17T00:00:00",
          "2023-03-18T00:00:00",
          "2023-03-20T00:00:00",
          "2023-03-21T00:00:00",
          "2023-03-22T00:00:00",
          "2023-03-24T00:00:00",
          "2023-03-25T00:00:00",
          "2023-03-27T00:00:00",
          "2023-03-29T00:00:00",
          "2023-04-01T00:00:00",
          "2023-04-03T00:00:00",
          "2023-04-05T00:00:00",
          "2023-04-06T00:00:00",
          "2023-04-08T00:00:00",
          "2023-04-10T00:00:00",
          "2023-04-11T00:00:00",
          "2023-04-12T00:00:00",
          "2023-04-13T00:00:00",
          "2023-04-15T00:00:00",
          "2023-04-16T00:00:00",
          "2023-04-17T00:00:00"
         ],
         "type": "scatter",
         "x": [
          "2023-01-06T00:00:00",
          "2023-01-07T00:00:00",
          "2023-01-09T00:00:00",
          "2023-01-10T00:00:00",
          "2023-01-11T00:00:00",
          "2023-01-13T00:00:00",
          "2023-01-14T00:00:00",
          "2023-01-16T00:00:00",
          "2023-01-17T00:00:00",
          "2023-01-18T00:00:00",
          "2023-01-19T00:00:00",
          "2023-01-20T00:00:00",
          "2023-01-21T00:00:00",
          "2023-01-23T00:00:00",
          "2023-01-24T00:00:00",
          "2023-01-25T00:00:00",
          "2023-01-26T00:00:00",
          "2023-01-27T00:00:00",
          "2023-01-28T00:00:00",
          "2023-01-30T00:00:00",
          "2023-01-31T00:00:00",
          "2023-02-01T00:00:00",
          "2023-02-02T00:00:00",
          "2023-02-03T00:00:00",
          "2023-02-04T00:00:00",
          "2023-02-06T00:00:00",
          "2023-02-09T00:00:00",
          "2023-02-11T00:00:00",
          "2023-02-13T00:00:00",
          "2023-02-14T00:00:00",
          "2023-02-15T00:00:00",
          "2023-02-16T00:00:00",
          "2023-02-17T00:00:00",
          "2023-02-18T00:00:00",
          "2023-02-19T00:00:00",
          "2023-02-20T00:00:00",
          "2023-02-21T00:00:00",
          "2023-02-22T00:00:00",
          "2023-02-23T00:00:00",
          "2023-02-24T00:00:00",
          "2023-02-25T00:00:00",
          "2023-02-27T00:00:00",
          "2023-02-28T00:00:00",
          "2023-03-01T00:00:00",
          "2023-03-02T00:00:00",
          "2023-03-03T00:00:00",
          "2023-03-04T00:00:00",
          "2023-03-05T00:00:00",
          "2023-03-06T00:00:00",
          "2023-03-07T00:00:00",
          "2023-03-08T00:00:00",
          "2023-03-09T00:00:00",
          "2023-03-10T00:00:00",
          "2023-03-11T00:00:00",
          "2023-03-13T00:00:00",
          "2023-03-14T00:00:00",
          "2023-03-16T00:00:00",
          "2023-03-17T00:00:00",
          "2023-03-18T00:00:00",
          "2023-03-20T00:00:00",
          "2023-03-21T00:00:00",
          "2023-03-22T00:00:00",
          "2023-03-24T00:00:00",
          "2023-03-25T00:00:00",
          "2023-03-27T00:00:00",
          "2023-03-29T00:00:00",
          "2023-04-01T00:00:00",
          "2023-04-03T00:00:00",
          "2023-04-05T00:00:00",
          "2023-04-06T00:00:00",
          "2023-04-08T00:00:00",
          "2023-04-10T00:00:00",
          "2023-04-11T00:00:00",
          "2023-04-12T00:00:00",
          "2023-04-13T00:00:00",
          "2023-04-15T00:00:00",
          "2023-04-16T00:00:00",
          "2023-04-17T00:00:00"
         ],
         "y": [
          3,
          3,
          4,
          4,
          4,
          4,
          4,
          4,
          4,
          13,
          18,
          18,
          18,
          18,
          19,
          22,
          22,
          23,
          24,
          27,
          28,
          28,
          28,
          28,
          28,
          29,
          29,
          29,
          29,
          31,
          31,
          31,
          31,
          33,
          33,
          33,
          33,
          36,
          37,
          37,
          37,
          37,
          37,
          38,
          41,
          46,
          53,
          54,
          54,
          67,
          68,
          70,
          70,
          70,
          72,
          72,
          73,
          73,
          78,
          81,
          81,
          81,
          82,
          84,
          84,
          84,
          85,
          97,
          97,
          99,
          99,
          108,
          126,
          126,
          126,
          126,
          126,
          126
         ]
        },
        {
         "line": {
          "color": "#63DB57"
         },
         "name": "aris",
         "showlegend": true,
         "text": [
          "2023-01-06T00:00:00",
          "2023-01-07T00:00:00",
          "2023-01-09T00:00:00",
          "2023-01-10T00:00:00",
          "2023-01-11T00:00:00",
          "2023-01-13T00:00:00",
          "2023-01-14T00:00:00",
          "2023-01-16T00:00:00",
          "2023-01-17T00:00:00",
          "2023-01-18T00:00:00",
          "2023-01-19T00:00:00",
          "2023-01-20T00:00:00",
          "2023-01-21T00:00:00",
          "2023-01-23T00:00:00",
          "2023-01-24T00:00:00",
          "2023-01-25T00:00:00",
          "2023-01-26T00:00:00",
          "2023-01-27T00:00:00",
          "2023-01-28T00:00:00",
          "2023-01-30T00:00:00",
          "2023-01-31T00:00:00",
          "2023-02-01T00:00:00",
          "2023-02-02T00:00:00",
          "2023-02-03T00:00:00",
          "2023-02-04T00:00:00",
          "2023-02-06T00:00:00",
          "2023-02-09T00:00:00",
          "2023-02-11T00:00:00",
          "2023-02-13T00:00:00",
          "2023-02-14T00:00:00",
          "2023-02-15T00:00:00",
          "2023-02-16T00:00:00",
          "2023-02-17T00:00:00",
          "2023-02-18T00:00:00",
          "2023-02-19T00:00:00",
          "2023-02-20T00:00:00",
          "2023-02-21T00:00:00",
          "2023-02-22T00:00:00",
          "2023-02-23T00:00:00",
          "2023-02-24T00:00:00",
          "2023-02-25T00:00:00",
          "2023-02-27T00:00:00",
          "2023-02-28T00:00:00",
          "2023-03-01T00:00:00",
          "2023-03-02T00:00:00",
          "2023-03-03T00:00:00",
          "2023-03-04T00:00:00",
          "2023-03-05T00:00:00",
          "2023-03-06T00:00:00",
          "2023-03-07T00:00:00",
          "2023-03-08T00:00:00",
          "2023-03-09T00:00:00",
          "2023-03-10T00:00:00",
          "2023-03-11T00:00:00",
          "2023-03-13T00:00:00",
          "2023-03-14T00:00:00",
          "2023-03-16T00:00:00",
          "2023-03-17T00:00:00",
          "2023-03-18T00:00:00",
          "2023-03-20T00:00:00",
          "2023-03-21T00:00:00",
          "2023-03-22T00:00:00",
          "2023-03-24T00:00:00",
          "2023-03-25T00:00:00",
          "2023-03-27T00:00:00",
          "2023-03-29T00:00:00",
          "2023-04-01T00:00:00",
          "2023-04-03T00:00:00",
          "2023-04-05T00:00:00",
          "2023-04-06T00:00:00",
          "2023-04-08T00:00:00",
          "2023-04-10T00:00:00",
          "2023-04-11T00:00:00",
          "2023-04-12T00:00:00",
          "2023-04-13T00:00:00",
          "2023-04-15T00:00:00",
          "2023-04-16T00:00:00",
          "2023-04-17T00:00:00"
         ],
         "type": "scatter",
         "x": [
          "2023-01-06T00:00:00",
          "2023-01-07T00:00:00",
          "2023-01-09T00:00:00",
          "2023-01-10T00:00:00",
          "2023-01-11T00:00:00",
          "2023-01-13T00:00:00",
          "2023-01-14T00:00:00",
          "2023-01-16T00:00:00",
          "2023-01-17T00:00:00",
          "2023-01-18T00:00:00",
          "2023-01-19T00:00:00",
          "2023-01-20T00:00:00",
          "2023-01-21T00:00:00",
          "2023-01-23T00:00:00",
          "2023-01-24T00:00:00",
          "2023-01-25T00:00:00",
          "2023-01-26T00:00:00",
          "2023-01-27T00:00:00",
          "2023-01-28T00:00:00",
          "2023-01-30T00:00:00",
          "2023-01-31T00:00:00",
          "2023-02-01T00:00:00",
          "2023-02-02T00:00:00",
          "2023-02-03T00:00:00",
          "2023-02-04T00:00:00",
          "2023-02-06T00:00:00",
          "2023-02-09T00:00:00",
          "2023-02-11T00:00:00",
          "2023-02-13T00:00:00",
          "2023-02-14T00:00:00",
          "2023-02-15T00:00:00",
          "2023-02-16T00:00:00",
          "2023-02-17T00:00:00",
          "2023-02-18T00:00:00",
          "2023-02-19T00:00:00",
          "2023-02-20T00:00:00",
          "2023-02-21T00:00:00",
          "2023-02-22T00:00:00",
          "2023-02-23T00:00:00",
          "2023-02-24T00:00:00",
          "2023-02-25T00:00:00",
          "2023-02-27T00:00:00",
          "2023-02-28T00:00:00",
          "2023-03-01T00:00:00",
          "2023-03-02T00:00:00",
          "2023-03-03T00:00:00",
          "2023-03-04T00:00:00",
          "2023-03-05T00:00:00",
          "2023-03-06T00:00:00",
          "2023-03-07T00:00:00",
          "2023-03-08T00:00:00",
          "2023-03-09T00:00:00",
          "2023-03-10T00:00:00",
          "2023-03-11T00:00:00",
          "2023-03-13T00:00:00",
          "2023-03-14T00:00:00",
          "2023-03-16T00:00:00",
          "2023-03-17T00:00:00",
          "2023-03-18T00:00:00",
          "2023-03-20T00:00:00",
          "2023-03-21T00:00:00",
          "2023-03-22T00:00:00",
          "2023-03-24T00:00:00",
          "2023-03-25T00:00:00",
          "2023-03-27T00:00:00",
          "2023-03-29T00:00:00",
          "2023-04-01T00:00:00",
          "2023-04-03T00:00:00",
          "2023-04-05T00:00:00",
          "2023-04-06T00:00:00",
          "2023-04-08T00:00:00",
          "2023-04-10T00:00:00",
          "2023-04-11T00:00:00",
          "2023-04-12T00:00:00",
          "2023-04-13T00:00:00",
          "2023-04-15T00:00:00",
          "2023-04-16T00:00:00",
          "2023-04-17T00:00:00"
         ],
         "y": [
          1,
          3,
          3,
          4,
          8,
          8,
          8,
          29,
          29,
          29,
          29,
          29,
          30,
          30,
          34,
          43,
          43,
          46,
          47,
          52,
          54,
          58,
          58,
          58,
          59,
          59,
          60,
          60,
          61,
          62,
          63,
          63,
          63,
          65,
          65,
          66,
          70,
          70,
          75,
          75,
          76,
          76,
          76,
          84,
          87,
          94,
          95,
          98,
          100,
          104,
          109,
          113,
          116,
          118,
          118,
          121,
          128,
          128,
          131,
          131,
          133,
          133,
          135,
          136,
          138,
          145,
          149,
          158,
          162,
          167,
          167,
          168,
          218,
          220,
          225,
          225,
          226,
          228
         ]
        },
        {
         "line": {
          "color": "#57DB87"
         },
         "name": "ely",
         "showlegend": true,
         "text": [
          "2023-01-06T00:00:00",
          "2023-01-07T00:00:00",
          "2023-01-09T00:00:00",
          "2023-01-10T00:00:00",
          "2023-01-11T00:00:00",
          "2023-01-13T00:00:00",
          "2023-01-14T00:00:00",
          "2023-01-16T00:00:00",
          "2023-01-17T00:00:00",
          "2023-01-18T00:00:00",
          "2023-01-19T00:00:00",
          "2023-01-20T00:00:00",
          "2023-01-21T00:00:00",
          "2023-01-23T00:00:00",
          "2023-01-24T00:00:00",
          "2023-01-25T00:00:00",
          "2023-01-26T00:00:00",
          "2023-01-27T00:00:00",
          "2023-01-28T00:00:00",
          "2023-01-30T00:00:00",
          "2023-01-31T00:00:00",
          "2023-02-01T00:00:00",
          "2023-02-02T00:00:00",
          "2023-02-03T00:00:00",
          "2023-02-04T00:00:00",
          "2023-02-06T00:00:00",
          "2023-02-09T00:00:00",
          "2023-02-11T00:00:00",
          "2023-02-13T00:00:00",
          "2023-02-14T00:00:00",
          "2023-02-15T00:00:00",
          "2023-02-16T00:00:00",
          "2023-02-17T00:00:00",
          "2023-02-18T00:00:00",
          "2023-02-19T00:00:00",
          "2023-02-20T00:00:00",
          "2023-02-21T00:00:00",
          "2023-02-22T00:00:00",
          "2023-02-23T00:00:00",
          "2023-02-24T00:00:00",
          "2023-02-25T00:00:00",
          "2023-02-27T00:00:00",
          "2023-02-28T00:00:00",
          "2023-03-01T00:00:00",
          "2023-03-02T00:00:00",
          "2023-03-03T00:00:00",
          "2023-03-04T00:00:00",
          "2023-03-05T00:00:00",
          "2023-03-06T00:00:00",
          "2023-03-07T00:00:00",
          "2023-03-08T00:00:00",
          "2023-03-09T00:00:00",
          "2023-03-10T00:00:00",
          "2023-03-11T00:00:00",
          "2023-03-13T00:00:00",
          "2023-03-14T00:00:00",
          "2023-03-16T00:00:00",
          "2023-03-17T00:00:00",
          "2023-03-18T00:00:00",
          "2023-03-20T00:00:00",
          "2023-03-21T00:00:00",
          "2023-03-22T00:00:00",
          "2023-03-24T00:00:00",
          "2023-03-25T00:00:00",
          "2023-03-27T00:00:00",
          "2023-03-29T00:00:00",
          "2023-04-01T00:00:00",
          "2023-04-03T00:00:00",
          "2023-04-05T00:00:00",
          "2023-04-06T00:00:00",
          "2023-04-08T00:00:00",
          "2023-04-10T00:00:00",
          "2023-04-11T00:00:00",
          "2023-04-12T00:00:00",
          "2023-04-13T00:00:00",
          "2023-04-15T00:00:00",
          "2023-04-16T00:00:00",
          "2023-04-17T00:00:00"
         ],
         "type": "scatter",
         "x": [
          "2023-01-06T00:00:00",
          "2023-01-07T00:00:00",
          "2023-01-09T00:00:00",
          "2023-01-10T00:00:00",
          "2023-01-11T00:00:00",
          "2023-01-13T00:00:00",
          "2023-01-14T00:00:00",
          "2023-01-16T00:00:00",
          "2023-01-17T00:00:00",
          "2023-01-18T00:00:00",
          "2023-01-19T00:00:00",
          "2023-01-20T00:00:00",
          "2023-01-21T00:00:00",
          "2023-01-23T00:00:00",
          "2023-01-24T00:00:00",
          "2023-01-25T00:00:00",
          "2023-01-26T00:00:00",
          "2023-01-27T00:00:00",
          "2023-01-28T00:00:00",
          "2023-01-30T00:00:00",
          "2023-01-31T00:00:00",
          "2023-02-01T00:00:00",
          "2023-02-02T00:00:00",
          "2023-02-03T00:00:00",
          "2023-02-04T00:00:00",
          "2023-02-06T00:00:00",
          "2023-02-09T00:00:00",
          "2023-02-11T00:00:00",
          "2023-02-13T00:00:00",
          "2023-02-14T00:00:00",
          "2023-02-15T00:00:00",
          "2023-02-16T00:00:00",
          "2023-02-17T00:00:00",
          "2023-02-18T00:00:00",
          "2023-02-19T00:00:00",
          "2023-02-20T00:00:00",
          "2023-02-21T00:00:00",
          "2023-02-22T00:00:00",
          "2023-02-23T00:00:00",
          "2023-02-24T00:00:00",
          "2023-02-25T00:00:00",
          "2023-02-27T00:00:00",
          "2023-02-28T00:00:00",
          "2023-03-01T00:00:00",
          "2023-03-02T00:00:00",
          "2023-03-03T00:00:00",
          "2023-03-04T00:00:00",
          "2023-03-05T00:00:00",
          "2023-03-06T00:00:00",
          "2023-03-07T00:00:00",
          "2023-03-08T00:00:00",
          "2023-03-09T00:00:00",
          "2023-03-10T00:00:00",
          "2023-03-11T00:00:00",
          "2023-03-13T00:00:00",
          "2023-03-14T00:00:00",
          "2023-03-16T00:00:00",
          "2023-03-17T00:00:00",
          "2023-03-18T00:00:00",
          "2023-03-20T00:00:00",
          "2023-03-21T00:00:00",
          "2023-03-22T00:00:00",
          "2023-03-24T00:00:00",
          "2023-03-25T00:00:00",
          "2023-03-27T00:00:00",
          "2023-03-29T00:00:00",
          "2023-04-01T00:00:00",
          "2023-04-03T00:00:00",
          "2023-04-05T00:00:00",
          "2023-04-06T00:00:00",
          "2023-04-08T00:00:00",
          "2023-04-10T00:00:00",
          "2023-04-11T00:00:00",
          "2023-04-12T00:00:00",
          "2023-04-13T00:00:00",
          "2023-04-15T00:00:00",
          "2023-04-16T00:00:00",
          "2023-04-17T00:00:00"
         ],
         "y": [
          1,
          11,
          13,
          13,
          17,
          17,
          17,
          31,
          31,
          32,
          37,
          37,
          38,
          38,
          43,
          47,
          49,
          50,
          54,
          57,
          58,
          61,
          63,
          63,
          63,
          63,
          65,
          65,
          65,
          75,
          75,
          77,
          77,
          80,
          80,
          83,
          88,
          89,
          98,
          98,
          99,
          102,
          103,
          104,
          106,
          107,
          111,
          111,
          111,
          112,
          117,
          118,
          118,
          121,
          125,
          126,
          129,
          129,
          131,
          131,
          131,
          131,
          131,
          131,
          131,
          134,
          134,
          140,
          140,
          142,
          142,
          144,
          164,
          164,
          165,
          165,
          165,
          165
         ]
        },
        {
         "line": {
          "color": "#57DBC5"
         },
         "name": "erland",
         "showlegend": true,
         "text": [
          "2023-01-06T00:00:00",
          "2023-01-07T00:00:00",
          "2023-01-09T00:00:00",
          "2023-01-10T00:00:00",
          "2023-01-11T00:00:00",
          "2023-01-13T00:00:00",
          "2023-01-14T00:00:00",
          "2023-01-16T00:00:00",
          "2023-01-17T00:00:00",
          "2023-01-18T00:00:00",
          "2023-01-19T00:00:00",
          "2023-01-20T00:00:00",
          "2023-01-21T00:00:00",
          "2023-01-23T00:00:00",
          "2023-01-24T00:00:00",
          "2023-01-25T00:00:00",
          "2023-01-26T00:00:00",
          "2023-01-27T00:00:00",
          "2023-01-28T00:00:00",
          "2023-01-30T00:00:00",
          "2023-01-31T00:00:00",
          "2023-02-01T00:00:00",
          "2023-02-02T00:00:00",
          "2023-02-03T00:00:00",
          "2023-02-04T00:00:00",
          "2023-02-06T00:00:00",
          "2023-02-09T00:00:00",
          "2023-02-11T00:00:00",
          "2023-02-13T00:00:00",
          "2023-02-14T00:00:00",
          "2023-02-15T00:00:00",
          "2023-02-16T00:00:00",
          "2023-02-17T00:00:00",
          "2023-02-18T00:00:00",
          "2023-02-19T00:00:00",
          "2023-02-20T00:00:00",
          "2023-02-21T00:00:00",
          "2023-02-22T00:00:00",
          "2023-02-23T00:00:00",
          "2023-02-24T00:00:00",
          "2023-02-25T00:00:00",
          "2023-02-27T00:00:00",
          "2023-02-28T00:00:00",
          "2023-03-01T00:00:00",
          "2023-03-02T00:00:00",
          "2023-03-03T00:00:00",
          "2023-03-04T00:00:00",
          "2023-03-05T00:00:00",
          "2023-03-06T00:00:00",
          "2023-03-07T00:00:00",
          "2023-03-08T00:00:00",
          "2023-03-09T00:00:00",
          "2023-03-10T00:00:00",
          "2023-03-11T00:00:00",
          "2023-03-13T00:00:00",
          "2023-03-14T00:00:00",
          "2023-03-16T00:00:00",
          "2023-03-17T00:00:00",
          "2023-03-18T00:00:00",
          "2023-03-20T00:00:00",
          "2023-03-21T00:00:00",
          "2023-03-22T00:00:00",
          "2023-03-24T00:00:00",
          "2023-03-25T00:00:00",
          "2023-03-27T00:00:00",
          "2023-03-29T00:00:00",
          "2023-04-01T00:00:00",
          "2023-04-03T00:00:00",
          "2023-04-05T00:00:00",
          "2023-04-06T00:00:00",
          "2023-04-08T00:00:00",
          "2023-04-10T00:00:00",
          "2023-04-11T00:00:00",
          "2023-04-12T00:00:00",
          "2023-04-13T00:00:00",
          "2023-04-15T00:00:00",
          "2023-04-16T00:00:00",
          "2023-04-17T00:00:00"
         ],
         "type": "scatter",
         "x": [
          "2023-01-06T00:00:00",
          "2023-01-07T00:00:00",
          "2023-01-09T00:00:00",
          "2023-01-10T00:00:00",
          "2023-01-11T00:00:00",
          "2023-01-13T00:00:00",
          "2023-01-14T00:00:00",
          "2023-01-16T00:00:00",
          "2023-01-17T00:00:00",
          "2023-01-18T00:00:00",
          "2023-01-19T00:00:00",
          "2023-01-20T00:00:00",
          "2023-01-21T00:00:00",
          "2023-01-23T00:00:00",
          "2023-01-24T00:00:00",
          "2023-01-25T00:00:00",
          "2023-01-26T00:00:00",
          "2023-01-27T00:00:00",
          "2023-01-28T00:00:00",
          "2023-01-30T00:00:00",
          "2023-01-31T00:00:00",
          "2023-02-01T00:00:00",
          "2023-02-02T00:00:00",
          "2023-02-03T00:00:00",
          "2023-02-04T00:00:00",
          "2023-02-06T00:00:00",
          "2023-02-09T00:00:00",
          "2023-02-11T00:00:00",
          "2023-02-13T00:00:00",
          "2023-02-14T00:00:00",
          "2023-02-15T00:00:00",
          "2023-02-16T00:00:00",
          "2023-02-17T00:00:00",
          "2023-02-18T00:00:00",
          "2023-02-19T00:00:00",
          "2023-02-20T00:00:00",
          "2023-02-21T00:00:00",
          "2023-02-22T00:00:00",
          "2023-02-23T00:00:00",
          "2023-02-24T00:00:00",
          "2023-02-25T00:00:00",
          "2023-02-27T00:00:00",
          "2023-02-28T00:00:00",
          "2023-03-01T00:00:00",
          "2023-03-02T00:00:00",
          "2023-03-03T00:00:00",
          "2023-03-04T00:00:00",
          "2023-03-05T00:00:00",
          "2023-03-06T00:00:00",
          "2023-03-07T00:00:00",
          "2023-03-08T00:00:00",
          "2023-03-09T00:00:00",
          "2023-03-10T00:00:00",
          "2023-03-11T00:00:00",
          "2023-03-13T00:00:00",
          "2023-03-14T00:00:00",
          "2023-03-16T00:00:00",
          "2023-03-17T00:00:00",
          "2023-03-18T00:00:00",
          "2023-03-20T00:00:00",
          "2023-03-21T00:00:00",
          "2023-03-22T00:00:00",
          "2023-03-24T00:00:00",
          "2023-03-25T00:00:00",
          "2023-03-27T00:00:00",
          "2023-03-29T00:00:00",
          "2023-04-01T00:00:00",
          "2023-04-03T00:00:00",
          "2023-04-05T00:00:00",
          "2023-04-06T00:00:00",
          "2023-04-08T00:00:00",
          "2023-04-10T00:00:00",
          "2023-04-11T00:00:00",
          "2023-04-12T00:00:00",
          "2023-04-13T00:00:00",
          "2023-04-15T00:00:00",
          "2023-04-16T00:00:00",
          "2023-04-17T00:00:00"
         ],
         "y": [
          0,
          0,
          0,
          0,
          3,
          3,
          3,
          19,
          19,
          20,
          20,
          21,
          22,
          22,
          27,
          33,
          38,
          40,
          41,
          41,
          42,
          43,
          43,
          43,
          45,
          45,
          50,
          50,
          58,
          61,
          69,
          72,
          73,
          76,
          76,
          82,
          90,
          107,
          134,
          136,
          136,
          151,
          151,
          159,
          160,
          173,
          175,
          175,
          177,
          190,
          212,
          214,
          214,
          215,
          216,
          218,
          218,
          218,
          218,
          218,
          219,
          219,
          222,
          222,
          222,
          222,
          222,
          223,
          225,
          226,
          226,
          226,
          226,
          226,
          229,
          229,
          229,
          229
         ]
        },
        {
         "line": {
          "color": "#57B5DB"
         },
         "name": "fawaz",
         "showlegend": true,
         "text": [
          "2023-01-06T00:00:00",
          "2023-01-07T00:00:00",
          "2023-01-09T00:00:00",
          "2023-01-10T00:00:00",
          "2023-01-11T00:00:00",
          "2023-01-13T00:00:00",
          "2023-01-14T00:00:00",
          "2023-01-16T00:00:00",
          "2023-01-17T00:00:00",
          "2023-01-18T00:00:00",
          "2023-01-19T00:00:00",
          "2023-01-20T00:00:00",
          "2023-01-21T00:00:00",
          "2023-01-23T00:00:00",
          "2023-01-24T00:00:00",
          "2023-01-25T00:00:00",
          "2023-01-26T00:00:00",
          "2023-01-27T00:00:00",
          "2023-01-28T00:00:00",
          "2023-01-30T00:00:00",
          "2023-01-31T00:00:00",
          "2023-02-01T00:00:00",
          "2023-02-02T00:00:00",
          "2023-02-03T00:00:00",
          "2023-02-04T00:00:00",
          "2023-02-06T00:00:00",
          "2023-02-09T00:00:00",
          "2023-02-11T00:00:00",
          "2023-02-13T00:00:00",
          "2023-02-14T00:00:00",
          "2023-02-15T00:00:00",
          "2023-02-16T00:00:00",
          "2023-02-17T00:00:00",
          "2023-02-18T00:00:00",
          "2023-02-19T00:00:00",
          "2023-02-20T00:00:00",
          "2023-02-21T00:00:00",
          "2023-02-22T00:00:00",
          "2023-02-23T00:00:00",
          "2023-02-24T00:00:00",
          "2023-02-25T00:00:00",
          "2023-02-27T00:00:00",
          "2023-02-28T00:00:00",
          "2023-03-01T00:00:00",
          "2023-03-02T00:00:00",
          "2023-03-03T00:00:00",
          "2023-03-04T00:00:00",
          "2023-03-05T00:00:00",
          "2023-03-06T00:00:00",
          "2023-03-07T00:00:00",
          "2023-03-08T00:00:00",
          "2023-03-09T00:00:00",
          "2023-03-10T00:00:00",
          "2023-03-11T00:00:00",
          "2023-03-13T00:00:00",
          "2023-03-14T00:00:00",
          "2023-03-16T00:00:00",
          "2023-03-17T00:00:00",
          "2023-03-18T00:00:00",
          "2023-03-20T00:00:00",
          "2023-03-21T00:00:00",
          "2023-03-22T00:00:00",
          "2023-03-24T00:00:00",
          "2023-03-25T00:00:00",
          "2023-03-27T00:00:00",
          "2023-03-29T00:00:00",
          "2023-04-01T00:00:00",
          "2023-04-03T00:00:00",
          "2023-04-05T00:00:00",
          "2023-04-06T00:00:00",
          "2023-04-08T00:00:00",
          "2023-04-10T00:00:00",
          "2023-04-11T00:00:00",
          "2023-04-12T00:00:00",
          "2023-04-13T00:00:00",
          "2023-04-15T00:00:00",
          "2023-04-16T00:00:00",
          "2023-04-17T00:00:00"
         ],
         "type": "scatter",
         "x": [
          "2023-01-06T00:00:00",
          "2023-01-07T00:00:00",
          "2023-01-09T00:00:00",
          "2023-01-10T00:00:00",
          "2023-01-11T00:00:00",
          "2023-01-13T00:00:00",
          "2023-01-14T00:00:00",
          "2023-01-16T00:00:00",
          "2023-01-17T00:00:00",
          "2023-01-18T00:00:00",
          "2023-01-19T00:00:00",
          "2023-01-20T00:00:00",
          "2023-01-21T00:00:00",
          "2023-01-23T00:00:00",
          "2023-01-24T00:00:00",
          "2023-01-25T00:00:00",
          "2023-01-26T00:00:00",
          "2023-01-27T00:00:00",
          "2023-01-28T00:00:00",
          "2023-01-30T00:00:00",
          "2023-01-31T00:00:00",
          "2023-02-01T00:00:00",
          "2023-02-02T00:00:00",
          "2023-02-03T00:00:00",
          "2023-02-04T00:00:00",
          "2023-02-06T00:00:00",
          "2023-02-09T00:00:00",
          "2023-02-11T00:00:00",
          "2023-02-13T00:00:00",
          "2023-02-14T00:00:00",
          "2023-02-15T00:00:00",
          "2023-02-16T00:00:00",
          "2023-02-17T00:00:00",
          "2023-02-18T00:00:00",
          "2023-02-19T00:00:00",
          "2023-02-20T00:00:00",
          "2023-02-21T00:00:00",
          "2023-02-22T00:00:00",
          "2023-02-23T00:00:00",
          "2023-02-24T00:00:00",
          "2023-02-25T00:00:00",
          "2023-02-27T00:00:00",
          "2023-02-28T00:00:00",
          "2023-03-01T00:00:00",
          "2023-03-02T00:00:00",
          "2023-03-03T00:00:00",
          "2023-03-04T00:00:00",
          "2023-03-05T00:00:00",
          "2023-03-06T00:00:00",
          "2023-03-07T00:00:00",
          "2023-03-08T00:00:00",
          "2023-03-09T00:00:00",
          "2023-03-10T00:00:00",
          "2023-03-11T00:00:00",
          "2023-03-13T00:00:00",
          "2023-03-14T00:00:00",
          "2023-03-16T00:00:00",
          "2023-03-17T00:00:00",
          "2023-03-18T00:00:00",
          "2023-03-20T00:00:00",
          "2023-03-21T00:00:00",
          "2023-03-22T00:00:00",
          "2023-03-24T00:00:00",
          "2023-03-25T00:00:00",
          "2023-03-27T00:00:00",
          "2023-03-29T00:00:00",
          "2023-04-01T00:00:00",
          "2023-04-03T00:00:00",
          "2023-04-05T00:00:00",
          "2023-04-06T00:00:00",
          "2023-04-08T00:00:00",
          "2023-04-10T00:00:00",
          "2023-04-11T00:00:00",
          "2023-04-12T00:00:00",
          "2023-04-13T00:00:00",
          "2023-04-15T00:00:00",
          "2023-04-16T00:00:00",
          "2023-04-17T00:00:00"
         ],
         "y": [
          1,
          4,
          5,
          5,
          8,
          8,
          8,
          8,
          8,
          8,
          8,
          8,
          8,
          8,
          8,
          12,
          12,
          12,
          12,
          12,
          13,
          14,
          14,
          14,
          14,
          14,
          14,
          14,
          14,
          14,
          14,
          14,
          14,
          14,
          14,
          14,
          14,
          14,
          15,
          15,
          17,
          18,
          18,
          18,
          18,
          18,
          18,
          18,
          18,
          18,
          18,
          18,
          18,
          18,
          18,
          18,
          18,
          18,
          18,
          18,
          18,
          18,
          18,
          18,
          18,
          18,
          18,
          18,
          19,
          19,
          19,
          19,
          19,
          19,
          19,
          19,
          19,
          19
         ]
        },
        {
         "line": {
          "color": "#5778DB"
         },
         "name": "ichsan",
         "showlegend": true,
         "text": [
          "2023-01-06T00:00:00",
          "2023-01-07T00:00:00",
          "2023-01-09T00:00:00",
          "2023-01-10T00:00:00",
          "2023-01-11T00:00:00",
          "2023-01-13T00:00:00",
          "2023-01-14T00:00:00",
          "2023-01-16T00:00:00",
          "2023-01-17T00:00:00",
          "2023-01-18T00:00:00",
          "2023-01-19T00:00:00",
          "2023-01-20T00:00:00",
          "2023-01-21T00:00:00",
          "2023-01-23T00:00:00",
          "2023-01-24T00:00:00",
          "2023-01-25T00:00:00",
          "2023-01-26T00:00:00",
          "2023-01-27T00:00:00",
          "2023-01-28T00:00:00",
          "2023-01-30T00:00:00",
          "2023-01-31T00:00:00",
          "2023-02-01T00:00:00",
          "2023-02-02T00:00:00",
          "2023-02-03T00:00:00",
          "2023-02-04T00:00:00",
          "2023-02-06T00:00:00",
          "2023-02-09T00:00:00",
          "2023-02-11T00:00:00",
          "2023-02-13T00:00:00",
          "2023-02-14T00:00:00",
          "2023-02-15T00:00:00",
          "2023-02-16T00:00:00",
          "2023-02-17T00:00:00",
          "2023-02-18T00:00:00",
          "2023-02-19T00:00:00",
          "2023-02-20T00:00:00",
          "2023-02-21T00:00:00",
          "2023-02-22T00:00:00",
          "2023-02-23T00:00:00",
          "2023-02-24T00:00:00",
          "2023-02-25T00:00:00",
          "2023-02-27T00:00:00",
          "2023-02-28T00:00:00",
          "2023-03-01T00:00:00",
          "2023-03-02T00:00:00",
          "2023-03-03T00:00:00",
          "2023-03-04T00:00:00",
          "2023-03-05T00:00:00",
          "2023-03-06T00:00:00",
          "2023-03-07T00:00:00",
          "2023-03-08T00:00:00",
          "2023-03-09T00:00:00",
          "2023-03-10T00:00:00",
          "2023-03-11T00:00:00",
          "2023-03-13T00:00:00",
          "2023-03-14T00:00:00",
          "2023-03-16T00:00:00",
          "2023-03-17T00:00:00",
          "2023-03-18T00:00:00",
          "2023-03-20T00:00:00",
          "2023-03-21T00:00:00",
          "2023-03-22T00:00:00",
          "2023-03-24T00:00:00",
          "2023-03-25T00:00:00",
          "2023-03-27T00:00:00",
          "2023-03-29T00:00:00",
          "2023-04-01T00:00:00",
          "2023-04-03T00:00:00",
          "2023-04-05T00:00:00",
          "2023-04-06T00:00:00",
          "2023-04-08T00:00:00",
          "2023-04-10T00:00:00",
          "2023-04-11T00:00:00",
          "2023-04-12T00:00:00",
          "2023-04-13T00:00:00",
          "2023-04-15T00:00:00",
          "2023-04-16T00:00:00",
          "2023-04-17T00:00:00"
         ],
         "type": "scatter",
         "x": [
          "2023-01-06T00:00:00",
          "2023-01-07T00:00:00",
          "2023-01-09T00:00:00",
          "2023-01-10T00:00:00",
          "2023-01-11T00:00:00",
          "2023-01-13T00:00:00",
          "2023-01-14T00:00:00",
          "2023-01-16T00:00:00",
          "2023-01-17T00:00:00",
          "2023-01-18T00:00:00",
          "2023-01-19T00:00:00",
          "2023-01-20T00:00:00",
          "2023-01-21T00:00:00",
          "2023-01-23T00:00:00",
          "2023-01-24T00:00:00",
          "2023-01-25T00:00:00",
          "2023-01-26T00:00:00",
          "2023-01-27T00:00:00",
          "2023-01-28T00:00:00",
          "2023-01-30T00:00:00",
          "2023-01-31T00:00:00",
          "2023-02-01T00:00:00",
          "2023-02-02T00:00:00",
          "2023-02-03T00:00:00",
          "2023-02-04T00:00:00",
          "2023-02-06T00:00:00",
          "2023-02-09T00:00:00",
          "2023-02-11T00:00:00",
          "2023-02-13T00:00:00",
          "2023-02-14T00:00:00",
          "2023-02-15T00:00:00",
          "2023-02-16T00:00:00",
          "2023-02-17T00:00:00",
          "2023-02-18T00:00:00",
          "2023-02-19T00:00:00",
          "2023-02-20T00:00:00",
          "2023-02-21T00:00:00",
          "2023-02-22T00:00:00",
          "2023-02-23T00:00:00",
          "2023-02-24T00:00:00",
          "2023-02-25T00:00:00",
          "2023-02-27T00:00:00",
          "2023-02-28T00:00:00",
          "2023-03-01T00:00:00",
          "2023-03-02T00:00:00",
          "2023-03-03T00:00:00",
          "2023-03-04T00:00:00",
          "2023-03-05T00:00:00",
          "2023-03-06T00:00:00",
          "2023-03-07T00:00:00",
          "2023-03-08T00:00:00",
          "2023-03-09T00:00:00",
          "2023-03-10T00:00:00",
          "2023-03-11T00:00:00",
          "2023-03-13T00:00:00",
          "2023-03-14T00:00:00",
          "2023-03-16T00:00:00",
          "2023-03-17T00:00:00",
          "2023-03-18T00:00:00",
          "2023-03-20T00:00:00",
          "2023-03-21T00:00:00",
          "2023-03-22T00:00:00",
          "2023-03-24T00:00:00",
          "2023-03-25T00:00:00",
          "2023-03-27T00:00:00",
          "2023-03-29T00:00:00",
          "2023-04-01T00:00:00",
          "2023-04-03T00:00:00",
          "2023-04-05T00:00:00",
          "2023-04-06T00:00:00",
          "2023-04-08T00:00:00",
          "2023-04-10T00:00:00",
          "2023-04-11T00:00:00",
          "2023-04-12T00:00:00",
          "2023-04-13T00:00:00",
          "2023-04-15T00:00:00",
          "2023-04-16T00:00:00",
          "2023-04-17T00:00:00"
         ],
         "y": [
          0,
          0,
          0,
          0,
          0,
          0,
          0,
          0,
          0,
          0,
          0,
          0,
          0,
          0,
          0,
          0,
          0,
          0,
          0,
          0,
          0,
          0,
          0,
          0,
          0,
          0,
          0,
          0,
          0,
          0,
          0,
          0,
          0,
          0,
          0,
          0,
          0,
          0,
          0,
          0,
          1,
          1,
          2,
          2,
          2,
          5,
          7,
          7,
          7,
          8,
          8,
          10,
          11,
          12,
          12,
          13,
          19,
          19,
          19,
          19,
          20,
          20,
          20,
          22,
          22,
          25,
          27,
          28,
          30,
          34,
          36,
          43,
          48,
          49,
          52,
          54,
          54,
          54
         ]
        },
        {
         "line": {
          "color": "#7357DB"
         },
         "name": "kajal",
         "showlegend": true,
         "text": [
          "2023-01-06T00:00:00",
          "2023-01-07T00:00:00",
          "2023-01-09T00:00:00",
          "2023-01-10T00:00:00",
          "2023-01-11T00:00:00",
          "2023-01-13T00:00:00",
          "2023-01-14T00:00:00",
          "2023-01-16T00:00:00",
          "2023-01-17T00:00:00",
          "2023-01-18T00:00:00",
          "2023-01-19T00:00:00",
          "2023-01-20T00:00:00",
          "2023-01-21T00:00:00",
          "2023-01-23T00:00:00",
          "2023-01-24T00:00:00",
          "2023-01-25T00:00:00",
          "2023-01-26T00:00:00",
          "2023-01-27T00:00:00",
          "2023-01-28T00:00:00",
          "2023-01-30T00:00:00",
          "2023-01-31T00:00:00",
          "2023-02-01T00:00:00",
          "2023-02-02T00:00:00",
          "2023-02-03T00:00:00",
          "2023-02-04T00:00:00",
          "2023-02-06T00:00:00",
          "2023-02-09T00:00:00",
          "2023-02-11T00:00:00",
          "2023-02-13T00:00:00",
          "2023-02-14T00:00:00",
          "2023-02-15T00:00:00",
          "2023-02-16T00:00:00",
          "2023-02-17T00:00:00",
          "2023-02-18T00:00:00",
          "2023-02-19T00:00:00",
          "2023-02-20T00:00:00",
          "2023-02-21T00:00:00",
          "2023-02-22T00:00:00",
          "2023-02-23T00:00:00",
          "2023-02-24T00:00:00",
          "2023-02-25T00:00:00",
          "2023-02-27T00:00:00",
          "2023-02-28T00:00:00",
          "2023-03-01T00:00:00",
          "2023-03-02T00:00:00",
          "2023-03-03T00:00:00",
          "2023-03-04T00:00:00",
          "2023-03-05T00:00:00",
          "2023-03-06T00:00:00",
          "2023-03-07T00:00:00",
          "2023-03-08T00:00:00",
          "2023-03-09T00:00:00",
          "2023-03-10T00:00:00",
          "2023-03-11T00:00:00",
          "2023-03-13T00:00:00",
          "2023-03-14T00:00:00",
          "2023-03-16T00:00:00",
          "2023-03-17T00:00:00",
          "2023-03-18T00:00:00",
          "2023-03-20T00:00:00",
          "2023-03-21T00:00:00",
          "2023-03-22T00:00:00",
          "2023-03-24T00:00:00",
          "2023-03-25T00:00:00",
          "2023-03-27T00:00:00",
          "2023-03-29T00:00:00",
          "2023-04-01T00:00:00",
          "2023-04-03T00:00:00",
          "2023-04-05T00:00:00",
          "2023-04-06T00:00:00",
          "2023-04-08T00:00:00",
          "2023-04-10T00:00:00",
          "2023-04-11T00:00:00",
          "2023-04-12T00:00:00",
          "2023-04-13T00:00:00",
          "2023-04-15T00:00:00",
          "2023-04-16T00:00:00",
          "2023-04-17T00:00:00"
         ],
         "type": "scatter",
         "x": [
          "2023-01-06T00:00:00",
          "2023-01-07T00:00:00",
          "2023-01-09T00:00:00",
          "2023-01-10T00:00:00",
          "2023-01-11T00:00:00",
          "2023-01-13T00:00:00",
          "2023-01-14T00:00:00",
          "2023-01-16T00:00:00",
          "2023-01-17T00:00:00",
          "2023-01-18T00:00:00",
          "2023-01-19T00:00:00",
          "2023-01-20T00:00:00",
          "2023-01-21T00:00:00",
          "2023-01-23T00:00:00",
          "2023-01-24T00:00:00",
          "2023-01-25T00:00:00",
          "2023-01-26T00:00:00",
          "2023-01-27T00:00:00",
          "2023-01-28T00:00:00",
          "2023-01-30T00:00:00",
          "2023-01-31T00:00:00",
          "2023-02-01T00:00:00",
          "2023-02-02T00:00:00",
          "2023-02-03T00:00:00",
          "2023-02-04T00:00:00",
          "2023-02-06T00:00:00",
          "2023-02-09T00:00:00",
          "2023-02-11T00:00:00",
          "2023-02-13T00:00:00",
          "2023-02-14T00:00:00",
          "2023-02-15T00:00:00",
          "2023-02-16T00:00:00",
          "2023-02-17T00:00:00",
          "2023-02-18T00:00:00",
          "2023-02-19T00:00:00",
          "2023-02-20T00:00:00",
          "2023-02-21T00:00:00",
          "2023-02-22T00:00:00",
          "2023-02-23T00:00:00",
          "2023-02-24T00:00:00",
          "2023-02-25T00:00:00",
          "2023-02-27T00:00:00",
          "2023-02-28T00:00:00",
          "2023-03-01T00:00:00",
          "2023-03-02T00:00:00",
          "2023-03-03T00:00:00",
          "2023-03-04T00:00:00",
          "2023-03-05T00:00:00",
          "2023-03-06T00:00:00",
          "2023-03-07T00:00:00",
          "2023-03-08T00:00:00",
          "2023-03-09T00:00:00",
          "2023-03-10T00:00:00",
          "2023-03-11T00:00:00",
          "2023-03-13T00:00:00",
          "2023-03-14T00:00:00",
          "2023-03-16T00:00:00",
          "2023-03-17T00:00:00",
          "2023-03-18T00:00:00",
          "2023-03-20T00:00:00",
          "2023-03-21T00:00:00",
          "2023-03-22T00:00:00",
          "2023-03-24T00:00:00",
          "2023-03-25T00:00:00",
          "2023-03-27T00:00:00",
          "2023-03-29T00:00:00",
          "2023-04-01T00:00:00",
          "2023-04-03T00:00:00",
          "2023-04-05T00:00:00",
          "2023-04-06T00:00:00",
          "2023-04-08T00:00:00",
          "2023-04-10T00:00:00",
          "2023-04-11T00:00:00",
          "2023-04-12T00:00:00",
          "2023-04-13T00:00:00",
          "2023-04-15T00:00:00",
          "2023-04-16T00:00:00",
          "2023-04-17T00:00:00"
         ],
         "y": [
          10,
          25,
          34,
          36,
          51,
          52,
          55,
          77,
          81,
          85,
          92,
          93,
          94,
          95,
          101,
          117,
          130,
          135,
          143,
          143,
          147,
          152,
          157,
          158,
          163,
          165,
          182,
          186,
          195,
          203,
          220,
          229,
          229,
          242,
          244,
          262,
          285,
          307,
          351,
          370,
          382,
          403,
          404,
          413,
          421,
          427,
          434,
          437,
          437,
          447,
          472,
          475,
          475,
          475,
          475,
          476,
          479,
          479,
          482,
          484,
          484,
          484,
          484,
          484,
          484,
          494,
          497,
          500,
          500,
          500,
          500,
          515,
          592,
          593,
          618,
          620,
          620,
          626
         ]
        },
        {
         "line": {
          "color": "#B057DB"
         },
         "name": "mirza",
         "showlegend": true,
         "text": [
          "2023-01-06T00:00:00",
          "2023-01-07T00:00:00",
          "2023-01-09T00:00:00",
          "2023-01-10T00:00:00",
          "2023-01-11T00:00:00",
          "2023-01-13T00:00:00",
          "2023-01-14T00:00:00",
          "2023-01-16T00:00:00",
          "2023-01-17T00:00:00",
          "2023-01-18T00:00:00",
          "2023-01-19T00:00:00",
          "2023-01-20T00:00:00",
          "2023-01-21T00:00:00",
          "2023-01-23T00:00:00",
          "2023-01-24T00:00:00",
          "2023-01-25T00:00:00",
          "2023-01-26T00:00:00",
          "2023-01-27T00:00:00",
          "2023-01-28T00:00:00",
          "2023-01-30T00:00:00",
          "2023-01-31T00:00:00",
          "2023-02-01T00:00:00",
          "2023-02-02T00:00:00",
          "2023-02-03T00:00:00",
          "2023-02-04T00:00:00",
          "2023-02-06T00:00:00",
          "2023-02-09T00:00:00",
          "2023-02-11T00:00:00",
          "2023-02-13T00:00:00",
          "2023-02-14T00:00:00",
          "2023-02-15T00:00:00",
          "2023-02-16T00:00:00",
          "2023-02-17T00:00:00",
          "2023-02-18T00:00:00",
          "2023-02-19T00:00:00",
          "2023-02-20T00:00:00",
          "2023-02-21T00:00:00",
          "2023-02-22T00:00:00",
          "2023-02-23T00:00:00",
          "2023-02-24T00:00:00",
          "2023-02-25T00:00:00",
          "2023-02-27T00:00:00",
          "2023-02-28T00:00:00",
          "2023-03-01T00:00:00",
          "2023-03-02T00:00:00",
          "2023-03-03T00:00:00",
          "2023-03-04T00:00:00",
          "2023-03-05T00:00:00",
          "2023-03-06T00:00:00",
          "2023-03-07T00:00:00",
          "2023-03-08T00:00:00",
          "2023-03-09T00:00:00",
          "2023-03-10T00:00:00",
          "2023-03-11T00:00:00",
          "2023-03-13T00:00:00",
          "2023-03-14T00:00:00",
          "2023-03-16T00:00:00",
          "2023-03-17T00:00:00",
          "2023-03-18T00:00:00",
          "2023-03-20T00:00:00",
          "2023-03-21T00:00:00",
          "2023-03-22T00:00:00",
          "2023-03-24T00:00:00",
          "2023-03-25T00:00:00",
          "2023-03-27T00:00:00",
          "2023-03-29T00:00:00",
          "2023-04-01T00:00:00",
          "2023-04-03T00:00:00",
          "2023-04-05T00:00:00",
          "2023-04-06T00:00:00",
          "2023-04-08T00:00:00",
          "2023-04-10T00:00:00",
          "2023-04-11T00:00:00",
          "2023-04-12T00:00:00",
          "2023-04-13T00:00:00",
          "2023-04-15T00:00:00",
          "2023-04-16T00:00:00",
          "2023-04-17T00:00:00"
         ],
         "type": "scatter",
         "x": [
          "2023-01-06T00:00:00",
          "2023-01-07T00:00:00",
          "2023-01-09T00:00:00",
          "2023-01-10T00:00:00",
          "2023-01-11T00:00:00",
          "2023-01-13T00:00:00",
          "2023-01-14T00:00:00",
          "2023-01-16T00:00:00",
          "2023-01-17T00:00:00",
          "2023-01-18T00:00:00",
          "2023-01-19T00:00:00",
          "2023-01-20T00:00:00",
          "2023-01-21T00:00:00",
          "2023-01-23T00:00:00",
          "2023-01-24T00:00:00",
          "2023-01-25T00:00:00",
          "2023-01-26T00:00:00",
          "2023-01-27T00:00:00",
          "2023-01-28T00:00:00",
          "2023-01-30T00:00:00",
          "2023-01-31T00:00:00",
          "2023-02-01T00:00:00",
          "2023-02-02T00:00:00",
          "2023-02-03T00:00:00",
          "2023-02-04T00:00:00",
          "2023-02-06T00:00:00",
          "2023-02-09T00:00:00",
          "2023-02-11T00:00:00",
          "2023-02-13T00:00:00",
          "2023-02-14T00:00:00",
          "2023-02-15T00:00:00",
          "2023-02-16T00:00:00",
          "2023-02-17T00:00:00",
          "2023-02-18T00:00:00",
          "2023-02-19T00:00:00",
          "2023-02-20T00:00:00",
          "2023-02-21T00:00:00",
          "2023-02-22T00:00:00",
          "2023-02-23T00:00:00",
          "2023-02-24T00:00:00",
          "2023-02-25T00:00:00",
          "2023-02-27T00:00:00",
          "2023-02-28T00:00:00",
          "2023-03-01T00:00:00",
          "2023-03-02T00:00:00",
          "2023-03-03T00:00:00",
          "2023-03-04T00:00:00",
          "2023-03-05T00:00:00",
          "2023-03-06T00:00:00",
          "2023-03-07T00:00:00",
          "2023-03-08T00:00:00",
          "2023-03-09T00:00:00",
          "2023-03-10T00:00:00",
          "2023-03-11T00:00:00",
          "2023-03-13T00:00:00",
          "2023-03-14T00:00:00",
          "2023-03-16T00:00:00",
          "2023-03-17T00:00:00",
          "2023-03-18T00:00:00",
          "2023-03-20T00:00:00",
          "2023-03-21T00:00:00",
          "2023-03-22T00:00:00",
          "2023-03-24T00:00:00",
          "2023-03-25T00:00:00",
          "2023-03-27T00:00:00",
          "2023-03-29T00:00:00",
          "2023-04-01T00:00:00",
          "2023-04-03T00:00:00",
          "2023-04-05T00:00:00",
          "2023-04-06T00:00:00",
          "2023-04-08T00:00:00",
          "2023-04-10T00:00:00",
          "2023-04-11T00:00:00",
          "2023-04-12T00:00:00",
          "2023-04-13T00:00:00",
          "2023-04-15T00:00:00",
          "2023-04-16T00:00:00",
          "2023-04-17T00:00:00"
         ],
         "y": [
          0,
          1,
          1,
          1,
          7,
          8,
          8,
          8,
          8,
          8,
          8,
          8,
          8,
          8,
          8,
          10,
          10,
          10,
          11,
          13,
          13,
          13,
          20,
          20,
          21,
          21,
          21,
          21,
          21,
          21,
          22,
          22,
          22,
          22,
          22,
          24,
          24,
          24,
          24,
          24,
          24,
          24,
          24,
          24,
          25,
          25,
          25,
          25,
          25,
          25,
          25,
          25,
          25,
          25,
          25,
          25,
          28,
          28,
          28,
          28,
          28,
          28,
          28,
          28,
          28,
          28,
          28,
          28,
          28,
          28,
          28,
          28,
          28,
          28,
          28,
          28,
          28,
          28
         ]
        },
        {
         "line": {
          "color": "#DB57C9"
         },
         "name": "rika",
         "showlegend": true,
         "text": [
          "2023-01-06T00:00:00",
          "2023-01-07T00:00:00",
          "2023-01-09T00:00:00",
          "2023-01-10T00:00:00",
          "2023-01-11T00:00:00",
          "2023-01-13T00:00:00",
          "2023-01-14T00:00:00",
          "2023-01-16T00:00:00",
          "2023-01-17T00:00:00",
          "2023-01-18T00:00:00",
          "2023-01-19T00:00:00",
          "2023-01-20T00:00:00",
          "2023-01-21T00:00:00",
          "2023-01-23T00:00:00",
          "2023-01-24T00:00:00",
          "2023-01-25T00:00:00",
          "2023-01-26T00:00:00",
          "2023-01-27T00:00:00",
          "2023-01-28T00:00:00",
          "2023-01-30T00:00:00",
          "2023-01-31T00:00:00",
          "2023-02-01T00:00:00",
          "2023-02-02T00:00:00",
          "2023-02-03T00:00:00",
          "2023-02-04T00:00:00",
          "2023-02-06T00:00:00",
          "2023-02-09T00:00:00",
          "2023-02-11T00:00:00",
          "2023-02-13T00:00:00",
          "2023-02-14T00:00:00",
          "2023-02-15T00:00:00",
          "2023-02-16T00:00:00",
          "2023-02-17T00:00:00",
          "2023-02-18T00:00:00",
          "2023-02-19T00:00:00",
          "2023-02-20T00:00:00",
          "2023-02-21T00:00:00",
          "2023-02-22T00:00:00",
          "2023-02-23T00:00:00",
          "2023-02-24T00:00:00",
          "2023-02-25T00:00:00",
          "2023-02-27T00:00:00",
          "2023-02-28T00:00:00",
          "2023-03-01T00:00:00",
          "2023-03-02T00:00:00",
          "2023-03-03T00:00:00",
          "2023-03-04T00:00:00",
          "2023-03-05T00:00:00",
          "2023-03-06T00:00:00",
          "2023-03-07T00:00:00",
          "2023-03-08T00:00:00",
          "2023-03-09T00:00:00",
          "2023-03-10T00:00:00",
          "2023-03-11T00:00:00",
          "2023-03-13T00:00:00",
          "2023-03-14T00:00:00",
          "2023-03-16T00:00:00",
          "2023-03-17T00:00:00",
          "2023-03-18T00:00:00",
          "2023-03-20T00:00:00",
          "2023-03-21T00:00:00",
          "2023-03-22T00:00:00",
          "2023-03-24T00:00:00",
          "2023-03-25T00:00:00",
          "2023-03-27T00:00:00",
          "2023-03-29T00:00:00",
          "2023-04-01T00:00:00",
          "2023-04-03T00:00:00",
          "2023-04-05T00:00:00",
          "2023-04-06T00:00:00",
          "2023-04-08T00:00:00",
          "2023-04-10T00:00:00",
          "2023-04-11T00:00:00",
          "2023-04-12T00:00:00",
          "2023-04-13T00:00:00",
          "2023-04-15T00:00:00",
          "2023-04-16T00:00:00",
          "2023-04-17T00:00:00"
         ],
         "type": "scatter",
         "x": [
          "2023-01-06T00:00:00",
          "2023-01-07T00:00:00",
          "2023-01-09T00:00:00",
          "2023-01-10T00:00:00",
          "2023-01-11T00:00:00",
          "2023-01-13T00:00:00",
          "2023-01-14T00:00:00",
          "2023-01-16T00:00:00",
          "2023-01-17T00:00:00",
          "2023-01-18T00:00:00",
          "2023-01-19T00:00:00",
          "2023-01-20T00:00:00",
          "2023-01-21T00:00:00",
          "2023-01-23T00:00:00",
          "2023-01-24T00:00:00",
          "2023-01-25T00:00:00",
          "2023-01-26T00:00:00",
          "2023-01-27T00:00:00",
          "2023-01-28T00:00:00",
          "2023-01-30T00:00:00",
          "2023-01-31T00:00:00",
          "2023-02-01T00:00:00",
          "2023-02-02T00:00:00",
          "2023-02-03T00:00:00",
          "2023-02-04T00:00:00",
          "2023-02-06T00:00:00",
          "2023-02-09T00:00:00",
          "2023-02-11T00:00:00",
          "2023-02-13T00:00:00",
          "2023-02-14T00:00:00",
          "2023-02-15T00:00:00",
          "2023-02-16T00:00:00",
          "2023-02-17T00:00:00",
          "2023-02-18T00:00:00",
          "2023-02-19T00:00:00",
          "2023-02-20T00:00:00",
          "2023-02-21T00:00:00",
          "2023-02-22T00:00:00",
          "2023-02-23T00:00:00",
          "2023-02-24T00:00:00",
          "2023-02-25T00:00:00",
          "2023-02-27T00:00:00",
          "2023-02-28T00:00:00",
          "2023-03-01T00:00:00",
          "2023-03-02T00:00:00",
          "2023-03-03T00:00:00",
          "2023-03-04T00:00:00",
          "2023-03-05T00:00:00",
          "2023-03-06T00:00:00",
          "2023-03-07T00:00:00",
          "2023-03-08T00:00:00",
          "2023-03-09T00:00:00",
          "2023-03-10T00:00:00",
          "2023-03-11T00:00:00",
          "2023-03-13T00:00:00",
          "2023-03-14T00:00:00",
          "2023-03-16T00:00:00",
          "2023-03-17T00:00:00",
          "2023-03-18T00:00:00",
          "2023-03-20T00:00:00",
          "2023-03-21T00:00:00",
          "2023-03-22T00:00:00",
          "2023-03-24T00:00:00",
          "2023-03-25T00:00:00",
          "2023-03-27T00:00:00",
          "2023-03-29T00:00:00",
          "2023-04-01T00:00:00",
          "2023-04-03T00:00:00",
          "2023-04-05T00:00:00",
          "2023-04-06T00:00:00",
          "2023-04-08T00:00:00",
          "2023-04-10T00:00:00",
          "2023-04-11T00:00:00",
          "2023-04-12T00:00:00",
          "2023-04-13T00:00:00",
          "2023-04-15T00:00:00",
          "2023-04-16T00:00:00",
          "2023-04-17T00:00:00"
         ],
         "y": [
          1,
          1,
          1,
          1,
          1,
          1,
          1,
          3,
          3,
          3,
          3,
          3,
          5,
          5,
          8,
          8,
          8,
          8,
          9,
          9,
          9,
          11,
          11,
          11,
          11,
          11,
          11,
          11,
          11,
          11,
          11,
          11,
          11,
          17,
          17,
          18,
          24,
          24,
          28,
          28,
          28,
          28,
          28,
          28,
          28,
          28,
          28,
          28,
          31,
          31,
          32,
          32,
          32,
          32,
          32,
          32,
          33,
          33,
          33,
          33,
          35,
          37,
          37,
          37,
          37,
          38,
          39,
          39,
          40,
          40,
          40,
          40,
          47,
          47,
          47,
          47,
          47,
          47
         ]
        },
        {
         "line": {
          "color": "#DB578C"
         },
         "name": "valeri",
         "showlegend": true,
         "text": [
          "2023-01-06T00:00:00",
          "2023-01-07T00:00:00",
          "2023-01-09T00:00:00",
          "2023-01-10T00:00:00",
          "2023-01-11T00:00:00",
          "2023-01-13T00:00:00",
          "2023-01-14T00:00:00",
          "2023-01-16T00:00:00",
          "2023-01-17T00:00:00",
          "2023-01-18T00:00:00",
          "2023-01-19T00:00:00",
          "2023-01-20T00:00:00",
          "2023-01-21T00:00:00",
          "2023-01-23T00:00:00",
          "2023-01-24T00:00:00",
          "2023-01-25T00:00:00",
          "2023-01-26T00:00:00",
          "2023-01-27T00:00:00",
          "2023-01-28T00:00:00",
          "2023-01-30T00:00:00",
          "2023-01-31T00:00:00",
          "2023-02-01T00:00:00",
          "2023-02-02T00:00:00",
          "2023-02-03T00:00:00",
          "2023-02-04T00:00:00",
          "2023-02-06T00:00:00",
          "2023-02-09T00:00:00",
          "2023-02-11T00:00:00",
          "2023-02-13T00:00:00",
          "2023-02-14T00:00:00",
          "2023-02-15T00:00:00",
          "2023-02-16T00:00:00",
          "2023-02-17T00:00:00",
          "2023-02-18T00:00:00",
          "2023-02-19T00:00:00",
          "2023-02-20T00:00:00",
          "2023-02-21T00:00:00",
          "2023-02-22T00:00:00",
          "2023-02-23T00:00:00",
          "2023-02-24T00:00:00",
          "2023-02-25T00:00:00",
          "2023-02-27T00:00:00",
          "2023-02-28T00:00:00",
          "2023-03-01T00:00:00",
          "2023-03-02T00:00:00",
          "2023-03-03T00:00:00",
          "2023-03-04T00:00:00",
          "2023-03-05T00:00:00",
          "2023-03-06T00:00:00",
          "2023-03-07T00:00:00",
          "2023-03-08T00:00:00",
          "2023-03-09T00:00:00",
          "2023-03-10T00:00:00",
          "2023-03-11T00:00:00",
          "2023-03-13T00:00:00",
          "2023-03-14T00:00:00",
          "2023-03-16T00:00:00",
          "2023-03-17T00:00:00",
          "2023-03-18T00:00:00",
          "2023-03-20T00:00:00",
          "2023-03-21T00:00:00",
          "2023-03-22T00:00:00",
          "2023-03-24T00:00:00",
          "2023-03-25T00:00:00",
          "2023-03-27T00:00:00",
          "2023-03-29T00:00:00",
          "2023-04-01T00:00:00",
          "2023-04-03T00:00:00",
          "2023-04-05T00:00:00",
          "2023-04-06T00:00:00",
          "2023-04-08T00:00:00",
          "2023-04-10T00:00:00",
          "2023-04-11T00:00:00",
          "2023-04-12T00:00:00",
          "2023-04-13T00:00:00",
          "2023-04-15T00:00:00",
          "2023-04-16T00:00:00",
          "2023-04-17T00:00:00"
         ],
         "type": "scatter",
         "x": [
          "2023-01-06T00:00:00",
          "2023-01-07T00:00:00",
          "2023-01-09T00:00:00",
          "2023-01-10T00:00:00",
          "2023-01-11T00:00:00",
          "2023-01-13T00:00:00",
          "2023-01-14T00:00:00",
          "2023-01-16T00:00:00",
          "2023-01-17T00:00:00",
          "2023-01-18T00:00:00",
          "2023-01-19T00:00:00",
          "2023-01-20T00:00:00",
          "2023-01-21T00:00:00",
          "2023-01-23T00:00:00",
          "2023-01-24T00:00:00",
          "2023-01-25T00:00:00",
          "2023-01-26T00:00:00",
          "2023-01-27T00:00:00",
          "2023-01-28T00:00:00",
          "2023-01-30T00:00:00",
          "2023-01-31T00:00:00",
          "2023-02-01T00:00:00",
          "2023-02-02T00:00:00",
          "2023-02-03T00:00:00",
          "2023-02-04T00:00:00",
          "2023-02-06T00:00:00",
          "2023-02-09T00:00:00",
          "2023-02-11T00:00:00",
          "2023-02-13T00:00:00",
          "2023-02-14T00:00:00",
          "2023-02-15T00:00:00",
          "2023-02-16T00:00:00",
          "2023-02-17T00:00:00",
          "2023-02-18T00:00:00",
          "2023-02-19T00:00:00",
          "2023-02-20T00:00:00",
          "2023-02-21T00:00:00",
          "2023-02-22T00:00:00",
          "2023-02-23T00:00:00",
          "2023-02-24T00:00:00",
          "2023-02-25T00:00:00",
          "2023-02-27T00:00:00",
          "2023-02-28T00:00:00",
          "2023-03-01T00:00:00",
          "2023-03-02T00:00:00",
          "2023-03-03T00:00:00",
          "2023-03-04T00:00:00",
          "2023-03-05T00:00:00",
          "2023-03-06T00:00:00",
          "2023-03-07T00:00:00",
          "2023-03-08T00:00:00",
          "2023-03-09T00:00:00",
          "2023-03-10T00:00:00",
          "2023-03-11T00:00:00",
          "2023-03-13T00:00:00",
          "2023-03-14T00:00:00",
          "2023-03-16T00:00:00",
          "2023-03-17T00:00:00",
          "2023-03-18T00:00:00",
          "2023-03-20T00:00:00",
          "2023-03-21T00:00:00",
          "2023-03-22T00:00:00",
          "2023-03-24T00:00:00",
          "2023-03-25T00:00:00",
          "2023-03-27T00:00:00",
          "2023-03-29T00:00:00",
          "2023-04-01T00:00:00",
          "2023-04-03T00:00:00",
          "2023-04-05T00:00:00",
          "2023-04-06T00:00:00",
          "2023-04-08T00:00:00",
          "2023-04-10T00:00:00",
          "2023-04-11T00:00:00",
          "2023-04-12T00:00:00",
          "2023-04-13T00:00:00",
          "2023-04-15T00:00:00",
          "2023-04-16T00:00:00",
          "2023-04-17T00:00:00"
         ],
         "y": [
          1,
          14,
          18,
          20,
          23,
          23,
          23,
          59,
          65,
          66,
          72,
          72,
          74,
          75,
          86,
          94,
          100,
          101,
          105,
          112,
          113,
          119,
          120,
          120,
          120,
          122,
          133,
          135,
          140,
          148,
          158,
          162,
          162,
          172,
          172,
          178,
          194,
          206,
          239,
          253,
          258,
          268,
          268,
          269,
          269,
          270,
          274,
          274,
          276,
          285,
          306,
          308,
          308,
          310,
          311,
          311,
          312,
          313,
          313,
          314,
          318,
          318,
          319,
          322,
          325,
          336,
          339,
          350,
          359,
          359,
          359,
          368,
          443,
          444,
          454,
          457,
          457,
          459
         ]
        }
       ],
       "layout": {
        "template": {
         "data": {
          "bar": [
           {
            "error_x": {
             "color": "#2a3f5f"
            },
            "error_y": {
             "color": "#2a3f5f"
            },
            "marker": {
             "line": {
              "color": "white",
              "width": 0.5
             }
            },
            "type": "bar"
           }
          ],
          "barpolar": [
           {
            "marker": {
             "line": {
              "color": "white",
              "width": 0.5
             }
            },
            "type": "barpolar"
           }
          ],
          "carpet": [
           {
            "aaxis": {
             "endlinecolor": "#2a3f5f",
             "gridcolor": "#C8D4E3",
             "linecolor": "#C8D4E3",
             "minorgridcolor": "#C8D4E3",
             "startlinecolor": "#2a3f5f"
            },
            "baxis": {
             "endlinecolor": "#2a3f5f",
             "gridcolor": "#C8D4E3",
             "linecolor": "#C8D4E3",
             "minorgridcolor": "#C8D4E3",
             "startlinecolor": "#2a3f5f"
            },
            "type": "carpet"
           }
          ],
          "choropleth": [
           {
            "colorbar": {
             "outlinewidth": 0,
             "ticks": ""
            },
            "type": "choropleth"
           }
          ],
          "contour": [
           {
            "colorbar": {
             "outlinewidth": 0,
             "ticks": ""
            },
            "colorscale": [
             [
              0,
              "#0d0887"
             ],
             [
              0.1111111111111111,
              "#46039f"
             ],
             [
              0.2222222222222222,
              "#7201a8"
             ],
             [
              0.3333333333333333,
              "#9c179e"
             ],
             [
              0.4444444444444444,
              "#bd3786"
             ],
             [
              0.5555555555555556,
              "#d8576b"
             ],
             [
              0.6666666666666666,
              "#ed7953"
             ],
             [
              0.7777777777777778,
              "#fb9f3a"
             ],
             [
              0.8888888888888888,
              "#fdca26"
             ],
             [
              1,
              "#f0f921"
             ]
            ],
            "type": "contour"
           }
          ],
          "contourcarpet": [
           {
            "colorbar": {
             "outlinewidth": 0,
             "ticks": ""
            },
            "type": "contourcarpet"
           }
          ],
          "heatmap": [
           {
            "colorbar": {
             "outlinewidth": 0,
             "ticks": ""
            },
            "colorscale": [
             [
              0,
              "#0d0887"
             ],
             [
              0.1111111111111111,
              "#46039f"
             ],
             [
              0.2222222222222222,
              "#7201a8"
             ],
             [
              0.3333333333333333,
              "#9c179e"
             ],
             [
              0.4444444444444444,
              "#bd3786"
             ],
             [
              0.5555555555555556,
              "#d8576b"
             ],
             [
              0.6666666666666666,
              "#ed7953"
             ],
             [
              0.7777777777777778,
              "#fb9f3a"
             ],
             [
              0.8888888888888888,
              "#fdca26"
             ],
             [
              1,
              "#f0f921"
             ]
            ],
            "type": "heatmap"
           }
          ],
          "heatmapgl": [
           {
            "colorbar": {
             "outlinewidth": 0,
             "ticks": ""
            },
            "colorscale": [
             [
              0,
              "#0d0887"
             ],
             [
              0.1111111111111111,
              "#46039f"
             ],
             [
              0.2222222222222222,
              "#7201a8"
             ],
             [
              0.3333333333333333,
              "#9c179e"
             ],
             [
              0.4444444444444444,
              "#bd3786"
             ],
             [
              0.5555555555555556,
              "#d8576b"
             ],
             [
              0.6666666666666666,
              "#ed7953"
             ],
             [
              0.7777777777777778,
              "#fb9f3a"
             ],
             [
              0.8888888888888888,
              "#fdca26"
             ],
             [
              1,
              "#f0f921"
             ]
            ],
            "type": "heatmapgl"
           }
          ],
          "histogram": [
           {
            "marker": {
             "colorbar": {
              "outlinewidth": 0,
              "ticks": ""
             }
            },
            "type": "histogram"
           }
          ],
          "histogram2d": [
           {
            "colorbar": {
             "outlinewidth": 0,
             "ticks": ""
            },
            "colorscale": [
             [
              0,
              "#0d0887"
             ],
             [
              0.1111111111111111,
              "#46039f"
             ],
             [
              0.2222222222222222,
              "#7201a8"
             ],
             [
              0.3333333333333333,
              "#9c179e"
             ],
             [
              0.4444444444444444,
              "#bd3786"
             ],
             [
              0.5555555555555556,
              "#d8576b"
             ],
             [
              0.6666666666666666,
              "#ed7953"
             ],
             [
              0.7777777777777778,
              "#fb9f3a"
             ],
             [
              0.8888888888888888,
              "#fdca26"
             ],
             [
              1,
              "#f0f921"
             ]
            ],
            "type": "histogram2d"
           }
          ],
          "histogram2dcontour": [
           {
            "colorbar": {
             "outlinewidth": 0,
             "ticks": ""
            },
            "colorscale": [
             [
              0,
              "#0d0887"
             ],
             [
              0.1111111111111111,
              "#46039f"
             ],
             [
              0.2222222222222222,
              "#7201a8"
             ],
             [
              0.3333333333333333,
              "#9c179e"
             ],
             [
              0.4444444444444444,
              "#bd3786"
             ],
             [
              0.5555555555555556,
              "#d8576b"
             ],
             [
              0.6666666666666666,
              "#ed7953"
             ],
             [
              0.7777777777777778,
              "#fb9f3a"
             ],
             [
              0.8888888888888888,
              "#fdca26"
             ],
             [
              1,
              "#f0f921"
             ]
            ],
            "type": "histogram2dcontour"
           }
          ],
          "mesh3d": [
           {
            "colorbar": {
             "outlinewidth": 0,
             "ticks": ""
            },
            "type": "mesh3d"
           }
          ],
          "parcoords": [
           {
            "line": {
             "colorbar": {
              "outlinewidth": 0,
              "ticks": ""
             }
            },
            "type": "parcoords"
           }
          ],
          "pie": [
           {
            "automargin": true,
            "type": "pie"
           }
          ],
          "scatter": [
           {
            "marker": {
             "colorbar": {
              "outlinewidth": 0,
              "ticks": ""
             }
            },
            "type": "scatter"
           }
          ],
          "scatter3d": [
           {
            "line": {
             "colorbar": {
              "outlinewidth": 0,
              "ticks": ""
             }
            },
            "marker": {
             "colorbar": {
              "outlinewidth": 0,
              "ticks": ""
             }
            },
            "type": "scatter3d"
           }
          ],
          "scattercarpet": [
           {
            "marker": {
             "colorbar": {
              "outlinewidth": 0,
              "ticks": ""
             }
            },
            "type": "scattercarpet"
           }
          ],
          "scattergeo": [
           {
            "marker": {
             "colorbar": {
              "outlinewidth": 0,
              "ticks": ""
             }
            },
            "type": "scattergeo"
           }
          ],
          "scattergl": [
           {
            "marker": {
             "colorbar": {
              "outlinewidth": 0,
              "ticks": ""
             }
            },
            "type": "scattergl"
           }
          ],
          "scattermapbox": [
           {
            "marker": {
             "colorbar": {
              "outlinewidth": 0,
              "ticks": ""
             }
            },
            "type": "scattermapbox"
           }
          ],
          "scatterpolar": [
           {
            "marker": {
             "colorbar": {
              "outlinewidth": 0,
              "ticks": ""
             }
            },
            "type": "scatterpolar"
           }
          ],
          "scatterpolargl": [
           {
            "marker": {
             "colorbar": {
              "outlinewidth": 0,
              "ticks": ""
             }
            },
            "type": "scatterpolargl"
           }
          ],
          "scatterternary": [
           {
            "marker": {
             "colorbar": {
              "outlinewidth": 0,
              "ticks": ""
             }
            },
            "type": "scatterternary"
           }
          ],
          "surface": [
           {
            "colorbar": {
             "outlinewidth": 0,
             "ticks": ""
            },
            "colorscale": [
             [
              0,
              "#0d0887"
             ],
             [
              0.1111111111111111,
              "#46039f"
             ],
             [
              0.2222222222222222,
              "#7201a8"
             ],
             [
              0.3333333333333333,
              "#9c179e"
             ],
             [
              0.4444444444444444,
              "#bd3786"
             ],
             [
              0.5555555555555556,
              "#d8576b"
             ],
             [
              0.6666666666666666,
              "#ed7953"
             ],
             [
              0.7777777777777778,
              "#fb9f3a"
             ],
             [
              0.8888888888888888,
              "#fdca26"
             ],
             [
              1,
              "#f0f921"
             ]
            ],
            "type": "surface"
           }
          ],
          "table": [
           {
            "cells": {
             "fill": {
              "color": "#EBF0F8"
             },
             "line": {
              "color": "white"
             }
            },
            "header": {
             "fill": {
              "color": "#C8D4E3"
             },
             "line": {
              "color": "white"
             }
            },
            "type": "table"
           }
          ]
         },
         "layout": {
          "annotationdefaults": {
           "arrowcolor": "#2a3f5f",
           "arrowhead": 0,
           "arrowwidth": 1
          },
          "autotypenumbers": "strict",
          "coloraxis": {
           "colorbar": {
            "outlinewidth": 0,
            "ticks": ""
           }
          },
          "colorscale": {
           "diverging": [
            [
             0,
             "#8e0152"
            ],
            [
             0.1,
             "#c51b7d"
            ],
            [
             0.2,
             "#de77ae"
            ],
            [
             0.3,
             "#f1b6da"
            ],
            [
             0.4,
             "#fde0ef"
            ],
            [
             0.5,
             "#f7f7f7"
            ],
            [
             0.6,
             "#e6f5d0"
            ],
            [
             0.7,
             "#b8e186"
            ],
            [
             0.8,
             "#7fbc41"
            ],
            [
             0.9,
             "#4d9221"
            ],
            [
             1,
             "#276419"
            ]
           ],
           "sequential": [
            [
             0,
             "#0d0887"
            ],
            [
             0.1111111111111111,
             "#46039f"
            ],
            [
             0.2222222222222222,
             "#7201a8"
            ],
            [
             0.3333333333333333,
             "#9c179e"
            ],
            [
             0.4444444444444444,
             "#bd3786"
            ],
            [
             0.5555555555555556,
             "#d8576b"
            ],
            [
             0.6666666666666666,
             "#ed7953"
            ],
            [
             0.7777777777777778,
             "#fb9f3a"
            ],
            [
             0.8888888888888888,
             "#fdca26"
            ],
            [
             1,
             "#f0f921"
            ]
           ],
           "sequentialminus": [
            [
             0,
             "#0d0887"
            ],
            [
             0.1111111111111111,
             "#46039f"
            ],
            [
             0.2222222222222222,
             "#7201a8"
            ],
            [
             0.3333333333333333,
             "#9c179e"
            ],
            [
             0.4444444444444444,
             "#bd3786"
            ],
            [
             0.5555555555555556,
             "#d8576b"
            ],
            [
             0.6666666666666666,
             "#ed7953"
            ],
            [
             0.7777777777777778,
             "#fb9f3a"
            ],
            [
             0.8888888888888888,
             "#fdca26"
            ],
            [
             1,
             "#f0f921"
            ]
           ]
          },
          "colorway": [
           "#636efa",
           "#EF553B",
           "#00cc96",
           "#ab63fa",
           "#FFA15A",
           "#19d3f3",
           "#FF6692",
           "#B6E880",
           "#FF97FF",
           "#FECB52"
          ],
          "font": {
           "color": "#2a3f5f"
          },
          "geo": {
           "bgcolor": "white",
           "lakecolor": "white",
           "landcolor": "white",
           "showlakes": true,
           "showland": true,
           "subunitcolor": "#C8D4E3"
          },
          "hoverlabel": {
           "align": "left"
          },
          "hovermode": "closest",
          "mapbox": {
           "style": "light"
          },
          "paper_bgcolor": "white",
          "plot_bgcolor": "white",
          "polar": {
           "angularaxis": {
            "gridcolor": "#EBF0F8",
            "linecolor": "#EBF0F8",
            "ticks": ""
           },
           "bgcolor": "white",
           "radialaxis": {
            "gridcolor": "#EBF0F8",
            "linecolor": "#EBF0F8",
            "ticks": ""
           }
          },
          "scene": {
           "xaxis": {
            "backgroundcolor": "white",
            "gridcolor": "#DFE8F3",
            "gridwidth": 2,
            "linecolor": "#EBF0F8",
            "showbackground": true,
            "ticks": "",
            "zerolinecolor": "#EBF0F8"
           },
           "yaxis": {
            "backgroundcolor": "white",
            "gridcolor": "#DFE8F3",
            "gridwidth": 2,
            "linecolor": "#EBF0F8",
            "showbackground": true,
            "ticks": "",
            "zerolinecolor": "#EBF0F8"
           },
           "zaxis": {
            "backgroundcolor": "white",
            "gridcolor": "#DFE8F3",
            "gridwidth": 2,
            "linecolor": "#EBF0F8",
            "showbackground": true,
            "ticks": "",
            "zerolinecolor": "#EBF0F8"
           }
          },
          "shapedefaults": {
           "line": {
            "color": "#2a3f5f"
           }
          },
          "ternary": {
           "aaxis": {
            "gridcolor": "#DFE8F3",
            "linecolor": "#A2B1C6",
            "ticks": ""
           },
           "baxis": {
            "gridcolor": "#DFE8F3",
            "linecolor": "#A2B1C6",
            "ticks": ""
           },
           "bgcolor": "white",
           "caxis": {
            "gridcolor": "#DFE8F3",
            "linecolor": "#A2B1C6",
            "ticks": ""
           }
          },
          "title": {
           "x": 0.05
          },
          "xaxis": {
           "automargin": true,
           "gridcolor": "#EBF0F8",
           "linecolor": "#EBF0F8",
           "ticks": "",
           "title": {
            "standoff": 15
           },
           "zerolinecolor": "#EBF0F8",
           "zerolinewidth": 2
          },
          "yaxis": {
           "automargin": true,
           "gridcolor": "#EBF0F8",
           "linecolor": "#EBF0F8",
           "ticks": "",
           "title": {
            "standoff": 15
           },
           "zerolinecolor": "#EBF0F8",
           "zerolinewidth": 2
          }
         }
        }
       }
      }
     },
     "metadata": {},
     "output_type": "display_data"
    }
   ],
   "source": [
    "fig = FigureBuilder(chat).user_interventions_count_linechart(cumulative=True, title=None, xlabel=None)\n",
    "py.plot(fig, filename='Cumulative interventions count', auto_open=False)\n",
    "fig"
   ]
  },
  {
   "attachments": {},
   "cell_type": "markdown",
   "metadata": {},
   "source": [
    "Standardized interventions heatmap by module"
   ]
  },
  {
   "cell_type": "code",
   "execution_count": 15,
   "metadata": {},
   "outputs": [
    {
     "data": {
      "application/vnd.plotly.v1+json": {
       "config": {
        "plotlyServerURL": "https://plotly.com"
       },
       "data": [
        {
         "colorscale": [
          [
           0,
           "rgb(247,252,245)"
          ],
          [
           0.125,
           "rgb(229,245,224)"
          ],
          [
           0.25,
           "rgb(199,233,192)"
          ],
          [
           0.375,
           "rgb(161,217,155)"
          ],
          [
           0.5,
           "rgb(116,196,118)"
          ],
          [
           0.625,
           "rgb(65,171,93)"
          ],
          [
           0.75,
           "rgb(35,139,69)"
          ],
          [
           0.875,
           "rgb(0,109,44)"
          ],
          [
           1,
           "rgb(0,68,27)"
          ]
         ],
         "hovertemplate": "Interventions<extra>%{z}</extra>",
         "type": "heatmap",
         "x": [
          "adhit",
          "alex",
          "alit_gor",
          "alit_jak",
          "aris",
          "ely",
          "erland",
          "fawaz",
          "ichsan",
          "kajal",
          "mirza",
          "rika",
          "valeri"
         ],
         "y": [
          "Data Communication",
          "Data Visualization",
          "Group Final Project Preparation Week",
          "Introduction & Orientation",
          "Pitching Week",
          "Python",
          "SQL",
          "Spreadsheet & Statistics",
          "Understanding Business Problems"
         ],
         "z": [
          [
           -0.7435930486560304,
           0.5246373029763202,
           -0.5270462766947298,
           0.030890103160760823,
           -0.373258022814015,
           -0.8099382692526634,
           -0.5183417214468112,
           -0.30151134457776363,
           0.48953546389837904,
           -0.918932659145001,
           -0.7205766921228921,
           -0.9604721435546552,
           -0.7057612108188772
          ],
          [
           -0.5879572942861636,
           0.5246373029763202,
           -1.1595018087284057,
           -0.6178020632152154,
           -0.373258022814015,
           -1.2544165877449787,
           -0.5183417214468112,
           -0.753778361444409,
           0.3263569759322527,
           -0.74420602677236,
           -0.7205766921228921,
           0.2076696526604661,
           -0.560852064871275
          ],
          [
           -1.2105003117656308,
           -1.2914148996340185,
           -1.1595018087284057,
           -0.5251317537329331,
           -0.6486123019391079,
           -0.6321469418557373,
           -0.5425130970583205,
           -0.753778361444409,
           0.16317848796612636,
           -0.8606904483541207,
           0,
           -0.9604721435546552,
           -1.1163371243370834
          ],
          [
           -0.8992288030258971,
           -1.2914148996340185,
           0.7378647873726218,
           -1.1738239201089091,
           -1.0891791485392568,
           -0.9877295966495896,
           -0.5425130970583205,
           1.0552897060221724,
           -0.9790709277967581,
           -0.5257977363065587,
           0.9607689228305228,
           -1.1941005027976794,
           -0.9714279783894813
          ],
          [
           1.2796717581522379,
           0.1614268624542524,
           1.0540925533894598,
           1.235604126430431,
           1.8846470660117474,
           0.5234966862242825,
           -0.5425130970583205,
           -0.753778361444409,
           1.9581418555935162,
           0.7846520064882491,
           -0.7205766921228921,
           0.4412980119034904,
           1.178057686499951
          ],
          [
           0.8127644950426376,
           0.1614268624542524,
           1.3703203194062978,
           2.162307221253254,
           1.5542219310616359,
           2.1236186327966178,
           2.7447939861069486,
           1.0552897060221724,
           0.9790709277967581,
           2.4008733559351785,
           0,
           2.3103248858476846,
           2.1441186594839654
          ],
          [
           1.4353075125221046,
           1.6142686245425233,
           1.0540925533894598,
           -0.8031426821797799,
           -1.0341082927142382,
           -0.00987729596649586,
           0.13428542006394076,
           -0.753778361444409,
           -0.9790709277967581,
           0.21679045127716567,
           -0.4803844614152614,
           0.2076696526604661,
           0.06708756756833437
          ],
          [
           0.8127644950426376,
           0.8878477434983879,
           -0.2108185106778919,
           -0.3397911347683684,
           0.2325213912611896,
           0.7012880136212086,
           -0.059085584828133884,
           1.9598237397554632,
           -0.9790709277967581,
           0.042063818904524646,
           2.401922307076307,
           0.2076696526604661,
           -0.07782157837926781
          ],
          [
           -0.8992288030258971,
           -1.2914148996340185,
           -1.1595018087284057,
           0.030890103160760823,
           -0.15297459951394057,
           0.34570535882735637,
           -0.15577108727417122,
           -0.753778361444409,
           -0.9790709277967581,
           -0.39475276202707793,
           -0.7205766921228921,
           -0.25958706582558244,
           0.042936043243734
          ]
         ]
        }
       ],
       "layout": {
        "template": {
         "data": {
          "bar": [
           {
            "error_x": {
             "color": "#2a3f5f"
            },
            "error_y": {
             "color": "#2a3f5f"
            },
            "marker": {
             "line": {
              "color": "white",
              "width": 0.5
             }
            },
            "type": "bar"
           }
          ],
          "barpolar": [
           {
            "marker": {
             "line": {
              "color": "white",
              "width": 0.5
             }
            },
            "type": "barpolar"
           }
          ],
          "carpet": [
           {
            "aaxis": {
             "endlinecolor": "#2a3f5f",
             "gridcolor": "#C8D4E3",
             "linecolor": "#C8D4E3",
             "minorgridcolor": "#C8D4E3",
             "startlinecolor": "#2a3f5f"
            },
            "baxis": {
             "endlinecolor": "#2a3f5f",
             "gridcolor": "#C8D4E3",
             "linecolor": "#C8D4E3",
             "minorgridcolor": "#C8D4E3",
             "startlinecolor": "#2a3f5f"
            },
            "type": "carpet"
           }
          ],
          "choropleth": [
           {
            "colorbar": {
             "outlinewidth": 0,
             "ticks": ""
            },
            "type": "choropleth"
           }
          ],
          "contour": [
           {
            "colorbar": {
             "outlinewidth": 0,
             "ticks": ""
            },
            "colorscale": [
             [
              0,
              "#0d0887"
             ],
             [
              0.1111111111111111,
              "#46039f"
             ],
             [
              0.2222222222222222,
              "#7201a8"
             ],
             [
              0.3333333333333333,
              "#9c179e"
             ],
             [
              0.4444444444444444,
              "#bd3786"
             ],
             [
              0.5555555555555556,
              "#d8576b"
             ],
             [
              0.6666666666666666,
              "#ed7953"
             ],
             [
              0.7777777777777778,
              "#fb9f3a"
             ],
             [
              0.8888888888888888,
              "#fdca26"
             ],
             [
              1,
              "#f0f921"
             ]
            ],
            "type": "contour"
           }
          ],
          "contourcarpet": [
           {
            "colorbar": {
             "outlinewidth": 0,
             "ticks": ""
            },
            "type": "contourcarpet"
           }
          ],
          "heatmap": [
           {
            "colorbar": {
             "outlinewidth": 0,
             "ticks": ""
            },
            "colorscale": [
             [
              0,
              "#0d0887"
             ],
             [
              0.1111111111111111,
              "#46039f"
             ],
             [
              0.2222222222222222,
              "#7201a8"
             ],
             [
              0.3333333333333333,
              "#9c179e"
             ],
             [
              0.4444444444444444,
              "#bd3786"
             ],
             [
              0.5555555555555556,
              "#d8576b"
             ],
             [
              0.6666666666666666,
              "#ed7953"
             ],
             [
              0.7777777777777778,
              "#fb9f3a"
             ],
             [
              0.8888888888888888,
              "#fdca26"
             ],
             [
              1,
              "#f0f921"
             ]
            ],
            "type": "heatmap"
           }
          ],
          "heatmapgl": [
           {
            "colorbar": {
             "outlinewidth": 0,
             "ticks": ""
            },
            "colorscale": [
             [
              0,
              "#0d0887"
             ],
             [
              0.1111111111111111,
              "#46039f"
             ],
             [
              0.2222222222222222,
              "#7201a8"
             ],
             [
              0.3333333333333333,
              "#9c179e"
             ],
             [
              0.4444444444444444,
              "#bd3786"
             ],
             [
              0.5555555555555556,
              "#d8576b"
             ],
             [
              0.6666666666666666,
              "#ed7953"
             ],
             [
              0.7777777777777778,
              "#fb9f3a"
             ],
             [
              0.8888888888888888,
              "#fdca26"
             ],
             [
              1,
              "#f0f921"
             ]
            ],
            "type": "heatmapgl"
           }
          ],
          "histogram": [
           {
            "marker": {
             "colorbar": {
              "outlinewidth": 0,
              "ticks": ""
             }
            },
            "type": "histogram"
           }
          ],
          "histogram2d": [
           {
            "colorbar": {
             "outlinewidth": 0,
             "ticks": ""
            },
            "colorscale": [
             [
              0,
              "#0d0887"
             ],
             [
              0.1111111111111111,
              "#46039f"
             ],
             [
              0.2222222222222222,
              "#7201a8"
             ],
             [
              0.3333333333333333,
              "#9c179e"
             ],
             [
              0.4444444444444444,
              "#bd3786"
             ],
             [
              0.5555555555555556,
              "#d8576b"
             ],
             [
              0.6666666666666666,
              "#ed7953"
             ],
             [
              0.7777777777777778,
              "#fb9f3a"
             ],
             [
              0.8888888888888888,
              "#fdca26"
             ],
             [
              1,
              "#f0f921"
             ]
            ],
            "type": "histogram2d"
           }
          ],
          "histogram2dcontour": [
           {
            "colorbar": {
             "outlinewidth": 0,
             "ticks": ""
            },
            "colorscale": [
             [
              0,
              "#0d0887"
             ],
             [
              0.1111111111111111,
              "#46039f"
             ],
             [
              0.2222222222222222,
              "#7201a8"
             ],
             [
              0.3333333333333333,
              "#9c179e"
             ],
             [
              0.4444444444444444,
              "#bd3786"
             ],
             [
              0.5555555555555556,
              "#d8576b"
             ],
             [
              0.6666666666666666,
              "#ed7953"
             ],
             [
              0.7777777777777778,
              "#fb9f3a"
             ],
             [
              0.8888888888888888,
              "#fdca26"
             ],
             [
              1,
              "#f0f921"
             ]
            ],
            "type": "histogram2dcontour"
           }
          ],
          "mesh3d": [
           {
            "colorbar": {
             "outlinewidth": 0,
             "ticks": ""
            },
            "type": "mesh3d"
           }
          ],
          "parcoords": [
           {
            "line": {
             "colorbar": {
              "outlinewidth": 0,
              "ticks": ""
             }
            },
            "type": "parcoords"
           }
          ],
          "pie": [
           {
            "automargin": true,
            "type": "pie"
           }
          ],
          "scatter": [
           {
            "marker": {
             "colorbar": {
              "outlinewidth": 0,
              "ticks": ""
             }
            },
            "type": "scatter"
           }
          ],
          "scatter3d": [
           {
            "line": {
             "colorbar": {
              "outlinewidth": 0,
              "ticks": ""
             }
            },
            "marker": {
             "colorbar": {
              "outlinewidth": 0,
              "ticks": ""
             }
            },
            "type": "scatter3d"
           }
          ],
          "scattercarpet": [
           {
            "marker": {
             "colorbar": {
              "outlinewidth": 0,
              "ticks": ""
             }
            },
            "type": "scattercarpet"
           }
          ],
          "scattergeo": [
           {
            "marker": {
             "colorbar": {
              "outlinewidth": 0,
              "ticks": ""
             }
            },
            "type": "scattergeo"
           }
          ],
          "scattergl": [
           {
            "marker": {
             "colorbar": {
              "outlinewidth": 0,
              "ticks": ""
             }
            },
            "type": "scattergl"
           }
          ],
          "scattermapbox": [
           {
            "marker": {
             "colorbar": {
              "outlinewidth": 0,
              "ticks": ""
             }
            },
            "type": "scattermapbox"
           }
          ],
          "scatterpolar": [
           {
            "marker": {
             "colorbar": {
              "outlinewidth": 0,
              "ticks": ""
             }
            },
            "type": "scatterpolar"
           }
          ],
          "scatterpolargl": [
           {
            "marker": {
             "colorbar": {
              "outlinewidth": 0,
              "ticks": ""
             }
            },
            "type": "scatterpolargl"
           }
          ],
          "scatterternary": [
           {
            "marker": {
             "colorbar": {
              "outlinewidth": 0,
              "ticks": ""
             }
            },
            "type": "scatterternary"
           }
          ],
          "surface": [
           {
            "colorbar": {
             "outlinewidth": 0,
             "ticks": ""
            },
            "colorscale": [
             [
              0,
              "#0d0887"
             ],
             [
              0.1111111111111111,
              "#46039f"
             ],
             [
              0.2222222222222222,
              "#7201a8"
             ],
             [
              0.3333333333333333,
              "#9c179e"
             ],
             [
              0.4444444444444444,
              "#bd3786"
             ],
             [
              0.5555555555555556,
              "#d8576b"
             ],
             [
              0.6666666666666666,
              "#ed7953"
             ],
             [
              0.7777777777777778,
              "#fb9f3a"
             ],
             [
              0.8888888888888888,
              "#fdca26"
             ],
             [
              1,
              "#f0f921"
             ]
            ],
            "type": "surface"
           }
          ],
          "table": [
           {
            "cells": {
             "fill": {
              "color": "#EBF0F8"
             },
             "line": {
              "color": "white"
             }
            },
            "header": {
             "fill": {
              "color": "#C8D4E3"
             },
             "line": {
              "color": "white"
             }
            },
            "type": "table"
           }
          ]
         },
         "layout": {
          "annotationdefaults": {
           "arrowcolor": "#2a3f5f",
           "arrowhead": 0,
           "arrowwidth": 1
          },
          "autotypenumbers": "strict",
          "coloraxis": {
           "colorbar": {
            "outlinewidth": 0,
            "ticks": ""
           }
          },
          "colorscale": {
           "diverging": [
            [
             0,
             "#8e0152"
            ],
            [
             0.1,
             "#c51b7d"
            ],
            [
             0.2,
             "#de77ae"
            ],
            [
             0.3,
             "#f1b6da"
            ],
            [
             0.4,
             "#fde0ef"
            ],
            [
             0.5,
             "#f7f7f7"
            ],
            [
             0.6,
             "#e6f5d0"
            ],
            [
             0.7,
             "#b8e186"
            ],
            [
             0.8,
             "#7fbc41"
            ],
            [
             0.9,
             "#4d9221"
            ],
            [
             1,
             "#276419"
            ]
           ],
           "sequential": [
            [
             0,
             "#0d0887"
            ],
            [
             0.1111111111111111,
             "#46039f"
            ],
            [
             0.2222222222222222,
             "#7201a8"
            ],
            [
             0.3333333333333333,
             "#9c179e"
            ],
            [
             0.4444444444444444,
             "#bd3786"
            ],
            [
             0.5555555555555556,
             "#d8576b"
            ],
            [
             0.6666666666666666,
             "#ed7953"
            ],
            [
             0.7777777777777778,
             "#fb9f3a"
            ],
            [
             0.8888888888888888,
             "#fdca26"
            ],
            [
             1,
             "#f0f921"
            ]
           ],
           "sequentialminus": [
            [
             0,
             "#0d0887"
            ],
            [
             0.1111111111111111,
             "#46039f"
            ],
            [
             0.2222222222222222,
             "#7201a8"
            ],
            [
             0.3333333333333333,
             "#9c179e"
            ],
            [
             0.4444444444444444,
             "#bd3786"
            ],
            [
             0.5555555555555556,
             "#d8576b"
            ],
            [
             0.6666666666666666,
             "#ed7953"
            ],
            [
             0.7777777777777778,
             "#fb9f3a"
            ],
            [
             0.8888888888888888,
             "#fdca26"
            ],
            [
             1,
             "#f0f921"
            ]
           ]
          },
          "colorway": [
           "#636efa",
           "#EF553B",
           "#00cc96",
           "#ab63fa",
           "#FFA15A",
           "#19d3f3",
           "#FF6692",
           "#B6E880",
           "#FF97FF",
           "#FECB52"
          ],
          "font": {
           "color": "#2a3f5f"
          },
          "geo": {
           "bgcolor": "white",
           "lakecolor": "white",
           "landcolor": "white",
           "showlakes": true,
           "showland": true,
           "subunitcolor": "#C8D4E3"
          },
          "hoverlabel": {
           "align": "left"
          },
          "hovermode": "closest",
          "mapbox": {
           "style": "light"
          },
          "paper_bgcolor": "white",
          "plot_bgcolor": "white",
          "polar": {
           "angularaxis": {
            "gridcolor": "#EBF0F8",
            "linecolor": "#EBF0F8",
            "ticks": ""
           },
           "bgcolor": "white",
           "radialaxis": {
            "gridcolor": "#EBF0F8",
            "linecolor": "#EBF0F8",
            "ticks": ""
           }
          },
          "scene": {
           "xaxis": {
            "backgroundcolor": "white",
            "gridcolor": "#DFE8F3",
            "gridwidth": 2,
            "linecolor": "#EBF0F8",
            "showbackground": true,
            "ticks": "",
            "zerolinecolor": "#EBF0F8"
           },
           "yaxis": {
            "backgroundcolor": "white",
            "gridcolor": "#DFE8F3",
            "gridwidth": 2,
            "linecolor": "#EBF0F8",
            "showbackground": true,
            "ticks": "",
            "zerolinecolor": "#EBF0F8"
           },
           "zaxis": {
            "backgroundcolor": "white",
            "gridcolor": "#DFE8F3",
            "gridwidth": 2,
            "linecolor": "#EBF0F8",
            "showbackground": true,
            "ticks": "",
            "zerolinecolor": "#EBF0F8"
           }
          },
          "shapedefaults": {
           "line": {
            "color": "#2a3f5f"
           }
          },
          "ternary": {
           "aaxis": {
            "gridcolor": "#DFE8F3",
            "linecolor": "#A2B1C6",
            "ticks": ""
           },
           "baxis": {
            "gridcolor": "#DFE8F3",
            "linecolor": "#A2B1C6",
            "ticks": ""
           },
           "bgcolor": "white",
           "caxis": {
            "gridcolor": "#DFE8F3",
            "linecolor": "#A2B1C6",
            "ticks": ""
           }
          },
          "title": {
           "x": 0.05
          },
          "xaxis": {
           "automargin": true,
           "gridcolor": "#EBF0F8",
           "linecolor": "#EBF0F8",
           "ticks": "",
           "title": {
            "standoff": 15
           },
           "zerolinecolor": "#EBF0F8",
           "zerolinewidth": 2
          },
          "yaxis": {
           "automargin": true,
           "gridcolor": "#EBF0F8",
           "linecolor": "#EBF0F8",
           "ticks": "",
           "title": {
            "standoff": 15
           },
           "zerolinecolor": "#EBF0F8",
           "zerolinewidth": 2
          }
         }
        },
        "yaxis": {
         "categoryarray": [
          "Introduction & Orientation",
          "Understanding Business Problems",
          "Spreadsheet & Statistics",
          "SQL",
          "Python",
          "Group Final Project Preparation Week",
          "Data Visualization",
          "Data Communication",
          "Pitching Week"
         ],
         "categoryorder": "array"
        }
       }
      }
     },
     "metadata": {},
     "output_type": "display_data"
    }
   ],
   "source": [
    "pivot = pd.pivot_table(chat[chat.module_name != ''], index='module_name', columns='username', values='message', aggfunc='count').fillna(0).apply(zscore)\n",
    "heatmap = go.Heatmap(z=pivot.values,\n",
    "                     x=pivot.columns,\n",
    "                     y=pivot.index,\n",
    "                     hovertemplate='Interventions<extra>%{z}</extra>',\n",
    "                     colorscale='Greens')\n",
    "fig = go.Figure(data=[heatmap]).update_layout(yaxis={'categoryorder': 'array',\n",
    "                                                     'categoryarray': ['Introduction & Orientation',\n",
    "                                                                       'Understanding Business Problems',\n",
    "                                                                       'Spreadsheet & Statistics', 'SQL',\n",
    "                                                                       'Python', 'Group Final Project Preparation Week',\n",
    "                                                                       'Data Visualization', 'Data Communication',\n",
    "                                                                       'Pitching Week'\n",
    "                                                                       ]})\n",
    "py.plot(fig, filename='Standardized interventions heatmap by module', auto_open=False)\n",
    "fig"
   ]
  },
  {
   "attachments": {},
   "cell_type": "markdown",
   "metadata": {},
   "source": [
    "Interventions heatmap by day & hour"
   ]
  },
  {
   "cell_type": "code",
   "execution_count": 16,
   "metadata": {},
   "outputs": [
    {
     "data": {
      "application/vnd.plotly.v1+json": {
       "config": {
        "plotlyServerURL": "https://plotly.com"
       },
       "data": [
        {
         "colorscale": [
          [
           0,
           "rgb(247,252,245)"
          ],
          [
           0.125,
           "rgb(229,245,224)"
          ],
          [
           0.25,
           "rgb(199,233,192)"
          ],
          [
           0.375,
           "rgb(161,217,155)"
          ],
          [
           0.5,
           "rgb(116,196,118)"
          ],
          [
           0.625,
           "rgb(65,171,93)"
          ],
          [
           0.75,
           "rgb(35,139,69)"
          ],
          [
           0.875,
           "rgb(0,109,44)"
          ],
          [
           1,
           "rgb(0,68,27)"
          ]
         ],
         "hovertemplate": "Interventions at %{y}-hour<extra>%{z}</extra>",
         "type": "heatmap",
         "x": [
          "Friday",
          "Monday",
          "Saturday",
          "Sunday",
          "Thursday",
          "Tuesday",
          "Wednesday"
         ],
         "y": [
          0,
          2,
          4,
          5,
          6,
          7,
          8,
          9,
          10,
          11,
          12,
          13,
          14,
          15,
          16,
          17,
          18,
          19,
          20,
          21,
          22,
          23
         ],
         "z": [
          [
           0,
           0,
           1,
           0,
           0,
           0,
           2
          ],
          [
           0,
           1,
           0,
           0,
           0,
           0,
           0
          ],
          [
           0,
           0,
           0,
           0,
           0,
           0,
           2
          ],
          [
           1,
           0,
           0,
           0,
           1,
           0,
           0
          ],
          [
           0,
           0,
           2,
           0,
           2,
           0,
           3
          ],
          [
           0,
           0,
           0,
           0,
           2,
           2,
           1
          ],
          [
           0,
           2,
           0,
           0,
           1,
           0,
           0
          ],
          [
           8,
           4,
           8,
           0,
           5,
           1,
           2
          ],
          [
           10,
           0,
           68,
           2,
           35,
           5,
           6
          ],
          [
           2,
           1,
           33,
           0,
           44,
           0,
           10
          ],
          [
           0,
           8,
           16,
           0,
           3,
           214,
           1
          ],
          [
           0,
           2,
           16,
           0,
           1,
           14,
           36
          ],
          [
           5,
           8,
           20,
           0,
           15,
           5,
           2
          ],
          [
           2,
           19,
           49,
           0,
           25,
           3,
           0
          ],
          [
           1,
           3,
           16,
           0,
           35,
           1,
           0
          ],
          [
           13,
           4,
           3,
           0,
           7,
           0,
           1
          ],
          [
           2,
           5,
           1,
           0,
           8,
           16,
           32
          ],
          [
           3,
           66,
           1,
           0,
           66,
           79,
           36
          ],
          [
           40,
           102,
           3,
           1,
           57,
           61,
           85
          ],
          [
           15,
           176,
           3,
           7,
           73,
           82,
           180
          ],
          [
           21,
           12,
           3,
           0,
           15,
           29,
           16
          ],
          [
           2,
           4,
           7,
           0,
           2,
           3,
           0
          ]
         ]
        }
       ],
       "layout": {
        "template": {
         "data": {
          "bar": [
           {
            "error_x": {
             "color": "#2a3f5f"
            },
            "error_y": {
             "color": "#2a3f5f"
            },
            "marker": {
             "line": {
              "color": "white",
              "width": 0.5
             }
            },
            "type": "bar"
           }
          ],
          "barpolar": [
           {
            "marker": {
             "line": {
              "color": "white",
              "width": 0.5
             }
            },
            "type": "barpolar"
           }
          ],
          "carpet": [
           {
            "aaxis": {
             "endlinecolor": "#2a3f5f",
             "gridcolor": "#C8D4E3",
             "linecolor": "#C8D4E3",
             "minorgridcolor": "#C8D4E3",
             "startlinecolor": "#2a3f5f"
            },
            "baxis": {
             "endlinecolor": "#2a3f5f",
             "gridcolor": "#C8D4E3",
             "linecolor": "#C8D4E3",
             "minorgridcolor": "#C8D4E3",
             "startlinecolor": "#2a3f5f"
            },
            "type": "carpet"
           }
          ],
          "choropleth": [
           {
            "colorbar": {
             "outlinewidth": 0,
             "ticks": ""
            },
            "type": "choropleth"
           }
          ],
          "contour": [
           {
            "colorbar": {
             "outlinewidth": 0,
             "ticks": ""
            },
            "colorscale": [
             [
              0,
              "#0d0887"
             ],
             [
              0.1111111111111111,
              "#46039f"
             ],
             [
              0.2222222222222222,
              "#7201a8"
             ],
             [
              0.3333333333333333,
              "#9c179e"
             ],
             [
              0.4444444444444444,
              "#bd3786"
             ],
             [
              0.5555555555555556,
              "#d8576b"
             ],
             [
              0.6666666666666666,
              "#ed7953"
             ],
             [
              0.7777777777777778,
              "#fb9f3a"
             ],
             [
              0.8888888888888888,
              "#fdca26"
             ],
             [
              1,
              "#f0f921"
             ]
            ],
            "type": "contour"
           }
          ],
          "contourcarpet": [
           {
            "colorbar": {
             "outlinewidth": 0,
             "ticks": ""
            },
            "type": "contourcarpet"
           }
          ],
          "heatmap": [
           {
            "colorbar": {
             "outlinewidth": 0,
             "ticks": ""
            },
            "colorscale": [
             [
              0,
              "#0d0887"
             ],
             [
              0.1111111111111111,
              "#46039f"
             ],
             [
              0.2222222222222222,
              "#7201a8"
             ],
             [
              0.3333333333333333,
              "#9c179e"
             ],
             [
              0.4444444444444444,
              "#bd3786"
             ],
             [
              0.5555555555555556,
              "#d8576b"
             ],
             [
              0.6666666666666666,
              "#ed7953"
             ],
             [
              0.7777777777777778,
              "#fb9f3a"
             ],
             [
              0.8888888888888888,
              "#fdca26"
             ],
             [
              1,
              "#f0f921"
             ]
            ],
            "type": "heatmap"
           }
          ],
          "heatmapgl": [
           {
            "colorbar": {
             "outlinewidth": 0,
             "ticks": ""
            },
            "colorscale": [
             [
              0,
              "#0d0887"
             ],
             [
              0.1111111111111111,
              "#46039f"
             ],
             [
              0.2222222222222222,
              "#7201a8"
             ],
             [
              0.3333333333333333,
              "#9c179e"
             ],
             [
              0.4444444444444444,
              "#bd3786"
             ],
             [
              0.5555555555555556,
              "#d8576b"
             ],
             [
              0.6666666666666666,
              "#ed7953"
             ],
             [
              0.7777777777777778,
              "#fb9f3a"
             ],
             [
              0.8888888888888888,
              "#fdca26"
             ],
             [
              1,
              "#f0f921"
             ]
            ],
            "type": "heatmapgl"
           }
          ],
          "histogram": [
           {
            "marker": {
             "colorbar": {
              "outlinewidth": 0,
              "ticks": ""
             }
            },
            "type": "histogram"
           }
          ],
          "histogram2d": [
           {
            "colorbar": {
             "outlinewidth": 0,
             "ticks": ""
            },
            "colorscale": [
             [
              0,
              "#0d0887"
             ],
             [
              0.1111111111111111,
              "#46039f"
             ],
             [
              0.2222222222222222,
              "#7201a8"
             ],
             [
              0.3333333333333333,
              "#9c179e"
             ],
             [
              0.4444444444444444,
              "#bd3786"
             ],
             [
              0.5555555555555556,
              "#d8576b"
             ],
             [
              0.6666666666666666,
              "#ed7953"
             ],
             [
              0.7777777777777778,
              "#fb9f3a"
             ],
             [
              0.8888888888888888,
              "#fdca26"
             ],
             [
              1,
              "#f0f921"
             ]
            ],
            "type": "histogram2d"
           }
          ],
          "histogram2dcontour": [
           {
            "colorbar": {
             "outlinewidth": 0,
             "ticks": ""
            },
            "colorscale": [
             [
              0,
              "#0d0887"
             ],
             [
              0.1111111111111111,
              "#46039f"
             ],
             [
              0.2222222222222222,
              "#7201a8"
             ],
             [
              0.3333333333333333,
              "#9c179e"
             ],
             [
              0.4444444444444444,
              "#bd3786"
             ],
             [
              0.5555555555555556,
              "#d8576b"
             ],
             [
              0.6666666666666666,
              "#ed7953"
             ],
             [
              0.7777777777777778,
              "#fb9f3a"
             ],
             [
              0.8888888888888888,
              "#fdca26"
             ],
             [
              1,
              "#f0f921"
             ]
            ],
            "type": "histogram2dcontour"
           }
          ],
          "mesh3d": [
           {
            "colorbar": {
             "outlinewidth": 0,
             "ticks": ""
            },
            "type": "mesh3d"
           }
          ],
          "parcoords": [
           {
            "line": {
             "colorbar": {
              "outlinewidth": 0,
              "ticks": ""
             }
            },
            "type": "parcoords"
           }
          ],
          "pie": [
           {
            "automargin": true,
            "type": "pie"
           }
          ],
          "scatter": [
           {
            "marker": {
             "colorbar": {
              "outlinewidth": 0,
              "ticks": ""
             }
            },
            "type": "scatter"
           }
          ],
          "scatter3d": [
           {
            "line": {
             "colorbar": {
              "outlinewidth": 0,
              "ticks": ""
             }
            },
            "marker": {
             "colorbar": {
              "outlinewidth": 0,
              "ticks": ""
             }
            },
            "type": "scatter3d"
           }
          ],
          "scattercarpet": [
           {
            "marker": {
             "colorbar": {
              "outlinewidth": 0,
              "ticks": ""
             }
            },
            "type": "scattercarpet"
           }
          ],
          "scattergeo": [
           {
            "marker": {
             "colorbar": {
              "outlinewidth": 0,
              "ticks": ""
             }
            },
            "type": "scattergeo"
           }
          ],
          "scattergl": [
           {
            "marker": {
             "colorbar": {
              "outlinewidth": 0,
              "ticks": ""
             }
            },
            "type": "scattergl"
           }
          ],
          "scattermapbox": [
           {
            "marker": {
             "colorbar": {
              "outlinewidth": 0,
              "ticks": ""
             }
            },
            "type": "scattermapbox"
           }
          ],
          "scatterpolar": [
           {
            "marker": {
             "colorbar": {
              "outlinewidth": 0,
              "ticks": ""
             }
            },
            "type": "scatterpolar"
           }
          ],
          "scatterpolargl": [
           {
            "marker": {
             "colorbar": {
              "outlinewidth": 0,
              "ticks": ""
             }
            },
            "type": "scatterpolargl"
           }
          ],
          "scatterternary": [
           {
            "marker": {
             "colorbar": {
              "outlinewidth": 0,
              "ticks": ""
             }
            },
            "type": "scatterternary"
           }
          ],
          "surface": [
           {
            "colorbar": {
             "outlinewidth": 0,
             "ticks": ""
            },
            "colorscale": [
             [
              0,
              "#0d0887"
             ],
             [
              0.1111111111111111,
              "#46039f"
             ],
             [
              0.2222222222222222,
              "#7201a8"
             ],
             [
              0.3333333333333333,
              "#9c179e"
             ],
             [
              0.4444444444444444,
              "#bd3786"
             ],
             [
              0.5555555555555556,
              "#d8576b"
             ],
             [
              0.6666666666666666,
              "#ed7953"
             ],
             [
              0.7777777777777778,
              "#fb9f3a"
             ],
             [
              0.8888888888888888,
              "#fdca26"
             ],
             [
              1,
              "#f0f921"
             ]
            ],
            "type": "surface"
           }
          ],
          "table": [
           {
            "cells": {
             "fill": {
              "color": "#EBF0F8"
             },
             "line": {
              "color": "white"
             }
            },
            "header": {
             "fill": {
              "color": "#C8D4E3"
             },
             "line": {
              "color": "white"
             }
            },
            "type": "table"
           }
          ]
         },
         "layout": {
          "annotationdefaults": {
           "arrowcolor": "#2a3f5f",
           "arrowhead": 0,
           "arrowwidth": 1
          },
          "autotypenumbers": "strict",
          "coloraxis": {
           "colorbar": {
            "outlinewidth": 0,
            "ticks": ""
           }
          },
          "colorscale": {
           "diverging": [
            [
             0,
             "#8e0152"
            ],
            [
             0.1,
             "#c51b7d"
            ],
            [
             0.2,
             "#de77ae"
            ],
            [
             0.3,
             "#f1b6da"
            ],
            [
             0.4,
             "#fde0ef"
            ],
            [
             0.5,
             "#f7f7f7"
            ],
            [
             0.6,
             "#e6f5d0"
            ],
            [
             0.7,
             "#b8e186"
            ],
            [
             0.8,
             "#7fbc41"
            ],
            [
             0.9,
             "#4d9221"
            ],
            [
             1,
             "#276419"
            ]
           ],
           "sequential": [
            [
             0,
             "#0d0887"
            ],
            [
             0.1111111111111111,
             "#46039f"
            ],
            [
             0.2222222222222222,
             "#7201a8"
            ],
            [
             0.3333333333333333,
             "#9c179e"
            ],
            [
             0.4444444444444444,
             "#bd3786"
            ],
            [
             0.5555555555555556,
             "#d8576b"
            ],
            [
             0.6666666666666666,
             "#ed7953"
            ],
            [
             0.7777777777777778,
             "#fb9f3a"
            ],
            [
             0.8888888888888888,
             "#fdca26"
            ],
            [
             1,
             "#f0f921"
            ]
           ],
           "sequentialminus": [
            [
             0,
             "#0d0887"
            ],
            [
             0.1111111111111111,
             "#46039f"
            ],
            [
             0.2222222222222222,
             "#7201a8"
            ],
            [
             0.3333333333333333,
             "#9c179e"
            ],
            [
             0.4444444444444444,
             "#bd3786"
            ],
            [
             0.5555555555555556,
             "#d8576b"
            ],
            [
             0.6666666666666666,
             "#ed7953"
            ],
            [
             0.7777777777777778,
             "#fb9f3a"
            ],
            [
             0.8888888888888888,
             "#fdca26"
            ],
            [
             1,
             "#f0f921"
            ]
           ]
          },
          "colorway": [
           "#636efa",
           "#EF553B",
           "#00cc96",
           "#ab63fa",
           "#FFA15A",
           "#19d3f3",
           "#FF6692",
           "#B6E880",
           "#FF97FF",
           "#FECB52"
          ],
          "font": {
           "color": "#2a3f5f"
          },
          "geo": {
           "bgcolor": "white",
           "lakecolor": "white",
           "landcolor": "white",
           "showlakes": true,
           "showland": true,
           "subunitcolor": "#C8D4E3"
          },
          "hoverlabel": {
           "align": "left"
          },
          "hovermode": "closest",
          "mapbox": {
           "style": "light"
          },
          "paper_bgcolor": "white",
          "plot_bgcolor": "white",
          "polar": {
           "angularaxis": {
            "gridcolor": "#EBF0F8",
            "linecolor": "#EBF0F8",
            "ticks": ""
           },
           "bgcolor": "white",
           "radialaxis": {
            "gridcolor": "#EBF0F8",
            "linecolor": "#EBF0F8",
            "ticks": ""
           }
          },
          "scene": {
           "xaxis": {
            "backgroundcolor": "white",
            "gridcolor": "#DFE8F3",
            "gridwidth": 2,
            "linecolor": "#EBF0F8",
            "showbackground": true,
            "ticks": "",
            "zerolinecolor": "#EBF0F8"
           },
           "yaxis": {
            "backgroundcolor": "white",
            "gridcolor": "#DFE8F3",
            "gridwidth": 2,
            "linecolor": "#EBF0F8",
            "showbackground": true,
            "ticks": "",
            "zerolinecolor": "#EBF0F8"
           },
           "zaxis": {
            "backgroundcolor": "white",
            "gridcolor": "#DFE8F3",
            "gridwidth": 2,
            "linecolor": "#EBF0F8",
            "showbackground": true,
            "ticks": "",
            "zerolinecolor": "#EBF0F8"
           }
          },
          "shapedefaults": {
           "line": {
            "color": "#2a3f5f"
           }
          },
          "ternary": {
           "aaxis": {
            "gridcolor": "#DFE8F3",
            "linecolor": "#A2B1C6",
            "ticks": ""
           },
           "baxis": {
            "gridcolor": "#DFE8F3",
            "linecolor": "#A2B1C6",
            "ticks": ""
           },
           "bgcolor": "white",
           "caxis": {
            "gridcolor": "#DFE8F3",
            "linecolor": "#A2B1C6",
            "ticks": ""
           }
          },
          "title": {
           "x": 0.05
          },
          "xaxis": {
           "automargin": true,
           "gridcolor": "#EBF0F8",
           "linecolor": "#EBF0F8",
           "ticks": "",
           "title": {
            "standoff": 15
           },
           "zerolinecolor": "#EBF0F8",
           "zerolinewidth": 2
          },
          "yaxis": {
           "automargin": true,
           "gridcolor": "#EBF0F8",
           "linecolor": "#EBF0F8",
           "ticks": "",
           "title": {
            "standoff": 15
           },
           "zerolinecolor": "#EBF0F8",
           "zerolinewidth": 2
          }
         }
        },
        "xaxis": {
         "categoryarray": [
          "Monday",
          "Tuesday",
          "Wednesday",
          "Thursday",
          "Friday",
          "Saturday",
          "Sunday"
         ],
         "categoryorder": "array"
        }
       }
      }
     },
     "metadata": {},
     "output_type": "display_data"
    }
   ],
   "source": [
    "pivot = pd.pivot_table(chat, index='hour', columns='day_name', values='message', aggfunc='count').fillna(0)\n",
    "heatmap = go.Heatmap(z=pivot.values,\n",
    "                     x=pivot.columns,\n",
    "                     y=pivot.index,\n",
    "                     hovertemplate='Interventions at %{y}-hour<extra>%{z}</extra>',\n",
    "                     colorscale='Greens')\n",
    "fig = go.Figure(data=[heatmap]).update_layout(xaxis={'categoryorder': 'array',\n",
    "                                                     'categoryarray': ['Monday', 'Tuesday', 'Wednesday',\n",
    "                                                                       'Thursday', 'Friday', 'Saturday', 'Sunday']})\n",
    "py.plot(fig, filename='Interventions heatmap by day & hour', auto_open=False)\n",
    "fig"
   ]
  },
  {
   "attachments": {},
   "cell_type": "markdown",
   "metadata": {},
   "source": [
    "Hourly user activity"
   ]
  },
  {
   "cell_type": "code",
   "execution_count": 17,
   "metadata": {},
   "outputs": [
    {
     "data": {
      "application/vnd.plotly.v1+json": {
       "config": {
        "plotlyServerURL": "https://plotly.com"
       },
       "data": [
        {
         "line": {
          "color": "#DB5F57"
         },
         "name": "adhit",
         "showlegend": true,
         "text": [
          0,
          2,
          4,
          5,
          6,
          7,
          8,
          9,
          10,
          11,
          12,
          13,
          14,
          15,
          16,
          17,
          18,
          19,
          20,
          21,
          22,
          23
         ],
         "type": "scatter",
         "x": [
          0,
          2,
          4,
          5,
          6,
          7,
          8,
          9,
          10,
          11,
          12,
          13,
          14,
          15,
          16,
          17,
          18,
          19,
          20,
          21,
          22,
          23
         ],
         "y": [
          0,
          0,
          0,
          1,
          2,
          0,
          0,
          1,
          5,
          1,
          5,
          3,
          1,
          9,
          0,
          2,
          7,
          6,
          14,
          17,
          4,
          2
         ]
        },
        {
         "line": {
          "color": "#DB9C57"
         },
         "name": "alex",
         "showlegend": true,
         "text": [
          0,
          2,
          4,
          5,
          6,
          7,
          8,
          9,
          10,
          11,
          12,
          13,
          14,
          15,
          16,
          17,
          18,
          19,
          20,
          21,
          22,
          23
         ],
         "type": "scatter",
         "x": [
          0,
          2,
          4,
          5,
          6,
          7,
          8,
          9,
          10,
          11,
          12,
          13,
          14,
          15,
          16,
          17,
          18,
          19,
          20,
          21,
          22,
          23
         ],
         "y": [
          0,
          0,
          0,
          0,
          0,
          0,
          0,
          1,
          4,
          0,
          0,
          4,
          0,
          0,
          1,
          0,
          1,
          4,
          7,
          9,
          3,
          1
         ]
        },
        {
         "line": {
          "color": "#DBD957"
         },
         "name": "alit_gor",
         "showlegend": true,
         "text": [
          0,
          2,
          4,
          5,
          6,
          7,
          8,
          9,
          10,
          11,
          12,
          13,
          14,
          15,
          16,
          17,
          18,
          19,
          20,
          21,
          22,
          23
         ],
         "type": "scatter",
         "x": [
          0,
          2,
          4,
          5,
          6,
          7,
          8,
          9,
          10,
          11,
          12,
          13,
          14,
          15,
          16,
          17,
          18,
          19,
          20,
          21,
          22,
          23
         ],
         "y": [
          0,
          0,
          0,
          0,
          0,
          0,
          0,
          0,
          0,
          0,
          4,
          2,
          2,
          0,
          2,
          0,
          1,
          4,
          12,
          6,
          0,
          0
         ]
        },
        {
         "line": {
          "color": "#A0DB57"
         },
         "name": "alit_jak",
         "showlegend": true,
         "text": [
          0,
          2,
          4,
          5,
          6,
          7,
          8,
          9,
          10,
          11,
          12,
          13,
          14,
          15,
          16,
          17,
          18,
          19,
          20,
          21,
          22,
          23
         ],
         "type": "scatter",
         "x": [
          0,
          2,
          4,
          5,
          6,
          7,
          8,
          9,
          10,
          11,
          12,
          13,
          14,
          15,
          16,
          17,
          18,
          19,
          20,
          21,
          22,
          23
         ],
         "y": [
          0,
          0,
          0,
          0,
          0,
          0,
          0,
          1,
          2,
          7,
          23,
          1,
          2,
          1,
          0,
          3,
          2,
          18,
          43,
          15,
          7,
          1
         ]
        },
        {
         "line": {
          "color": "#63DB57"
         },
         "name": "aris",
         "showlegend": true,
         "text": [
          0,
          2,
          4,
          5,
          6,
          7,
          8,
          9,
          10,
          11,
          12,
          13,
          14,
          15,
          16,
          17,
          18,
          19,
          20,
          21,
          22,
          23
         ],
         "type": "scatter",
         "x": [
          0,
          2,
          4,
          5,
          6,
          7,
          8,
          9,
          10,
          11,
          12,
          13,
          14,
          15,
          16,
          17,
          18,
          19,
          20,
          21,
          22,
          23
         ],
         "y": [
          0,
          0,
          0,
          0,
          0,
          0,
          0,
          6,
          6,
          5,
          48,
          2,
          5,
          10,
          0,
          1,
          8,
          20,
          37,
          67,
          10,
          3
         ]
        },
        {
         "line": {
          "color": "#57DB87"
         },
         "name": "ely",
         "showlegend": true,
         "text": [
          0,
          2,
          4,
          5,
          6,
          7,
          8,
          9,
          10,
          11,
          12,
          13,
          14,
          15,
          16,
          17,
          18,
          19,
          20,
          21,
          22,
          23
         ],
         "type": "scatter",
         "x": [
          0,
          2,
          4,
          5,
          6,
          7,
          8,
          9,
          10,
          11,
          12,
          13,
          14,
          15,
          16,
          17,
          18,
          19,
          20,
          21,
          22,
          23
         ],
         "y": [
          0,
          0,
          0,
          0,
          0,
          0,
          1,
          5,
          9,
          7,
          17,
          3,
          6,
          4,
          1,
          1,
          5,
          17,
          36,
          43,
          10,
          0
         ]
        },
        {
         "line": {
          "color": "#57DBC5"
         },
         "name": "erland",
         "showlegend": true,
         "text": [
          0,
          2,
          4,
          5,
          6,
          7,
          8,
          9,
          10,
          11,
          12,
          13,
          14,
          15,
          16,
          17,
          18,
          19,
          20,
          21,
          22,
          23
         ],
         "type": "scatter",
         "x": [
          0,
          2,
          4,
          5,
          6,
          7,
          8,
          9,
          10,
          11,
          12,
          13,
          14,
          15,
          16,
          17,
          18,
          19,
          20,
          21,
          22,
          23
         ],
         "y": [
          0,
          1,
          0,
          1,
          2,
          0,
          0,
          1,
          14,
          19,
          1,
          11,
          6,
          11,
          9,
          4,
          6,
          30,
          19,
          79,
          15,
          0
         ]
        },
        {
         "line": {
          "color": "#57B5DB"
         },
         "name": "fawaz",
         "showlegend": true,
         "text": [
          0,
          2,
          4,
          5,
          6,
          7,
          8,
          9,
          10,
          11,
          12,
          13,
          14,
          15,
          16,
          17,
          18,
          19,
          20,
          21,
          22,
          23
         ],
         "type": "scatter",
         "x": [
          0,
          2,
          4,
          5,
          6,
          7,
          8,
          9,
          10,
          11,
          12,
          13,
          14,
          15,
          16,
          17,
          18,
          19,
          20,
          21,
          22,
          23
         ],
         "y": [
          0,
          0,
          0,
          0,
          0,
          0,
          0,
          0,
          3,
          1,
          0,
          0,
          0,
          2,
          1,
          0,
          0,
          1,
          2,
          8,
          1,
          0
         ]
        },
        {
         "line": {
          "color": "#5778DB"
         },
         "name": "ichsan",
         "showlegend": true,
         "text": [
          0,
          2,
          4,
          5,
          6,
          7,
          8,
          9,
          10,
          11,
          12,
          13,
          14,
          15,
          16,
          17,
          18,
          19,
          20,
          21,
          22,
          23
         ],
         "type": "scatter",
         "x": [
          0,
          2,
          4,
          5,
          6,
          7,
          8,
          9,
          10,
          11,
          12,
          13,
          14,
          15,
          16,
          17,
          18,
          19,
          20,
          21,
          22,
          23
         ],
         "y": [
          0,
          0,
          0,
          0,
          0,
          1,
          0,
          3,
          3,
          3,
          0,
          4,
          1,
          2,
          3,
          0,
          2,
          11,
          11,
          8,
          2,
          0
         ]
        },
        {
         "line": {
          "color": "#7357DB"
         },
         "name": "kajal",
         "showlegend": true,
         "text": [
          0,
          2,
          4,
          5,
          6,
          7,
          8,
          9,
          10,
          11,
          12,
          13,
          14,
          15,
          16,
          17,
          18,
          19,
          20,
          21,
          22,
          23
         ],
         "type": "scatter",
         "x": [
          0,
          2,
          4,
          5,
          6,
          7,
          8,
          9,
          10,
          11,
          12,
          13,
          14,
          15,
          16,
          17,
          18,
          19,
          20,
          21,
          22,
          23
         ],
         "y": [
          2,
          0,
          0,
          0,
          2,
          3,
          0,
          7,
          48,
          21,
          73,
          23,
          15,
          37,
          23,
          11,
          24,
          67,
          91,
          156,
          17,
          6
         ]
        },
        {
         "line": {
          "color": "#B057DB"
         },
         "name": "mirza",
         "showlegend": true,
         "text": [
          0,
          2,
          4,
          5,
          6,
          7,
          8,
          9,
          10,
          11,
          12,
          13,
          14,
          15,
          16,
          17,
          18,
          19,
          20,
          21,
          22,
          23
         ],
         "type": "scatter",
         "x": [
          0,
          2,
          4,
          5,
          6,
          7,
          8,
          9,
          10,
          11,
          12,
          13,
          14,
          15,
          16,
          17,
          18,
          19,
          20,
          21,
          22,
          23
         ],
         "y": [
          0,
          0,
          0,
          0,
          0,
          0,
          0,
          0,
          0,
          0,
          0,
          0,
          1,
          0,
          1,
          1,
          0,
          6,
          8,
          10,
          1,
          0
         ]
        },
        {
         "line": {
          "color": "#DB57C9"
         },
         "name": "rika",
         "showlegend": true,
         "text": [
          0,
          2,
          4,
          5,
          6,
          7,
          8,
          9,
          10,
          11,
          12,
          13,
          14,
          15,
          16,
          17,
          18,
          19,
          20,
          21,
          22,
          23
         ],
         "type": "scatter",
         "x": [
          0,
          2,
          4,
          5,
          6,
          7,
          8,
          9,
          10,
          11,
          12,
          13,
          14,
          15,
          16,
          17,
          18,
          19,
          20,
          21,
          22,
          23
         ],
         "y": [
          0,
          0,
          2,
          0,
          1,
          0,
          0,
          0,
          5,
          3,
          0,
          5,
          0,
          1,
          5,
          3,
          2,
          6,
          2,
          12,
          0,
          0
         ]
        },
        {
         "line": {
          "color": "#DB578C"
         },
         "name": "valeri",
         "showlegend": true,
         "text": [
          0,
          2,
          4,
          5,
          6,
          7,
          8,
          9,
          10,
          11,
          12,
          13,
          14,
          15,
          16,
          17,
          18,
          19,
          20,
          21,
          22,
          23
         ],
         "type": "scatter",
         "x": [
          0,
          2,
          4,
          5,
          6,
          7,
          8,
          9,
          10,
          11,
          12,
          13,
          14,
          15,
          16,
          17,
          18,
          19,
          20,
          21,
          22,
          23
         ],
         "y": [
          1,
          0,
          0,
          0,
          0,
          1,
          2,
          3,
          27,
          23,
          71,
          11,
          16,
          21,
          10,
          2,
          6,
          61,
          67,
          106,
          26,
          5
         ]
        }
       ],
       "layout": {
        "template": {
         "data": {
          "bar": [
           {
            "error_x": {
             "color": "#2a3f5f"
            },
            "error_y": {
             "color": "#2a3f5f"
            },
            "marker": {
             "line": {
              "color": "white",
              "width": 0.5
             }
            },
            "type": "bar"
           }
          ],
          "barpolar": [
           {
            "marker": {
             "line": {
              "color": "white",
              "width": 0.5
             }
            },
            "type": "barpolar"
           }
          ],
          "carpet": [
           {
            "aaxis": {
             "endlinecolor": "#2a3f5f",
             "gridcolor": "#C8D4E3",
             "linecolor": "#C8D4E3",
             "minorgridcolor": "#C8D4E3",
             "startlinecolor": "#2a3f5f"
            },
            "baxis": {
             "endlinecolor": "#2a3f5f",
             "gridcolor": "#C8D4E3",
             "linecolor": "#C8D4E3",
             "minorgridcolor": "#C8D4E3",
             "startlinecolor": "#2a3f5f"
            },
            "type": "carpet"
           }
          ],
          "choropleth": [
           {
            "colorbar": {
             "outlinewidth": 0,
             "ticks": ""
            },
            "type": "choropleth"
           }
          ],
          "contour": [
           {
            "colorbar": {
             "outlinewidth": 0,
             "ticks": ""
            },
            "colorscale": [
             [
              0,
              "#0d0887"
             ],
             [
              0.1111111111111111,
              "#46039f"
             ],
             [
              0.2222222222222222,
              "#7201a8"
             ],
             [
              0.3333333333333333,
              "#9c179e"
             ],
             [
              0.4444444444444444,
              "#bd3786"
             ],
             [
              0.5555555555555556,
              "#d8576b"
             ],
             [
              0.6666666666666666,
              "#ed7953"
             ],
             [
              0.7777777777777778,
              "#fb9f3a"
             ],
             [
              0.8888888888888888,
              "#fdca26"
             ],
             [
              1,
              "#f0f921"
             ]
            ],
            "type": "contour"
           }
          ],
          "contourcarpet": [
           {
            "colorbar": {
             "outlinewidth": 0,
             "ticks": ""
            },
            "type": "contourcarpet"
           }
          ],
          "heatmap": [
           {
            "colorbar": {
             "outlinewidth": 0,
             "ticks": ""
            },
            "colorscale": [
             [
              0,
              "#0d0887"
             ],
             [
              0.1111111111111111,
              "#46039f"
             ],
             [
              0.2222222222222222,
              "#7201a8"
             ],
             [
              0.3333333333333333,
              "#9c179e"
             ],
             [
              0.4444444444444444,
              "#bd3786"
             ],
             [
              0.5555555555555556,
              "#d8576b"
             ],
             [
              0.6666666666666666,
              "#ed7953"
             ],
             [
              0.7777777777777778,
              "#fb9f3a"
             ],
             [
              0.8888888888888888,
              "#fdca26"
             ],
             [
              1,
              "#f0f921"
             ]
            ],
            "type": "heatmap"
           }
          ],
          "heatmapgl": [
           {
            "colorbar": {
             "outlinewidth": 0,
             "ticks": ""
            },
            "colorscale": [
             [
              0,
              "#0d0887"
             ],
             [
              0.1111111111111111,
              "#46039f"
             ],
             [
              0.2222222222222222,
              "#7201a8"
             ],
             [
              0.3333333333333333,
              "#9c179e"
             ],
             [
              0.4444444444444444,
              "#bd3786"
             ],
             [
              0.5555555555555556,
              "#d8576b"
             ],
             [
              0.6666666666666666,
              "#ed7953"
             ],
             [
              0.7777777777777778,
              "#fb9f3a"
             ],
             [
              0.8888888888888888,
              "#fdca26"
             ],
             [
              1,
              "#f0f921"
             ]
            ],
            "type": "heatmapgl"
           }
          ],
          "histogram": [
           {
            "marker": {
             "colorbar": {
              "outlinewidth": 0,
              "ticks": ""
             }
            },
            "type": "histogram"
           }
          ],
          "histogram2d": [
           {
            "colorbar": {
             "outlinewidth": 0,
             "ticks": ""
            },
            "colorscale": [
             [
              0,
              "#0d0887"
             ],
             [
              0.1111111111111111,
              "#46039f"
             ],
             [
              0.2222222222222222,
              "#7201a8"
             ],
             [
              0.3333333333333333,
              "#9c179e"
             ],
             [
              0.4444444444444444,
              "#bd3786"
             ],
             [
              0.5555555555555556,
              "#d8576b"
             ],
             [
              0.6666666666666666,
              "#ed7953"
             ],
             [
              0.7777777777777778,
              "#fb9f3a"
             ],
             [
              0.8888888888888888,
              "#fdca26"
             ],
             [
              1,
              "#f0f921"
             ]
            ],
            "type": "histogram2d"
           }
          ],
          "histogram2dcontour": [
           {
            "colorbar": {
             "outlinewidth": 0,
             "ticks": ""
            },
            "colorscale": [
             [
              0,
              "#0d0887"
             ],
             [
              0.1111111111111111,
              "#46039f"
             ],
             [
              0.2222222222222222,
              "#7201a8"
             ],
             [
              0.3333333333333333,
              "#9c179e"
             ],
             [
              0.4444444444444444,
              "#bd3786"
             ],
             [
              0.5555555555555556,
              "#d8576b"
             ],
             [
              0.6666666666666666,
              "#ed7953"
             ],
             [
              0.7777777777777778,
              "#fb9f3a"
             ],
             [
              0.8888888888888888,
              "#fdca26"
             ],
             [
              1,
              "#f0f921"
             ]
            ],
            "type": "histogram2dcontour"
           }
          ],
          "mesh3d": [
           {
            "colorbar": {
             "outlinewidth": 0,
             "ticks": ""
            },
            "type": "mesh3d"
           }
          ],
          "parcoords": [
           {
            "line": {
             "colorbar": {
              "outlinewidth": 0,
              "ticks": ""
             }
            },
            "type": "parcoords"
           }
          ],
          "pie": [
           {
            "automargin": true,
            "type": "pie"
           }
          ],
          "scatter": [
           {
            "marker": {
             "colorbar": {
              "outlinewidth": 0,
              "ticks": ""
             }
            },
            "type": "scatter"
           }
          ],
          "scatter3d": [
           {
            "line": {
             "colorbar": {
              "outlinewidth": 0,
              "ticks": ""
             }
            },
            "marker": {
             "colorbar": {
              "outlinewidth": 0,
              "ticks": ""
             }
            },
            "type": "scatter3d"
           }
          ],
          "scattercarpet": [
           {
            "marker": {
             "colorbar": {
              "outlinewidth": 0,
              "ticks": ""
             }
            },
            "type": "scattercarpet"
           }
          ],
          "scattergeo": [
           {
            "marker": {
             "colorbar": {
              "outlinewidth": 0,
              "ticks": ""
             }
            },
            "type": "scattergeo"
           }
          ],
          "scattergl": [
           {
            "marker": {
             "colorbar": {
              "outlinewidth": 0,
              "ticks": ""
             }
            },
            "type": "scattergl"
           }
          ],
          "scattermapbox": [
           {
            "marker": {
             "colorbar": {
              "outlinewidth": 0,
              "ticks": ""
             }
            },
            "type": "scattermapbox"
           }
          ],
          "scatterpolar": [
           {
            "marker": {
             "colorbar": {
              "outlinewidth": 0,
              "ticks": ""
             }
            },
            "type": "scatterpolar"
           }
          ],
          "scatterpolargl": [
           {
            "marker": {
             "colorbar": {
              "outlinewidth": 0,
              "ticks": ""
             }
            },
            "type": "scatterpolargl"
           }
          ],
          "scatterternary": [
           {
            "marker": {
             "colorbar": {
              "outlinewidth": 0,
              "ticks": ""
             }
            },
            "type": "scatterternary"
           }
          ],
          "surface": [
           {
            "colorbar": {
             "outlinewidth": 0,
             "ticks": ""
            },
            "colorscale": [
             [
              0,
              "#0d0887"
             ],
             [
              0.1111111111111111,
              "#46039f"
             ],
             [
              0.2222222222222222,
              "#7201a8"
             ],
             [
              0.3333333333333333,
              "#9c179e"
             ],
             [
              0.4444444444444444,
              "#bd3786"
             ],
             [
              0.5555555555555556,
              "#d8576b"
             ],
             [
              0.6666666666666666,
              "#ed7953"
             ],
             [
              0.7777777777777778,
              "#fb9f3a"
             ],
             [
              0.8888888888888888,
              "#fdca26"
             ],
             [
              1,
              "#f0f921"
             ]
            ],
            "type": "surface"
           }
          ],
          "table": [
           {
            "cells": {
             "fill": {
              "color": "#EBF0F8"
             },
             "line": {
              "color": "white"
             }
            },
            "header": {
             "fill": {
              "color": "#C8D4E3"
             },
             "line": {
              "color": "white"
             }
            },
            "type": "table"
           }
          ]
         },
         "layout": {
          "annotationdefaults": {
           "arrowcolor": "#2a3f5f",
           "arrowhead": 0,
           "arrowwidth": 1
          },
          "autotypenumbers": "strict",
          "coloraxis": {
           "colorbar": {
            "outlinewidth": 0,
            "ticks": ""
           }
          },
          "colorscale": {
           "diverging": [
            [
             0,
             "#8e0152"
            ],
            [
             0.1,
             "#c51b7d"
            ],
            [
             0.2,
             "#de77ae"
            ],
            [
             0.3,
             "#f1b6da"
            ],
            [
             0.4,
             "#fde0ef"
            ],
            [
             0.5,
             "#f7f7f7"
            ],
            [
             0.6,
             "#e6f5d0"
            ],
            [
             0.7,
             "#b8e186"
            ],
            [
             0.8,
             "#7fbc41"
            ],
            [
             0.9,
             "#4d9221"
            ],
            [
             1,
             "#276419"
            ]
           ],
           "sequential": [
            [
             0,
             "#0d0887"
            ],
            [
             0.1111111111111111,
             "#46039f"
            ],
            [
             0.2222222222222222,
             "#7201a8"
            ],
            [
             0.3333333333333333,
             "#9c179e"
            ],
            [
             0.4444444444444444,
             "#bd3786"
            ],
            [
             0.5555555555555556,
             "#d8576b"
            ],
            [
             0.6666666666666666,
             "#ed7953"
            ],
            [
             0.7777777777777778,
             "#fb9f3a"
            ],
            [
             0.8888888888888888,
             "#fdca26"
            ],
            [
             1,
             "#f0f921"
            ]
           ],
           "sequentialminus": [
            [
             0,
             "#0d0887"
            ],
            [
             0.1111111111111111,
             "#46039f"
            ],
            [
             0.2222222222222222,
             "#7201a8"
            ],
            [
             0.3333333333333333,
             "#9c179e"
            ],
            [
             0.4444444444444444,
             "#bd3786"
            ],
            [
             0.5555555555555556,
             "#d8576b"
            ],
            [
             0.6666666666666666,
             "#ed7953"
            ],
            [
             0.7777777777777778,
             "#fb9f3a"
            ],
            [
             0.8888888888888888,
             "#fdca26"
            ],
            [
             1,
             "#f0f921"
            ]
           ]
          },
          "colorway": [
           "#636efa",
           "#EF553B",
           "#00cc96",
           "#ab63fa",
           "#FFA15A",
           "#19d3f3",
           "#FF6692",
           "#B6E880",
           "#FF97FF",
           "#FECB52"
          ],
          "font": {
           "color": "#2a3f5f"
          },
          "geo": {
           "bgcolor": "white",
           "lakecolor": "white",
           "landcolor": "white",
           "showlakes": true,
           "showland": true,
           "subunitcolor": "#C8D4E3"
          },
          "hoverlabel": {
           "align": "left"
          },
          "hovermode": "closest",
          "mapbox": {
           "style": "light"
          },
          "paper_bgcolor": "white",
          "plot_bgcolor": "white",
          "polar": {
           "angularaxis": {
            "gridcolor": "#EBF0F8",
            "linecolor": "#EBF0F8",
            "ticks": ""
           },
           "bgcolor": "white",
           "radialaxis": {
            "gridcolor": "#EBF0F8",
            "linecolor": "#EBF0F8",
            "ticks": ""
           }
          },
          "scene": {
           "xaxis": {
            "backgroundcolor": "white",
            "gridcolor": "#DFE8F3",
            "gridwidth": 2,
            "linecolor": "#EBF0F8",
            "showbackground": true,
            "ticks": "",
            "zerolinecolor": "#EBF0F8"
           },
           "yaxis": {
            "backgroundcolor": "white",
            "gridcolor": "#DFE8F3",
            "gridwidth": 2,
            "linecolor": "#EBF0F8",
            "showbackground": true,
            "ticks": "",
            "zerolinecolor": "#EBF0F8"
           },
           "zaxis": {
            "backgroundcolor": "white",
            "gridcolor": "#DFE8F3",
            "gridwidth": 2,
            "linecolor": "#EBF0F8",
            "showbackground": true,
            "ticks": "",
            "zerolinecolor": "#EBF0F8"
           }
          },
          "shapedefaults": {
           "line": {
            "color": "#2a3f5f"
           }
          },
          "ternary": {
           "aaxis": {
            "gridcolor": "#DFE8F3",
            "linecolor": "#A2B1C6",
            "ticks": ""
           },
           "baxis": {
            "gridcolor": "#DFE8F3",
            "linecolor": "#A2B1C6",
            "ticks": ""
           },
           "bgcolor": "white",
           "caxis": {
            "gridcolor": "#DFE8F3",
            "linecolor": "#A2B1C6",
            "ticks": ""
           }
          },
          "title": {
           "x": 0.05
          },
          "xaxis": {
           "automargin": true,
           "gridcolor": "#EBF0F8",
           "linecolor": "#EBF0F8",
           "ticks": "",
           "title": {
            "standoff": 15
           },
           "zerolinecolor": "#EBF0F8",
           "zerolinewidth": 2
          },
          "yaxis": {
           "automargin": true,
           "gridcolor": "#EBF0F8",
           "linecolor": "#EBF0F8",
           "ticks": "",
           "title": {
            "standoff": 15
           },
           "zerolinecolor": "#EBF0F8",
           "zerolinewidth": 2
          }
         }
        }
       }
      }
     },
     "metadata": {},
     "output_type": "display_data"
    }
   ],
   "source": [
    "fig = FigureBuilder(chat).user_interventions_count_linechart(date_mode='hour', title=None, xlabel=None)\n",
    "py.plot(fig, filename='Hourly user activity', auto_open=False)\n",
    "fig"
   ]
  },
  {
   "attachments": {},
   "cell_type": "markdown",
   "metadata": {},
   "source": [
    "Daily user activity"
   ]
  },
  {
   "cell_type": "code",
   "execution_count": 18,
   "metadata": {},
   "outputs": [
    {
     "data": {
      "application/vnd.plotly.v1+json": {
       "config": {
        "plotlyServerURL": "https://plotly.com"
       },
       "data": [
        {
         "line": {
          "color": "#DB5F57"
         },
         "name": "adhit",
         "showlegend": true,
         "text": [
          0,
          1,
          2,
          3,
          4,
          5,
          6
         ],
         "type": "scatter",
         "x": [
          0,
          1,
          2,
          3,
          4,
          5,
          6
         ],
         "y": [
          7,
          20,
          13,
          28,
          3,
          9,
          0
         ]
        },
        {
         "line": {
          "color": "#DB9C57"
         },
         "name": "alex",
         "showlegend": true,
         "text": [
          0,
          1,
          2,
          3,
          4,
          5,
          6
         ],
         "type": "scatter",
         "x": [
          0,
          1,
          2,
          3,
          4,
          5,
          6
         ],
         "y": [
          12,
          6,
          3,
          6,
          2,
          6,
          0
         ]
        },
        {
         "line": {
          "color": "#DBD957"
         },
         "name": "alit_gor",
         "showlegend": true,
         "text": [
          0,
          1,
          2,
          3,
          4,
          5,
          6
         ],
         "type": "scatter",
         "x": [
          0,
          1,
          2,
          3,
          4,
          5,
          6
         ],
         "y": [
          9,
          10,
          10,
          1,
          0,
          3,
          0
         ]
        },
        {
         "line": {
          "color": "#A0DB57"
         },
         "name": "alit_jak",
         "showlegend": true,
         "text": [
          0,
          1,
          2,
          3,
          4,
          5,
          6
         ],
         "type": "scatter",
         "x": [
          0,
          1,
          2,
          3,
          4,
          5,
          6
         ],
         "y": [
          31,
          35,
          17,
          14,
          10,
          18,
          1
         ]
        },
        {
         "line": {
          "color": "#63DB57"
         },
         "name": "aris",
         "showlegend": true,
         "text": [
          0,
          1,
          2,
          3,
          4,
          5,
          6
         ],
         "type": "scatter",
         "x": [
          0,
          1,
          2,
          3,
          4,
          5,
          6
         ],
         "y": [
          44,
          71,
          44,
          30,
          16,
          19,
          4
         ]
        },
        {
         "line": {
          "color": "#57DB87"
         },
         "name": "ely",
         "showlegend": true,
         "text": [
          0,
          1,
          2,
          3,
          4,
          5,
          6
         ],
         "type": "scatter",
         "x": [
          0,
          1,
          2,
          3,
          4,
          5,
          6
         ],
         "y": [
          37,
          44,
          22,
          31,
          3,
          28,
          0
         ]
        },
        {
         "line": {
          "color": "#57DBC5"
         },
         "name": "erland",
         "showlegend": true,
         "text": [
          0,
          1,
          2,
          3,
          4,
          5,
          6
         ],
         "type": "scatter",
         "x": [
          0,
          1,
          2,
          3,
          4,
          5,
          6
         ],
         "y": [
          49,
          33,
          68,
          47,
          22,
          10,
          0
         ]
        },
        {
         "line": {
          "color": "#57B5DB"
         },
         "name": "fawaz",
         "showlegend": true,
         "text": [
          0,
          1,
          2,
          3,
          4,
          5,
          6
         ],
         "type": "scatter",
         "x": [
          0,
          1,
          2,
          3,
          4,
          5,
          6
         ],
         "y": [
          2,
          1,
          9,
          1,
          1,
          5,
          0
         ]
        },
        {
         "line": {
          "color": "#5778DB"
         },
         "name": "ichsan",
         "showlegend": true,
         "text": [
          0,
          1,
          2,
          3,
          4,
          5,
          6
         ],
         "type": "scatter",
         "x": [
          0,
          1,
          2,
          3,
          4,
          5,
          6
         ],
         "y": [
          8,
          9,
          6,
          15,
          4,
          12,
          0
         ]
        },
        {
         "line": {
          "color": "#7357DB"
         },
         "name": "kajal",
         "showlegend": true,
         "text": [
          0,
          1,
          2,
          3,
          4,
          5,
          6
         ],
         "type": "scatter",
         "x": [
          0,
          1,
          2,
          3,
          4,
          5,
          6
         ],
         "y": [
          108,
          136,
          124,
          134,
          43,
          76,
          5
         ]
        },
        {
         "line": {
          "color": "#B057DB"
         },
         "name": "mirza",
         "showlegend": true,
         "text": [
          0,
          1,
          2,
          3,
          4,
          5,
          6
         ],
         "type": "scatter",
         "x": [
          0,
          1,
          2,
          3,
          4,
          5,
          6
         ],
         "y": [
          4,
          0,
          9,
          11,
          1,
          3,
          0
         ]
        },
        {
         "line": {
          "color": "#DB57C9"
         },
         "name": "rika",
         "showlegend": true,
         "text": [
          0,
          1,
          2,
          3,
          4,
          5,
          6
         ],
         "type": "scatter",
         "x": [
          0,
          1,
          2,
          3,
          4,
          5,
          6
         ],
         "y": [
          6,
          18,
          7,
          5,
          1,
          10,
          0
         ]
        },
        {
         "line": {
          "color": "#DB578C"
         },
         "name": "valeri",
         "showlegend": true,
         "text": [
          0,
          1,
          2,
          3,
          4,
          5,
          6
         ],
         "type": "scatter",
         "x": [
          0,
          1,
          2,
          3,
          4,
          5,
          6
         ],
         "y": [
          100,
          132,
          83,
          74,
          19,
          51,
          0
         ]
        }
       ],
       "layout": {
        "template": {
         "data": {
          "bar": [
           {
            "error_x": {
             "color": "#2a3f5f"
            },
            "error_y": {
             "color": "#2a3f5f"
            },
            "marker": {
             "line": {
              "color": "white",
              "width": 0.5
             }
            },
            "type": "bar"
           }
          ],
          "barpolar": [
           {
            "marker": {
             "line": {
              "color": "white",
              "width": 0.5
             }
            },
            "type": "barpolar"
           }
          ],
          "carpet": [
           {
            "aaxis": {
             "endlinecolor": "#2a3f5f",
             "gridcolor": "#C8D4E3",
             "linecolor": "#C8D4E3",
             "minorgridcolor": "#C8D4E3",
             "startlinecolor": "#2a3f5f"
            },
            "baxis": {
             "endlinecolor": "#2a3f5f",
             "gridcolor": "#C8D4E3",
             "linecolor": "#C8D4E3",
             "minorgridcolor": "#C8D4E3",
             "startlinecolor": "#2a3f5f"
            },
            "type": "carpet"
           }
          ],
          "choropleth": [
           {
            "colorbar": {
             "outlinewidth": 0,
             "ticks": ""
            },
            "type": "choropleth"
           }
          ],
          "contour": [
           {
            "colorbar": {
             "outlinewidth": 0,
             "ticks": ""
            },
            "colorscale": [
             [
              0,
              "#0d0887"
             ],
             [
              0.1111111111111111,
              "#46039f"
             ],
             [
              0.2222222222222222,
              "#7201a8"
             ],
             [
              0.3333333333333333,
              "#9c179e"
             ],
             [
              0.4444444444444444,
              "#bd3786"
             ],
             [
              0.5555555555555556,
              "#d8576b"
             ],
             [
              0.6666666666666666,
              "#ed7953"
             ],
             [
              0.7777777777777778,
              "#fb9f3a"
             ],
             [
              0.8888888888888888,
              "#fdca26"
             ],
             [
              1,
              "#f0f921"
             ]
            ],
            "type": "contour"
           }
          ],
          "contourcarpet": [
           {
            "colorbar": {
             "outlinewidth": 0,
             "ticks": ""
            },
            "type": "contourcarpet"
           }
          ],
          "heatmap": [
           {
            "colorbar": {
             "outlinewidth": 0,
             "ticks": ""
            },
            "colorscale": [
             [
              0,
              "#0d0887"
             ],
             [
              0.1111111111111111,
              "#46039f"
             ],
             [
              0.2222222222222222,
              "#7201a8"
             ],
             [
              0.3333333333333333,
              "#9c179e"
             ],
             [
              0.4444444444444444,
              "#bd3786"
             ],
             [
              0.5555555555555556,
              "#d8576b"
             ],
             [
              0.6666666666666666,
              "#ed7953"
             ],
             [
              0.7777777777777778,
              "#fb9f3a"
             ],
             [
              0.8888888888888888,
              "#fdca26"
             ],
             [
              1,
              "#f0f921"
             ]
            ],
            "type": "heatmap"
           }
          ],
          "heatmapgl": [
           {
            "colorbar": {
             "outlinewidth": 0,
             "ticks": ""
            },
            "colorscale": [
             [
              0,
              "#0d0887"
             ],
             [
              0.1111111111111111,
              "#46039f"
             ],
             [
              0.2222222222222222,
              "#7201a8"
             ],
             [
              0.3333333333333333,
              "#9c179e"
             ],
             [
              0.4444444444444444,
              "#bd3786"
             ],
             [
              0.5555555555555556,
              "#d8576b"
             ],
             [
              0.6666666666666666,
              "#ed7953"
             ],
             [
              0.7777777777777778,
              "#fb9f3a"
             ],
             [
              0.8888888888888888,
              "#fdca26"
             ],
             [
              1,
              "#f0f921"
             ]
            ],
            "type": "heatmapgl"
           }
          ],
          "histogram": [
           {
            "marker": {
             "colorbar": {
              "outlinewidth": 0,
              "ticks": ""
             }
            },
            "type": "histogram"
           }
          ],
          "histogram2d": [
           {
            "colorbar": {
             "outlinewidth": 0,
             "ticks": ""
            },
            "colorscale": [
             [
              0,
              "#0d0887"
             ],
             [
              0.1111111111111111,
              "#46039f"
             ],
             [
              0.2222222222222222,
              "#7201a8"
             ],
             [
              0.3333333333333333,
              "#9c179e"
             ],
             [
              0.4444444444444444,
              "#bd3786"
             ],
             [
              0.5555555555555556,
              "#d8576b"
             ],
             [
              0.6666666666666666,
              "#ed7953"
             ],
             [
              0.7777777777777778,
              "#fb9f3a"
             ],
             [
              0.8888888888888888,
              "#fdca26"
             ],
             [
              1,
              "#f0f921"
             ]
            ],
            "type": "histogram2d"
           }
          ],
          "histogram2dcontour": [
           {
            "colorbar": {
             "outlinewidth": 0,
             "ticks": ""
            },
            "colorscale": [
             [
              0,
              "#0d0887"
             ],
             [
              0.1111111111111111,
              "#46039f"
             ],
             [
              0.2222222222222222,
              "#7201a8"
             ],
             [
              0.3333333333333333,
              "#9c179e"
             ],
             [
              0.4444444444444444,
              "#bd3786"
             ],
             [
              0.5555555555555556,
              "#d8576b"
             ],
             [
              0.6666666666666666,
              "#ed7953"
             ],
             [
              0.7777777777777778,
              "#fb9f3a"
             ],
             [
              0.8888888888888888,
              "#fdca26"
             ],
             [
              1,
              "#f0f921"
             ]
            ],
            "type": "histogram2dcontour"
           }
          ],
          "mesh3d": [
           {
            "colorbar": {
             "outlinewidth": 0,
             "ticks": ""
            },
            "type": "mesh3d"
           }
          ],
          "parcoords": [
           {
            "line": {
             "colorbar": {
              "outlinewidth": 0,
              "ticks": ""
             }
            },
            "type": "parcoords"
           }
          ],
          "pie": [
           {
            "automargin": true,
            "type": "pie"
           }
          ],
          "scatter": [
           {
            "marker": {
             "colorbar": {
              "outlinewidth": 0,
              "ticks": ""
             }
            },
            "type": "scatter"
           }
          ],
          "scatter3d": [
           {
            "line": {
             "colorbar": {
              "outlinewidth": 0,
              "ticks": ""
             }
            },
            "marker": {
             "colorbar": {
              "outlinewidth": 0,
              "ticks": ""
             }
            },
            "type": "scatter3d"
           }
          ],
          "scattercarpet": [
           {
            "marker": {
             "colorbar": {
              "outlinewidth": 0,
              "ticks": ""
             }
            },
            "type": "scattercarpet"
           }
          ],
          "scattergeo": [
           {
            "marker": {
             "colorbar": {
              "outlinewidth": 0,
              "ticks": ""
             }
            },
            "type": "scattergeo"
           }
          ],
          "scattergl": [
           {
            "marker": {
             "colorbar": {
              "outlinewidth": 0,
              "ticks": ""
             }
            },
            "type": "scattergl"
           }
          ],
          "scattermapbox": [
           {
            "marker": {
             "colorbar": {
              "outlinewidth": 0,
              "ticks": ""
             }
            },
            "type": "scattermapbox"
           }
          ],
          "scatterpolar": [
           {
            "marker": {
             "colorbar": {
              "outlinewidth": 0,
              "ticks": ""
             }
            },
            "type": "scatterpolar"
           }
          ],
          "scatterpolargl": [
           {
            "marker": {
             "colorbar": {
              "outlinewidth": 0,
              "ticks": ""
             }
            },
            "type": "scatterpolargl"
           }
          ],
          "scatterternary": [
           {
            "marker": {
             "colorbar": {
              "outlinewidth": 0,
              "ticks": ""
             }
            },
            "type": "scatterternary"
           }
          ],
          "surface": [
           {
            "colorbar": {
             "outlinewidth": 0,
             "ticks": ""
            },
            "colorscale": [
             [
              0,
              "#0d0887"
             ],
             [
              0.1111111111111111,
              "#46039f"
             ],
             [
              0.2222222222222222,
              "#7201a8"
             ],
             [
              0.3333333333333333,
              "#9c179e"
             ],
             [
              0.4444444444444444,
              "#bd3786"
             ],
             [
              0.5555555555555556,
              "#d8576b"
             ],
             [
              0.6666666666666666,
              "#ed7953"
             ],
             [
              0.7777777777777778,
              "#fb9f3a"
             ],
             [
              0.8888888888888888,
              "#fdca26"
             ],
             [
              1,
              "#f0f921"
             ]
            ],
            "type": "surface"
           }
          ],
          "table": [
           {
            "cells": {
             "fill": {
              "color": "#EBF0F8"
             },
             "line": {
              "color": "white"
             }
            },
            "header": {
             "fill": {
              "color": "#C8D4E3"
             },
             "line": {
              "color": "white"
             }
            },
            "type": "table"
           }
          ]
         },
         "layout": {
          "annotationdefaults": {
           "arrowcolor": "#2a3f5f",
           "arrowhead": 0,
           "arrowwidth": 1
          },
          "autotypenumbers": "strict",
          "coloraxis": {
           "colorbar": {
            "outlinewidth": 0,
            "ticks": ""
           }
          },
          "colorscale": {
           "diverging": [
            [
             0,
             "#8e0152"
            ],
            [
             0.1,
             "#c51b7d"
            ],
            [
             0.2,
             "#de77ae"
            ],
            [
             0.3,
             "#f1b6da"
            ],
            [
             0.4,
             "#fde0ef"
            ],
            [
             0.5,
             "#f7f7f7"
            ],
            [
             0.6,
             "#e6f5d0"
            ],
            [
             0.7,
             "#b8e186"
            ],
            [
             0.8,
             "#7fbc41"
            ],
            [
             0.9,
             "#4d9221"
            ],
            [
             1,
             "#276419"
            ]
           ],
           "sequential": [
            [
             0,
             "#0d0887"
            ],
            [
             0.1111111111111111,
             "#46039f"
            ],
            [
             0.2222222222222222,
             "#7201a8"
            ],
            [
             0.3333333333333333,
             "#9c179e"
            ],
            [
             0.4444444444444444,
             "#bd3786"
            ],
            [
             0.5555555555555556,
             "#d8576b"
            ],
            [
             0.6666666666666666,
             "#ed7953"
            ],
            [
             0.7777777777777778,
             "#fb9f3a"
            ],
            [
             0.8888888888888888,
             "#fdca26"
            ],
            [
             1,
             "#f0f921"
            ]
           ],
           "sequentialminus": [
            [
             0,
             "#0d0887"
            ],
            [
             0.1111111111111111,
             "#46039f"
            ],
            [
             0.2222222222222222,
             "#7201a8"
            ],
            [
             0.3333333333333333,
             "#9c179e"
            ],
            [
             0.4444444444444444,
             "#bd3786"
            ],
            [
             0.5555555555555556,
             "#d8576b"
            ],
            [
             0.6666666666666666,
             "#ed7953"
            ],
            [
             0.7777777777777778,
             "#fb9f3a"
            ],
            [
             0.8888888888888888,
             "#fdca26"
            ],
            [
             1,
             "#f0f921"
            ]
           ]
          },
          "colorway": [
           "#636efa",
           "#EF553B",
           "#00cc96",
           "#ab63fa",
           "#FFA15A",
           "#19d3f3",
           "#FF6692",
           "#B6E880",
           "#FF97FF",
           "#FECB52"
          ],
          "font": {
           "color": "#2a3f5f"
          },
          "geo": {
           "bgcolor": "white",
           "lakecolor": "white",
           "landcolor": "white",
           "showlakes": true,
           "showland": true,
           "subunitcolor": "#C8D4E3"
          },
          "hoverlabel": {
           "align": "left"
          },
          "hovermode": "closest",
          "mapbox": {
           "style": "light"
          },
          "paper_bgcolor": "white",
          "plot_bgcolor": "white",
          "polar": {
           "angularaxis": {
            "gridcolor": "#EBF0F8",
            "linecolor": "#EBF0F8",
            "ticks": ""
           },
           "bgcolor": "white",
           "radialaxis": {
            "gridcolor": "#EBF0F8",
            "linecolor": "#EBF0F8",
            "ticks": ""
           }
          },
          "scene": {
           "xaxis": {
            "backgroundcolor": "white",
            "gridcolor": "#DFE8F3",
            "gridwidth": 2,
            "linecolor": "#EBF0F8",
            "showbackground": true,
            "ticks": "",
            "zerolinecolor": "#EBF0F8"
           },
           "yaxis": {
            "backgroundcolor": "white",
            "gridcolor": "#DFE8F3",
            "gridwidth": 2,
            "linecolor": "#EBF0F8",
            "showbackground": true,
            "ticks": "",
            "zerolinecolor": "#EBF0F8"
           },
           "zaxis": {
            "backgroundcolor": "white",
            "gridcolor": "#DFE8F3",
            "gridwidth": 2,
            "linecolor": "#EBF0F8",
            "showbackground": true,
            "ticks": "",
            "zerolinecolor": "#EBF0F8"
           }
          },
          "shapedefaults": {
           "line": {
            "color": "#2a3f5f"
           }
          },
          "ternary": {
           "aaxis": {
            "gridcolor": "#DFE8F3",
            "linecolor": "#A2B1C6",
            "ticks": ""
           },
           "baxis": {
            "gridcolor": "#DFE8F3",
            "linecolor": "#A2B1C6",
            "ticks": ""
           },
           "bgcolor": "white",
           "caxis": {
            "gridcolor": "#DFE8F3",
            "linecolor": "#A2B1C6",
            "ticks": ""
           }
          },
          "title": {
           "x": 0.05
          },
          "xaxis": {
           "automargin": true,
           "gridcolor": "#EBF0F8",
           "linecolor": "#EBF0F8",
           "ticks": "",
           "title": {
            "standoff": 15
           },
           "zerolinecolor": "#EBF0F8",
           "zerolinewidth": 2
          },
          "yaxis": {
           "automargin": true,
           "gridcolor": "#EBF0F8",
           "linecolor": "#EBF0F8",
           "ticks": "",
           "title": {
            "standoff": 15
           },
           "zerolinecolor": "#EBF0F8",
           "zerolinewidth": 2
          }
         }
        },
        "xaxis": {
         "ticktext": [
          "Monday",
          "Tuesday",
          "Wednesday",
          "Thursday",
          "Friday",
          "Saturday",
          "Sunday"
         ],
         "tickvals": [
          0,
          1,
          2,
          3,
          4,
          5,
          6
         ]
        }
       }
      }
     },
     "metadata": {},
     "output_type": "display_data"
    }
   ],
   "source": [
    "fig = FigureBuilder(chat).user_interventions_count_linechart(date_mode='weekday',\n",
    "                                                             title=None,\n",
    "                                                             xlabel=None).update_layout(xaxis={'tickvals': [0, 1, 2, 3, 4, 5, 6],\n",
    "                                                                                               'ticktext': ['Monday', 'Tuesday', 'Wednesday',\n",
    "                                                                                                            'Thursday', 'Friday', 'Saturday', 'Sunday']})\n",
    "py.plot(fig, filename='Daily user activity', auto_open=False)\n",
    "fig"
   ]
  },
  {
   "attachments": {},
   "cell_type": "markdown",
   "metadata": {},
   "source": [
    "## User interaction"
   ]
  },
  {
   "cell_type": "code",
   "execution_count": 19,
   "metadata": {},
   "outputs": [
    {
     "data": {
      "application/vnd.plotly.v1+json": {
       "config": {
        "plotlyServerURL": "https://plotly.com"
       },
       "data": [
        {
         "colorscale": [
          [
           0,
           "rgb(247,252,245)"
          ],
          [
           0.125,
           "rgb(229,245,224)"
          ],
          [
           0.25,
           "rgb(199,233,192)"
          ],
          [
           0.375,
           "rgb(161,217,155)"
          ],
          [
           0.5,
           "rgb(116,196,118)"
          ],
          [
           0.625,
           "rgb(65,171,93)"
          ],
          [
           0.75,
           "rgb(35,139,69)"
          ],
          [
           0.875,
           "rgb(0,109,44)"
          ],
          [
           1,
           "rgb(0,68,27)"
          ]
         ],
         "hovertemplate": "%{y} ---> %{x}<extra>%{z}</extra>",
         "type": "heatmap",
         "x": [
          "adhit",
          "alex",
          "alit_gor",
          "alit_jak",
          "aris",
          "ely",
          "erland",
          "fawaz",
          "ichsan",
          "kajal",
          "mirza",
          "rika",
          "valeri"
         ],
         "y": [
          "adhit",
          "alex",
          "alit_gor",
          "alit_jak",
          "aris",
          "ely",
          "erland",
          "fawaz",
          "ichsan",
          "kajal",
          "mirza",
          "rika",
          "valeri"
         ],
         "z": [
          [
           0,
           1,
           2,
           4,
           9,
           3,
           4,
           0,
           2,
           27,
           1,
           2,
           10
          ],
          [
           2,
           0,
           0,
           2,
           4,
           2,
           2,
           0,
           2,
           7,
           1,
           1,
           7
          ],
          [
           1,
           1,
           0,
           4,
           1,
           5,
           2,
           0,
           1,
           10,
           0,
           1,
           4
          ],
          [
           5,
           3,
           2,
           0,
           11,
           10,
           10,
           0,
           2,
           27,
           0,
           0,
           21
          ],
          [
           7,
           4,
           3,
           13,
           0,
           16,
           11,
           5,
           10,
           53,
           0,
           4,
           52
          ],
          [
           1,
           1,
           4,
           8,
           16,
           0,
           27,
           1,
           7,
           41,
           3,
           6,
           34
          ],
          [
           4,
           3,
           4,
           9,
           17,
           13,
           0,
           0,
           0,
           71,
           0,
           5,
           52
          ],
          [
           0,
           0,
           0,
           1,
           2,
           4,
           1,
           0,
           0,
           6,
           0,
           0,
           3
          ],
          [
           7,
           2,
           0,
           4,
           7,
           4,
           0,
           1,
           0,
           7,
           2,
           1,
           8
          ],
          [
           29,
           5,
           8,
           26,
           41,
           58,
           83,
           8,
           8,
           0,
           10,
           6,
           97
          ],
          [
           1,
           1,
           1,
           0,
           1,
           3,
           2,
           0,
           2,
           9,
           0,
           1,
           0
          ],
          [
           1,
           3,
           0,
           1,
           9,
           1,
           2,
           0,
           1,
           9,
           0,
           0,
           10
          ],
          [
           7,
           6,
           6,
           19,
           60,
           30,
           34,
           2,
           8,
           113,
           4,
           10,
           0
          ]
         ]
        }
       ],
       "layout": {
        "template": {
         "data": {
          "bar": [
           {
            "error_x": {
             "color": "#2a3f5f"
            },
            "error_y": {
             "color": "#2a3f5f"
            },
            "marker": {
             "line": {
              "color": "white",
              "width": 0.5
             }
            },
            "type": "bar"
           }
          ],
          "barpolar": [
           {
            "marker": {
             "line": {
              "color": "white",
              "width": 0.5
             }
            },
            "type": "barpolar"
           }
          ],
          "carpet": [
           {
            "aaxis": {
             "endlinecolor": "#2a3f5f",
             "gridcolor": "#C8D4E3",
             "linecolor": "#C8D4E3",
             "minorgridcolor": "#C8D4E3",
             "startlinecolor": "#2a3f5f"
            },
            "baxis": {
             "endlinecolor": "#2a3f5f",
             "gridcolor": "#C8D4E3",
             "linecolor": "#C8D4E3",
             "minorgridcolor": "#C8D4E3",
             "startlinecolor": "#2a3f5f"
            },
            "type": "carpet"
           }
          ],
          "choropleth": [
           {
            "colorbar": {
             "outlinewidth": 0,
             "ticks": ""
            },
            "type": "choropleth"
           }
          ],
          "contour": [
           {
            "colorbar": {
             "outlinewidth": 0,
             "ticks": ""
            },
            "colorscale": [
             [
              0,
              "#0d0887"
             ],
             [
              0.1111111111111111,
              "#46039f"
             ],
             [
              0.2222222222222222,
              "#7201a8"
             ],
             [
              0.3333333333333333,
              "#9c179e"
             ],
             [
              0.4444444444444444,
              "#bd3786"
             ],
             [
              0.5555555555555556,
              "#d8576b"
             ],
             [
              0.6666666666666666,
              "#ed7953"
             ],
             [
              0.7777777777777778,
              "#fb9f3a"
             ],
             [
              0.8888888888888888,
              "#fdca26"
             ],
             [
              1,
              "#f0f921"
             ]
            ],
            "type": "contour"
           }
          ],
          "contourcarpet": [
           {
            "colorbar": {
             "outlinewidth": 0,
             "ticks": ""
            },
            "type": "contourcarpet"
           }
          ],
          "heatmap": [
           {
            "colorbar": {
             "outlinewidth": 0,
             "ticks": ""
            },
            "colorscale": [
             [
              0,
              "#0d0887"
             ],
             [
              0.1111111111111111,
              "#46039f"
             ],
             [
              0.2222222222222222,
              "#7201a8"
             ],
             [
              0.3333333333333333,
              "#9c179e"
             ],
             [
              0.4444444444444444,
              "#bd3786"
             ],
             [
              0.5555555555555556,
              "#d8576b"
             ],
             [
              0.6666666666666666,
              "#ed7953"
             ],
             [
              0.7777777777777778,
              "#fb9f3a"
             ],
             [
              0.8888888888888888,
              "#fdca26"
             ],
             [
              1,
              "#f0f921"
             ]
            ],
            "type": "heatmap"
           }
          ],
          "heatmapgl": [
           {
            "colorbar": {
             "outlinewidth": 0,
             "ticks": ""
            },
            "colorscale": [
             [
              0,
              "#0d0887"
             ],
             [
              0.1111111111111111,
              "#46039f"
             ],
             [
              0.2222222222222222,
              "#7201a8"
             ],
             [
              0.3333333333333333,
              "#9c179e"
             ],
             [
              0.4444444444444444,
              "#bd3786"
             ],
             [
              0.5555555555555556,
              "#d8576b"
             ],
             [
              0.6666666666666666,
              "#ed7953"
             ],
             [
              0.7777777777777778,
              "#fb9f3a"
             ],
             [
              0.8888888888888888,
              "#fdca26"
             ],
             [
              1,
              "#f0f921"
             ]
            ],
            "type": "heatmapgl"
           }
          ],
          "histogram": [
           {
            "marker": {
             "colorbar": {
              "outlinewidth": 0,
              "ticks": ""
             }
            },
            "type": "histogram"
           }
          ],
          "histogram2d": [
           {
            "colorbar": {
             "outlinewidth": 0,
             "ticks": ""
            },
            "colorscale": [
             [
              0,
              "#0d0887"
             ],
             [
              0.1111111111111111,
              "#46039f"
             ],
             [
              0.2222222222222222,
              "#7201a8"
             ],
             [
              0.3333333333333333,
              "#9c179e"
             ],
             [
              0.4444444444444444,
              "#bd3786"
             ],
             [
              0.5555555555555556,
              "#d8576b"
             ],
             [
              0.6666666666666666,
              "#ed7953"
             ],
             [
              0.7777777777777778,
              "#fb9f3a"
             ],
             [
              0.8888888888888888,
              "#fdca26"
             ],
             [
              1,
              "#f0f921"
             ]
            ],
            "type": "histogram2d"
           }
          ],
          "histogram2dcontour": [
           {
            "colorbar": {
             "outlinewidth": 0,
             "ticks": ""
            },
            "colorscale": [
             [
              0,
              "#0d0887"
             ],
             [
              0.1111111111111111,
              "#46039f"
             ],
             [
              0.2222222222222222,
              "#7201a8"
             ],
             [
              0.3333333333333333,
              "#9c179e"
             ],
             [
              0.4444444444444444,
              "#bd3786"
             ],
             [
              0.5555555555555556,
              "#d8576b"
             ],
             [
              0.6666666666666666,
              "#ed7953"
             ],
             [
              0.7777777777777778,
              "#fb9f3a"
             ],
             [
              0.8888888888888888,
              "#fdca26"
             ],
             [
              1,
              "#f0f921"
             ]
            ],
            "type": "histogram2dcontour"
           }
          ],
          "mesh3d": [
           {
            "colorbar": {
             "outlinewidth": 0,
             "ticks": ""
            },
            "type": "mesh3d"
           }
          ],
          "parcoords": [
           {
            "line": {
             "colorbar": {
              "outlinewidth": 0,
              "ticks": ""
             }
            },
            "type": "parcoords"
           }
          ],
          "pie": [
           {
            "automargin": true,
            "type": "pie"
           }
          ],
          "scatter": [
           {
            "marker": {
             "colorbar": {
              "outlinewidth": 0,
              "ticks": ""
             }
            },
            "type": "scatter"
           }
          ],
          "scatter3d": [
           {
            "line": {
             "colorbar": {
              "outlinewidth": 0,
              "ticks": ""
             }
            },
            "marker": {
             "colorbar": {
              "outlinewidth": 0,
              "ticks": ""
             }
            },
            "type": "scatter3d"
           }
          ],
          "scattercarpet": [
           {
            "marker": {
             "colorbar": {
              "outlinewidth": 0,
              "ticks": ""
             }
            },
            "type": "scattercarpet"
           }
          ],
          "scattergeo": [
           {
            "marker": {
             "colorbar": {
              "outlinewidth": 0,
              "ticks": ""
             }
            },
            "type": "scattergeo"
           }
          ],
          "scattergl": [
           {
            "marker": {
             "colorbar": {
              "outlinewidth": 0,
              "ticks": ""
             }
            },
            "type": "scattergl"
           }
          ],
          "scattermapbox": [
           {
            "marker": {
             "colorbar": {
              "outlinewidth": 0,
              "ticks": ""
             }
            },
            "type": "scattermapbox"
           }
          ],
          "scatterpolar": [
           {
            "marker": {
             "colorbar": {
              "outlinewidth": 0,
              "ticks": ""
             }
            },
            "type": "scatterpolar"
           }
          ],
          "scatterpolargl": [
           {
            "marker": {
             "colorbar": {
              "outlinewidth": 0,
              "ticks": ""
             }
            },
            "type": "scatterpolargl"
           }
          ],
          "scatterternary": [
           {
            "marker": {
             "colorbar": {
              "outlinewidth": 0,
              "ticks": ""
             }
            },
            "type": "scatterternary"
           }
          ],
          "surface": [
           {
            "colorbar": {
             "outlinewidth": 0,
             "ticks": ""
            },
            "colorscale": [
             [
              0,
              "#0d0887"
             ],
             [
              0.1111111111111111,
              "#46039f"
             ],
             [
              0.2222222222222222,
              "#7201a8"
             ],
             [
              0.3333333333333333,
              "#9c179e"
             ],
             [
              0.4444444444444444,
              "#bd3786"
             ],
             [
              0.5555555555555556,
              "#d8576b"
             ],
             [
              0.6666666666666666,
              "#ed7953"
             ],
             [
              0.7777777777777778,
              "#fb9f3a"
             ],
             [
              0.8888888888888888,
              "#fdca26"
             ],
             [
              1,
              "#f0f921"
             ]
            ],
            "type": "surface"
           }
          ],
          "table": [
           {
            "cells": {
             "fill": {
              "color": "#EBF0F8"
             },
             "line": {
              "color": "white"
             }
            },
            "header": {
             "fill": {
              "color": "#C8D4E3"
             },
             "line": {
              "color": "white"
             }
            },
            "type": "table"
           }
          ]
         },
         "layout": {
          "annotationdefaults": {
           "arrowcolor": "#2a3f5f",
           "arrowhead": 0,
           "arrowwidth": 1
          },
          "autotypenumbers": "strict",
          "coloraxis": {
           "colorbar": {
            "outlinewidth": 0,
            "ticks": ""
           }
          },
          "colorscale": {
           "diverging": [
            [
             0,
             "#8e0152"
            ],
            [
             0.1,
             "#c51b7d"
            ],
            [
             0.2,
             "#de77ae"
            ],
            [
             0.3,
             "#f1b6da"
            ],
            [
             0.4,
             "#fde0ef"
            ],
            [
             0.5,
             "#f7f7f7"
            ],
            [
             0.6,
             "#e6f5d0"
            ],
            [
             0.7,
             "#b8e186"
            ],
            [
             0.8,
             "#7fbc41"
            ],
            [
             0.9,
             "#4d9221"
            ],
            [
             1,
             "#276419"
            ]
           ],
           "sequential": [
            [
             0,
             "#0d0887"
            ],
            [
             0.1111111111111111,
             "#46039f"
            ],
            [
             0.2222222222222222,
             "#7201a8"
            ],
            [
             0.3333333333333333,
             "#9c179e"
            ],
            [
             0.4444444444444444,
             "#bd3786"
            ],
            [
             0.5555555555555556,
             "#d8576b"
            ],
            [
             0.6666666666666666,
             "#ed7953"
            ],
            [
             0.7777777777777778,
             "#fb9f3a"
            ],
            [
             0.8888888888888888,
             "#fdca26"
            ],
            [
             1,
             "#f0f921"
            ]
           ],
           "sequentialminus": [
            [
             0,
             "#0d0887"
            ],
            [
             0.1111111111111111,
             "#46039f"
            ],
            [
             0.2222222222222222,
             "#7201a8"
            ],
            [
             0.3333333333333333,
             "#9c179e"
            ],
            [
             0.4444444444444444,
             "#bd3786"
            ],
            [
             0.5555555555555556,
             "#d8576b"
            ],
            [
             0.6666666666666666,
             "#ed7953"
            ],
            [
             0.7777777777777778,
             "#fb9f3a"
            ],
            [
             0.8888888888888888,
             "#fdca26"
            ],
            [
             1,
             "#f0f921"
            ]
           ]
          },
          "colorway": [
           "#636efa",
           "#EF553B",
           "#00cc96",
           "#ab63fa",
           "#FFA15A",
           "#19d3f3",
           "#FF6692",
           "#B6E880",
           "#FF97FF",
           "#FECB52"
          ],
          "font": {
           "color": "#2a3f5f"
          },
          "geo": {
           "bgcolor": "white",
           "lakecolor": "white",
           "landcolor": "white",
           "showlakes": true,
           "showland": true,
           "subunitcolor": "#C8D4E3"
          },
          "hoverlabel": {
           "align": "left"
          },
          "hovermode": "closest",
          "mapbox": {
           "style": "light"
          },
          "paper_bgcolor": "white",
          "plot_bgcolor": "white",
          "polar": {
           "angularaxis": {
            "gridcolor": "#EBF0F8",
            "linecolor": "#EBF0F8",
            "ticks": ""
           },
           "bgcolor": "white",
           "radialaxis": {
            "gridcolor": "#EBF0F8",
            "linecolor": "#EBF0F8",
            "ticks": ""
           }
          },
          "scene": {
           "xaxis": {
            "backgroundcolor": "white",
            "gridcolor": "#DFE8F3",
            "gridwidth": 2,
            "linecolor": "#EBF0F8",
            "showbackground": true,
            "ticks": "",
            "zerolinecolor": "#EBF0F8"
           },
           "yaxis": {
            "backgroundcolor": "white",
            "gridcolor": "#DFE8F3",
            "gridwidth": 2,
            "linecolor": "#EBF0F8",
            "showbackground": true,
            "ticks": "",
            "zerolinecolor": "#EBF0F8"
           },
           "zaxis": {
            "backgroundcolor": "white",
            "gridcolor": "#DFE8F3",
            "gridwidth": 2,
            "linecolor": "#EBF0F8",
            "showbackground": true,
            "ticks": "",
            "zerolinecolor": "#EBF0F8"
           }
          },
          "shapedefaults": {
           "line": {
            "color": "#2a3f5f"
           }
          },
          "ternary": {
           "aaxis": {
            "gridcolor": "#DFE8F3",
            "linecolor": "#A2B1C6",
            "ticks": ""
           },
           "baxis": {
            "gridcolor": "#DFE8F3",
            "linecolor": "#A2B1C6",
            "ticks": ""
           },
           "bgcolor": "white",
           "caxis": {
            "gridcolor": "#DFE8F3",
            "linecolor": "#A2B1C6",
            "ticks": ""
           }
          },
          "title": {
           "x": 0.05
          },
          "xaxis": {
           "automargin": true,
           "gridcolor": "#EBF0F8",
           "linecolor": "#EBF0F8",
           "ticks": "",
           "title": {
            "standoff": 15
           },
           "zerolinecolor": "#EBF0F8",
           "zerolinewidth": 2
          },
          "yaxis": {
           "automargin": true,
           "gridcolor": "#EBF0F8",
           "linecolor": "#EBF0F8",
           "ticks": "",
           "title": {
            "standoff": 15
           },
           "zerolinecolor": "#EBF0F8",
           "zerolinewidth": 2
          }
         }
        },
        "xaxis": {
         "title": {
          "text": "Receiver"
         }
        },
        "yaxis": {
         "title": {
          "text": "Sender"
         }
        }
       }
      }
     },
     "metadata": {},
     "output_type": "display_data"
    }
   ],
   "source": [
    "fig = FigureBuilder(chat).user_message_responses_heatmap(title=None)\n",
    "py.plot(fig, filename='User interaction heatmap', auto_open=False)\n",
    "fig"
   ]
  },
  {
   "attachments": {},
   "cell_type": "markdown",
   "metadata": {},
   "source": [
    "User interaction flow"
   ]
  },
  {
   "cell_type": "code",
   "execution_count": 20,
   "metadata": {},
   "outputs": [
    {
     "data": {
      "application/vnd.plotly.v1+json": {
       "config": {
        "plotlyServerURL": "https://plotly.com"
       },
       "data": [
        {
         "arrangement": "fixed",
         "link": {
          "hovertemplate": "%{source.label} ---> %{target.label}<extra>%{value}</extra>",
          "source": [
           0,
           0,
           0,
           0,
           0,
           0,
           0,
           0,
           0,
           0,
           0,
           0,
           0,
           1,
           1,
           1,
           1,
           1,
           1,
           1,
           1,
           1,
           1,
           1,
           1,
           1,
           2,
           2,
           2,
           2,
           2,
           2,
           2,
           2,
           2,
           2,
           2,
           2,
           2,
           3,
           3,
           3,
           3,
           3,
           3,
           3,
           3,
           3,
           3,
           3,
           3,
           3,
           4,
           4,
           4,
           4,
           4,
           4,
           4,
           4,
           4,
           4,
           4,
           4,
           4,
           5,
           5,
           5,
           5,
           5,
           5,
           5,
           5,
           5,
           5,
           5,
           5,
           5,
           6,
           6,
           6,
           6,
           6,
           6,
           6,
           6,
           6,
           6,
           6,
           6,
           6,
           7,
           7,
           7,
           7,
           7,
           7,
           7,
           7,
           7,
           7,
           7,
           7,
           7,
           8,
           8,
           8,
           8,
           8,
           8,
           8,
           8,
           8,
           8,
           8,
           8,
           8,
           9,
           9,
           9,
           9,
           9,
           9,
           9,
           9,
           9,
           9,
           9,
           9,
           9,
           10,
           10,
           10,
           10,
           10,
           10,
           10,
           10,
           10,
           10,
           10,
           10,
           10,
           11,
           11,
           11,
           11,
           11,
           11,
           11,
           11,
           11,
           11,
           11,
           11,
           11,
           12,
           12,
           12,
           12,
           12,
           12,
           12,
           12,
           12,
           12,
           12,
           12,
           12
          ],
          "target": [
           13,
           14,
           15,
           16,
           17,
           18,
           19,
           20,
           21,
           22,
           23,
           24,
           25,
           13,
           14,
           15,
           16,
           17,
           18,
           19,
           20,
           21,
           22,
           23,
           24,
           25,
           13,
           14,
           15,
           16,
           17,
           18,
           19,
           20,
           21,
           22,
           23,
           24,
           25,
           13,
           14,
           15,
           16,
           17,
           18,
           19,
           20,
           21,
           22,
           23,
           24,
           25,
           13,
           14,
           15,
           16,
           17,
           18,
           19,
           20,
           21,
           22,
           23,
           24,
           25,
           13,
           14,
           15,
           16,
           17,
           18,
           19,
           20,
           21,
           22,
           23,
           24,
           25,
           13,
           14,
           15,
           16,
           17,
           18,
           19,
           20,
           21,
           22,
           23,
           24,
           25,
           13,
           14,
           15,
           16,
           17,
           18,
           19,
           20,
           21,
           22,
           23,
           24,
           25,
           13,
           14,
           15,
           16,
           17,
           18,
           19,
           20,
           21,
           22,
           23,
           24,
           25,
           13,
           14,
           15,
           16,
           17,
           18,
           19,
           20,
           21,
           22,
           23,
           24,
           25,
           13,
           14,
           15,
           16,
           17,
           18,
           19,
           20,
           21,
           22,
           23,
           24,
           25,
           13,
           14,
           15,
           16,
           17,
           18,
           19,
           20,
           21,
           22,
           23,
           24,
           25,
           13,
           14,
           15,
           16,
           17,
           18,
           19,
           20,
           21,
           22,
           23,
           24,
           25
          ],
          "value": [
           0,
           1,
           2,
           4,
           9,
           3,
           4,
           0,
           2,
           27,
           1,
           2,
           10,
           2,
           0,
           0,
           2,
           4,
           2,
           2,
           0,
           2,
           7,
           1,
           1,
           7,
           1,
           1,
           0,
           4,
           1,
           5,
           2,
           0,
           1,
           10,
           0,
           1,
           4,
           5,
           3,
           2,
           0,
           11,
           10,
           10,
           0,
           2,
           27,
           0,
           0,
           21,
           7,
           4,
           3,
           13,
           0,
           16,
           11,
           5,
           10,
           53,
           0,
           4,
           52,
           1,
           1,
           4,
           8,
           16,
           0,
           27,
           1,
           7,
           41,
           3,
           6,
           34,
           4,
           3,
           4,
           9,
           17,
           13,
           0,
           0,
           0,
           71,
           0,
           5,
           52,
           0,
           0,
           0,
           1,
           2,
           4,
           1,
           0,
           0,
           6,
           0,
           0,
           3,
           7,
           2,
           0,
           4,
           7,
           4,
           0,
           1,
           0,
           7,
           2,
           1,
           8,
           29,
           5,
           8,
           26,
           41,
           58,
           83,
           8,
           8,
           0,
           10,
           6,
           97,
           1,
           1,
           1,
           0,
           1,
           3,
           2,
           0,
           2,
           9,
           0,
           1,
           0,
           1,
           3,
           0,
           1,
           9,
           1,
           2,
           0,
           1,
           9,
           0,
           0,
           10,
           7,
           6,
           6,
           19,
           60,
           30,
           34,
           2,
           8,
           113,
           4,
           10,
           0
          ]
         },
         "node": {
          "color": [
           "#DB5F57",
           "#DB9C57",
           "#DBD957",
           "#A0DB57",
           "#63DB57",
           "#57DB87",
           "#57DBC5",
           "#57B5DB",
           "#5778DB",
           "#7357DB",
           "#B057DB",
           "#DB57C9",
           "#DB578C",
           "#DB5F57",
           "#DB9C57",
           "#DBD957",
           "#A0DB57",
           "#63DB57",
           "#57DB87",
           "#57DBC5",
           "#57B5DB",
           "#5778DB",
           "#7357DB",
           "#B057DB",
           "#DB57C9",
           "#DB578C"
          ],
          "hovertemplate": "%{label}<br>Number of messages: %{value}<extra></extra>",
          "label": [
           "adhit",
           "alex",
           "alit_gor",
           "alit_jak",
           "aris",
           "ely",
           "erland",
           "fawaz",
           "ichsan",
           "kajal",
           "mirza",
           "rika",
           "valeri",
           "adhit",
           "alex",
           "alit_gor",
           "alit_jak",
           "aris",
           "ely",
           "erland",
           "fawaz",
           "ichsan",
           "kajal",
           "mirza",
           "rika",
           "valeri"
          ],
          "line": {
           "color": "black",
           "width": 0
          },
          "pad": 20,
          "thickness": 40
         },
         "orientation": "v",
         "type": "sankey",
         "valueformat": ".0f"
        }
       ],
       "layout": {
        "annotations": [
         {
          "align": "center",
          "font": {
           "color": "rgb(116, 101, 130)",
           "size": 13
          },
          "showarrow": false,
          "text": "Senders",
          "x": 0.5,
          "xref": "paper",
          "y": 1.1,
          "yref": "paper"
         },
         {
          "align": "center",
          "font": {
           "color": "rgb(116, 101, 130)",
           "size": 13
          },
          "showarrow": false,
          "text": "Receivers",
          "x": 0.5,
          "xref": "paper",
          "y": -0.1,
          "yref": "paper"
         }
        ],
        "template": {
         "data": {
          "bar": [
           {
            "error_x": {
             "color": "#2a3f5f"
            },
            "error_y": {
             "color": "#2a3f5f"
            },
            "marker": {
             "line": {
              "color": "white",
              "width": 0.5
             }
            },
            "type": "bar"
           }
          ],
          "barpolar": [
           {
            "marker": {
             "line": {
              "color": "white",
              "width": 0.5
             }
            },
            "type": "barpolar"
           }
          ],
          "carpet": [
           {
            "aaxis": {
             "endlinecolor": "#2a3f5f",
             "gridcolor": "#C8D4E3",
             "linecolor": "#C8D4E3",
             "minorgridcolor": "#C8D4E3",
             "startlinecolor": "#2a3f5f"
            },
            "baxis": {
             "endlinecolor": "#2a3f5f",
             "gridcolor": "#C8D4E3",
             "linecolor": "#C8D4E3",
             "minorgridcolor": "#C8D4E3",
             "startlinecolor": "#2a3f5f"
            },
            "type": "carpet"
           }
          ],
          "choropleth": [
           {
            "colorbar": {
             "outlinewidth": 0,
             "ticks": ""
            },
            "type": "choropleth"
           }
          ],
          "contour": [
           {
            "colorbar": {
             "outlinewidth": 0,
             "ticks": ""
            },
            "colorscale": [
             [
              0,
              "#0d0887"
             ],
             [
              0.1111111111111111,
              "#46039f"
             ],
             [
              0.2222222222222222,
              "#7201a8"
             ],
             [
              0.3333333333333333,
              "#9c179e"
             ],
             [
              0.4444444444444444,
              "#bd3786"
             ],
             [
              0.5555555555555556,
              "#d8576b"
             ],
             [
              0.6666666666666666,
              "#ed7953"
             ],
             [
              0.7777777777777778,
              "#fb9f3a"
             ],
             [
              0.8888888888888888,
              "#fdca26"
             ],
             [
              1,
              "#f0f921"
             ]
            ],
            "type": "contour"
           }
          ],
          "contourcarpet": [
           {
            "colorbar": {
             "outlinewidth": 0,
             "ticks": ""
            },
            "type": "contourcarpet"
           }
          ],
          "heatmap": [
           {
            "colorbar": {
             "outlinewidth": 0,
             "ticks": ""
            },
            "colorscale": [
             [
              0,
              "#0d0887"
             ],
             [
              0.1111111111111111,
              "#46039f"
             ],
             [
              0.2222222222222222,
              "#7201a8"
             ],
             [
              0.3333333333333333,
              "#9c179e"
             ],
             [
              0.4444444444444444,
              "#bd3786"
             ],
             [
              0.5555555555555556,
              "#d8576b"
             ],
             [
              0.6666666666666666,
              "#ed7953"
             ],
             [
              0.7777777777777778,
              "#fb9f3a"
             ],
             [
              0.8888888888888888,
              "#fdca26"
             ],
             [
              1,
              "#f0f921"
             ]
            ],
            "type": "heatmap"
           }
          ],
          "heatmapgl": [
           {
            "colorbar": {
             "outlinewidth": 0,
             "ticks": ""
            },
            "colorscale": [
             [
              0,
              "#0d0887"
             ],
             [
              0.1111111111111111,
              "#46039f"
             ],
             [
              0.2222222222222222,
              "#7201a8"
             ],
             [
              0.3333333333333333,
              "#9c179e"
             ],
             [
              0.4444444444444444,
              "#bd3786"
             ],
             [
              0.5555555555555556,
              "#d8576b"
             ],
             [
              0.6666666666666666,
              "#ed7953"
             ],
             [
              0.7777777777777778,
              "#fb9f3a"
             ],
             [
              0.8888888888888888,
              "#fdca26"
             ],
             [
              1,
              "#f0f921"
             ]
            ],
            "type": "heatmapgl"
           }
          ],
          "histogram": [
           {
            "marker": {
             "colorbar": {
              "outlinewidth": 0,
              "ticks": ""
             }
            },
            "type": "histogram"
           }
          ],
          "histogram2d": [
           {
            "colorbar": {
             "outlinewidth": 0,
             "ticks": ""
            },
            "colorscale": [
             [
              0,
              "#0d0887"
             ],
             [
              0.1111111111111111,
              "#46039f"
             ],
             [
              0.2222222222222222,
              "#7201a8"
             ],
             [
              0.3333333333333333,
              "#9c179e"
             ],
             [
              0.4444444444444444,
              "#bd3786"
             ],
             [
              0.5555555555555556,
              "#d8576b"
             ],
             [
              0.6666666666666666,
              "#ed7953"
             ],
             [
              0.7777777777777778,
              "#fb9f3a"
             ],
             [
              0.8888888888888888,
              "#fdca26"
             ],
             [
              1,
              "#f0f921"
             ]
            ],
            "type": "histogram2d"
           }
          ],
          "histogram2dcontour": [
           {
            "colorbar": {
             "outlinewidth": 0,
             "ticks": ""
            },
            "colorscale": [
             [
              0,
              "#0d0887"
             ],
             [
              0.1111111111111111,
              "#46039f"
             ],
             [
              0.2222222222222222,
              "#7201a8"
             ],
             [
              0.3333333333333333,
              "#9c179e"
             ],
             [
              0.4444444444444444,
              "#bd3786"
             ],
             [
              0.5555555555555556,
              "#d8576b"
             ],
             [
              0.6666666666666666,
              "#ed7953"
             ],
             [
              0.7777777777777778,
              "#fb9f3a"
             ],
             [
              0.8888888888888888,
              "#fdca26"
             ],
             [
              1,
              "#f0f921"
             ]
            ],
            "type": "histogram2dcontour"
           }
          ],
          "mesh3d": [
           {
            "colorbar": {
             "outlinewidth": 0,
             "ticks": ""
            },
            "type": "mesh3d"
           }
          ],
          "parcoords": [
           {
            "line": {
             "colorbar": {
              "outlinewidth": 0,
              "ticks": ""
             }
            },
            "type": "parcoords"
           }
          ],
          "pie": [
           {
            "automargin": true,
            "type": "pie"
           }
          ],
          "scatter": [
           {
            "marker": {
             "colorbar": {
              "outlinewidth": 0,
              "ticks": ""
             }
            },
            "type": "scatter"
           }
          ],
          "scatter3d": [
           {
            "line": {
             "colorbar": {
              "outlinewidth": 0,
              "ticks": ""
             }
            },
            "marker": {
             "colorbar": {
              "outlinewidth": 0,
              "ticks": ""
             }
            },
            "type": "scatter3d"
           }
          ],
          "scattercarpet": [
           {
            "marker": {
             "colorbar": {
              "outlinewidth": 0,
              "ticks": ""
             }
            },
            "type": "scattercarpet"
           }
          ],
          "scattergeo": [
           {
            "marker": {
             "colorbar": {
              "outlinewidth": 0,
              "ticks": ""
             }
            },
            "type": "scattergeo"
           }
          ],
          "scattergl": [
           {
            "marker": {
             "colorbar": {
              "outlinewidth": 0,
              "ticks": ""
             }
            },
            "type": "scattergl"
           }
          ],
          "scattermapbox": [
           {
            "marker": {
             "colorbar": {
              "outlinewidth": 0,
              "ticks": ""
             }
            },
            "type": "scattermapbox"
           }
          ],
          "scatterpolar": [
           {
            "marker": {
             "colorbar": {
              "outlinewidth": 0,
              "ticks": ""
             }
            },
            "type": "scatterpolar"
           }
          ],
          "scatterpolargl": [
           {
            "marker": {
             "colorbar": {
              "outlinewidth": 0,
              "ticks": ""
             }
            },
            "type": "scatterpolargl"
           }
          ],
          "scatterternary": [
           {
            "marker": {
             "colorbar": {
              "outlinewidth": 0,
              "ticks": ""
             }
            },
            "type": "scatterternary"
           }
          ],
          "surface": [
           {
            "colorbar": {
             "outlinewidth": 0,
             "ticks": ""
            },
            "colorscale": [
             [
              0,
              "#0d0887"
             ],
             [
              0.1111111111111111,
              "#46039f"
             ],
             [
              0.2222222222222222,
              "#7201a8"
             ],
             [
              0.3333333333333333,
              "#9c179e"
             ],
             [
              0.4444444444444444,
              "#bd3786"
             ],
             [
              0.5555555555555556,
              "#d8576b"
             ],
             [
              0.6666666666666666,
              "#ed7953"
             ],
             [
              0.7777777777777778,
              "#fb9f3a"
             ],
             [
              0.8888888888888888,
              "#fdca26"
             ],
             [
              1,
              "#f0f921"
             ]
            ],
            "type": "surface"
           }
          ],
          "table": [
           {
            "cells": {
             "fill": {
              "color": "#EBF0F8"
             },
             "line": {
              "color": "white"
             }
            },
            "header": {
             "fill": {
              "color": "#C8D4E3"
             },
             "line": {
              "color": "white"
             }
            },
            "type": "table"
           }
          ]
         },
         "layout": {
          "annotationdefaults": {
           "arrowcolor": "#2a3f5f",
           "arrowhead": 0,
           "arrowwidth": 1
          },
          "autotypenumbers": "strict",
          "coloraxis": {
           "colorbar": {
            "outlinewidth": 0,
            "ticks": ""
           }
          },
          "colorscale": {
           "diverging": [
            [
             0,
             "#8e0152"
            ],
            [
             0.1,
             "#c51b7d"
            ],
            [
             0.2,
             "#de77ae"
            ],
            [
             0.3,
             "#f1b6da"
            ],
            [
             0.4,
             "#fde0ef"
            ],
            [
             0.5,
             "#f7f7f7"
            ],
            [
             0.6,
             "#e6f5d0"
            ],
            [
             0.7,
             "#b8e186"
            ],
            [
             0.8,
             "#7fbc41"
            ],
            [
             0.9,
             "#4d9221"
            ],
            [
             1,
             "#276419"
            ]
           ],
           "sequential": [
            [
             0,
             "#0d0887"
            ],
            [
             0.1111111111111111,
             "#46039f"
            ],
            [
             0.2222222222222222,
             "#7201a8"
            ],
            [
             0.3333333333333333,
             "#9c179e"
            ],
            [
             0.4444444444444444,
             "#bd3786"
            ],
            [
             0.5555555555555556,
             "#d8576b"
            ],
            [
             0.6666666666666666,
             "#ed7953"
            ],
            [
             0.7777777777777778,
             "#fb9f3a"
            ],
            [
             0.8888888888888888,
             "#fdca26"
            ],
            [
             1,
             "#f0f921"
            ]
           ],
           "sequentialminus": [
            [
             0,
             "#0d0887"
            ],
            [
             0.1111111111111111,
             "#46039f"
            ],
            [
             0.2222222222222222,
             "#7201a8"
            ],
            [
             0.3333333333333333,
             "#9c179e"
            ],
            [
             0.4444444444444444,
             "#bd3786"
            ],
            [
             0.5555555555555556,
             "#d8576b"
            ],
            [
             0.6666666666666666,
             "#ed7953"
            ],
            [
             0.7777777777777778,
             "#fb9f3a"
            ],
            [
             0.8888888888888888,
             "#fdca26"
            ],
            [
             1,
             "#f0f921"
            ]
           ]
          },
          "colorway": [
           "#636efa",
           "#EF553B",
           "#00cc96",
           "#ab63fa",
           "#FFA15A",
           "#19d3f3",
           "#FF6692",
           "#B6E880",
           "#FF97FF",
           "#FECB52"
          ],
          "font": {
           "color": "#2a3f5f"
          },
          "geo": {
           "bgcolor": "white",
           "lakecolor": "white",
           "landcolor": "white",
           "showlakes": true,
           "showland": true,
           "subunitcolor": "#C8D4E3"
          },
          "hoverlabel": {
           "align": "left"
          },
          "hovermode": "closest",
          "mapbox": {
           "style": "light"
          },
          "paper_bgcolor": "white",
          "plot_bgcolor": "white",
          "polar": {
           "angularaxis": {
            "gridcolor": "#EBF0F8",
            "linecolor": "#EBF0F8",
            "ticks": ""
           },
           "bgcolor": "white",
           "radialaxis": {
            "gridcolor": "#EBF0F8",
            "linecolor": "#EBF0F8",
            "ticks": ""
           }
          },
          "scene": {
           "xaxis": {
            "backgroundcolor": "white",
            "gridcolor": "#DFE8F3",
            "gridwidth": 2,
            "linecolor": "#EBF0F8",
            "showbackground": true,
            "ticks": "",
            "zerolinecolor": "#EBF0F8"
           },
           "yaxis": {
            "backgroundcolor": "white",
            "gridcolor": "#DFE8F3",
            "gridwidth": 2,
            "linecolor": "#EBF0F8",
            "showbackground": true,
            "ticks": "",
            "zerolinecolor": "#EBF0F8"
           },
           "zaxis": {
            "backgroundcolor": "white",
            "gridcolor": "#DFE8F3",
            "gridwidth": 2,
            "linecolor": "#EBF0F8",
            "showbackground": true,
            "ticks": "",
            "zerolinecolor": "#EBF0F8"
           }
          },
          "shapedefaults": {
           "line": {
            "color": "#2a3f5f"
           }
          },
          "ternary": {
           "aaxis": {
            "gridcolor": "#DFE8F3",
            "linecolor": "#A2B1C6",
            "ticks": ""
           },
           "baxis": {
            "gridcolor": "#DFE8F3",
            "linecolor": "#A2B1C6",
            "ticks": ""
           },
           "bgcolor": "white",
           "caxis": {
            "gridcolor": "#DFE8F3",
            "linecolor": "#A2B1C6",
            "ticks": ""
           }
          },
          "title": {
           "x": 0.05
          },
          "xaxis": {
           "automargin": true,
           "gridcolor": "#EBF0F8",
           "linecolor": "#EBF0F8",
           "ticks": "",
           "title": {
            "standoff": 15
           },
           "zerolinecolor": "#EBF0F8",
           "zerolinewidth": 2
          },
          "yaxis": {
           "automargin": true,
           "gridcolor": "#EBF0F8",
           "linecolor": "#EBF0F8",
           "ticks": "",
           "title": {
            "standoff": 15
           },
           "zerolinecolor": "#EBF0F8",
           "zerolinewidth": 2
          }
         }
        }
       }
      }
     },
     "metadata": {},
     "output_type": "display_data"
    }
   ],
   "source": [
    "fig = FigureBuilder(chat).user_message_responses_flow(title=None)\n",
    "py.plot(fig, filename='User interaction flow', auto_open=False)\n",
    "fig"
   ]
  },
  {
   "attachments": {},
   "cell_type": "markdown",
   "metadata": {},
   "source": [
    "# Sentiment analysis"
   ]
  },
  {
   "attachments": {},
   "cell_type": "markdown",
   "metadata": {},
   "source": [
    "Sentiment labels"
   ]
  },
  {
   "cell_type": "code",
   "execution_count": 21,
   "metadata": {},
   "outputs": [
    {
     "data": {
      "text/html": [
       "<div>\n",
       "<style scoped>\n",
       "    .dataframe tbody tr th:only-of-type {\n",
       "        vertical-align: middle;\n",
       "    }\n",
       "\n",
       "    .dataframe tbody tr th {\n",
       "        vertical-align: top;\n",
       "    }\n",
       "\n",
       "    .dataframe thead th {\n",
       "        text-align: right;\n",
       "    }\n",
       "</style>\n",
       "<table border=\"1\" class=\"dataframe\">\n",
       "  <thead>\n",
       "    <tr style=\"text-align: right;\">\n",
       "      <th></th>\n",
       "      <th>date</th>\n",
       "      <th>username</th>\n",
       "      <th>message</th>\n",
       "      <th>clean_msg</th>\n",
       "      <th>emoji</th>\n",
       "      <th>hour</th>\n",
       "      <th>day_name</th>\n",
       "      <th>week</th>\n",
       "      <th>module_name</th>\n",
       "      <th>sentiment</th>\n",
       "    </tr>\n",
       "  </thead>\n",
       "  <tbody>\n",
       "    <tr>\n",
       "      <th>401</th>\n",
       "      <td>2023-01-25 22:06:00</td>\n",
       "      <td>valeri</td>\n",
       "      <td>&lt;Media omitted&gt;</td>\n",
       "      <td></td>\n",
       "      <td></td>\n",
       "      <td>22</td>\n",
       "      <td>Wednesday</td>\n",
       "      <td>2</td>\n",
       "      <td>Spreadsheet &amp; Statistics</td>\n",
       "      <td>neutral</td>\n",
       "    </tr>\n",
       "    <tr>\n",
       "      <th>1818</th>\n",
       "      <td>2023-03-16 19:54:00</td>\n",
       "      <td>aris</td>\n",
       "      <td>Hehe aku belum</td>\n",
       "      <td>hehe</td>\n",
       "      <td></td>\n",
       "      <td>19</td>\n",
       "      <td>Thursday</td>\n",
       "      <td>9</td>\n",
       "      <td>Group Final Project Preparation Week</td>\n",
       "      <td>neutral</td>\n",
       "    </tr>\n",
       "    <tr>\n",
       "      <th>1765</th>\n",
       "      <td>2023-03-04 11:42:00</td>\n",
       "      <td>ichsan</td>\n",
       "      <td>Mau request apa di nilai2nya ? Hahaha</td>\n",
       "      <td>request nilainya hahaha</td>\n",
       "      <td></td>\n",
       "      <td>11</td>\n",
       "      <td>Saturday</td>\n",
       "      <td>7</td>\n",
       "      <td>Python</td>\n",
       "      <td>neutral</td>\n",
       "    </tr>\n",
       "    <tr>\n",
       "      <th>1371</th>\n",
       "      <td>2023-03-08 21:14:00</td>\n",
       "      <td>valeri</td>\n",
       "      <td>Kak Jal cerita dong, jujur aja waktu jadi stud...</td>\n",
       "      <td>kak jal cerita jujur student perasaannya</td>\n",
       "      <td></td>\n",
       "      <td>21</td>\n",
       "      <td>Wednesday</td>\n",
       "      <td>8</td>\n",
       "      <td>Python</td>\n",
       "      <td>positive</td>\n",
       "    </tr>\n",
       "    <tr>\n",
       "      <th>599</th>\n",
       "      <td>2023-02-09 15:09:00</td>\n",
       "      <td>adhit</td>\n",
       "      <td>Atau poster mario sutoo</td>\n",
       "      <td>poster mario sutoo</td>\n",
       "      <td></td>\n",
       "      <td>15</td>\n",
       "      <td>Thursday</td>\n",
       "      <td>4</td>\n",
       "      <td>SQL</td>\n",
       "      <td>neutral</td>\n",
       "    </tr>\n",
       "  </tbody>\n",
       "</table>\n",
       "</div>"
      ],
      "text/plain": [
       "                    date username  \\\n",
       "401  2023-01-25 22:06:00   valeri   \n",
       "1818 2023-03-16 19:54:00     aris   \n",
       "1765 2023-03-04 11:42:00   ichsan   \n",
       "1371 2023-03-08 21:14:00   valeri   \n",
       "599  2023-02-09 15:09:00    adhit   \n",
       "\n",
       "                                                message  \\\n",
       "401                                     <Media omitted>   \n",
       "1818                                     Hehe aku belum   \n",
       "1765              Mau request apa di nilai2nya ? Hahaha   \n",
       "1371  Kak Jal cerita dong, jujur aja waktu jadi stud...   \n",
       "599                             Atau poster mario sutoo   \n",
       "\n",
       "                                     clean_msg emoji  hour   day_name  week  \\\n",
       "401                                                     22  Wednesday     2   \n",
       "1818                                      hehe          19   Thursday     9   \n",
       "1765                   request nilainya hahaha          11   Saturday     7   \n",
       "1371  kak jal cerita jujur student perasaannya          21  Wednesday     8   \n",
       "599                         poster mario sutoo          15   Thursday     4   \n",
       "\n",
       "                               module_name sentiment  \n",
       "401               Spreadsheet & Statistics   neutral  \n",
       "1818  Group Final Project Preparation Week   neutral  \n",
       "1765                                Python   neutral  \n",
       "1371                                Python  positive  \n",
       "599                                    SQL   neutral  "
      ]
     },
     "execution_count": 21,
     "metadata": {},
     "output_type": "execute_result"
    }
   ],
   "source": [
    "# create a function to get the sentiment score of an emoji\n",
    "def emosent_score(emoji, u=False):\n",
    "    score, count, em = 0, 0, []\n",
    "    for e in set(emoji):\n",
    "        try:\n",
    "            score += get_emoji_sentiment_rank(e)['sentiment_score']\n",
    "            count += 1\n",
    "        except:\n",
    "            em.append(e)\n",
    "    if u:\n",
    "        return em \n",
    "    return score/count if count > 0 else score\n",
    "\n",
    "# initialize the VADER sentiment analyzer with custom lexicon\n",
    "pos, neg = SentimentIntensityAnalyzer(), SentimentIntensityAnalyzer()\n",
    "\n",
    "pos.lexicon.clear()\n",
    "neg.lexicon.clear()\n",
    "\n",
    "pos.lexicon.update(pd.read_table('lexicon/InSet/positive.tsv').set_index('word').to_dict()['weight'])\n",
    "neg.lexicon.update(pd.read_table('lexicon/InSet/negative.tsv').set_index('word').to_dict()['weight'])\n",
    "\n",
    "chat['sentiment'] = chat.apply(lambda x: (neg.polarity_scores(\n",
    "    x['clean_msg'])['compound'] + pos.polarity_scores(\n",
    "    x['clean_msg'])['compound'] + (\n",
    "    0 if (score:=emosent_score(x['emoji'])) == 0 else score)\n",
    "    ) / ((2 if score != 0 else 1) if (neg.polarity_scores(\n",
    "    x['clean_msg'])['compound'] + pos.polarity_scores(\n",
    "    x['clean_msg'])['compound']) != 0 else 1), axis=1)\n",
    "\n",
    "# extract the compound score and label the sentiment\n",
    "chat['sentiment'] = chat['sentiment'].apply(lambda x: 'positive' if x > 0 else ('negative' if x < 0 else 'neutral'))\n",
    "\n",
    "chat.sample(5)"
   ]
  },
  {
   "attachments": {},
   "cell_type": "markdown",
   "metadata": {},
   "source": [
    "Sentiment distribution"
   ]
  },
  {
   "cell_type": "code",
   "execution_count": 22,
   "metadata": {},
   "outputs": [
    {
     "data": {
      "application/vnd.plotly.v1+json": {
       "config": {
        "plotlyServerURL": "https://plotly.com"
       },
       "data": [
        {
         "hole": 0.4,
         "labels": [
          "negative",
          "neutral",
          "positive"
         ],
         "marker": {
          "colors": [
           "#075E54",
           "#dcf8c6",
           "#25D366"
          ]
         },
         "type": "pie",
         "values": [
          516,
          891,
          722
         ]
        }
       ],
       "layout": {
        "template": {
         "data": {
          "bar": [
           {
            "error_x": {
             "color": "#2a3f5f"
            },
            "error_y": {
             "color": "#2a3f5f"
            },
            "marker": {
             "line": {
              "color": "white",
              "width": 0.5
             }
            },
            "type": "bar"
           }
          ],
          "barpolar": [
           {
            "marker": {
             "line": {
              "color": "white",
              "width": 0.5
             }
            },
            "type": "barpolar"
           }
          ],
          "carpet": [
           {
            "aaxis": {
             "endlinecolor": "#2a3f5f",
             "gridcolor": "#C8D4E3",
             "linecolor": "#C8D4E3",
             "minorgridcolor": "#C8D4E3",
             "startlinecolor": "#2a3f5f"
            },
            "baxis": {
             "endlinecolor": "#2a3f5f",
             "gridcolor": "#C8D4E3",
             "linecolor": "#C8D4E3",
             "minorgridcolor": "#C8D4E3",
             "startlinecolor": "#2a3f5f"
            },
            "type": "carpet"
           }
          ],
          "choropleth": [
           {
            "colorbar": {
             "outlinewidth": 0,
             "ticks": ""
            },
            "type": "choropleth"
           }
          ],
          "contour": [
           {
            "colorbar": {
             "outlinewidth": 0,
             "ticks": ""
            },
            "colorscale": [
             [
              0,
              "#0d0887"
             ],
             [
              0.1111111111111111,
              "#46039f"
             ],
             [
              0.2222222222222222,
              "#7201a8"
             ],
             [
              0.3333333333333333,
              "#9c179e"
             ],
             [
              0.4444444444444444,
              "#bd3786"
             ],
             [
              0.5555555555555556,
              "#d8576b"
             ],
             [
              0.6666666666666666,
              "#ed7953"
             ],
             [
              0.7777777777777778,
              "#fb9f3a"
             ],
             [
              0.8888888888888888,
              "#fdca26"
             ],
             [
              1,
              "#f0f921"
             ]
            ],
            "type": "contour"
           }
          ],
          "contourcarpet": [
           {
            "colorbar": {
             "outlinewidth": 0,
             "ticks": ""
            },
            "type": "contourcarpet"
           }
          ],
          "heatmap": [
           {
            "colorbar": {
             "outlinewidth": 0,
             "ticks": ""
            },
            "colorscale": [
             [
              0,
              "#0d0887"
             ],
             [
              0.1111111111111111,
              "#46039f"
             ],
             [
              0.2222222222222222,
              "#7201a8"
             ],
             [
              0.3333333333333333,
              "#9c179e"
             ],
             [
              0.4444444444444444,
              "#bd3786"
             ],
             [
              0.5555555555555556,
              "#d8576b"
             ],
             [
              0.6666666666666666,
              "#ed7953"
             ],
             [
              0.7777777777777778,
              "#fb9f3a"
             ],
             [
              0.8888888888888888,
              "#fdca26"
             ],
             [
              1,
              "#f0f921"
             ]
            ],
            "type": "heatmap"
           }
          ],
          "heatmapgl": [
           {
            "colorbar": {
             "outlinewidth": 0,
             "ticks": ""
            },
            "colorscale": [
             [
              0,
              "#0d0887"
             ],
             [
              0.1111111111111111,
              "#46039f"
             ],
             [
              0.2222222222222222,
              "#7201a8"
             ],
             [
              0.3333333333333333,
              "#9c179e"
             ],
             [
              0.4444444444444444,
              "#bd3786"
             ],
             [
              0.5555555555555556,
              "#d8576b"
             ],
             [
              0.6666666666666666,
              "#ed7953"
             ],
             [
              0.7777777777777778,
              "#fb9f3a"
             ],
             [
              0.8888888888888888,
              "#fdca26"
             ],
             [
              1,
              "#f0f921"
             ]
            ],
            "type": "heatmapgl"
           }
          ],
          "histogram": [
           {
            "marker": {
             "colorbar": {
              "outlinewidth": 0,
              "ticks": ""
             }
            },
            "type": "histogram"
           }
          ],
          "histogram2d": [
           {
            "colorbar": {
             "outlinewidth": 0,
             "ticks": ""
            },
            "colorscale": [
             [
              0,
              "#0d0887"
             ],
             [
              0.1111111111111111,
              "#46039f"
             ],
             [
              0.2222222222222222,
              "#7201a8"
             ],
             [
              0.3333333333333333,
              "#9c179e"
             ],
             [
              0.4444444444444444,
              "#bd3786"
             ],
             [
              0.5555555555555556,
              "#d8576b"
             ],
             [
              0.6666666666666666,
              "#ed7953"
             ],
             [
              0.7777777777777778,
              "#fb9f3a"
             ],
             [
              0.8888888888888888,
              "#fdca26"
             ],
             [
              1,
              "#f0f921"
             ]
            ],
            "type": "histogram2d"
           }
          ],
          "histogram2dcontour": [
           {
            "colorbar": {
             "outlinewidth": 0,
             "ticks": ""
            },
            "colorscale": [
             [
              0,
              "#0d0887"
             ],
             [
              0.1111111111111111,
              "#46039f"
             ],
             [
              0.2222222222222222,
              "#7201a8"
             ],
             [
              0.3333333333333333,
              "#9c179e"
             ],
             [
              0.4444444444444444,
              "#bd3786"
             ],
             [
              0.5555555555555556,
              "#d8576b"
             ],
             [
              0.6666666666666666,
              "#ed7953"
             ],
             [
              0.7777777777777778,
              "#fb9f3a"
             ],
             [
              0.8888888888888888,
              "#fdca26"
             ],
             [
              1,
              "#f0f921"
             ]
            ],
            "type": "histogram2dcontour"
           }
          ],
          "mesh3d": [
           {
            "colorbar": {
             "outlinewidth": 0,
             "ticks": ""
            },
            "type": "mesh3d"
           }
          ],
          "parcoords": [
           {
            "line": {
             "colorbar": {
              "outlinewidth": 0,
              "ticks": ""
             }
            },
            "type": "parcoords"
           }
          ],
          "pie": [
           {
            "automargin": true,
            "type": "pie"
           }
          ],
          "scatter": [
           {
            "marker": {
             "colorbar": {
              "outlinewidth": 0,
              "ticks": ""
             }
            },
            "type": "scatter"
           }
          ],
          "scatter3d": [
           {
            "line": {
             "colorbar": {
              "outlinewidth": 0,
              "ticks": ""
             }
            },
            "marker": {
             "colorbar": {
              "outlinewidth": 0,
              "ticks": ""
             }
            },
            "type": "scatter3d"
           }
          ],
          "scattercarpet": [
           {
            "marker": {
             "colorbar": {
              "outlinewidth": 0,
              "ticks": ""
             }
            },
            "type": "scattercarpet"
           }
          ],
          "scattergeo": [
           {
            "marker": {
             "colorbar": {
              "outlinewidth": 0,
              "ticks": ""
             }
            },
            "type": "scattergeo"
           }
          ],
          "scattergl": [
           {
            "marker": {
             "colorbar": {
              "outlinewidth": 0,
              "ticks": ""
             }
            },
            "type": "scattergl"
           }
          ],
          "scattermapbox": [
           {
            "marker": {
             "colorbar": {
              "outlinewidth": 0,
              "ticks": ""
             }
            },
            "type": "scattermapbox"
           }
          ],
          "scatterpolar": [
           {
            "marker": {
             "colorbar": {
              "outlinewidth": 0,
              "ticks": ""
             }
            },
            "type": "scatterpolar"
           }
          ],
          "scatterpolargl": [
           {
            "marker": {
             "colorbar": {
              "outlinewidth": 0,
              "ticks": ""
             }
            },
            "type": "scatterpolargl"
           }
          ],
          "scatterternary": [
           {
            "marker": {
             "colorbar": {
              "outlinewidth": 0,
              "ticks": ""
             }
            },
            "type": "scatterternary"
           }
          ],
          "surface": [
           {
            "colorbar": {
             "outlinewidth": 0,
             "ticks": ""
            },
            "colorscale": [
             [
              0,
              "#0d0887"
             ],
             [
              0.1111111111111111,
              "#46039f"
             ],
             [
              0.2222222222222222,
              "#7201a8"
             ],
             [
              0.3333333333333333,
              "#9c179e"
             ],
             [
              0.4444444444444444,
              "#bd3786"
             ],
             [
              0.5555555555555556,
              "#d8576b"
             ],
             [
              0.6666666666666666,
              "#ed7953"
             ],
             [
              0.7777777777777778,
              "#fb9f3a"
             ],
             [
              0.8888888888888888,
              "#fdca26"
             ],
             [
              1,
              "#f0f921"
             ]
            ],
            "type": "surface"
           }
          ],
          "table": [
           {
            "cells": {
             "fill": {
              "color": "#EBF0F8"
             },
             "line": {
              "color": "white"
             }
            },
            "header": {
             "fill": {
              "color": "#C8D4E3"
             },
             "line": {
              "color": "white"
             }
            },
            "type": "table"
           }
          ]
         },
         "layout": {
          "annotationdefaults": {
           "arrowcolor": "#2a3f5f",
           "arrowhead": 0,
           "arrowwidth": 1
          },
          "autotypenumbers": "strict",
          "coloraxis": {
           "colorbar": {
            "outlinewidth": 0,
            "ticks": ""
           }
          },
          "colorscale": {
           "diverging": [
            [
             0,
             "#8e0152"
            ],
            [
             0.1,
             "#c51b7d"
            ],
            [
             0.2,
             "#de77ae"
            ],
            [
             0.3,
             "#f1b6da"
            ],
            [
             0.4,
             "#fde0ef"
            ],
            [
             0.5,
             "#f7f7f7"
            ],
            [
             0.6,
             "#e6f5d0"
            ],
            [
             0.7,
             "#b8e186"
            ],
            [
             0.8,
             "#7fbc41"
            ],
            [
             0.9,
             "#4d9221"
            ],
            [
             1,
             "#276419"
            ]
           ],
           "sequential": [
            [
             0,
             "#0d0887"
            ],
            [
             0.1111111111111111,
             "#46039f"
            ],
            [
             0.2222222222222222,
             "#7201a8"
            ],
            [
             0.3333333333333333,
             "#9c179e"
            ],
            [
             0.4444444444444444,
             "#bd3786"
            ],
            [
             0.5555555555555556,
             "#d8576b"
            ],
            [
             0.6666666666666666,
             "#ed7953"
            ],
            [
             0.7777777777777778,
             "#fb9f3a"
            ],
            [
             0.8888888888888888,
             "#fdca26"
            ],
            [
             1,
             "#f0f921"
            ]
           ],
           "sequentialminus": [
            [
             0,
             "#0d0887"
            ],
            [
             0.1111111111111111,
             "#46039f"
            ],
            [
             0.2222222222222222,
             "#7201a8"
            ],
            [
             0.3333333333333333,
             "#9c179e"
            ],
            [
             0.4444444444444444,
             "#bd3786"
            ],
            [
             0.5555555555555556,
             "#d8576b"
            ],
            [
             0.6666666666666666,
             "#ed7953"
            ],
            [
             0.7777777777777778,
             "#fb9f3a"
            ],
            [
             0.8888888888888888,
             "#fdca26"
            ],
            [
             1,
             "#f0f921"
            ]
           ]
          },
          "colorway": [
           "#636efa",
           "#EF553B",
           "#00cc96",
           "#ab63fa",
           "#FFA15A",
           "#19d3f3",
           "#FF6692",
           "#B6E880",
           "#FF97FF",
           "#FECB52"
          ],
          "font": {
           "color": "#2a3f5f"
          },
          "geo": {
           "bgcolor": "white",
           "lakecolor": "white",
           "landcolor": "white",
           "showlakes": true,
           "showland": true,
           "subunitcolor": "#C8D4E3"
          },
          "hoverlabel": {
           "align": "left"
          },
          "hovermode": "closest",
          "mapbox": {
           "style": "light"
          },
          "paper_bgcolor": "white",
          "plot_bgcolor": "white",
          "polar": {
           "angularaxis": {
            "gridcolor": "#EBF0F8",
            "linecolor": "#EBF0F8",
            "ticks": ""
           },
           "bgcolor": "white",
           "radialaxis": {
            "gridcolor": "#EBF0F8",
            "linecolor": "#EBF0F8",
            "ticks": ""
           }
          },
          "scene": {
           "xaxis": {
            "backgroundcolor": "white",
            "gridcolor": "#DFE8F3",
            "gridwidth": 2,
            "linecolor": "#EBF0F8",
            "showbackground": true,
            "ticks": "",
            "zerolinecolor": "#EBF0F8"
           },
           "yaxis": {
            "backgroundcolor": "white",
            "gridcolor": "#DFE8F3",
            "gridwidth": 2,
            "linecolor": "#EBF0F8",
            "showbackground": true,
            "ticks": "",
            "zerolinecolor": "#EBF0F8"
           },
           "zaxis": {
            "backgroundcolor": "white",
            "gridcolor": "#DFE8F3",
            "gridwidth": 2,
            "linecolor": "#EBF0F8",
            "showbackground": true,
            "ticks": "",
            "zerolinecolor": "#EBF0F8"
           }
          },
          "shapedefaults": {
           "line": {
            "color": "#2a3f5f"
           }
          },
          "ternary": {
           "aaxis": {
            "gridcolor": "#DFE8F3",
            "linecolor": "#A2B1C6",
            "ticks": ""
           },
           "baxis": {
            "gridcolor": "#DFE8F3",
            "linecolor": "#A2B1C6",
            "ticks": ""
           },
           "bgcolor": "white",
           "caxis": {
            "gridcolor": "#DFE8F3",
            "linecolor": "#A2B1C6",
            "ticks": ""
           }
          },
          "title": {
           "x": 0.05
          },
          "xaxis": {
           "automargin": true,
           "gridcolor": "#EBF0F8",
           "linecolor": "#EBF0F8",
           "ticks": "",
           "title": {
            "standoff": 15
           },
           "zerolinecolor": "#EBF0F8",
           "zerolinewidth": 2
          },
          "yaxis": {
           "automargin": true,
           "gridcolor": "#EBF0F8",
           "linecolor": "#EBF0F8",
           "ticks": "",
           "title": {
            "standoff": 15
           },
           "zerolinecolor": "#EBF0F8",
           "zerolinewidth": 2
          }
         }
        }
       }
      }
     },
     "metadata": {},
     "output_type": "display_data"
    }
   ],
   "source": [
    "fig = go.Figure(data=go.Pie(labels=chat.groupby('sentiment').count()[['message']].reset_index()['sentiment'],\n",
    "                            values=chat.groupby('sentiment').count()[['message']].reset_index()['message'],\n",
    "                            hole=.4, marker=dict(colors=['#075E54','#dcf8c6', '#25D366', ])))\n",
    "py.plot(fig, filename='Sentiment distribution', auto_open=False)\n",
    "fig"
   ]
  },
  {
   "attachments": {},
   "cell_type": "markdown",
   "metadata": {},
   "source": [
    "Standardized user message sentiment heatmap"
   ]
  },
  {
   "cell_type": "code",
   "execution_count": 23,
   "metadata": {},
   "outputs": [
    {
     "data": {
      "application/vnd.plotly.v1+json": {
       "config": {
        "plotlyServerURL": "https://plotly.com"
       },
       "data": [
        {
         "colorscale": [
          [
           0,
           "rgb(247,252,245)"
          ],
          [
           0.125,
           "rgb(229,245,224)"
          ],
          [
           0.25,
           "rgb(199,233,192)"
          ],
          [
           0.375,
           "rgb(161,217,155)"
          ],
          [
           0.5,
           "rgb(116,196,118)"
          ],
          [
           0.625,
           "rgb(65,171,93)"
          ],
          [
           0.75,
           "rgb(35,139,69)"
          ],
          [
           0.875,
           "rgb(0,109,44)"
          ],
          [
           1,
           "rgb(0,68,27)"
          ]
         ],
         "hovertemplate": "Interventions<extra>%{z}</extra>",
         "type": "heatmap",
         "x": [
          "adhit",
          "alex",
          "alit_gor",
          "alit_jak",
          "aris",
          "ely",
          "erland",
          "fawaz",
          "ichsan",
          "kajal",
          "mirza",
          "rika",
          "valeri"
         ],
         "y": [
          "negative",
          "neutral",
          "positive"
         ],
         "z": [
          [
           -1.034224469428449,
           -1.1706691766863613,
           -0.8053872662568292,
           -0.6520712004019966,
           -1.1859989066577619,
           -1.2247448713915892,
           0.14128895986916623,
           -1.3363062095621219,
           -0.5929994533288809,
           -1.209112416851944,
           -1.1769646985527409,
           -1.3235012765914027,
           -1.3749875670812477
          ],
          [
           -0.31822291367029215,
           -0.10179731971185743,
           1.409427715949451,
           1.4128209342043259,
           1.260123838323872,
           1.2247448713915892,
           1.147972798936974,
           1.0690449676496978,
           -0.8153742483272113,
           1.2398005492593542,
           1.2675004445952591,
           1.0933271415320285,
           0.4010380403986973
          ],
          [
           1.3524473830987407,
           1.272466496398219,
           -0.6040404496926219,
           -0.7607497338023294,
           -0.07412493166611012,
           0,
           -1.2892617588061395,
           0.2672612419124245,
           1.4083737016560922,
           -0.030688132407409578,
           -0.09053574604251868,
           0.2301741350593745,
           0.9739495266825505
          ]
         ]
        }
       ],
       "layout": {
        "template": {
         "data": {
          "bar": [
           {
            "error_x": {
             "color": "#2a3f5f"
            },
            "error_y": {
             "color": "#2a3f5f"
            },
            "marker": {
             "line": {
              "color": "white",
              "width": 0.5
             }
            },
            "type": "bar"
           }
          ],
          "barpolar": [
           {
            "marker": {
             "line": {
              "color": "white",
              "width": 0.5
             }
            },
            "type": "barpolar"
           }
          ],
          "carpet": [
           {
            "aaxis": {
             "endlinecolor": "#2a3f5f",
             "gridcolor": "#C8D4E3",
             "linecolor": "#C8D4E3",
             "minorgridcolor": "#C8D4E3",
             "startlinecolor": "#2a3f5f"
            },
            "baxis": {
             "endlinecolor": "#2a3f5f",
             "gridcolor": "#C8D4E3",
             "linecolor": "#C8D4E3",
             "minorgridcolor": "#C8D4E3",
             "startlinecolor": "#2a3f5f"
            },
            "type": "carpet"
           }
          ],
          "choropleth": [
           {
            "colorbar": {
             "outlinewidth": 0,
             "ticks": ""
            },
            "type": "choropleth"
           }
          ],
          "contour": [
           {
            "colorbar": {
             "outlinewidth": 0,
             "ticks": ""
            },
            "colorscale": [
             [
              0,
              "#0d0887"
             ],
             [
              0.1111111111111111,
              "#46039f"
             ],
             [
              0.2222222222222222,
              "#7201a8"
             ],
             [
              0.3333333333333333,
              "#9c179e"
             ],
             [
              0.4444444444444444,
              "#bd3786"
             ],
             [
              0.5555555555555556,
              "#d8576b"
             ],
             [
              0.6666666666666666,
              "#ed7953"
             ],
             [
              0.7777777777777778,
              "#fb9f3a"
             ],
             [
              0.8888888888888888,
              "#fdca26"
             ],
             [
              1,
              "#f0f921"
             ]
            ],
            "type": "contour"
           }
          ],
          "contourcarpet": [
           {
            "colorbar": {
             "outlinewidth": 0,
             "ticks": ""
            },
            "type": "contourcarpet"
           }
          ],
          "heatmap": [
           {
            "colorbar": {
             "outlinewidth": 0,
             "ticks": ""
            },
            "colorscale": [
             [
              0,
              "#0d0887"
             ],
             [
              0.1111111111111111,
              "#46039f"
             ],
             [
              0.2222222222222222,
              "#7201a8"
             ],
             [
              0.3333333333333333,
              "#9c179e"
             ],
             [
              0.4444444444444444,
              "#bd3786"
             ],
             [
              0.5555555555555556,
              "#d8576b"
             ],
             [
              0.6666666666666666,
              "#ed7953"
             ],
             [
              0.7777777777777778,
              "#fb9f3a"
             ],
             [
              0.8888888888888888,
              "#fdca26"
             ],
             [
              1,
              "#f0f921"
             ]
            ],
            "type": "heatmap"
           }
          ],
          "heatmapgl": [
           {
            "colorbar": {
             "outlinewidth": 0,
             "ticks": ""
            },
            "colorscale": [
             [
              0,
              "#0d0887"
             ],
             [
              0.1111111111111111,
              "#46039f"
             ],
             [
              0.2222222222222222,
              "#7201a8"
             ],
             [
              0.3333333333333333,
              "#9c179e"
             ],
             [
              0.4444444444444444,
              "#bd3786"
             ],
             [
              0.5555555555555556,
              "#d8576b"
             ],
             [
              0.6666666666666666,
              "#ed7953"
             ],
             [
              0.7777777777777778,
              "#fb9f3a"
             ],
             [
              0.8888888888888888,
              "#fdca26"
             ],
             [
              1,
              "#f0f921"
             ]
            ],
            "type": "heatmapgl"
           }
          ],
          "histogram": [
           {
            "marker": {
             "colorbar": {
              "outlinewidth": 0,
              "ticks": ""
             }
            },
            "type": "histogram"
           }
          ],
          "histogram2d": [
           {
            "colorbar": {
             "outlinewidth": 0,
             "ticks": ""
            },
            "colorscale": [
             [
              0,
              "#0d0887"
             ],
             [
              0.1111111111111111,
              "#46039f"
             ],
             [
              0.2222222222222222,
              "#7201a8"
             ],
             [
              0.3333333333333333,
              "#9c179e"
             ],
             [
              0.4444444444444444,
              "#bd3786"
             ],
             [
              0.5555555555555556,
              "#d8576b"
             ],
             [
              0.6666666666666666,
              "#ed7953"
             ],
             [
              0.7777777777777778,
              "#fb9f3a"
             ],
             [
              0.8888888888888888,
              "#fdca26"
             ],
             [
              1,
              "#f0f921"
             ]
            ],
            "type": "histogram2d"
           }
          ],
          "histogram2dcontour": [
           {
            "colorbar": {
             "outlinewidth": 0,
             "ticks": ""
            },
            "colorscale": [
             [
              0,
              "#0d0887"
             ],
             [
              0.1111111111111111,
              "#46039f"
             ],
             [
              0.2222222222222222,
              "#7201a8"
             ],
             [
              0.3333333333333333,
              "#9c179e"
             ],
             [
              0.4444444444444444,
              "#bd3786"
             ],
             [
              0.5555555555555556,
              "#d8576b"
             ],
             [
              0.6666666666666666,
              "#ed7953"
             ],
             [
              0.7777777777777778,
              "#fb9f3a"
             ],
             [
              0.8888888888888888,
              "#fdca26"
             ],
             [
              1,
              "#f0f921"
             ]
            ],
            "type": "histogram2dcontour"
           }
          ],
          "mesh3d": [
           {
            "colorbar": {
             "outlinewidth": 0,
             "ticks": ""
            },
            "type": "mesh3d"
           }
          ],
          "parcoords": [
           {
            "line": {
             "colorbar": {
              "outlinewidth": 0,
              "ticks": ""
             }
            },
            "type": "parcoords"
           }
          ],
          "pie": [
           {
            "automargin": true,
            "type": "pie"
           }
          ],
          "scatter": [
           {
            "marker": {
             "colorbar": {
              "outlinewidth": 0,
              "ticks": ""
             }
            },
            "type": "scatter"
           }
          ],
          "scatter3d": [
           {
            "line": {
             "colorbar": {
              "outlinewidth": 0,
              "ticks": ""
             }
            },
            "marker": {
             "colorbar": {
              "outlinewidth": 0,
              "ticks": ""
             }
            },
            "type": "scatter3d"
           }
          ],
          "scattercarpet": [
           {
            "marker": {
             "colorbar": {
              "outlinewidth": 0,
              "ticks": ""
             }
            },
            "type": "scattercarpet"
           }
          ],
          "scattergeo": [
           {
            "marker": {
             "colorbar": {
              "outlinewidth": 0,
              "ticks": ""
             }
            },
            "type": "scattergeo"
           }
          ],
          "scattergl": [
           {
            "marker": {
             "colorbar": {
              "outlinewidth": 0,
              "ticks": ""
             }
            },
            "type": "scattergl"
           }
          ],
          "scattermapbox": [
           {
            "marker": {
             "colorbar": {
              "outlinewidth": 0,
              "ticks": ""
             }
            },
            "type": "scattermapbox"
           }
          ],
          "scatterpolar": [
           {
            "marker": {
             "colorbar": {
              "outlinewidth": 0,
              "ticks": ""
             }
            },
            "type": "scatterpolar"
           }
          ],
          "scatterpolargl": [
           {
            "marker": {
             "colorbar": {
              "outlinewidth": 0,
              "ticks": ""
             }
            },
            "type": "scatterpolargl"
           }
          ],
          "scatterternary": [
           {
            "marker": {
             "colorbar": {
              "outlinewidth": 0,
              "ticks": ""
             }
            },
            "type": "scatterternary"
           }
          ],
          "surface": [
           {
            "colorbar": {
             "outlinewidth": 0,
             "ticks": ""
            },
            "colorscale": [
             [
              0,
              "#0d0887"
             ],
             [
              0.1111111111111111,
              "#46039f"
             ],
             [
              0.2222222222222222,
              "#7201a8"
             ],
             [
              0.3333333333333333,
              "#9c179e"
             ],
             [
              0.4444444444444444,
              "#bd3786"
             ],
             [
              0.5555555555555556,
              "#d8576b"
             ],
             [
              0.6666666666666666,
              "#ed7953"
             ],
             [
              0.7777777777777778,
              "#fb9f3a"
             ],
             [
              0.8888888888888888,
              "#fdca26"
             ],
             [
              1,
              "#f0f921"
             ]
            ],
            "type": "surface"
           }
          ],
          "table": [
           {
            "cells": {
             "fill": {
              "color": "#EBF0F8"
             },
             "line": {
              "color": "white"
             }
            },
            "header": {
             "fill": {
              "color": "#C8D4E3"
             },
             "line": {
              "color": "white"
             }
            },
            "type": "table"
           }
          ]
         },
         "layout": {
          "annotationdefaults": {
           "arrowcolor": "#2a3f5f",
           "arrowhead": 0,
           "arrowwidth": 1
          },
          "autotypenumbers": "strict",
          "coloraxis": {
           "colorbar": {
            "outlinewidth": 0,
            "ticks": ""
           }
          },
          "colorscale": {
           "diverging": [
            [
             0,
             "#8e0152"
            ],
            [
             0.1,
             "#c51b7d"
            ],
            [
             0.2,
             "#de77ae"
            ],
            [
             0.3,
             "#f1b6da"
            ],
            [
             0.4,
             "#fde0ef"
            ],
            [
             0.5,
             "#f7f7f7"
            ],
            [
             0.6,
             "#e6f5d0"
            ],
            [
             0.7,
             "#b8e186"
            ],
            [
             0.8,
             "#7fbc41"
            ],
            [
             0.9,
             "#4d9221"
            ],
            [
             1,
             "#276419"
            ]
           ],
           "sequential": [
            [
             0,
             "#0d0887"
            ],
            [
             0.1111111111111111,
             "#46039f"
            ],
            [
             0.2222222222222222,
             "#7201a8"
            ],
            [
             0.3333333333333333,
             "#9c179e"
            ],
            [
             0.4444444444444444,
             "#bd3786"
            ],
            [
             0.5555555555555556,
             "#d8576b"
            ],
            [
             0.6666666666666666,
             "#ed7953"
            ],
            [
             0.7777777777777778,
             "#fb9f3a"
            ],
            [
             0.8888888888888888,
             "#fdca26"
            ],
            [
             1,
             "#f0f921"
            ]
           ],
           "sequentialminus": [
            [
             0,
             "#0d0887"
            ],
            [
             0.1111111111111111,
             "#46039f"
            ],
            [
             0.2222222222222222,
             "#7201a8"
            ],
            [
             0.3333333333333333,
             "#9c179e"
            ],
            [
             0.4444444444444444,
             "#bd3786"
            ],
            [
             0.5555555555555556,
             "#d8576b"
            ],
            [
             0.6666666666666666,
             "#ed7953"
            ],
            [
             0.7777777777777778,
             "#fb9f3a"
            ],
            [
             0.8888888888888888,
             "#fdca26"
            ],
            [
             1,
             "#f0f921"
            ]
           ]
          },
          "colorway": [
           "#636efa",
           "#EF553B",
           "#00cc96",
           "#ab63fa",
           "#FFA15A",
           "#19d3f3",
           "#FF6692",
           "#B6E880",
           "#FF97FF",
           "#FECB52"
          ],
          "font": {
           "color": "#2a3f5f"
          },
          "geo": {
           "bgcolor": "white",
           "lakecolor": "white",
           "landcolor": "white",
           "showlakes": true,
           "showland": true,
           "subunitcolor": "#C8D4E3"
          },
          "hoverlabel": {
           "align": "left"
          },
          "hovermode": "closest",
          "mapbox": {
           "style": "light"
          },
          "paper_bgcolor": "white",
          "plot_bgcolor": "white",
          "polar": {
           "angularaxis": {
            "gridcolor": "#EBF0F8",
            "linecolor": "#EBF0F8",
            "ticks": ""
           },
           "bgcolor": "white",
           "radialaxis": {
            "gridcolor": "#EBF0F8",
            "linecolor": "#EBF0F8",
            "ticks": ""
           }
          },
          "scene": {
           "xaxis": {
            "backgroundcolor": "white",
            "gridcolor": "#DFE8F3",
            "gridwidth": 2,
            "linecolor": "#EBF0F8",
            "showbackground": true,
            "ticks": "",
            "zerolinecolor": "#EBF0F8"
           },
           "yaxis": {
            "backgroundcolor": "white",
            "gridcolor": "#DFE8F3",
            "gridwidth": 2,
            "linecolor": "#EBF0F8",
            "showbackground": true,
            "ticks": "",
            "zerolinecolor": "#EBF0F8"
           },
           "zaxis": {
            "backgroundcolor": "white",
            "gridcolor": "#DFE8F3",
            "gridwidth": 2,
            "linecolor": "#EBF0F8",
            "showbackground": true,
            "ticks": "",
            "zerolinecolor": "#EBF0F8"
           }
          },
          "shapedefaults": {
           "line": {
            "color": "#2a3f5f"
           }
          },
          "ternary": {
           "aaxis": {
            "gridcolor": "#DFE8F3",
            "linecolor": "#A2B1C6",
            "ticks": ""
           },
           "baxis": {
            "gridcolor": "#DFE8F3",
            "linecolor": "#A2B1C6",
            "ticks": ""
           },
           "bgcolor": "white",
           "caxis": {
            "gridcolor": "#DFE8F3",
            "linecolor": "#A2B1C6",
            "ticks": ""
           }
          },
          "title": {
           "x": 0.05
          },
          "xaxis": {
           "automargin": true,
           "gridcolor": "#EBF0F8",
           "linecolor": "#EBF0F8",
           "ticks": "",
           "title": {
            "standoff": 15
           },
           "zerolinecolor": "#EBF0F8",
           "zerolinewidth": 2
          },
          "yaxis": {
           "automargin": true,
           "gridcolor": "#EBF0F8",
           "linecolor": "#EBF0F8",
           "ticks": "",
           "title": {
            "standoff": 15
           },
           "zerolinecolor": "#EBF0F8",
           "zerolinewidth": 2
          }
         }
        }
       }
      }
     },
     "metadata": {},
     "output_type": "display_data"
    }
   ],
   "source": [
    "pivot = pd.pivot_table(chat, index='sentiment', columns='username', values='message', aggfunc='count').apply(zscore)\n",
    "heatmap = go.Heatmap(z=pivot.values,\n",
    "                     x=pivot.columns,\n",
    "                     y=pivot.index,\n",
    "                     hovertemplate='Interventions<extra>%{z}</extra>',\n",
    "                     colorscale='Greens')\n",
    "fig = go.Figure(data=[heatmap])\n",
    "py.plot(fig, filename='User message sentiment heatmap', auto_open=False)\n",
    "fig"
   ]
  },
  {
   "attachments": {},
   "cell_type": "markdown",
   "metadata": {},
   "source": [
    "Module sentiment heatmap"
   ]
  },
  {
   "cell_type": "code",
   "execution_count": 24,
   "metadata": {},
   "outputs": [
    {
     "data": {
      "application/vnd.plotly.v1+json": {
       "config": {
        "plotlyServerURL": "https://plotly.com"
       },
       "data": [
        {
         "colorscale": [
          [
           0,
           "rgb(247,252,245)"
          ],
          [
           0.125,
           "rgb(229,245,224)"
          ],
          [
           0.25,
           "rgb(199,233,192)"
          ],
          [
           0.375,
           "rgb(161,217,155)"
          ],
          [
           0.5,
           "rgb(116,196,118)"
          ],
          [
           0.625,
           "rgb(65,171,93)"
          ],
          [
           0.75,
           "rgb(35,139,69)"
          ],
          [
           0.875,
           "rgb(0,109,44)"
          ],
          [
           1,
           "rgb(0,68,27)"
          ]
         ],
         "hovertemplate": "Interventions count<extra>%{z}</extra>",
         "type": "heatmap",
         "x": [
          "negative",
          "neutral",
          "positive"
         ],
         "y": [
          "Data Communication",
          "Data Visualization",
          "Group Final Project Preparation Week",
          "Introduction & Orientation",
          "Pitching Week",
          "Python",
          "SQL",
          "Spreadsheet & Statistics",
          "Understanding Business Problems"
         ],
         "z": [
          [
           14,
           43,
           32
          ],
          [
           18,
           38,
           41
          ],
          [
           14,
           26,
           16
          ],
          [
           18,
           26,
           30
          ],
          [
           103,
           153,
           127
          ],
          [
           206,
           309,
           184
          ],
          [
           54,
           90,
           88
          ],
          [
           49,
           100,
           101
          ],
          [
           32,
           76,
           65
          ]
         ]
        }
       ],
       "layout": {
        "template": {
         "data": {
          "bar": [
           {
            "error_x": {
             "color": "#2a3f5f"
            },
            "error_y": {
             "color": "#2a3f5f"
            },
            "marker": {
             "line": {
              "color": "white",
              "width": 0.5
             }
            },
            "type": "bar"
           }
          ],
          "barpolar": [
           {
            "marker": {
             "line": {
              "color": "white",
              "width": 0.5
             }
            },
            "type": "barpolar"
           }
          ],
          "carpet": [
           {
            "aaxis": {
             "endlinecolor": "#2a3f5f",
             "gridcolor": "#C8D4E3",
             "linecolor": "#C8D4E3",
             "minorgridcolor": "#C8D4E3",
             "startlinecolor": "#2a3f5f"
            },
            "baxis": {
             "endlinecolor": "#2a3f5f",
             "gridcolor": "#C8D4E3",
             "linecolor": "#C8D4E3",
             "minorgridcolor": "#C8D4E3",
             "startlinecolor": "#2a3f5f"
            },
            "type": "carpet"
           }
          ],
          "choropleth": [
           {
            "colorbar": {
             "outlinewidth": 0,
             "ticks": ""
            },
            "type": "choropleth"
           }
          ],
          "contour": [
           {
            "colorbar": {
             "outlinewidth": 0,
             "ticks": ""
            },
            "colorscale": [
             [
              0,
              "#0d0887"
             ],
             [
              0.1111111111111111,
              "#46039f"
             ],
             [
              0.2222222222222222,
              "#7201a8"
             ],
             [
              0.3333333333333333,
              "#9c179e"
             ],
             [
              0.4444444444444444,
              "#bd3786"
             ],
             [
              0.5555555555555556,
              "#d8576b"
             ],
             [
              0.6666666666666666,
              "#ed7953"
             ],
             [
              0.7777777777777778,
              "#fb9f3a"
             ],
             [
              0.8888888888888888,
              "#fdca26"
             ],
             [
              1,
              "#f0f921"
             ]
            ],
            "type": "contour"
           }
          ],
          "contourcarpet": [
           {
            "colorbar": {
             "outlinewidth": 0,
             "ticks": ""
            },
            "type": "contourcarpet"
           }
          ],
          "heatmap": [
           {
            "colorbar": {
             "outlinewidth": 0,
             "ticks": ""
            },
            "colorscale": [
             [
              0,
              "#0d0887"
             ],
             [
              0.1111111111111111,
              "#46039f"
             ],
             [
              0.2222222222222222,
              "#7201a8"
             ],
             [
              0.3333333333333333,
              "#9c179e"
             ],
             [
              0.4444444444444444,
              "#bd3786"
             ],
             [
              0.5555555555555556,
              "#d8576b"
             ],
             [
              0.6666666666666666,
              "#ed7953"
             ],
             [
              0.7777777777777778,
              "#fb9f3a"
             ],
             [
              0.8888888888888888,
              "#fdca26"
             ],
             [
              1,
              "#f0f921"
             ]
            ],
            "type": "heatmap"
           }
          ],
          "heatmapgl": [
           {
            "colorbar": {
             "outlinewidth": 0,
             "ticks": ""
            },
            "colorscale": [
             [
              0,
              "#0d0887"
             ],
             [
              0.1111111111111111,
              "#46039f"
             ],
             [
              0.2222222222222222,
              "#7201a8"
             ],
             [
              0.3333333333333333,
              "#9c179e"
             ],
             [
              0.4444444444444444,
              "#bd3786"
             ],
             [
              0.5555555555555556,
              "#d8576b"
             ],
             [
              0.6666666666666666,
              "#ed7953"
             ],
             [
              0.7777777777777778,
              "#fb9f3a"
             ],
             [
              0.8888888888888888,
              "#fdca26"
             ],
             [
              1,
              "#f0f921"
             ]
            ],
            "type": "heatmapgl"
           }
          ],
          "histogram": [
           {
            "marker": {
             "colorbar": {
              "outlinewidth": 0,
              "ticks": ""
             }
            },
            "type": "histogram"
           }
          ],
          "histogram2d": [
           {
            "colorbar": {
             "outlinewidth": 0,
             "ticks": ""
            },
            "colorscale": [
             [
              0,
              "#0d0887"
             ],
             [
              0.1111111111111111,
              "#46039f"
             ],
             [
              0.2222222222222222,
              "#7201a8"
             ],
             [
              0.3333333333333333,
              "#9c179e"
             ],
             [
              0.4444444444444444,
              "#bd3786"
             ],
             [
              0.5555555555555556,
              "#d8576b"
             ],
             [
              0.6666666666666666,
              "#ed7953"
             ],
             [
              0.7777777777777778,
              "#fb9f3a"
             ],
             [
              0.8888888888888888,
              "#fdca26"
             ],
             [
              1,
              "#f0f921"
             ]
            ],
            "type": "histogram2d"
           }
          ],
          "histogram2dcontour": [
           {
            "colorbar": {
             "outlinewidth": 0,
             "ticks": ""
            },
            "colorscale": [
             [
              0,
              "#0d0887"
             ],
             [
              0.1111111111111111,
              "#46039f"
             ],
             [
              0.2222222222222222,
              "#7201a8"
             ],
             [
              0.3333333333333333,
              "#9c179e"
             ],
             [
              0.4444444444444444,
              "#bd3786"
             ],
             [
              0.5555555555555556,
              "#d8576b"
             ],
             [
              0.6666666666666666,
              "#ed7953"
             ],
             [
              0.7777777777777778,
              "#fb9f3a"
             ],
             [
              0.8888888888888888,
              "#fdca26"
             ],
             [
              1,
              "#f0f921"
             ]
            ],
            "type": "histogram2dcontour"
           }
          ],
          "mesh3d": [
           {
            "colorbar": {
             "outlinewidth": 0,
             "ticks": ""
            },
            "type": "mesh3d"
           }
          ],
          "parcoords": [
           {
            "line": {
             "colorbar": {
              "outlinewidth": 0,
              "ticks": ""
             }
            },
            "type": "parcoords"
           }
          ],
          "pie": [
           {
            "automargin": true,
            "type": "pie"
           }
          ],
          "scatter": [
           {
            "marker": {
             "colorbar": {
              "outlinewidth": 0,
              "ticks": ""
             }
            },
            "type": "scatter"
           }
          ],
          "scatter3d": [
           {
            "line": {
             "colorbar": {
              "outlinewidth": 0,
              "ticks": ""
             }
            },
            "marker": {
             "colorbar": {
              "outlinewidth": 0,
              "ticks": ""
             }
            },
            "type": "scatter3d"
           }
          ],
          "scattercarpet": [
           {
            "marker": {
             "colorbar": {
              "outlinewidth": 0,
              "ticks": ""
             }
            },
            "type": "scattercarpet"
           }
          ],
          "scattergeo": [
           {
            "marker": {
             "colorbar": {
              "outlinewidth": 0,
              "ticks": ""
             }
            },
            "type": "scattergeo"
           }
          ],
          "scattergl": [
           {
            "marker": {
             "colorbar": {
              "outlinewidth": 0,
              "ticks": ""
             }
            },
            "type": "scattergl"
           }
          ],
          "scattermapbox": [
           {
            "marker": {
             "colorbar": {
              "outlinewidth": 0,
              "ticks": ""
             }
            },
            "type": "scattermapbox"
           }
          ],
          "scatterpolar": [
           {
            "marker": {
             "colorbar": {
              "outlinewidth": 0,
              "ticks": ""
             }
            },
            "type": "scatterpolar"
           }
          ],
          "scatterpolargl": [
           {
            "marker": {
             "colorbar": {
              "outlinewidth": 0,
              "ticks": ""
             }
            },
            "type": "scatterpolargl"
           }
          ],
          "scatterternary": [
           {
            "marker": {
             "colorbar": {
              "outlinewidth": 0,
              "ticks": ""
             }
            },
            "type": "scatterternary"
           }
          ],
          "surface": [
           {
            "colorbar": {
             "outlinewidth": 0,
             "ticks": ""
            },
            "colorscale": [
             [
              0,
              "#0d0887"
             ],
             [
              0.1111111111111111,
              "#46039f"
             ],
             [
              0.2222222222222222,
              "#7201a8"
             ],
             [
              0.3333333333333333,
              "#9c179e"
             ],
             [
              0.4444444444444444,
              "#bd3786"
             ],
             [
              0.5555555555555556,
              "#d8576b"
             ],
             [
              0.6666666666666666,
              "#ed7953"
             ],
             [
              0.7777777777777778,
              "#fb9f3a"
             ],
             [
              0.8888888888888888,
              "#fdca26"
             ],
             [
              1,
              "#f0f921"
             ]
            ],
            "type": "surface"
           }
          ],
          "table": [
           {
            "cells": {
             "fill": {
              "color": "#EBF0F8"
             },
             "line": {
              "color": "white"
             }
            },
            "header": {
             "fill": {
              "color": "#C8D4E3"
             },
             "line": {
              "color": "white"
             }
            },
            "type": "table"
           }
          ]
         },
         "layout": {
          "annotationdefaults": {
           "arrowcolor": "#2a3f5f",
           "arrowhead": 0,
           "arrowwidth": 1
          },
          "autotypenumbers": "strict",
          "coloraxis": {
           "colorbar": {
            "outlinewidth": 0,
            "ticks": ""
           }
          },
          "colorscale": {
           "diverging": [
            [
             0,
             "#8e0152"
            ],
            [
             0.1,
             "#c51b7d"
            ],
            [
             0.2,
             "#de77ae"
            ],
            [
             0.3,
             "#f1b6da"
            ],
            [
             0.4,
             "#fde0ef"
            ],
            [
             0.5,
             "#f7f7f7"
            ],
            [
             0.6,
             "#e6f5d0"
            ],
            [
             0.7,
             "#b8e186"
            ],
            [
             0.8,
             "#7fbc41"
            ],
            [
             0.9,
             "#4d9221"
            ],
            [
             1,
             "#276419"
            ]
           ],
           "sequential": [
            [
             0,
             "#0d0887"
            ],
            [
             0.1111111111111111,
             "#46039f"
            ],
            [
             0.2222222222222222,
             "#7201a8"
            ],
            [
             0.3333333333333333,
             "#9c179e"
            ],
            [
             0.4444444444444444,
             "#bd3786"
            ],
            [
             0.5555555555555556,
             "#d8576b"
            ],
            [
             0.6666666666666666,
             "#ed7953"
            ],
            [
             0.7777777777777778,
             "#fb9f3a"
            ],
            [
             0.8888888888888888,
             "#fdca26"
            ],
            [
             1,
             "#f0f921"
            ]
           ],
           "sequentialminus": [
            [
             0,
             "#0d0887"
            ],
            [
             0.1111111111111111,
             "#46039f"
            ],
            [
             0.2222222222222222,
             "#7201a8"
            ],
            [
             0.3333333333333333,
             "#9c179e"
            ],
            [
             0.4444444444444444,
             "#bd3786"
            ],
            [
             0.5555555555555556,
             "#d8576b"
            ],
            [
             0.6666666666666666,
             "#ed7953"
            ],
            [
             0.7777777777777778,
             "#fb9f3a"
            ],
            [
             0.8888888888888888,
             "#fdca26"
            ],
            [
             1,
             "#f0f921"
            ]
           ]
          },
          "colorway": [
           "#636efa",
           "#EF553B",
           "#00cc96",
           "#ab63fa",
           "#FFA15A",
           "#19d3f3",
           "#FF6692",
           "#B6E880",
           "#FF97FF",
           "#FECB52"
          ],
          "font": {
           "color": "#2a3f5f"
          },
          "geo": {
           "bgcolor": "white",
           "lakecolor": "white",
           "landcolor": "white",
           "showlakes": true,
           "showland": true,
           "subunitcolor": "#C8D4E3"
          },
          "hoverlabel": {
           "align": "left"
          },
          "hovermode": "closest",
          "mapbox": {
           "style": "light"
          },
          "paper_bgcolor": "white",
          "plot_bgcolor": "white",
          "polar": {
           "angularaxis": {
            "gridcolor": "#EBF0F8",
            "linecolor": "#EBF0F8",
            "ticks": ""
           },
           "bgcolor": "white",
           "radialaxis": {
            "gridcolor": "#EBF0F8",
            "linecolor": "#EBF0F8",
            "ticks": ""
           }
          },
          "scene": {
           "xaxis": {
            "backgroundcolor": "white",
            "gridcolor": "#DFE8F3",
            "gridwidth": 2,
            "linecolor": "#EBF0F8",
            "showbackground": true,
            "ticks": "",
            "zerolinecolor": "#EBF0F8"
           },
           "yaxis": {
            "backgroundcolor": "white",
            "gridcolor": "#DFE8F3",
            "gridwidth": 2,
            "linecolor": "#EBF0F8",
            "showbackground": true,
            "ticks": "",
            "zerolinecolor": "#EBF0F8"
           },
           "zaxis": {
            "backgroundcolor": "white",
            "gridcolor": "#DFE8F3",
            "gridwidth": 2,
            "linecolor": "#EBF0F8",
            "showbackground": true,
            "ticks": "",
            "zerolinecolor": "#EBF0F8"
           }
          },
          "shapedefaults": {
           "line": {
            "color": "#2a3f5f"
           }
          },
          "ternary": {
           "aaxis": {
            "gridcolor": "#DFE8F3",
            "linecolor": "#A2B1C6",
            "ticks": ""
           },
           "baxis": {
            "gridcolor": "#DFE8F3",
            "linecolor": "#A2B1C6",
            "ticks": ""
           },
           "bgcolor": "white",
           "caxis": {
            "gridcolor": "#DFE8F3",
            "linecolor": "#A2B1C6",
            "ticks": ""
           }
          },
          "title": {
           "x": 0.05
          },
          "xaxis": {
           "automargin": true,
           "gridcolor": "#EBF0F8",
           "linecolor": "#EBF0F8",
           "ticks": "",
           "title": {
            "standoff": 15
           },
           "zerolinecolor": "#EBF0F8",
           "zerolinewidth": 2
          },
          "yaxis": {
           "automargin": true,
           "gridcolor": "#EBF0F8",
           "linecolor": "#EBF0F8",
           "ticks": "",
           "title": {
            "standoff": 15
           },
           "zerolinecolor": "#EBF0F8",
           "zerolinewidth": 2
          }
         }
        },
        "yaxis": {
         "categoryarray": [
          "Introduction & Orientation",
          "Understanding Business Problems",
          "Spreadsheet & Statistics",
          "SQL",
          "Python",
          "Group Final Project Preparation Week",
          "Data Visualization",
          "Data Communication",
          "Pitching Week"
         ],
         "categoryorder": "array"
        }
       }
      }
     },
     "metadata": {},
     "output_type": "display_data"
    }
   ],
   "source": [
    "pivot = pd.pivot_table(chat[chat.module_name != ''], index='module_name', columns='sentiment', values='message', aggfunc='count')\n",
    "heatmap = go.Heatmap(z=pivot.values,\n",
    "                     x=pivot.columns,\n",
    "                     y=pivot.index,\n",
    "                     hovertemplate='Interventions count<extra>%{z}</extra>',\n",
    "                     colorscale='Greens')\n",
    "fig = go.Figure(data=[heatmap]).update_layout(yaxis={'categoryorder': 'array',\n",
    "                                                     'categoryarray': ['Introduction & Orientation',\n",
    "                                                                       'Understanding Business Problems',\n",
    "                                                                       'Spreadsheet & Statistics', 'SQL',\n",
    "                                                                       'Python', 'Group Final Project Preparation Week',\n",
    "                                                                       'Data Visualization', 'Data Communication',\n",
    "                                                                       'Pitching Week'\n",
    "                                                                       ]})\n",
    "py.plot(fig, filename='Module sentiment heatmap', auto_open=False)\n",
    "fig"
   ]
  },
  {
   "attachments": {},
   "cell_type": "markdown",
   "metadata": {},
   "source": [
    "# Topic modeling"
   ]
  },
  {
   "attachments": {},
   "cell_type": "markdown",
   "metadata": {},
   "source": [
    "Initiate and fit the model"
   ]
  },
  {
   "cell_type": "code",
   "execution_count": 25,
   "metadata": {},
   "outputs": [
    {
     "name": "stderr",
     "output_type": "stream",
     "text": [
      "11268 | INFO | Load pretrained SentenceTransformer: paraphrase-multilingual-MiniLM-L12-v2\n",
      "11268 | INFO | Use pytorch device: cpu\n"
     ]
    }
   ],
   "source": [
    "model = BERTopic(umap_model=UMAP(n_neighbors=15,\n",
    "                                 n_components=5,\n",
    "                                 min_dist=0.0,\n",
    "                                 metric='cosine',\n",
    "                                 random_state=0),\n",
    "                 language='multilingual',\n",
    "                 calculate_probabilities=True,\n",
    "                 nr_topics='auto')\n",
    "\n",
    "topics, probabilities = model.fit_transform(\n",
    "    list(chat[chat.clean_msg != ''].assign(\n",
    "    message=chat.message.str.replace(re.compile(r'http\\S+'), ''))['message'].values))"
   ]
  },
  {
   "attachments": {},
   "cell_type": "markdown",
   "metadata": {},
   "source": [
    "## Extracting topics"
   ]
  },
  {
   "cell_type": "code",
   "execution_count": 26,
   "metadata": {},
   "outputs": [
    {
     "data": {
      "text/html": [
       "<div>\n",
       "<style scoped>\n",
       "    .dataframe tbody tr th:only-of-type {\n",
       "        vertical-align: middle;\n",
       "    }\n",
       "\n",
       "    .dataframe tbody tr th {\n",
       "        vertical-align: top;\n",
       "    }\n",
       "\n",
       "    .dataframe thead th {\n",
       "        text-align: right;\n",
       "    }\n",
       "</style>\n",
       "<table border=\"1\" class=\"dataframe\">\n",
       "  <thead>\n",
       "    <tr style=\"text-align: right;\">\n",
       "      <th></th>\n",
       "      <th>Topic</th>\n",
       "      <th>Count</th>\n",
       "      <th>Name</th>\n",
       "    </tr>\n",
       "  </thead>\n",
       "  <tbody>\n",
       "    <tr>\n",
       "      <th>0</th>\n",
       "      <td>-1</td>\n",
       "      <td>714</td>\n",
       "      <td>-1_kak_ya_di_aku</td>\n",
       "    </tr>\n",
       "    <tr>\n",
       "      <th>1</th>\n",
       "      <td>0</td>\n",
       "      <td>102</td>\n",
       "      <td>0_wkwkwk_wkwkw_wkwkkw_wkkwkwk</td>\n",
       "    </tr>\n",
       "    <tr>\n",
       "      <th>2</th>\n",
       "      <td>1</td>\n",
       "      <td>96</td>\n",
       "      <td>1_brandon_tumben_kokk_gais</td>\n",
       "    </tr>\n",
       "    <tr>\n",
       "      <th>3</th>\n",
       "      <td>2</td>\n",
       "      <td>80</td>\n",
       "      <td>2_thank_you_congrats_makasih</td>\n",
       "    </tr>\n",
       "    <tr>\n",
       "      <th>4</th>\n",
       "      <td>3</td>\n",
       "      <td>80</td>\n",
       "      <td>3_menti_leave_yg_ngobrolin</td>\n",
       "    </tr>\n",
       "    <tr>\n",
       "      <th>5</th>\n",
       "      <td>4</td>\n",
       "      <td>59</td>\n",
       "      <td>4_aku_lg_jg_bs</td>\n",
       "    </tr>\n",
       "    <tr>\n",
       "      <th>6</th>\n",
       "      <td>5</td>\n",
       "      <td>58</td>\n",
       "      <td>5_jam_game_as_besok</td>\n",
       "    </tr>\n",
       "    <tr>\n",
       "      <th>7</th>\n",
       "      <td>6</td>\n",
       "      <td>52</td>\n",
       "      <td>6_kelas_lecture_pre_student</td>\n",
       "    </tr>\n",
       "    <tr>\n",
       "      <th>8</th>\n",
       "      <td>7</td>\n",
       "      <td>52</td>\n",
       "      <td>7_keren_ok_hebat_banget</td>\n",
       "    </tr>\n",
       "    <tr>\n",
       "      <th>9</th>\n",
       "      <td>8</td>\n",
       "      <td>50</td>\n",
       "      <td>8_link_ini_google_video</td>\n",
       "    </tr>\n",
       "    <tr>\n",
       "      <th>10</th>\n",
       "      <td>9</td>\n",
       "      <td>46</td>\n",
       "      <td>9_absen_gak_lupa_jangan</td>\n",
       "    </tr>\n",
       "    <tr>\n",
       "      <th>11</th>\n",
       "      <td>10</td>\n",
       "      <td>42</td>\n",
       "      <td>10_data_kita_sql_nilai</td>\n",
       "    </tr>\n",
       "    <tr>\n",
       "      <th>12</th>\n",
       "      <td>11</td>\n",
       "      <td>39</td>\n",
       "      <td>11_alex_mirza_aris_ely</td>\n",
       "    </tr>\n",
       "    <tr>\n",
       "      <th>13</th>\n",
       "      <td>12</td>\n",
       "      <td>35</td>\n",
       "      <td>12_wkwkwkwk_kwkwkwkw_wkwkkwkwkw_ae</td>\n",
       "    </tr>\n",
       "    <tr>\n",
       "      <th>14</th>\n",
       "      <td>13</td>\n",
       "      <td>33</td>\n",
       "      <td>13_kajal_kak_ichsan_ga</td>\n",
       "    </tr>\n",
       "    <tr>\n",
       "      <th>15</th>\n",
       "      <td>14</td>\n",
       "      <td>31</td>\n",
       "      <td>14_jal_kak_jalita_tuh</td>\n",
       "    </tr>\n",
       "    <tr>\n",
       "      <th>16</th>\n",
       "      <td>15</td>\n",
       "      <td>29</td>\n",
       "      <td>15_team_tim_lead_section</td>\n",
       "    </tr>\n",
       "    <tr>\n",
       "      <th>17</th>\n",
       "      <td>16</td>\n",
       "      <td>26</td>\n",
       "      <td>16_ale_freak_ih_gila</td>\n",
       "    </tr>\n",
       "    <tr>\n",
       "      <th>18</th>\n",
       "      <td>17</td>\n",
       "      <td>22</td>\n",
       "      <td>17_hahahha_hahahaha_hahaha_hahahahah</td>\n",
       "    </tr>\n",
       "    <tr>\n",
       "      <th>19</th>\n",
       "      <td>18</td>\n",
       "      <td>21</td>\n",
       "      <td>18_kalian_si_angkatan_sibuk</td>\n",
       "    </tr>\n",
       "    <tr>\n",
       "      <th>20</th>\n",
       "      <td>19</td>\n",
       "      <td>20</td>\n",
       "      <td>19_wkwkkwkw_wkwkwkwkwk_wkwkwkkwkw_wkwkwkwkw</td>\n",
       "    </tr>\n",
       "    <tr>\n",
       "      <th>21</th>\n",
       "      <td>20</td>\n",
       "      <td>18</td>\n",
       "      <td>20_apa_masuknya_apantu_beda</td>\n",
       "    </tr>\n",
       "    <tr>\n",
       "      <th>22</th>\n",
       "      <td>21</td>\n",
       "      <td>17</td>\n",
       "      <td>21_discord_habis_kelas_yukkk</td>\n",
       "    </tr>\n",
       "    <tr>\n",
       "      <th>23</th>\n",
       "      <td>22</td>\n",
       "      <td>16</td>\n",
       "      <td>22_udh_gua_sumit_kaliaaan</td>\n",
       "    </tr>\n",
       "    <tr>\n",
       "      <th>24</th>\n",
       "      <td>23</td>\n",
       "      <td>16</td>\n",
       "      <td>23_happy_birthday_tahun_ulang</td>\n",
       "    </tr>\n",
       "    <tr>\n",
       "      <th>25</th>\n",
       "      <td>24</td>\n",
       "      <td>16</td>\n",
       "      <td>24_kek_keknya_tiap_terakhir</td>\n",
       "    </tr>\n",
       "    <tr>\n",
       "      <th>26</th>\n",
       "      <td>25</td>\n",
       "      <td>15</td>\n",
       "      <td>25_iyaa_yuhuuu_yezzzzz_yez</td>\n",
       "    </tr>\n",
       "    <tr>\n",
       "      <th>27</th>\n",
       "      <td>26</td>\n",
       "      <td>15</td>\n",
       "      <td>26_kasih_teman_semangat_biar</td>\n",
       "    </tr>\n",
       "    <tr>\n",
       "      <th>28</th>\n",
       "      <td>27</td>\n",
       "      <td>15</td>\n",
       "      <td>27_foundation_deadline_59_23</td>\n",
       "    </tr>\n",
       "    <tr>\n",
       "      <th>29</th>\n",
       "      <td>28</td>\n",
       "      <td>13</td>\n",
       "      <td>28_bisa_banyak_ekkekw_ngmngnya</td>\n",
       "    </tr>\n",
       "    <tr>\n",
       "      <th>30</th>\n",
       "      <td>29</td>\n",
       "      <td>12</td>\n",
       "      <td>29_lagii_advance_adaptasi_iklannya</td>\n",
       "    </tr>\n",
       "    <tr>\n",
       "      <th>31</th>\n",
       "      <td>30</td>\n",
       "      <td>12</td>\n",
       "      <td>30_python_p2p_phase_isi</td>\n",
       "    </tr>\n",
       "    <tr>\n",
       "      <th>32</th>\n",
       "      <td>31</td>\n",
       "      <td>12</td>\n",
       "      <td>31_makan_enak_akhirny_go</td>\n",
       "    </tr>\n",
       "    <tr>\n",
       "      <th>33</th>\n",
       "      <td>32</td>\n",
       "      <td>12</td>\n",
       "      <td>32_oke_up_ok_alrightyyy</td>\n",
       "    </tr>\n",
       "    <tr>\n",
       "      <th>34</th>\n",
       "      <td>33</td>\n",
       "      <td>12</td>\n",
       "      <td>33_tl_simulation_27_rangkap</td>\n",
       "    </tr>\n",
       "    <tr>\n",
       "      <th>35</th>\n",
       "      <td>34</td>\n",
       "      <td>12</td>\n",
       "      <td>34_laptop_desktop_internet_wifi</td>\n",
       "    </tr>\n",
       "    <tr>\n",
       "      <th>36</th>\n",
       "      <td>35</td>\n",
       "      <td>12</td>\n",
       "      <td>35_tidur_malam_goodnight_bomat</td>\n",
       "    </tr>\n",
       "    <tr>\n",
       "      <th>37</th>\n",
       "      <td>36</td>\n",
       "      <td>11</td>\n",
       "      <td>36_gua_lu_sini_menduakan</td>\n",
       "    </tr>\n",
       "    <tr>\n",
       "      <th>38</th>\n",
       "      <td>37</td>\n",
       "      <td>11</td>\n",
       "      <td>37_gasss_gas_panas2in_option</td>\n",
       "    </tr>\n",
       "    <tr>\n",
       "      <th>39</th>\n",
       "      <td>38</td>\n",
       "      <td>10</td>\n",
       "      <td>38_duit_gaji_pengen_20</td>\n",
       "    </tr>\n",
       "  </tbody>\n",
       "</table>\n",
       "</div>"
      ],
      "text/plain": [
       "    Topic  Count                                         Name\n",
       "0      -1    714                             -1_kak_ya_di_aku\n",
       "1       0    102                0_wkwkwk_wkwkw_wkwkkw_wkkwkwk\n",
       "2       1     96                   1_brandon_tumben_kokk_gais\n",
       "3       2     80                 2_thank_you_congrats_makasih\n",
       "4       3     80                   3_menti_leave_yg_ngobrolin\n",
       "5       4     59                               4_aku_lg_jg_bs\n",
       "6       5     58                          5_jam_game_as_besok\n",
       "7       6     52                  6_kelas_lecture_pre_student\n",
       "8       7     52                      7_keren_ok_hebat_banget\n",
       "9       8     50                      8_link_ini_google_video\n",
       "10      9     46                      9_absen_gak_lupa_jangan\n",
       "11     10     42                       10_data_kita_sql_nilai\n",
       "12     11     39                       11_alex_mirza_aris_ely\n",
       "13     12     35           12_wkwkwkwk_kwkwkwkw_wkwkkwkwkw_ae\n",
       "14     13     33                       13_kajal_kak_ichsan_ga\n",
       "15     14     31                        14_jal_kak_jalita_tuh\n",
       "16     15     29                     15_team_tim_lead_section\n",
       "17     16     26                         16_ale_freak_ih_gila\n",
       "18     17     22         17_hahahha_hahahaha_hahaha_hahahahah\n",
       "19     18     21                  18_kalian_si_angkatan_sibuk\n",
       "20     19     20  19_wkwkkwkw_wkwkwkwkwk_wkwkwkkwkw_wkwkwkwkw\n",
       "21     20     18                  20_apa_masuknya_apantu_beda\n",
       "22     21     17                 21_discord_habis_kelas_yukkk\n",
       "23     22     16                    22_udh_gua_sumit_kaliaaan\n",
       "24     23     16                23_happy_birthday_tahun_ulang\n",
       "25     24     16                  24_kek_keknya_tiap_terakhir\n",
       "26     25     15                   25_iyaa_yuhuuu_yezzzzz_yez\n",
       "27     26     15                 26_kasih_teman_semangat_biar\n",
       "28     27     15                 27_foundation_deadline_59_23\n",
       "29     28     13               28_bisa_banyak_ekkekw_ngmngnya\n",
       "30     29     12           29_lagii_advance_adaptasi_iklannya\n",
       "31     30     12                      30_python_p2p_phase_isi\n",
       "32     31     12                     31_makan_enak_akhirny_go\n",
       "33     32     12                      32_oke_up_ok_alrightyyy\n",
       "34     33     12                  33_tl_simulation_27_rangkap\n",
       "35     34     12              34_laptop_desktop_internet_wifi\n",
       "36     35     12               35_tidur_malam_goodnight_bomat\n",
       "37     36     11                     36_gua_lu_sini_menduakan\n",
       "38     37     11                 37_gasss_gas_panas2in_option\n",
       "39     38     10                       38_duit_gaji_pengen_20"
      ]
     },
     "execution_count": 26,
     "metadata": {},
     "output_type": "execute_result"
    }
   ],
   "source": [
    "model.get_topic_info()"
   ]
  },
  {
   "attachments": {},
   "cell_type": "markdown",
   "metadata": {},
   "source": [
    "Topic terms bar chart"
   ]
  },
  {
   "cell_type": "code",
   "execution_count": 27,
   "metadata": {},
   "outputs": [
    {
     "data": {
      "application/vnd.plotly.v1+json": {
       "config": {
        "plotlyServerURL": "https://plotly.com"
       },
       "data": [
        {
         "marker": {
          "color": "#D55E00"
         },
         "orientation": "h",
         "type": "bar",
         "x": [
          0.05727813993808254,
          0.06044562701888627,
          0.07187464486638097,
          0.07356858385488606,
          0.11134364507633468
         ],
         "xaxis": "x",
         "y": [
          "wkwkwkkw  ",
          "wkkwkwk  ",
          "wkwkkw  ",
          "wkwkw  ",
          "wkwkwk  "
         ],
         "yaxis": "y"
        },
        {
         "marker": {
          "color": "#0072B2"
         },
         "orientation": "h",
         "type": "bar",
         "x": [
          0.048061636721429976,
          0.048061636721429976,
          0.052380357277018806,
          0.07209245508214496,
          0.07209245508214496
         ],
         "xaxis": "x2",
         "y": [
          "hoki  ",
          "gais  ",
          "kokk  ",
          "tumben  ",
          "brandon  "
         ],
         "yaxis": "y2"
        },
        {
         "marker": {
          "color": "#CC79A7"
         },
         "orientation": "h",
         "type": "bar",
         "x": [
          0.07466376457704672,
          0.0818456810865621,
          0.08697838039778023,
          0.12853567111493158,
          0.1785276448898596
         ],
         "xaxis": "x3",
         "y": [
          "thanks  ",
          "makasih  ",
          "congrats  ",
          "you  ",
          "thank  "
         ],
         "yaxis": "y3"
        },
        {
         "marker": {
          "color": "#E69F00"
         },
         "orientation": "h",
         "type": "bar",
         "x": [
          0.02411570904337994,
          0.02411570904337994,
          0.028799293881142583,
          0.031083116369241638,
          0.043144721365631584
         ],
         "xaxis": "x4",
         "y": [
          "canda  ",
          "ngobrolin  ",
          "yg  ",
          "leave  ",
          "menti  "
         ],
         "yaxis": "y4"
        },
        {
         "marker": {
          "color": "#56B4E9"
         },
         "orientation": "h",
         "type": "bar",
         "x": [
          0.02660709101539964,
          0.029178498607430905,
          0.0311133383099521,
          0.03523368326560661,
          0.12879830334284295
         ],
         "xaxis": "x5",
         "y": [
          "juga  ",
          "bs  ",
          "jg  ",
          "lg  ",
          "aku  "
         ],
         "yaxis": "y5"
        },
        {
         "marker": {
          "color": "#009E73"
         },
         "orientation": "h",
         "type": "bar",
         "x": [
          0.03286648539042722,
          0.04350366247516263,
          0.04669293998962281,
          0.05059655089574809,
          0.05599883974399228
         ],
         "xaxis": "x6",
         "y": [
          "telat  ",
          "besok  ",
          "as  ",
          "game  ",
          "jam  "
         ],
         "yaxis": "y6"
        },
        {
         "marker": {
          "color": "#F0E442"
         },
         "orientation": "h",
         "type": "bar",
         "x": [
          0.030405116141609075,
          0.032419659119412324,
          0.05018502629463419,
          0.06744959797784386,
          0.08361406938942496
         ],
         "xaxis": "x7",
         "y": [
          "hari  ",
          "student  ",
          "pre  ",
          "lecture  ",
          "kelas  "
         ],
         "yaxis": "y7"
        },
        {
         "marker": {
          "color": "#D55E00"
         },
         "orientation": "h",
         "type": "bar",
         "x": [
          0.06495689570939973,
          0.07421933740694525,
          0.07474749412603346,
          0.09797994900618431,
          0.12670219620143586
         ],
         "xaxis": "x8",
         "y": [
          "bagus  ",
          "banget  ",
          "hebat  ",
          "ok  ",
          "keren  "
         ],
         "yaxis": "y8"
        },
        {
         "marker": {
          "color": "#0072B2"
         },
         "orientation": "h",
         "type": "bar",
         "x": [
          0.03181693468485735,
          0.04476855263163501,
          0.045371155122655576,
          0.04953055038846551,
          0.09956268259184672
         ],
         "xaxis": "x9",
         "y": [
          "recording  ",
          "video  ",
          "google  ",
          "ini  ",
          "link  "
         ],
         "yaxis": "y9"
        },
        {
         "marker": {
          "color": "#CC79A7"
         },
         "orientation": "h",
         "type": "bar",
         "x": [
          0.04349440381038168,
          0.050563154161836536,
          0.061491017414718,
          0.0888486789264238,
          0.2032721285122321
         ],
         "xaxis": "x10",
         "y": [
          "oiya  ",
          "jangan  ",
          "lupa  ",
          "gak  ",
          "absen  "
         ],
         "yaxis": "y10"
        },
        {
         "marker": {
          "color": "#E69F00"
         },
         "orientation": "h",
         "type": "bar",
         "x": [
          0.03207941781167216,
          0.03247619524569031,
          0.037957044887198234,
          0.039954116339985066,
          0.045940574443062265
         ],
         "xaxis": "x11",
         "y": [
          "datacamp  ",
          "nilai  ",
          "sql  ",
          "kita  ",
          "data  "
         ],
         "yaxis": "y11"
        },
        {
         "marker": {
          "color": "#56B4E9"
         },
         "orientation": "h",
         "type": "bar",
         "x": [
          0.1263734663956095,
          0.14021218175321257,
          0.14050280687025918,
          0.16007835462966333,
          0.17256883908087703
         ],
         "xaxis": "x12",
         "y": [
          "alit_gor  ",
          "ely  ",
          "aris  ",
          "mirza  ",
          "alex  "
         ],
         "yaxis": "y12"
        }
       ],
       "layout": {
        "annotations": [
         {
          "font": {
           "size": 16
          },
          "showarrow": false,
          "text": "Topic 0",
          "x": 0.0875,
          "xanchor": "center",
          "xref": "paper",
          "y": 1,
          "yanchor": "bottom",
          "yref": "paper"
         },
         {
          "font": {
           "size": 16
          },
          "showarrow": false,
          "text": "Topic 1",
          "x": 0.36250000000000004,
          "xanchor": "center",
          "xref": "paper",
          "y": 1,
          "yanchor": "bottom",
          "yref": "paper"
         },
         {
          "font": {
           "size": 16
          },
          "showarrow": false,
          "text": "Topic 2",
          "x": 0.6375000000000001,
          "xanchor": "center",
          "xref": "paper",
          "y": 1,
          "yanchor": "bottom",
          "yref": "paper"
         },
         {
          "font": {
           "size": 16
          },
          "showarrow": false,
          "text": "Topic 3",
          "x": 0.9125,
          "xanchor": "center",
          "xref": "paper",
          "y": 1,
          "yanchor": "bottom",
          "yref": "paper"
         },
         {
          "font": {
           "size": 16
          },
          "showarrow": false,
          "text": "Topic 4",
          "x": 0.0875,
          "xanchor": "center",
          "xref": "paper",
          "y": 0.6222222222222222,
          "yanchor": "bottom",
          "yref": "paper"
         },
         {
          "font": {
           "size": 16
          },
          "showarrow": false,
          "text": "Topic 5",
          "x": 0.36250000000000004,
          "xanchor": "center",
          "xref": "paper",
          "y": 0.6222222222222222,
          "yanchor": "bottom",
          "yref": "paper"
         },
         {
          "font": {
           "size": 16
          },
          "showarrow": false,
          "text": "Topic 6",
          "x": 0.6375000000000001,
          "xanchor": "center",
          "xref": "paper",
          "y": 0.6222222222222222,
          "yanchor": "bottom",
          "yref": "paper"
         },
         {
          "font": {
           "size": 16
          },
          "showarrow": false,
          "text": "Topic 7",
          "x": 0.9125,
          "xanchor": "center",
          "xref": "paper",
          "y": 0.6222222222222222,
          "yanchor": "bottom",
          "yref": "paper"
         },
         {
          "font": {
           "size": 16
          },
          "showarrow": false,
          "text": "Topic 8",
          "x": 0.0875,
          "xanchor": "center",
          "xref": "paper",
          "y": 0.24444444444444446,
          "yanchor": "bottom",
          "yref": "paper"
         },
         {
          "font": {
           "size": 16
          },
          "showarrow": false,
          "text": "Topic 9",
          "x": 0.36250000000000004,
          "xanchor": "center",
          "xref": "paper",
          "y": 0.24444444444444446,
          "yanchor": "bottom",
          "yref": "paper"
         },
         {
          "font": {
           "size": 16
          },
          "showarrow": false,
          "text": "Topic 10",
          "x": 0.6375000000000001,
          "xanchor": "center",
          "xref": "paper",
          "y": 0.24444444444444446,
          "yanchor": "bottom",
          "yref": "paper"
         },
         {
          "font": {
           "size": 16
          },
          "showarrow": false,
          "text": "Topic 11",
          "x": 0.9125,
          "xanchor": "center",
          "xref": "paper",
          "y": 0.24444444444444446,
          "yanchor": "bottom",
          "yref": "paper"
         }
        ],
        "height": 750,
        "hoverlabel": {
         "bgcolor": "white",
         "font": {
          "family": "Rockwell",
          "size": 16
         }
        },
        "showlegend": false,
        "template": {
         "data": {
          "bar": [
           {
            "error_x": {
             "color": "#2a3f5f"
            },
            "error_y": {
             "color": "#2a3f5f"
            },
            "marker": {
             "line": {
              "color": "white",
              "width": 0.5
             }
            },
            "type": "bar"
           }
          ],
          "barpolar": [
           {
            "marker": {
             "line": {
              "color": "white",
              "width": 0.5
             }
            },
            "type": "barpolar"
           }
          ],
          "carpet": [
           {
            "aaxis": {
             "endlinecolor": "#2a3f5f",
             "gridcolor": "#C8D4E3",
             "linecolor": "#C8D4E3",
             "minorgridcolor": "#C8D4E3",
             "startlinecolor": "#2a3f5f"
            },
            "baxis": {
             "endlinecolor": "#2a3f5f",
             "gridcolor": "#C8D4E3",
             "linecolor": "#C8D4E3",
             "minorgridcolor": "#C8D4E3",
             "startlinecolor": "#2a3f5f"
            },
            "type": "carpet"
           }
          ],
          "choropleth": [
           {
            "colorbar": {
             "outlinewidth": 0,
             "ticks": ""
            },
            "type": "choropleth"
           }
          ],
          "contour": [
           {
            "colorbar": {
             "outlinewidth": 0,
             "ticks": ""
            },
            "colorscale": [
             [
              0,
              "#0d0887"
             ],
             [
              0.1111111111111111,
              "#46039f"
             ],
             [
              0.2222222222222222,
              "#7201a8"
             ],
             [
              0.3333333333333333,
              "#9c179e"
             ],
             [
              0.4444444444444444,
              "#bd3786"
             ],
             [
              0.5555555555555556,
              "#d8576b"
             ],
             [
              0.6666666666666666,
              "#ed7953"
             ],
             [
              0.7777777777777778,
              "#fb9f3a"
             ],
             [
              0.8888888888888888,
              "#fdca26"
             ],
             [
              1,
              "#f0f921"
             ]
            ],
            "type": "contour"
           }
          ],
          "contourcarpet": [
           {
            "colorbar": {
             "outlinewidth": 0,
             "ticks": ""
            },
            "type": "contourcarpet"
           }
          ],
          "heatmap": [
           {
            "colorbar": {
             "outlinewidth": 0,
             "ticks": ""
            },
            "colorscale": [
             [
              0,
              "#0d0887"
             ],
             [
              0.1111111111111111,
              "#46039f"
             ],
             [
              0.2222222222222222,
              "#7201a8"
             ],
             [
              0.3333333333333333,
              "#9c179e"
             ],
             [
              0.4444444444444444,
              "#bd3786"
             ],
             [
              0.5555555555555556,
              "#d8576b"
             ],
             [
              0.6666666666666666,
              "#ed7953"
             ],
             [
              0.7777777777777778,
              "#fb9f3a"
             ],
             [
              0.8888888888888888,
              "#fdca26"
             ],
             [
              1,
              "#f0f921"
             ]
            ],
            "type": "heatmap"
           }
          ],
          "heatmapgl": [
           {
            "colorbar": {
             "outlinewidth": 0,
             "ticks": ""
            },
            "colorscale": [
             [
              0,
              "#0d0887"
             ],
             [
              0.1111111111111111,
              "#46039f"
             ],
             [
              0.2222222222222222,
              "#7201a8"
             ],
             [
              0.3333333333333333,
              "#9c179e"
             ],
             [
              0.4444444444444444,
              "#bd3786"
             ],
             [
              0.5555555555555556,
              "#d8576b"
             ],
             [
              0.6666666666666666,
              "#ed7953"
             ],
             [
              0.7777777777777778,
              "#fb9f3a"
             ],
             [
              0.8888888888888888,
              "#fdca26"
             ],
             [
              1,
              "#f0f921"
             ]
            ],
            "type": "heatmapgl"
           }
          ],
          "histogram": [
           {
            "marker": {
             "colorbar": {
              "outlinewidth": 0,
              "ticks": ""
             }
            },
            "type": "histogram"
           }
          ],
          "histogram2d": [
           {
            "colorbar": {
             "outlinewidth": 0,
             "ticks": ""
            },
            "colorscale": [
             [
              0,
              "#0d0887"
             ],
             [
              0.1111111111111111,
              "#46039f"
             ],
             [
              0.2222222222222222,
              "#7201a8"
             ],
             [
              0.3333333333333333,
              "#9c179e"
             ],
             [
              0.4444444444444444,
              "#bd3786"
             ],
             [
              0.5555555555555556,
              "#d8576b"
             ],
             [
              0.6666666666666666,
              "#ed7953"
             ],
             [
              0.7777777777777778,
              "#fb9f3a"
             ],
             [
              0.8888888888888888,
              "#fdca26"
             ],
             [
              1,
              "#f0f921"
             ]
            ],
            "type": "histogram2d"
           }
          ],
          "histogram2dcontour": [
           {
            "colorbar": {
             "outlinewidth": 0,
             "ticks": ""
            },
            "colorscale": [
             [
              0,
              "#0d0887"
             ],
             [
              0.1111111111111111,
              "#46039f"
             ],
             [
              0.2222222222222222,
              "#7201a8"
             ],
             [
              0.3333333333333333,
              "#9c179e"
             ],
             [
              0.4444444444444444,
              "#bd3786"
             ],
             [
              0.5555555555555556,
              "#d8576b"
             ],
             [
              0.6666666666666666,
              "#ed7953"
             ],
             [
              0.7777777777777778,
              "#fb9f3a"
             ],
             [
              0.8888888888888888,
              "#fdca26"
             ],
             [
              1,
              "#f0f921"
             ]
            ],
            "type": "histogram2dcontour"
           }
          ],
          "mesh3d": [
           {
            "colorbar": {
             "outlinewidth": 0,
             "ticks": ""
            },
            "type": "mesh3d"
           }
          ],
          "parcoords": [
           {
            "line": {
             "colorbar": {
              "outlinewidth": 0,
              "ticks": ""
             }
            },
            "type": "parcoords"
           }
          ],
          "pie": [
           {
            "automargin": true,
            "type": "pie"
           }
          ],
          "scatter": [
           {
            "marker": {
             "colorbar": {
              "outlinewidth": 0,
              "ticks": ""
             }
            },
            "type": "scatter"
           }
          ],
          "scatter3d": [
           {
            "line": {
             "colorbar": {
              "outlinewidth": 0,
              "ticks": ""
             }
            },
            "marker": {
             "colorbar": {
              "outlinewidth": 0,
              "ticks": ""
             }
            },
            "type": "scatter3d"
           }
          ],
          "scattercarpet": [
           {
            "marker": {
             "colorbar": {
              "outlinewidth": 0,
              "ticks": ""
             }
            },
            "type": "scattercarpet"
           }
          ],
          "scattergeo": [
           {
            "marker": {
             "colorbar": {
              "outlinewidth": 0,
              "ticks": ""
             }
            },
            "type": "scattergeo"
           }
          ],
          "scattergl": [
           {
            "marker": {
             "colorbar": {
              "outlinewidth": 0,
              "ticks": ""
             }
            },
            "type": "scattergl"
           }
          ],
          "scattermapbox": [
           {
            "marker": {
             "colorbar": {
              "outlinewidth": 0,
              "ticks": ""
             }
            },
            "type": "scattermapbox"
           }
          ],
          "scatterpolar": [
           {
            "marker": {
             "colorbar": {
              "outlinewidth": 0,
              "ticks": ""
             }
            },
            "type": "scatterpolar"
           }
          ],
          "scatterpolargl": [
           {
            "marker": {
             "colorbar": {
              "outlinewidth": 0,
              "ticks": ""
             }
            },
            "type": "scatterpolargl"
           }
          ],
          "scatterternary": [
           {
            "marker": {
             "colorbar": {
              "outlinewidth": 0,
              "ticks": ""
             }
            },
            "type": "scatterternary"
           }
          ],
          "surface": [
           {
            "colorbar": {
             "outlinewidth": 0,
             "ticks": ""
            },
            "colorscale": [
             [
              0,
              "#0d0887"
             ],
             [
              0.1111111111111111,
              "#46039f"
             ],
             [
              0.2222222222222222,
              "#7201a8"
             ],
             [
              0.3333333333333333,
              "#9c179e"
             ],
             [
              0.4444444444444444,
              "#bd3786"
             ],
             [
              0.5555555555555556,
              "#d8576b"
             ],
             [
              0.6666666666666666,
              "#ed7953"
             ],
             [
              0.7777777777777778,
              "#fb9f3a"
             ],
             [
              0.8888888888888888,
              "#fdca26"
             ],
             [
              1,
              "#f0f921"
             ]
            ],
            "type": "surface"
           }
          ],
          "table": [
           {
            "cells": {
             "fill": {
              "color": "#EBF0F8"
             },
             "line": {
              "color": "white"
             }
            },
            "header": {
             "fill": {
              "color": "#C8D4E3"
             },
             "line": {
              "color": "white"
             }
            },
            "type": "table"
           }
          ]
         },
         "layout": {
          "annotationdefaults": {
           "arrowcolor": "#2a3f5f",
           "arrowhead": 0,
           "arrowwidth": 1
          },
          "autotypenumbers": "strict",
          "coloraxis": {
           "colorbar": {
            "outlinewidth": 0,
            "ticks": ""
           }
          },
          "colorscale": {
           "diverging": [
            [
             0,
             "#8e0152"
            ],
            [
             0.1,
             "#c51b7d"
            ],
            [
             0.2,
             "#de77ae"
            ],
            [
             0.3,
             "#f1b6da"
            ],
            [
             0.4,
             "#fde0ef"
            ],
            [
             0.5,
             "#f7f7f7"
            ],
            [
             0.6,
             "#e6f5d0"
            ],
            [
             0.7,
             "#b8e186"
            ],
            [
             0.8,
             "#7fbc41"
            ],
            [
             0.9,
             "#4d9221"
            ],
            [
             1,
             "#276419"
            ]
           ],
           "sequential": [
            [
             0,
             "#0d0887"
            ],
            [
             0.1111111111111111,
             "#46039f"
            ],
            [
             0.2222222222222222,
             "#7201a8"
            ],
            [
             0.3333333333333333,
             "#9c179e"
            ],
            [
             0.4444444444444444,
             "#bd3786"
            ],
            [
             0.5555555555555556,
             "#d8576b"
            ],
            [
             0.6666666666666666,
             "#ed7953"
            ],
            [
             0.7777777777777778,
             "#fb9f3a"
            ],
            [
             0.8888888888888888,
             "#fdca26"
            ],
            [
             1,
             "#f0f921"
            ]
           ],
           "sequentialminus": [
            [
             0,
             "#0d0887"
            ],
            [
             0.1111111111111111,
             "#46039f"
            ],
            [
             0.2222222222222222,
             "#7201a8"
            ],
            [
             0.3333333333333333,
             "#9c179e"
            ],
            [
             0.4444444444444444,
             "#bd3786"
            ],
            [
             0.5555555555555556,
             "#d8576b"
            ],
            [
             0.6666666666666666,
             "#ed7953"
            ],
            [
             0.7777777777777778,
             "#fb9f3a"
            ],
            [
             0.8888888888888888,
             "#fdca26"
            ],
            [
             1,
             "#f0f921"
            ]
           ]
          },
          "colorway": [
           "#636efa",
           "#EF553B",
           "#00cc96",
           "#ab63fa",
           "#FFA15A",
           "#19d3f3",
           "#FF6692",
           "#B6E880",
           "#FF97FF",
           "#FECB52"
          ],
          "font": {
           "color": "#2a3f5f"
          },
          "geo": {
           "bgcolor": "white",
           "lakecolor": "white",
           "landcolor": "white",
           "showlakes": true,
           "showland": true,
           "subunitcolor": "#C8D4E3"
          },
          "hoverlabel": {
           "align": "left"
          },
          "hovermode": "closest",
          "mapbox": {
           "style": "light"
          },
          "paper_bgcolor": "white",
          "plot_bgcolor": "white",
          "polar": {
           "angularaxis": {
            "gridcolor": "#EBF0F8",
            "linecolor": "#EBF0F8",
            "ticks": ""
           },
           "bgcolor": "white",
           "radialaxis": {
            "gridcolor": "#EBF0F8",
            "linecolor": "#EBF0F8",
            "ticks": ""
           }
          },
          "scene": {
           "xaxis": {
            "backgroundcolor": "white",
            "gridcolor": "#DFE8F3",
            "gridwidth": 2,
            "linecolor": "#EBF0F8",
            "showbackground": true,
            "ticks": "",
            "zerolinecolor": "#EBF0F8"
           },
           "yaxis": {
            "backgroundcolor": "white",
            "gridcolor": "#DFE8F3",
            "gridwidth": 2,
            "linecolor": "#EBF0F8",
            "showbackground": true,
            "ticks": "",
            "zerolinecolor": "#EBF0F8"
           },
           "zaxis": {
            "backgroundcolor": "white",
            "gridcolor": "#DFE8F3",
            "gridwidth": 2,
            "linecolor": "#EBF0F8",
            "showbackground": true,
            "ticks": "",
            "zerolinecolor": "#EBF0F8"
           }
          },
          "shapedefaults": {
           "line": {
            "color": "#2a3f5f"
           }
          },
          "ternary": {
           "aaxis": {
            "gridcolor": "#DFE8F3",
            "linecolor": "#A2B1C6",
            "ticks": ""
           },
           "baxis": {
            "gridcolor": "#DFE8F3",
            "linecolor": "#A2B1C6",
            "ticks": ""
           },
           "bgcolor": "white",
           "caxis": {
            "gridcolor": "#DFE8F3",
            "linecolor": "#A2B1C6",
            "ticks": ""
           }
          },
          "title": {
           "x": 0.05
          },
          "xaxis": {
           "automargin": true,
           "gridcolor": "#EBF0F8",
           "linecolor": "#EBF0F8",
           "ticks": "",
           "title": {
            "standoff": 15
           },
           "zerolinecolor": "#EBF0F8",
           "zerolinewidth": 2
          },
          "yaxis": {
           "automargin": true,
           "gridcolor": "#EBF0F8",
           "linecolor": "#EBF0F8",
           "ticks": "",
           "title": {
            "standoff": 15
           },
           "zerolinecolor": "#EBF0F8",
           "zerolinewidth": 2
          }
         }
        },
        "title": {
         "font": {
          "color": "Black",
          "size": 22
         },
         "text": "",
         "x": 0.5,
         "xanchor": "center",
         "yanchor": "top"
        },
        "width": 1000,
        "xaxis": {
         "anchor": "y",
         "domain": [
          0,
          0.175
         ],
         "showgrid": true
        },
        "xaxis10": {
         "anchor": "y10",
         "domain": [
          0.275,
          0.45
         ],
         "showgrid": true
        },
        "xaxis11": {
         "anchor": "y11",
         "domain": [
          0.55,
          0.7250000000000001
         ],
         "showgrid": true
        },
        "xaxis12": {
         "anchor": "y12",
         "domain": [
          0.825,
          1
         ],
         "showgrid": true
        },
        "xaxis2": {
         "anchor": "y2",
         "domain": [
          0.275,
          0.45
         ],
         "showgrid": true
        },
        "xaxis3": {
         "anchor": "y3",
         "domain": [
          0.55,
          0.7250000000000001
         ],
         "showgrid": true
        },
        "xaxis4": {
         "anchor": "y4",
         "domain": [
          0.825,
          1
         ],
         "showgrid": true
        },
        "xaxis5": {
         "anchor": "y5",
         "domain": [
          0,
          0.175
         ],
         "showgrid": true
        },
        "xaxis6": {
         "anchor": "y6",
         "domain": [
          0.275,
          0.45
         ],
         "showgrid": true
        },
        "xaxis7": {
         "anchor": "y7",
         "domain": [
          0.55,
          0.7250000000000001
         ],
         "showgrid": true
        },
        "xaxis8": {
         "anchor": "y8",
         "domain": [
          0.825,
          1
         ],
         "showgrid": true
        },
        "xaxis9": {
         "anchor": "y9",
         "domain": [
          0,
          0.175
         ],
         "showgrid": true
        },
        "yaxis": {
         "anchor": "x",
         "domain": [
          0.7555555555555555,
          1
         ],
         "showgrid": true
        },
        "yaxis10": {
         "anchor": "x10",
         "domain": [
          0,
          0.24444444444444446
         ],
         "showgrid": true
        },
        "yaxis11": {
         "anchor": "x11",
         "domain": [
          0,
          0.24444444444444446
         ],
         "showgrid": true
        },
        "yaxis12": {
         "anchor": "x12",
         "domain": [
          0,
          0.24444444444444446
         ],
         "showgrid": true
        },
        "yaxis2": {
         "anchor": "x2",
         "domain": [
          0.7555555555555555,
          1
         ],
         "showgrid": true
        },
        "yaxis3": {
         "anchor": "x3",
         "domain": [
          0.7555555555555555,
          1
         ],
         "showgrid": true
        },
        "yaxis4": {
         "anchor": "x4",
         "domain": [
          0.7555555555555555,
          1
         ],
         "showgrid": true
        },
        "yaxis5": {
         "anchor": "x5",
         "domain": [
          0.37777777777777777,
          0.6222222222222222
         ],
         "showgrid": true
        },
        "yaxis6": {
         "anchor": "x6",
         "domain": [
          0.37777777777777777,
          0.6222222222222222
         ],
         "showgrid": true
        },
        "yaxis7": {
         "anchor": "x7",
         "domain": [
          0.37777777777777777,
          0.6222222222222222
         ],
         "showgrid": true
        },
        "yaxis8": {
         "anchor": "x8",
         "domain": [
          0.37777777777777777,
          0.6222222222222222
         ],
         "showgrid": true
        },
        "yaxis9": {
         "anchor": "x9",
         "domain": [
          0,
          0.24444444444444446
         ],
         "showgrid": true
        }
       }
      }
     },
     "metadata": {},
     "output_type": "display_data"
    }
   ],
   "source": [
    "fig = model.visualize_barchart(top_n_topics=12, title='')\n",
    "py.plot(fig, filename='Topic terms bar chart', auto_open=False)\n",
    "fig"
   ]
  },
  {
   "attachments": {},
   "cell_type": "markdown",
   "metadata": {},
   "source": [
    "Top 10 terms for topic 0"
   ]
  },
  {
   "cell_type": "code",
   "execution_count": 28,
   "metadata": {},
   "outputs": [
    {
     "data": {
      "text/html": [
       "<div>\n",
       "<style scoped>\n",
       "    .dataframe tbody tr th:only-of-type {\n",
       "        vertical-align: middle;\n",
       "    }\n",
       "\n",
       "    .dataframe tbody tr th {\n",
       "        vertical-align: top;\n",
       "    }\n",
       "\n",
       "    .dataframe thead th {\n",
       "        text-align: right;\n",
       "    }\n",
       "</style>\n",
       "<table border=\"1\" class=\"dataframe\">\n",
       "  <thead>\n",
       "    <tr style=\"text-align: right;\">\n",
       "      <th></th>\n",
       "      <th>keyword</th>\n",
       "      <th>score</th>\n",
       "    </tr>\n",
       "  </thead>\n",
       "  <tbody>\n",
       "    <tr>\n",
       "      <th>0</th>\n",
       "      <td>wkwkwk</td>\n",
       "      <td>0.111344</td>\n",
       "    </tr>\n",
       "    <tr>\n",
       "      <th>1</th>\n",
       "      <td>wkwkw</td>\n",
       "      <td>0.073569</td>\n",
       "    </tr>\n",
       "    <tr>\n",
       "      <th>2</th>\n",
       "      <td>wkwkkw</td>\n",
       "      <td>0.071875</td>\n",
       "    </tr>\n",
       "    <tr>\n",
       "      <th>3</th>\n",
       "      <td>wkkwkwk</td>\n",
       "      <td>0.060446</td>\n",
       "    </tr>\n",
       "    <tr>\n",
       "      <th>4</th>\n",
       "      <td>wkwkwkkw</td>\n",
       "      <td>0.057278</td>\n",
       "    </tr>\n",
       "    <tr>\n",
       "      <th>5</th>\n",
       "      <td>hiyaaa</td>\n",
       "      <td>0.048409</td>\n",
       "    </tr>\n",
       "    <tr>\n",
       "      <th>6</th>\n",
       "      <td>wkwkwkwk</td>\n",
       "      <td>0.047572</td>\n",
       "    </tr>\n",
       "    <tr>\n",
       "      <th>7</th>\n",
       "      <td>wkwkwkw</td>\n",
       "      <td>0.043911</td>\n",
       "    </tr>\n",
       "    <tr>\n",
       "      <th>8</th>\n",
       "      <td>wkwk</td>\n",
       "      <td>0.038416</td>\n",
       "    </tr>\n",
       "    <tr>\n",
       "      <th>9</th>\n",
       "      <td>wkwkwkwkwkw</td>\n",
       "      <td>0.035172</td>\n",
       "    </tr>\n",
       "  </tbody>\n",
       "</table>\n",
       "</div>"
      ],
      "text/plain": [
       "       keyword     score\n",
       "0       wkwkwk  0.111344\n",
       "1        wkwkw  0.073569\n",
       "2       wkwkkw  0.071875\n",
       "3      wkkwkwk  0.060446\n",
       "4     wkwkwkkw  0.057278\n",
       "5       hiyaaa  0.048409\n",
       "6     wkwkwkwk  0.047572\n",
       "7      wkwkwkw  0.043911\n",
       "8         wkwk  0.038416\n",
       "9  wkwkwkwkwkw  0.035172"
      ]
     },
     "execution_count": 28,
     "metadata": {},
     "output_type": "execute_result"
    }
   ],
   "source": [
    "pd.DataFrame(model.get_topic(0)).rename(columns={0: 'keyword', 1:'score'})"
   ]
  },
  {
   "attachments": {},
   "cell_type": "markdown",
   "metadata": {},
   "source": [
    "Topics over time"
   ]
  },
  {
   "cell_type": "code",
   "execution_count": 29,
   "metadata": {},
   "outputs": [
    {
     "data": {
      "application/vnd.plotly.v1+json": {
       "config": {
        "plotlyServerURL": "https://plotly.com"
       },
       "data": [
        {
         "hoverinfo": "text",
         "hovertext": [
          "<b>Topic 0</b><br>Words: wkwkwk, wkwkw, wkwkkw, wkkwkwk, wkwkwkkw",
          "<b>Topic 0</b><br>Words: mixue, gapapa, wkwk, wkwkwk, wkwkw",
          "<b>Topic 0</b><br>Words: online, wkwkw, buat, wkwkwk, wkwkkw",
          "<b>Topic 0</b><br>Words: idih, penjilat, wkwkwkkw, wkkwkw, wkwkwk",
          "<b>Topic 0</b><br>Words: wawwww, waaawww, wkwkwk, wkwkw, wkwkkw",
          "<b>Topic 0</b><br>Words: wwkwkwwkkw, wkwkwk, wkwkw, wkwkkw, wkkwkwk",
          "<b>Topic 0</b><br>Words: wkkwkwkwk, wkwkwk, wkwkw, wkwkkw, wkkwkwk",
          "<b>Topic 0</b><br>Words: semangay, suddah, presentasi, padahal, kwkwkw",
          "<b>Topic 0</b><br>Words: geees, tengkyu2, jg, wkwkwk, wkwkw",
          "<b>Topic 0</b><br>Words: wkwkwkwk, wkwkwk, wkwkw, wkwkkw, wkkwkwk",
          "<b>Topic 0</b><br>Words: panutanqu, wkwkw, erland, wkwkwk, wkwkkw",
          "<b>Topic 0</b><br>Words: lupaa, yaaaaa, jgn, isi, wkwkwk",
          "<b>Topic 0</b><br>Words: byk, wkwkwkwkwkw, smua, izin, apaan",
          "<b>Topic 0</b><br>Words: bntr, bareng, khalid, duo, diskusi",
          "<b>Topic 0</b><br>Words: wkwk, wkwkwk, wkwkw, wkwkkw, wkkwkwk",
          "<b>Topic 0</b><br>Words: wkwkwkwwk, yaudah, wkwkwk, wkwkw, wkwkkw",
          "<b>Topic 0</b><br>Words: mudeng, msh, bsa, request, iyaa",
          "<b>Topic 0</b><br>Words: mager, belajar, wkwkkw, lagi, aku",
          "<b>Topic 0</b><br>Words: wkwkwk, wkwkw, wkwkkw, wkkwkwk, wkwkwkkw",
          "<b>Topic 0</b><br>Words: cenayang, yaaa, wkwk, wkwkwk, wkwkw",
          "<b>Topic 0</b><br>Words: wkwkkwwkkwwkwkkwwk, wkwkwk, wkwkw, wkwkkw, wkkwkwk",
          "<b>Topic 0</b><br>Words: muntah, wkwkwkww, bgt, wkwkwk, wkwkw",
          "<b>Topic 0</b><br>Words: bodoh, cpt, wkwkwkwkw, bgt, wkwkwk",
          "<b>Topic 0</b><br>Words: wkwwkwkkw, wkwkwk, wkwkw, wkwkkw, wkkwkwk",
          "<b>Topic 0</b><br>Words: wkwkwwkkw, iyaa, iya, wkwkwk, wkwkw",
          "<b>Topic 0</b><br>Words: wkwkwk, wkwkw, wkwkkw, wkkwkwk, wkwkwkkw",
          "<b>Topic 0</b><br>Words: lho, lha, in, belom, wkwkwk",
          "<b>Topic 0</b><br>Words: eek, wkwkkw, wkwkwk, wkwkw, wkkwkwk",
          "<b>Topic 0</b><br>Words: 50rb, juli, mayan, wkwkkw, sampe",
          "<b>Topic 0</b><br>Words: website, kan, wkwkwk, wkwkw, wkwkkw",
          "<b>Topic 0</b><br>Words: wkwkwkwkkwwk, oncam, gamandi, stalk, pd",
          "<b>Topic 0</b><br>Words: squishy, wkwkwkkw, kek, jal, kak",
          "<b>Topic 0</b><br>Words: trlalu, tua, idol, wkwkkw, jd",
          "<b>Topic 0</b><br>Words: ngpn, woi, wkwkwk, wkwkw, wkwkkw",
          "<b>Topic 0</b><br>Words: bundir, horor, woy, kwkwkw, jgn",
          "<b>Topic 0</b><br>Words: wkwkwk, wkwkw, wkwkkw, wkkwkwk, wkwkwkkw",
          "<b>Topic 0</b><br>Words: wkwkwkwwkwkw, wkwkwk, wkwkw, wkwkkw, wkkwkwk",
          "<b>Topic 0</b><br>Words: offcam, lgsng, wkwkwkw, wkwkwk, wkwkw",
          "<b>Topic 0</b><br>Words: riss, wkwkw, thank, wkwkwk, wkwkkw",
          "<b>Topic 0</b><br>Words: hidayatur, benardi, rosyidah, ardiyanti, rika",
          "<b>Topic 0</b><br>Words: hiyaaa, wkkwkwk, wkwkw, wkwkwk, wkwkkw",
          "<b>Topic 0</b><br>Words: wkwkw, wkwkwk, wkwkkw, wkkwkwk, wkwkwkkw",
          "<b>Topic 0</b><br>Words: asem, wkwkwk, wkwkw, wkwkkw, wkkwkwk",
          "<b>Topic 0</b><br>Words: wkwkwkkwk, wkwkwk, wkwkw, wkwkkw, wkkwkwk",
          "<b>Topic 0</b><br>Words: wkwkkwkwk, wkwkwk, wkwkw, wkwkkw, wkkwkwk",
          "<b>Topic 0</b><br>Words: wkwkkwkkwkwk, wkwkwk, wkwkw, wkwkkw, wkkwkwk",
          "<b>Topic 0</b><br>Words: wkwkw, wkwkwk, wkwkkw, wkkwkwk, wkwkwkkw",
          "<b>Topic 0</b><br>Words: bknny, dengerin, kls, malah, bkin",
          "<b>Topic 0</b><br>Words: wkwkwk, wkwkw, wkwkkw, wkkwkwk, wkwkwkkw",
          "<b>Topic 0</b><br>Words: wkwkwkwk, wkwkwk, wkwkw, wkwkkw, wkkwkwk",
          "<b>Topic 0</b><br>Words: chuakksss, wkwkwk, wkwkw, wkwkkw, wkkwkwk",
          "<b>Topic 0</b><br>Words: wkwkwk, wkwkw, wkwkkw, wkkwkwk, wkwkwkkw",
          "<b>Topic 0</b><br>Words: namaku, disebut, wkkwkwk, wkwkkw, wkwkwk",
          "<b>Topic 0</b><br>Words: wkkwwkwk, wkwkwk, wkwkw, wkwkkw, wkkwkwk",
          "<b>Topic 0</b><br>Words: hbd, wiii, rika, wkwkwk, wkwkw",
          "<b>Topic 0</b><br>Words: wkwkkwwk, wkwkwk, wkwkw, wkwkkw, wkkwkwk",
          "<b>Topic 0</b><br>Words: wkwkwkwk, wkwkwk, wkwkw, wkwkkw, wkkwkwk",
          "<b>Topic 0</b><br>Words: wkwkwkw, wkwkwk, wkwkw, wkwkkw, wkkwkwk",
          "<b>Topic 0</b><br>Words: wkwkwk, wkwkw, wkwkkw, wkkwkwk, wkwkwkkw",
          "<b>Topic 0</b><br>Words: typo, sorry, wkwkwkkw, wkwkwk, wkwkw",
          "<b>Topic 0</b><br>Words: aduuuh, wkwkkwkwk, wkwkw, wkwkwk, wkwkkw",
          "<b>Topic 0</b><br>Words: skkwkwk, wkwkwk, wkwkw, wkwkkw, wkkwkwk",
          "<b>Topic 0</b><br>Words: euw, wkwkwk, wkwkw, wkwkkw, wkkwkwk",
          "<b>Topic 0</b><br>Words: wkkwkw, wkwkwk, wkwkw, wkwkkw, wkkwkwk",
          "<b>Topic 0</b><br>Words: bisaaaa, gituuu, yaaaaa, wkwkwkw, wkwkwk",
          "<b>Topic 0</b><br>Words: jh, khalid, wkwkwk, wkwkw, wkwkkw",
          "<b>Topic 0</b><br>Words: syahadat, sampe, wkwkwk, lagi, wkwkw",
          "<b>Topic 0</b><br>Words: wkwkwk, wkwkw, wkwkkw, wkkwkwk, wkwkwkkw",
          "<b>Topic 0</b><br>Words: foto, wkwkkw, dulu, wkwkwk, wkwkw",
          "<b>Topic 0</b><br>Words: wkwkwk, wkwkw, wkwkkw, wkkwkwk, wkwkwkkw",
          "<b>Topic 0</b><br>Words: salah, wkwk, wkwkwk, wkwkw, wkwkkw",
          "<b>Topic 0</b><br>Words: untung, wkkwkwk, wkwkwkkw, saja, wkwk",
          "<b>Topic 0</b><br>Words: geblek, wkwkkw, wkwkwk, wkwkw, wkkwkwk",
          "<b>Topic 0</b><br>Words: kwkkwkwkwk, consul, wkwkwkwkw, apaan, gfp",
          "<b>Topic 0</b><br>Words: herdian, jd, kok, sih, wkwkwk",
          "<b>Topic 0</b><br>Words: kwakwakawk, mabok, wkkwkwk, ngakak, emg",
          "<b>Topic 0</b><br>Words: wkwkkwkwkwkk, wkwkwk, wkwkw, wkwkkw, wkkwkwk",
          "<b>Topic 0</b><br>Words: wkwkkwkwkwk, wkwkwk, wkwkw, wkwkkw, wkkwkwk",
          "<b>Topic 0</b><br>Words: ekwkkwkwkwk, goodluckkkkk, wkwkwk, wkwkw, wkwkkw",
          "<b>Topic 0</b><br>Words: dhit, anjing, valdo, si, bgt",
          "<b>Topic 0</b><br>Words: wkwkkwkwkw, time, full, gabsa, double",
          "<b>Topic 0</b><br>Words: pngen, pipis, aduh, jd, wkwkwk",
          "<b>Topic 0</b><br>Words: ngomong, ngapain, join, tadi, wkwkwkwk",
          "<b>Topic 0</b><br>Words: daritadi, typing, ichsan, wkwkwk, kak",
          "<b>Topic 0</b><br>Words: goodluckk, wkwkwk, wkwkw, wkwkkw, wkkwkwk",
          "<b>Topic 0</b><br>Words: nakal, wkwkkwwkwk, jgn, wkwkw, wkwkwk",
          "<b>Topic 0</b><br>Words: kwkwkkwkwk, wkwkwk, wkwkw, wkwkkw, wkkwkwk",
          "<b>Topic 0</b><br>Words: bagusin, wkwkwkwkwkw, dongg, sm, buat",
          "<b>Topic 0</b><br>Words: wkwkwkwk, wkwkwk, wkwkw, wkwkkw, wkkwkwk",
          "<b>Topic 0</b><br>Words: wkkwkwkwkkww, wkwkwk, wkwkw, wkwkkw, wkkwkwk",
          "<b>Topic 0</b><br>Words: smuaa, wkwkwwk, tencuuuu, wkwkwk, wkwkw"
         ],
         "marker": {
          "color": "#E69F00"
         },
         "mode": "lines",
         "name": "0_wkwkwk_wkwkw_wkwkkw_wkkwkwk",
         "type": "scatter",
         "x": [
          "2023-01-09T21:04:00",
          "2023-01-16T21:15:00",
          "2023-01-16T21:20:00",
          "2023-01-16T21:24:00",
          "2023-01-16T21:25:00",
          "2023-01-24T21:10:00",
          "2023-01-30T20:53:00",
          "2023-01-30T20:54:00",
          "2023-01-31T21:01:00",
          "2023-02-09T14:01:00",
          "2023-02-09T14:21:00",
          "2023-02-13T21:02:00",
          "2023-02-13T21:22:00",
          "2023-02-14T20:55:00",
          "2023-02-14T20:57:00",
          "2023-02-15T11:26:00",
          "2023-02-15T18:46:00",
          "2023-02-16T18:16:00",
          "2023-02-21T19:30:00",
          "2023-02-21T21:12:00",
          "2023-02-22T13:06:00",
          "2023-02-22T13:11:00",
          "2023-02-22T19:00:00",
          "2023-02-22T19:59:00",
          "2023-02-23T11:00:00",
          "2023-02-23T16:05:00",
          "2023-02-23T16:09:00",
          "2023-02-23T16:17:00",
          "2023-02-23T16:47:00",
          "2023-02-23T19:10:00",
          "2023-02-24T20:34:00",
          "2023-02-27T15:34:00",
          "2023-02-27T15:36:00",
          "2023-02-27T19:42:00",
          "2023-02-27T19:44:00",
          "2023-02-27T22:02:00",
          "2023-03-01T19:48:00",
          "2023-03-01T19:53:00",
          "2023-03-01T20:28:00",
          "2023-03-02T21:27:00",
          "2023-03-03T22:39:00",
          "2023-03-04T11:48:00",
          "2023-03-04T13:08:00",
          "2023-03-07T20:10:00",
          "2023-03-07T20:40:00",
          "2023-03-07T23:15:00",
          "2023-03-08T20:04:00",
          "2023-03-08T21:20:00",
          "2023-03-08T21:26:00",
          "2023-03-08T21:56:00",
          "2023-03-16T09:32:00",
          "2023-03-18T12:17:00",
          "2023-03-18T15:15:00",
          "2023-03-20T20:37:00",
          "2023-03-21T19:20:00",
          "2023-03-22T04:52:00",
          "2023-03-24T21:21:00",
          "2023-03-24T21:31:00",
          "2023-03-25T14:58:00",
          "2023-03-25T14:59:00",
          "2023-03-29T20:31:00",
          "2023-04-03T20:20:00",
          "2023-04-03T20:26:00",
          "2023-04-03T20:29:00",
          "2023-04-03T20:45:00",
          "2023-04-05T21:35:00",
          "2023-04-06T22:02:00",
          "2023-04-06T22:03:00",
          "2023-04-10T20:10:00",
          "2023-04-10T21:02:00",
          "2023-04-11T12:09:00",
          "2023-04-11T12:10:00",
          "2023-04-11T12:11:00",
          "2023-04-11T12:15:00",
          "2023-04-11T12:16:00",
          "2023-04-11T12:17:00",
          "2023-04-11T12:18:00",
          "2023-04-11T12:20:00",
          "2023-04-11T12:25:00",
          "2023-04-11T12:27:00",
          "2023-04-11T12:33:00",
          "2023-04-11T18:47:00",
          "2023-04-11T19:23:00",
          "2023-04-11T19:50:00",
          "2023-04-13T19:42:00",
          "2023-04-13T20:19:00",
          "2023-04-13T20:34:00",
          "2023-04-13T22:40:00",
          "2023-04-13T23:28:00",
          "2023-04-17T19:44:00",
          "2023-04-17T21:36:00"
         ],
         "y": [
          1,
          1,
          1,
          2,
          2,
          1,
          1,
          1,
          1,
          1,
          1,
          1,
          1,
          1,
          1,
          1,
          1,
          1,
          1,
          1,
          1,
          1,
          1,
          1,
          1,
          1,
          1,
          1,
          1,
          1,
          2,
          1,
          1,
          1,
          1,
          1,
          1,
          1,
          1,
          1,
          2,
          1,
          1,
          1,
          1,
          1,
          1,
          1,
          1,
          1,
          1,
          1,
          2,
          1,
          1,
          1,
          1,
          1,
          1,
          1,
          2,
          1,
          1,
          1,
          1,
          1,
          1,
          1,
          1,
          1,
          1,
          3,
          1,
          2,
          1,
          2,
          1,
          1,
          1,
          1,
          1,
          1,
          1,
          1,
          1,
          2,
          1,
          1,
          1,
          1,
          1
         ]
        },
        {
         "hoverinfo": "text",
         "hovertext": [
          "<b>Topic 1</b><br>Words: guys, tumben, brandon, kokk, hoki",
          "<b>Topic 1</b><br>Words: terbatas, lho, gmeet, tumben, brandon",
          "<b>Topic 1</b><br>Words: liburr, penggantii, kokk, gada, kelas",
          "<b>Topic 1</b><br>Words: cusss, brandon, tumben, kokk, hoki",
          "<b>Topic 1</b><br>Words: sedus, beli, indomie, brandon, tumben",
          "<b>Topic 1</b><br>Words: bobo, met, tumben, brandon, kokk",
          "<b>Topic 1</b><br>Words: bgnin, indomie, pake, brandon, tumben",
          "<b>Topic 1</b><br>Words: 18, kekny, tumben, brandon, kokk",
          "<b>Topic 1</b><br>Words: kayaknyaa, belom, tumben, brandon, kokk",
          "<b>Topic 1</b><br>Words: hamdalah, sholeh, rezeki, anak, tumben",
          "<b>Topic 1</b><br>Words: puyeng, sebenernya, agak, wkwk, tumben",
          "<b>Topic 1</b><br>Words: kerennn, brader, brandon, tumben, kokk",
          "<b>Topic 1</b><br>Words: hoki, brandon, tumben, kokk, gais",
          "<b>Topic 1</b><br>Words: nanyain, kabar, tumben, brandon, kokk",
          "<b>Topic 1</b><br>Words: keren, brandon, tumben, kokk, hoki",
          "<b>Topic 1</b><br>Words: ngarepnta, tumbler, revou, tumben, brandon",
          "<b>Topic 1</b><br>Words: ngakak, tumben, brandon, kokk, hoki",
          "<b>Topic 1</b><br>Words: ide, bagu, sablon, jal, kak",
          "<b>Topic 1</b><br>Words: sus, tumben, brandon, kokk, gais",
          "<b>Topic 1</b><br>Words: gais, bobo, met, tumben, brandon",
          "<b>Topic 1</b><br>Words: boboin, nina, brandon, tumben, kokk",
          "<b>Topic 1</b><br>Words: maap, tumben, brandon, kokk, gais",
          "<b>Topic 1</b><br>Words: ish, brandon, tumben, kokk, hoki",
          "<b>Topic 1</b><br>Words: okaaaii, brandon, tumben, kokk, gais",
          "<b>Topic 1</b><br>Words: compilee, slesai, blm, di, brandon",
          "<b>Topic 1</b><br>Words: okaaii, brandon, tumben, kokk, gais",
          "<b>Topic 1</b><br>Words: amaan, tumben, brandon, kokk, hoki",
          "<b>Topic 1</b><br>Words: pukpuk, tumben, brandon, kokk, hoki",
          "<b>Topic 1</b><br>Words: statement, kirain, tumben, brandon, kokk",
          "<b>Topic 1</b><br>Words: laporin, ah, tumben, brandon, kokk",
          "<b>Topic 1</b><br>Words: ngancem, mulu, tumben, brandon, kokk",
          "<b>Topic 1</b><br>Words: btr, tumben, libur, buka, lg",
          "<b>Topic 1</b><br>Words: dipindahin, kapipin, ggra, knp, coba",
          "<b>Topic 1</b><br>Words: jatinangor, di, tumben, brandon, kokk",
          "<b>Topic 1</b><br>Words: ribetz, tumben, brandon, kokk, hoki",
          "<b>Topic 1</b><br>Words: geli, brandon, tumben, kokk, hoki",
          "<b>Topic 1</b><br>Words: porno, joget, live, kak, brandon",
          "<b>Topic 1</b><br>Words: muliawan, kokk, namanyaa, senior, ichsan",
          "<b>Topic 1</b><br>Words: muda, brandon, tumben, kokk, hoki",
          "<b>Topic 1</b><br>Words: brandon, lapor, lha, ttp, nomor",
          "<b>Topic 1</b><br>Words: ex, tl, brandon, tumben, kokk",
          "<b>Topic 1</b><br>Words: nitips, brandon, tumben, kokk, hoki",
          "<b>Topic 1</b><br>Words: gaaas, brandon, tumben, kokk, hoki",
          "<b>Topic 1</b><br>Words: nagih, betah, tumben, brandon, kokk",
          "<b>Topic 1</b><br>Words: dipin, brandon, tumben, kokk, hoki",
          "<b>Topic 1</b><br>Words: tau, tumben, brandon, kokk, gais",
          "<b>Topic 1</b><br>Words: tega, tumben, brandon, kokk, gais",
          "<b>Topic 1</b><br>Words: see, tumben, brandon, kokk, hoki",
          "<b>Topic 1</b><br>Words: stil, wik, neks, fondesien, tumben",
          "<b>Topic 1</b><br>Words: hayolho, tumben, brandon, kokk, gais",
          "<b>Topic 1</b><br>Words: bebaaas, tumben, brandon, kokk, gais",
          "<b>Topic 1</b><br>Words: gais, mangat, tumben, brandon, kokk",
          "<b>Topic 1</b><br>Words: atlas, ke, tumben, brandon, kokk",
          "<b>Topic 1</b><br>Words: masakin, indomi, gua, kak, brandon",
          "<b>Topic 1</b><br>Words: owkayyy, brandon, tumben, kokk, gais",
          "<b>Topic 1</b><br>Words: ngumpul, tumben, brandon, kokk, hoki",
          "<b>Topic 1</b><br>Words: mutilasi, somasi, kudeta, skalian, aja",
          "<b>Topic 1</b><br>Words: ajaaa, enak, tumben, brandon, kokk",
          "<b>Topic 1</b><br>Words: serius, tumben, brandon, kokk, gais",
          "<b>Topic 1</b><br>Words: analir, tumben, brandon, kokk, hoki",
          "<b>Topic 1</b><br>Words: aman, tumben, brandon, kokk, hoki",
          "<b>Topic 1</b><br>Words: owalaah, brandon, tumben, kokk, gais",
          "<b>Topic 1</b><br>Words: parah, aris, brandon, tumben, kokk",
          "<b>Topic 1</b><br>Words: uwiiii, tumben, brandon, kokk, hoki",
          "<b>Topic 1</b><br>Words: suuudzonnnn, tumben, brandon, kokk, gais",
          "<b>Topic 1</b><br>Words: selaw, proyek, tumbal, brandon, tumben",
          "<b>Topic 1</b><br>Words: panuan, brandon, tumben, kokk, hoki",
          "<b>Topic 1</b><br>Words: arisss, congrats, brandon, tumben, kokk",
          "<b>Topic 1</b><br>Words: nonaktif, barklight, taun, tp, udah",
          "<b>Topic 1</b><br>Words: malem, tumben, brandon, kokk, hoki",
          "<b>Topic 1</b><br>Words: nggaa, brandon, tumben, kokk, gais",
          "<b>Topic 1</b><br>Words: lama, bgt, tumben, brandon, kokk",
          "<b>Topic 1</b><br>Words: kuyy, curhat, tumben, brandon, kokk",
          "<b>Topic 1</b><br>Words: kamis, maap, tumben, brandon, kokk",
          "<b>Topic 1</b><br>Words: vivin, tajam, langung, brandon, tumben",
          "<b>Topic 1</b><br>Words: sisany, anjir, brandon, dateng, tolong",
          "<b>Topic 1</b><br>Words: akhiiiir, paling, brandon, tumben, kokk",
          "<b>Topic 1</b><br>Words: sabrina, baju, pakai, kajal, tumben",
          "<b>Topic 1</b><br>Words: kegedean, jaketny, cmn, brandon, tumben",
          "<b>Topic 1</b><br>Words: ganteng, aris, brandon, tumben, kokk",
          "<b>Topic 1</b><br>Words: otw, isi, tumben, brandon, kokk"
         ],
         "marker": {
          "color": "#56B4E9"
         },
         "mode": "lines",
         "name": "1_brandon_tumben_kokk_gais",
         "type": "scatter",
         "x": [
          "2023-01-16T21:11:00",
          "2023-01-16T21:20:00",
          "2023-01-19T21:22:00",
          "2023-01-21T16:12:00",
          "2023-01-24T21:06:00",
          "2023-01-26T21:28:00",
          "2023-01-26T21:39:00",
          "2023-01-28T10:51:00",
          "2023-01-28T15:39:00",
          "2023-01-30T20:54:00",
          "2023-02-01T21:18:00",
          "2023-02-06T19:21:00",
          "2023-02-06T19:24:00",
          "2023-02-09T14:01:00",
          "2023-02-09T14:16:00",
          "2023-02-09T15:08:00",
          "2023-02-09T15:10:00",
          "2023-02-09T17:20:00",
          "2023-02-13T21:13:00",
          "2023-02-13T21:22:00",
          "2023-02-14T20:53:00",
          "2023-02-14T20:57:00",
          "2023-02-15T10:06:00",
          "2023-02-15T19:27:00",
          "2023-02-19T10:32:00",
          "2023-02-20T19:03:00",
          "2023-02-21T19:32:00",
          "2023-02-21T22:11:00",
          "2023-02-22T13:07:00",
          "2023-02-22T13:13:00",
          "2023-02-22T13:35:00",
          "2023-02-22T18:59:00",
          "2023-02-23T11:07:00",
          "2023-02-23T11:13:00",
          "2023-02-23T16:08:00",
          "2023-02-23T16:12:00",
          "2023-02-23T21:02:00",
          "2023-02-24T20:34:00",
          "2023-02-24T20:39:00",
          "2023-02-24T20:40:00",
          "2023-02-27T15:43:00",
          "2023-02-27T20:02:00",
          "2023-03-01T18:35:00",
          "2023-03-01T18:40:00",
          "2023-03-01T19:48:00",
          "2023-03-01T19:54:00",
          "2023-03-03T10:33:00",
          "2023-03-03T17:02:00",
          "2023-03-03T22:39:00",
          "2023-03-04T11:44:00",
          "2023-03-06T21:23:00",
          "2023-03-07T19:31:00",
          "2023-03-07T19:44:00",
          "2023-03-07T20:44:00",
          "2023-03-08T06:35:00",
          "2023-03-08T21:09:00",
          "2023-03-08T21:10:00",
          "2023-03-08T21:21:00",
          "2023-03-08T21:25:00",
          "2023-03-08T22:12:00",
          "2023-03-09T21:17:00",
          "2023-03-11T14:07:00",
          "2023-03-16T09:30:00",
          "2023-03-21T19:02:00",
          "2023-04-01T11:18:00",
          "2023-04-03T20:44:00",
          "2023-04-03T20:49:00",
          "2023-04-05T21:27:00",
          "2023-04-05T21:35:00",
          "2023-04-06T21:31:00",
          "2023-04-10T21:02:00",
          "2023-04-11T12:09:00",
          "2023-04-11T12:10:00",
          "2023-04-11T12:13:00",
          "2023-04-11T12:15:00",
          "2023-04-11T12:20:00",
          "2023-04-11T12:24:00",
          "2023-04-13T20:10:00",
          "2023-04-13T20:12:00",
          "2023-04-13T20:35:00",
          "2023-04-17T19:48:00"
         ],
         "y": [
          1,
          1,
          1,
          1,
          1,
          1,
          1,
          1,
          1,
          2,
          1,
          1,
          1,
          1,
          1,
          1,
          1,
          1,
          1,
          1,
          1,
          1,
          1,
          1,
          1,
          1,
          1,
          1,
          1,
          1,
          1,
          3,
          1,
          1,
          1,
          1,
          2,
          3,
          1,
          2,
          1,
          1,
          1,
          2,
          1,
          1,
          1,
          1,
          1,
          1,
          1,
          1,
          1,
          2,
          1,
          1,
          3,
          1,
          1,
          1,
          1,
          1,
          1,
          1,
          1,
          2,
          1,
          1,
          1,
          1,
          1,
          1,
          1,
          2,
          2,
          2,
          1,
          1,
          1,
          1,
          1
         ]
        },
        {
         "hoverinfo": "text",
         "hovertext": [
          "<b>Topic 2</b><br>Words: wokeh, you, thank, kak, congrats",
          "<b>Topic 2</b><br>Words: nemu, youuu, thank, oke, sudah",
          "<b>Topic 2</b><br>Words: infonya, terima, baik, kasih, kak",
          "<b>Topic 2</b><br>Words: editor, terimakasii, akses, ya, thank",
          "<b>Topic 2</b><br>Words: okayy, terimakasih, kak, thank, you",
          "<b>Topic 2</b><br>Words: terimakasih, kaa, thank, you, congrats",
          "<b>Topic 2</b><br>Words: 80, uuu, diingatkan, attendancenya, dibawah",
          "<b>Topic 2</b><br>Words: you, thank, kak, congrats, makasih",
          "<b>Topic 2</b><br>Words: mas, okayy, uu, thank, you",
          "<b>Topic 2</b><br>Words: siapp, you, thank, ka, congrats",
          "<b>Topic 2</b><br>Words: balas, youu, thank, sudah, ya",
          "<b>Topic 2</b><br>Words: youu, thank, you, congrats, makasih",
          "<b>Topic 2</b><br>Words: thanks, makasih, jalit, banyak, kakak",
          "<b>Topic 2</b><br>Words: asik, thanks, aris, kak, thank",
          "<b>Topic 2</b><br>Words: terimakasih, thank, you, congrats, makasih",
          "<b>Topic 2</b><br>Words: birthdaayyyy, aditttttttt, happy, thank, you",
          "<b>Topic 2</b><br>Words: makasih, semua, thank, you, congrats",
          "<b>Topic 2</b><br>Words: makasih, rika, aris, thank, you",
          "<b>Topic 2</b><br>Words: thanks, guys, thank, you, congrats",
          "<b>Topic 2</b><br>Words: kasihh, bersamaaa, berdiskusi, terima, sudah",
          "<b>Topic 2</b><br>Words: mkasih, kaaa, bobo, congrats, nya",
          "<b>Topic 2</b><br>Words: congrattss, smuanyaa, terima, kasih, thank",
          "<b>Topic 2</b><br>Words: makasih, aris, thank, you, congrats",
          "<b>Topic 2</b><br>Words: ariss, uda, share, thank, you",
          "<b>Topic 2</b><br>Words: terima, kasih, aris, ka, thank",
          "<b>Topic 2</b><br>Words: dann, ternyata, assignmentnyaa, dengerin, slesai",
          "<b>Topic 2</b><br>Words: jack, you, thank, kak, congrats",
          "<b>Topic 2</b><br>Words: ka, keren, makasih, thank, you",
          "<b>Topic 2</b><br>Words: makasih, kak, thank, you, congrats",
          "<b>Topic 2</b><br>Words: its, okay, youu, thank, ka",
          "<b>Topic 2</b><br>Words: menugassss, selamat, thank, you, congrats",
          "<b>Topic 2</b><br>Words: kakkj, you, thank, congrats, makasih",
          "<b>Topic 2</b><br>Words: kakk, thank, you, congrats, makasih",
          "<b>Topic 2</b><br>Words: congrats, alex, kak, thank, you",
          "<b>Topic 2</b><br>Words: hokian, hoki, terima, tadi, kasih",
          "<b>Topic 2</b><br>Words: youuu, thank, you, congrats, makasih",
          "<b>Topic 2</b><br>Words: valentines, tdr, slmt, rekaman, day",
          "<b>Topic 2</b><br>Words: yayyyyy, valeriee, menangg, uda, congrats",
          "<b>Topic 2</b><br>Words: taun, valeee, ulang, selamat, thank",
          "<b>Topic 2</b><br>Words: tahuun, valeee, ulang, selamat, thank",
          "<b>Topic 2</b><br>Words: family, bless, always, god, your",
          "<b>Topic 2</b><br>Words: makasih, alex, kak, thank, you",
          "<b>Topic 2</b><br>Words: erlandd, you, thank, congrats, makasih",
          "<b>Topic 2</b><br>Words: hariku, berwarna, membuat, sdh, lebih",
          "<b>Topic 2</b><br>Words: pagi, haii, hai, thank, you",
          "<b>Topic 2</b><br>Words: hampir, thanks, tadi, oke, lupa",
          "<b>Topic 2</b><br>Words: terima, kasih, ka, thank, you",
          "<b>Topic 2</b><br>Words: uu, sipp, alit, thank, you",
          "<b>Topic 2</b><br>Words: alternative, kata, diisi, congrats, untuk",
          "<b>Topic 2</b><br>Words: thanks, thank, you, congrats, makasih",
          "<b>Topic 2</b><br>Words: wish, all, best, the, you",
          "<b>Topic 2</b><br>Words: tonight, lusa, volunteer, for, thank",
          "<b>Topic 2</b><br>Words: thanks, kak, thank, you, congrats",
          "<b>Topic 2</b><br>Words: catet, thankkk, youu, udah, thank",
          "<b>Topic 2</b><br>Words: broo, congrats, aris, thank, you",
          "<b>Topic 2</b><br>Words: gakk, paham, thanks, kok, guys",
          "<b>Topic 2</b><br>Words: terima, siap, ichsan, kasih, ka",
          "<b>Topic 2</b><br>Words: youuu, thank, you, congrats, makasih",
          "<b>Topic 2</b><br>Words: you, thank, congrats, makasih, terima",
          "<b>Topic 2</b><br>Words: you, thank, congrats, makasih, terima",
          "<b>Topic 2</b><br>Words: guyzz, congrats, thank, you, makasih",
          "<b>Topic 2</b><br>Words: penyemangatnya, vale, makasih, untuk, thank",
          "<b>Topic 2</b><br>Words: kaaakkk, you, thank, congrats, makasih",
          "<b>Topic 2</b><br>Words: elyy, yayy, congrats, keren, thank",
          "<b>Topic 2</b><br>Words: sekali, kaliann, all, you, congrats",
          "<b>Topic 2</b><br>Words: you, thank, guys, congrats, makasih",
          "<b>Topic 2</b><br>Words: youu, thank, you, congrats, makasih",
          "<b>Topic 2</b><br>Words: istirahattttt, yay, bangga, met, thank",
          "<b>Topic 2</b><br>Words: youu, thank, you, congrats, makasih",
          "<b>Topic 2</b><br>Words: youuuu, yaaayyy, congrats, vale, thank",
          "<b>Topic 2</b><br>Words: alitt, congratsss, mantabbb, duo, menang",
          "<b>Topic 2</b><br>Words: you, thank, portofolio, daviz, hello"
         ],
         "marker": {
          "color": "#009E73"
         },
         "mode": "lines",
         "name": "2_thank_you_congrats_makasih",
         "type": "scatter",
         "x": [
          "2023-01-07T09:27:00",
          "2023-01-07T10:45:00",
          "2023-01-09T12:14:00",
          "2023-01-09T21:01:00",
          "2023-01-11T18:57:00",
          "2023-01-11T18:58:00",
          "2023-01-11T21:13:00",
          "2023-01-11T21:20:00",
          "2023-01-11T21:38:00",
          "2023-01-14T16:00:00",
          "2023-01-16T09:52:00",
          "2023-01-16T14:31:00",
          "2023-01-16T21:23:00",
          "2023-01-16T21:25:00",
          "2023-01-19T12:16:00",
          "2023-01-24T19:14:00",
          "2023-01-24T19:55:00",
          "2023-01-24T21:31:00",
          "2023-01-25T20:26:00",
          "2023-01-25T20:28:00",
          "2023-01-25T21:13:00",
          "2023-01-25T21:14:00",
          "2023-01-27T09:15:00",
          "2023-01-27T09:16:00",
          "2023-01-27T09:29:00",
          "2023-01-28T10:44:00",
          "2023-01-31T21:00:00",
          "2023-01-31T21:01:00",
          "2023-02-01T21:28:00",
          "2023-02-02T20:50:00",
          "2023-02-02T21:38:00",
          "2023-02-02T22:17:00",
          "2023-02-04T17:53:00",
          "2023-02-06T19:03:00",
          "2023-02-06T19:20:00",
          "2023-02-11T15:17:00",
          "2023-02-14T20:53:00",
          "2023-02-15T19:02:00",
          "2023-02-18T10:55:00",
          "2023-02-18T10:57:00",
          "2023-02-18T11:14:00",
          "2023-02-18T13:24:00",
          "2023-02-21T21:29:00",
          "2023-02-22T20:03:00",
          "2023-02-23T10:26:00",
          "2023-03-03T20:09:00",
          "2023-03-07T10:57:00",
          "2023-03-08T20:04:00",
          "2023-03-11T15:08:00",
          "2023-03-14T19:01:00",
          "2023-03-21T19:03:00",
          "2023-03-27T23:30:00",
          "2023-03-29T14:21:00",
          "2023-04-03T20:44:00",
          "2023-04-05T21:27:00",
          "2023-04-05T21:33:00",
          "2023-04-06T21:35:00",
          "2023-04-10T19:06:00",
          "2023-04-10T19:16:00",
          "2023-04-10T19:19:00",
          "2023-04-10T19:50:00",
          "2023-04-11T13:23:00",
          "2023-04-11T18:45:00",
          "2023-04-11T19:51:00",
          "2023-04-11T19:52:00",
          "2023-04-13T19:33:00",
          "2023-04-13T21:45:00",
          "2023-04-13T21:47:00",
          "2023-04-13T22:22:00",
          "2023-04-15T16:20:00",
          "2023-04-16T20:40:00",
          "2023-04-17T22:43:00"
         ],
         "y": [
          1,
          1,
          1,
          1,
          1,
          1,
          2,
          1,
          1,
          1,
          1,
          1,
          3,
          1,
          1,
          1,
          1,
          1,
          1,
          1,
          2,
          2,
          1,
          1,
          1,
          1,
          1,
          1,
          1,
          1,
          1,
          1,
          1,
          1,
          1,
          1,
          1,
          1,
          1,
          1,
          1,
          1,
          1,
          1,
          1,
          1,
          1,
          1,
          1,
          1,
          1,
          1,
          1,
          1,
          1,
          1,
          1,
          1,
          1,
          1,
          1,
          1,
          1,
          1,
          2,
          1,
          1,
          1,
          1,
          2,
          1,
          2
         ]
        },
        {
         "hoverinfo": "text",
         "hovertext": [
          "<b>Topic 3</b><br>Words: nihhh, belom, menti, leave, yg",
          "<b>Topic 3</b><br>Words: hayolho, nilai, hahah, yg, aku",
          "<b>Topic 3</b><br>Words: kbalik, haha, yaa, menti, leave",
          "<b>Topic 3</b><br>Words: kaaaakkkk, keterima, waaah, kerja, selamat",
          "<b>Topic 3</b><br>Words: ketigaaa, harii, wkwkwkwk, udah, menti",
          "<b>Topic 3</b><br>Words: tudei, kerjanya, semangat, kak, menti",
          "<b>Topic 3</b><br>Words: canda, menti, leave, yg, ngobrolin",
          "<b>Topic 3</b><br>Words: aduh, menti, leave, yg, canda",
          "<b>Topic 3</b><br>Words: bwt, kirain, remed, grup, yg",
          "<b>Topic 3</b><br>Words: balesnya, ntran, hiii, ak, chat",
          "<b>Topic 3</b><br>Words: jak, mantabbb, bang, menti, leave",
          "<b>Topic 3</b><br>Words: assingment, kayaknya, intermediate, menti, leave",
          "<b>Topic 3</b><br>Words: wooow, mantabb, memang, menti, leave",
          "<b>Topic 3</b><br>Words: suto, siapeeee, mario, menti, leave",
          "<b>Topic 3</b><br>Words: gamau, kalah, kaos, dapet, revou",
          "<b>Topic 3</b><br>Words: mateo, menti, leave, yg, ngobrolin",
          "<b>Topic 3</b><br>Words: kajalit, jgn, jg, lupa, menti",
          "<b>Topic 3</b><br>Words: dtg, warning, letterr, sblm, mendadak",
          "<b>Topic 3</b><br>Words: smggu, gt, izin, jg, klo",
          "<b>Topic 3</b><br>Words: scpatnyaaa, bisaa, wkwkwkw, klo, menti",
          "<b>Topic 3</b><br>Words: makasiiii, mentemen, support, team, juga",
          "<b>Topic 3</b><br>Words: makasih, ely, kak, menti, leave",
          "<b>Topic 3</b><br>Words: gofoodin, wah, banyak, makasih, valeri",
          "<b>Topic 3</b><br>Words: shinchan, gor, anaknya, kayak, semoga",
          "<b>Topic 3</b><br>Words: menti, blm, masuk, buat, yg",
          "<b>Topic 3</b><br>Words: yel, dong, menti, leave, yg",
          "<b>Topic 3</b><br>Words: beginner, loncat, lgsng, advanced, ke",
          "<b>Topic 3</b><br>Words: meantime, bantuinn, bgung, code, the",
          "<b>Topic 3</b><br>Words: smgt, wkwkwkw, dong, nih, iya",
          "<b>Topic 3</b><br>Words: php, ihhh, bgt, menti, leave",
          "<b>Topic 3</b><br>Words: mana, jalit, jd, tl, menti",
          "<b>Topic 3</b><br>Words: kajalit, sini, aja, di, menti",
          "<b>Topic 3</b><br>Words: jauh, jkt, duh, menti, leave",
          "<b>Topic 3</b><br>Words: sby, menti, leave, yg, canda",
          "<b>Topic 3</b><br>Words: gratis, kereta, tiket, naik, gini",
          "<b>Topic 3</b><br>Words: wkwkkwkwkwkw, gada, mending, ngapain, vale",
          "<b>Topic 3</b><br>Words: kdeng, lbh, bsa, tl, yg",
          "<b>Topic 3</b><br>Words: pusing, tulisan, banyak, menti, leave",
          "<b>Topic 3</b><br>Words: ngakak, duh, sampe, aku, menti",
          "<b>Topic 3</b><br>Words: tumbal, dong, ke, jal, kak",
          "<b>Topic 3</b><br>Words: belajarnya, noted, mangat, oke, biar",
          "<b>Topic 3</b><br>Words: convert, sni, adaa, send, abs",
          "<b>Topic 3</b><br>Words: berevolusi, menti, leave, yg, canda",
          "<b>Topic 3</b><br>Words: haloo, weeks, evolusinya, kedepan, bagian",
          "<b>Topic 3</b><br>Words: stiker, wa, nya, ada, ga",
          "<b>Topic 3</b><br>Words: bengong, aja, ya, menti, leave",
          "<b>Topic 3</b><br>Words: ngebul, santuy, lah, habis, dulu",
          "<b>Topic 3</b><br>Words: njiiir, stgh, ngerjain, tp, belom",
          "<b>Topic 3</b><br>Words: dikasih, laen, soalnya, section, tau",
          "<b>Topic 3</b><br>Words: offcam, dh, dulu, kajal, menti",
          "<b>Topic 3</b><br>Words: cie, mangat, kalian, wkwkwk, menti",
          "<b>Topic 3</b><br>Words: lagu, nyala, btw, nya, sih",
          "<b>Topic 3</b><br>Words: ternak, upil, menti, leave, yg",
          "<b>Topic 3</b><br>Words: laper, abs, tiap, sm, dah",
          "<b>Topic 3</b><br>Words: awalannya, gaes, anulir, ya, menti",
          "<b>Topic 3</b><br>Words: mantabbb, semuanya, menti, leave, yg",
          "<b>Topic 3</b><br>Words: deh, masuk, wkwk, aja, menti",
          "<b>Topic 3</b><br>Words: tong, ting, si, yang, menti",
          "<b>Topic 3</b><br>Words: eaa, ez, jak, mah, ada",
          "<b>Topic 3</b><br>Words: wiiiiii, menti, leave, yg, ngobrolin",
          "<b>Topic 3</b><br>Words: leave, yah, udh, kak, menti",
          "<b>Topic 3</b><br>Words: bnrn, leave, ad, tp, dong",
          "<b>Topic 3</b><br>Words: sasa, latifah, si, sama, kak",
          "<b>Topic 3</b><br>Words: her, soulmate, hayooow, weh, kayak",
          "<b>Topic 3</b><br>Words: wkwkkkwkwkwkwkw, gakenal, pdhl, wkwkw, iya",
          "<b>Topic 3</b><br>Words: ih, enak, val, present, udh",
          "<b>Topic 3</b><br>Words: rame, gni, ngobrolin, waduh, apaan",
          "<b>Topic 3</b><br>Words: cair, blom, dkirain, ngobrolin, thr",
          "<b>Topic 3</b><br>Words: wiih, thr, revou, juga, nya",
          "<b>Topic 3</b><br>Words: ketik, wa, via, lain, cuman",
          "<b>Topic 3</b><br>Words: nemu, udah, kak, menti, leave",
          "<b>Topic 3</b><br>Words: leave, tidur, boleh, udah, ka",
          "<b>Topic 3</b><br>Words: benerin, dl, menti, leave, yg",
          "<b>Topic 3</b><br>Words: owh, presen, skrg, grup, menti",
          "<b>Topic 3</b><br>Words: isi, lagi, menti, leave, yg",
          "<b>Topic 3</b><br>Words: no, ntar, aja, menti, leave"
         ],
         "marker": {
          "color": "#F0E442"
         },
         "mode": "lines",
         "name": "3_menti_leave_yg_ngobrolin",
         "type": "scatter",
         "x": [
          "2023-01-16T21:13:00",
          "2023-01-16T21:26:00",
          "2023-01-25T20:20:00",
          "2023-01-25T21:12:00",
          "2023-01-25T21:13:00",
          "2023-01-26T07:25:00",
          "2023-01-26T10:39:00",
          "2023-01-28T10:50:00",
          "2023-01-28T10:54:00",
          "2023-01-31T15:19:00",
          "2023-01-31T21:00:00",
          "2023-02-01T21:22:00",
          "2023-02-09T14:20:00",
          "2023-02-09T15:09:00",
          "2023-02-09T15:11:00",
          "2023-02-09T17:20:00",
          "2023-02-13T21:05:00",
          "2023-02-13T21:08:00",
          "2023-02-13T21:22:00",
          "2023-02-16T21:12:00",
          "2023-02-18T10:20:00",
          "2023-02-18T11:45:00",
          "2023-02-18T13:27:00",
          "2023-02-18T15:24:00",
          "2023-02-20T18:57:00",
          "2023-02-21T19:54:00",
          "2023-02-21T21:12:00",
          "2023-02-21T22:36:00",
          "2023-02-22T13:13:00",
          "2023-02-23T10:46:00",
          "2023-02-23T10:52:00",
          "2023-02-23T11:00:00",
          "2023-02-23T11:47:00",
          "2023-02-23T11:49:00",
          "2023-02-23T11:51:00",
          "2023-02-23T16:08:00",
          "2023-02-23T16:10:00",
          "2023-02-23T19:09:00",
          "2023-02-23T20:17:00",
          "2023-02-24T20:37:00",
          "2023-02-24T20:39:00",
          "2023-02-25T15:42:00",
          "2023-02-25T15:49:00",
          "2023-02-25T16:02:00",
          "2023-02-27T12:23:00",
          "2023-02-27T19:42:00",
          "2023-03-03T22:42:00",
          "2023-03-03T22:44:00",
          "2023-03-04T12:40:00",
          "2023-03-07T19:22:00",
          "2023-03-08T00:02:00",
          "2023-03-08T20:03:00",
          "2023-03-08T21:12:00",
          "2023-03-08T21:27:00",
          "2023-03-08T22:36:00",
          "2023-03-11T15:09:00",
          "2023-03-29T20:20:00",
          "2023-03-29T20:25:00",
          "2023-04-03T20:44:00",
          "2023-04-10T19:50:00",
          "2023-04-10T20:13:00",
          "2023-04-10T20:14:00",
          "2023-04-11T12:14:00",
          "2023-04-11T12:17:00",
          "2023-04-11T12:19:00",
          "2023-04-11T12:22:00",
          "2023-04-11T12:27:00",
          "2023-04-11T12:29:00",
          "2023-04-11T12:33:00",
          "2023-04-11T12:46:00",
          "2023-04-11T19:38:00",
          "2023-04-11T21:02:00",
          "2023-04-13T20:12:00",
          "2023-04-13T20:16:00",
          "2023-04-13T22:32:00",
          "2023-04-15T16:20:00"
         ],
         "y": [
          1,
          1,
          1,
          1,
          1,
          1,
          1,
          1,
          1,
          1,
          1,
          1,
          1,
          1,
          1,
          1,
          1,
          1,
          1,
          1,
          1,
          1,
          1,
          1,
          1,
          1,
          1,
          1,
          1,
          1,
          1,
          1,
          1,
          1,
          1,
          3,
          1,
          1,
          1,
          1,
          1,
          1,
          1,
          1,
          1,
          1,
          1,
          1,
          1,
          1,
          1,
          1,
          1,
          1,
          1,
          1,
          1,
          1,
          1,
          1,
          1,
          1,
          1,
          2,
          2,
          1,
          1,
          1,
          1,
          1,
          1,
          1,
          1,
          1,
          1,
          1
         ]
        },
        {
         "hoverinfo": "text",
         "hovertext": [
          "<b>Topic 4</b><br>Words: udha, hmm, padahal, email, salah",
          "<b>Topic 4</b><br>Words: mikirn, kerjaanku, jalit, ka, aku",
          "<b>Topic 4</b><br>Words: aman, aku, lg, jg, bs",
          "<b>Topic 4</b><br>Words: aman, juga, sama, aku, lg",
          "<b>Topic 4</b><br>Words: bebas, saya, aku, lg, jg",
          "<b>Topic 4</b><br>Words: kantor, gila, masuk, baru, kan",
          "<b>Topic 4</b><br>Words: ba, kan, nya, aku, kak",
          "<b>Topic 4</b><br>Words: ikt, harus, hahah, jg, aku",
          "<b>Topic 4</b><br>Words: diteror, ikt, gt, nanti, klo",
          "<b>Topic 4</b><br>Words: hayuk, kalo, aja, aku, lg",
          "<b>Topic 4</b><br>Words: mata, tutup, sampe, sama, aku",
          "<b>Topic 4</b><br>Words: out, jall, break, ke, aku",
          "<b>Topic 4</b><br>Words: huft, mukaku, obral, di, aku",
          "<b>Topic 4</b><br>Words: queen, doakan, soon, menti, jadi",
          "<b>Topic 4</b><br>Words: boleehh, misal, ngerti, chat, tadi",
          "<b>Topic 4</b><br>Words: sentuh, akhirnya, advanced, aku, kasih",
          "<b>Topic 4</b><br>Words: 2x, dapet, kali, nih, wkwkwk",
          "<b>Topic 4</b><br>Words: remed, ah, mau, aku, lg",
          "<b>Topic 4</b><br>Words: ngakakk, hahahaha, juga, aku, lg",
          "<b>Topic 4</b><br>Words: peer, hasil, tmbhin, comment, aku",
          "<b>Topic 4</b><br>Words: bikinin, okai, nanti, aku, lg",
          "<b>Topic 4</b><br>Words: over, capek, otaknya, terlalu, kali",
          "<b>Topic 4</b><br>Words: ngerasa, jujur, gini, wkwk, juga",
          "<b>Topic 4</b><br>Words: semaleman, labil, post, setelah, akhirnya",
          "<b>Topic 4</b><br>Words: dani, soalnya, sm, nih, tau",
          "<b>Topic 4</b><br>Words: gantiin, pipin, iyaaa, jd, sm",
          "<b>Topic 4</b><br>Words: ktmu, cowok, blm, jg, sih",
          "<b>Topic 4</b><br>Words: training, kilat, mendadak, gt, lg",
          "<b>Topic 4</b><br>Words: beloman, ngandelin, revou, tapi, dulu",
          "<b>Topic 4</b><br>Words: ketemu, td, udh, aku, lg",
          "<b>Topic 4</b><br>Words: stalk, ok, dulu, aku, lg",
          "<b>Topic 4</b><br>Words: backendnya, huhuu, dritd, kerjain, lg",
          "<b>Topic 4</b><br>Words: pusink, admin, ngurus, lg, aku",
          "<b>Topic 4</b><br>Words: kerjaannya, maksimal, takut, kurang, duh",
          "<b>Topic 4</b><br>Words: bantuin, pc, deh, aku, dong",
          "<b>Topic 4</b><br>Words: mute, nge, pernah, sampe, tau",
          "<b>Topic 4</b><br>Words: nonstop, dkit, rapat, bru, sore",
          "<b>Topic 4</b><br>Words: pantes, bantuin, upil, parah, aku",
          "<b>Topic 4</b><br>Words: gabisa, loh, gue, kok, masuk",
          "<b>Topic 4</b><br>Words: izinnnn, lg, aku, jg, bs",
          "<b>Topic 4</b><br>Words: joki, nyari, tugas, pengen, kalo",
          "<b>Topic 4</b><br>Words: tmen, kalah, tu, org, gila",
          "<b>Topic 4</b><br>Words: masukan, dah, yaa, kak, aku",
          "<b>Topic 4</b><br>Words: setau, sisanya, udah, aku, lg",
          "<b>Topic 4</b><br>Words: takut, spill, salah, tapi, aku",
          "<b>Topic 4</b><br>Words: feelingku, cowo, sih, aku, lg",
          "<b>Topic 4</b><br>Words: pegang, inisial, aku, lg, jg",
          "<b>Topic 4</b><br>Words: maren, ngmgin, tiba, mntion, stiap",
          "<b>Topic 4</b><br>Words: end, back, ngepel, ngurus, sibuk",
          "<b>Topic 4</b><br>Words: kekny, thr, dah, aku, ga",
          "<b>Topic 4</b><br>Words: wkwkwkkwkkw, slama, brp, tpi, muncul",
          "<b>Topic 4</b><br>Words: duga, rezeki, anggep, sempet, waktu",
          "<b>Topic 4</b><br>Words: bs, stopin, klo, gak, aku",
          "<b>Topic 4</b><br>Words: ditambah, kucing, maksa, grogi, kamar",
          "<b>Topic 4</b><br>Words: msk, yah, jal, aku, lg"
         ],
         "marker": {
          "color": "#D55E00"
         },
         "mode": "lines",
         "name": "4_aku_lg_jg_bs",
         "type": "scatter",
         "x": [
          "2023-01-11T21:17:00",
          "2023-01-16T21:16:00",
          "2023-01-16T21:22:00",
          "2023-01-16T21:23:00",
          "2023-01-17T22:40:00",
          "2023-01-25T21:10:00",
          "2023-01-25T22:07:00",
          "2023-01-26T10:37:00",
          "2023-01-26T10:48:00",
          "2023-02-01T21:18:00",
          "2023-02-01T21:19:00",
          "2023-02-02T20:47:00",
          "2023-02-09T17:21:00",
          "2023-02-14T19:24:00",
          "2023-02-14T20:51:00",
          "2023-02-15T11:05:00",
          "2023-02-15T19:03:00",
          "2023-02-15T19:09:00",
          "2023-02-16T16:54:00",
          "2023-02-20T14:17:00",
          "2023-02-20T14:19:00",
          "2023-02-21T21:15:00",
          "2023-02-21T21:16:00",
          "2023-02-22T12:36:00",
          "2023-02-22T18:59:00",
          "2023-02-23T10:58:00",
          "2023-02-23T10:59:00",
          "2023-02-23T11:09:00",
          "2023-02-23T16:47:00",
          "2023-02-24T20:33:00",
          "2023-02-24T20:34:00",
          "2023-02-27T19:42:00",
          "2023-03-01T19:48:00",
          "2023-03-04T11:46:00",
          "2023-03-05T21:11:00",
          "2023-03-08T21:11:00",
          "2023-03-08T21:28:00",
          "2023-03-08T21:56:00",
          "2023-03-13T19:12:00",
          "2023-03-14T10:41:00",
          "2023-03-29T20:26:00",
          "2023-03-29T20:32:00",
          "2023-04-01T11:15:00",
          "2023-04-05T21:11:00",
          "2023-04-11T12:11:00",
          "2023-04-11T12:14:00",
          "2023-04-11T12:17:00",
          "2023-04-11T12:19:00",
          "2023-04-11T12:21:00",
          "2023-04-11T12:30:00",
          "2023-04-11T12:37:00",
          "2023-04-11T12:45:00",
          "2023-04-11T19:38:00",
          "2023-04-11T19:51:00",
          "2023-04-13T20:16:00"
         ],
         "y": [
          1,
          1,
          1,
          1,
          1,
          1,
          1,
          1,
          1,
          1,
          1,
          1,
          1,
          1,
          1,
          1,
          1,
          1,
          1,
          1,
          1,
          1,
          1,
          1,
          1,
          1,
          1,
          2,
          1,
          1,
          1,
          1,
          1,
          1,
          2,
          1,
          1,
          1,
          1,
          1,
          1,
          1,
          1,
          1,
          1,
          1,
          1,
          2,
          2,
          1,
          1,
          1,
          1,
          1,
          1
         ]
        },
        {
         "hoverinfo": "text",
         "hovertext": [
          "<b>Topic 5</b><br>Words: week, masih, ini, ya, jam",
          "<b>Topic 5</b><br>Words: mauu, assignmentnya, kerjain, kamu, kah",
          "<b>Topic 5</b><br>Words: jam, terakhir, pernah, sih, diskusi",
          "<b>Topic 5</b><br>Words: bsk, berapa, diskusi, jam, mau",
          "<b>Topic 5</b><br>Words: ngapain, besok, kak, jam, game",
          "<b>Topic 5</b><br>Words: diskusinya, lewatin, yay, alternative, berhasil",
          "<b>Topic 5</b><br>Words: hows, jam, kayak, gitu, kelas",
          "<b>Topic 5</b><br>Words: gimana, jam, aja, game, as",
          "<b>Topic 5</b><br>Words: skip, belanja, mingguan, dulu, ges",
          "<b>Topic 5</b><br>Words: 21, bolehh, 10, gimana, besok",
          "<b>Topic 5</b><br>Words: meninggoy, bgn, pagi, biasa, mau",
          "<b>Topic 5</b><br>Words: kerjaa, mantabbb, pertama, hari, jam",
          "<b>Topic 5</b><br>Words: 5an, hrs, bgn, pagi, dr",
          "<b>Topic 5</b><br>Words: sutto, undur, matteo, kata, minggu",
          "<b>Topic 5</b><br>Words: diskusi, hari, ini, ada, jam",
          "<b>Topic 5</b><br>Words: berapa, jam, guys, game, as",
          "<b>Topic 5</b><br>Words: kelasnya, muncul, sore, besok, jam",
          "<b>Topic 5</b><br>Words: munculnya, jam, ya, aku, kak",
          "<b>Topic 5</b><br>Words: sqll, haloooo, semuanyaa, kabar, apaa",
          "<b>Topic 5</b><br>Words: game, as, by, bigquery, players",
          "<b>Topic 5</b><br>Words: tgl, februari, 30, dh, jg",
          "<b>Topic 5</b><br>Words: yahh, telat, jam, game, as",
          "<b>Topic 5</b><br>Words: cart, add, akun, lgsng, to",
          "<b>Topic 5</b><br>Words: nunggu, sabtu, biar, hari, ga",
          "<b>Topic 5</b><br>Words: bole, besok, aja, jam, game",
          "<b>Topic 5</b><br>Words: menittt, balik, 10, otw, telat",
          "<b>Topic 5</b><br>Words: waktunya, liat, iya, sama, jam",
          "<b>Topic 5</b><br>Words: kebawah, mingguan, bintang, feedback, ntar",
          "<b>Topic 5</b><br>Words: jam, yaa, game, as, besok",
          "<b>Topic 5</b><br>Words: libur, besok, jam, game, as",
          "<b>Topic 5</b><br>Words: jadii, depan, bakal, nihhh, mulai",
          "<b>Topic 5</b><br>Words: brarti, siang, sabtu, gt, ya",
          "<b>Topic 5</b><br>Words: story, timenya, ntr, dah, jam",
          "<b>Topic 5</b><br>Words: taaauu, wkwkwkk, week, dri, itu",
          "<b>Topic 5</b><br>Words: beliau, paling, telat, jg, jam",
          "<b>Topic 5</b><br>Words: hitung, terserah, delta, pake, recency",
          "<b>Topic 5</b><br>Words: kmn, land, besok, jam, game",
          "<b>Topic 5</b><br>Words: kebeli, hhhh, tiket, balik, siang",
          "<b>Topic 5</b><br>Words: cancel, laaand, aja, jam, game",
          "<b>Topic 5</b><br>Words: lii, jam, iya, game, as",
          "<b>Topic 5</b><br>Words: 30, 21, ges, jam, dong",
          "<b>Topic 5</b><br>Words: 2023, seeker, job, may, tetap",
          "<b>Topic 5</b><br>Words: kalan, mingdep, senin, diskusi, assignment",
          "<b>Topic 5</b><br>Words: bulan, mungkin, ganti, jadi, di",
          "<b>Topic 5</b><br>Words: kedua, selasa, lima, awal, senin",
          "<b>Topic 5</b><br>Words: around, ngabarin, dateng, agak, kayaknya",
          "<b>Topic 5</b><br>Words: besok, juga, absen, kak, jam",
          "<b>Topic 5</b><br>Words: brp, week, dri, mah, apaan",
          "<b>Topic 5</b><br>Words: timer, jadi, jam, game, as",
          "<b>Topic 5</b><br>Words: suka, soalnya, telat, masuk, jam",
          "<b>Topic 5</b><br>Words: kl, enak, present, bgt, dah",
          "<b>Topic 5</b><br>Words: njirr, terakhir, masih, wkwkkw, hari",
          "<b>Topic 5</b><br>Words: joinnya, yahh, telat, jam, game",
          "<b>Topic 5</b><br>Words: last, yuk, day, dah, bisa",
          "<b>Topic 5</b><br>Words: timp, jam, game, as, besok",
          "<b>Topic 5</b><br>Words: do, deh, oke, nanti, isi"
         ],
         "marker": {
          "color": "#0072B2"
         },
         "mode": "lines",
         "name": "5_jam_game_as_besok",
         "type": "scatter",
         "x": [
          "2023-01-11T20:57:00",
          "2023-01-16T21:19:00",
          "2023-01-16T21:21:00",
          "2023-01-17T22:33:00",
          "2023-01-20T22:06:00",
          "2023-01-21T15:05:00",
          "2023-01-21T15:19:00",
          "2023-01-21T15:20:00",
          "2023-01-24T21:06:00",
          "2023-01-24T21:17:00",
          "2023-01-25T21:10:00",
          "2023-01-25T21:12:00",
          "2023-01-26T21:35:00",
          "2023-01-27T11:00:00",
          "2023-02-01T21:13:00",
          "2023-02-01T21:28:00",
          "2023-02-04T00:09:00",
          "2023-02-04T06:23:00",
          "2023-02-09T13:48:00",
          "2023-02-11T15:10:00",
          "2023-02-13T21:12:00",
          "2023-02-14T18:59:00",
          "2023-02-15T07:17:00",
          "2023-02-15T19:13:00",
          "2023-02-16T21:12:00",
          "2023-02-20T19:03:00",
          "2023-02-21T21:15:00",
          "2023-02-22T13:19:00",
          "2023-02-22T18:59:00",
          "2023-02-23T10:38:00",
          "2023-02-23T10:52:00",
          "2023-02-23T11:12:00",
          "2023-02-23T16:08:00",
          "2023-02-27T12:22:00",
          "2023-02-27T15:44:00",
          "2023-03-02T19:58:00",
          "2023-03-03T22:44:00",
          "2023-03-03T22:45:00",
          "2023-03-04T11:38:00",
          "2023-03-04T13:07:00",
          "2023-03-09T20:19:00",
          "2023-03-21T07:38:00",
          "2023-03-25T14:58:00",
          "2023-04-03T20:28:00",
          "2023-04-03T20:44:00",
          "2023-04-06T18:27:00",
          "2023-04-10T21:01:00",
          "2023-04-11T12:13:00",
          "2023-04-11T12:17:00",
          "2023-04-11T12:21:00",
          "2023-04-11T12:23:00",
          "2023-04-11T12:24:00",
          "2023-04-11T13:22:00",
          "2023-04-13T19:11:00",
          "2023-04-13T19:42:00",
          "2023-04-17T20:56:00"
         ],
         "y": [
          1,
          1,
          2,
          1,
          1,
          1,
          1,
          1,
          1,
          1,
          1,
          1,
          1,
          1,
          1,
          1,
          1,
          1,
          1,
          1,
          1,
          1,
          1,
          1,
          1,
          1,
          1,
          1,
          1,
          1,
          1,
          1,
          1,
          1,
          1,
          1,
          1,
          1,
          1,
          1,
          1,
          1,
          1,
          1,
          1,
          1,
          1,
          2,
          1,
          1,
          1,
          1,
          1,
          1,
          1,
          1
         ]
        },
        {
         "hoverinfo": "text",
         "hovertext": [
          "<b>Topic 6</b><br>Words: aksesnya, files, important, saja, student",
          "<b>Topic 6</b><br>Words: sewaktu, due, dibuka, dimana, sisanya",
          "<b>Topic 6</b><br>Words: intinya, resources, important, files, student",
          "<b>Topic 6</b><br>Words: lecture, slides, dibaca, study, dlu",
          "<b>Topic 6</b><br>Words: lecture, spesifik, materi, hehehe, untuk",
          "<b>Topic 6</b><br>Words: mastiin, lectures, tuh, pages, important",
          "<b>Topic 6</b><br>Words: kelas, and, attendance, students, lecture",
          "<b>Topic 6</b><br>Words: berpatisipasi, aktif, belajar, semuanya, semangat",
          "<b>Topic 6</b><br>Words: yel, vertical, kita, fsda, lecture",
          "<b>Topic 6</b><br>Words: wawaz, jgn, mirza, kelas, lupa",
          "<b>Topic 6</b><br>Words: todayy, wajib, tapi, kelas, link",
          "<b>Topic 6</b><br>Words: lecturenya, trimakasii, bermanfaaatt, aktif, semoga",
          "<b>Topic 6</b><br>Words: yuu, menti, masuk, kelas, ada",
          "<b>Topic 6</b><br>Words: esokannya, penggantinya, extend, hari, kayak",
          "<b>Topic 6</b><br>Words: dimampatkan, diminggu, lainnya, materinya, kata",
          "<b>Topic 6</b><br>Words: pre, task, merah, testnyaa, test",
          "<b>Topic 6</b><br>Words: websitenya, serasa, pre, lecture, baca",
          "<b>Topic 6</b><br>Words: logo, revounya, faculty, izin, minta",
          "<b>Topic 6</b><br>Words: kelasss, itnem, ikt, bs, ayo",
          "<b>Topic 6</b><br>Words: sampein, penangkapan, panjangg, bgttt, senen",
          "<b>Topic 6</b><br>Words: kelass, ayo, kelas, lecture, pre",
          "<b>Topic 6</b><br>Words: link, kelas, lecture, pre, student",
          "<b>Topic 6</b><br>Words: barusan, kelas, isi, aja, lecture",
          "<b>Topic 6</b><br>Words: yukk, kelas, lecture, pre, student",
          "<b>Topic 6</b><br>Words: ajuin, instructor, concern, apaaa, sekalian",
          "<b>Topic 6</b><br>Words: kelasnya, mulai, belom, ya, kelas",
          "<b>Topic 6</b><br>Words: dikasih, skrg, pas, kelas, nanti",
          "<b>Topic 6</b><br>Words: bersama, kelas, lecture, pre, student",
          "<b>Topic 6</b><br>Words: prelecture, sendiri, belajar, udh, yaa",
          "<b>Topic 6</b><br>Words: pre, lecture, revou, kelas, student",
          "<b>Topic 6</b><br>Words: tipe, belajar, gatau, gimana, kalian",
          "<b>Topic 6</b><br>Words: direcord, muka, full, lecture, lu",
          "<b>Topic 6</b><br>Words: penyemangat, belajar, kelas, lecture, pre",
          "<b>Topic 6</b><br>Words: habis, baru, discord, kelas, lecture",
          "<b>Topic 6</b><br>Words: kelas, hari, ini, ada, lecture",
          "<b>Topic 6</b><br>Words: kelasnya, mulai, apakah, emang, salah",
          "<b>Topic 6</b><br>Words: besoookk, abis, kelas, aja, lecture",
          "<b>Topic 6</b><br>Words: degan, deg, lecture, dh, gua",
          "<b>Topic 6</b><br>Words: ntr, abis, jd, kelas, ya",
          "<b>Topic 6</b><br>Words: perasaannya, jujur, student, cerita, waktu",
          "<b>Topic 6</b><br>Words: hahhahaah, konsen, ngibul, bkn, gituu",
          "<b>Topic 6</b><br>Words: diterapkan, trus, blajar, diajarin, nilainya",
          "<b>Topic 6</b><br>Words: hari, walaupun, iniii, diluar, kls",
          "<b>Topic 6</b><br>Words: gaassss, habis, diskusi, kelas, lecture",
          "<b>Topic 6</b><br>Words: yah, blending, nyantumin, mostly, dilengkapi",
          "<b>Topic 6</b><br>Words: acara, graduation, pitching, sebelum, gituu",
          "<b>Topic 6</b><br>Words: murid, grading, masa, gantiin, herdian",
          "<b>Topic 6</b><br>Words: instructor, stiap, awal, kls, ajaaa",
          "<b>Topic 6</b><br>Words: cuekin, ketidakjelasan, kedepannya, faculty, mengenai"
         ],
         "marker": {
          "color": "#CC79A7"
         },
         "mode": "lines",
         "name": "6_kelas_lecture_pre_student",
         "type": "scatter",
         "x": [
          "2023-01-07T10:31:00",
          "2023-01-07T10:36:00",
          "2023-01-07T10:39:00",
          "2023-01-07T10:41:00",
          "2023-01-07T10:42:00",
          "2023-01-07T10:43:00",
          "2023-01-07T10:46:00",
          "2023-01-09T21:06:00",
          "2023-01-10T18:56:00",
          "2023-01-11T19:09:00",
          "2023-01-13T19:27:00",
          "2023-01-14T15:41:00",
          "2023-01-17T18:57:00",
          "2023-01-19T21:20:00",
          "2023-01-19T21:21:00",
          "2023-01-23T20:21:00",
          "2023-02-09T14:21:00",
          "2023-02-09T15:12:00",
          "2023-02-15T18:58:00",
          "2023-02-18T10:03:00",
          "2023-02-20T18:57:00",
          "2023-02-20T18:58:00",
          "2023-02-20T21:14:00",
          "2023-02-21T19:03:00",
          "2023-02-21T21:13:00",
          "2023-02-22T18:59:00",
          "2023-02-23T10:28:00",
          "2023-02-23T11:10:00",
          "2023-02-23T19:08:00",
          "2023-02-23T19:10:00",
          "2023-02-23T19:11:00",
          "2023-02-27T19:42:00",
          "2023-02-27T19:43:00",
          "2023-03-01T18:36:00",
          "2023-03-04T12:14:00",
          "2023-03-04T13:00:00",
          "2023-03-06T21:27:00",
          "2023-03-07T19:22:00",
          "2023-03-07T19:39:00",
          "2023-03-08T21:14:00",
          "2023-03-08T21:23:00",
          "2023-03-08T21:25:00",
          "2023-03-24T21:21:00",
          "2023-03-29T20:32:00",
          "2023-04-01T10:35:00",
          "2023-04-11T12:08:00",
          "2023-04-11T12:15:00",
          "2023-04-11T12:20:00",
          "2023-04-13T22:32:00"
         ],
         "y": [
          1,
          1,
          1,
          1,
          1,
          1,
          2,
          1,
          1,
          1,
          1,
          1,
          1,
          1,
          1,
          1,
          1,
          1,
          2,
          2,
          1,
          1,
          1,
          1,
          1,
          1,
          1,
          1,
          1,
          1,
          1,
          1,
          1,
          1,
          1,
          1,
          1,
          1,
          1,
          1,
          1,
          1,
          1,
          1,
          1,
          1,
          1,
          1,
          1
         ]
        },
        {
         "hoverinfo": "text",
         "hovertext": [
          "<b>Topic 7</b><br>Words: bener, kokkkk, ini, keren, ok",
          "<b>Topic 7</b><br>Words: mantaapp, semuanya, semangat, okee, yaa",
          "<b>Topic 7</b><br>Words: mirzaa, thankkk, ok, keren, hebat",
          "<b>Topic 7</b><br>Words: setujuu, keren, ok, hebat, banget",
          "<b>Topic 7</b><br>Words: nahh, bagus, iyaa, ini, keren",
          "<b>Topic 7</b><br>Words: bangggaa, best, banget, nih, keren",
          "<b>Topic 7</b><br>Words: muehehehe, baik, kok, kak, keren",
          "<b>Topic 7</b><br>Words: tuker, engga, boleh, jal, ini",
          "<b>Topic 7</b><br>Words: ye, healing, ubud, mo, ke",
          "<b>Topic 7</b><br>Words: mabok, maap, eh, keren, ok",
          "<b>Topic 7</b><br>Words: kakk, okee, keren, ok, hebat",
          "<b>Topic 7</b><br>Words: hihi, keren, ok, hebat, banget",
          "<b>Topic 7</b><br>Words: keburu, hasilnnya, rikaaa, hebat, bagus",
          "<b>Topic 7</b><br>Words: keren, gile, guys, selamat, ok",
          "<b>Topic 7</b><br>Words: dinanti, sangat, keren, ok, hebat",
          "<b>Topic 7</b><br>Words: hehehe, keren, ok, hebat, banget",
          "<b>Topic 7</b><br>Words: nular, semangatmuuuu, it, semangatmu, lhooo",
          "<b>Topic 7</b><br>Words: selow, oke, kak, keren, ok",
          "<b>Topic 7</b><br>Words: banggaa, dongg, keren, ok, hebat",
          "<b>Topic 7</b><br>Words: untungnya, berguna, deh, keren, ok",
          "<b>Topic 7</b><br>Words: baiksss, baru, tl, nya, keren",
          "<b>Topic 7</b><br>Words: ditungggu, oke, kak, keren, ok",
          "<b>Topic 7</b><br>Words: ok, ka, jal, keren, hebat",
          "<b>Topic 7</b><br>Words: riis, ok, siap, keren, hebat",
          "<b>Topic 7</b><br>Words: niceeee, keren, emang, bgt, ok",
          "<b>Topic 7</b><br>Words: yess, keren, ok, hebat, banget",
          "<b>Topic 7</b><br>Words: boong, banget, keren, ok, hebat",
          "<b>Topic 7</b><br>Words: waduh, iya, lagi, keren, ok",
          "<b>Topic 7</b><br>Words: bagus, sm, iya, dong, kan",
          "<b>Topic 7</b><br>Words: parah, si, keren, ok, hebat",
          "<b>Topic 7</b><br>Words: makanya, iya, keren, ok, hebat",
          "<b>Topic 7</b><br>Words: sihh, mudah, haha, ga, keren",
          "<b>Topic 7</b><br>Words: aman, boleh, keren, ok, hebat",
          "<b>Topic 7</b><br>Words: keren, mmg, banget, ok, hebat",
          "<b>Topic 7</b><br>Words: baik, ichsan, bgt, kak, keren",
          "<b>Topic 7</b><br>Words: dirasa, aja, keren, ok, hebat",
          "<b>Topic 7</b><br>Words: siap, ka, keren, ok, hebat",
          "<b>Topic 7</b><br>Words: ok, ichsan, keren, hebat, banget",
          "<b>Topic 7</b><br>Words: luck, good, gasss, guyss, keren",
          "<b>Topic 7</b><br>Words: tegang, vale, yg, keren, ok",
          "<b>Topic 7</b><br>Words: nihh, iya, keren, ok, hebat",
          "<b>Topic 7</b><br>Words: kaga, becanda, gua, keren, ok",
          "<b>Topic 7</b><br>Words: nice, keren, ok, hebat, banget",
          "<b>Topic 7</b><br>Words: terlihat, jelas, yaa, keren, ok",
          "<b>Topic 7</b><br>Words: suratnya, cute, keren, ok, hebat",
          "<b>Topic 7</b><br>Words: topiknya, ckckck, seru, padahal, banget",
          "<b>Topic 7</b><br>Words: hebat, ely, keren, ok, banget",
          "<b>Topic 7</b><br>Words: lucuu, bgt, keren, ok, hebat",
          "<b>Topic 7</b><br>Words: bajunya, rapi, keren, bgt, emg"
         ],
         "marker": {
          "color": "#E69F00"
         },
         "mode": "lines",
         "name": "7_keren_ok_hebat_banget",
         "type": "scatter",
         "x": [
          "2023-01-07T10:41:00",
          "2023-01-07T10:42:00",
          "2023-01-11T21:17:00",
          "2023-01-16T17:32:00",
          "2023-01-24T21:16:00",
          "2023-02-06T19:43:00",
          "2023-02-09T14:03:00",
          "2023-02-09T15:05:00",
          "2023-02-13T21:27:00",
          "2023-02-15T19:03:00",
          "2023-02-15T21:10:00",
          "2023-02-18T10:05:00",
          "2023-02-18T10:08:00",
          "2023-02-18T10:11:00",
          "2023-02-20T14:18:00",
          "2023-02-21T21:13:00",
          "2023-02-21T22:10:00",
          "2023-02-22T19:48:00",
          "2023-02-23T19:07:00",
          "2023-02-23T19:09:00",
          "2023-02-24T20:33:00",
          "2023-02-25T15:49:00",
          "2023-02-27T22:03:00",
          "2023-03-01T18:35:00",
          "2023-03-01T20:30:00",
          "2023-03-02T19:59:00",
          "2023-03-03T22:46:00",
          "2023-03-08T21:09:00",
          "2023-03-08T21:16:00",
          "2023-03-08T21:23:00",
          "2023-03-08T21:24:00",
          "2023-03-08T21:55:00",
          "2023-03-16T20:18:00",
          "2023-03-18T12:17:00",
          "2023-04-01T10:37:00",
          "2023-04-03T20:22:00",
          "2023-04-06T18:27:00",
          "2023-04-06T21:32:00",
          "2023-04-10T19:16:00",
          "2023-04-10T19:51:00",
          "2023-04-10T20:09:00",
          "2023-04-10T20:14:00",
          "2023-04-11T12:17:00",
          "2023-04-11T12:21:00",
          "2023-04-11T12:46:00",
          "2023-04-11T13:24:00",
          "2023-04-11T19:49:00",
          "2023-04-13T19:57:00",
          "2023-04-13T20:21:00"
         ],
         "y": [
          1,
          1,
          1,
          1,
          1,
          1,
          1,
          1,
          1,
          1,
          1,
          1,
          1,
          1,
          1,
          1,
          1,
          1,
          1,
          1,
          1,
          1,
          1,
          1,
          2,
          1,
          1,
          1,
          1,
          1,
          1,
          1,
          1,
          2,
          1,
          1,
          1,
          1,
          1,
          1,
          1,
          1,
          1,
          1,
          1,
          1,
          1,
          1,
          2
         ]
        },
        {
         "hoverinfo": "text",
         "hovertext": [
          "<b>Topic 8</b><br>Words: free, linkedin, add, feel, tanya",
          "<b>Topic 8</b><br>Words: pages, btw, sudah, bisa, di",
          "<b>Topic 8</b><br>Words: teman, ramein, youtube, malam, lain",
          "<b>Topic 8</b><br>Words: youtube, malem, link, yaa, ini",
          "<b>Topic 8</b><br>Words: linknya, yaa, ini, link, google",
          "<b>Topic 8</b><br>Words: inbox, reply, bro, biasanya, cek",
          "<b>Topic 8</b><br>Words: siangg, rename, jan23, drivenya, rata",
          "<b>Topic 8</b><br>Words: account, google, kah, pake, ini",
          "<b>Topic 8</b><br>Words: outlook, make, gtau, lama, akun",
          "<b>Topic 8</b><br>Words: fasilitas, memberi, online, kalau, kapan",
          "<b>Topic 8</b><br>Words: kirim, sini, link, ke, kalau",
          "<b>Topic 8</b><br>Words: link, belum, absen, yg, ini",
          "<b>Topic 8</b><br>Words: link, ini, google, video, recording",
          "<b>Topic 8</b><br>Words: sharee, screenshot, uda, makasii, alit",
          "<b>Topic 8</b><br>Words: bersama, disini, belajar, link, absen",
          "<b>Topic 8</b><br>Words: berisi, drive, video, room, breakout",
          "<b>Topic 8</b><br>Words: linknyaa, jadinya, ini, ya, link",
          "<b>Topic 8</b><br>Words: rekaman, video, jgn, lupa, buat",
          "<b>Topic 8</b><br>Words: linknyaa, ini, ya, link, google",
          "<b>Topic 8</b><br>Words: alamat, mana, adit, link, ini",
          "<b>Topic 8</b><br>Words: linkedin, connect, btww, youu, blm",
          "<b>Topic 8</b><br>Words: recording, link, ini, google, video",
          "<b>Topic 8</b><br>Words: butuh, rekaman, semalem, yaaa, siapa",
          "<b>Topic 8</b><br>Words: screennya, keluar, terus, muncul, share",
          "<b>Topic 8</b><br>Words: kesni, send, huhuu, recording, link",
          "<b>Topic 8</b><br>Words: rekamannya, link, ini, google, video",
          "<b>Topic 8</b><br>Words: room, breakout, ges, bagi, link",
          "<b>Topic 8</b><br>Words: link, nya, ini, google, video",
          "<b>Topic 8</b><br>Words: not, well, linked, post, kagak",
          "<b>Topic 8</b><br>Words: kertas, keliling, google, form, pake",
          "<b>Topic 8</b><br>Words: nari, video, ada, ga, kak",
          "<b>Topic 8</b><br>Words: video, kalo, sih, bisa, yg",
          "<b>Topic 8</b><br>Words: malming, dl, recording, tadi, tapi",
          "<b>Topic 8</b><br>Words: link, ini, google, video, recording",
          "<b>Topic 8</b><br>Words: collab, taro, sim, disini, guys",
          "<b>Topic 8</b><br>Words: oiyaa, notes, most, janlups, semangaatt",
          "<b>Topic 8</b><br>Words: update, collabs, taro, sim, google",
          "<b>Topic 8</b><br>Words: samperin, alamat, spill, langsung, sini",
          "<b>Topic 8</b><br>Words: apa2, ngmng, org, ga, link",
          "<b>Topic 8</b><br>Words: guysss, hehe, minta, link, dong",
          "<b>Topic 8</b><br>Words: link, koo, biasa, hari, ini",
          "<b>Topic 8</b><br>Words: rahasia, detect, ehehe, tag, namanyaa",
          "<b>Topic 8</b><br>Words: interface, fitur, khawatir, kenalan, nyaa",
          "<b>Topic 8</b><br>Words: dimasukan, sim, hallo, sini, sudah",
          "<b>Topic 8</b><br>Words: upload, val, jangan, ini, yg",
          "<b>Topic 8</b><br>Words: linknya, minta, kakak, link, ini",
          "<b>Topic 8</b><br>Words: link, ini, google, video, recording",
          "<b>Topic 8</b><br>Words: bangsa, pemersatu, link, ini, google",
          "<b>Topic 8</b><br>Words: gabs, upload, tpi, buat, link",
          "<b>Topic 8</b><br>Words: screen, cara, stop, share, sampe"
         ],
         "marker": {
          "color": "#56B4E9"
         },
         "mode": "lines",
         "name": "8_link_ini_google_video",
         "type": "scatter",
         "x": [
          "2023-01-06T14:39:00",
          "2023-01-07T10:39:00",
          "2023-01-10T18:56:00",
          "2023-01-10T19:00:00",
          "2023-01-11T18:56:00",
          "2023-01-11T21:38:00",
          "2023-01-16T14:31:00",
          "2023-01-16T21:14:00",
          "2023-01-16T21:15:00",
          "2023-01-16T21:18:00",
          "2023-01-16T21:23:00",
          "2023-01-17T21:15:00",
          "2023-01-18T20:11:00",
          "2023-01-18T21:02:00",
          "2023-01-18T21:03:00",
          "2023-01-18T21:35:00",
          "2023-01-19T12:15:00",
          "2023-01-19T21:19:00",
          "2023-01-24T21:02:00",
          "2023-01-24T21:11:00",
          "2023-01-26T11:01:00",
          "2023-01-26T22:35:00",
          "2023-01-27T09:14:00",
          "2023-01-28T14:25:00",
          "2023-02-02T21:12:00",
          "2023-02-11T15:17:00",
          "2023-02-14T20:39:00",
          "2023-02-18T23:00:00",
          "2023-02-21T22:06:00",
          "2023-02-21T22:07:00",
          "2023-02-23T20:18:00",
          "2023-02-23T21:00:00",
          "2023-02-25T16:16:00",
          "2023-02-27T22:02:00",
          "2023-02-28T22:14:00",
          "2023-03-03T20:08:00",
          "2023-03-07T10:57:00",
          "2023-03-07T20:44:00",
          "2023-03-08T20:17:00",
          "2023-03-14T18:59:00",
          "2023-03-14T19:00:00",
          "2023-03-17T23:22:00",
          "2023-03-24T21:19:00",
          "2023-03-29T09:06:00",
          "2023-04-05T21:26:00",
          "2023-04-11T12:07:00",
          "2023-04-11T12:08:00",
          "2023-04-11T12:10:00",
          "2023-04-11T12:23:00",
          "2023-04-11T19:38:00"
         ],
         "y": [
          1,
          1,
          1,
          1,
          1,
          1,
          1,
          1,
          1,
          1,
          1,
          1,
          1,
          1,
          1,
          1,
          1,
          1,
          1,
          1,
          1,
          1,
          1,
          1,
          1,
          1,
          1,
          1,
          1,
          1,
          1,
          1,
          1,
          1,
          1,
          1,
          1,
          1,
          1,
          1,
          1,
          1,
          1,
          1,
          1,
          1,
          1,
          1,
          1,
          1
         ]
        },
        {
         "hoverinfo": "text",
         "hovertext": [
          "<b>Topic 9</b><br>Words: kokkkk, tidak, ada, absen, gak",
          "<b>Topic 9</b><br>Words: kosong, ajaa, absen, gak, lupa",
          "<b>Topic 9</b><br>Words: jalit, ikut, absen, ka, ga",
          "<b>Topic 9</b><br>Words: hiks, kemaren, adaa, gak, yang",
          "<b>Topic 9</b><br>Words: titip, jalit, absen, kita, ka",
          "<b>Topic 9</b><br>Words: isii, belom, absen, kalo, nya",
          "<b>Topic 9</b><br>Words: jamnya, gak, iya, sih, absen",
          "<b>Topic 9</b><br>Words: absennn, absen, gak, lupa, jangan",
          "<b>Topic 9</b><br>Words: absen, lupa, jangan, gak, titip",
          "<b>Topic 9</b><br>Words: kado, nitip, adit, buat, absen",
          "<b>Topic 9</b><br>Words: ikut2, mention, tapi, gak, jal",
          "<b>Topic 9</b><br>Words: kena, kita, ga, absen, gak",
          "<b>Topic 9</b><br>Words: absen, gak, lupa, jangan, titip",
          "<b>Topic 9</b><br>Words: meeting, ngabarin, sore, wah, belom",
          "<b>Topic 9</b><br>Words: belumm, absen, yaa, yang, gak",
          "<b>Topic 9</b><br>Words: ntar, lolos, kagak, kakak, kasih",
          "<b>Topic 9</b><br>Words: biasanya, tp, gak, sih, ada",
          "<b>Topic 9</b><br>Words: ehh, belum, absen, gak, lupa",
          "<b>Topic 9</b><br>Words: tandatanyanya, ga, ada, ya, absen",
          "<b>Topic 9</b><br>Words: absennya, yaa, absen, gak, lupa",
          "<b>Topic 9</b><br>Words: membagongkan, gak, absen, lupa, jangan",
          "<b>Topic 9</b><br>Words: gaes, absen, dulu, gak, lupa",
          "<b>Topic 9</b><br>Words: noob, masih, absen, gak, lupa",
          "<b>Topic 9</b><br>Words: breakout, ges, masih, gak, absen",
          "<b>Topic 9</b><br>Words: absen, nya, ini, gak, lupa",
          "<b>Topic 9</b><br>Words: malem, absen, kalian, ini, ya",
          "<b>Topic 9</b><br>Words: sopo, iku, absen, gak, lupa",
          "<b>Topic 9</b><br>Words: tidak, kak, absen, gak, lupa",
          "<b>Topic 9</b><br>Words: absen, belom, lupa, jangan, guys",
          "<b>Topic 9</b><br>Words: absen, janlup, isi, semalem, masih",
          "<b>Topic 9</b><br>Words: lupaa, tag, siapa, tau, aja",
          "<b>Topic 9</b><br>Words: hooo, absen, okee, tapi, lupa",
          "<b>Topic 9</b><br>Words: btw, absen, lupa, jangan, gak",
          "<b>Topic 9</b><br>Words: absen, oiya, ngingetin, semalem, hehehe",
          "<b>Topic 9</b><br>Words: iksan, titip, absen, boleh, gak",
          "<b>Topic 9</b><br>Words: bukan, advanced, absen, gak, lupa",
          "<b>Topic 9</b><br>Words: typing, pdhl, wkwkwkwk, gak, ada",
          "<b>Topic 9</b><br>Words: male, oiya, yah, absen, lupa",
          "<b>Topic 9</b><br>Words: usah, koo, dateng, gapapa, ga",
          "<b>Topic 9</b><br>Words: absen, gak, lupa, jangan, titip",
          "<b>Topic 9</b><br>Words: cabut, absen, udah, ya, gak",
          "<b>Topic 9</b><br>Words: bat, kesel, ngilang, ngerjain, apa",
          "<b>Topic 9</b><br>Words: eli, bukan, absen, gak, lupa",
          "<b>Topic 9</b><br>Words: titik, koma, kurang, absen, gak",
          "<b>Topic 9</b><br>Words: kayaknya, wkwkwkwkwk, dapet, gak, absen",
          "<b>Topic 9</b><br>Words: dongg, absen, isi, gak, lupa"
         ],
         "marker": {
          "color": "#009E73"
         },
         "mode": "lines",
         "name": "9_absen_gak_lupa_jangan",
         "type": "scatter",
         "x": [
          "2023-01-07T09:24:00",
          "2023-01-09T21:04:00",
          "2023-01-11T21:14:00",
          "2023-01-11T21:16:00",
          "2023-01-11T21:18:00",
          "2023-01-14T15:40:00",
          "2023-01-16T21:21:00",
          "2023-01-21T15:06:00",
          "2023-01-24T21:02:00",
          "2023-01-24T21:06:00",
          "2023-01-26T10:37:00",
          "2023-01-30T20:54:00",
          "2023-01-31T20:59:00",
          "2023-02-13T20:34:00",
          "2023-02-14T20:50:00",
          "2023-02-15T11:45:00",
          "2023-02-15T18:45:00",
          "2023-02-21T21:29:00",
          "2023-02-22T13:07:00",
          "2023-02-22T21:06:00",
          "2023-02-23T10:52:00",
          "2023-02-23T11:48:00",
          "2023-02-23T16:10:00",
          "2023-02-25T14:38:00",
          "2023-02-25T15:28:00",
          "2023-02-27T21:10:00",
          "2023-03-03T20:08:00",
          "2023-03-05T21:11:00",
          "2023-03-09T21:16:00",
          "2023-03-16T09:20:00",
          "2023-03-16T19:15:00",
          "2023-03-16T19:41:00",
          "2023-03-25T15:35:00",
          "2023-03-29T09:06:00",
          "2023-03-29T20:18:00",
          "2023-03-29T20:31:00",
          "2023-04-01T11:18:00",
          "2023-04-06T21:31:00",
          "2023-04-10T19:40:00",
          "2023-04-10T21:00:00",
          "2023-04-10T21:02:00",
          "2023-04-11T12:10:00",
          "2023-04-11T12:13:00",
          "2023-04-11T12:17:00",
          "2023-04-11T12:32:00",
          "2023-04-13T21:44:00"
         ],
         "y": [
          1,
          1,
          1,
          1,
          1,
          1,
          1,
          1,
          1,
          1,
          1,
          1,
          1,
          1,
          1,
          1,
          1,
          1,
          1,
          1,
          1,
          1,
          1,
          1,
          1,
          1,
          1,
          1,
          1,
          1,
          1,
          1,
          1,
          1,
          1,
          1,
          1,
          1,
          1,
          1,
          1,
          1,
          1,
          1,
          1,
          1
         ]
        }
       ],
       "layout": {
        "height": 450,
        "hoverlabel": {
         "bgcolor": "white",
         "font": {
          "family": "Rockwell",
          "size": 16
         }
        },
        "legend": {
         "title": {
          "text": "<b>Global Topic Representation"
         }
        },
        "template": {
         "data": {
          "bar": [
           {
            "error_x": {
             "color": "rgb(36,36,36)"
            },
            "error_y": {
             "color": "rgb(36,36,36)"
            },
            "marker": {
             "line": {
              "color": "white",
              "width": 0.5
             }
            },
            "type": "bar"
           }
          ],
          "barpolar": [
           {
            "marker": {
             "line": {
              "color": "white",
              "width": 0.5
             }
            },
            "type": "barpolar"
           }
          ],
          "carpet": [
           {
            "aaxis": {
             "endlinecolor": "rgb(36,36,36)",
             "gridcolor": "white",
             "linecolor": "white",
             "minorgridcolor": "white",
             "startlinecolor": "rgb(36,36,36)"
            },
            "baxis": {
             "endlinecolor": "rgb(36,36,36)",
             "gridcolor": "white",
             "linecolor": "white",
             "minorgridcolor": "white",
             "startlinecolor": "rgb(36,36,36)"
            },
            "type": "carpet"
           }
          ],
          "choropleth": [
           {
            "colorbar": {
             "outlinewidth": 1,
             "tickcolor": "rgb(36,36,36)",
             "ticks": "outside"
            },
            "type": "choropleth"
           }
          ],
          "contour": [
           {
            "colorbar": {
             "outlinewidth": 1,
             "tickcolor": "rgb(36,36,36)",
             "ticks": "outside"
            },
            "colorscale": [
             [
              0,
              "#440154"
             ],
             [
              0.1111111111111111,
              "#482878"
             ],
             [
              0.2222222222222222,
              "#3e4989"
             ],
             [
              0.3333333333333333,
              "#31688e"
             ],
             [
              0.4444444444444444,
              "#26828e"
             ],
             [
              0.5555555555555556,
              "#1f9e89"
             ],
             [
              0.6666666666666666,
              "#35b779"
             ],
             [
              0.7777777777777778,
              "#6ece58"
             ],
             [
              0.8888888888888888,
              "#b5de2b"
             ],
             [
              1,
              "#fde725"
             ]
            ],
            "type": "contour"
           }
          ],
          "contourcarpet": [
           {
            "colorbar": {
             "outlinewidth": 1,
             "tickcolor": "rgb(36,36,36)",
             "ticks": "outside"
            },
            "type": "contourcarpet"
           }
          ],
          "heatmap": [
           {
            "colorbar": {
             "outlinewidth": 1,
             "tickcolor": "rgb(36,36,36)",
             "ticks": "outside"
            },
            "colorscale": [
             [
              0,
              "#440154"
             ],
             [
              0.1111111111111111,
              "#482878"
             ],
             [
              0.2222222222222222,
              "#3e4989"
             ],
             [
              0.3333333333333333,
              "#31688e"
             ],
             [
              0.4444444444444444,
              "#26828e"
             ],
             [
              0.5555555555555556,
              "#1f9e89"
             ],
             [
              0.6666666666666666,
              "#35b779"
             ],
             [
              0.7777777777777778,
              "#6ece58"
             ],
             [
              0.8888888888888888,
              "#b5de2b"
             ],
             [
              1,
              "#fde725"
             ]
            ],
            "type": "heatmap"
           }
          ],
          "heatmapgl": [
           {
            "colorbar": {
             "outlinewidth": 1,
             "tickcolor": "rgb(36,36,36)",
             "ticks": "outside"
            },
            "colorscale": [
             [
              0,
              "#440154"
             ],
             [
              0.1111111111111111,
              "#482878"
             ],
             [
              0.2222222222222222,
              "#3e4989"
             ],
             [
              0.3333333333333333,
              "#31688e"
             ],
             [
              0.4444444444444444,
              "#26828e"
             ],
             [
              0.5555555555555556,
              "#1f9e89"
             ],
             [
              0.6666666666666666,
              "#35b779"
             ],
             [
              0.7777777777777778,
              "#6ece58"
             ],
             [
              0.8888888888888888,
              "#b5de2b"
             ],
             [
              1,
              "#fde725"
             ]
            ],
            "type": "heatmapgl"
           }
          ],
          "histogram": [
           {
            "marker": {
             "line": {
              "color": "white",
              "width": 0.6
             }
            },
            "type": "histogram"
           }
          ],
          "histogram2d": [
           {
            "colorbar": {
             "outlinewidth": 1,
             "tickcolor": "rgb(36,36,36)",
             "ticks": "outside"
            },
            "colorscale": [
             [
              0,
              "#440154"
             ],
             [
              0.1111111111111111,
              "#482878"
             ],
             [
              0.2222222222222222,
              "#3e4989"
             ],
             [
              0.3333333333333333,
              "#31688e"
             ],
             [
              0.4444444444444444,
              "#26828e"
             ],
             [
              0.5555555555555556,
              "#1f9e89"
             ],
             [
              0.6666666666666666,
              "#35b779"
             ],
             [
              0.7777777777777778,
              "#6ece58"
             ],
             [
              0.8888888888888888,
              "#b5de2b"
             ],
             [
              1,
              "#fde725"
             ]
            ],
            "type": "histogram2d"
           }
          ],
          "histogram2dcontour": [
           {
            "colorbar": {
             "outlinewidth": 1,
             "tickcolor": "rgb(36,36,36)",
             "ticks": "outside"
            },
            "colorscale": [
             [
              0,
              "#440154"
             ],
             [
              0.1111111111111111,
              "#482878"
             ],
             [
              0.2222222222222222,
              "#3e4989"
             ],
             [
              0.3333333333333333,
              "#31688e"
             ],
             [
              0.4444444444444444,
              "#26828e"
             ],
             [
              0.5555555555555556,
              "#1f9e89"
             ],
             [
              0.6666666666666666,
              "#35b779"
             ],
             [
              0.7777777777777778,
              "#6ece58"
             ],
             [
              0.8888888888888888,
              "#b5de2b"
             ],
             [
              1,
              "#fde725"
             ]
            ],
            "type": "histogram2dcontour"
           }
          ],
          "mesh3d": [
           {
            "colorbar": {
             "outlinewidth": 1,
             "tickcolor": "rgb(36,36,36)",
             "ticks": "outside"
            },
            "type": "mesh3d"
           }
          ],
          "parcoords": [
           {
            "line": {
             "colorbar": {
              "outlinewidth": 1,
              "tickcolor": "rgb(36,36,36)",
              "ticks": "outside"
             }
            },
            "type": "parcoords"
           }
          ],
          "pie": [
           {
            "automargin": true,
            "type": "pie"
           }
          ],
          "scatter": [
           {
            "marker": {
             "colorbar": {
              "outlinewidth": 1,
              "tickcolor": "rgb(36,36,36)",
              "ticks": "outside"
             }
            },
            "type": "scatter"
           }
          ],
          "scatter3d": [
           {
            "line": {
             "colorbar": {
              "outlinewidth": 1,
              "tickcolor": "rgb(36,36,36)",
              "ticks": "outside"
             }
            },
            "marker": {
             "colorbar": {
              "outlinewidth": 1,
              "tickcolor": "rgb(36,36,36)",
              "ticks": "outside"
             }
            },
            "type": "scatter3d"
           }
          ],
          "scattercarpet": [
           {
            "marker": {
             "colorbar": {
              "outlinewidth": 1,
              "tickcolor": "rgb(36,36,36)",
              "ticks": "outside"
             }
            },
            "type": "scattercarpet"
           }
          ],
          "scattergeo": [
           {
            "marker": {
             "colorbar": {
              "outlinewidth": 1,
              "tickcolor": "rgb(36,36,36)",
              "ticks": "outside"
             }
            },
            "type": "scattergeo"
           }
          ],
          "scattergl": [
           {
            "marker": {
             "colorbar": {
              "outlinewidth": 1,
              "tickcolor": "rgb(36,36,36)",
              "ticks": "outside"
             }
            },
            "type": "scattergl"
           }
          ],
          "scattermapbox": [
           {
            "marker": {
             "colorbar": {
              "outlinewidth": 1,
              "tickcolor": "rgb(36,36,36)",
              "ticks": "outside"
             }
            },
            "type": "scattermapbox"
           }
          ],
          "scatterpolar": [
           {
            "marker": {
             "colorbar": {
              "outlinewidth": 1,
              "tickcolor": "rgb(36,36,36)",
              "ticks": "outside"
             }
            },
            "type": "scatterpolar"
           }
          ],
          "scatterpolargl": [
           {
            "marker": {
             "colorbar": {
              "outlinewidth": 1,
              "tickcolor": "rgb(36,36,36)",
              "ticks": "outside"
             }
            },
            "type": "scatterpolargl"
           }
          ],
          "scatterternary": [
           {
            "marker": {
             "colorbar": {
              "outlinewidth": 1,
              "tickcolor": "rgb(36,36,36)",
              "ticks": "outside"
             }
            },
            "type": "scatterternary"
           }
          ],
          "surface": [
           {
            "colorbar": {
             "outlinewidth": 1,
             "tickcolor": "rgb(36,36,36)",
             "ticks": "outside"
            },
            "colorscale": [
             [
              0,
              "#440154"
             ],
             [
              0.1111111111111111,
              "#482878"
             ],
             [
              0.2222222222222222,
              "#3e4989"
             ],
             [
              0.3333333333333333,
              "#31688e"
             ],
             [
              0.4444444444444444,
              "#26828e"
             ],
             [
              0.5555555555555556,
              "#1f9e89"
             ],
             [
              0.6666666666666666,
              "#35b779"
             ],
             [
              0.7777777777777778,
              "#6ece58"
             ],
             [
              0.8888888888888888,
              "#b5de2b"
             ],
             [
              1,
              "#fde725"
             ]
            ],
            "type": "surface"
           }
          ],
          "table": [
           {
            "cells": {
             "fill": {
              "color": "rgb(237,237,237)"
             },
             "line": {
              "color": "white"
             }
            },
            "header": {
             "fill": {
              "color": "rgb(217,217,217)"
             },
             "line": {
              "color": "white"
             }
            },
            "type": "table"
           }
          ]
         },
         "layout": {
          "annotationdefaults": {
           "arrowhead": 0,
           "arrowwidth": 1
          },
          "autotypenumbers": "strict",
          "coloraxis": {
           "colorbar": {
            "outlinewidth": 1,
            "tickcolor": "rgb(36,36,36)",
            "ticks": "outside"
           }
          },
          "colorscale": {
           "diverging": [
            [
             0,
             "rgb(103,0,31)"
            ],
            [
             0.1,
             "rgb(178,24,43)"
            ],
            [
             0.2,
             "rgb(214,96,77)"
            ],
            [
             0.3,
             "rgb(244,165,130)"
            ],
            [
             0.4,
             "rgb(253,219,199)"
            ],
            [
             0.5,
             "rgb(247,247,247)"
            ],
            [
             0.6,
             "rgb(209,229,240)"
            ],
            [
             0.7,
             "rgb(146,197,222)"
            ],
            [
             0.8,
             "rgb(67,147,195)"
            ],
            [
             0.9,
             "rgb(33,102,172)"
            ],
            [
             1,
             "rgb(5,48,97)"
            ]
           ],
           "sequential": [
            [
             0,
             "#440154"
            ],
            [
             0.1111111111111111,
             "#482878"
            ],
            [
             0.2222222222222222,
             "#3e4989"
            ],
            [
             0.3333333333333333,
             "#31688e"
            ],
            [
             0.4444444444444444,
             "#26828e"
            ],
            [
             0.5555555555555556,
             "#1f9e89"
            ],
            [
             0.6666666666666666,
             "#35b779"
            ],
            [
             0.7777777777777778,
             "#6ece58"
            ],
            [
             0.8888888888888888,
             "#b5de2b"
            ],
            [
             1,
             "#fde725"
            ]
           ],
           "sequentialminus": [
            [
             0,
             "#440154"
            ],
            [
             0.1111111111111111,
             "#482878"
            ],
            [
             0.2222222222222222,
             "#3e4989"
            ],
            [
             0.3333333333333333,
             "#31688e"
            ],
            [
             0.4444444444444444,
             "#26828e"
            ],
            [
             0.5555555555555556,
             "#1f9e89"
            ],
            [
             0.6666666666666666,
             "#35b779"
            ],
            [
             0.7777777777777778,
             "#6ece58"
            ],
            [
             0.8888888888888888,
             "#b5de2b"
            ],
            [
             1,
             "#fde725"
            ]
           ]
          },
          "colorway": [
           "#1F77B4",
           "#FF7F0E",
           "#2CA02C",
           "#D62728",
           "#9467BD",
           "#8C564B",
           "#E377C2",
           "#7F7F7F",
           "#BCBD22",
           "#17BECF"
          ],
          "font": {
           "color": "rgb(36,36,36)"
          },
          "geo": {
           "bgcolor": "white",
           "lakecolor": "white",
           "landcolor": "white",
           "showlakes": true,
           "showland": true,
           "subunitcolor": "white"
          },
          "hoverlabel": {
           "align": "left"
          },
          "hovermode": "closest",
          "mapbox": {
           "style": "light"
          },
          "paper_bgcolor": "white",
          "plot_bgcolor": "white",
          "polar": {
           "angularaxis": {
            "gridcolor": "rgb(232,232,232)",
            "linecolor": "rgb(36,36,36)",
            "showgrid": false,
            "showline": true,
            "ticks": "outside"
           },
           "bgcolor": "white",
           "radialaxis": {
            "gridcolor": "rgb(232,232,232)",
            "linecolor": "rgb(36,36,36)",
            "showgrid": false,
            "showline": true,
            "ticks": "outside"
           }
          },
          "scene": {
           "xaxis": {
            "backgroundcolor": "white",
            "gridcolor": "rgb(232,232,232)",
            "gridwidth": 2,
            "linecolor": "rgb(36,36,36)",
            "showbackground": true,
            "showgrid": false,
            "showline": true,
            "ticks": "outside",
            "zeroline": false,
            "zerolinecolor": "rgb(36,36,36)"
           },
           "yaxis": {
            "backgroundcolor": "white",
            "gridcolor": "rgb(232,232,232)",
            "gridwidth": 2,
            "linecolor": "rgb(36,36,36)",
            "showbackground": true,
            "showgrid": false,
            "showline": true,
            "ticks": "outside",
            "zeroline": false,
            "zerolinecolor": "rgb(36,36,36)"
           },
           "zaxis": {
            "backgroundcolor": "white",
            "gridcolor": "rgb(232,232,232)",
            "gridwidth": 2,
            "linecolor": "rgb(36,36,36)",
            "showbackground": true,
            "showgrid": false,
            "showline": true,
            "ticks": "outside",
            "zeroline": false,
            "zerolinecolor": "rgb(36,36,36)"
           }
          },
          "shapedefaults": {
           "fillcolor": "black",
           "line": {
            "width": 0
           },
           "opacity": 0.3
          },
          "ternary": {
           "aaxis": {
            "gridcolor": "rgb(232,232,232)",
            "linecolor": "rgb(36,36,36)",
            "showgrid": false,
            "showline": true,
            "ticks": "outside"
           },
           "baxis": {
            "gridcolor": "rgb(232,232,232)",
            "linecolor": "rgb(36,36,36)",
            "showgrid": false,
            "showline": true,
            "ticks": "outside"
           },
           "bgcolor": "white",
           "caxis": {
            "gridcolor": "rgb(232,232,232)",
            "linecolor": "rgb(36,36,36)",
            "showgrid": false,
            "showline": true,
            "ticks": "outside"
           }
          },
          "title": {
           "x": 0.05
          },
          "xaxis": {
           "automargin": true,
           "gridcolor": "rgb(232,232,232)",
           "linecolor": "rgb(36,36,36)",
           "showgrid": false,
           "showline": true,
           "ticks": "outside",
           "title": {
            "standoff": 15
           },
           "zeroline": false,
           "zerolinecolor": "rgb(36,36,36)"
          },
          "yaxis": {
           "automargin": true,
           "gridcolor": "rgb(232,232,232)",
           "linecolor": "rgb(36,36,36)",
           "showgrid": false,
           "showline": true,
           "ticks": "outside",
           "title": {
            "standoff": 15
           },
           "zeroline": false,
           "zerolinecolor": "rgb(36,36,36)"
          }
         }
        },
        "title": {
         "font": {
          "color": "Black",
          "size": 22
         },
         "text": "",
         "x": 0.4,
         "xanchor": "center",
         "y": 0.95,
         "yanchor": "top"
        },
        "width": 1250,
        "xaxis": {
         "showgrid": true
        },
        "yaxis": {
         "showgrid": true,
         "title": {
          "text": "Frequency"
         }
        }
       }
      }
     },
     "metadata": {},
     "output_type": "display_data"
    }
   ],
   "source": [
    "topics_over_time = model.topics_over_time(list(chat[chat.clean_msg != ''].assign(\n",
    "    message=chat.message.str.replace(re.compile(r'http\\S+'), ''))['message'].values),\n",
    "    list(chat[chat.clean_msg != '']['date'].values))\n",
    "fig = model.visualize_topics_over_time(topics_over_time, top_n_topics=10, title='')\n",
    "py.plot(fig, filename='Topics over time', auto_open=False)\n",
    "fig"
   ]
  },
  {
   "attachments": {},
   "cell_type": "markdown",
   "metadata": {},
   "source": [
    "### Topic similarity"
   ]
  },
  {
   "attachments": {},
   "cell_type": "markdown",
   "metadata": {},
   "source": [
    "Intertopic distance map"
   ]
  },
  {
   "cell_type": "code",
   "execution_count": 30,
   "metadata": {},
   "outputs": [
    {
     "data": {
      "application/vnd.plotly.v1+json": {
       "config": {
        "plotlyServerURL": "https://plotly.com"
       },
       "data": [
        {
         "customdata": [
          [
           0,
           "wkwkwk | wkwkw | wkwkkw | wkkwkwk | wkwkwkkw",
           102
          ],
          [
           1,
           "brandon | tumben | kokk | gais | hoki",
           96
          ],
          [
           2,
           "thank | you | congrats | makasih | thanks",
           80
          ],
          [
           3,
           "menti | leave | yg | ngobrolin | canda",
           80
          ],
          [
           4,
           "aku | lg | jg | bs | juga",
           59
          ],
          [
           5,
           "jam | game | as | besok | telat",
           58
          ],
          [
           6,
           "kelas | lecture | pre | student | hari",
           52
          ],
          [
           7,
           "keren | ok | hebat | banget | bagus",
           52
          ],
          [
           8,
           "link | ini | google | video | recording",
           50
          ],
          [
           9,
           "absen | gak | lupa | jangan | oiya",
           46
          ],
          [
           10,
           "data | kita | sql | nilai | datacamp",
           42
          ],
          [
           11,
           "alex | mirza | aris | ely | alit_gor",
           39
          ],
          [
           12,
           "wkwkwkwk | kwkwkwkw | wkwkkwkwkw | ae | kwkwkw",
           35
          ],
          [
           13,
           "kajal | kak | ichsan | ga | bangun",
           33
          ],
          [
           14,
           "jal | kak | jalita | tuh | telfon",
           31
          ],
          [
           15,
           "team | tim | lead | section | setiap",
           29
          ],
          [
           16,
           "ale | freak | ih | gila | kajal",
           26
          ],
          [
           17,
           "hahahha | hahahaha | hahaha | hahahahah | hahahahhahah",
           22
          ],
          [
           18,
           "kalian | si | angkatan | sibuk | kamu",
           21
          ],
          [
           19,
           "wkwkkwkw | wkwkwkwkwk | wkwkwkkwkw | wkwkwkwkw | wkwkwkwk",
           20
          ],
          [
           20,
           "apa | masuknya | apantu | beda | beneran",
           18
          ],
          [
           21,
           "discord | habis | kelas | yukkk | blank",
           17
          ],
          [
           22,
           "udh | gua | sumit | kaliaaan | rikaaaaa",
           16
          ],
          [
           23,
           "happy | birthday | tahun | ulang | adit",
           16
          ],
          [
           24,
           "kek | keknya | tiap | terakhir | bisa",
           16
          ],
          [
           25,
           "iyaa | yuhuuu | yezzzzz | yez | yeay",
           15
          ],
          [
           26,
           "kasih | teman | semangat | biar | tau",
           15
          ],
          [
           27,
           "foundation | deadline | 59 | 23 | intermediate",
           15
          ],
          [
           28,
           "bisa | banyak | ekkekw | ngmngnya | memuaskan",
           13
          ],
          [
           29,
           "lagii | advance | adaptasi | iklannya | siapanya",
           12
          ],
          [
           30,
           "python | p2p | phase | isi | ini",
           12
          ],
          [
           31,
           "makan | enak | akhirny | go | sarapan",
           12
          ],
          [
           32,
           "oke | up | ok | alrightyyy | okay",
           12
          ],
          [
           33,
           "tl | simulation | 27 | rangkap | rabu",
           12
          ],
          [
           34,
           "laptop | desktop | internet | wifi | gw",
           12
          ],
          [
           35,
           "tidur | malam | goodnight | bomat | keatas",
           12
          ],
          [
           36,
           "gua | lu | sini | menduakan | datengin",
           11
          ],
          [
           37,
           "gasss | gas | panas2in | option | gasssss",
           11
          ],
          [
           38,
           "duit | gaji | pengen | 20 | kutunggu",
           10
          ]
         ],
         "hovertemplate": "<b>Topic %{customdata[0]}</b><br>%{customdata[1]}<br>Size: %{customdata[2]}",
         "legendgroup": "",
         "marker": {
          "color": "#B0BEC5",
          "line": {
           "color": "DarkSlateGrey",
           "width": 2
          },
          "size": [
           102,
           96,
           80,
           80,
           59,
           58,
           52,
           52,
           50,
           46,
           42,
           39,
           35,
           33,
           31,
           29,
           26,
           22,
           21,
           20,
           18,
           17,
           16,
           16,
           16,
           15,
           15,
           15,
           13,
           12,
           12,
           12,
           12,
           12,
           12,
           12,
           11,
           11,
           10
          ],
          "sizemode": "area",
          "sizeref": 0.06375,
          "symbol": "circle"
         },
         "mode": "markers",
         "name": "",
         "orientation": "v",
         "showlegend": false,
         "type": "scatter",
         "x": [
          13.12523365020752,
          12.557849884033203,
          8.513754844665527,
          13.082310676574707,
          12.903830528259277,
          14.318538665771484,
          14.51623821258545,
          13.799537658691406,
          14.816106796264648,
          14.10310173034668,
          14.763164520263672,
          9.97976016998291,
          0.421866774559021,
          -2.3513712882995605,
          -3.264446258544922,
          -3.222046375274658,
          0.8948142528533936,
          -2.0605032444000244,
          -3.8630754947662354,
          -2.1388723850250244,
          10.17509651184082,
          -1.909787654876709,
          0.8737777471542358,
          8.513776779174805,
          10.6422758102417,
          -3.898594617843628,
          -3.63169527053833,
          15.003833770751953,
          -1.9088777303695679,
          14.38132381439209,
          14.319404602050781,
          0.6054167151451111,
          13.651169776916504,
          14.775091171264648,
          -2.2849864959716797,
          10.13564395904541,
          10.801752090454102,
          -3.552938938140869,
          -3.9765443801879883
         ],
         "xaxis": "x",
         "y": [
          6.490123748779297,
          7.007784366607666,
          -2.5585713386535645,
          6.550239086151123,
          6.709404945373535,
          4.695036888122559,
          4.781324863433838,
          5.829103469848633,
          4.902774810791016,
          5.915132522583008,
          4.216222286224365,
          12.50169563293457,
          12.909646034240723,
          -14.553730010986328,
          -12.899847030639648,
          -12.871980667114258,
          12.488715171813965,
          -15.50582504272461,
          -11.504565238952637,
          -15.398197174072266,
          12.678217887878418,
          -14.423454284667969,
          12.624541282653809,
          -2.558558940887451,
          13.146998405456543,
          -11.086846351623535,
          -12.085016250610352,
          4.326318740844727,
          -14.418313980102539,
          6.0360846519470215,
          5.757536888122559,
          12.828837394714355,
          5.72368049621582,
          4.004480838775635,
          -14.998013496398926,
          12.658108711242676,
          13.304353713989258,
          -12.029654502868652,
          -11.250356674194336
         ],
         "yaxis": "y"
        }
       ],
       "layout": {
        "annotations": [
         {
          "showarrow": false,
          "text": "D1",
          "x": -4.573026037216186,
          "y": -1.2658460140228263,
          "yshift": 10
         },
         {
          "showarrow": false,
          "text": "D2",
          "x": 6.34069139957428,
          "xshift": 10,
          "y": 15.300006771087647
         }
        ],
        "height": 650,
        "hoverlabel": {
         "bgcolor": "white",
         "font": {
          "family": "Rockwell",
          "size": 16
         }
        },
        "legend": {
         "itemsizing": "constant",
         "tracegroupgap": 0
        },
        "margin": {
         "t": 60
        },
        "shapes": [
         {
          "line": {
           "color": "#CFD8DC",
           "width": 2
          },
          "type": "line",
          "x0": 6.34069139957428,
          "x1": 6.34069139957428,
          "y0": -17.8316987991333,
          "y1": 15.300006771087647
         },
         {
          "line": {
           "color": "#9E9E9E",
           "width": 2
          },
          "type": "line",
          "x0": -4.573026037216186,
          "x1": 17.254408836364746,
          "y0": -1.2658460140228263,
          "y1": -1.2658460140228263
         }
        ],
        "sliders": [
         {
          "active": 0,
          "pad": {
           "t": 50
          },
          "steps": [
           {
            "args": [
             {
              "marker.color": [
               [
                "red",
                "#B0BEC5",
                "#B0BEC5",
                "#B0BEC5",
                "#B0BEC5",
                "#B0BEC5",
                "#B0BEC5",
                "#B0BEC5",
                "#B0BEC5",
                "#B0BEC5",
                "#B0BEC5",
                "#B0BEC5",
                "#B0BEC5",
                "#B0BEC5",
                "#B0BEC5",
                "#B0BEC5",
                "#B0BEC5",
                "#B0BEC5",
                "#B0BEC5",
                "#B0BEC5",
                "#B0BEC5",
                "#B0BEC5",
                "#B0BEC5",
                "#B0BEC5",
                "#B0BEC5",
                "#B0BEC5",
                "#B0BEC5",
                "#B0BEC5",
                "#B0BEC5",
                "#B0BEC5",
                "#B0BEC5",
                "#B0BEC5",
                "#B0BEC5",
                "#B0BEC5",
                "#B0BEC5",
                "#B0BEC5",
                "#B0BEC5",
                "#B0BEC5",
                "#B0BEC5"
               ]
              ]
             }
            ],
            "label": "Topic 0",
            "method": "update"
           },
           {
            "args": [
             {
              "marker.color": [
               [
                "#B0BEC5",
                "red",
                "#B0BEC5",
                "#B0BEC5",
                "#B0BEC5",
                "#B0BEC5",
                "#B0BEC5",
                "#B0BEC5",
                "#B0BEC5",
                "#B0BEC5",
                "#B0BEC5",
                "#B0BEC5",
                "#B0BEC5",
                "#B0BEC5",
                "#B0BEC5",
                "#B0BEC5",
                "#B0BEC5",
                "#B0BEC5",
                "#B0BEC5",
                "#B0BEC5",
                "#B0BEC5",
                "#B0BEC5",
                "#B0BEC5",
                "#B0BEC5",
                "#B0BEC5",
                "#B0BEC5",
                "#B0BEC5",
                "#B0BEC5",
                "#B0BEC5",
                "#B0BEC5",
                "#B0BEC5",
                "#B0BEC5",
                "#B0BEC5",
                "#B0BEC5",
                "#B0BEC5",
                "#B0BEC5",
                "#B0BEC5",
                "#B0BEC5",
                "#B0BEC5"
               ]
              ]
             }
            ],
            "label": "Topic 1",
            "method": "update"
           },
           {
            "args": [
             {
              "marker.color": [
               [
                "#B0BEC5",
                "#B0BEC5",
                "red",
                "#B0BEC5",
                "#B0BEC5",
                "#B0BEC5",
                "#B0BEC5",
                "#B0BEC5",
                "#B0BEC5",
                "#B0BEC5",
                "#B0BEC5",
                "#B0BEC5",
                "#B0BEC5",
                "#B0BEC5",
                "#B0BEC5",
                "#B0BEC5",
                "#B0BEC5",
                "#B0BEC5",
                "#B0BEC5",
                "#B0BEC5",
                "#B0BEC5",
                "#B0BEC5",
                "#B0BEC5",
                "#B0BEC5",
                "#B0BEC5",
                "#B0BEC5",
                "#B0BEC5",
                "#B0BEC5",
                "#B0BEC5",
                "#B0BEC5",
                "#B0BEC5",
                "#B0BEC5",
                "#B0BEC5",
                "#B0BEC5",
                "#B0BEC5",
                "#B0BEC5",
                "#B0BEC5",
                "#B0BEC5",
                "#B0BEC5"
               ]
              ]
             }
            ],
            "label": "Topic 2",
            "method": "update"
           },
           {
            "args": [
             {
              "marker.color": [
               [
                "#B0BEC5",
                "#B0BEC5",
                "#B0BEC5",
                "red",
                "#B0BEC5",
                "#B0BEC5",
                "#B0BEC5",
                "#B0BEC5",
                "#B0BEC5",
                "#B0BEC5",
                "#B0BEC5",
                "#B0BEC5",
                "#B0BEC5",
                "#B0BEC5",
                "#B0BEC5",
                "#B0BEC5",
                "#B0BEC5",
                "#B0BEC5",
                "#B0BEC5",
                "#B0BEC5",
                "#B0BEC5",
                "#B0BEC5",
                "#B0BEC5",
                "#B0BEC5",
                "#B0BEC5",
                "#B0BEC5",
                "#B0BEC5",
                "#B0BEC5",
                "#B0BEC5",
                "#B0BEC5",
                "#B0BEC5",
                "#B0BEC5",
                "#B0BEC5",
                "#B0BEC5",
                "#B0BEC5",
                "#B0BEC5",
                "#B0BEC5",
                "#B0BEC5",
                "#B0BEC5"
               ]
              ]
             }
            ],
            "label": "Topic 3",
            "method": "update"
           },
           {
            "args": [
             {
              "marker.color": [
               [
                "#B0BEC5",
                "#B0BEC5",
                "#B0BEC5",
                "#B0BEC5",
                "red",
                "#B0BEC5",
                "#B0BEC5",
                "#B0BEC5",
                "#B0BEC5",
                "#B0BEC5",
                "#B0BEC5",
                "#B0BEC5",
                "#B0BEC5",
                "#B0BEC5",
                "#B0BEC5",
                "#B0BEC5",
                "#B0BEC5",
                "#B0BEC5",
                "#B0BEC5",
                "#B0BEC5",
                "#B0BEC5",
                "#B0BEC5",
                "#B0BEC5",
                "#B0BEC5",
                "#B0BEC5",
                "#B0BEC5",
                "#B0BEC5",
                "#B0BEC5",
                "#B0BEC5",
                "#B0BEC5",
                "#B0BEC5",
                "#B0BEC5",
                "#B0BEC5",
                "#B0BEC5",
                "#B0BEC5",
                "#B0BEC5",
                "#B0BEC5",
                "#B0BEC5",
                "#B0BEC5"
               ]
              ]
             }
            ],
            "label": "Topic 4",
            "method": "update"
           },
           {
            "args": [
             {
              "marker.color": [
               [
                "#B0BEC5",
                "#B0BEC5",
                "#B0BEC5",
                "#B0BEC5",
                "#B0BEC5",
                "red",
                "#B0BEC5",
                "#B0BEC5",
                "#B0BEC5",
                "#B0BEC5",
                "#B0BEC5",
                "#B0BEC5",
                "#B0BEC5",
                "#B0BEC5",
                "#B0BEC5",
                "#B0BEC5",
                "#B0BEC5",
                "#B0BEC5",
                "#B0BEC5",
                "#B0BEC5",
                "#B0BEC5",
                "#B0BEC5",
                "#B0BEC5",
                "#B0BEC5",
                "#B0BEC5",
                "#B0BEC5",
                "#B0BEC5",
                "#B0BEC5",
                "#B0BEC5",
                "#B0BEC5",
                "#B0BEC5",
                "#B0BEC5",
                "#B0BEC5",
                "#B0BEC5",
                "#B0BEC5",
                "#B0BEC5",
                "#B0BEC5",
                "#B0BEC5",
                "#B0BEC5"
               ]
              ]
             }
            ],
            "label": "Topic 5",
            "method": "update"
           },
           {
            "args": [
             {
              "marker.color": [
               [
                "#B0BEC5",
                "#B0BEC5",
                "#B0BEC5",
                "#B0BEC5",
                "#B0BEC5",
                "#B0BEC5",
                "red",
                "#B0BEC5",
                "#B0BEC5",
                "#B0BEC5",
                "#B0BEC5",
                "#B0BEC5",
                "#B0BEC5",
                "#B0BEC5",
                "#B0BEC5",
                "#B0BEC5",
                "#B0BEC5",
                "#B0BEC5",
                "#B0BEC5",
                "#B0BEC5",
                "#B0BEC5",
                "#B0BEC5",
                "#B0BEC5",
                "#B0BEC5",
                "#B0BEC5",
                "#B0BEC5",
                "#B0BEC5",
                "#B0BEC5",
                "#B0BEC5",
                "#B0BEC5",
                "#B0BEC5",
                "#B0BEC5",
                "#B0BEC5",
                "#B0BEC5",
                "#B0BEC5",
                "#B0BEC5",
                "#B0BEC5",
                "#B0BEC5",
                "#B0BEC5"
               ]
              ]
             }
            ],
            "label": "Topic 6",
            "method": "update"
           },
           {
            "args": [
             {
              "marker.color": [
               [
                "#B0BEC5",
                "#B0BEC5",
                "#B0BEC5",
                "#B0BEC5",
                "#B0BEC5",
                "#B0BEC5",
                "#B0BEC5",
                "red",
                "#B0BEC5",
                "#B0BEC5",
                "#B0BEC5",
                "#B0BEC5",
                "#B0BEC5",
                "#B0BEC5",
                "#B0BEC5",
                "#B0BEC5",
                "#B0BEC5",
                "#B0BEC5",
                "#B0BEC5",
                "#B0BEC5",
                "#B0BEC5",
                "#B0BEC5",
                "#B0BEC5",
                "#B0BEC5",
                "#B0BEC5",
                "#B0BEC5",
                "#B0BEC5",
                "#B0BEC5",
                "#B0BEC5",
                "#B0BEC5",
                "#B0BEC5",
                "#B0BEC5",
                "#B0BEC5",
                "#B0BEC5",
                "#B0BEC5",
                "#B0BEC5",
                "#B0BEC5",
                "#B0BEC5",
                "#B0BEC5"
               ]
              ]
             }
            ],
            "label": "Topic 7",
            "method": "update"
           },
           {
            "args": [
             {
              "marker.color": [
               [
                "#B0BEC5",
                "#B0BEC5",
                "#B0BEC5",
                "#B0BEC5",
                "#B0BEC5",
                "#B0BEC5",
                "#B0BEC5",
                "#B0BEC5",
                "red",
                "#B0BEC5",
                "#B0BEC5",
                "#B0BEC5",
                "#B0BEC5",
                "#B0BEC5",
                "#B0BEC5",
                "#B0BEC5",
                "#B0BEC5",
                "#B0BEC5",
                "#B0BEC5",
                "#B0BEC5",
                "#B0BEC5",
                "#B0BEC5",
                "#B0BEC5",
                "#B0BEC5",
                "#B0BEC5",
                "#B0BEC5",
                "#B0BEC5",
                "#B0BEC5",
                "#B0BEC5",
                "#B0BEC5",
                "#B0BEC5",
                "#B0BEC5",
                "#B0BEC5",
                "#B0BEC5",
                "#B0BEC5",
                "#B0BEC5",
                "#B0BEC5",
                "#B0BEC5",
                "#B0BEC5"
               ]
              ]
             }
            ],
            "label": "Topic 8",
            "method": "update"
           },
           {
            "args": [
             {
              "marker.color": [
               [
                "#B0BEC5",
                "#B0BEC5",
                "#B0BEC5",
                "#B0BEC5",
                "#B0BEC5",
                "#B0BEC5",
                "#B0BEC5",
                "#B0BEC5",
                "#B0BEC5",
                "red",
                "#B0BEC5",
                "#B0BEC5",
                "#B0BEC5",
                "#B0BEC5",
                "#B0BEC5",
                "#B0BEC5",
                "#B0BEC5",
                "#B0BEC5",
                "#B0BEC5",
                "#B0BEC5",
                "#B0BEC5",
                "#B0BEC5",
                "#B0BEC5",
                "#B0BEC5",
                "#B0BEC5",
                "#B0BEC5",
                "#B0BEC5",
                "#B0BEC5",
                "#B0BEC5",
                "#B0BEC5",
                "#B0BEC5",
                "#B0BEC5",
                "#B0BEC5",
                "#B0BEC5",
                "#B0BEC5",
                "#B0BEC5",
                "#B0BEC5",
                "#B0BEC5",
                "#B0BEC5"
               ]
              ]
             }
            ],
            "label": "Topic 9",
            "method": "update"
           },
           {
            "args": [
             {
              "marker.color": [
               [
                "#B0BEC5",
                "#B0BEC5",
                "#B0BEC5",
                "#B0BEC5",
                "#B0BEC5",
                "#B0BEC5",
                "#B0BEC5",
                "#B0BEC5",
                "#B0BEC5",
                "#B0BEC5",
                "red",
                "#B0BEC5",
                "#B0BEC5",
                "#B0BEC5",
                "#B0BEC5",
                "#B0BEC5",
                "#B0BEC5",
                "#B0BEC5",
                "#B0BEC5",
                "#B0BEC5",
                "#B0BEC5",
                "#B0BEC5",
                "#B0BEC5",
                "#B0BEC5",
                "#B0BEC5",
                "#B0BEC5",
                "#B0BEC5",
                "#B0BEC5",
                "#B0BEC5",
                "#B0BEC5",
                "#B0BEC5",
                "#B0BEC5",
                "#B0BEC5",
                "#B0BEC5",
                "#B0BEC5",
                "#B0BEC5",
                "#B0BEC5",
                "#B0BEC5",
                "#B0BEC5"
               ]
              ]
             }
            ],
            "label": "Topic 10",
            "method": "update"
           },
           {
            "args": [
             {
              "marker.color": [
               [
                "#B0BEC5",
                "#B0BEC5",
                "#B0BEC5",
                "#B0BEC5",
                "#B0BEC5",
                "#B0BEC5",
                "#B0BEC5",
                "#B0BEC5",
                "#B0BEC5",
                "#B0BEC5",
                "#B0BEC5",
                "red",
                "#B0BEC5",
                "#B0BEC5",
                "#B0BEC5",
                "#B0BEC5",
                "#B0BEC5",
                "#B0BEC5",
                "#B0BEC5",
                "#B0BEC5",
                "#B0BEC5",
                "#B0BEC5",
                "#B0BEC5",
                "#B0BEC5",
                "#B0BEC5",
                "#B0BEC5",
                "#B0BEC5",
                "#B0BEC5",
                "#B0BEC5",
                "#B0BEC5",
                "#B0BEC5",
                "#B0BEC5",
                "#B0BEC5",
                "#B0BEC5",
                "#B0BEC5",
                "#B0BEC5",
                "#B0BEC5",
                "#B0BEC5",
                "#B0BEC5"
               ]
              ]
             }
            ],
            "label": "Topic 11",
            "method": "update"
           },
           {
            "args": [
             {
              "marker.color": [
               [
                "#B0BEC5",
                "#B0BEC5",
                "#B0BEC5",
                "#B0BEC5",
                "#B0BEC5",
                "#B0BEC5",
                "#B0BEC5",
                "#B0BEC5",
                "#B0BEC5",
                "#B0BEC5",
                "#B0BEC5",
                "#B0BEC5",
                "red",
                "#B0BEC5",
                "#B0BEC5",
                "#B0BEC5",
                "#B0BEC5",
                "#B0BEC5",
                "#B0BEC5",
                "#B0BEC5",
                "#B0BEC5",
                "#B0BEC5",
                "#B0BEC5",
                "#B0BEC5",
                "#B0BEC5",
                "#B0BEC5",
                "#B0BEC5",
                "#B0BEC5",
                "#B0BEC5",
                "#B0BEC5",
                "#B0BEC5",
                "#B0BEC5",
                "#B0BEC5",
                "#B0BEC5",
                "#B0BEC5",
                "#B0BEC5",
                "#B0BEC5",
                "#B0BEC5",
                "#B0BEC5"
               ]
              ]
             }
            ],
            "label": "Topic 12",
            "method": "update"
           },
           {
            "args": [
             {
              "marker.color": [
               [
                "#B0BEC5",
                "#B0BEC5",
                "#B0BEC5",
                "#B0BEC5",
                "#B0BEC5",
                "#B0BEC5",
                "#B0BEC5",
                "#B0BEC5",
                "#B0BEC5",
                "#B0BEC5",
                "#B0BEC5",
                "#B0BEC5",
                "#B0BEC5",
                "red",
                "#B0BEC5",
                "#B0BEC5",
                "#B0BEC5",
                "#B0BEC5",
                "#B0BEC5",
                "#B0BEC5",
                "#B0BEC5",
                "#B0BEC5",
                "#B0BEC5",
                "#B0BEC5",
                "#B0BEC5",
                "#B0BEC5",
                "#B0BEC5",
                "#B0BEC5",
                "#B0BEC5",
                "#B0BEC5",
                "#B0BEC5",
                "#B0BEC5",
                "#B0BEC5",
                "#B0BEC5",
                "#B0BEC5",
                "#B0BEC5",
                "#B0BEC5",
                "#B0BEC5",
                "#B0BEC5"
               ]
              ]
             }
            ],
            "label": "Topic 13",
            "method": "update"
           },
           {
            "args": [
             {
              "marker.color": [
               [
                "#B0BEC5",
                "#B0BEC5",
                "#B0BEC5",
                "#B0BEC5",
                "#B0BEC5",
                "#B0BEC5",
                "#B0BEC5",
                "#B0BEC5",
                "#B0BEC5",
                "#B0BEC5",
                "#B0BEC5",
                "#B0BEC5",
                "#B0BEC5",
                "#B0BEC5",
                "red",
                "#B0BEC5",
                "#B0BEC5",
                "#B0BEC5",
                "#B0BEC5",
                "#B0BEC5",
                "#B0BEC5",
                "#B0BEC5",
                "#B0BEC5",
                "#B0BEC5",
                "#B0BEC5",
                "#B0BEC5",
                "#B0BEC5",
                "#B0BEC5",
                "#B0BEC5",
                "#B0BEC5",
                "#B0BEC5",
                "#B0BEC5",
                "#B0BEC5",
                "#B0BEC5",
                "#B0BEC5",
                "#B0BEC5",
                "#B0BEC5",
                "#B0BEC5",
                "#B0BEC5"
               ]
              ]
             }
            ],
            "label": "Topic 14",
            "method": "update"
           },
           {
            "args": [
             {
              "marker.color": [
               [
                "#B0BEC5",
                "#B0BEC5",
                "#B0BEC5",
                "#B0BEC5",
                "#B0BEC5",
                "#B0BEC5",
                "#B0BEC5",
                "#B0BEC5",
                "#B0BEC5",
                "#B0BEC5",
                "#B0BEC5",
                "#B0BEC5",
                "#B0BEC5",
                "#B0BEC5",
                "#B0BEC5",
                "red",
                "#B0BEC5",
                "#B0BEC5",
                "#B0BEC5",
                "#B0BEC5",
                "#B0BEC5",
                "#B0BEC5",
                "#B0BEC5",
                "#B0BEC5",
                "#B0BEC5",
                "#B0BEC5",
                "#B0BEC5",
                "#B0BEC5",
                "#B0BEC5",
                "#B0BEC5",
                "#B0BEC5",
                "#B0BEC5",
                "#B0BEC5",
                "#B0BEC5",
                "#B0BEC5",
                "#B0BEC5",
                "#B0BEC5",
                "#B0BEC5",
                "#B0BEC5"
               ]
              ]
             }
            ],
            "label": "Topic 15",
            "method": "update"
           },
           {
            "args": [
             {
              "marker.color": [
               [
                "#B0BEC5",
                "#B0BEC5",
                "#B0BEC5",
                "#B0BEC5",
                "#B0BEC5",
                "#B0BEC5",
                "#B0BEC5",
                "#B0BEC5",
                "#B0BEC5",
                "#B0BEC5",
                "#B0BEC5",
                "#B0BEC5",
                "#B0BEC5",
                "#B0BEC5",
                "#B0BEC5",
                "#B0BEC5",
                "red",
                "#B0BEC5",
                "#B0BEC5",
                "#B0BEC5",
                "#B0BEC5",
                "#B0BEC5",
                "#B0BEC5",
                "#B0BEC5",
                "#B0BEC5",
                "#B0BEC5",
                "#B0BEC5",
                "#B0BEC5",
                "#B0BEC5",
                "#B0BEC5",
                "#B0BEC5",
                "#B0BEC5",
                "#B0BEC5",
                "#B0BEC5",
                "#B0BEC5",
                "#B0BEC5",
                "#B0BEC5",
                "#B0BEC5",
                "#B0BEC5"
               ]
              ]
             }
            ],
            "label": "Topic 16",
            "method": "update"
           },
           {
            "args": [
             {
              "marker.color": [
               [
                "#B0BEC5",
                "#B0BEC5",
                "#B0BEC5",
                "#B0BEC5",
                "#B0BEC5",
                "#B0BEC5",
                "#B0BEC5",
                "#B0BEC5",
                "#B0BEC5",
                "#B0BEC5",
                "#B0BEC5",
                "#B0BEC5",
                "#B0BEC5",
                "#B0BEC5",
                "#B0BEC5",
                "#B0BEC5",
                "#B0BEC5",
                "red",
                "#B0BEC5",
                "#B0BEC5",
                "#B0BEC5",
                "#B0BEC5",
                "#B0BEC5",
                "#B0BEC5",
                "#B0BEC5",
                "#B0BEC5",
                "#B0BEC5",
                "#B0BEC5",
                "#B0BEC5",
                "#B0BEC5",
                "#B0BEC5",
                "#B0BEC5",
                "#B0BEC5",
                "#B0BEC5",
                "#B0BEC5",
                "#B0BEC5",
                "#B0BEC5",
                "#B0BEC5",
                "#B0BEC5"
               ]
              ]
             }
            ],
            "label": "Topic 17",
            "method": "update"
           },
           {
            "args": [
             {
              "marker.color": [
               [
                "#B0BEC5",
                "#B0BEC5",
                "#B0BEC5",
                "#B0BEC5",
                "#B0BEC5",
                "#B0BEC5",
                "#B0BEC5",
                "#B0BEC5",
                "#B0BEC5",
                "#B0BEC5",
                "#B0BEC5",
                "#B0BEC5",
                "#B0BEC5",
                "#B0BEC5",
                "#B0BEC5",
                "#B0BEC5",
                "#B0BEC5",
                "#B0BEC5",
                "red",
                "#B0BEC5",
                "#B0BEC5",
                "#B0BEC5",
                "#B0BEC5",
                "#B0BEC5",
                "#B0BEC5",
                "#B0BEC5",
                "#B0BEC5",
                "#B0BEC5",
                "#B0BEC5",
                "#B0BEC5",
                "#B0BEC5",
                "#B0BEC5",
                "#B0BEC5",
                "#B0BEC5",
                "#B0BEC5",
                "#B0BEC5",
                "#B0BEC5",
                "#B0BEC5",
                "#B0BEC5"
               ]
              ]
             }
            ],
            "label": "Topic 18",
            "method": "update"
           },
           {
            "args": [
             {
              "marker.color": [
               [
                "#B0BEC5",
                "#B0BEC5",
                "#B0BEC5",
                "#B0BEC5",
                "#B0BEC5",
                "#B0BEC5",
                "#B0BEC5",
                "#B0BEC5",
                "#B0BEC5",
                "#B0BEC5",
                "#B0BEC5",
                "#B0BEC5",
                "#B0BEC5",
                "#B0BEC5",
                "#B0BEC5",
                "#B0BEC5",
                "#B0BEC5",
                "#B0BEC5",
                "#B0BEC5",
                "red",
                "#B0BEC5",
                "#B0BEC5",
                "#B0BEC5",
                "#B0BEC5",
                "#B0BEC5",
                "#B0BEC5",
                "#B0BEC5",
                "#B0BEC5",
                "#B0BEC5",
                "#B0BEC5",
                "#B0BEC5",
                "#B0BEC5",
                "#B0BEC5",
                "#B0BEC5",
                "#B0BEC5",
                "#B0BEC5",
                "#B0BEC5",
                "#B0BEC5",
                "#B0BEC5"
               ]
              ]
             }
            ],
            "label": "Topic 19",
            "method": "update"
           },
           {
            "args": [
             {
              "marker.color": [
               [
                "#B0BEC5",
                "#B0BEC5",
                "#B0BEC5",
                "#B0BEC5",
                "#B0BEC5",
                "#B0BEC5",
                "#B0BEC5",
                "#B0BEC5",
                "#B0BEC5",
                "#B0BEC5",
                "#B0BEC5",
                "#B0BEC5",
                "#B0BEC5",
                "#B0BEC5",
                "#B0BEC5",
                "#B0BEC5",
                "#B0BEC5",
                "#B0BEC5",
                "#B0BEC5",
                "#B0BEC5",
                "red",
                "#B0BEC5",
                "#B0BEC5",
                "#B0BEC5",
                "#B0BEC5",
                "#B0BEC5",
                "#B0BEC5",
                "#B0BEC5",
                "#B0BEC5",
                "#B0BEC5",
                "#B0BEC5",
                "#B0BEC5",
                "#B0BEC5",
                "#B0BEC5",
                "#B0BEC5",
                "#B0BEC5",
                "#B0BEC5",
                "#B0BEC5",
                "#B0BEC5"
               ]
              ]
             }
            ],
            "label": "Topic 20",
            "method": "update"
           },
           {
            "args": [
             {
              "marker.color": [
               [
                "#B0BEC5",
                "#B0BEC5",
                "#B0BEC5",
                "#B0BEC5",
                "#B0BEC5",
                "#B0BEC5",
                "#B0BEC5",
                "#B0BEC5",
                "#B0BEC5",
                "#B0BEC5",
                "#B0BEC5",
                "#B0BEC5",
                "#B0BEC5",
                "#B0BEC5",
                "#B0BEC5",
                "#B0BEC5",
                "#B0BEC5",
                "#B0BEC5",
                "#B0BEC5",
                "#B0BEC5",
                "#B0BEC5",
                "red",
                "#B0BEC5",
                "#B0BEC5",
                "#B0BEC5",
                "#B0BEC5",
                "#B0BEC5",
                "#B0BEC5",
                "#B0BEC5",
                "#B0BEC5",
                "#B0BEC5",
                "#B0BEC5",
                "#B0BEC5",
                "#B0BEC5",
                "#B0BEC5",
                "#B0BEC5",
                "#B0BEC5",
                "#B0BEC5",
                "#B0BEC5"
               ]
              ]
             }
            ],
            "label": "Topic 21",
            "method": "update"
           },
           {
            "args": [
             {
              "marker.color": [
               [
                "#B0BEC5",
                "#B0BEC5",
                "#B0BEC5",
                "#B0BEC5",
                "#B0BEC5",
                "#B0BEC5",
                "#B0BEC5",
                "#B0BEC5",
                "#B0BEC5",
                "#B0BEC5",
                "#B0BEC5",
                "#B0BEC5",
                "#B0BEC5",
                "#B0BEC5",
                "#B0BEC5",
                "#B0BEC5",
                "#B0BEC5",
                "#B0BEC5",
                "#B0BEC5",
                "#B0BEC5",
                "#B0BEC5",
                "#B0BEC5",
                "red",
                "#B0BEC5",
                "#B0BEC5",
                "#B0BEC5",
                "#B0BEC5",
                "#B0BEC5",
                "#B0BEC5",
                "#B0BEC5",
                "#B0BEC5",
                "#B0BEC5",
                "#B0BEC5",
                "#B0BEC5",
                "#B0BEC5",
                "#B0BEC5",
                "#B0BEC5",
                "#B0BEC5",
                "#B0BEC5"
               ]
              ]
             }
            ],
            "label": "Topic 22",
            "method": "update"
           },
           {
            "args": [
             {
              "marker.color": [
               [
                "#B0BEC5",
                "#B0BEC5",
                "#B0BEC5",
                "#B0BEC5",
                "#B0BEC5",
                "#B0BEC5",
                "#B0BEC5",
                "#B0BEC5",
                "#B0BEC5",
                "#B0BEC5",
                "#B0BEC5",
                "#B0BEC5",
                "#B0BEC5",
                "#B0BEC5",
                "#B0BEC5",
                "#B0BEC5",
                "#B0BEC5",
                "#B0BEC5",
                "#B0BEC5",
                "#B0BEC5",
                "#B0BEC5",
                "#B0BEC5",
                "#B0BEC5",
                "red",
                "#B0BEC5",
                "#B0BEC5",
                "#B0BEC5",
                "#B0BEC5",
                "#B0BEC5",
                "#B0BEC5",
                "#B0BEC5",
                "#B0BEC5",
                "#B0BEC5",
                "#B0BEC5",
                "#B0BEC5",
                "#B0BEC5",
                "#B0BEC5",
                "#B0BEC5",
                "#B0BEC5"
               ]
              ]
             }
            ],
            "label": "Topic 23",
            "method": "update"
           },
           {
            "args": [
             {
              "marker.color": [
               [
                "#B0BEC5",
                "#B0BEC5",
                "#B0BEC5",
                "#B0BEC5",
                "#B0BEC5",
                "#B0BEC5",
                "#B0BEC5",
                "#B0BEC5",
                "#B0BEC5",
                "#B0BEC5",
                "#B0BEC5",
                "#B0BEC5",
                "#B0BEC5",
                "#B0BEC5",
                "#B0BEC5",
                "#B0BEC5",
                "#B0BEC5",
                "#B0BEC5",
                "#B0BEC5",
                "#B0BEC5",
                "#B0BEC5",
                "#B0BEC5",
                "#B0BEC5",
                "#B0BEC5",
                "red",
                "#B0BEC5",
                "#B0BEC5",
                "#B0BEC5",
                "#B0BEC5",
                "#B0BEC5",
                "#B0BEC5",
                "#B0BEC5",
                "#B0BEC5",
                "#B0BEC5",
                "#B0BEC5",
                "#B0BEC5",
                "#B0BEC5",
                "#B0BEC5",
                "#B0BEC5"
               ]
              ]
             }
            ],
            "label": "Topic 24",
            "method": "update"
           },
           {
            "args": [
             {
              "marker.color": [
               [
                "#B0BEC5",
                "#B0BEC5",
                "#B0BEC5",
                "#B0BEC5",
                "#B0BEC5",
                "#B0BEC5",
                "#B0BEC5",
                "#B0BEC5",
                "#B0BEC5",
                "#B0BEC5",
                "#B0BEC5",
                "#B0BEC5",
                "#B0BEC5",
                "#B0BEC5",
                "#B0BEC5",
                "#B0BEC5",
                "#B0BEC5",
                "#B0BEC5",
                "#B0BEC5",
                "#B0BEC5",
                "#B0BEC5",
                "#B0BEC5",
                "#B0BEC5",
                "#B0BEC5",
                "#B0BEC5",
                "red",
                "#B0BEC5",
                "#B0BEC5",
                "#B0BEC5",
                "#B0BEC5",
                "#B0BEC5",
                "#B0BEC5",
                "#B0BEC5",
                "#B0BEC5",
                "#B0BEC5",
                "#B0BEC5",
                "#B0BEC5",
                "#B0BEC5",
                "#B0BEC5"
               ]
              ]
             }
            ],
            "label": "Topic 25",
            "method": "update"
           },
           {
            "args": [
             {
              "marker.color": [
               [
                "#B0BEC5",
                "#B0BEC5",
                "#B0BEC5",
                "#B0BEC5",
                "#B0BEC5",
                "#B0BEC5",
                "#B0BEC5",
                "#B0BEC5",
                "#B0BEC5",
                "#B0BEC5",
                "#B0BEC5",
                "#B0BEC5",
                "#B0BEC5",
                "#B0BEC5",
                "#B0BEC5",
                "#B0BEC5",
                "#B0BEC5",
                "#B0BEC5",
                "#B0BEC5",
                "#B0BEC5",
                "#B0BEC5",
                "#B0BEC5",
                "#B0BEC5",
                "#B0BEC5",
                "#B0BEC5",
                "#B0BEC5",
                "red",
                "#B0BEC5",
                "#B0BEC5",
                "#B0BEC5",
                "#B0BEC5",
                "#B0BEC5",
                "#B0BEC5",
                "#B0BEC5",
                "#B0BEC5",
                "#B0BEC5",
                "#B0BEC5",
                "#B0BEC5",
                "#B0BEC5"
               ]
              ]
             }
            ],
            "label": "Topic 26",
            "method": "update"
           },
           {
            "args": [
             {
              "marker.color": [
               [
                "#B0BEC5",
                "#B0BEC5",
                "#B0BEC5",
                "#B0BEC5",
                "#B0BEC5",
                "#B0BEC5",
                "#B0BEC5",
                "#B0BEC5",
                "#B0BEC5",
                "#B0BEC5",
                "#B0BEC5",
                "#B0BEC5",
                "#B0BEC5",
                "#B0BEC5",
                "#B0BEC5",
                "#B0BEC5",
                "#B0BEC5",
                "#B0BEC5",
                "#B0BEC5",
                "#B0BEC5",
                "#B0BEC5",
                "#B0BEC5",
                "#B0BEC5",
                "#B0BEC5",
                "#B0BEC5",
                "#B0BEC5",
                "#B0BEC5",
                "red",
                "#B0BEC5",
                "#B0BEC5",
                "#B0BEC5",
                "#B0BEC5",
                "#B0BEC5",
                "#B0BEC5",
                "#B0BEC5",
                "#B0BEC5",
                "#B0BEC5",
                "#B0BEC5",
                "#B0BEC5"
               ]
              ]
             }
            ],
            "label": "Topic 27",
            "method": "update"
           },
           {
            "args": [
             {
              "marker.color": [
               [
                "#B0BEC5",
                "#B0BEC5",
                "#B0BEC5",
                "#B0BEC5",
                "#B0BEC5",
                "#B0BEC5",
                "#B0BEC5",
                "#B0BEC5",
                "#B0BEC5",
                "#B0BEC5",
                "#B0BEC5",
                "#B0BEC5",
                "#B0BEC5",
                "#B0BEC5",
                "#B0BEC5",
                "#B0BEC5",
                "#B0BEC5",
                "#B0BEC5",
                "#B0BEC5",
                "#B0BEC5",
                "#B0BEC5",
                "#B0BEC5",
                "#B0BEC5",
                "#B0BEC5",
                "#B0BEC5",
                "#B0BEC5",
                "#B0BEC5",
                "#B0BEC5",
                "red",
                "#B0BEC5",
                "#B0BEC5",
                "#B0BEC5",
                "#B0BEC5",
                "#B0BEC5",
                "#B0BEC5",
                "#B0BEC5",
                "#B0BEC5",
                "#B0BEC5",
                "#B0BEC5"
               ]
              ]
             }
            ],
            "label": "Topic 28",
            "method": "update"
           },
           {
            "args": [
             {
              "marker.color": [
               [
                "#B0BEC5",
                "#B0BEC5",
                "#B0BEC5",
                "#B0BEC5",
                "#B0BEC5",
                "#B0BEC5",
                "#B0BEC5",
                "#B0BEC5",
                "#B0BEC5",
                "#B0BEC5",
                "#B0BEC5",
                "#B0BEC5",
                "#B0BEC5",
                "#B0BEC5",
                "#B0BEC5",
                "#B0BEC5",
                "#B0BEC5",
                "#B0BEC5",
                "#B0BEC5",
                "#B0BEC5",
                "#B0BEC5",
                "#B0BEC5",
                "#B0BEC5",
                "#B0BEC5",
                "#B0BEC5",
                "#B0BEC5",
                "#B0BEC5",
                "#B0BEC5",
                "#B0BEC5",
                "red",
                "#B0BEC5",
                "#B0BEC5",
                "#B0BEC5",
                "#B0BEC5",
                "#B0BEC5",
                "#B0BEC5",
                "#B0BEC5",
                "#B0BEC5",
                "#B0BEC5"
               ]
              ]
             }
            ],
            "label": "Topic 29",
            "method": "update"
           },
           {
            "args": [
             {
              "marker.color": [
               [
                "#B0BEC5",
                "#B0BEC5",
                "#B0BEC5",
                "#B0BEC5",
                "#B0BEC5",
                "#B0BEC5",
                "#B0BEC5",
                "#B0BEC5",
                "#B0BEC5",
                "#B0BEC5",
                "#B0BEC5",
                "#B0BEC5",
                "#B0BEC5",
                "#B0BEC5",
                "#B0BEC5",
                "#B0BEC5",
                "#B0BEC5",
                "#B0BEC5",
                "#B0BEC5",
                "#B0BEC5",
                "#B0BEC5",
                "#B0BEC5",
                "#B0BEC5",
                "#B0BEC5",
                "#B0BEC5",
                "#B0BEC5",
                "#B0BEC5",
                "#B0BEC5",
                "#B0BEC5",
                "#B0BEC5",
                "red",
                "#B0BEC5",
                "#B0BEC5",
                "#B0BEC5",
                "#B0BEC5",
                "#B0BEC5",
                "#B0BEC5",
                "#B0BEC5",
                "#B0BEC5"
               ]
              ]
             }
            ],
            "label": "Topic 30",
            "method": "update"
           },
           {
            "args": [
             {
              "marker.color": [
               [
                "#B0BEC5",
                "#B0BEC5",
                "#B0BEC5",
                "#B0BEC5",
                "#B0BEC5",
                "#B0BEC5",
                "#B0BEC5",
                "#B0BEC5",
                "#B0BEC5",
                "#B0BEC5",
                "#B0BEC5",
                "#B0BEC5",
                "#B0BEC5",
                "#B0BEC5",
                "#B0BEC5",
                "#B0BEC5",
                "#B0BEC5",
                "#B0BEC5",
                "#B0BEC5",
                "#B0BEC5",
                "#B0BEC5",
                "#B0BEC5",
                "#B0BEC5",
                "#B0BEC5",
                "#B0BEC5",
                "#B0BEC5",
                "#B0BEC5",
                "#B0BEC5",
                "#B0BEC5",
                "#B0BEC5",
                "#B0BEC5",
                "red",
                "#B0BEC5",
                "#B0BEC5",
                "#B0BEC5",
                "#B0BEC5",
                "#B0BEC5",
                "#B0BEC5",
                "#B0BEC5"
               ]
              ]
             }
            ],
            "label": "Topic 31",
            "method": "update"
           },
           {
            "args": [
             {
              "marker.color": [
               [
                "#B0BEC5",
                "#B0BEC5",
                "#B0BEC5",
                "#B0BEC5",
                "#B0BEC5",
                "#B0BEC5",
                "#B0BEC5",
                "#B0BEC5",
                "#B0BEC5",
                "#B0BEC5",
                "#B0BEC5",
                "#B0BEC5",
                "#B0BEC5",
                "#B0BEC5",
                "#B0BEC5",
                "#B0BEC5",
                "#B0BEC5",
                "#B0BEC5",
                "#B0BEC5",
                "#B0BEC5",
                "#B0BEC5",
                "#B0BEC5",
                "#B0BEC5",
                "#B0BEC5",
                "#B0BEC5",
                "#B0BEC5",
                "#B0BEC5",
                "#B0BEC5",
                "#B0BEC5",
                "#B0BEC5",
                "#B0BEC5",
                "#B0BEC5",
                "red",
                "#B0BEC5",
                "#B0BEC5",
                "#B0BEC5",
                "#B0BEC5",
                "#B0BEC5",
                "#B0BEC5"
               ]
              ]
             }
            ],
            "label": "Topic 32",
            "method": "update"
           },
           {
            "args": [
             {
              "marker.color": [
               [
                "#B0BEC5",
                "#B0BEC5",
                "#B0BEC5",
                "#B0BEC5",
                "#B0BEC5",
                "#B0BEC5",
                "#B0BEC5",
                "#B0BEC5",
                "#B0BEC5",
                "#B0BEC5",
                "#B0BEC5",
                "#B0BEC5",
                "#B0BEC5",
                "#B0BEC5",
                "#B0BEC5",
                "#B0BEC5",
                "#B0BEC5",
                "#B0BEC5",
                "#B0BEC5",
                "#B0BEC5",
                "#B0BEC5",
                "#B0BEC5",
                "#B0BEC5",
                "#B0BEC5",
                "#B0BEC5",
                "#B0BEC5",
                "#B0BEC5",
                "#B0BEC5",
                "#B0BEC5",
                "#B0BEC5",
                "#B0BEC5",
                "#B0BEC5",
                "#B0BEC5",
                "red",
                "#B0BEC5",
                "#B0BEC5",
                "#B0BEC5",
                "#B0BEC5",
                "#B0BEC5"
               ]
              ]
             }
            ],
            "label": "Topic 33",
            "method": "update"
           },
           {
            "args": [
             {
              "marker.color": [
               [
                "#B0BEC5",
                "#B0BEC5",
                "#B0BEC5",
                "#B0BEC5",
                "#B0BEC5",
                "#B0BEC5",
                "#B0BEC5",
                "#B0BEC5",
                "#B0BEC5",
                "#B0BEC5",
                "#B0BEC5",
                "#B0BEC5",
                "#B0BEC5",
                "#B0BEC5",
                "#B0BEC5",
                "#B0BEC5",
                "#B0BEC5",
                "#B0BEC5",
                "#B0BEC5",
                "#B0BEC5",
                "#B0BEC5",
                "#B0BEC5",
                "#B0BEC5",
                "#B0BEC5",
                "#B0BEC5",
                "#B0BEC5",
                "#B0BEC5",
                "#B0BEC5",
                "#B0BEC5",
                "#B0BEC5",
                "#B0BEC5",
                "#B0BEC5",
                "#B0BEC5",
                "#B0BEC5",
                "red",
                "#B0BEC5",
                "#B0BEC5",
                "#B0BEC5",
                "#B0BEC5"
               ]
              ]
             }
            ],
            "label": "Topic 34",
            "method": "update"
           },
           {
            "args": [
             {
              "marker.color": [
               [
                "#B0BEC5",
                "#B0BEC5",
                "#B0BEC5",
                "#B0BEC5",
                "#B0BEC5",
                "#B0BEC5",
                "#B0BEC5",
                "#B0BEC5",
                "#B0BEC5",
                "#B0BEC5",
                "#B0BEC5",
                "#B0BEC5",
                "#B0BEC5",
                "#B0BEC5",
                "#B0BEC5",
                "#B0BEC5",
                "#B0BEC5",
                "#B0BEC5",
                "#B0BEC5",
                "#B0BEC5",
                "#B0BEC5",
                "#B0BEC5",
                "#B0BEC5",
                "#B0BEC5",
                "#B0BEC5",
                "#B0BEC5",
                "#B0BEC5",
                "#B0BEC5",
                "#B0BEC5",
                "#B0BEC5",
                "#B0BEC5",
                "#B0BEC5",
                "#B0BEC5",
                "#B0BEC5",
                "#B0BEC5",
                "red",
                "#B0BEC5",
                "#B0BEC5",
                "#B0BEC5"
               ]
              ]
             }
            ],
            "label": "Topic 35",
            "method": "update"
           },
           {
            "args": [
             {
              "marker.color": [
               [
                "#B0BEC5",
                "#B0BEC5",
                "#B0BEC5",
                "#B0BEC5",
                "#B0BEC5",
                "#B0BEC5",
                "#B0BEC5",
                "#B0BEC5",
                "#B0BEC5",
                "#B0BEC5",
                "#B0BEC5",
                "#B0BEC5",
                "#B0BEC5",
                "#B0BEC5",
                "#B0BEC5",
                "#B0BEC5",
                "#B0BEC5",
                "#B0BEC5",
                "#B0BEC5",
                "#B0BEC5",
                "#B0BEC5",
                "#B0BEC5",
                "#B0BEC5",
                "#B0BEC5",
                "#B0BEC5",
                "#B0BEC5",
                "#B0BEC5",
                "#B0BEC5",
                "#B0BEC5",
                "#B0BEC5",
                "#B0BEC5",
                "#B0BEC5",
                "#B0BEC5",
                "#B0BEC5",
                "#B0BEC5",
                "#B0BEC5",
                "red",
                "#B0BEC5",
                "#B0BEC5"
               ]
              ]
             }
            ],
            "label": "Topic 36",
            "method": "update"
           },
           {
            "args": [
             {
              "marker.color": [
               [
                "#B0BEC5",
                "#B0BEC5",
                "#B0BEC5",
                "#B0BEC5",
                "#B0BEC5",
                "#B0BEC5",
                "#B0BEC5",
                "#B0BEC5",
                "#B0BEC5",
                "#B0BEC5",
                "#B0BEC5",
                "#B0BEC5",
                "#B0BEC5",
                "#B0BEC5",
                "#B0BEC5",
                "#B0BEC5",
                "#B0BEC5",
                "#B0BEC5",
                "#B0BEC5",
                "#B0BEC5",
                "#B0BEC5",
                "#B0BEC5",
                "#B0BEC5",
                "#B0BEC5",
                "#B0BEC5",
                "#B0BEC5",
                "#B0BEC5",
                "#B0BEC5",
                "#B0BEC5",
                "#B0BEC5",
                "#B0BEC5",
                "#B0BEC5",
                "#B0BEC5",
                "#B0BEC5",
                "#B0BEC5",
                "#B0BEC5",
                "#B0BEC5",
                "red",
                "#B0BEC5"
               ]
              ]
             }
            ],
            "label": "Topic 37",
            "method": "update"
           },
           {
            "args": [
             {
              "marker.color": [
               [
                "#B0BEC5",
                "#B0BEC5",
                "#B0BEC5",
                "#B0BEC5",
                "#B0BEC5",
                "#B0BEC5",
                "#B0BEC5",
                "#B0BEC5",
                "#B0BEC5",
                "#B0BEC5",
                "#B0BEC5",
                "#B0BEC5",
                "#B0BEC5",
                "#B0BEC5",
                "#B0BEC5",
                "#B0BEC5",
                "#B0BEC5",
                "#B0BEC5",
                "#B0BEC5",
                "#B0BEC5",
                "#B0BEC5",
                "#B0BEC5",
                "#B0BEC5",
                "#B0BEC5",
                "#B0BEC5",
                "#B0BEC5",
                "#B0BEC5",
                "#B0BEC5",
                "#B0BEC5",
                "#B0BEC5",
                "#B0BEC5",
                "#B0BEC5",
                "#B0BEC5",
                "#B0BEC5",
                "#B0BEC5",
                "#B0BEC5",
                "#B0BEC5",
                "#B0BEC5",
                "red"
               ]
              ]
             }
            ],
            "label": "Topic 38",
            "method": "update"
           }
          ]
         }
        ],
        "template": {
         "data": {
          "bar": [
           {
            "error_x": {
             "color": "rgb(36,36,36)"
            },
            "error_y": {
             "color": "rgb(36,36,36)"
            },
            "marker": {
             "line": {
              "color": "white",
              "width": 0.5
             }
            },
            "type": "bar"
           }
          ],
          "barpolar": [
           {
            "marker": {
             "line": {
              "color": "white",
              "width": 0.5
             }
            },
            "type": "barpolar"
           }
          ],
          "carpet": [
           {
            "aaxis": {
             "endlinecolor": "rgb(36,36,36)",
             "gridcolor": "white",
             "linecolor": "white",
             "minorgridcolor": "white",
             "startlinecolor": "rgb(36,36,36)"
            },
            "baxis": {
             "endlinecolor": "rgb(36,36,36)",
             "gridcolor": "white",
             "linecolor": "white",
             "minorgridcolor": "white",
             "startlinecolor": "rgb(36,36,36)"
            },
            "type": "carpet"
           }
          ],
          "choropleth": [
           {
            "colorbar": {
             "outlinewidth": 1,
             "tickcolor": "rgb(36,36,36)",
             "ticks": "outside"
            },
            "type": "choropleth"
           }
          ],
          "contour": [
           {
            "colorbar": {
             "outlinewidth": 1,
             "tickcolor": "rgb(36,36,36)",
             "ticks": "outside"
            },
            "colorscale": [
             [
              0,
              "#440154"
             ],
             [
              0.1111111111111111,
              "#482878"
             ],
             [
              0.2222222222222222,
              "#3e4989"
             ],
             [
              0.3333333333333333,
              "#31688e"
             ],
             [
              0.4444444444444444,
              "#26828e"
             ],
             [
              0.5555555555555556,
              "#1f9e89"
             ],
             [
              0.6666666666666666,
              "#35b779"
             ],
             [
              0.7777777777777778,
              "#6ece58"
             ],
             [
              0.8888888888888888,
              "#b5de2b"
             ],
             [
              1,
              "#fde725"
             ]
            ],
            "type": "contour"
           }
          ],
          "contourcarpet": [
           {
            "colorbar": {
             "outlinewidth": 1,
             "tickcolor": "rgb(36,36,36)",
             "ticks": "outside"
            },
            "type": "contourcarpet"
           }
          ],
          "heatmap": [
           {
            "colorbar": {
             "outlinewidth": 1,
             "tickcolor": "rgb(36,36,36)",
             "ticks": "outside"
            },
            "colorscale": [
             [
              0,
              "#440154"
             ],
             [
              0.1111111111111111,
              "#482878"
             ],
             [
              0.2222222222222222,
              "#3e4989"
             ],
             [
              0.3333333333333333,
              "#31688e"
             ],
             [
              0.4444444444444444,
              "#26828e"
             ],
             [
              0.5555555555555556,
              "#1f9e89"
             ],
             [
              0.6666666666666666,
              "#35b779"
             ],
             [
              0.7777777777777778,
              "#6ece58"
             ],
             [
              0.8888888888888888,
              "#b5de2b"
             ],
             [
              1,
              "#fde725"
             ]
            ],
            "type": "heatmap"
           }
          ],
          "heatmapgl": [
           {
            "colorbar": {
             "outlinewidth": 1,
             "tickcolor": "rgb(36,36,36)",
             "ticks": "outside"
            },
            "colorscale": [
             [
              0,
              "#440154"
             ],
             [
              0.1111111111111111,
              "#482878"
             ],
             [
              0.2222222222222222,
              "#3e4989"
             ],
             [
              0.3333333333333333,
              "#31688e"
             ],
             [
              0.4444444444444444,
              "#26828e"
             ],
             [
              0.5555555555555556,
              "#1f9e89"
             ],
             [
              0.6666666666666666,
              "#35b779"
             ],
             [
              0.7777777777777778,
              "#6ece58"
             ],
             [
              0.8888888888888888,
              "#b5de2b"
             ],
             [
              1,
              "#fde725"
             ]
            ],
            "type": "heatmapgl"
           }
          ],
          "histogram": [
           {
            "marker": {
             "line": {
              "color": "white",
              "width": 0.6
             }
            },
            "type": "histogram"
           }
          ],
          "histogram2d": [
           {
            "colorbar": {
             "outlinewidth": 1,
             "tickcolor": "rgb(36,36,36)",
             "ticks": "outside"
            },
            "colorscale": [
             [
              0,
              "#440154"
             ],
             [
              0.1111111111111111,
              "#482878"
             ],
             [
              0.2222222222222222,
              "#3e4989"
             ],
             [
              0.3333333333333333,
              "#31688e"
             ],
             [
              0.4444444444444444,
              "#26828e"
             ],
             [
              0.5555555555555556,
              "#1f9e89"
             ],
             [
              0.6666666666666666,
              "#35b779"
             ],
             [
              0.7777777777777778,
              "#6ece58"
             ],
             [
              0.8888888888888888,
              "#b5de2b"
             ],
             [
              1,
              "#fde725"
             ]
            ],
            "type": "histogram2d"
           }
          ],
          "histogram2dcontour": [
           {
            "colorbar": {
             "outlinewidth": 1,
             "tickcolor": "rgb(36,36,36)",
             "ticks": "outside"
            },
            "colorscale": [
             [
              0,
              "#440154"
             ],
             [
              0.1111111111111111,
              "#482878"
             ],
             [
              0.2222222222222222,
              "#3e4989"
             ],
             [
              0.3333333333333333,
              "#31688e"
             ],
             [
              0.4444444444444444,
              "#26828e"
             ],
             [
              0.5555555555555556,
              "#1f9e89"
             ],
             [
              0.6666666666666666,
              "#35b779"
             ],
             [
              0.7777777777777778,
              "#6ece58"
             ],
             [
              0.8888888888888888,
              "#b5de2b"
             ],
             [
              1,
              "#fde725"
             ]
            ],
            "type": "histogram2dcontour"
           }
          ],
          "mesh3d": [
           {
            "colorbar": {
             "outlinewidth": 1,
             "tickcolor": "rgb(36,36,36)",
             "ticks": "outside"
            },
            "type": "mesh3d"
           }
          ],
          "parcoords": [
           {
            "line": {
             "colorbar": {
              "outlinewidth": 1,
              "tickcolor": "rgb(36,36,36)",
              "ticks": "outside"
             }
            },
            "type": "parcoords"
           }
          ],
          "pie": [
           {
            "automargin": true,
            "type": "pie"
           }
          ],
          "scatter": [
           {
            "marker": {
             "colorbar": {
              "outlinewidth": 1,
              "tickcolor": "rgb(36,36,36)",
              "ticks": "outside"
             }
            },
            "type": "scatter"
           }
          ],
          "scatter3d": [
           {
            "line": {
             "colorbar": {
              "outlinewidth": 1,
              "tickcolor": "rgb(36,36,36)",
              "ticks": "outside"
             }
            },
            "marker": {
             "colorbar": {
              "outlinewidth": 1,
              "tickcolor": "rgb(36,36,36)",
              "ticks": "outside"
             }
            },
            "type": "scatter3d"
           }
          ],
          "scattercarpet": [
           {
            "marker": {
             "colorbar": {
              "outlinewidth": 1,
              "tickcolor": "rgb(36,36,36)",
              "ticks": "outside"
             }
            },
            "type": "scattercarpet"
           }
          ],
          "scattergeo": [
           {
            "marker": {
             "colorbar": {
              "outlinewidth": 1,
              "tickcolor": "rgb(36,36,36)",
              "ticks": "outside"
             }
            },
            "type": "scattergeo"
           }
          ],
          "scattergl": [
           {
            "marker": {
             "colorbar": {
              "outlinewidth": 1,
              "tickcolor": "rgb(36,36,36)",
              "ticks": "outside"
             }
            },
            "type": "scattergl"
           }
          ],
          "scattermapbox": [
           {
            "marker": {
             "colorbar": {
              "outlinewidth": 1,
              "tickcolor": "rgb(36,36,36)",
              "ticks": "outside"
             }
            },
            "type": "scattermapbox"
           }
          ],
          "scatterpolar": [
           {
            "marker": {
             "colorbar": {
              "outlinewidth": 1,
              "tickcolor": "rgb(36,36,36)",
              "ticks": "outside"
             }
            },
            "type": "scatterpolar"
           }
          ],
          "scatterpolargl": [
           {
            "marker": {
             "colorbar": {
              "outlinewidth": 1,
              "tickcolor": "rgb(36,36,36)",
              "ticks": "outside"
             }
            },
            "type": "scatterpolargl"
           }
          ],
          "scatterternary": [
           {
            "marker": {
             "colorbar": {
              "outlinewidth": 1,
              "tickcolor": "rgb(36,36,36)",
              "ticks": "outside"
             }
            },
            "type": "scatterternary"
           }
          ],
          "surface": [
           {
            "colorbar": {
             "outlinewidth": 1,
             "tickcolor": "rgb(36,36,36)",
             "ticks": "outside"
            },
            "colorscale": [
             [
              0,
              "#440154"
             ],
             [
              0.1111111111111111,
              "#482878"
             ],
             [
              0.2222222222222222,
              "#3e4989"
             ],
             [
              0.3333333333333333,
              "#31688e"
             ],
             [
              0.4444444444444444,
              "#26828e"
             ],
             [
              0.5555555555555556,
              "#1f9e89"
             ],
             [
              0.6666666666666666,
              "#35b779"
             ],
             [
              0.7777777777777778,
              "#6ece58"
             ],
             [
              0.8888888888888888,
              "#b5de2b"
             ],
             [
              1,
              "#fde725"
             ]
            ],
            "type": "surface"
           }
          ],
          "table": [
           {
            "cells": {
             "fill": {
              "color": "rgb(237,237,237)"
             },
             "line": {
              "color": "white"
             }
            },
            "header": {
             "fill": {
              "color": "rgb(217,217,217)"
             },
             "line": {
              "color": "white"
             }
            },
            "type": "table"
           }
          ]
         },
         "layout": {
          "annotationdefaults": {
           "arrowhead": 0,
           "arrowwidth": 1
          },
          "autotypenumbers": "strict",
          "coloraxis": {
           "colorbar": {
            "outlinewidth": 1,
            "tickcolor": "rgb(36,36,36)",
            "ticks": "outside"
           }
          },
          "colorscale": {
           "diverging": [
            [
             0,
             "rgb(103,0,31)"
            ],
            [
             0.1,
             "rgb(178,24,43)"
            ],
            [
             0.2,
             "rgb(214,96,77)"
            ],
            [
             0.3,
             "rgb(244,165,130)"
            ],
            [
             0.4,
             "rgb(253,219,199)"
            ],
            [
             0.5,
             "rgb(247,247,247)"
            ],
            [
             0.6,
             "rgb(209,229,240)"
            ],
            [
             0.7,
             "rgb(146,197,222)"
            ],
            [
             0.8,
             "rgb(67,147,195)"
            ],
            [
             0.9,
             "rgb(33,102,172)"
            ],
            [
             1,
             "rgb(5,48,97)"
            ]
           ],
           "sequential": [
            [
             0,
             "#440154"
            ],
            [
             0.1111111111111111,
             "#482878"
            ],
            [
             0.2222222222222222,
             "#3e4989"
            ],
            [
             0.3333333333333333,
             "#31688e"
            ],
            [
             0.4444444444444444,
             "#26828e"
            ],
            [
             0.5555555555555556,
             "#1f9e89"
            ],
            [
             0.6666666666666666,
             "#35b779"
            ],
            [
             0.7777777777777778,
             "#6ece58"
            ],
            [
             0.8888888888888888,
             "#b5de2b"
            ],
            [
             1,
             "#fde725"
            ]
           ],
           "sequentialminus": [
            [
             0,
             "#440154"
            ],
            [
             0.1111111111111111,
             "#482878"
            ],
            [
             0.2222222222222222,
             "#3e4989"
            ],
            [
             0.3333333333333333,
             "#31688e"
            ],
            [
             0.4444444444444444,
             "#26828e"
            ],
            [
             0.5555555555555556,
             "#1f9e89"
            ],
            [
             0.6666666666666666,
             "#35b779"
            ],
            [
             0.7777777777777778,
             "#6ece58"
            ],
            [
             0.8888888888888888,
             "#b5de2b"
            ],
            [
             1,
             "#fde725"
            ]
           ]
          },
          "colorway": [
           "#1F77B4",
           "#FF7F0E",
           "#2CA02C",
           "#D62728",
           "#9467BD",
           "#8C564B",
           "#E377C2",
           "#7F7F7F",
           "#BCBD22",
           "#17BECF"
          ],
          "font": {
           "color": "rgb(36,36,36)"
          },
          "geo": {
           "bgcolor": "white",
           "lakecolor": "white",
           "landcolor": "white",
           "showlakes": true,
           "showland": true,
           "subunitcolor": "white"
          },
          "hoverlabel": {
           "align": "left"
          },
          "hovermode": "closest",
          "mapbox": {
           "style": "light"
          },
          "paper_bgcolor": "white",
          "plot_bgcolor": "white",
          "polar": {
           "angularaxis": {
            "gridcolor": "rgb(232,232,232)",
            "linecolor": "rgb(36,36,36)",
            "showgrid": false,
            "showline": true,
            "ticks": "outside"
           },
           "bgcolor": "white",
           "radialaxis": {
            "gridcolor": "rgb(232,232,232)",
            "linecolor": "rgb(36,36,36)",
            "showgrid": false,
            "showline": true,
            "ticks": "outside"
           }
          },
          "scene": {
           "xaxis": {
            "backgroundcolor": "white",
            "gridcolor": "rgb(232,232,232)",
            "gridwidth": 2,
            "linecolor": "rgb(36,36,36)",
            "showbackground": true,
            "showgrid": false,
            "showline": true,
            "ticks": "outside",
            "zeroline": false,
            "zerolinecolor": "rgb(36,36,36)"
           },
           "yaxis": {
            "backgroundcolor": "white",
            "gridcolor": "rgb(232,232,232)",
            "gridwidth": 2,
            "linecolor": "rgb(36,36,36)",
            "showbackground": true,
            "showgrid": false,
            "showline": true,
            "ticks": "outside",
            "zeroline": false,
            "zerolinecolor": "rgb(36,36,36)"
           },
           "zaxis": {
            "backgroundcolor": "white",
            "gridcolor": "rgb(232,232,232)",
            "gridwidth": 2,
            "linecolor": "rgb(36,36,36)",
            "showbackground": true,
            "showgrid": false,
            "showline": true,
            "ticks": "outside",
            "zeroline": false,
            "zerolinecolor": "rgb(36,36,36)"
           }
          },
          "shapedefaults": {
           "fillcolor": "black",
           "line": {
            "width": 0
           },
           "opacity": 0.3
          },
          "ternary": {
           "aaxis": {
            "gridcolor": "rgb(232,232,232)",
            "linecolor": "rgb(36,36,36)",
            "showgrid": false,
            "showline": true,
            "ticks": "outside"
           },
           "baxis": {
            "gridcolor": "rgb(232,232,232)",
            "linecolor": "rgb(36,36,36)",
            "showgrid": false,
            "showline": true,
            "ticks": "outside"
           },
           "bgcolor": "white",
           "caxis": {
            "gridcolor": "rgb(232,232,232)",
            "linecolor": "rgb(36,36,36)",
            "showgrid": false,
            "showline": true,
            "ticks": "outside"
           }
          },
          "title": {
           "x": 0.05
          },
          "xaxis": {
           "automargin": true,
           "gridcolor": "rgb(232,232,232)",
           "linecolor": "rgb(36,36,36)",
           "showgrid": false,
           "showline": true,
           "ticks": "outside",
           "title": {
            "standoff": 15
           },
           "zeroline": false,
           "zerolinecolor": "rgb(36,36,36)"
          },
          "yaxis": {
           "automargin": true,
           "gridcolor": "rgb(232,232,232)",
           "linecolor": "rgb(36,36,36)",
           "showgrid": false,
           "showline": true,
           "ticks": "outside",
           "title": {
            "standoff": 15
           },
           "zeroline": false,
           "zerolinecolor": "rgb(36,36,36)"
          }
         }
        },
        "title": {
         "font": {
          "color": "Black",
          "size": 22
         },
         "text": "",
         "x": 0.5,
         "xanchor": "center",
         "y": 0.95,
         "yanchor": "top"
        },
        "width": 650,
        "xaxis": {
         "anchor": "y",
         "domain": [
          0,
          1
         ],
         "range": [
          -4.573026037216186,
          17.254408836364746
         ],
         "title": {
          "text": ""
         },
         "visible": false
        },
        "yaxis": {
         "anchor": "x",
         "domain": [
          0,
          1
         ],
         "range": [
          -17.8316987991333,
          15.300006771087647
         ],
         "title": {
          "text": ""
         },
         "visible": false
        }
       }
      }
     },
     "metadata": {},
     "output_type": "display_data"
    }
   ],
   "source": [
    "fig = model.visualize_topics(title='')\n",
    "py.plot(fig, filename='Intertopic distance map', auto_open=False)\n",
    "fig"
   ]
  },
  {
   "attachments": {},
   "cell_type": "markdown",
   "metadata": {},
   "source": [
    "Topic probabilities with random message"
   ]
  },
  {
   "cell_type": "code",
   "execution_count": 31,
   "metadata": {},
   "outputs": [
    {
     "name": "stdout",
     "output_type": "stream",
     "text": [
      "Sample message: pakai skype\n"
     ]
    },
    {
     "data": {
      "application/vnd.plotly.v1+json": {
       "config": {
        "plotlyServerURL": "https://plotly.com"
       },
       "data": [
        {
         "marker": {
          "color": "#C8D2D7",
          "line": {
           "color": "#6E8484",
           "width": 1
          }
         },
         "orientation": "h",
         "type": "bar",
         "x": [
          0.017443163669161894,
          0.015384453655347408,
          0.01729716297302099,
          0.08580945129113032,
          0.01818762305054753
         ],
         "y": [
          "<b>Topic 3</b>: menti_leave_yg_ngobrolin...",
          "<b>Topic 11</b>: alex_mirza_aris_ely_ali...",
          "<b>Topic 13</b>: kajal_kak_ichsan_ga_ban...",
          "<b>Topic 14</b>: jal_kak_jalita_tuh_telf...",
          "<b>Topic 15</b>: team_tim_lead_section_s..."
         ]
        }
       ],
       "layout": {
        "height": 600,
        "hoverlabel": {
         "bgcolor": "white",
         "font": {
          "family": "Rockwell",
          "size": 16
         }
        },
        "template": {
         "data": {
          "bar": [
           {
            "error_x": {
             "color": "rgb(36,36,36)"
            },
            "error_y": {
             "color": "rgb(36,36,36)"
            },
            "marker": {
             "line": {
              "color": "white",
              "width": 0.5
             }
            },
            "type": "bar"
           }
          ],
          "barpolar": [
           {
            "marker": {
             "line": {
              "color": "white",
              "width": 0.5
             }
            },
            "type": "barpolar"
           }
          ],
          "carpet": [
           {
            "aaxis": {
             "endlinecolor": "rgb(36,36,36)",
             "gridcolor": "white",
             "linecolor": "white",
             "minorgridcolor": "white",
             "startlinecolor": "rgb(36,36,36)"
            },
            "baxis": {
             "endlinecolor": "rgb(36,36,36)",
             "gridcolor": "white",
             "linecolor": "white",
             "minorgridcolor": "white",
             "startlinecolor": "rgb(36,36,36)"
            },
            "type": "carpet"
           }
          ],
          "choropleth": [
           {
            "colorbar": {
             "outlinewidth": 1,
             "tickcolor": "rgb(36,36,36)",
             "ticks": "outside"
            },
            "type": "choropleth"
           }
          ],
          "contour": [
           {
            "colorbar": {
             "outlinewidth": 1,
             "tickcolor": "rgb(36,36,36)",
             "ticks": "outside"
            },
            "colorscale": [
             [
              0,
              "#440154"
             ],
             [
              0.1111111111111111,
              "#482878"
             ],
             [
              0.2222222222222222,
              "#3e4989"
             ],
             [
              0.3333333333333333,
              "#31688e"
             ],
             [
              0.4444444444444444,
              "#26828e"
             ],
             [
              0.5555555555555556,
              "#1f9e89"
             ],
             [
              0.6666666666666666,
              "#35b779"
             ],
             [
              0.7777777777777778,
              "#6ece58"
             ],
             [
              0.8888888888888888,
              "#b5de2b"
             ],
             [
              1,
              "#fde725"
             ]
            ],
            "type": "contour"
           }
          ],
          "contourcarpet": [
           {
            "colorbar": {
             "outlinewidth": 1,
             "tickcolor": "rgb(36,36,36)",
             "ticks": "outside"
            },
            "type": "contourcarpet"
           }
          ],
          "heatmap": [
           {
            "colorbar": {
             "outlinewidth": 1,
             "tickcolor": "rgb(36,36,36)",
             "ticks": "outside"
            },
            "colorscale": [
             [
              0,
              "#440154"
             ],
             [
              0.1111111111111111,
              "#482878"
             ],
             [
              0.2222222222222222,
              "#3e4989"
             ],
             [
              0.3333333333333333,
              "#31688e"
             ],
             [
              0.4444444444444444,
              "#26828e"
             ],
             [
              0.5555555555555556,
              "#1f9e89"
             ],
             [
              0.6666666666666666,
              "#35b779"
             ],
             [
              0.7777777777777778,
              "#6ece58"
             ],
             [
              0.8888888888888888,
              "#b5de2b"
             ],
             [
              1,
              "#fde725"
             ]
            ],
            "type": "heatmap"
           }
          ],
          "heatmapgl": [
           {
            "colorbar": {
             "outlinewidth": 1,
             "tickcolor": "rgb(36,36,36)",
             "ticks": "outside"
            },
            "colorscale": [
             [
              0,
              "#440154"
             ],
             [
              0.1111111111111111,
              "#482878"
             ],
             [
              0.2222222222222222,
              "#3e4989"
             ],
             [
              0.3333333333333333,
              "#31688e"
             ],
             [
              0.4444444444444444,
              "#26828e"
             ],
             [
              0.5555555555555556,
              "#1f9e89"
             ],
             [
              0.6666666666666666,
              "#35b779"
             ],
             [
              0.7777777777777778,
              "#6ece58"
             ],
             [
              0.8888888888888888,
              "#b5de2b"
             ],
             [
              1,
              "#fde725"
             ]
            ],
            "type": "heatmapgl"
           }
          ],
          "histogram": [
           {
            "marker": {
             "line": {
              "color": "white",
              "width": 0.6
             }
            },
            "type": "histogram"
           }
          ],
          "histogram2d": [
           {
            "colorbar": {
             "outlinewidth": 1,
             "tickcolor": "rgb(36,36,36)",
             "ticks": "outside"
            },
            "colorscale": [
             [
              0,
              "#440154"
             ],
             [
              0.1111111111111111,
              "#482878"
             ],
             [
              0.2222222222222222,
              "#3e4989"
             ],
             [
              0.3333333333333333,
              "#31688e"
             ],
             [
              0.4444444444444444,
              "#26828e"
             ],
             [
              0.5555555555555556,
              "#1f9e89"
             ],
             [
              0.6666666666666666,
              "#35b779"
             ],
             [
              0.7777777777777778,
              "#6ece58"
             ],
             [
              0.8888888888888888,
              "#b5de2b"
             ],
             [
              1,
              "#fde725"
             ]
            ],
            "type": "histogram2d"
           }
          ],
          "histogram2dcontour": [
           {
            "colorbar": {
             "outlinewidth": 1,
             "tickcolor": "rgb(36,36,36)",
             "ticks": "outside"
            },
            "colorscale": [
             [
              0,
              "#440154"
             ],
             [
              0.1111111111111111,
              "#482878"
             ],
             [
              0.2222222222222222,
              "#3e4989"
             ],
             [
              0.3333333333333333,
              "#31688e"
             ],
             [
              0.4444444444444444,
              "#26828e"
             ],
             [
              0.5555555555555556,
              "#1f9e89"
             ],
             [
              0.6666666666666666,
              "#35b779"
             ],
             [
              0.7777777777777778,
              "#6ece58"
             ],
             [
              0.8888888888888888,
              "#b5de2b"
             ],
             [
              1,
              "#fde725"
             ]
            ],
            "type": "histogram2dcontour"
           }
          ],
          "mesh3d": [
           {
            "colorbar": {
             "outlinewidth": 1,
             "tickcolor": "rgb(36,36,36)",
             "ticks": "outside"
            },
            "type": "mesh3d"
           }
          ],
          "parcoords": [
           {
            "line": {
             "colorbar": {
              "outlinewidth": 1,
              "tickcolor": "rgb(36,36,36)",
              "ticks": "outside"
             }
            },
            "type": "parcoords"
           }
          ],
          "pie": [
           {
            "automargin": true,
            "type": "pie"
           }
          ],
          "scatter": [
           {
            "marker": {
             "colorbar": {
              "outlinewidth": 1,
              "tickcolor": "rgb(36,36,36)",
              "ticks": "outside"
             }
            },
            "type": "scatter"
           }
          ],
          "scatter3d": [
           {
            "line": {
             "colorbar": {
              "outlinewidth": 1,
              "tickcolor": "rgb(36,36,36)",
              "ticks": "outside"
             }
            },
            "marker": {
             "colorbar": {
              "outlinewidth": 1,
              "tickcolor": "rgb(36,36,36)",
              "ticks": "outside"
             }
            },
            "type": "scatter3d"
           }
          ],
          "scattercarpet": [
           {
            "marker": {
             "colorbar": {
              "outlinewidth": 1,
              "tickcolor": "rgb(36,36,36)",
              "ticks": "outside"
             }
            },
            "type": "scattercarpet"
           }
          ],
          "scattergeo": [
           {
            "marker": {
             "colorbar": {
              "outlinewidth": 1,
              "tickcolor": "rgb(36,36,36)",
              "ticks": "outside"
             }
            },
            "type": "scattergeo"
           }
          ],
          "scattergl": [
           {
            "marker": {
             "colorbar": {
              "outlinewidth": 1,
              "tickcolor": "rgb(36,36,36)",
              "ticks": "outside"
             }
            },
            "type": "scattergl"
           }
          ],
          "scattermapbox": [
           {
            "marker": {
             "colorbar": {
              "outlinewidth": 1,
              "tickcolor": "rgb(36,36,36)",
              "ticks": "outside"
             }
            },
            "type": "scattermapbox"
           }
          ],
          "scatterpolar": [
           {
            "marker": {
             "colorbar": {
              "outlinewidth": 1,
              "tickcolor": "rgb(36,36,36)",
              "ticks": "outside"
             }
            },
            "type": "scatterpolar"
           }
          ],
          "scatterpolargl": [
           {
            "marker": {
             "colorbar": {
              "outlinewidth": 1,
              "tickcolor": "rgb(36,36,36)",
              "ticks": "outside"
             }
            },
            "type": "scatterpolargl"
           }
          ],
          "scatterternary": [
           {
            "marker": {
             "colorbar": {
              "outlinewidth": 1,
              "tickcolor": "rgb(36,36,36)",
              "ticks": "outside"
             }
            },
            "type": "scatterternary"
           }
          ],
          "surface": [
           {
            "colorbar": {
             "outlinewidth": 1,
             "tickcolor": "rgb(36,36,36)",
             "ticks": "outside"
            },
            "colorscale": [
             [
              0,
              "#440154"
             ],
             [
              0.1111111111111111,
              "#482878"
             ],
             [
              0.2222222222222222,
              "#3e4989"
             ],
             [
              0.3333333333333333,
              "#31688e"
             ],
             [
              0.4444444444444444,
              "#26828e"
             ],
             [
              0.5555555555555556,
              "#1f9e89"
             ],
             [
              0.6666666666666666,
              "#35b779"
             ],
             [
              0.7777777777777778,
              "#6ece58"
             ],
             [
              0.8888888888888888,
              "#b5de2b"
             ],
             [
              1,
              "#fde725"
             ]
            ],
            "type": "surface"
           }
          ],
          "table": [
           {
            "cells": {
             "fill": {
              "color": "rgb(237,237,237)"
             },
             "line": {
              "color": "white"
             }
            },
            "header": {
             "fill": {
              "color": "rgb(217,217,217)"
             },
             "line": {
              "color": "white"
             }
            },
            "type": "table"
           }
          ]
         },
         "layout": {
          "annotationdefaults": {
           "arrowhead": 0,
           "arrowwidth": 1
          },
          "autotypenumbers": "strict",
          "coloraxis": {
           "colorbar": {
            "outlinewidth": 1,
            "tickcolor": "rgb(36,36,36)",
            "ticks": "outside"
           }
          },
          "colorscale": {
           "diverging": [
            [
             0,
             "rgb(103,0,31)"
            ],
            [
             0.1,
             "rgb(178,24,43)"
            ],
            [
             0.2,
             "rgb(214,96,77)"
            ],
            [
             0.3,
             "rgb(244,165,130)"
            ],
            [
             0.4,
             "rgb(253,219,199)"
            ],
            [
             0.5,
             "rgb(247,247,247)"
            ],
            [
             0.6,
             "rgb(209,229,240)"
            ],
            [
             0.7,
             "rgb(146,197,222)"
            ],
            [
             0.8,
             "rgb(67,147,195)"
            ],
            [
             0.9,
             "rgb(33,102,172)"
            ],
            [
             1,
             "rgb(5,48,97)"
            ]
           ],
           "sequential": [
            [
             0,
             "#440154"
            ],
            [
             0.1111111111111111,
             "#482878"
            ],
            [
             0.2222222222222222,
             "#3e4989"
            ],
            [
             0.3333333333333333,
             "#31688e"
            ],
            [
             0.4444444444444444,
             "#26828e"
            ],
            [
             0.5555555555555556,
             "#1f9e89"
            ],
            [
             0.6666666666666666,
             "#35b779"
            ],
            [
             0.7777777777777778,
             "#6ece58"
            ],
            [
             0.8888888888888888,
             "#b5de2b"
            ],
            [
             1,
             "#fde725"
            ]
           ],
           "sequentialminus": [
            [
             0,
             "#440154"
            ],
            [
             0.1111111111111111,
             "#482878"
            ],
            [
             0.2222222222222222,
             "#3e4989"
            ],
            [
             0.3333333333333333,
             "#31688e"
            ],
            [
             0.4444444444444444,
             "#26828e"
            ],
            [
             0.5555555555555556,
             "#1f9e89"
            ],
            [
             0.6666666666666666,
             "#35b779"
            ],
            [
             0.7777777777777778,
             "#6ece58"
            ],
            [
             0.8888888888888888,
             "#b5de2b"
            ],
            [
             1,
             "#fde725"
            ]
           ]
          },
          "colorway": [
           "#1F77B4",
           "#FF7F0E",
           "#2CA02C",
           "#D62728",
           "#9467BD",
           "#8C564B",
           "#E377C2",
           "#7F7F7F",
           "#BCBD22",
           "#17BECF"
          ],
          "font": {
           "color": "rgb(36,36,36)"
          },
          "geo": {
           "bgcolor": "white",
           "lakecolor": "white",
           "landcolor": "white",
           "showlakes": true,
           "showland": true,
           "subunitcolor": "white"
          },
          "hoverlabel": {
           "align": "left"
          },
          "hovermode": "closest",
          "mapbox": {
           "style": "light"
          },
          "paper_bgcolor": "white",
          "plot_bgcolor": "white",
          "polar": {
           "angularaxis": {
            "gridcolor": "rgb(232,232,232)",
            "linecolor": "rgb(36,36,36)",
            "showgrid": false,
            "showline": true,
            "ticks": "outside"
           },
           "bgcolor": "white",
           "radialaxis": {
            "gridcolor": "rgb(232,232,232)",
            "linecolor": "rgb(36,36,36)",
            "showgrid": false,
            "showline": true,
            "ticks": "outside"
           }
          },
          "scene": {
           "xaxis": {
            "backgroundcolor": "white",
            "gridcolor": "rgb(232,232,232)",
            "gridwidth": 2,
            "linecolor": "rgb(36,36,36)",
            "showbackground": true,
            "showgrid": false,
            "showline": true,
            "ticks": "outside",
            "zeroline": false,
            "zerolinecolor": "rgb(36,36,36)"
           },
           "yaxis": {
            "backgroundcolor": "white",
            "gridcolor": "rgb(232,232,232)",
            "gridwidth": 2,
            "linecolor": "rgb(36,36,36)",
            "showbackground": true,
            "showgrid": false,
            "showline": true,
            "ticks": "outside",
            "zeroline": false,
            "zerolinecolor": "rgb(36,36,36)"
           },
           "zaxis": {
            "backgroundcolor": "white",
            "gridcolor": "rgb(232,232,232)",
            "gridwidth": 2,
            "linecolor": "rgb(36,36,36)",
            "showbackground": true,
            "showgrid": false,
            "showline": true,
            "ticks": "outside",
            "zeroline": false,
            "zerolinecolor": "rgb(36,36,36)"
           }
          },
          "shapedefaults": {
           "fillcolor": "black",
           "line": {
            "width": 0
           },
           "opacity": 0.3
          },
          "ternary": {
           "aaxis": {
            "gridcolor": "rgb(232,232,232)",
            "linecolor": "rgb(36,36,36)",
            "showgrid": false,
            "showline": true,
            "ticks": "outside"
           },
           "baxis": {
            "gridcolor": "rgb(232,232,232)",
            "linecolor": "rgb(36,36,36)",
            "showgrid": false,
            "showline": true,
            "ticks": "outside"
           },
           "bgcolor": "white",
           "caxis": {
            "gridcolor": "rgb(232,232,232)",
            "linecolor": "rgb(36,36,36)",
            "showgrid": false,
            "showline": true,
            "ticks": "outside"
           }
          },
          "title": {
           "x": 0.05
          },
          "xaxis": {
           "automargin": true,
           "gridcolor": "rgb(232,232,232)",
           "linecolor": "rgb(36,36,36)",
           "showgrid": false,
           "showline": true,
           "ticks": "outside",
           "title": {
            "standoff": 15
           },
           "zeroline": false,
           "zerolinecolor": "rgb(36,36,36)"
          },
          "yaxis": {
           "automargin": true,
           "gridcolor": "rgb(232,232,232)",
           "linecolor": "rgb(36,36,36)",
           "showgrid": false,
           "showline": true,
           "ticks": "outside",
           "title": {
            "standoff": 15
           },
           "zeroline": false,
           "zerolinecolor": "rgb(36,36,36)"
          }
         }
        },
        "title": {
         "font": {
          "color": "Black",
          "size": 22
         },
         "text": "",
         "x": 0.5,
         "xanchor": "center",
         "y": 0.95,
         "yanchor": "top"
        },
        "width": 800,
        "xaxis": {
         "title": {
          "text": "Probability"
         }
        }
       }
      }
     },
     "metadata": {},
     "output_type": "display_data"
    }
   ],
   "source": [
    "sample = chat[(chat.message != '<Media omitted>') & (chat.clean_msg != '')].assign(\n",
    "    message=chat.message.str.replace(re.compile(r'http\\S+'), '')).reset_index().sample()\n",
    "print('Sample message:', (sample['message'].iloc[0]))\n",
    "fig = model.visualize_distribution(probabilities[sample['message'].index[0]], title='')\n",
    "py.plot(fig, filename='Topic probabilities with random message', auto_open=False)\n",
    "fig"
   ]
  },
  {
   "attachments": {},
   "cell_type": "markdown",
   "metadata": {},
   "source": [
    "Similarity matrix"
   ]
  },
  {
   "cell_type": "code",
   "execution_count": 32,
   "metadata": {},
   "outputs": [
    {
     "data": {
      "application/vnd.plotly.v1+json": {
       "config": {
        "plotlyServerURL": "https://plotly.com"
       },
       "data": [
        {
         "coloraxis": "coloraxis",
         "hovertemplate": "x: %{x}<br>y: %{y}<br>Similarity Score: %{z}<extra></extra>",
         "name": "0",
         "type": "heatmap",
         "x": [
          "0_wkwkwk_wkwkw_wkwkkw",
          "1_brandon_tumben_kokk",
          "2_thank_you_congrats",
          "3_menti_leave_yg",
          "4_aku_lg_jg",
          "5_jam_game_as",
          "6_kelas_lecture_pre",
          "7_keren_ok_hebat",
          "8_link_ini_google",
          "9_absen_gak_lupa",
          "10_data_kita_sql",
          "11_alex_mirza_aris",
          "12_wkwkwkwk_kwkwkwkw_wkwkkw...",
          "13_kajal_kak_ichsan",
          "14_jal_kak_jalita",
          "15_team_tim_lead",
          "16_ale_freak_ih",
          "17_hahahha_hahahaha_hahaha",
          "18_kalian_si_angkatan",
          "19_wkwkkwkw_wkwkwkwkwk_wkwk...",
          "20_apa_masuknya_apantu",
          "21_discord_habis_kelas",
          "22_udh_gua_sumit",
          "23_happy_birthday_tahun",
          "24_kek_keknya_tiap",
          "25_iyaa_yuhuuu_yezzzzz",
          "26_kasih_teman_semangat",
          "27_foundation_deadline_59",
          "28_bisa_banyak_ekkekw",
          "29_lagii_advance_adaptasi",
          "30_python_p2p_phase",
          "31_makan_enak_akhirny",
          "32_oke_up_ok",
          "33_tl_simulation_27",
          "34_laptop_desktop_internet",
          "35_tidur_malam_goodnight",
          "36_gua_lu_sini",
          "37_gasss_gas_panas2in",
          "38_duit_gaji_pengen"
         ],
         "xaxis": "x",
         "y": [
          "0_wkwkwk_wkwkw_wkwkkw",
          "1_brandon_tumben_kokk",
          "2_thank_you_congrats",
          "3_menti_leave_yg",
          "4_aku_lg_jg",
          "5_jam_game_as",
          "6_kelas_lecture_pre",
          "7_keren_ok_hebat",
          "8_link_ini_google",
          "9_absen_gak_lupa",
          "10_data_kita_sql",
          "11_alex_mirza_aris",
          "12_wkwkwkwk_kwkwkwkw_wkwkkw...",
          "13_kajal_kak_ichsan",
          "14_jal_kak_jalita",
          "15_team_tim_lead",
          "16_ale_freak_ih",
          "17_hahahha_hahahaha_hahaha",
          "18_kalian_si_angkatan",
          "19_wkwkkwkw_wkwkwkwkwk_wkwk...",
          "20_apa_masuknya_apantu",
          "21_discord_habis_kelas",
          "22_udh_gua_sumit",
          "23_happy_birthday_tahun",
          "24_kek_keknya_tiap",
          "25_iyaa_yuhuuu_yezzzzz",
          "26_kasih_teman_semangat",
          "27_foundation_deadline_59",
          "28_bisa_banyak_ekkekw",
          "29_lagii_advance_adaptasi",
          "30_python_p2p_phase",
          "31_makan_enak_akhirny",
          "32_oke_up_ok",
          "33_tl_simulation_27",
          "34_laptop_desktop_internet",
          "35_tidur_malam_goodnight",
          "36_gua_lu_sini",
          "37_gasss_gas_panas2in",
          "38_duit_gaji_pengen"
         ],
         "yaxis": "y",
         "z": [
          [
           1,
           0.694124419915306,
           0.5703533119904904,
           0.6533647875653997,
           0.6357826050439024,
           0.6242784322610053,
           0.5419597348675891,
           0.6184628653629681,
           0.6376058737340614,
           0.5913632526353466,
           0.44940928359216703,
           0.6348460101208769,
           0.8590676362382079,
           0.7345972151950292,
           0.7619720648920032,
           0.5489744535290371,
           0.6500172530594617,
           0.582196430690957,
           0.6424919232515955,
           0.8467480496770583,
           0.667280421496628,
           0.5397667446693131,
           0.7181818337714305,
           0.5105794353045535,
           0.43398463006559324,
           0.6735205934289605,
           0.6055052107957083,
           0.5640347823933352,
           0.6429106874533215,
           0.6088368714000088,
           0.44514345429157487,
           0.5233825203440763,
           0.5444503925589106,
           0.643935931255966,
           0.5498509757357148,
           0.50654321092678,
           0.6625871285254736,
           0.4885980068224444,
           0.45251034872444007
          ],
          [
           0.694124419915306,
           0.9999999999999993,
           0.7510493693856395,
           0.9168970073113039,
           0.8594228809241216,
           0.8604322599359621,
           0.7790853175040524,
           0.8174921185468607,
           0.7941825195106459,
           0.8282209526838379,
           0.6745678331991831,
           0.9158883495551828,
           0.841785028643145,
           0.9355775026208724,
           0.926588195747871,
           0.7881248720859687,
           0.8483900460197136,
           0.6193558685433906,
           0.879135963376287,
           0.776417509511051,
           0.898238240674156,
           0.8086118111424354,
           0.9114073296445684,
           0.7045307922343101,
           0.7011467537654573,
           0.7656575679740389,
           0.875921917811631,
           0.7943007541812328,
           0.8852833852713275,
           0.8526445143055983,
           0.6814394847342379,
           0.7879142196684739,
           0.7680336740170596,
           0.8377415659596351,
           0.6181284571851463,
           0.6934646084500776,
           0.9299630387562373,
           0.663212796744524,
           0.6667300899867439
          ],
          [
           0.5703533119904904,
           0.7510493693856395,
           0.9999999999999999,
           0.7933210299628564,
           0.7870491822590835,
           0.760414424131989,
           0.7536038252626784,
           0.8496224143915377,
           0.7808036276681386,
           0.7177561443455818,
           0.6553455346266787,
           0.7198691953711193,
           0.7098445890594742,
           0.7985114317834637,
           0.7902736209444896,
           0.6868254287129082,
           0.6928657459464649,
           0.5635458239955455,
           0.8564987655460766,
           0.6395440386594351,
           0.8089645504305147,
           0.6701282028453382,
           0.7556152469663611,
           0.7300187008172168,
           0.5965875265891258,
           0.7181722777491594,
           0.8790402771586212,
           0.7401821388848824,
           0.8203676963808096,
           0.7759508244649428,
           0.6460164287327284,
           0.7344029869202786,
           0.7817280511386928,
           0.7375852420189585,
           0.6207661958473886,
           0.6142478852375812,
           0.7752560145803978,
           0.59256756851093,
           0.663481520810112
          ],
          [
           0.6533647875653997,
           0.9168970073113039,
           0.7933210299628564,
           1.0000000000000007,
           0.9133739658833769,
           0.8552214345891131,
           0.7873535674012183,
           0.8709899945092142,
           0.8064560001913941,
           0.9016737749459267,
           0.711648848974963,
           0.8766826769456464,
           0.8188555551597496,
           0.9168181999439218,
           0.9308335025056409,
           0.789740315632337,
           0.8766016001081915,
           0.692901468695573,
           0.9260217046197992,
           0.7507708546078886,
           0.9529993285846766,
           0.8568290187705557,
           0.9002780085123593,
           0.7155079898552517,
           0.6826903995077461,
           0.8319560093258069,
           0.9276456467230672,
           0.7868058705843098,
           0.9290838438685657,
           0.8736676612663544,
           0.6876068381856592,
           0.8172143795760417,
           0.8135703995269146,
           0.8165509243103336,
           0.6371595806769339,
           0.7164797499335637,
           0.937253584476583,
           0.6387254531556285,
           0.7222289125013786
          ],
          [
           0.6357826050439024,
           0.8594228809241216,
           0.7870491822590835,
           0.9133739658833769,
           0.9999999999999997,
           0.8455681925341695,
           0.7432655687892289,
           0.8803466692531388,
           0.8055434893860746,
           0.8428837883244477,
           0.717433790188833,
           0.8316571841577332,
           0.7974608782813689,
           0.8605948403148468,
           0.8789941467154025,
           0.7656513636869918,
           0.885160820710875,
           0.7203118889860518,
           0.9095712518989911,
           0.7015116059669627,
           0.9391933147058287,
           0.7946277825209184,
           0.8557001549399359,
           0.7421172593625205,
           0.6539224674400721,
           0.8546227060649837,
           0.9130765496861983,
           0.7669581900537507,
           0.8989601430433981,
           0.8467432914759947,
           0.6425445736764082,
           0.7961368607800533,
           0.8279732093526273,
           0.7834236565667241,
           0.6065836197147276,
           0.6783680727396173,
           0.8806909831386187,
           0.6371921298516484,
           0.7360079502216212
          ],
          [
           0.6242784322610053,
           0.8604322599359621,
           0.760414424131989,
           0.8552214345891131,
           0.8455681925341695,
           1,
           0.7829145915192798,
           0.8200162274497678,
           0.7890258295257756,
           0.7858147518050889,
           0.7262554228640385,
           0.8281400827034582,
           0.7869027720089109,
           0.8451531559298034,
           0.8531641962146638,
           0.8484839478032036,
           0.804407122889471,
           0.5855304216501994,
           0.8662118169383348,
           0.7195386717741901,
           0.8593179001439368,
           0.7640235701965113,
           0.852707706368846,
           0.7263549321681502,
           0.6500993784717125,
           0.7256261215740057,
           0.8495636778408698,
           0.7993672548050024,
           0.8675258704838353,
           0.8590884900125921,
           0.6708098450993245,
           0.7817434936468373,
           0.7668319657060414,
           0.8381378044670755,
           0.6148558116039897,
           0.6761114453727469,
           0.8522233465254097,
           0.6379116753569885,
           0.6908287533277444
          ],
          [
           0.5419597348675891,
           0.7790853175040524,
           0.7536038252626784,
           0.7873535674012183,
           0.7432655687892289,
           0.7829145915192798,
           1.0000000000000007,
           0.723023985468881,
           0.7693270138126527,
           0.7080427777191771,
           0.7107463299432456,
           0.7492620839388231,
           0.6947332738144575,
           0.7882556368134503,
           0.7973286707884781,
           0.685737326352205,
           0.7071338119861266,
           0.48855683096847413,
           0.7999634166288999,
           0.6058406213999054,
           0.771602968410766,
           0.7432330877253857,
           0.782597435382735,
           0.6377085217265424,
           0.5718489255906005,
           0.6303511501714905,
           0.8071483555606528,
           0.7792714225714984,
           0.7826580383460344,
           0.7710024215181785,
           0.6902195370737243,
           0.6852315988154076,
           0.6764823335911346,
           0.8100499983691204,
           0.6252326559774398,
           0.5956863324820248,
           0.7992431893378951,
           0.5460201264692308,
           0.6152222776110258
          ],
          [
           0.6184628653629681,
           0.8174921185468607,
           0.8496224143915377,
           0.8709899945092142,
           0.8803466692531388,
           0.8200162274497678,
           0.723023985468881,
           0.9999999999999996,
           0.8096237747241076,
           0.7873405203551851,
           0.6811104833469646,
           0.7910537696854645,
           0.7737164016375105,
           0.8555580256854959,
           0.8537222374286327,
           0.7240008463209405,
           0.8229655022654466,
           0.7420174715468638,
           0.9121954561665169,
           0.6919716850035789,
           0.9177642876889991,
           0.7599104703797426,
           0.8232666926224741,
           0.790696187395758,
           0.6784966016966003,
           0.8715267285227143,
           0.9079007975401461,
           0.728990462456669,
           0.9124104164857664,
           0.8046027604601568,
           0.6205876796589396,
           0.8131616315349651,
           0.9153037974277631,
           0.7592601019702662,
           0.5998657489078612,
           0.6676702963292495,
           0.8443658640253603,
           0.6222436751274851,
           0.6800062711373148
          ],
          [
           0.6376058737340614,
           0.7941825195106459,
           0.7808036276681386,
           0.8064560001913941,
           0.8055434893860746,
           0.7890258295257756,
           0.7693270138126527,
           0.8096237747241076,
           0.9999999999999999,
           0.7330893039141957,
           0.6945025766397306,
           0.7623001372221281,
           0.7443585490955347,
           0.8051519379727461,
           0.8270452974958088,
           0.7440923428078502,
           0.7695943656173722,
           0.6067993967261531,
           0.8339212199345437,
           0.7023887337323229,
           0.8340847133651802,
           0.7255386352713677,
           0.8000594951685543,
           0.6656309566250536,
           0.6136976591877515,
           0.7381870995238561,
           0.8251319454686681,
           0.7418855521204388,
           0.8359405973895623,
           0.7996531444209843,
           0.6489628544206368,
           0.7177128950831981,
           0.7472598149890978,
           0.7773099030833727,
           0.6809858118266974,
           0.5776395779479921,
           0.8408513457378259,
           0.5962273881235435,
           0.6252769821085229
          ],
          [
           0.5913632526353466,
           0.8282209526838379,
           0.7177561443455818,
           0.9016737749459267,
           0.8428837883244477,
           0.7858147518050889,
           0.7080427777191771,
           0.7873405203551851,
           0.7330893039141957,
           1.0000000000000002,
           0.6238418639384555,
           0.7937689917957689,
           0.7313619501818729,
           0.8322057866461471,
           0.8474768527500978,
           0.7023507272011853,
           0.82167236234123,
           0.6572939029741995,
           0.8338636574824085,
           0.666351190828397,
           0.8730681029243159,
           0.8123547194909151,
           0.8324233201373035,
           0.6695473287088873,
           0.6131370599404478,
           0.7884864456366484,
           0.8463757156245184,
           0.7058402824286051,
           0.8515838238367762,
           0.796930420998052,
           0.6501391347634133,
           0.754204487197796,
           0.763316897920498,
           0.7524123058646465,
           0.5735402673471193,
           0.6652962151995275,
           0.8640516604918672,
           0.6052600158986812,
           0.6337479895236305
          ],
          [
           0.44940928359216703,
           0.6745678331991831,
           0.6553455346266787,
           0.711648848974963,
           0.717433790188833,
           0.7262554228640385,
           0.7107463299432456,
           0.6811104833469646,
           0.6945025766397306,
           0.6238418639384555,
           1.0000000000000002,
           0.6944471336457994,
           0.6377167089603868,
           0.692212437258957,
           0.7074173184314987,
           0.7225840051933312,
           0.6454911775783164,
           0.4409314278077959,
           0.7250537761426462,
           0.5541892069836697,
           0.7204446943129702,
           0.6425423417186796,
           0.7026818750938421,
           0.5663950606126461,
           0.5066113851297371,
           0.5808407811070657,
           0.7079614887031142,
           0.7346143056262687,
           0.7238353383211119,
           0.717122203196149,
           0.6489877050814833,
           0.6335963619130549,
           0.6391364617154028,
           0.7531081228806706,
           0.5750435767600247,
           0.4973076316833386,
           0.7165843525432375,
           0.5869174051516728,
           0.6589129106460616
          ],
          [
           0.6348460101208769,
           0.9158883495551828,
           0.7198691953711193,
           0.8766826769456464,
           0.8316571841577332,
           0.8281400827034582,
           0.7492620839388231,
           0.7910537696854645,
           0.7623001372221281,
           0.7937689917957689,
           0.6944471336457994,
           1.0000000000000004,
           0.8150843018915901,
           0.9074547656483161,
           0.9092157851593882,
           0.7421293647938478,
           0.8311929631306023,
           0.6263843051881048,
           0.8451493581913534,
           0.721755985643954,
           0.8653241045868113,
           0.7623731921159491,
           0.8877548404693199,
           0.6833706051990581,
           0.631472630755603,
           0.7666103025045554,
           0.8563863201897954,
           0.7447210096023604,
           0.8401900543076708,
           0.8164673929770936,
           0.6593344484867563,
           0.7284219067067127,
           0.7503947598162107,
           0.7929445418865061,
           0.6066078730167487,
           0.6544222749517375,
           0.8846950766789781,
           0.6293456607600643,
           0.6485720158349123
          ],
          [
           0.8590676362382079,
           0.841785028643145,
           0.7098445890594742,
           0.8188555551597496,
           0.7974608782813689,
           0.7869027720089109,
           0.6947332738144575,
           0.7737164016375105,
           0.7443585490955347,
           0.7313619501818729,
           0.6377167089603868,
           0.8150843018915901,
           0.9999999999999998,
           0.8489566911490036,
           0.8685591879758714,
           0.6859671467589055,
           0.8166961270425854,
           0.6318873476997311,
           0.8095956162533741,
           0.8926673333988014,
           0.8355121886068673,
           0.6949076966453547,
           0.8687087026648173,
           0.6252773200108688,
           0.5554195848245533,
           0.7685527015372327,
           0.7765340206969078,
           0.7138190886394091,
           0.8160898538723186,
           0.7687490923061516,
           0.644261004362807,
           0.6769438379105601,
           0.7136904440303908,
           0.7851759612437768,
           0.6396978306701976,
           0.6095976372420011,
           0.8176146640311663,
           0.6480781373208858,
           0.6461769524058868
          ],
          [
           0.7345972151950292,
           0.9355775026208724,
           0.7985114317834637,
           0.9168181999439218,
           0.8605948403148468,
           0.8451531559298034,
           0.7882556368134503,
           0.8555580256854959,
           0.8051519379727461,
           0.8322057866461471,
           0.692212437258957,
           0.9074547656483161,
           0.8489566911490036,
           1.0000000000000007,
           0.961109647446152,
           0.7857680849815432,
           0.8416329165500024,
           0.6553376195310548,
           0.8972551209019393,
           0.7627225440903341,
           0.9149128214011604,
           0.7923449870962338,
           0.9348858119976508,
           0.732182419516073,
           0.6624072815589527,
           0.8084796067619031,
           0.9043976038838348,
           0.7875438676179791,
           0.8979119305430222,
           0.8664418312496152,
           0.6791858048082129,
           0.7768574779605292,
           0.8054684382825056,
           0.8280762813883864,
           0.6226925021447323,
           0.7270683668002096,
           0.93114579195986,
           0.6188755816037144,
           0.6705537813550964
          ],
          [
           0.7619720648920032,
           0.926588195747871,
           0.7902736209444896,
           0.9308335025056409,
           0.8789941467154025,
           0.8531641962146638,
           0.7973286707884781,
           0.8537222374286327,
           0.8270452974958088,
           0.8474768527500978,
           0.7074173184314987,
           0.9092157851593882,
           0.8685591879758714,
           0.961109647446152,
           1.0000000000000002,
           0.7733377632149577,
           0.8708104370271339,
           0.7009733540998462,
           0.9025646702715244,
           0.7882568781001951,
           0.9250466227181688,
           0.8020480234941043,
           0.9304259949005292,
           0.7399372669045567,
           0.6368856210883185,
           0.8442093300169361,
           0.8952883621061654,
           0.7901733190037445,
           0.8919743340408735,
           0.8523615906952804,
           0.6842936633346952,
           0.763359973477234,
           0.7898796073305199,
           0.841772164578763,
           0.671459793277446,
           0.6887950548482349,
           0.9302385577771097,
           0.6283805507571479,
           0.6856352299982034
          ],
          [
           0.5489744535290371,
           0.7881248720859687,
           0.6868254287129082,
           0.789740315632337,
           0.7656513636869918,
           0.8484839478032036,
           0.685737326352205,
           0.7240008463209405,
           0.7440923428078502,
           0.7023507272011853,
           0.7225840051933312,
           0.7421293647938478,
           0.6859671467589055,
           0.7857680849815432,
           0.7733377632149577,
           1,
           0.7284343025868953,
           0.501551076242911,
           0.8074694665839564,
           0.6448808743014677,
           0.779212267567662,
           0.6997232365243188,
           0.7713865977108297,
           0.6232926913505236,
           0.577340643993661,
           0.6366910386660883,
           0.7726501738771681,
           0.7204303664874433,
           0.7836726779827357,
           0.7904105197167139,
           0.5925868295972919,
           0.6865757088261996,
           0.6555182617970479,
           0.7372383023817194,
           0.552608066058806,
           0.559445940141395,
           0.7997344469913521,
           0.5687717811522447,
           0.6149728484012723
          ],
          [
           0.6500172530594617,
           0.8483900460197136,
           0.6928657459464649,
           0.8766016001081915,
           0.885160820710875,
           0.804407122889471,
           0.7071338119861266,
           0.8229655022654466,
           0.7695943656173722,
           0.82167236234123,
           0.6454911775783164,
           0.8311929631306023,
           0.8166961270425854,
           0.8416329165500024,
           0.8708104370271339,
           0.7284343025868953,
           1,
           0.7498949612724981,
           0.8607157390966418,
           0.7293080189508954,
           0.9031377505823233,
           0.8218232735340938,
           0.8582153568467428,
           0.6712459118737091,
           0.6144838430826636,
           0.8668427719540889,
           0.8445772203605459,
           0.6895107923179961,
           0.8649496188220531,
           0.779955667124518,
           0.6152599499041472,
           0.7348867189509988,
           0.756753177056203,
           0.7704598146904256,
           0.560760567556737,
           0.6639253819511117,
           0.8692394123522738,
           0.6051385623483546,
           0.6457587639270445
          ],
          [
           0.582196430690957,
           0.6193558685433906,
           0.5635458239955455,
           0.692901468695573,
           0.7203118889860518,
           0.5855304216501994,
           0.48855683096847413,
           0.7420174715468638,
           0.6067993967261531,
           0.6572939029741995,
           0.4409314278077959,
           0.6263843051881048,
           0.6318873476997311,
           0.6553376195310548,
           0.7009733540998462,
           0.501551076242911,
           0.7498949612724981,
           1,
           0.6850214225076705,
           0.5725382515452939,
           0.7617076340955586,
           0.5979862301080403,
           0.6485487982125587,
           0.5866619498001315,
           0.5547811039143569,
           0.8863594385633171,
           0.6667314337309089,
           0.4906938632157644,
           0.6916818273318927,
           0.5731408731276483,
           0.37471184867761037,
           0.6237485912761194,
           0.6648512781190226,
           0.5066775565719526,
           0.3669676427741104,
           0.4547065553704942,
           0.6612067023066021,
           0.4171235508843675,
           0.45918183724924955
          ],
          [
           0.6424919232515955,
           0.879135963376287,
           0.8564987655460766,
           0.9260217046197992,
           0.9095712518989911,
           0.8662118169383348,
           0.7999634166288999,
           0.9121954561665169,
           0.8339212199345437,
           0.8338636574824085,
           0.7250537761426462,
           0.8451493581913534,
           0.8095956162533741,
           0.8972551209019393,
           0.9025646702715244,
           0.8074694665839564,
           0.8607157390966418,
           0.6850214225076705,
           0.9999999999999999,
           0.7507732762565387,
           0.9447754022640891,
           0.8106780796334088,
           0.8881650716900866,
           0.762139940605316,
           0.665996695550872,
           0.8272613260380444,
           0.9366815092776131,
           0.7931634742474363,
           0.931393882436812,
           0.863100496324763,
           0.6763713443070256,
           0.8011726054553705,
           0.8391153987113675,
           0.8166734207534815,
           0.6526171906639511,
           0.6759577906495228,
           0.9035805446471568,
           0.6294199167794263,
           0.7318907720833179
          ],
          [
           0.8467480496770583,
           0.776417509511051,
           0.6395440386594351,
           0.7507708546078886,
           0.7015116059669627,
           0.7195386717741901,
           0.6058406213999054,
           0.6919716850035789,
           0.7023887337323229,
           0.666351190828397,
           0.5541892069836697,
           0.721755985643954,
           0.8926673333988014,
           0.7627225440903341,
           0.7882568781001951,
           0.6448808743014677,
           0.7293080189508954,
           0.5725382515452939,
           0.7507732762565387,
           0.9999999999999998,
           0.759554000197655,
           0.6305564858053284,
           0.7819114984373227,
           0.52508581327934,
           0.47087822017733233,
           0.6947958217685379,
           0.6823716474942088,
           0.6429481371426511,
           0.7694091813113297,
           0.7020186653911531,
           0.5706254872642019,
           0.5951718134804832,
           0.6193332255312971,
           0.7075802445312513,
           0.590844606541764,
           0.5341953605226462,
           0.7543611397119152,
           0.5929931531066609,
           0.5680372292475584
          ],
          [
           0.667280421496628,
           0.898238240674156,
           0.8089645504305147,
           0.9529993285846766,
           0.9391933147058287,
           0.8593179001439368,
           0.771602968410766,
           0.9177642876889991,
           0.8340847133651802,
           0.8730681029243159,
           0.7204446943129702,
           0.8653241045868113,
           0.8355121886068673,
           0.9149128214011604,
           0.9250466227181688,
           0.779212267567662,
           0.9031377505823233,
           0.7617076340955586,
           0.9447754022640891,
           0.759554000197655,
           0.9999999999999992,
           0.8385990107861789,
           0.900487674456905,
           0.7400190738934452,
           0.6980727244152501,
           0.8906957283055965,
           0.9354893888829828,
           0.7774842608060191,
           0.951553163410766,
           0.8807351937335977,
           0.6846796586560692,
           0.826966820194928,
           0.8505237623197321,
           0.812946633354522,
           0.619733544025945,
           0.6848249382617109,
           0.9347979446077912,
           0.6461822199254877,
           0.7168772009582071
          ],
          [
           0.5397667446693131,
           0.8086118111424354,
           0.6701282028453382,
           0.8568290187705557,
           0.7946277825209184,
           0.7640235701965113,
           0.7432330877253857,
           0.7599104703797426,
           0.7255386352713677,
           0.8123547194909151,
           0.6425423417186796,
           0.7623731921159491,
           0.6949076966453547,
           0.7923449870962338,
           0.8020480234941043,
           0.6997232365243188,
           0.8218232735340938,
           0.5979862301080403,
           0.8106780796334088,
           0.6305564858053284,
           0.8385990107861789,
           1.0000000000000002,
           0.8079895548079907,
           0.6476010680630531,
           0.5966485803677712,
           0.7213493880926455,
           0.8292493157220309,
           0.7237070149155703,
           0.8288945237622436,
           0.7758317310506064,
           0.6329245978161266,
           0.6970003000169571,
           0.7340555022800959,
           0.7689327014215674,
           0.5846086872684418,
           0.65033940724166,
           0.8289920026444602,
           0.5799216160268106,
           0.60471489908752
          ],
          [
           0.7181818337714305,
           0.9114073296445684,
           0.7556152469663611,
           0.9002780085123593,
           0.8557001549399359,
           0.852707706368846,
           0.782597435382735,
           0.8232666926224741,
           0.8000594951685543,
           0.8324233201373035,
           0.7026818750938421,
           0.8877548404693199,
           0.8687087026648173,
           0.9348858119976508,
           0.9304259949005292,
           0.7713865977108297,
           0.8582153568467428,
           0.6485487982125587,
           0.8881650716900866,
           0.7819114984373227,
           0.900487674456905,
           0.8079895548079907,
           1.0000000000000004,
           0.715865196188593,
           0.6346119563820753,
           0.8126861953929284,
           0.867100416911547,
           0.774770588562667,
           0.8804134602029579,
           0.8525323474785577,
           0.7160680097808385,
           0.7531630881901961,
           0.7713401305626892,
           0.8360756058545394,
           0.6318081602253174,
           0.6771688483041547,
           0.9408480204811515,
           0.6542392038990068,
           0.6681227164210372
          ],
          [
           0.5105794353045535,
           0.7045307922343101,
           0.7300187008172168,
           0.7155079898552517,
           0.7421172593625205,
           0.7263549321681502,
           0.6377085217265424,
           0.790696187395758,
           0.6656309566250536,
           0.6695473287088873,
           0.5663950606126461,
           0.6833706051990581,
           0.6252773200108688,
           0.732182419516073,
           0.7399372669045567,
           0.6232926913505236,
           0.6712459118737091,
           0.5866619498001315,
           0.762139940605316,
           0.52508581327934,
           0.7400190738934452,
           0.6476010680630531,
           0.715865196188593,
           1.0000000000000002,
           0.6932467652050214,
           0.7171336716947668,
           0.7792569103242023,
           0.6907347991329641,
           0.7474890439091145,
           0.6902333794206594,
           0.543946793746451,
           0.6725218095594824,
           0.7383182942314939,
           0.6959763877057957,
           0.4963544754999639,
           0.5733142345439102,
           0.7028782821377808,
           0.5057373121937111,
           0.6174059557041685
          ],
          [
           0.43398463006559324,
           0.7011467537654573,
           0.5965875265891258,
           0.6826903995077461,
           0.6539224674400721,
           0.6500993784717125,
           0.5718489255906005,
           0.6784966016966003,
           0.6136976591877515,
           0.6131370599404478,
           0.5066113851297371,
           0.631472630755603,
           0.5554195848245533,
           0.6624072815589527,
           0.6368856210883185,
           0.577340643993661,
           0.6144838430826636,
           0.5547811039143569,
           0.665996695550872,
           0.47087822017733233,
           0.6980727244152501,
           0.5966485803677712,
           0.6346119563820753,
           0.6932467652050214,
           0.9999999999999999,
           0.6334167281287466,
           0.6927944089630738,
           0.6324087193556697,
           0.7182972527705787,
           0.6116410327466395,
           0.5071049924374075,
           0.7392028588550128,
           0.6365160853513117,
           0.6148032146018878,
           0.41381157538580354,
           0.5113916125449058,
           0.6547914186627013,
           0.4831683207177182,
           0.5686707874946003
          ],
          [
           0.6735205934289605,
           0.7656575679740389,
           0.7181722777491594,
           0.8319560093258069,
           0.8546227060649837,
           0.7256261215740057,
           0.6303511501714905,
           0.8715267285227143,
           0.7381870995238561,
           0.7884864456366484,
           0.5808407811070657,
           0.7666103025045554,
           0.7685527015372327,
           0.8084796067619031,
           0.8442093300169361,
           0.6366910386660883,
           0.8668427719540889,
           0.8863594385633171,
           0.8272613260380444,
           0.6947958217685379,
           0.8906957283055965,
           0.7213493880926455,
           0.8126861953929284,
           0.7171336716947668,
           0.6334167281287466,
           1.0000000000000002,
           0.8149540354312044,
           0.6067885725878089,
           0.8276230582668915,
           0.702097200385521,
           0.533330656224035,
           0.7398795939312355,
           0.8128800992909743,
           0.6596183756674336,
           0.5276277356664048,
           0.6034421478641084,
           0.8104835526515961,
           0.5394305504082301,
           0.593702789627109
          ],
          [
           0.6055052107957083,
           0.875921917811631,
           0.8790402771586212,
           0.9276456467230672,
           0.9130765496861983,
           0.8495636778408698,
           0.8071483555606528,
           0.9079007975401461,
           0.8251319454686681,
           0.8463757156245184,
           0.7079614887031142,
           0.8563863201897954,
           0.7765340206969078,
           0.9043976038838348,
           0.8952883621061654,
           0.7726501738771681,
           0.8445772203605459,
           0.6667314337309089,
           0.9366815092776131,
           0.6823716474942088,
           0.9354893888829828,
           0.8292493157220309,
           0.867100416911547,
           0.7792569103242023,
           0.6927944089630738,
           0.8149540354312044,
           0.9999999999999998,
           0.7958091966602873,
           0.9348624101539662,
           0.8805022683371766,
           0.6863354673121934,
           0.8326801300019465,
           0.8544291896524898,
           0.8142970431310065,
           0.6109557752968985,
           0.701364978225965,
           0.8997061325284448,
           0.6114543821463884,
           0.7280568078951153
          ],
          [
           0.5640347823933352,
           0.7943007541812328,
           0.7401821388848824,
           0.7868058705843098,
           0.7669581900537507,
           0.7993672548050024,
           0.7792714225714984,
           0.728990462456669,
           0.7418855521204388,
           0.7058402824286051,
           0.7346143056262687,
           0.7447210096023604,
           0.7138190886394091,
           0.7875438676179791,
           0.7901733190037445,
           0.7204303664874433,
           0.6895107923179961,
           0.4906938632157644,
           0.7931634742474363,
           0.6429481371426511,
           0.7774842608060191,
           0.7237070149155703,
           0.774770588562667,
           0.6907347991329641,
           0.6324087193556697,
           0.6067885725878089,
           0.7958091966602873,
           1.0000000000000002,
           0.7957828374749425,
           0.8317360716022271,
           0.6818539655727476,
           0.6681879401580129,
           0.6997067332438697,
           0.8388651169016819,
           0.596151432937641,
           0.6282429691183904,
           0.7837404722092813,
           0.5742376434567948,
           0.7086671816454054
          ],
          [
           0.6429106874533215,
           0.8852833852713275,
           0.8203676963808096,
           0.9290838438685657,
           0.8989601430433981,
           0.8675258704838353,
           0.7826580383460344,
           0.9124104164857664,
           0.8359405973895623,
           0.8515838238367762,
           0.7238353383211119,
           0.8401900543076708,
           0.8160898538723186,
           0.8979119305430222,
           0.8919743340408735,
           0.7836726779827357,
           0.8649496188220531,
           0.6916818273318927,
           0.931393882436812,
           0.7694091813113297,
           0.951553163410766,
           0.8288945237622436,
           0.8804134602029579,
           0.7474890439091145,
           0.7182972527705787,
           0.8276230582668915,
           0.9348624101539662,
           0.7957828374749425,
           0.9999999999999999,
           0.8859777018195705,
           0.6778373648603867,
           0.842015267960796,
           0.8372658790008816,
           0.8440028644111209,
           0.6215149918962256,
           0.6748630446208498,
           0.915679579539516,
           0.6386822102857784,
           0.7527402471854677
          ],
          [
           0.6088368714000088,
           0.8526445143055983,
           0.7759508244649428,
           0.8736676612663544,
           0.8467432914759947,
           0.8590884900125921,
           0.7710024215181785,
           0.8046027604601568,
           0.7996531444209843,
           0.796930420998052,
           0.717122203196149,
           0.8164673929770936,
           0.7687490923061516,
           0.8664418312496152,
           0.8523615906952804,
           0.7904105197167139,
           0.779955667124518,
           0.5731408731276483,
           0.863100496324763,
           0.7020186653911531,
           0.8807351937335977,
           0.7758317310506064,
           0.8525323474785577,
           0.6902333794206594,
           0.6116410327466395,
           0.702097200385521,
           0.8805022683371766,
           0.8317360716022271,
           0.8859777018195705,
           1,
           0.6745518078170859,
           0.7546193912783028,
           0.788976294869647,
           0.8651056904572019,
           0.6302822442749436,
           0.6358112509642697,
           0.8763597246784802,
           0.628489930481767,
           0.6859443559239082
          ],
          [
           0.44514345429157487,
           0.6814394847342379,
           0.6460164287327284,
           0.6876068381856592,
           0.6425445736764082,
           0.6708098450993245,
           0.6902195370737243,
           0.6205876796589396,
           0.6489628544206368,
           0.6501391347634133,
           0.6489877050814833,
           0.6593344484867563,
           0.644261004362807,
           0.6791858048082129,
           0.6842936633346952,
           0.5925868295972919,
           0.6152599499041472,
           0.37471184867761037,
           0.6763713443070256,
           0.5706254872642019,
           0.6846796586560692,
           0.6329245978161266,
           0.7160680097808385,
           0.543946793746451,
           0.5071049924374075,
           0.533330656224035,
           0.6863354673121934,
           0.6818539655727476,
           0.6778373648603867,
           0.6745518078170859,
           1.0000000000000004,
           0.587531207249749,
           0.5921371602608039,
           0.7218427112346661,
           0.5340573020991262,
           0.5021600508572059,
           0.6842910443868693,
           0.5788708040149906,
           0.526739083834962
          ],
          [
           0.5233825203440763,
           0.7879142196684739,
           0.7344029869202786,
           0.8172143795760417,
           0.7961368607800533,
           0.7817434936468373,
           0.6852315988154076,
           0.8131616315349651,
           0.7177128950831981,
           0.754204487197796,
           0.6335963619130549,
           0.7284219067067127,
           0.6769438379105601,
           0.7768574779605292,
           0.763359973477234,
           0.6865757088261996,
           0.7348867189509988,
           0.6237485912761194,
           0.8011726054553705,
           0.5951718134804832,
           0.826966820194928,
           0.6970003000169571,
           0.7531630881901961,
           0.6725218095594824,
           0.7392028588550128,
           0.7398795939312355,
           0.8326801300019465,
           0.6681879401580129,
           0.842015267960796,
           0.7546193912783028,
           0.587531207249749,
           0.9999999999999997,
           0.7740482241453662,
           0.6966885151007326,
           0.5447630735810229,
           0.6491998661545303,
           0.782904531284091,
           0.5881293030700429,
           0.6680806514040898
          ],
          [
           0.5444503925589106,
           0.7680336740170596,
           0.7817280511386928,
           0.8135703995269146,
           0.8279732093526273,
           0.7668319657060414,
           0.6764823335911346,
           0.9153037974277631,
           0.7472598149890978,
           0.763316897920498,
           0.6391364617154028,
           0.7503947598162107,
           0.7136904440303908,
           0.8054684382825056,
           0.7898796073305199,
           0.6555182617970479,
           0.756753177056203,
           0.6648512781190226,
           0.8391153987113675,
           0.6193332255312971,
           0.8505237623197321,
           0.7340555022800959,
           0.7713401305626892,
           0.7383182942314939,
           0.6365160853513117,
           0.8128800992909743,
           0.8544291896524898,
           0.6997067332438697,
           0.8372658790008816,
           0.788976294869647,
           0.5921371602608039,
           0.7740482241453662,
           1.0000000000000002,
           0.7140480634176288,
           0.5829692461182391,
           0.6218157105078476,
           0.787275471190701,
           0.5858999385340544,
           0.6445864503350577
          ],
          [
           0.643935931255966,
           0.8377415659596351,
           0.7375852420189585,
           0.8165509243103336,
           0.7834236565667241,
           0.8381378044670755,
           0.8100499983691204,
           0.7592601019702662,
           0.7773099030833727,
           0.7524123058646465,
           0.7531081228806706,
           0.7929445418865061,
           0.7851759612437768,
           0.8280762813883864,
           0.841772164578763,
           0.7372383023817194,
           0.7704598146904256,
           0.5066775565719526,
           0.8166734207534815,
           0.7075802445312513,
           0.812946633354522,
           0.7689327014215674,
           0.8360756058545394,
           0.6959763877057957,
           0.6148032146018878,
           0.6596183756674336,
           0.8142970431310065,
           0.8388651169016819,
           0.8440028644111209,
           0.8651056904572019,
           0.7218427112346661,
           0.6966885151007326,
           0.7140480634176288,
           0.9999999999999998,
           0.6658975294746355,
           0.6289061026748497,
           0.832199543353315,
           0.6465396372992595,
           0.6485873117908736
          ],
          [
           0.5498509757357148,
           0.6181284571851463,
           0.6207661958473886,
           0.6371595806769339,
           0.6065836197147276,
           0.6148558116039897,
           0.6252326559774398,
           0.5998657489078612,
           0.6809858118266974,
           0.5735402673471193,
           0.5750435767600247,
           0.6066078730167487,
           0.6396978306701976,
           0.6226925021447323,
           0.671459793277446,
           0.552608066058806,
           0.560760567556737,
           0.3669676427741104,
           0.6526171906639511,
           0.590844606541764,
           0.619733544025945,
           0.5846086872684418,
           0.6318081602253174,
           0.4963544754999639,
           0.41381157538580354,
           0.5276277356664048,
           0.6109557752968985,
           0.596151432937641,
           0.6215149918962256,
           0.6302822442749436,
           0.5340573020991262,
           0.5447630735810229,
           0.5829692461182391,
           0.6658975294746355,
           1.0000000000000009,
           0.4916272168686179,
           0.6228522392321403,
           0.4545452493030279,
           0.5059107483243993
          ],
          [
           0.50654321092678,
           0.6934646084500776,
           0.6142478852375812,
           0.7164797499335637,
           0.6783680727396173,
           0.6761114453727469,
           0.5956863324820248,
           0.6676702963292495,
           0.5776395779479921,
           0.6652962151995275,
           0.4973076316833386,
           0.6544222749517375,
           0.6095976372420011,
           0.7270683668002096,
           0.6887950548482349,
           0.559445940141395,
           0.6639253819511117,
           0.4547065553704942,
           0.6759577906495228,
           0.5341953605226462,
           0.6848249382617109,
           0.65033940724166,
           0.6771688483041547,
           0.5733142345439102,
           0.5113916125449058,
           0.6034421478641084,
           0.701364978225965,
           0.6282429691183904,
           0.6748630446208498,
           0.6358112509642697,
           0.5021600508572059,
           0.6491998661545303,
           0.6218157105078476,
           0.6289061026748497,
           0.4916272168686179,
           1,
           0.6784383837022105,
           0.5139489411360518,
           0.483661710084637
          ],
          [
           0.6625871285254736,
           0.9299630387562373,
           0.7752560145803978,
           0.937253584476583,
           0.8806909831386187,
           0.8522233465254097,
           0.7992431893378951,
           0.8443658640253603,
           0.8408513457378259,
           0.8640516604918672,
           0.7165843525432375,
           0.8846950766789781,
           0.8176146640311663,
           0.93114579195986,
           0.9302385577771097,
           0.7997344469913521,
           0.8692394123522738,
           0.6612067023066021,
           0.9035805446471568,
           0.7543611397119152,
           0.9347979446077912,
           0.8289920026444602,
           0.9408480204811515,
           0.7028782821377808,
           0.6547914186627013,
           0.8104835526515961,
           0.8997061325284448,
           0.7837404722092813,
           0.915679579539516,
           0.8763597246784802,
           0.6842910443868693,
           0.782904531284091,
           0.787275471190701,
           0.832199543353315,
           0.6228522392321403,
           0.6784383837022105,
           0.9999999999999997,
           0.6604391844624949,
           0.6869338680264885
          ],
          [
           0.4885980068224444,
           0.663212796744524,
           0.59256756851093,
           0.6387254531556285,
           0.6371921298516484,
           0.6379116753569885,
           0.5460201264692308,
           0.6222436751274851,
           0.5962273881235435,
           0.6052600158986812,
           0.5869174051516728,
           0.6293456607600643,
           0.6480781373208858,
           0.6188755816037144,
           0.6283805507571479,
           0.5687717811522447,
           0.6051385623483546,
           0.4171235508843675,
           0.6294199167794263,
           0.5929931531066609,
           0.6461822199254877,
           0.5799216160268106,
           0.6542392038990068,
           0.5057373121937111,
           0.4831683207177182,
           0.5394305504082301,
           0.6114543821463884,
           0.5742376434567948,
           0.6386822102857784,
           0.628489930481767,
           0.5788708040149906,
           0.5881293030700429,
           0.5858999385340544,
           0.6465396372992595,
           0.4545452493030279,
           0.5139489411360518,
           0.6604391844624949,
           0.9999999999999994,
           0.5302223417519017
          ],
          [
           0.45251034872444007,
           0.6667300899867439,
           0.663481520810112,
           0.7222289125013786,
           0.7360079502216212,
           0.6908287533277444,
           0.6152222776110258,
           0.6800062711373148,
           0.6252769821085229,
           0.6337479895236305,
           0.6589129106460616,
           0.6485720158349123,
           0.6461769524058868,
           0.6705537813550964,
           0.6856352299982034,
           0.6149728484012723,
           0.6457587639270445,
           0.45918183724924955,
           0.7318907720833179,
           0.5680372292475584,
           0.7168772009582071,
           0.60471489908752,
           0.6681227164210372,
           0.6174059557041685,
           0.5686707874946003,
           0.593702789627109,
           0.7280568078951153,
           0.7086671816454054,
           0.7527402471854677,
           0.6859443559239082,
           0.526739083834962,
           0.6680806514040898,
           0.6445864503350577,
           0.6485873117908736,
           0.5059107483243993,
           0.483661710084637,
           0.6869338680264885,
           0.5302223417519017,
           1
          ]
         ]
        }
       ],
       "layout": {
        "coloraxis": {
         "colorbar": {
          "title": {
           "text": "Similarity Score"
          }
         },
         "colorscale": [
          [
           0,
           "rgb(247,252,240)"
          ],
          [
           0.125,
           "rgb(224,243,219)"
          ],
          [
           0.25,
           "rgb(204,235,197)"
          ],
          [
           0.375,
           "rgb(168,221,181)"
          ],
          [
           0.5,
           "rgb(123,204,196)"
          ],
          [
           0.625,
           "rgb(78,179,211)"
          ],
          [
           0.75,
           "rgb(43,140,190)"
          ],
          [
           0.875,
           "rgb(8,104,172)"
          ],
          [
           1,
           "rgb(8,64,129)"
          ]
         ]
        },
        "height": 800,
        "hoverlabel": {
         "bgcolor": "white",
         "font": {
          "family": "Rockwell",
          "size": 16
         }
        },
        "legend": {
         "title": {
          "text": "Trend"
         }
        },
        "margin": {
         "t": 60
        },
        "showlegend": true,
        "template": {
         "data": {
          "bar": [
           {
            "error_x": {
             "color": "#2a3f5f"
            },
            "error_y": {
             "color": "#2a3f5f"
            },
            "marker": {
             "line": {
              "color": "white",
              "width": 0.5
             }
            },
            "type": "bar"
           }
          ],
          "barpolar": [
           {
            "marker": {
             "line": {
              "color": "white",
              "width": 0.5
             }
            },
            "type": "barpolar"
           }
          ],
          "carpet": [
           {
            "aaxis": {
             "endlinecolor": "#2a3f5f",
             "gridcolor": "#C8D4E3",
             "linecolor": "#C8D4E3",
             "minorgridcolor": "#C8D4E3",
             "startlinecolor": "#2a3f5f"
            },
            "baxis": {
             "endlinecolor": "#2a3f5f",
             "gridcolor": "#C8D4E3",
             "linecolor": "#C8D4E3",
             "minorgridcolor": "#C8D4E3",
             "startlinecolor": "#2a3f5f"
            },
            "type": "carpet"
           }
          ],
          "choropleth": [
           {
            "colorbar": {
             "outlinewidth": 0,
             "ticks": ""
            },
            "type": "choropleth"
           }
          ],
          "contour": [
           {
            "colorbar": {
             "outlinewidth": 0,
             "ticks": ""
            },
            "colorscale": [
             [
              0,
              "#0d0887"
             ],
             [
              0.1111111111111111,
              "#46039f"
             ],
             [
              0.2222222222222222,
              "#7201a8"
             ],
             [
              0.3333333333333333,
              "#9c179e"
             ],
             [
              0.4444444444444444,
              "#bd3786"
             ],
             [
              0.5555555555555556,
              "#d8576b"
             ],
             [
              0.6666666666666666,
              "#ed7953"
             ],
             [
              0.7777777777777778,
              "#fb9f3a"
             ],
             [
              0.8888888888888888,
              "#fdca26"
             ],
             [
              1,
              "#f0f921"
             ]
            ],
            "type": "contour"
           }
          ],
          "contourcarpet": [
           {
            "colorbar": {
             "outlinewidth": 0,
             "ticks": ""
            },
            "type": "contourcarpet"
           }
          ],
          "heatmap": [
           {
            "colorbar": {
             "outlinewidth": 0,
             "ticks": ""
            },
            "colorscale": [
             [
              0,
              "#0d0887"
             ],
             [
              0.1111111111111111,
              "#46039f"
             ],
             [
              0.2222222222222222,
              "#7201a8"
             ],
             [
              0.3333333333333333,
              "#9c179e"
             ],
             [
              0.4444444444444444,
              "#bd3786"
             ],
             [
              0.5555555555555556,
              "#d8576b"
             ],
             [
              0.6666666666666666,
              "#ed7953"
             ],
             [
              0.7777777777777778,
              "#fb9f3a"
             ],
             [
              0.8888888888888888,
              "#fdca26"
             ],
             [
              1,
              "#f0f921"
             ]
            ],
            "type": "heatmap"
           }
          ],
          "heatmapgl": [
           {
            "colorbar": {
             "outlinewidth": 0,
             "ticks": ""
            },
            "colorscale": [
             [
              0,
              "#0d0887"
             ],
             [
              0.1111111111111111,
              "#46039f"
             ],
             [
              0.2222222222222222,
              "#7201a8"
             ],
             [
              0.3333333333333333,
              "#9c179e"
             ],
             [
              0.4444444444444444,
              "#bd3786"
             ],
             [
              0.5555555555555556,
              "#d8576b"
             ],
             [
              0.6666666666666666,
              "#ed7953"
             ],
             [
              0.7777777777777778,
              "#fb9f3a"
             ],
             [
              0.8888888888888888,
              "#fdca26"
             ],
             [
              1,
              "#f0f921"
             ]
            ],
            "type": "heatmapgl"
           }
          ],
          "histogram": [
           {
            "marker": {
             "colorbar": {
              "outlinewidth": 0,
              "ticks": ""
             }
            },
            "type": "histogram"
           }
          ],
          "histogram2d": [
           {
            "colorbar": {
             "outlinewidth": 0,
             "ticks": ""
            },
            "colorscale": [
             [
              0,
              "#0d0887"
             ],
             [
              0.1111111111111111,
              "#46039f"
             ],
             [
              0.2222222222222222,
              "#7201a8"
             ],
             [
              0.3333333333333333,
              "#9c179e"
             ],
             [
              0.4444444444444444,
              "#bd3786"
             ],
             [
              0.5555555555555556,
              "#d8576b"
             ],
             [
              0.6666666666666666,
              "#ed7953"
             ],
             [
              0.7777777777777778,
              "#fb9f3a"
             ],
             [
              0.8888888888888888,
              "#fdca26"
             ],
             [
              1,
              "#f0f921"
             ]
            ],
            "type": "histogram2d"
           }
          ],
          "histogram2dcontour": [
           {
            "colorbar": {
             "outlinewidth": 0,
             "ticks": ""
            },
            "colorscale": [
             [
              0,
              "#0d0887"
             ],
             [
              0.1111111111111111,
              "#46039f"
             ],
             [
              0.2222222222222222,
              "#7201a8"
             ],
             [
              0.3333333333333333,
              "#9c179e"
             ],
             [
              0.4444444444444444,
              "#bd3786"
             ],
             [
              0.5555555555555556,
              "#d8576b"
             ],
             [
              0.6666666666666666,
              "#ed7953"
             ],
             [
              0.7777777777777778,
              "#fb9f3a"
             ],
             [
              0.8888888888888888,
              "#fdca26"
             ],
             [
              1,
              "#f0f921"
             ]
            ],
            "type": "histogram2dcontour"
           }
          ],
          "mesh3d": [
           {
            "colorbar": {
             "outlinewidth": 0,
             "ticks": ""
            },
            "type": "mesh3d"
           }
          ],
          "parcoords": [
           {
            "line": {
             "colorbar": {
              "outlinewidth": 0,
              "ticks": ""
             }
            },
            "type": "parcoords"
           }
          ],
          "pie": [
           {
            "automargin": true,
            "type": "pie"
           }
          ],
          "scatter": [
           {
            "marker": {
             "colorbar": {
              "outlinewidth": 0,
              "ticks": ""
             }
            },
            "type": "scatter"
           }
          ],
          "scatter3d": [
           {
            "line": {
             "colorbar": {
              "outlinewidth": 0,
              "ticks": ""
             }
            },
            "marker": {
             "colorbar": {
              "outlinewidth": 0,
              "ticks": ""
             }
            },
            "type": "scatter3d"
           }
          ],
          "scattercarpet": [
           {
            "marker": {
             "colorbar": {
              "outlinewidth": 0,
              "ticks": ""
             }
            },
            "type": "scattercarpet"
           }
          ],
          "scattergeo": [
           {
            "marker": {
             "colorbar": {
              "outlinewidth": 0,
              "ticks": ""
             }
            },
            "type": "scattergeo"
           }
          ],
          "scattergl": [
           {
            "marker": {
             "colorbar": {
              "outlinewidth": 0,
              "ticks": ""
             }
            },
            "type": "scattergl"
           }
          ],
          "scattermapbox": [
           {
            "marker": {
             "colorbar": {
              "outlinewidth": 0,
              "ticks": ""
             }
            },
            "type": "scattermapbox"
           }
          ],
          "scatterpolar": [
           {
            "marker": {
             "colorbar": {
              "outlinewidth": 0,
              "ticks": ""
             }
            },
            "type": "scatterpolar"
           }
          ],
          "scatterpolargl": [
           {
            "marker": {
             "colorbar": {
              "outlinewidth": 0,
              "ticks": ""
             }
            },
            "type": "scatterpolargl"
           }
          ],
          "scatterternary": [
           {
            "marker": {
             "colorbar": {
              "outlinewidth": 0,
              "ticks": ""
             }
            },
            "type": "scatterternary"
           }
          ],
          "surface": [
           {
            "colorbar": {
             "outlinewidth": 0,
             "ticks": ""
            },
            "colorscale": [
             [
              0,
              "#0d0887"
             ],
             [
              0.1111111111111111,
              "#46039f"
             ],
             [
              0.2222222222222222,
              "#7201a8"
             ],
             [
              0.3333333333333333,
              "#9c179e"
             ],
             [
              0.4444444444444444,
              "#bd3786"
             ],
             [
              0.5555555555555556,
              "#d8576b"
             ],
             [
              0.6666666666666666,
              "#ed7953"
             ],
             [
              0.7777777777777778,
              "#fb9f3a"
             ],
             [
              0.8888888888888888,
              "#fdca26"
             ],
             [
              1,
              "#f0f921"
             ]
            ],
            "type": "surface"
           }
          ],
          "table": [
           {
            "cells": {
             "fill": {
              "color": "#EBF0F8"
             },
             "line": {
              "color": "white"
             }
            },
            "header": {
             "fill": {
              "color": "#C8D4E3"
             },
             "line": {
              "color": "white"
             }
            },
            "type": "table"
           }
          ]
         },
         "layout": {
          "annotationdefaults": {
           "arrowcolor": "#2a3f5f",
           "arrowhead": 0,
           "arrowwidth": 1
          },
          "autotypenumbers": "strict",
          "coloraxis": {
           "colorbar": {
            "outlinewidth": 0,
            "ticks": ""
           }
          },
          "colorscale": {
           "diverging": [
            [
             0,
             "#8e0152"
            ],
            [
             0.1,
             "#c51b7d"
            ],
            [
             0.2,
             "#de77ae"
            ],
            [
             0.3,
             "#f1b6da"
            ],
            [
             0.4,
             "#fde0ef"
            ],
            [
             0.5,
             "#f7f7f7"
            ],
            [
             0.6,
             "#e6f5d0"
            ],
            [
             0.7,
             "#b8e186"
            ],
            [
             0.8,
             "#7fbc41"
            ],
            [
             0.9,
             "#4d9221"
            ],
            [
             1,
             "#276419"
            ]
           ],
           "sequential": [
            [
             0,
             "#0d0887"
            ],
            [
             0.1111111111111111,
             "#46039f"
            ],
            [
             0.2222222222222222,
             "#7201a8"
            ],
            [
             0.3333333333333333,
             "#9c179e"
            ],
            [
             0.4444444444444444,
             "#bd3786"
            ],
            [
             0.5555555555555556,
             "#d8576b"
            ],
            [
             0.6666666666666666,
             "#ed7953"
            ],
            [
             0.7777777777777778,
             "#fb9f3a"
            ],
            [
             0.8888888888888888,
             "#fdca26"
            ],
            [
             1,
             "#f0f921"
            ]
           ],
           "sequentialminus": [
            [
             0,
             "#0d0887"
            ],
            [
             0.1111111111111111,
             "#46039f"
            ],
            [
             0.2222222222222222,
             "#7201a8"
            ],
            [
             0.3333333333333333,
             "#9c179e"
            ],
            [
             0.4444444444444444,
             "#bd3786"
            ],
            [
             0.5555555555555556,
             "#d8576b"
            ],
            [
             0.6666666666666666,
             "#ed7953"
            ],
            [
             0.7777777777777778,
             "#fb9f3a"
            ],
            [
             0.8888888888888888,
             "#fdca26"
            ],
            [
             1,
             "#f0f921"
            ]
           ]
          },
          "colorway": [
           "#636efa",
           "#EF553B",
           "#00cc96",
           "#ab63fa",
           "#FFA15A",
           "#19d3f3",
           "#FF6692",
           "#B6E880",
           "#FF97FF",
           "#FECB52"
          ],
          "font": {
           "color": "#2a3f5f"
          },
          "geo": {
           "bgcolor": "white",
           "lakecolor": "white",
           "landcolor": "white",
           "showlakes": true,
           "showland": true,
           "subunitcolor": "#C8D4E3"
          },
          "hoverlabel": {
           "align": "left"
          },
          "hovermode": "closest",
          "mapbox": {
           "style": "light"
          },
          "paper_bgcolor": "white",
          "plot_bgcolor": "white",
          "polar": {
           "angularaxis": {
            "gridcolor": "#EBF0F8",
            "linecolor": "#EBF0F8",
            "ticks": ""
           },
           "bgcolor": "white",
           "radialaxis": {
            "gridcolor": "#EBF0F8",
            "linecolor": "#EBF0F8",
            "ticks": ""
           }
          },
          "scene": {
           "xaxis": {
            "backgroundcolor": "white",
            "gridcolor": "#DFE8F3",
            "gridwidth": 2,
            "linecolor": "#EBF0F8",
            "showbackground": true,
            "ticks": "",
            "zerolinecolor": "#EBF0F8"
           },
           "yaxis": {
            "backgroundcolor": "white",
            "gridcolor": "#DFE8F3",
            "gridwidth": 2,
            "linecolor": "#EBF0F8",
            "showbackground": true,
            "ticks": "",
            "zerolinecolor": "#EBF0F8"
           },
           "zaxis": {
            "backgroundcolor": "white",
            "gridcolor": "#DFE8F3",
            "gridwidth": 2,
            "linecolor": "#EBF0F8",
            "showbackground": true,
            "ticks": "",
            "zerolinecolor": "#EBF0F8"
           }
          },
          "shapedefaults": {
           "line": {
            "color": "#2a3f5f"
           }
          },
          "ternary": {
           "aaxis": {
            "gridcolor": "#DFE8F3",
            "linecolor": "#A2B1C6",
            "ticks": ""
           },
           "baxis": {
            "gridcolor": "#DFE8F3",
            "linecolor": "#A2B1C6",
            "ticks": ""
           },
           "bgcolor": "white",
           "caxis": {
            "gridcolor": "#DFE8F3",
            "linecolor": "#A2B1C6",
            "ticks": ""
           }
          },
          "title": {
           "x": 0.05
          },
          "xaxis": {
           "automargin": true,
           "gridcolor": "#EBF0F8",
           "linecolor": "#EBF0F8",
           "ticks": "",
           "title": {
            "standoff": 15
           },
           "zerolinecolor": "#EBF0F8",
           "zerolinewidth": 2
          },
          "yaxis": {
           "automargin": true,
           "gridcolor": "#EBF0F8",
           "linecolor": "#EBF0F8",
           "ticks": "",
           "title": {
            "standoff": 15
           },
           "zerolinecolor": "#EBF0F8",
           "zerolinewidth": 2
          }
         }
        },
        "title": {
         "font": {
          "color": "Black",
          "size": 22
         },
         "text": "",
         "x": 0.55,
         "xanchor": "center",
         "y": 0.95,
         "yanchor": "top"
        },
        "width": 800,
        "xaxis": {
         "anchor": "y",
         "constrain": "domain",
         "domain": [
          0,
          1
         ],
         "scaleanchor": "y"
        },
        "yaxis": {
         "anchor": "x",
         "autorange": "reversed",
         "constrain": "domain",
         "domain": [
          0,
          1
         ]
        }
       }
      }
     },
     "metadata": {},
     "output_type": "display_data"
    }
   ],
   "source": [
    "fig = model.visualize_heatmap(title='')\n",
    "py.plot(fig, filename='Similarity matrix', auto_open=False)\n",
    "fig"
   ]
  },
  {
   "attachments": {},
   "cell_type": "markdown",
   "metadata": {},
   "source": [
    "Topic hierarchy"
   ]
  },
  {
   "cell_type": "code",
   "execution_count": 33,
   "metadata": {},
   "outputs": [
    {
     "data": {
      "application/vnd.plotly.v1+json": {
       "config": {
        "plotlyServerURL": "https://plotly.com"
       },
       "data": [
        {
         "hoverinfo": "text",
         "marker": {
          "color": "rgb(0,116,217)"
         },
         "mode": "lines",
         "type": "scatter",
         "x": [
          0,
          1.1878012863220915,
          1.1878012863220915,
          0
         ],
         "xaxis": "x",
         "y": [
          -15,
          -15,
          -25,
          -25
         ],
         "yaxis": "y"
        },
        {
         "hoverinfo": "text",
         "marker": {
          "color": "rgb(0,116,217)"
         },
         "mode": "lines",
         "type": "scatter",
         "x": [
          0,
          1.082852757176758,
          1.082852757176758,
          0
         ],
         "xaxis": "x",
         "y": [
          -35,
          -35,
          -45,
          -45
         ],
         "yaxis": "y"
        },
        {
         "hoverinfo": "text",
         "marker": {
          "color": "rgb(0,116,217)"
         },
         "mode": "lines",
         "type": "scatter",
         "x": [
          1.1878012863220915,
          1.2322654533785768,
          1.2322654533785768,
          1.082852757176758
         ],
         "xaxis": "x",
         "y": [
          -20,
          -20,
          -40,
          -40
         ],
         "yaxis": "y"
        },
        {
         "hoverinfo": "text",
         "marker": {
          "color": "rgb(0,116,217)"
         },
         "mode": "lines",
         "type": "scatter",
         "x": [
          0,
          1.3011053668898762,
          1.3011053668898762,
          1.2322654533785768
         ],
         "xaxis": "x",
         "y": [
          -5,
          -5,
          -30,
          -30
         ],
         "yaxis": "y"
        },
        {
         "hoverinfo": "text",
         "marker": {
          "color": "rgb(0,116,217)"
         },
         "mode": "lines",
         "type": "scatter",
         "x": [
          0,
          1.2252454149462402,
          1.2252454149462402,
          0
         ],
         "xaxis": "x",
         "y": [
          -55,
          -55,
          -65,
          -65
         ],
         "yaxis": "y"
        },
        {
         "hoverinfo": "text",
         "marker": {
          "color": "rgb(0,116,217)"
         },
         "mode": "lines",
         "type": "scatter",
         "x": [
          1.3011053668898762,
          1.4306382141478557,
          1.4306382141478557,
          1.2252454149462402
         ],
         "xaxis": "x",
         "y": [
          -17.5,
          -17.5,
          -60,
          -60
         ],
         "yaxis": "y"
        },
        {
         "hoverinfo": "text",
         "marker": {
          "color": "rgb(0,116,217)"
         },
         "mode": "lines",
         "type": "scatter",
         "x": [
          0,
          1.1246666891987196,
          1.1246666891987196,
          0
         ],
         "xaxis": "x",
         "y": [
          -75,
          -75,
          -85,
          -85
         ],
         "yaxis": "y"
        },
        {
         "hoverinfo": "text",
         "marker": {
          "color": "rgb(0,116,217)"
         },
         "mode": "lines",
         "type": "scatter",
         "x": [
          0,
          1.1120611171447141,
          1.1120611171447141,
          0
         ],
         "xaxis": "x",
         "y": [
          -95,
          -95,
          -105,
          -105
         ],
         "yaxis": "y"
        },
        {
         "hoverinfo": "text",
         "marker": {
          "color": "rgb(0,116,217)"
         },
         "mode": "lines",
         "type": "scatter",
         "x": [
          1.1246666891987196,
          1.3632889041093175,
          1.3632889041093175,
          1.1120611171447141
         ],
         "xaxis": "x",
         "y": [
          -80,
          -80,
          -100,
          -100
         ],
         "yaxis": "y"
        },
        {
         "hoverinfo": "text",
         "marker": {
          "color": "rgb(0,116,217)"
         },
         "mode": "lines",
         "type": "scatter",
         "x": [
          0,
          1.2894169686031378,
          1.2894169686031378,
          0
         ],
         "xaxis": "x",
         "y": [
          -125,
          -125,
          -135,
          -135
         ],
         "yaxis": "y"
        },
        {
         "hoverinfo": "text",
         "marker": {
          "color": "rgb(0,116,217)"
         },
         "mode": "lines",
         "type": "scatter",
         "x": [
          0,
          1.3610053797421713,
          1.3610053797421713,
          1.2894169686031378
         ],
         "xaxis": "x",
         "y": [
          -115,
          -115,
          -130,
          -130
         ],
         "yaxis": "y"
        },
        {
         "hoverinfo": "text",
         "marker": {
          "color": "rgb(0,116,217)"
         },
         "mode": "lines",
         "type": "scatter",
         "x": [
          1.3632889041093175,
          1.41574104207731,
          1.41574104207731,
          1.3610053797421713
         ],
         "xaxis": "x",
         "y": [
          -90,
          -90,
          -122.5,
          -122.5
         ],
         "yaxis": "y"
        },
        {
         "hoverinfo": "text",
         "marker": {
          "color": "rgb(0,116,217)"
         },
         "mode": "lines",
         "type": "scatter",
         "x": [
          1.4306382141478557,
          1.6226489869129082,
          1.6226489869129082,
          1.41574104207731
         ],
         "xaxis": "x",
         "y": [
          -38.75,
          -38.75,
          -106.25,
          -106.25
         ],
         "yaxis": "y"
        },
        {
         "hoverinfo": "text",
         "marker": {
          "color": "rgb(0,116,217)"
         },
         "mode": "lines",
         "type": "scatter",
         "x": [
          0,
          1.1984140042813547,
          1.1984140042813547,
          0
         ],
         "xaxis": "x",
         "y": [
          -155,
          -155,
          -165,
          -165
         ],
         "yaxis": "y"
        },
        {
         "hoverinfo": "text",
         "marker": {
          "color": "rgb(0,116,217)"
         },
         "mode": "lines",
         "type": "scatter",
         "x": [
          0,
          1.242241245958305,
          1.242241245958305,
          1.1984140042813547
         ],
         "xaxis": "x",
         "y": [
          -145,
          -145,
          -160,
          -160
         ],
         "yaxis": "y"
        },
        {
         "hoverinfo": "text",
         "marker": {
          "color": "rgb(0,116,217)"
         },
         "mode": "lines",
         "type": "scatter",
         "x": [
          0,
          1.4156498031124916,
          1.4156498031124916,
          0
         ],
         "xaxis": "x",
         "y": [
          -175,
          -175,
          -185,
          -185
         ],
         "yaxis": "y"
        },
        {
         "hoverinfo": "text",
         "marker": {
          "color": "rgb(0,116,217)"
         },
         "mode": "lines",
         "type": "scatter",
         "x": [
          0,
          1.3483898274258046,
          1.3483898274258046,
          0
         ],
         "xaxis": "x",
         "y": [
          -205,
          -205,
          -215,
          -215
         ],
         "yaxis": "y"
        },
        {
         "hoverinfo": "text",
         "marker": {
          "color": "rgb(0,116,217)"
         },
         "mode": "lines",
         "type": "scatter",
         "x": [
          0,
          1.3714004967627649,
          1.3714004967627649,
          1.3483898274258046
         ],
         "xaxis": "x",
         "y": [
          -195,
          -195,
          -210,
          -210
         ],
         "yaxis": "y"
        },
        {
         "hoverinfo": "text",
         "marker": {
          "color": "rgb(0,116,217)"
         },
         "mode": "lines",
         "type": "scatter",
         "x": [
          1.4156498031124916,
          1.4562872911441669,
          1.4562872911441669,
          1.3714004967627649
         ],
         "xaxis": "x",
         "y": [
          -180,
          -180,
          -202.5,
          -202.5
         ],
         "yaxis": "y"
        },
        {
         "hoverinfo": "text",
         "marker": {
          "color": "rgb(0,116,217)"
         },
         "mode": "lines",
         "type": "scatter",
         "x": [
          0,
          1.206812912094833,
          1.206812912094833,
          0
         ],
         "xaxis": "x",
         "y": [
          -225,
          -225,
          -235,
          -235
         ],
         "yaxis": "y"
        },
        {
         "hoverinfo": "text",
         "marker": {
          "color": "rgb(0,116,217)"
         },
         "mode": "lines",
         "type": "scatter",
         "x": [
          1.4562872911441669,
          1.537088080856825,
          1.537088080856825,
          1.206812912094833
         ],
         "xaxis": "x",
         "y": [
          -191.25,
          -191.25,
          -230,
          -230
         ],
         "yaxis": "y"
        },
        {
         "hoverinfo": "text",
         "marker": {
          "color": "rgb(0,116,217)"
         },
         "mode": "lines",
         "type": "scatter",
         "x": [
          0,
          1.279047606175027,
          1.279047606175027,
          0
         ],
         "xaxis": "x",
         "y": [
          -255,
          -255,
          -265,
          -265
         ],
         "yaxis": "y"
        },
        {
         "hoverinfo": "text",
         "marker": {
          "color": "rgb(0,116,217)"
         },
         "mode": "lines",
         "type": "scatter",
         "x": [
          0,
          1.4160451831661722,
          1.4160451831661722,
          1.279047606175027
         ],
         "xaxis": "x",
         "y": [
          -245,
          -245,
          -260,
          -260
         ],
         "yaxis": "y"
        },
        {
         "hoverinfo": "text",
         "marker": {
          "color": "rgb(0,116,217)"
         },
         "mode": "lines",
         "type": "scatter",
         "x": [
          0,
          1.302830609304704,
          1.302830609304704,
          0
         ],
         "xaxis": "x",
         "y": [
          -275,
          -275,
          -285,
          -285
         ],
         "yaxis": "y"
        },
        {
         "hoverinfo": "text",
         "marker": {
          "color": "rgb(0,116,217)"
         },
         "mode": "lines",
         "type": "scatter",
         "x": [
          0,
          1.315906089676504,
          1.315906089676504,
          0
         ],
         "xaxis": "x",
         "y": [
          -295,
          -295,
          -305,
          -305
         ],
         "yaxis": "y"
        },
        {
         "hoverinfo": "text",
         "marker": {
          "color": "rgb(0,116,217)"
         },
         "mode": "lines",
         "type": "scatter",
         "x": [
          1.315906089676504,
          1.354660512473947,
          1.354660512473947,
          0
         ],
         "xaxis": "x",
         "y": [
          -300,
          -300,
          -315,
          -315
         ],
         "yaxis": "y"
        },
        {
         "hoverinfo": "text",
         "marker": {
          "color": "rgb(0,116,217)"
         },
         "mode": "lines",
         "type": "scatter",
         "x": [
          1.302830609304704,
          1.3840356609448914,
          1.3840356609448914,
          1.354660512473947
         ],
         "xaxis": "x",
         "y": [
          -280,
          -280,
          -307.5,
          -307.5
         ],
         "yaxis": "y"
        },
        {
         "hoverinfo": "text",
         "marker": {
          "color": "rgb(0,116,217)"
         },
         "mode": "lines",
         "type": "scatter",
         "x": [
          0,
          1.3917110133847765,
          1.3917110133847765,
          0
         ],
         "xaxis": "x",
         "y": [
          -325,
          -325,
          -335,
          -335
         ],
         "yaxis": "y"
        },
        {
         "hoverinfo": "text",
         "marker": {
          "color": "rgb(0,116,217)"
         },
         "mode": "lines",
         "type": "scatter",
         "x": [
          1.3840356609448914,
          1.4243319046590588,
          1.4243319046590588,
          1.3917110133847765
         ],
         "xaxis": "x",
         "y": [
          -293.75,
          -293.75,
          -330,
          -330
         ],
         "yaxis": "y"
        },
        {
         "hoverinfo": "text",
         "marker": {
          "color": "rgb(0,116,217)"
         },
         "mode": "lines",
         "type": "scatter",
         "x": [
          1.4160451831661722,
          1.4969590793340788,
          1.4969590793340788,
          1.4243319046590588
         ],
         "xaxis": "x",
         "y": [
          -252.5,
          -252.5,
          -311.875,
          -311.875
         ],
         "yaxis": "y"
        },
        {
         "hoverinfo": "text",
         "marker": {
          "color": "rgb(0,116,217)"
         },
         "mode": "lines",
         "type": "scatter",
         "x": [
          0,
          1.2865572646574088,
          1.2865572646574088,
          0
         ],
         "xaxis": "x",
         "y": [
          -345,
          -345,
          -355,
          -355
         ],
         "yaxis": "y"
        },
        {
         "hoverinfo": "text",
         "marker": {
          "color": "rgb(0,116,217)"
         },
         "mode": "lines",
         "type": "scatter",
         "x": [
          1.2865572646574088,
          1.3525109899918113,
          1.3525109899918113,
          0
         ],
         "xaxis": "x",
         "y": [
          -350,
          -350,
          -365,
          -365
         ],
         "yaxis": "y"
        },
        {
         "hoverinfo": "text",
         "marker": {
          "color": "rgb(0,116,217)"
         },
         "mode": "lines",
         "type": "scatter",
         "x": [
          1.4969590793340788,
          1.5474692329253836,
          1.5474692329253836,
          1.3525109899918113
         ],
         "xaxis": "x",
         "y": [
          -282.1875,
          -282.1875,
          -357.5,
          -357.5
         ],
         "yaxis": "y"
        },
        {
         "hoverinfo": "text",
         "marker": {
          "color": "rgb(0,116,217)"
         },
         "mode": "lines",
         "type": "scatter",
         "x": [
          1.537088080856825,
          1.5781027229966016,
          1.5781027229966016,
          1.5474692329253836
         ],
         "xaxis": "x",
         "y": [
          -210.625,
          -210.625,
          -319.84375,
          -319.84375
         ],
         "yaxis": "y"
        },
        {
         "hoverinfo": "text",
         "marker": {
          "color": "rgb(0,116,217)"
         },
         "mode": "lines",
         "type": "scatter",
         "x": [
          0,
          1.1919109984097767,
          1.1919109984097767,
          0
         ],
         "xaxis": "x",
         "y": [
          -375,
          -375,
          -385,
          -385
         ],
         "yaxis": "y"
        },
        {
         "hoverinfo": "text",
         "marker": {
          "color": "rgb(0,116,217)"
         },
         "mode": "lines",
         "type": "scatter",
         "x": [
          1.5781027229966016,
          1.6143955080474612,
          1.6143955080474612,
          1.1919109984097767
         ],
         "xaxis": "x",
         "y": [
          -265.234375,
          -265.234375,
          -380,
          -380
         ],
         "yaxis": "y"
        },
        {
         "hoverinfo": "text",
         "marker": {
          "color": "rgb(0,116,217)"
         },
         "mode": "lines",
         "type": "scatter",
         "x": [
          1.242241245958305,
          1.6883970259268692,
          1.6883970259268692,
          1.6143955080474612
         ],
         "xaxis": "x",
         "y": [
          -152.5,
          -152.5,
          -322.6171875,
          -322.6171875
         ],
         "yaxis": "y"
        },
        {
         "hoverinfo": "text",
         "marker": {
          "color": "rgb(0,116,217)"
         },
         "mode": "lines",
         "type": "scatter",
         "x": [
          1.6226489869129082,
          1.9950309420034291,
          1.9950309420034291,
          1.6883970259268692
         ],
         "xaxis": "x",
         "y": [
          -72.5,
          -72.5,
          -237.55859375,
          -237.55859375
         ],
         "yaxis": "y"
        }
       ],
       "layout": {
        "autosize": false,
        "height": 785,
        "hoverlabel": {
         "bgcolor": "white",
         "font": {
          "family": "Rockwell",
          "size": 16
         }
        },
        "hovermode": "closest",
        "plot_bgcolor": "#ECEFF1",
        "showlegend": false,
        "template": {
         "data": {
          "bar": [
           {
            "error_x": {
             "color": "#2a3f5f"
            },
            "error_y": {
             "color": "#2a3f5f"
            },
            "marker": {
             "line": {
              "color": "white",
              "width": 0.5
             }
            },
            "type": "bar"
           }
          ],
          "barpolar": [
           {
            "marker": {
             "line": {
              "color": "white",
              "width": 0.5
             }
            },
            "type": "barpolar"
           }
          ],
          "carpet": [
           {
            "aaxis": {
             "endlinecolor": "#2a3f5f",
             "gridcolor": "#C8D4E3",
             "linecolor": "#C8D4E3",
             "minorgridcolor": "#C8D4E3",
             "startlinecolor": "#2a3f5f"
            },
            "baxis": {
             "endlinecolor": "#2a3f5f",
             "gridcolor": "#C8D4E3",
             "linecolor": "#C8D4E3",
             "minorgridcolor": "#C8D4E3",
             "startlinecolor": "#2a3f5f"
            },
            "type": "carpet"
           }
          ],
          "choropleth": [
           {
            "colorbar": {
             "outlinewidth": 0,
             "ticks": ""
            },
            "type": "choropleth"
           }
          ],
          "contour": [
           {
            "colorbar": {
             "outlinewidth": 0,
             "ticks": ""
            },
            "colorscale": [
             [
              0,
              "#0d0887"
             ],
             [
              0.1111111111111111,
              "#46039f"
             ],
             [
              0.2222222222222222,
              "#7201a8"
             ],
             [
              0.3333333333333333,
              "#9c179e"
             ],
             [
              0.4444444444444444,
              "#bd3786"
             ],
             [
              0.5555555555555556,
              "#d8576b"
             ],
             [
              0.6666666666666666,
              "#ed7953"
             ],
             [
              0.7777777777777778,
              "#fb9f3a"
             ],
             [
              0.8888888888888888,
              "#fdca26"
             ],
             [
              1,
              "#f0f921"
             ]
            ],
            "type": "contour"
           }
          ],
          "contourcarpet": [
           {
            "colorbar": {
             "outlinewidth": 0,
             "ticks": ""
            },
            "type": "contourcarpet"
           }
          ],
          "heatmap": [
           {
            "colorbar": {
             "outlinewidth": 0,
             "ticks": ""
            },
            "colorscale": [
             [
              0,
              "#0d0887"
             ],
             [
              0.1111111111111111,
              "#46039f"
             ],
             [
              0.2222222222222222,
              "#7201a8"
             ],
             [
              0.3333333333333333,
              "#9c179e"
             ],
             [
              0.4444444444444444,
              "#bd3786"
             ],
             [
              0.5555555555555556,
              "#d8576b"
             ],
             [
              0.6666666666666666,
              "#ed7953"
             ],
             [
              0.7777777777777778,
              "#fb9f3a"
             ],
             [
              0.8888888888888888,
              "#fdca26"
             ],
             [
              1,
              "#f0f921"
             ]
            ],
            "type": "heatmap"
           }
          ],
          "heatmapgl": [
           {
            "colorbar": {
             "outlinewidth": 0,
             "ticks": ""
            },
            "colorscale": [
             [
              0,
              "#0d0887"
             ],
             [
              0.1111111111111111,
              "#46039f"
             ],
             [
              0.2222222222222222,
              "#7201a8"
             ],
             [
              0.3333333333333333,
              "#9c179e"
             ],
             [
              0.4444444444444444,
              "#bd3786"
             ],
             [
              0.5555555555555556,
              "#d8576b"
             ],
             [
              0.6666666666666666,
              "#ed7953"
             ],
             [
              0.7777777777777778,
              "#fb9f3a"
             ],
             [
              0.8888888888888888,
              "#fdca26"
             ],
             [
              1,
              "#f0f921"
             ]
            ],
            "type": "heatmapgl"
           }
          ],
          "histogram": [
           {
            "marker": {
             "colorbar": {
              "outlinewidth": 0,
              "ticks": ""
             }
            },
            "type": "histogram"
           }
          ],
          "histogram2d": [
           {
            "colorbar": {
             "outlinewidth": 0,
             "ticks": ""
            },
            "colorscale": [
             [
              0,
              "#0d0887"
             ],
             [
              0.1111111111111111,
              "#46039f"
             ],
             [
              0.2222222222222222,
              "#7201a8"
             ],
             [
              0.3333333333333333,
              "#9c179e"
             ],
             [
              0.4444444444444444,
              "#bd3786"
             ],
             [
              0.5555555555555556,
              "#d8576b"
             ],
             [
              0.6666666666666666,
              "#ed7953"
             ],
             [
              0.7777777777777778,
              "#fb9f3a"
             ],
             [
              0.8888888888888888,
              "#fdca26"
             ],
             [
              1,
              "#f0f921"
             ]
            ],
            "type": "histogram2d"
           }
          ],
          "histogram2dcontour": [
           {
            "colorbar": {
             "outlinewidth": 0,
             "ticks": ""
            },
            "colorscale": [
             [
              0,
              "#0d0887"
             ],
             [
              0.1111111111111111,
              "#46039f"
             ],
             [
              0.2222222222222222,
              "#7201a8"
             ],
             [
              0.3333333333333333,
              "#9c179e"
             ],
             [
              0.4444444444444444,
              "#bd3786"
             ],
             [
              0.5555555555555556,
              "#d8576b"
             ],
             [
              0.6666666666666666,
              "#ed7953"
             ],
             [
              0.7777777777777778,
              "#fb9f3a"
             ],
             [
              0.8888888888888888,
              "#fdca26"
             ],
             [
              1,
              "#f0f921"
             ]
            ],
            "type": "histogram2dcontour"
           }
          ],
          "mesh3d": [
           {
            "colorbar": {
             "outlinewidth": 0,
             "ticks": ""
            },
            "type": "mesh3d"
           }
          ],
          "parcoords": [
           {
            "line": {
             "colorbar": {
              "outlinewidth": 0,
              "ticks": ""
             }
            },
            "type": "parcoords"
           }
          ],
          "pie": [
           {
            "automargin": true,
            "type": "pie"
           }
          ],
          "scatter": [
           {
            "marker": {
             "colorbar": {
              "outlinewidth": 0,
              "ticks": ""
             }
            },
            "type": "scatter"
           }
          ],
          "scatter3d": [
           {
            "line": {
             "colorbar": {
              "outlinewidth": 0,
              "ticks": ""
             }
            },
            "marker": {
             "colorbar": {
              "outlinewidth": 0,
              "ticks": ""
             }
            },
            "type": "scatter3d"
           }
          ],
          "scattercarpet": [
           {
            "marker": {
             "colorbar": {
              "outlinewidth": 0,
              "ticks": ""
             }
            },
            "type": "scattercarpet"
           }
          ],
          "scattergeo": [
           {
            "marker": {
             "colorbar": {
              "outlinewidth": 0,
              "ticks": ""
             }
            },
            "type": "scattergeo"
           }
          ],
          "scattergl": [
           {
            "marker": {
             "colorbar": {
              "outlinewidth": 0,
              "ticks": ""
             }
            },
            "type": "scattergl"
           }
          ],
          "scattermapbox": [
           {
            "marker": {
             "colorbar": {
              "outlinewidth": 0,
              "ticks": ""
             }
            },
            "type": "scattermapbox"
           }
          ],
          "scatterpolar": [
           {
            "marker": {
             "colorbar": {
              "outlinewidth": 0,
              "ticks": ""
             }
            },
            "type": "scatterpolar"
           }
          ],
          "scatterpolargl": [
           {
            "marker": {
             "colorbar": {
              "outlinewidth": 0,
              "ticks": ""
             }
            },
            "type": "scatterpolargl"
           }
          ],
          "scatterternary": [
           {
            "marker": {
             "colorbar": {
              "outlinewidth": 0,
              "ticks": ""
             }
            },
            "type": "scatterternary"
           }
          ],
          "surface": [
           {
            "colorbar": {
             "outlinewidth": 0,
             "ticks": ""
            },
            "colorscale": [
             [
              0,
              "#0d0887"
             ],
             [
              0.1111111111111111,
              "#46039f"
             ],
             [
              0.2222222222222222,
              "#7201a8"
             ],
             [
              0.3333333333333333,
              "#9c179e"
             ],
             [
              0.4444444444444444,
              "#bd3786"
             ],
             [
              0.5555555555555556,
              "#d8576b"
             ],
             [
              0.6666666666666666,
              "#ed7953"
             ],
             [
              0.7777777777777778,
              "#fb9f3a"
             ],
             [
              0.8888888888888888,
              "#fdca26"
             ],
             [
              1,
              "#f0f921"
             ]
            ],
            "type": "surface"
           }
          ],
          "table": [
           {
            "cells": {
             "fill": {
              "color": "#EBF0F8"
             },
             "line": {
              "color": "white"
             }
            },
            "header": {
             "fill": {
              "color": "#C8D4E3"
             },
             "line": {
              "color": "white"
             }
            },
            "type": "table"
           }
          ]
         },
         "layout": {
          "annotationdefaults": {
           "arrowcolor": "#2a3f5f",
           "arrowhead": 0,
           "arrowwidth": 1
          },
          "autotypenumbers": "strict",
          "coloraxis": {
           "colorbar": {
            "outlinewidth": 0,
            "ticks": ""
           }
          },
          "colorscale": {
           "diverging": [
            [
             0,
             "#8e0152"
            ],
            [
             0.1,
             "#c51b7d"
            ],
            [
             0.2,
             "#de77ae"
            ],
            [
             0.3,
             "#f1b6da"
            ],
            [
             0.4,
             "#fde0ef"
            ],
            [
             0.5,
             "#f7f7f7"
            ],
            [
             0.6,
             "#e6f5d0"
            ],
            [
             0.7,
             "#b8e186"
            ],
            [
             0.8,
             "#7fbc41"
            ],
            [
             0.9,
             "#4d9221"
            ],
            [
             1,
             "#276419"
            ]
           ],
           "sequential": [
            [
             0,
             "#0d0887"
            ],
            [
             0.1111111111111111,
             "#46039f"
            ],
            [
             0.2222222222222222,
             "#7201a8"
            ],
            [
             0.3333333333333333,
             "#9c179e"
            ],
            [
             0.4444444444444444,
             "#bd3786"
            ],
            [
             0.5555555555555556,
             "#d8576b"
            ],
            [
             0.6666666666666666,
             "#ed7953"
            ],
            [
             0.7777777777777778,
             "#fb9f3a"
            ],
            [
             0.8888888888888888,
             "#fdca26"
            ],
            [
             1,
             "#f0f921"
            ]
           ],
           "sequentialminus": [
            [
             0,
             "#0d0887"
            ],
            [
             0.1111111111111111,
             "#46039f"
            ],
            [
             0.2222222222222222,
             "#7201a8"
            ],
            [
             0.3333333333333333,
             "#9c179e"
            ],
            [
             0.4444444444444444,
             "#bd3786"
            ],
            [
             0.5555555555555556,
             "#d8576b"
            ],
            [
             0.6666666666666666,
             "#ed7953"
            ],
            [
             0.7777777777777778,
             "#fb9f3a"
            ],
            [
             0.8888888888888888,
             "#fdca26"
            ],
            [
             1,
             "#f0f921"
            ]
           ]
          },
          "colorway": [
           "#636efa",
           "#EF553B",
           "#00cc96",
           "#ab63fa",
           "#FFA15A",
           "#19d3f3",
           "#FF6692",
           "#B6E880",
           "#FF97FF",
           "#FECB52"
          ],
          "font": {
           "color": "#2a3f5f"
          },
          "geo": {
           "bgcolor": "white",
           "lakecolor": "white",
           "landcolor": "white",
           "showlakes": true,
           "showland": true,
           "subunitcolor": "#C8D4E3"
          },
          "hoverlabel": {
           "align": "left"
          },
          "hovermode": "closest",
          "mapbox": {
           "style": "light"
          },
          "paper_bgcolor": "white",
          "plot_bgcolor": "white",
          "polar": {
           "angularaxis": {
            "gridcolor": "#EBF0F8",
            "linecolor": "#EBF0F8",
            "ticks": ""
           },
           "bgcolor": "white",
           "radialaxis": {
            "gridcolor": "#EBF0F8",
            "linecolor": "#EBF0F8",
            "ticks": ""
           }
          },
          "scene": {
           "xaxis": {
            "backgroundcolor": "white",
            "gridcolor": "#DFE8F3",
            "gridwidth": 2,
            "linecolor": "#EBF0F8",
            "showbackground": true,
            "ticks": "",
            "zerolinecolor": "#EBF0F8"
           },
           "yaxis": {
            "backgroundcolor": "white",
            "gridcolor": "#DFE8F3",
            "gridwidth": 2,
            "linecolor": "#EBF0F8",
            "showbackground": true,
            "ticks": "",
            "zerolinecolor": "#EBF0F8"
           },
           "zaxis": {
            "backgroundcolor": "white",
            "gridcolor": "#DFE8F3",
            "gridwidth": 2,
            "linecolor": "#EBF0F8",
            "showbackground": true,
            "ticks": "",
            "zerolinecolor": "#EBF0F8"
           }
          },
          "shapedefaults": {
           "line": {
            "color": "#2a3f5f"
           }
          },
          "ternary": {
           "aaxis": {
            "gridcolor": "#DFE8F3",
            "linecolor": "#A2B1C6",
            "ticks": ""
           },
           "baxis": {
            "gridcolor": "#DFE8F3",
            "linecolor": "#A2B1C6",
            "ticks": ""
           },
           "bgcolor": "white",
           "caxis": {
            "gridcolor": "#DFE8F3",
            "linecolor": "#A2B1C6",
            "ticks": ""
           }
          },
          "title": {
           "x": 0.05
          },
          "xaxis": {
           "automargin": true,
           "gridcolor": "#EBF0F8",
           "linecolor": "#EBF0F8",
           "ticks": "",
           "title": {
            "standoff": 15
           },
           "zerolinecolor": "#EBF0F8",
           "zerolinewidth": 2
          },
          "yaxis": {
           "automargin": true,
           "gridcolor": "#EBF0F8",
           "linecolor": "#EBF0F8",
           "ticks": "",
           "title": {
            "standoff": 15
           },
           "zerolinecolor": "#EBF0F8",
           "zerolinewidth": 2
          }
         }
        },
        "title": {
         "font": {
          "color": "Black",
          "size": 22
         },
         "text": "",
         "x": 0.5,
         "xanchor": "center",
         "yanchor": "top"
        },
        "width": 1000,
        "xaxis": {
         "mirror": "allticks",
         "rangemode": "tozero",
         "showgrid": false,
         "showline": true,
         "showticklabels": true,
         "ticks": "outside",
         "type": "linear",
         "zeroline": false
        },
        "yaxis": {
         "mirror": "allticks",
         "range": [
          -390,
          0
         ],
         "rangemode": "tozero",
         "showgrid": false,
         "showline": true,
         "showticklabels": true,
         "tickmode": "array",
         "ticks": "outside",
         "ticktext": [
          "27_foundation_deadline_59",
          "5_jam_game_as",
          "10_data_kita_sql",
          "6_kelas_lecture_pre",
          "8_link_ini_google",
          "9_absen_gak_lupa",
          "30_python_p2p_phase",
          "4_aku_lg_jg",
          "3_menti_leave_yg",
          "14_jal_kak_jalita",
          "13_kajal_kak_ichsan",
          "16_ale_freak_ih",
          "26_kasih_teman_semangat",
          "18_kalian_si_angkatan",
          "19_wkwkkwkw_wkwkwkwkwk_wkwk...",
          "12_wkwkwkwk_kwkwkwkw_wkwkkw...",
          "0_wkwkwk_wkwkw_wkwkkw",
          "17_hahahha_hahahaha_hahaha",
          "25_iyaa_yuhuuu_yezzzzz",
          "38_duit_gaji_pengen",
          "1_brandon_tumben_kokk",
          "31_makan_enak_akhirny",
          "22_udh_gua_sumit",
          "36_gua_lu_sini",
          "37_gasss_gas_panas2in",
          "21_discord_habis_kelas",
          "28_bisa_banyak_ekkekw",
          "29_lagii_advance_adaptasi",
          "33_tl_simulation_27",
          "15_team_tim_lead",
          "20_apa_masuknya_apantu",
          "24_kek_keknya_tiap",
          "34_laptop_desktop_internet",
          "35_tidur_malam_goodnight",
          "23_happy_birthday_tahun",
          "2_thank_you_congrats",
          "11_alex_mirza_aris",
          "7_keren_ok_hebat",
          "32_oke_up_ok"
         ],
         "tickvals": [
          -5,
          -15,
          -25,
          -35,
          -45,
          -55,
          -65,
          -75,
          -85,
          -95,
          -105,
          -115,
          -125,
          -135,
          -145,
          -155,
          -165,
          -175,
          -185,
          -195,
          -205,
          -215,
          -225,
          -235,
          -245,
          -255,
          -265,
          -275,
          -285,
          -295,
          -305,
          -315,
          -325,
          -335,
          -345,
          -355,
          -365,
          -375,
          -385
         ],
         "type": "linear",
         "zeroline": false
        }
       }
      }
     },
     "metadata": {},
     "output_type": "display_data"
    }
   ],
   "source": [
    "fig = model.visualize_hierarchy(title='')\n",
    "py.plot(fig, filename='Topic hierarchy', auto_open=False)\n",
    "fig"
   ]
  },
  {
   "attachments": {},
   "cell_type": "markdown",
   "metadata": {},
   "source": [
    "Term score decline"
   ]
  },
  {
   "cell_type": "code",
   "execution_count": 34,
   "metadata": {},
   "outputs": [
    {
     "data": {
      "application/vnd.plotly.v1+json": {
       "config": {
        "plotlyServerURL": "https://plotly.com"
       },
       "data": [
        {
         "hovertext": "<b>Topic -1</b>:kak_ya_di_aku_yg_ga_ada_yang_mau_a",
         "line": {
          "color": "black",
          "width": 1.5
         },
         "mode": "lines+lines",
         "name": "",
         "opacity": 0.1,
         "type": "scatter",
         "x": [
          1,
          2,
          3,
          4,
          5,
          6,
          7,
          8,
          9,
          10
         ],
         "y": [
          0.018715245728415222,
          0.016775575222835536,
          0.015846652321905515,
          0.015833211044076836,
          0.014465010937728309,
          0.014301468828391378,
          0.013559803304440477,
          0.013459704614278959,
          0.013349305448815019,
          0.012399459952983806
         ]
        },
        {
         "hovertext": "<b>Topic 0</b>:wkwkwk_wkwkw_wkwkkw_wkkwkwk_wkwkwkk",
         "line": {
          "color": "black",
          "width": 1.5
         },
         "mode": "lines+lines",
         "name": "",
         "opacity": 0.1,
         "type": "scatter",
         "x": [
          1,
          2,
          3,
          4,
          5,
          6,
          7,
          8,
          9,
          10
         ],
         "y": [
          0.11134364507633468,
          0.07356858385488606,
          0.07187464486638097,
          0.06044562701888627,
          0.05727813993808254,
          0.04840865214902152,
          0.04757183227919449,
          0.043911230452483185,
          0.03841573476262217,
          0.035172369868323096
         ]
        },
        {
         "hovertext": "<b>Topic 1</b>:brandon_tumben_kokk_gais_hoki_maap_",
         "line": {
          "color": "black",
          "width": 1.5
         },
         "mode": "lines+lines",
         "name": "",
         "opacity": 0.1,
         "type": "scatter",
         "x": [
          1,
          2,
          3,
          4,
          5,
          6,
          7,
          8,
          9,
          10
         ],
         "y": [
          0.07209245508214496,
          0.07209245508214496,
          0.052380357277018806,
          0.048061636721429976,
          0.048061636721429976,
          0.045009243774815855,
          0.04265065796464749,
          0.04073086405116309,
          0.03911382967447727,
          0.029896137801158754
         ]
        },
        {
         "hovertext": "<b>Topic 2</b>:thank_you_congrats_makasih_thanks_t",
         "line": {
          "color": "black",
          "width": 1.5
         },
         "mode": "lines+lines",
         "name": "",
         "opacity": 0.1,
         "type": "scatter",
         "x": [
          1,
          2,
          3,
          4,
          5,
          6,
          7,
          8,
          9,
          10
         ],
         "y": [
          0.1785276448898596,
          0.12853567111493158,
          0.08697838039778023,
          0.0818456810865621,
          0.07466376457704672,
          0.07466376457704672,
          0.06301449910276191,
          0.04877528125476323,
          0.04444662842345644,
          0.04014729534514659
         ]
        },
        {
         "hovertext": "<b>Topic 3</b>:menti_leave_yg_ngobrolin_canda_kak_",
         "line": {
          "color": "black",
          "width": 1.5
         },
         "mode": "lines+lines",
         "name": "",
         "opacity": 0.1,
         "type": "scatter",
         "x": [
          1,
          2,
          3,
          4,
          5,
          6,
          7,
          8,
          9,
          10
         ],
         "y": [
          0.043144721365631584,
          0.031083116369241638,
          0.028799293881142583,
          0.02411570904337994,
          0.02411570904337994,
          0.023143439637274655,
          0.022428012935151256,
          0.022135509821755037,
          0.022127387203430632,
          0.022127387203430632
         ]
        },
        {
         "hovertext": "<b>Topic 4</b>:aku_lg_jg_bs_juga_ngurus_out_sm_sih",
         "line": {
          "color": "black",
          "width": 1.5
         },
         "mode": "lines+lines",
         "name": "",
         "opacity": 0.1,
         "type": "scatter",
         "x": [
          1,
          2,
          3,
          4,
          5,
          6,
          7,
          8,
          9,
          10
         ],
         "y": [
          0.12879830334284295,
          0.03523368326560661,
          0.0311133383099521,
          0.029178498607430905,
          0.02660709101539964,
          0.026050124207287424,
          0.026050124207287424,
          0.02489067064796168,
          0.02434917475226737,
          0.023902311310657686
         ]
        },
        {
         "hovertext": "<b>Topic 5</b>:jam_game_as_besok_telat_by_week_big",
         "line": {
          "color": "black",
          "width": 1.5
         },
         "mode": "lines+lines",
         "name": "",
         "opacity": 0.1,
         "type": "scatter",
         "x": [
          1,
          2,
          3,
          4,
          5,
          6,
          7,
          8,
          9,
          10
         ],
         "y": [
          0.05599883974399228,
          0.05059655089574809,
          0.04669293998962281,
          0.04350366247516263,
          0.03286648539042722,
          0.031513896478853304,
          0.030262780031001545,
          0.027859298975426782,
          0.027859298975426782,
          0.027369663614992528
         ]
        },
        {
         "hovertext": "<b>Topic 6</b>:kelas_lecture_pre_student_hari_file",
         "line": {
          "color": "black",
          "width": 1.5
         },
         "mode": "lines+lines",
         "name": "",
         "opacity": 0.1,
         "type": "scatter",
         "x": [
          1,
          2,
          3,
          4,
          5,
          6,
          7,
          8,
          9,
          10
         ],
         "y": [
          0.08361406938942496,
          0.06744959797784386,
          0.05018502629463419,
          0.032419659119412324,
          0.030405116141609075,
          0.029327254644822297,
          0.029327254644822297,
          0.02918400726443351,
          0.02584085768730281,
          0.025810843315169137
         ]
        },
        {
         "hovertext": "<b>Topic 7</b>:keren_ok_hebat_banget_bagus_bgt_iya",
         "line": {
          "color": "black",
          "width": 1.5
         },
         "mode": "lines+lines",
         "name": "",
         "opacity": 0.1,
         "type": "scatter",
         "x": [
          1,
          2,
          3,
          4,
          5,
          6,
          7,
          8,
          9,
          10
         ],
         "y": [
          0.12670219620143586,
          0.09797994900618431,
          0.07474749412603346,
          0.07421933740694525,
          0.06495689570939973,
          0.06116753377687007,
          0.05067218347260161,
          0.045094885199501986,
          0.03810150816904767,
          0.03810150816904767
         ]
        },
        {
         "hovertext": "<b>Topic 8</b>:link_ini_google_video_recording_sim",
         "line": {
          "color": "black",
          "width": 1.5
         },
         "mode": "lines+lines",
         "name": "",
         "opacity": 0.1,
         "type": "scatter",
         "x": [
          1,
          2,
          3,
          4,
          5,
          6,
          7,
          8,
          9,
          10
         ],
         "y": [
          0.09956268259184672,
          0.04953055038846551,
          0.045371155122655576,
          0.04476855263163501,
          0.03181693468485735,
          0.030384788957953216,
          0.028965073692545695,
          0.028137490241072836,
          0.027186254550478052,
          0.026050124207287424
         ]
        },
        {
         "hovertext": "<b>Topic 9</b>:absen_gak_lupa_jangan_oiya_titip_is",
         "line": {
          "color": "black",
          "width": 1.5
         },
         "mode": "lines+lines",
         "name": "",
         "opacity": 0.1,
         "type": "scatter",
         "x": [
          1,
          2,
          3,
          4,
          5,
          6,
          7,
          8,
          9,
          10
         ],
         "y": [
          0.2032721285122321,
          0.0888486789264238,
          0.061491017414718,
          0.050563154161836536,
          0.04349440381038168,
          0.04349440381038168,
          0.03992667354456023,
          0.03990832334904453,
          0.038907293374364195,
          0.0374461714522254
         ]
        },
        {
         "hovertext": "<b>Topic 10</b>:data_kita_sql_nilai_datacamp_axis_",
         "line": {
          "color": "black",
          "width": 1.5
         },
         "mode": "lines+lines",
         "name": "",
         "opacity": 0.1,
         "type": "scatter",
         "x": [
          1,
          2,
          3,
          4,
          5,
          6,
          7,
          8,
          9,
          10
         ],
         "y": [
          0.045940574443062265,
          0.039954116339985066,
          0.037957044887198234,
          0.03247619524569031,
          0.03207941781167216,
          0.03207941781167216,
          0.030042055055439287,
          0.026107077701385543,
          0.026079500488059827,
          0.02330800586967822
         ]
        },
        {
         "hovertext": "<b>Topic 11</b>:alex_mirza_aris_ely_alit_gor_fawaz",
         "line": {
          "color": "black",
          "width": 1.5
         },
         "mode": "lines+lines",
         "name": "",
         "opacity": 0.1,
         "type": "scatter",
         "x": [
          1,
          2,
          3,
          4,
          5,
          6,
          7,
          8,
          9,
          10
         ],
         "y": [
          0.17256883908087703,
          0.16007835462966333,
          0.14050280687025918,
          0.14021218175321257,
          0.1263734663956095,
          0.11530469089568068,
          0.10704196272323246,
          0.09944087226899846,
          0.0615685979344859,
          0.06043203005685127
         ]
        },
        {
         "hovertext": "<b>Topic 12</b>:wkwkwkwk_kwkwkwkw_wkwkkwkwkw_ae_kw",
         "line": {
          "color": "black",
          "width": 1.5
         },
         "mode": "lines+lines",
         "name": "",
         "opacity": 0.1,
         "type": "scatter",
         "x": [
          1,
          2,
          3,
          4,
          5,
          6,
          7,
          8,
          9,
          10
         ],
         "y": [
          0.16069997001630332,
          0.15314120747772708,
          0.10901785890470701,
          0.10901785890470701,
          0.08555627113952229,
          0.06781319062214058,
          0.06781319062214058,
          0.06781319062214058,
          0.06781319062214058,
          0.06781319062214058
         ]
        },
        {
         "hovertext": "<b>Topic 13</b>:kajal_kak_ichsan_ga_bangun_jal_can",
         "line": {
          "color": "black",
          "width": 1.5
         },
         "mode": "lines+lines",
         "name": "",
         "opacity": 0.1,
         "type": "scatter",
         "x": [
          1,
          2,
          3,
          4,
          5,
          6,
          7,
          8,
          9,
          10
         ],
         "y": [
          0.22511937431962795,
          0.06628819293483842,
          0.0477468601925498,
          0.041230716209683466,
          0.041195688618368545,
          0.03788725202960655,
          0.0323300195089439,
          0.0323300195089439,
          0.0323300195089439,
          0.028026292247322216
         ]
        },
        {
         "hovertext": "<b>Topic 14</b>:jal_kak_jalita_tuh_telfon_selamat_",
         "line": {
          "color": "black",
          "width": 1.5
         },
         "mode": "lines+lines",
         "name": "",
         "opacity": 0.1,
         "type": "scatter",
         "x": [
          1,
          2,
          3,
          4,
          5,
          6,
          7,
          8,
          9,
          10
         ],
         "y": [
          0.15249618941916637,
          0.08410314478607625,
          0.06130751429101735,
          0.04250773400431249,
          0.039285267957764096,
          0.03245784840150238,
          0.02992978607547268,
          0.02815255289013408,
          0.027284357021990547,
          0.02654940553715962
         ]
        },
        {
         "hovertext": "<b>Topic 15</b>:team_tim_lead_section_setiap_one_d",
         "line": {
          "color": "black",
          "width": 1.5
         },
         "mode": "lines+lines",
         "name": "",
         "opacity": 0.1,
         "type": "scatter",
         "x": [
          1,
          2,
          3,
          4,
          5,
          6,
          7,
          8,
          9,
          10
         ],
         "y": [
          0.19416251198145232,
          0.1107809132255029,
          0.06475936637897496,
          0.04742984335160588,
          0.03648760991912643,
          0.034170283029043874,
          0.03227117765225356,
          0.03171755712790808,
          0.027704182883058266,
          0.024823287419056823
         ]
        },
        {
         "hovertext": "<b>Topic 16</b>:ale_freak_ih_gila_kajal_wkkkkwkwkw",
         "line": {
          "color": "black",
          "width": 1.5
         },
         "mode": "lines+lines",
         "name": "",
         "opacity": 0.1,
         "type": "scatter",
         "x": [
          1,
          2,
          3,
          4,
          5,
          6,
          7,
          8,
          9,
          10
         ],
         "y": [
          0.18603820760257217,
          0.10825273837250553,
          0.08417711903907038,
          0.08083524799391968,
          0.07486728617219811,
          0.06178535145572809,
          0.06178535145572809,
          0.06178535145572809,
          0.06178535145572809,
          0.06178535145572809
         ]
        },
        {
         "hovertext": "<b>Topic 17</b>:hahahha_hahahaha_hahaha_hahahahah_",
         "line": {
          "color": "black",
          "width": 1.5
         },
         "mode": "lines+lines",
         "name": "",
         "opacity": 0.1,
         "type": "scatter",
         "x": [
          1,
          2,
          3,
          4,
          5,
          6,
          7,
          8,
          9,
          10
         ],
         "y": [
          0.3924243441616757,
          0.2616162294411171,
          0.1856509040981063,
          0.17377130096923524,
          0.17377130096923524,
          0.17377130096923524,
          0.17377130096923524,
          0.17377130096923524,
          0.17377130096923524,
          0.17377130096923524
         ]
        },
        {
         "hovertext": "<b>Topic 18</b>:kalian_si_angkatan_sibuk_kamu_dia_",
         "line": {
          "color": "black",
          "width": 1.5
         },
         "mode": "lines+lines",
         "name": "",
         "opacity": 0.1,
         "type": "scatter",
         "x": [
          1,
          2,
          3,
          4,
          5,
          6,
          7,
          8,
          9,
          10
         ],
         "y": [
          0.09517770195169231,
          0.08706780388053198,
          0.07512154983349559,
          0.07512154983349559,
          0.058954741457485936,
          0.055329853556433495,
          0.05239012052254959,
          0.04992293219444875,
          0.04672841706735737,
          0.04672841706735737
         ]
        },
        {
         "hovertext": "<b>Topic 19</b>:wkwkkwkw_wkwkwkwkwk_wkwkwkkwkw_wkw",
         "line": {
          "color": "black",
          "width": 1.5
         },
         "mode": "lines+lines",
         "name": "",
         "opacity": 0.1,
         "type": "scatter",
         "x": [
          1,
          2,
          3,
          4,
          5,
          6,
          7,
          8,
          9,
          10
         ],
         "y": [
          0.40837655327393896,
          0.3548864546074523,
          0.21803571780941403,
          0.19348835076644957,
          0.192839964019564,
          0.1483342784797298,
          0.13562638124428117,
          0.13562638124428117,
          0.13562638124428117,
          0.13562638124428117
         ]
        },
        {
         "hovertext": "<b>Topic 20</b>:apa_masuknya_apantu_beda_beneran_b",
         "line": {
          "color": "black",
          "width": 1.5
         },
         "mode": "lines+lines",
         "name": "",
         "opacity": 0.1,
         "type": "scatter",
         "x": [
          1,
          2,
          3,
          4,
          5,
          6,
          7,
          8,
          9,
          10
         ],
         "y": [
          0.11462191269815411,
          0.11121363262031056,
          0.11121363262031056,
          0.11121363262031056,
          0.11121363262031056,
          0.11121363262031056,
          0.11121363262031056,
          0.11121363262031056,
          0.11121363262031056,
          0.11121363262031056
         ]
        },
        {
         "hovertext": "<b>Topic 21</b>:discord_habis_kelas_yukkk_blank_re",
         "line": {
          "color": "black",
          "width": 1.5
         },
         "mode": "lines+lines",
         "name": "",
         "opacity": 0.1,
         "type": "scatter",
         "x": [
          1,
          2,
          3,
          4,
          5,
          6,
          7,
          8,
          9,
          10
         ],
         "y": [
          0.4424421186761072,
          0.11066616532091209,
          0.06704823844814066,
          0.060442191641473124,
          0.060442191641473124,
          0.060442191641473124,
          0.060442191641473124,
          0.060442191641473124,
          0.060442191641473124,
          0.060442191641473124
         ]
        },
        {
         "hovertext": "<b>Topic 22</b>:udh_gua_sumit_kaliaaan_rikaaaaa_se",
         "line": {
          "color": "black",
          "width": 1.5
         },
         "mode": "lines+lines",
         "name": "",
         "opacity": 0.1,
         "type": "scatter",
         "x": [
          1,
          2,
          3,
          4,
          5,
          6,
          7,
          8,
          9,
          10
         ],
         "y": [
          0.15106488167114032,
          0.13186604598372892,
          0.11348329859215361,
          0.11348329859215361,
          0.11348329859215361,
          0.11348329859215361,
          0.11348329859215361,
          0.11348329859215361,
          0.11348329859215361,
          0.11348329859215361
         ]
        },
        {
         "hovertext": "<b>Topic 23</b>:happy_birthday_tahun_ulang_adit_ka",
         "line": {
          "color": "black",
          "width": 1.5
         },
         "mode": "lines+lines",
         "name": "",
         "opacity": 0.1,
         "type": "scatter",
         "x": [
          1,
          2,
          3,
          4,
          5,
          6,
          7,
          8,
          9,
          10
         ],
         "y": [
          0.5150347061997864,
          0.5102288920028992,
          0.1943361832649125,
          0.15251335290088755,
          0.10979624222487441,
          0.08068029289910027,
          0.0805895888552975,
          0.0805895888552975,
          0.0805895888552975,
          0.0805895888552975
         ]
        },
        {
         "hovertext": "<b>Topic 24</b>:kek_keknya_tiap_terakhir_bisa_aja_",
         "line": {
          "color": "black",
          "width": 1.5
         },
         "mode": "lines+lines",
         "name": "",
         "opacity": 0.1,
         "type": "scatter",
         "x": [
          1,
          2,
          3,
          4,
          5,
          6,
          7,
          8,
          9,
          10
         ],
         "y": [
          0.26409799138962364,
          0.1878332408309835,
          0.06556216844152424,
          0.06556216844152424,
          0.05115909119722357,
          0.0477346602547626,
          0.04595604653731841,
          0.04595604653731841,
          0.04595604653731841,
          0.04595604653731841
         ]
        },
        {
         "hovertext": "<b>Topic 25</b>:iyaa_yuhuuu_yezzzzz_yez_yeay_yuhuu",
         "line": {
          "color": "black",
          "width": 1.5
         },
         "mode": "lines+lines",
         "name": "",
         "opacity": 0.1,
         "type": "scatter",
         "x": [
          1,
          2,
          3,
          4,
          5,
          6,
          7,
          8,
          9,
          10
         ],
         "y": [
          0.6835477424202023,
          0.3270989194715016,
          0.3270989194715016,
          0.3270989194715016,
          0.3270989194715016,
          0.3270989194715016,
          0.3270989194715016,
          0.3270989194715016,
          0.3270989194715016,
          0.28655136628016165
         ]
        },
        {
         "hovertext": "<b>Topic 26</b>:kasih_teman_semangat_biar_tau_kend",
         "line": {
          "color": "black",
          "width": 1.5
         },
         "mode": "lines+lines",
         "name": "",
         "opacity": 0.1,
         "type": "scatter",
         "x": [
          1,
          2,
          3,
          4,
          5,
          6,
          7,
          8,
          9,
          10
         ],
         "y": [
          0.1322316878172964,
          0.09513317434222442,
          0.07482105196835893,
          0.07342541196821269,
          0.07255335360849777,
          0.06318956398881281,
          0.06318956398881281,
          0.06318956398881281,
          0.06318956398881281,
          0.06318956398881281
         ]
        },
        {
         "hovertext": "<b>Topic 27</b>:foundation_deadline_59_23_intermed",
         "line": {
          "color": "black",
          "width": 1.5
         },
         "mode": "lines+lines",
         "name": "",
         "opacity": 0.1,
         "type": "scatter",
         "x": [
          1,
          2,
          3,
          4,
          5,
          6,
          7,
          8,
          9,
          10
         ],
         "y": [
          0.19397131431515177,
          0.11022988362807229,
          0.10147538596503937,
          0.09615784704756887,
          0.07758852572606072,
          0.059046948203184825,
          0.05417857230415742,
          0.05417857230415742,
          0.05417857230415742,
          0.050737692982519685
         ]
        },
        {
         "hovertext": "<b>Topic 28</b>:bisa_banyak_ekkekw_ngmngnya_memuas",
         "line": {
          "color": "black",
          "width": 1.5
         },
         "mode": "lines+lines",
         "name": "",
         "opacity": 0.1,
         "type": "scatter",
         "x": [
          1,
          2,
          3,
          4,
          5,
          6,
          7,
          8,
          9,
          10
         ],
         "y": [
          0.1059974321038365,
          0.08540307318059454,
          0.07617372097281544,
          0.07617372097281544,
          0.07617372097281544,
          0.07617372097281544,
          0.07617372097281544,
          0.07617372097281544,
          0.07617372097281544,
          0.07617372097281544
         ]
        },
        {
         "hovertext": "<b>Topic 29</b>:lagii_advance_adaptasi_iklannya_si",
         "line": {
          "color": "black",
          "width": 1.5
         },
         "mode": "lines+lines",
         "name": "",
         "opacity": 0.1,
         "type": "scatter",
         "x": [
          1,
          2,
          3,
          4,
          5,
          6,
          7,
          8,
          9,
          10
         ],
         "y": [
          0.08968841340347625,
          0.08968841340347625,
          0.08968841340347625,
          0.08968841340347625,
          0.08968841340347625,
          0.08968841340347625,
          0.08968841340347625,
          0.08968841340347625,
          0.08968841340347625,
          0.08968841340347625
         ]
        },
        {
         "hovertext": "<b>Topic 30</b>:python_p2p_phase_isi_ini_gfp_ngisi",
         "line": {
          "color": "black",
          "width": 1.5
         },
         "mode": "lines+lines",
         "name": "",
         "opacity": 0.1,
         "type": "scatter",
         "x": [
          1,
          2,
          3,
          4,
          5,
          6,
          7,
          8,
          9,
          10
         ],
         "y": [
          0.265240657480049,
          0.18945761248574927,
          0.12395347470975675,
          0.1164527978383007,
          0.0689152747220465,
          0.06052245636012208,
          0.05792376698974508,
          0.05792376698974508,
          0.05792376698974508,
          0.05792376698974508
         ]
        },
        {
         "hovertext": "<b>Topic 31</b>:makan_enak_akhirny_go_sarapan_lgi_",
         "line": {
          "color": "black",
          "width": 1.5
         },
         "mode": "lines+lines",
         "name": "",
         "opacity": 0.1,
         "type": "scatter",
         "x": [
          1,
          2,
          3,
          4,
          5,
          6,
          7,
          8,
          9,
          10
         ],
         "y": [
          0.5833004640269992,
          0.24704154500596742,
          0.12088438328294625,
          0.12088438328294625,
          0.12088438328294625,
          0.12088438328294625,
          0.12088438328294625,
          0.12088438328294625,
          0.12088438328294625,
          0.12088438328294625
         ]
        },
        {
         "hovertext": "<b>Topic 32</b>:oke_up_ok_alrightyyy_okay_____",
         "line": {
          "color": "black",
          "width": 1.5
         },
         "mode": "lines+lines",
         "name": "",
         "opacity": 0.1,
         "type": "scatter",
         "x": [
          1,
          2,
          3,
          4,
          5,
          6,
          7,
          8,
          9,
          10
         ],
         "y": [
          0.9112152494303913,
          0.9093965399315964,
          0.8230315716519483,
          0.46339013591796063,
          0.37247768459108227,
          0.00001,
          0.00001,
          0.00001,
          0.00001,
          0.00001
         ]
        },
        {
         "hovertext": "<b>Topic 33</b>:tl_simulation_27_rangkap_rabu_janu",
         "line": {
          "color": "black",
          "width": 1.5
         },
         "mode": "lines+lines",
         "name": "",
         "opacity": 0.1,
         "type": "scatter",
         "x": [
          1,
          2,
          3,
          4,
          5,
          6,
          7,
          8,
          9,
          10
         ],
         "y": [
          0.20884573946585433,
          0.1993266510027559,
          0.06619859084542294,
          0.06619859084542294,
          0.06619859084542294,
          0.06619859084542294,
          0.06619859084542294,
          0.06619859084542294,
          0.06619859084542294,
          0.06619859084542294
         ]
        },
        {
         "hovertext": "<b>Topic 34</b>:laptop_desktop_internet_wifi_gw_pc",
         "line": {
          "color": "black",
          "width": 1.5
         },
         "mode": "lines+lines",
         "name": "",
         "opacity": 0.1,
         "type": "scatter",
         "x": [
          1,
          2,
          3,
          4,
          5,
          6,
          7,
          8,
          9,
          10
         ],
         "y": [
          0.1476173705079621,
          0.1476173705079621,
          0.1476173705079621,
          0.1476173705079621,
          0.13544643076039356,
          0.11478698050782325,
          0.08425275198508375,
          0.08425275198508375,
          0.08425275198508375,
          0.08425275198508375
         ]
        },
        {
         "hovertext": "<b>Topic 35</b>:tidur_malam_goodnight_bomat_keatas",
         "line": {
          "color": "black",
          "width": 1.5
         },
         "mode": "lines+lines",
         "name": "",
         "opacity": 0.1,
         "type": "scatter",
         "x": [
          1,
          2,
          3,
          4,
          5,
          6,
          7,
          8,
          9,
          10
         ],
         "y": [
          0.4161805053736084,
          0.20168700969723133,
          0.16513129582246605,
          0.09424884120365301,
          0.09424884120365301,
          0.09424884120365301,
          0.09424884120365301,
          0.09424884120365301,
          0.09424884120365301,
          0.09424884120365301
         ]
        },
        {
         "hovertext": "<b>Topic 36</b>:gua_lu_sini_menduakan_datengin_nga",
         "line": {
          "color": "black",
          "width": 1.5
         },
         "mode": "lines+lines",
         "name": "",
         "opacity": 0.1,
         "type": "scatter",
         "x": [
          1,
          2,
          3,
          4,
          5,
          6,
          7,
          8,
          9,
          10
         ],
         "y": [
          0.32716132927608693,
          0.10380933221358889,
          0.08102599205569631,
          0.07038837507614591,
          0.07038837507614591,
          0.07038837507614591,
          0.07038837507614591,
          0.07038837507614591,
          0.07038837507614591,
          0.07038837507614591
         ]
        },
        {
         "hovertext": "<b>Topic 37</b>:gasss_gas_panas2in_option_gasssss_",
         "line": {
          "color": "black",
          "width": 1.5
         },
         "mode": "lines+lines",
         "name": "",
         "opacity": 0.1,
         "type": "scatter",
         "x": [
          1,
          2,
          3,
          4,
          5,
          6,
          7,
          8,
          9,
          10
         ],
         "y": [
          0.44046166939048453,
          0.3946235352528648,
          0.2265754989191976,
          0.2265754989191976,
          0.12931817746547739,
          0.12931817746547739,
          0.12931817746547739,
          0.12931817746547739,
          0.12931817746547739,
          0.12931817746547739
         ]
        },
        {
         "hovertext": "<b>Topic 38</b>:duit_gaji_pengen_20_kutunggu_uangn",
         "line": {
          "color": "black",
          "width": 1.5
         },
         "mode": "lines+lines",
         "name": "",
         "opacity": 0.1,
         "type": "scatter",
         "x": [
          1,
          2,
          3,
          4,
          5,
          6,
          7,
          8,
          9,
          10
         ],
         "y": [
          0.18042123062084253,
          0.16554563759603658,
          0.11545230263302594,
          0.1029755857595468,
          0.1029755857595468,
          0.1029755857595468,
          0.1029755857595468,
          0.1029755857595468,
          0.1029755857595468,
          0.1029755857595468
         ]
        }
       ],
       "layout": {
        "height": 500,
        "hoverlabel": {
         "bgcolor": "white",
         "font": {
          "family": "Rockwell",
          "size": 16
         }
        },
        "showlegend": false,
        "template": {
         "data": {
          "bar": [
           {
            "error_x": {
             "color": "#2a3f5f"
            },
            "error_y": {
             "color": "#2a3f5f"
            },
            "marker": {
             "line": {
              "color": "white",
              "width": 0.5
             }
            },
            "type": "bar"
           }
          ],
          "barpolar": [
           {
            "marker": {
             "line": {
              "color": "white",
              "width": 0.5
             }
            },
            "type": "barpolar"
           }
          ],
          "carpet": [
           {
            "aaxis": {
             "endlinecolor": "#2a3f5f",
             "gridcolor": "#C8D4E3",
             "linecolor": "#C8D4E3",
             "minorgridcolor": "#C8D4E3",
             "startlinecolor": "#2a3f5f"
            },
            "baxis": {
             "endlinecolor": "#2a3f5f",
             "gridcolor": "#C8D4E3",
             "linecolor": "#C8D4E3",
             "minorgridcolor": "#C8D4E3",
             "startlinecolor": "#2a3f5f"
            },
            "type": "carpet"
           }
          ],
          "choropleth": [
           {
            "colorbar": {
             "outlinewidth": 0,
             "ticks": ""
            },
            "type": "choropleth"
           }
          ],
          "contour": [
           {
            "colorbar": {
             "outlinewidth": 0,
             "ticks": ""
            },
            "colorscale": [
             [
              0,
              "#0d0887"
             ],
             [
              0.1111111111111111,
              "#46039f"
             ],
             [
              0.2222222222222222,
              "#7201a8"
             ],
             [
              0.3333333333333333,
              "#9c179e"
             ],
             [
              0.4444444444444444,
              "#bd3786"
             ],
             [
              0.5555555555555556,
              "#d8576b"
             ],
             [
              0.6666666666666666,
              "#ed7953"
             ],
             [
              0.7777777777777778,
              "#fb9f3a"
             ],
             [
              0.8888888888888888,
              "#fdca26"
             ],
             [
              1,
              "#f0f921"
             ]
            ],
            "type": "contour"
           }
          ],
          "contourcarpet": [
           {
            "colorbar": {
             "outlinewidth": 0,
             "ticks": ""
            },
            "type": "contourcarpet"
           }
          ],
          "heatmap": [
           {
            "colorbar": {
             "outlinewidth": 0,
             "ticks": ""
            },
            "colorscale": [
             [
              0,
              "#0d0887"
             ],
             [
              0.1111111111111111,
              "#46039f"
             ],
             [
              0.2222222222222222,
              "#7201a8"
             ],
             [
              0.3333333333333333,
              "#9c179e"
             ],
             [
              0.4444444444444444,
              "#bd3786"
             ],
             [
              0.5555555555555556,
              "#d8576b"
             ],
             [
              0.6666666666666666,
              "#ed7953"
             ],
             [
              0.7777777777777778,
              "#fb9f3a"
             ],
             [
              0.8888888888888888,
              "#fdca26"
             ],
             [
              1,
              "#f0f921"
             ]
            ],
            "type": "heatmap"
           }
          ],
          "heatmapgl": [
           {
            "colorbar": {
             "outlinewidth": 0,
             "ticks": ""
            },
            "colorscale": [
             [
              0,
              "#0d0887"
             ],
             [
              0.1111111111111111,
              "#46039f"
             ],
             [
              0.2222222222222222,
              "#7201a8"
             ],
             [
              0.3333333333333333,
              "#9c179e"
             ],
             [
              0.4444444444444444,
              "#bd3786"
             ],
             [
              0.5555555555555556,
              "#d8576b"
             ],
             [
              0.6666666666666666,
              "#ed7953"
             ],
             [
              0.7777777777777778,
              "#fb9f3a"
             ],
             [
              0.8888888888888888,
              "#fdca26"
             ],
             [
              1,
              "#f0f921"
             ]
            ],
            "type": "heatmapgl"
           }
          ],
          "histogram": [
           {
            "marker": {
             "colorbar": {
              "outlinewidth": 0,
              "ticks": ""
             }
            },
            "type": "histogram"
           }
          ],
          "histogram2d": [
           {
            "colorbar": {
             "outlinewidth": 0,
             "ticks": ""
            },
            "colorscale": [
             [
              0,
              "#0d0887"
             ],
             [
              0.1111111111111111,
              "#46039f"
             ],
             [
              0.2222222222222222,
              "#7201a8"
             ],
             [
              0.3333333333333333,
              "#9c179e"
             ],
             [
              0.4444444444444444,
              "#bd3786"
             ],
             [
              0.5555555555555556,
              "#d8576b"
             ],
             [
              0.6666666666666666,
              "#ed7953"
             ],
             [
              0.7777777777777778,
              "#fb9f3a"
             ],
             [
              0.8888888888888888,
              "#fdca26"
             ],
             [
              1,
              "#f0f921"
             ]
            ],
            "type": "histogram2d"
           }
          ],
          "histogram2dcontour": [
           {
            "colorbar": {
             "outlinewidth": 0,
             "ticks": ""
            },
            "colorscale": [
             [
              0,
              "#0d0887"
             ],
             [
              0.1111111111111111,
              "#46039f"
             ],
             [
              0.2222222222222222,
              "#7201a8"
             ],
             [
              0.3333333333333333,
              "#9c179e"
             ],
             [
              0.4444444444444444,
              "#bd3786"
             ],
             [
              0.5555555555555556,
              "#d8576b"
             ],
             [
              0.6666666666666666,
              "#ed7953"
             ],
             [
              0.7777777777777778,
              "#fb9f3a"
             ],
             [
              0.8888888888888888,
              "#fdca26"
             ],
             [
              1,
              "#f0f921"
             ]
            ],
            "type": "histogram2dcontour"
           }
          ],
          "mesh3d": [
           {
            "colorbar": {
             "outlinewidth": 0,
             "ticks": ""
            },
            "type": "mesh3d"
           }
          ],
          "parcoords": [
           {
            "line": {
             "colorbar": {
              "outlinewidth": 0,
              "ticks": ""
             }
            },
            "type": "parcoords"
           }
          ],
          "pie": [
           {
            "automargin": true,
            "type": "pie"
           }
          ],
          "scatter": [
           {
            "marker": {
             "colorbar": {
              "outlinewidth": 0,
              "ticks": ""
             }
            },
            "type": "scatter"
           }
          ],
          "scatter3d": [
           {
            "line": {
             "colorbar": {
              "outlinewidth": 0,
              "ticks": ""
             }
            },
            "marker": {
             "colorbar": {
              "outlinewidth": 0,
              "ticks": ""
             }
            },
            "type": "scatter3d"
           }
          ],
          "scattercarpet": [
           {
            "marker": {
             "colorbar": {
              "outlinewidth": 0,
              "ticks": ""
             }
            },
            "type": "scattercarpet"
           }
          ],
          "scattergeo": [
           {
            "marker": {
             "colorbar": {
              "outlinewidth": 0,
              "ticks": ""
             }
            },
            "type": "scattergeo"
           }
          ],
          "scattergl": [
           {
            "marker": {
             "colorbar": {
              "outlinewidth": 0,
              "ticks": ""
             }
            },
            "type": "scattergl"
           }
          ],
          "scattermapbox": [
           {
            "marker": {
             "colorbar": {
              "outlinewidth": 0,
              "ticks": ""
             }
            },
            "type": "scattermapbox"
           }
          ],
          "scatterpolar": [
           {
            "marker": {
             "colorbar": {
              "outlinewidth": 0,
              "ticks": ""
             }
            },
            "type": "scatterpolar"
           }
          ],
          "scatterpolargl": [
           {
            "marker": {
             "colorbar": {
              "outlinewidth": 0,
              "ticks": ""
             }
            },
            "type": "scatterpolargl"
           }
          ],
          "scatterternary": [
           {
            "marker": {
             "colorbar": {
              "outlinewidth": 0,
              "ticks": ""
             }
            },
            "type": "scatterternary"
           }
          ],
          "surface": [
           {
            "colorbar": {
             "outlinewidth": 0,
             "ticks": ""
            },
            "colorscale": [
             [
              0,
              "#0d0887"
             ],
             [
              0.1111111111111111,
              "#46039f"
             ],
             [
              0.2222222222222222,
              "#7201a8"
             ],
             [
              0.3333333333333333,
              "#9c179e"
             ],
             [
              0.4444444444444444,
              "#bd3786"
             ],
             [
              0.5555555555555556,
              "#d8576b"
             ],
             [
              0.6666666666666666,
              "#ed7953"
             ],
             [
              0.7777777777777778,
              "#fb9f3a"
             ],
             [
              0.8888888888888888,
              "#fdca26"
             ],
             [
              1,
              "#f0f921"
             ]
            ],
            "type": "surface"
           }
          ],
          "table": [
           {
            "cells": {
             "fill": {
              "color": "#EBF0F8"
             },
             "line": {
              "color": "white"
             }
            },
            "header": {
             "fill": {
              "color": "#C8D4E3"
             },
             "line": {
              "color": "white"
             }
            },
            "type": "table"
           }
          ]
         },
         "layout": {
          "annotationdefaults": {
           "arrowcolor": "#2a3f5f",
           "arrowhead": 0,
           "arrowwidth": 1
          },
          "autotypenumbers": "strict",
          "coloraxis": {
           "colorbar": {
            "outlinewidth": 0,
            "ticks": ""
           }
          },
          "colorscale": {
           "diverging": [
            [
             0,
             "#8e0152"
            ],
            [
             0.1,
             "#c51b7d"
            ],
            [
             0.2,
             "#de77ae"
            ],
            [
             0.3,
             "#f1b6da"
            ],
            [
             0.4,
             "#fde0ef"
            ],
            [
             0.5,
             "#f7f7f7"
            ],
            [
             0.6,
             "#e6f5d0"
            ],
            [
             0.7,
             "#b8e186"
            ],
            [
             0.8,
             "#7fbc41"
            ],
            [
             0.9,
             "#4d9221"
            ],
            [
             1,
             "#276419"
            ]
           ],
           "sequential": [
            [
             0,
             "#0d0887"
            ],
            [
             0.1111111111111111,
             "#46039f"
            ],
            [
             0.2222222222222222,
             "#7201a8"
            ],
            [
             0.3333333333333333,
             "#9c179e"
            ],
            [
             0.4444444444444444,
             "#bd3786"
            ],
            [
             0.5555555555555556,
             "#d8576b"
            ],
            [
             0.6666666666666666,
             "#ed7953"
            ],
            [
             0.7777777777777778,
             "#fb9f3a"
            ],
            [
             0.8888888888888888,
             "#fdca26"
            ],
            [
             1,
             "#f0f921"
            ]
           ],
           "sequentialminus": [
            [
             0,
             "#0d0887"
            ],
            [
             0.1111111111111111,
             "#46039f"
            ],
            [
             0.2222222222222222,
             "#7201a8"
            ],
            [
             0.3333333333333333,
             "#9c179e"
            ],
            [
             0.4444444444444444,
             "#bd3786"
            ],
            [
             0.5555555555555556,
             "#d8576b"
            ],
            [
             0.6666666666666666,
             "#ed7953"
            ],
            [
             0.7777777777777778,
             "#fb9f3a"
            ],
            [
             0.8888888888888888,
             "#fdca26"
            ],
            [
             1,
             "#f0f921"
            ]
           ]
          },
          "colorway": [
           "#636efa",
           "#EF553B",
           "#00cc96",
           "#ab63fa",
           "#FFA15A",
           "#19d3f3",
           "#FF6692",
           "#B6E880",
           "#FF97FF",
           "#FECB52"
          ],
          "font": {
           "color": "#2a3f5f"
          },
          "geo": {
           "bgcolor": "white",
           "lakecolor": "white",
           "landcolor": "white",
           "showlakes": true,
           "showland": true,
           "subunitcolor": "#C8D4E3"
          },
          "hoverlabel": {
           "align": "left"
          },
          "hovermode": "closest",
          "mapbox": {
           "style": "light"
          },
          "paper_bgcolor": "white",
          "plot_bgcolor": "white",
          "polar": {
           "angularaxis": {
            "gridcolor": "#EBF0F8",
            "linecolor": "#EBF0F8",
            "ticks": ""
           },
           "bgcolor": "white",
           "radialaxis": {
            "gridcolor": "#EBF0F8",
            "linecolor": "#EBF0F8",
            "ticks": ""
           }
          },
          "scene": {
           "xaxis": {
            "backgroundcolor": "white",
            "gridcolor": "#DFE8F3",
            "gridwidth": 2,
            "linecolor": "#EBF0F8",
            "showbackground": true,
            "ticks": "",
            "zerolinecolor": "#EBF0F8"
           },
           "yaxis": {
            "backgroundcolor": "white",
            "gridcolor": "#DFE8F3",
            "gridwidth": 2,
            "linecolor": "#EBF0F8",
            "showbackground": true,
            "ticks": "",
            "zerolinecolor": "#EBF0F8"
           },
           "zaxis": {
            "backgroundcolor": "white",
            "gridcolor": "#DFE8F3",
            "gridwidth": 2,
            "linecolor": "#EBF0F8",
            "showbackground": true,
            "ticks": "",
            "zerolinecolor": "#EBF0F8"
           }
          },
          "shapedefaults": {
           "line": {
            "color": "#2a3f5f"
           }
          },
          "ternary": {
           "aaxis": {
            "gridcolor": "#DFE8F3",
            "linecolor": "#A2B1C6",
            "ticks": ""
           },
           "baxis": {
            "gridcolor": "#DFE8F3",
            "linecolor": "#A2B1C6",
            "ticks": ""
           },
           "bgcolor": "white",
           "caxis": {
            "gridcolor": "#DFE8F3",
            "linecolor": "#A2B1C6",
            "ticks": ""
           }
          },
          "title": {
           "x": 0.05
          },
          "xaxis": {
           "automargin": true,
           "gridcolor": "#EBF0F8",
           "linecolor": "#EBF0F8",
           "ticks": "",
           "title": {
            "standoff": 15
           },
           "zerolinecolor": "#EBF0F8",
           "zerolinewidth": 2
          },
          "yaxis": {
           "automargin": true,
           "gridcolor": "#EBF0F8",
           "linecolor": "#EBF0F8",
           "ticks": "",
           "title": {
            "standoff": 15
           },
           "zerolinecolor": "#EBF0F8",
           "zerolinewidth": 2
          }
         }
        },
        "title": {
         "font": {
          "color": "Black",
          "size": 22
         },
         "text": "",
         "x": 0.5,
         "xanchor": "center",
         "y": 0.9,
         "yanchor": "top"
        },
        "width": 800,
        "xaxis": {
         "dtick": 2,
         "range": [
          0,
          10
         ],
         "tick0": 1,
         "title": {
          "text": "Term Rank"
         }
        },
        "yaxis": {
         "title": {
          "text": "c-TF-IDF score"
         }
        }
       }
      }
     },
     "metadata": {},
     "output_type": "display_data"
    }
   ],
   "source": [
    "fig = model.visualize_term_rank(title='')\n",
    "py.plot(fig, filename='Term score decline', auto_open=False)\n",
    "fig"
   ]
  }
 ],
 "metadata": {
  "kernelspec": {
   "display_name": "Python 3",
   "language": "python",
   "name": "python3"
  },
  "language_info": {
   "codemirror_mode": {
    "name": "ipython",
    "version": 3
   },
   "file_extension": ".py",
   "mimetype": "text/x-python",
   "name": "python",
   "nbconvert_exporter": "python",
   "pygments_lexer": "ipython3",
   "version": "3.9.2"
  },
  "orig_nbformat": 4
 },
 "nbformat": 4,
 "nbformat_minor": 2
}
